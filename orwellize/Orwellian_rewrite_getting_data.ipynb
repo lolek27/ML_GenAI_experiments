{
  "nbformat": 4,
  "nbformat_minor": 0,
  "metadata": {
    "colab": {
      "provenance": [],
      "collapsed_sections": [
        "H2bq9JkIJbvW",
        "0kvbSFyFbE91",
        "WASt-GY4LS38"
      ]
    },
    "kernelspec": {
      "name": "python3",
      "display_name": "Python 3"
    },
    "language_info": {
      "name": "python"
    }
  },
  "cells": [
    {
      "cell_type": "markdown",
      "source": [
        "#Assemble dataset of George Orwell's prose\n",
        "\n",
        "This step focuses on preparing dataset to fine tune Llama2-7B to be able to transfer the style of G. Orwell's prose onto normal, neutral sounding narrative.\n",
        "\n",
        "To achieve this we needed to accumulate a set of pairs where first element of each pair is a neutral sentence and the second element - a sentence in the style of Orwell. To do this we took pieces of his prose (sentences), neutralized it to strip it of all literary devices and evocative tone, and then matched it again with the original sentences.\n",
        "\n",
        "To neutralize it we experimented with[ Meta's Llama2-7B](https://huggingface.co/meta-llama/Llama-2-7b-hf), [Flan-T5-large](https://huggingface.co/google/flan-t5-large) and [OpenAI's GPT-3.5-turbo](https://platform.openai.com/docs/models/gpt-3-5). We experimented with a set of prompts and incontext learning to achieve this goal. The code stores just the final selected prompt.\n",
        "\n",
        "- Flan-based model didn't do well on the task of neutralizing the sentences,\n",
        "- both Llama2 and GPT-3.5 could well neutralize the tone of sentences. Eventually GPT-3.5 was used.\n",
        "\n"
      ],
      "metadata": {
        "id": "7T4PGH0ZDR2m"
      }
    },
    {
      "cell_type": "code",
      "execution_count": 5,
      "metadata": {
        "id": "EpST16qDaRhb",
        "colab": {
          "base_uri": "https://localhost:8080/"
        },
        "outputId": "c126a9e2-6f65-4a9e-e207-4c6ff049e216"
      },
      "outputs": [
        {
          "output_type": "stream",
          "name": "stdout",
          "text": [
            "\u001b[2K     \u001b[90m━━━━━━━━━━━━━━━━━━━━━━━━━━━━━━━━━━━━━━━━\u001b[0m \u001b[32m7.6/7.6 MB\u001b[0m \u001b[31m58.7 MB/s\u001b[0m eta \u001b[36m0:00:00\u001b[0m\n",
            "\u001b[2K     \u001b[90m━━━━━━━━━━━━━━━━━━━━━━━━━━━━━━━━━━━━━━\u001b[0m \u001b[32m258.1/258.1 kB\u001b[0m \u001b[31m28.4 MB/s\u001b[0m eta \u001b[36m0:00:00\u001b[0m\n",
            "\u001b[2K     \u001b[90m━━━━━━━━━━━━━━━━━━━━━━━━━━━━━━━━━━━━━━\u001b[0m \u001b[32m294.8/294.8 kB\u001b[0m \u001b[31m30.4 MB/s\u001b[0m eta \u001b[36m0:00:00\u001b[0m\n",
            "\u001b[2K     \u001b[90m━━━━━━━━━━━━━━━━━━━━━━━━━━━━━━━━━━━━━━━━\u001b[0m \u001b[32m7.8/7.8 MB\u001b[0m \u001b[31m103.1 MB/s\u001b[0m eta \u001b[36m0:00:00\u001b[0m\n",
            "\u001b[2K     \u001b[90m━━━━━━━━━━━━━━━━━━━━━━━━━━━━━━━━━━━━━━━━\u001b[0m \u001b[32m1.3/1.3 MB\u001b[0m \u001b[31m83.0 MB/s\u001b[0m eta \u001b[36m0:00:00\u001b[0m\n",
            "\u001b[?25h"
          ]
        }
      ],
      "source": [
        "!pip install -qU transformers accelerate"
      ]
    },
    {
      "cell_type": "code",
      "source": [
        "import os\n",
        "os.environ['HF_API_KEY'] = ''\n"
      ],
      "metadata": {
        "id": "Jv1tseK0hjPX"
      },
      "execution_count": null,
      "outputs": []
    },
    {
      "cell_type": "markdown",
      "source": [
        "##1. Transform dataset\n",
        "\n",
        "From Project Gutenberg we obtained the [text of George Orwell's 1984 novel ](http://gutenberg.net.au/ebooks01/0100021.txt) which consisted of about 4k sentences. We split out 5% of it for evaluation and applied some concatenation of shorter sentences, arriving at training set of 3376 utterances and 177 samples of eval set.\n"
      ],
      "metadata": {
        "id": "H2bq9JkIJbvW"
      }
    },
    {
      "cell_type": "code",
      "source": [
        "!pip install nltk"
      ],
      "metadata": {
        "colab": {
          "base_uri": "https://localhost:8080/"
        },
        "id": "mlF5fp94JnGL",
        "outputId": "059132c4-7f85-462d-d650-3fd617b1cc0d"
      },
      "execution_count": null,
      "outputs": [
        {
          "output_type": "stream",
          "name": "stdout",
          "text": [
            "Requirement already satisfied: nltk in /usr/local/lib/python3.10/dist-packages (3.8.1)\n",
            "Requirement already satisfied: click in /usr/local/lib/python3.10/dist-packages (from nltk) (8.1.7)\n",
            "Requirement already satisfied: joblib in /usr/local/lib/python3.10/dist-packages (from nltk) (1.3.2)\n",
            "Requirement already satisfied: regex>=2021.8.3 in /usr/local/lib/python3.10/dist-packages (from nltk) (2023.6.3)\n",
            "Requirement already satisfied: tqdm in /usr/local/lib/python3.10/dist-packages (from nltk) (4.66.1)\n"
          ]
        }
      ]
    },
    {
      "cell_type": "code",
      "source": [
        "import csv\n",
        "import nltk\n",
        "import pickle\n",
        "import re\n",
        "\n",
        "# download the Punkt tokenizer models for sentence splitting\n",
        "nltk.download('punkt')\n",
        "\n",
        "def txt_to_files(txt_filepath, filepath):\n",
        "    with open(txt_filepath, 'r', encoding='utf-8') as txt_file:\n",
        "        text = txt_file.read()\n",
        "\n",
        "    cleaned_text = re.sub(r'(?<!\\.)\\n', ' ', text)\n",
        "    # Use nltk to split the text into sentences\n",
        "    sentences = nltk.sent_tokenize(cleaned_text)\n",
        "    for s in sentences:\n",
        "        s.replace('\\n', '')\n",
        "\n",
        "    # Write sentences to CSV\n",
        "    with open(f'{filepath}.csv', 'w', newline='', encoding='utf-8') as csvfile:\n",
        "        writer = csv.writer(csvfile)\n",
        "\n",
        "        # Write each sentence as a new row\n",
        "        for sentence in sentences:\n",
        "            writer.writerow([sentence])\n",
        "\n",
        "    # Save sentences to pickle file\n",
        "    with open(f'{filepath}.pkl', 'wb') as pickle_file:\n",
        "        pickle.dump(sentences, pickle_file)\n",
        "\n",
        "# Usage\n",
        "txt_to_files('/content/1984_text2.txt', '/content/drive/MyDrive/ML/data/1984_sentences2')"
      ],
      "metadata": {
        "colab": {
          "base_uri": "https://localhost:8080/"
        },
        "id": "vHBtuY5mJbNb",
        "outputId": "aa9e4e2f-6a1a-4932-b233-1fc64906d0b3"
      },
      "execution_count": null,
      "outputs": [
        {
          "output_type": "stream",
          "name": "stderr",
          "text": [
            "[nltk_data] Downloading package punkt to /root/nltk_data...\n",
            "[nltk_data]   Package punkt is already up-to-date!\n"
          ]
        }
      ]
    },
    {
      "cell_type": "code",
      "source": [
        "def process_senteces(sentences):\n",
        "    '''Merge short, subsequent sentences (less than 10 words) to make less inference calls'''\n",
        "    MIN_SENTENCE_LENGTH = 10\n",
        "\n",
        "    new_sentences = []\n",
        "    i = 0\n",
        "    while i < len(sentences):\n",
        "        sentence = sentences[i]\n",
        "\n",
        "        if len(sentence.split()) > MIN_SENTENCE_LENGTH or i == len(sentences) - 1:\n",
        "            new_sentences.append(sentence)\n",
        "        else:\n",
        "            new_sentences.append(sentence + ' ' +sentences[i+1])\n",
        "            i += 1\n",
        "\n",
        "        i += 1\n",
        "\n",
        "    return new_sentences\n",
        "\n",
        "processed_sentences = process_senteces(sentences)\n",
        "len(sentences), len(processed_sentences), processed_sentences[11]\n"
      ],
      "metadata": {
        "id": "6MViLdGNfKTR"
      },
      "execution_count": null,
      "outputs": []
    },
    {
      "cell_type": "code",
      "source": [
        "with open(f'/content/drive/MyDrive/ML/data/1984_sentences.pkl', 'wb') as pickle_file:\n",
        "    pickle.dump(processed_sentences, pickle_file)"
      ],
      "metadata": {
        "id": "MOfPvUguiE6Q"
      },
      "execution_count": null,
      "outputs": []
    },
    {
      "cell_type": "code",
      "source": [
        "processed_sentences[1004]"
      ],
      "metadata": {
        "colab": {
          "base_uri": "https://localhost:8080/",
          "height": 70
        },
        "id": "ZfLSJkG6ghJ3",
        "outputId": "1bc3a833-035a-4d10-98bb-b4e13454739e"
      },
      "execution_count": null,
      "outputs": [
        {
          "output_type": "execute_result",
          "data": {
            "text/plain": [
              "'The ideal set up by the Party was something huge, terrible, and glittering--a world of steel and concrete, of monstrous machines and terrifying weapons--a nation of warriors and fanatics, marching forward in perfect unity, all thinking the same thoughts and shouting the same slogans, perpetually working, fighting, triumphing, persecuting--three hundred million people all with the same face.'"
            ],
            "application/vnd.google.colaboratory.intrinsic+json": {
              "type": "string"
            }
          },
          "metadata": {},
          "execution_count": 77
        }
      ]
    },
    {
      "cell_type": "markdown",
      "source": [
        "##2. Neutralization of sentences"
      ],
      "metadata": {
        "id": "0kvbSFyFbE91"
      }
    },
    {
      "cell_type": "code",
      "source": [
        "!huggingface-cli login"
      ],
      "metadata": {
        "colab": {
          "base_uri": "https://localhost:8080/"
        },
        "id": "RLG0vkQfUmLb",
        "outputId": "6354493c-25ef-47ec-d700-2f1276aeae2e"
      },
      "execution_count": 6,
      "outputs": [
        {
          "output_type": "stream",
          "name": "stdout",
          "text": [
            "\n",
            "    _|    _|  _|    _|    _|_|_|    _|_|_|  _|_|_|  _|      _|    _|_|_|      _|_|_|_|    _|_|      _|_|_|  _|_|_|_|\n",
            "    _|    _|  _|    _|  _|        _|          _|    _|_|    _|  _|            _|        _|    _|  _|        _|\n",
            "    _|_|_|_|  _|    _|  _|  _|_|  _|  _|_|    _|    _|  _|  _|  _|  _|_|      _|_|_|    _|_|_|_|  _|        _|_|_|\n",
            "    _|    _|  _|    _|  _|    _|  _|    _|    _|    _|    _|_|  _|    _|      _|        _|    _|  _|        _|\n",
            "    _|    _|    _|_|      _|_|_|    _|_|_|  _|_|_|  _|      _|    _|_|_|      _|        _|    _|    _|_|_|  _|_|_|_|\n",
            "    \n",
            "    To login, `huggingface_hub` requires a token generated from https://huggingface.co/settings/tokens .\n",
            "Token: \n",
            "Add token as git credential? (Y/n) n\n",
            "Token is valid (permission: read).\n",
            "Your token has been saved to /root/.cache/huggingface/token\n",
            "Login successful\n"
          ]
        }
      ]
    },
    {
      "cell_type": "code",
      "source": [
        "%%time\n",
        "import torch\n",
        "import transformers\n",
        "from torch import cuda, bfloat16\n",
        "from transformers import AutoModelForCausalLM, AutoModelForSeq2SeqLM, AutoTokenizer\n",
        "import os\n",
        "\n",
        "def load_model(path = 'meta-llama/Llama-2-7b-chat-hf'):\n",
        "\n",
        "    if path == 'meta-llama/Llama-2-7b-chat-hf':\n",
        "        model = AutoModelForCausalLM.from_pretrained(\n",
        "            path,\n",
        "            torch_dtype=torch.float16,\n",
        "            device_map='auto'\n",
        "        )\n",
        "    else:\n",
        "        model = AutoModelForSeq2SeqLM.from_pretrained(model_name_flan,\n",
        "                                                torch_dtype=torch.bfloat16,\n",
        "                                                device_map='auto')\n",
        "\n",
        "    tokenizer = AutoTokenizer.from_pretrained(path)\n",
        "    return model, tokenizer\n",
        "\n",
        "model, tokenizer = load_model('meta-llama/Llama-2-7b-chat-hf')\n",
        "\n",
        "neutralize = transformers.pipeline(\n",
        "    model=model, tokenizer=tokenizer,\n",
        "    return_full_text=False,\n",
        "    task='text-generation',\n",
        "    temperature=0.1,\n",
        "    max_new_tokens=256,  # number of tokens to generate in the output\n",
        "    repetition_penalty=1.1\n",
        ")"
      ],
      "metadata": {
        "colab": {
          "base_uri": "https://localhost:8080/"
        },
        "id": "S1j6e1GMbCMV",
        "outputId": "eddf493d-6619-4983-cb1a-676723e6574a"
      },
      "execution_count": null,
      "outputs": [
        {
          "output_type": "stream",
          "name": "stdout",
          "text": [
            "CPU times: user 2.4 s, sys: 373 ms, total: 2.77 s\n",
            "Wall time: 5.51 s\n"
          ]
        }
      ]
    },
    {
      "cell_type": "markdown",
      "source": [
        "Download Flan-T5-base for comparison:"
      ],
      "metadata": {
        "id": "g5YQjIlnFZ4F"
      }
    },
    {
      "cell_type": "code",
      "source": [
        "model_name_flan='google/flan-t5-large'\n",
        "\n",
        "model_flan, tokenizer_flan =model, tokenizer = load_model(model_name_flan)\n"
      ],
      "metadata": {
        "id": "BuL-JPhMFZhY"
      },
      "execution_count": null,
      "outputs": []
    },
    {
      "cell_type": "code",
      "source": [
        "neutralize_flan = transformers.pipeline(\n",
        "    model=model_flan, tokenizer=tokenizer_flan,\n",
        "    task='text2text-generation',\n",
        "    temperature=0.1,\n",
        "    max_new_tokens=256,\n",
        "    repetition_penalty=1.1\n",
        ")"
      ],
      "metadata": {
        "id": "EQR9RSyMJdwN"
      },
      "execution_count": null,
      "outputs": []
    },
    {
      "cell_type": "code",
      "source": [
        "from functools import partial\n",
        "\n",
        "utterences = ['''It was a bright cold day in April, and the clocks were striking thirteen. Winston Smith, his chin nuzzled into his\n",
        "breast in an effort to escape the vile wind, slipped quickly through the glass doors of Victory Mansions, though not\n",
        "quickly enough to prevent a swirl of gritty dust from entering along with him.''',\n",
        "              '''Winston made for the stairs. It was no use trying the lift. Even at the best of times it was seldom working, and at present the electric current was cut off during daylight hours.''',\n",
        "              '''He moved over to the window: a smallish, frail figure, the meagreness of his body merely emphasized by the blue overalls which were the uniform of the party. His hair was very fair, his face naturally sanguine, his skin roughened by\n",
        "coarse soap and blunt razor blades and the cold of the winter that had just ended.''',\n",
        "              '''Down at street level another poster, torn at one corner, flapped fitfully in the wind, alternately covering and uncovering the single word INGSOC. In the far distance a helicopter skimmed down\n",
        "between the roofs, hovered for an instant like a bluebottle, and darted away again with a curving flight.''',\n",
        "              '''It was safer, though, as he well knew, even a back can be revealing. A kilometre away the Ministry of Truth, his place of work, towered vast and white above the grimy landscape. This,\n",
        "he thought with a sort of vague distaste—this was London, chief city of Airstrip One, itself the third most populous of the provinces of Oceania.''']\n",
        "\n",
        "\n",
        "prompt = '''Make the following text in quotes appear neutral. Remove any exaggerations and language devices, keep vocabulary simple. Stick only to facts. Have a very neutral output response.\n",
        "\n",
        "Text: \"{text}\"\n",
        "\n",
        "{format_instructions}\n",
        "\n",
        "Answer: '''\n",
        "\n",
        "p_prompt = partial(prompt.format, format_instructions=format_instructions)"
      ],
      "metadata": {
        "id": "_0rvhMCXDY44"
      },
      "execution_count": null,
      "outputs": []
    },
    {
      "cell_type": "code",
      "source": [
        "llama_answers0 = []\n",
        "for u in utterences:\n",
        "    print(\" --------------- Text:\",  u)\n",
        "    answer = neutralize(prompt.format(text = u))[0]['generated_text']\n",
        "    print(\"Answer:\", answer)\n",
        "    llama_answers0.append(answer)"
      ],
      "metadata": {
        "colab": {
          "base_uri": "https://localhost:8080/"
        },
        "id": "R91Zsvz8SrjH",
        "outputId": "7df8e915-abf4-404c-e907-3a67abee15f1"
      },
      "execution_count": null,
      "outputs": [
        {
          "output_type": "stream",
          "name": "stdout",
          "text": [
            " --------------- Text: It was a bright cold day in April, and the clocks were striking thirteen. Winston Smith, his chin nuzzled into his\n",
            "breast in an effort to escape the vile wind, slipped quickly through the glass doors of Victory Mansions, though not\n",
            "quickly enough to prevent a swirl of gritty dust from entering along with him.\n",
            "Answer:  \"On a cold day in April, the clocks struck 13. Winston Smith entered Victory Mansions through glass doors, but not quickly enough to avoid dust entering with him.\"\n",
            " --------------- Text: Winston made for the stairs. It was no use trying the lift. Even at the best of times it was seldom working, and at present the electric current was cut off during daylight hours.\n",
            "Answer:  Winston headed for the stairs. The elevator was not an option as it was often out of order, and currently the power was off during daytime.\n",
            " --------------- Text: He moved over to the window: a smallish, frail figure, the meagreness of his body merely emphasized by the blue overalls which were the uniform of the party. His hair was very fair, his face naturally sanguine, his skin roughened by\n",
            "coarse soap and blunt razor blades and the cold of the winter that had just ended.\n",
            "Answer:  He went to the window: a slender, thin man, wearing blue overalls, typical of the party. His hair was light-colored, his face had a natural ruddiness, and his skin was rough from using harsh soap and dull razors. The recent cold winter weather had also taken a toll on his appearance.\n",
            " --------------- Text: Down at street level another poster, torn at one corner, flapped fitfully in the wind, alternately covering and uncovering the single word INGSOC. In the far distance a helicopter skimmed down\n",
            "between the roofs, hovered for an instant like a bluebottle, and darted away again with a curving flight.\n",
            "Answer:  Here is the text with any exaggerated or poetic language removed and presented in a neutral tone:\n",
            "\n",
            "\"Another poster, torn at one corner, fluttered in the wind, occasionally revealing the word INGSOC. In the distance, a helicopter flew low between the buildings, hovered briefly, and then darted away with a curved path.\"\n",
            " --------------- Text: It was safer, though, as he well knew, even a back can be revealing. A kilometre away the Ministry of Truth, his place of work, towered vast and white above the grimy landscape. This,\n",
            "he thought with a sort of vague distaste—this was London, chief city of Airstrip One, itself the third most populous of the provinces of Oceania.\n",
            "Answer:  Here is the text with any exaggerated or poetic language removed and a neutral tone:\n",
            "\n",
            "\"It was safer, but he also knew that even a back can be revealing. The Ministry of Truth, his workplace, stood tall and white a kilometre away. This was London, the chief city of Airstrip One and one of the three most populous provinces of Oceania.\"\n"
          ]
        }
      ]
    },
    {
      "cell_type": "markdown",
      "source": [
        "We use LangChain's parser to format the output to return a dict with specific key. Without if Llama2 would sometimes produce more than needed as output (for instance additional intro sentence).\n",
        "\n",
        "(LMs often return strings instead of JSON even if you instruct them. LangChain has well behaving built-in prompts for achieving well structured output)."
      ],
      "metadata": {
        "id": "EUEv7BbPHQB8"
      }
    },
    {
      "cell_type": "code",
      "source": [
        "from langchain.output_parsers import StructuredOutputParser\n",
        "from langchain.output_parsers import ResponseSchema\n",
        "\n",
        "r_schema = ResponseSchema(name=\"transformed_text\",description=\"Text after transformation\")\n",
        "response_schemas = [r_schema]\n",
        "output_parser = StructuredOutputParser.from_response_schemas(response_schemas)\n",
        "format_instructions = output_parser.get_format_instructions()\n",
        "format_instructions\n"
      ],
      "metadata": {
        "colab": {
          "base_uri": "https://localhost:8080/",
          "height": 53
        },
        "id": "PJrpbH6BVBqj",
        "outputId": "0ad31212-a9a7-49e4-987f-c018407364b3"
      },
      "execution_count": null,
      "outputs": [
        {
          "output_type": "execute_result",
          "data": {
            "text/plain": [
              "'The output should be a markdown code snippet formatted in the following schema, including the leading and trailing \"```json\" and \"```\":\\n\\n```json\\n{\\n\\t\"transformed_text\": string  // Text after transformation\\n}\\n```'"
            ],
            "application/vnd.google.colaboratory.intrinsic+json": {
              "type": "string"
            }
          },
          "metadata": {},
          "execution_count": 17
        }
      ]
    },
    {
      "cell_type": "code",
      "source": [
        "llama_answers0 = []\n",
        "for u in utterences:\n",
        "    answer = neutralize(p_prompt(text = u))[0]['generated_text']\n",
        "    answer = output_parser.parse(answer)\n",
        "    llama_answers0.append(answer)"
      ],
      "metadata": {
        "id": "eCL2IZeDbvfl"
      },
      "execution_count": null,
      "outputs": []
    },
    {
      "cell_type": "code",
      "source": [
        "flan_answers = []\n",
        "print('FLAN-T5-LARGE:')\n",
        "for u in utterences:\n",
        "    print(\" --------------- Text:\",  u)\n",
        "    answer = neutralize_flan(prompt.format(text = u))[0]['generated_text']\n",
        "    print(\"Answer:\", answer)\n",
        "    flan_answers.append(answer)"
      ],
      "metadata": {
        "colab": {
          "base_uri": "https://localhost:8080/"
        },
        "id": "uFCqqSh3Pty6",
        "outputId": "5c690bea-59e4-4562-f2a1-f93e31218ea8"
      },
      "execution_count": null,
      "outputs": [
        {
          "output_type": "stream",
          "name": "stderr",
          "text": [
            "Both `max_new_tokens` (=512) and `max_length`(=20) seem to have been set. `max_new_tokens` will take precedence. Please refer to the documentation for more information. (https://huggingface.co/docs/transformers/main/en/main_classes/text_generation)\n"
          ]
        },
        {
          "output_type": "stream",
          "name": "stdout",
          "text": [
            "FLAN-T5-LARGE:\n",
            " --------------- Text: It was a bright cold day in April, and the clocks were striking thirteen. Winston Smith, his chin nuzzled into his\n",
            "breast in an effort to escape the vile wind, slipped quickly through the glass doors of Victory Mansions, though not\n",
            "quickly enough to prevent a swirl of gritty dust from entering along with him.\n"
          ]
        },
        {
          "output_type": "stream",
          "name": "stderr",
          "text": [
            "Both `max_new_tokens` (=512) and `max_length`(=20) seem to have been set. `max_new_tokens` will take precedence. Please refer to the documentation for more information. (https://huggingface.co/docs/transformers/main/en/main_classes/text_generation)\n"
          ]
        },
        {
          "output_type": "stream",
          "name": "stdout",
          "text": [
            "Answer: It was a bright cold day in April, and the clocks were striking thirteen. Winston Smith, his chin nuzzled into his breast in an effort to escape the vile wind, slipped quickly through the glass doors of Victory Mansions, though not quickly enough to prevent a swirl of gritty dust from entering along with him.\"\n",
            " --------------- Text: Winston made for the stairs. It was no use trying the lift. Even at the best of times it was seldom working, and at present the electric current was cut off during daylight hours.\n"
          ]
        },
        {
          "output_type": "stream",
          "name": "stderr",
          "text": [
            "Both `max_new_tokens` (=512) and `max_length`(=20) seem to have been set. `max_new_tokens` will take precedence. Please refer to the documentation for more information. (https://huggingface.co/docs/transformers/main/en/main_classes/text_generation)\n"
          ]
        },
        {
          "output_type": "stream",
          "name": "stdout",
          "text": [
            "Answer: Winston made for the stairs. It was no use trying the lift. Even at the best of times it was seldom working, and at present the electric current was cut off during daylight hours.\n",
            " --------------- Text: He moved over to the window: a smallish, frail figure, the meagreness of his body merely emphasized by the blue overalls which were the uniform of the party. His hair was very fair, his face naturally sanguine, his skin roughened by\n",
            "coarse soap and blunt razor blades and the cold of the winter that had just ended.\n"
          ]
        },
        {
          "output_type": "stream",
          "name": "stderr",
          "text": [
            "Both `max_new_tokens` (=512) and `max_length`(=20) seem to have been set. `max_new_tokens` will take precedence. Please refer to the documentation for more information. (https://huggingface.co/docs/transformers/main/en/main_classes/text_generation)\n"
          ]
        },
        {
          "output_type": "stream",
          "name": "stdout",
          "text": [
            "Answer: He moved over to the window: a smallish, frail figure, the meagreness of his body merely emphasized by the blue overalls which were the uniform of the party. His hair was very fair, his face naturally sanguine, his skin roughened by coarse soap and blunt razor blades and the cold of the winter that had just ended.\n",
            " --------------- Text: Down at street level another poster, torn at one corner, flapped fitfully in the wind, alternately covering and uncovering the single word INGSOC. In the far distance a helicopter skimmed down\n",
            "between the roofs, hovered for an instant like a bluebottle, and darted away again with a curving flight.\n"
          ]
        },
        {
          "output_type": "stream",
          "name": "stderr",
          "text": [
            "Both `max_new_tokens` (=512) and `max_length`(=20) seem to have been set. `max_new_tokens` will take precedence. Please refer to the documentation for more information. (https://huggingface.co/docs/transformers/main/en/main_classes/text_generation)\n"
          ]
        },
        {
          "output_type": "stream",
          "name": "stdout",
          "text": [
            "Answer: Down at street level another poster, torn at one corner, flapped fitfully in the wind, alternately covering and uncovering the single word INGSOC. In the far distance a helicopter skimmed down between the roofs, hovered for an instant like a bluebottle, and darted away again with a curving flight.\"\n",
            " --------------- Text: It was safer, though, as he well knew, even a back can be revealing. A kilometre away the Ministry of Truth, his place of work, towered vast and white above the grimy landscape. This,\n",
            "he thought with a sort of vague distaste—this was London, chief city of Airstrip One, itself the third most populous of the provinces of Oceania.\n",
            "Answer: A kilometre away the Ministry of Truth, his place of work, towered vast and white above the grimy landscape. This, he thought with a sort of vague distaste—this was London, chief city of Airstrip One, itself the third most populous of the provinces of Oceania.\"\n"
          ]
        }
      ]
    },
    {
      "cell_type": "markdown",
      "source": [
        "Flan is mostly repeating the input. Llama2 pretrained did much better job."
      ],
      "metadata": {
        "id": "3px0a9aIJIGg"
      }
    },
    {
      "cell_type": "markdown",
      "source": [
        "##3. \"Orwellizing\" the neutral text\n",
        "\n",
        "Now let's experiment with how would pretrained Llama-7B re-write the neutral sounding sentenes into the style of Orwell's prose:"
      ],
      "metadata": {
        "id": "AyE1xtIDKSff"
      }
    },
    {
      "cell_type": "markdown",
      "source": [
        "Try \"Orwellizing\" on a set of few first sentences from 1984:"
      ],
      "metadata": {
        "id": "F651b9kPSEiM"
      }
    },
    {
      "cell_type": "code",
      "source": [
        "utterances = ['''It was a bright cold day in April, and the clocks were striking thirteen. Winston Smith, his chin nuzzled into his\n",
        "breast in an effort to escape the vile wind, slipped quickly through the glass doors of Victory Mansions, though not\n",
        "quickly enough to prevent a swirl of gritty dust from entering along with him.''',\n",
        "              '''Winston made for the stairs. It was no use trying the lift. Even at the best of times it was seldom working, and at present the electric current was cut off during daylight hours.''',\n",
        "              '''He moved over to the window: a smallish, frail figure, the meagreness of his body merely emphasized by the blue overalls which were the uniform of the party. His hair was very fair, his face naturally sanguine, his skin roughened by\n",
        "coarse soap and blunt razor blades and the cold of the winter that had just ended.''',\n",
        "              '''Down at street level another poster, torn at one corner, flapped fitfully in the wind, alternately covering and uncovering the single word INGSOC. In the far distance a helicopter skimmed down\n",
        "between the roofs, hovered for an instant like a bluebottle, and darted away again with a curving flight.''',\n",
        "              '''It was safer, though, as he well knew, even a back can be revealing. A kilometre away the Ministry of Truth, his place of work, towered vast and white above the grimy landscape. This,\n",
        "he thought with a sort of vague distaste—this was London, chief city of Airstrip One, itself the third most populous of the provinces of Oceania.''',\n",
        "              '''He had little recollection of his sister, only as an infant who was weak and rarely made any sound, but had observant eyes.''',\n",
        "              '''He easily dealt with the false belief, and he was not at risk of being influenced by it.''',\n",
        "              '''The boy had a determined look in his eye and seemed to want to hit or kick Winston. He seemed to be aware that he was almost big enough to do so.''']\n",
        "\n",
        "prompt_zeroshot = '''Rewrite the following text in the style of George Orwell prose. Make sure to convey the meaning of the utterance.\n",
        "\n",
        "Text: \"It was an enormous pyramidal structure of glittering white concrete, soaring up, terrace after terrace, 300 metres into the air.\"\n",
        "\n",
        "Answer: \"It was a pyramidal structure made of white concrete, with a series of terraces, measuring 300 meters in height.\"\n",
        "\n",
        "Text: \"{text}\"\n",
        "\n",
        "Answer: '''\n",
        "\n"
      ],
      "metadata": {
        "id": "kxnO28dOSyOK"
      },
      "execution_count": 9,
      "outputs": []
    },
    {
      "cell_type": "markdown",
      "source": [
        "Let's try with some zero-shot prompts (a few were tried):"
      ],
      "metadata": {
        "id": "F95trutDKp22"
      }
    },
    {
      "cell_type": "code",
      "source": [
        "import transformers\n",
        "from transformers import AutoModelForCausalLM, AutoTokenizer\n",
        "import torch\n",
        "\n",
        "\n",
        "model, tokenizer = load_model()\n",
        "\n",
        "orwellize = transformers.pipeline(\n",
        "    model=model, tokenizer=tokenizer,\n",
        "    return_full_text=False,\n",
        "    task='text-generation',\n",
        "    temperature=0.4,\n",
        "    max_new_tokens=256,\n",
        "    repetition_penalty=1.1\n",
        ")\n"
      ],
      "metadata": {
        "id": "Q1zs61vZUAS-"
      },
      "execution_count": 8,
      "outputs": []
    },
    {
      "cell_type": "code",
      "source": [
        "llama_orwell = []\n",
        "for u in utterances:\n",
        "    answer = orwellize(prompt_zeroshot.format(text = u))[0]['generated_text']\n",
        "    llama_orwell.append(answer)"
      ],
      "metadata": {
        "id": "_0VLd_xYSDAe"
      },
      "execution_count": null,
      "outputs": []
    },
    {
      "cell_type": "code",
      "source": [
        "origUtterences = ['''It was a bright cold day in April, and the clocks were striking thirteen. Winston Smith, his chin nuzzled into his breast in an effort to escape the vile wind, slipped quickly through the glass doors of Victory Mansions, though not quickly enough to prevent a swirl of gritty dust from entering along with him.''',\n",
        "              '''Winston made for the stairs. It was no use trying the lift. Even at the best of times it was seldom working, and at present the electric current was cut off during daylight hours.''',\n",
        "              '''The shop had been reduced to a shattered shell of its former self, the windows blown out, the walls pockmarked with holes.''',\n",
        "              '''He moved over to the window: a smallish, frail figure, the meagreness of his body merely emphasized by the blue overalls which were the uniform of the party. His hair was very fair, his face naturally sanguine, his skin roughened by coarse soap and blunt razor blades and the cold of the winter that had just ended.''',\n",
        "              '''Down at street level another poster, torn at one corner, flapped fitfully in the wind, alternately covering and uncovering the single word INGSOC. In the far distance a helicopter skimmed down between the roofs, hovered for an instant like a bluebottle, and darted away again with a curving flight.''',\n",
        "              '''It was safer, though, as he well knew, even a back can be revealing. A kilometre away the Ministry of Truth, his place of work, towered vast and white above the grimy landscape. This, he thought with a sort of vague distaste—this was London, chief city of Airstrip One, itself the third most populous of the provinces of Oceania.''']\n",
        "\n",
        "llama2pretrained0shot = llama_orwell\n",
        "\n",
        "import pandas as pd\n",
        "pd.set_option('display.max_colwidth', None)\n",
        "df = pd.DataFrame({ 'Neutral sentence': utterances, 'Llama rewrite (0shot)': llama2pretrained0shot, 'Orwell\\'s original': origUtterences })\n",
        "df"
      ],
      "metadata": {
        "colab": {
          "base_uri": "https://localhost:8080/",
          "height": 636
        },
        "id": "aTJ97U-RYimO",
        "outputId": "42f21bba-c793-40e8-e290-edf8fc04b5b1"
      },
      "execution_count": 2,
      "outputs": [
        {
          "output_type": "execute_result",
          "data": {
            "text/plain": [
              "                                                                                                                                                                                                                                                                                                              Neutral sentence  \\\n",
              "0                                                                                                                                                         On a cold April day, the clocks struck thirteen. Winston Smith entered Victory Mansions through glass doors, but not quickly enough to avoid dust entering with him.   \n",
              "1                                                                                                                                          Winston made for the stairs. It was no use trying the lift. Even at the best of times it was seldom working, and at present the electric current was cut off during daylight hours.   \n",
              "2                                                                                                                                                                                                                                                         The shop had been damaged, with broken windows and pockmarked walls.   \n",
              "3  He moved over to the window: a smallish, frail figure, the meagreness of his body merely emphasized by the blue overalls which were the uniform of the party. His hair was very fair, his face naturally sanguine, his skin roughened by coarse soap and blunt razor blades and the cold of the winter that had just ended.   \n",
              "4                   Down at street level another poster, torn at one corner, flapped fitfully in the wind, alternately covering and uncovering the single word INGSOC. In the far distance a helicopter skimmed down between the roofs, hovered for an instant like a bluebottle, and darted away again with a curving flight.   \n",
              "5                                                                                                                                        The Ministry of Truth, his workplace, stood tall and white a kilometre away. This was London, the chief city of Airstrip One and one of the three most populous provinces of Oceania.   \n",
              "\n",
              "                                                                                                                                                                                                                                                                                                                                                                                                                                                                                                      Llama rewrite (0shot)  \\\n",
              "0                                                                                                                                                                                                                                                                              On a chill April afternoon, the clocks struck an unsettling hour. Winston Smith negotiated his way into Victory Mansions via a pair of gleaming glass doors, yet he was unable to prevent a sprinkling of dust from accompanying him within.   \n",
              "1                                             Winston trudged upwards, his footsteps echoing in the oppressive silence of the dimly lit building. The lift, a relic of a bygone era, had been shut down by the powers that be as part of their relentless campaign to reduce the population's mobility and freedom of movement. As he climbed the stairs, Winston couldn't help but feel a sense of resignation wash over him, a reminder of the crushing weight of the totalitarian regime that governed their every move.   \n",
              "2                                                                                                                                                                               he shop lay in disarray, its once-pristine façade now marred by shattered glass and pitted stonework. The damage was extensive, a testament to the destructive power of whatever force had ravaged it. The very structure of the building seemed to be crying out in pain, as if the very walls were bearing witness to some great tragedy.   \n",
              "3  He strolled across the room, his tall, lanky figure silhouetted against the dim light. His face was a map of weariness, the fine lines etched into his skin a testament to the hardships he had endured. His cheeks were hollowed out, as if sucked dry by some unseen force, while his eyes seemed to hold a deep-seated sadness, as if they had seen things that no one should ever have to witness. Despite his pallor, there was something almost ethereal about him, as if he belonged to another world altogether.   \n",
              "4                                                                                                                         As I walked along the sidewalk, a tattered poster was buffeted by the gusty breeze, its edges fluttering like a flag in a storm. For an instant, the word INGSOC was exposed, before being obscured once more by the wind's capricious whims. Meanwhile, a sleek black helicopter patrolled the skies above, its rotors churning out a smooth, curving trajectory as it hunted for its next prey.   \n",
              "5                                                                                                                                                                                                                                            The Ministry of Truth loomed a dismal kilometer distant, its monolithic presence casting an oppressive shadow over the desolate terrain. This was London, the capital of Airstrip One, one of the three most populous provinces of the crushing totalitarian state of Oceania.   \n",
              "\n",
              "                                                                                                                                                                                                                                                                                                                           Orwell's original  \n",
              "0                     It was a bright cold day in April, and the clocks were striking thirteen. Winston Smith, his chin nuzzled into his breast in an effort to escape the vile wind, slipped quickly through the glass doors of Victory Mansions, though not quickly enough to prevent a swirl of gritty dust from entering along with him.  \n",
              "1                                                                                                                                                        Winston made for the stairs. It was no use trying the lift. Even at the best of times it was seldom working, and at present the electric current was cut off during daylight hours.  \n",
              "2                                                                                                                                                                                                                 The shop had been reduced to a shattered shell of its former self, the windows blown out, the walls pockmarked with holes.  \n",
              "3                He moved over to the window: a smallish, frail figure, the meagreness of his body merely emphasized by the blue overalls which were the uniform of the party. His hair was very fair, his face naturally sanguine, his skin roughened by coarse soap and blunt razor blades and the cold of the winter that had just ended.  \n",
              "4                                 Down at street level another poster, torn at one corner, flapped fitfully in the wind, alternately covering and uncovering the single word INGSOC. In the far distance a helicopter skimmed down between the roofs, hovered for an instant like a bluebottle, and darted away again with a curving flight.  \n",
              "5  It was safer, though, as he well knew, even a back can be revealing. A kilometre away the Ministry of Truth, his place of work, towered vast and white above the grimy landscape. This, he thought with a sort of vague distaste—this was London, chief city of Airstrip One, itself the third most populous of the provinces of Oceania.  "
            ],
            "text/html": [
              "\n",
              "  <div id=\"df-575e508f-9cc1-4963-8cd5-aad8bbdb2482\" class=\"colab-df-container\">\n",
              "    <div>\n",
              "<style scoped>\n",
              "    .dataframe tbody tr th:only-of-type {\n",
              "        vertical-align: middle;\n",
              "    }\n",
              "\n",
              "    .dataframe tbody tr th {\n",
              "        vertical-align: top;\n",
              "    }\n",
              "\n",
              "    .dataframe thead th {\n",
              "        text-align: right;\n",
              "    }\n",
              "</style>\n",
              "<table border=\"1\" class=\"dataframe\">\n",
              "  <thead>\n",
              "    <tr style=\"text-align: right;\">\n",
              "      <th></th>\n",
              "      <th>Neutral sentence</th>\n",
              "      <th>Llama rewrite (0shot)</th>\n",
              "      <th>Orwell's original</th>\n",
              "    </tr>\n",
              "  </thead>\n",
              "  <tbody>\n",
              "    <tr>\n",
              "      <th>0</th>\n",
              "      <td>On a cold April day, the clocks struck thirteen. Winston Smith entered Victory Mansions through glass doors, but not quickly enough to avoid dust entering with him.</td>\n",
              "      <td>On a chill April afternoon, the clocks struck an unsettling hour. Winston Smith negotiated his way into Victory Mansions via a pair of gleaming glass doors, yet he was unable to prevent a sprinkling of dust from accompanying him within.</td>\n",
              "      <td>It was a bright cold day in April, and the clocks were striking thirteen. Winston Smith, his chin nuzzled into his breast in an effort to escape the vile wind, slipped quickly through the glass doors of Victory Mansions, though not quickly enough to prevent a swirl of gritty dust from entering along with him.</td>\n",
              "    </tr>\n",
              "    <tr>\n",
              "      <th>1</th>\n",
              "      <td>Winston made for the stairs. It was no use trying the lift. Even at the best of times it was seldom working, and at present the electric current was cut off during daylight hours.</td>\n",
              "      <td>Winston trudged upwards, his footsteps echoing in the oppressive silence of the dimly lit building. The lift, a relic of a bygone era, had been shut down by the powers that be as part of their relentless campaign to reduce the population's mobility and freedom of movement. As he climbed the stairs, Winston couldn't help but feel a sense of resignation wash over him, a reminder of the crushing weight of the totalitarian regime that governed their every move.</td>\n",
              "      <td>Winston made for the stairs. It was no use trying the lift. Even at the best of times it was seldom working, and at present the electric current was cut off during daylight hours.</td>\n",
              "    </tr>\n",
              "    <tr>\n",
              "      <th>2</th>\n",
              "      <td>The shop had been damaged, with broken windows and pockmarked walls.</td>\n",
              "      <td>he shop lay in disarray, its once-pristine façade now marred by shattered glass and pitted stonework. The damage was extensive, a testament to the destructive power of whatever force had ravaged it. The very structure of the building seemed to be crying out in pain, as if the very walls were bearing witness to some great tragedy.</td>\n",
              "      <td>The shop had been reduced to a shattered shell of its former self, the windows blown out, the walls pockmarked with holes.</td>\n",
              "    </tr>\n",
              "    <tr>\n",
              "      <th>3</th>\n",
              "      <td>He moved over to the window: a smallish, frail figure, the meagreness of his body merely emphasized by the blue overalls which were the uniform of the party. His hair was very fair, his face naturally sanguine, his skin roughened by coarse soap and blunt razor blades and the cold of the winter that had just ended.</td>\n",
              "      <td>He strolled across the room, his tall, lanky figure silhouetted against the dim light. His face was a map of weariness, the fine lines etched into his skin a testament to the hardships he had endured. His cheeks were hollowed out, as if sucked dry by some unseen force, while his eyes seemed to hold a deep-seated sadness, as if they had seen things that no one should ever have to witness. Despite his pallor, there was something almost ethereal about him, as if he belonged to another world altogether.</td>\n",
              "      <td>He moved over to the window: a smallish, frail figure, the meagreness of his body merely emphasized by the blue overalls which were the uniform of the party. His hair was very fair, his face naturally sanguine, his skin roughened by coarse soap and blunt razor blades and the cold of the winter that had just ended.</td>\n",
              "    </tr>\n",
              "    <tr>\n",
              "      <th>4</th>\n",
              "      <td>Down at street level another poster, torn at one corner, flapped fitfully in the wind, alternately covering and uncovering the single word INGSOC. In the far distance a helicopter skimmed down between the roofs, hovered for an instant like a bluebottle, and darted away again with a curving flight.</td>\n",
              "      <td>As I walked along the sidewalk, a tattered poster was buffeted by the gusty breeze, its edges fluttering like a flag in a storm. For an instant, the word INGSOC was exposed, before being obscured once more by the wind's capricious whims. Meanwhile, a sleek black helicopter patrolled the skies above, its rotors churning out a smooth, curving trajectory as it hunted for its next prey.</td>\n",
              "      <td>Down at street level another poster, torn at one corner, flapped fitfully in the wind, alternately covering and uncovering the single word INGSOC. In the far distance a helicopter skimmed down between the roofs, hovered for an instant like a bluebottle, and darted away again with a curving flight.</td>\n",
              "    </tr>\n",
              "    <tr>\n",
              "      <th>5</th>\n",
              "      <td>The Ministry of Truth, his workplace, stood tall and white a kilometre away. This was London, the chief city of Airstrip One and one of the three most populous provinces of Oceania.</td>\n",
              "      <td>The Ministry of Truth loomed a dismal kilometer distant, its monolithic presence casting an oppressive shadow over the desolate terrain. This was London, the capital of Airstrip One, one of the three most populous provinces of the crushing totalitarian state of Oceania.</td>\n",
              "      <td>It was safer, though, as he well knew, even a back can be revealing. A kilometre away the Ministry of Truth, his place of work, towered vast and white above the grimy landscape. This, he thought with a sort of vague distaste—this was London, chief city of Airstrip One, itself the third most populous of the provinces of Oceania.</td>\n",
              "    </tr>\n",
              "  </tbody>\n",
              "</table>\n",
              "</div>\n",
              "    <div class=\"colab-df-buttons\">\n",
              "\n",
              "  <div class=\"colab-df-container\">\n",
              "    <button class=\"colab-df-convert\" onclick=\"convertToInteractive('df-575e508f-9cc1-4963-8cd5-aad8bbdb2482')\"\n",
              "            title=\"Convert this dataframe to an interactive table.\"\n",
              "            style=\"display:none;\">\n",
              "\n",
              "  <svg xmlns=\"http://www.w3.org/2000/svg\" height=\"24px\" viewBox=\"0 -960 960 960\">\n",
              "    <path d=\"M120-120v-720h720v720H120Zm60-500h600v-160H180v160Zm220 220h160v-160H400v160Zm0 220h160v-160H400v160ZM180-400h160v-160H180v160Zm440 0h160v-160H620v160ZM180-180h160v-160H180v160Zm440 0h160v-160H620v160Z\"/>\n",
              "  </svg>\n",
              "    </button>\n",
              "\n",
              "  <style>\n",
              "    .colab-df-container {\n",
              "      display:flex;\n",
              "      gap: 12px;\n",
              "    }\n",
              "\n",
              "    .colab-df-convert {\n",
              "      background-color: #E8F0FE;\n",
              "      border: none;\n",
              "      border-radius: 50%;\n",
              "      cursor: pointer;\n",
              "      display: none;\n",
              "      fill: #1967D2;\n",
              "      height: 32px;\n",
              "      padding: 0 0 0 0;\n",
              "      width: 32px;\n",
              "    }\n",
              "\n",
              "    .colab-df-convert:hover {\n",
              "      background-color: #E2EBFA;\n",
              "      box-shadow: 0px 1px 2px rgba(60, 64, 67, 0.3), 0px 1px 3px 1px rgba(60, 64, 67, 0.15);\n",
              "      fill: #174EA6;\n",
              "    }\n",
              "\n",
              "    .colab-df-buttons div {\n",
              "      margin-bottom: 4px;\n",
              "    }\n",
              "\n",
              "    [theme=dark] .colab-df-convert {\n",
              "      background-color: #3B4455;\n",
              "      fill: #D2E3FC;\n",
              "    }\n",
              "\n",
              "    [theme=dark] .colab-df-convert:hover {\n",
              "      background-color: #434B5C;\n",
              "      box-shadow: 0px 1px 3px 1px rgba(0, 0, 0, 0.15);\n",
              "      filter: drop-shadow(0px 1px 2px rgba(0, 0, 0, 0.3));\n",
              "      fill: #FFFFFF;\n",
              "    }\n",
              "  </style>\n",
              "\n",
              "    <script>\n",
              "      const buttonEl =\n",
              "        document.querySelector('#df-575e508f-9cc1-4963-8cd5-aad8bbdb2482 button.colab-df-convert');\n",
              "      buttonEl.style.display =\n",
              "        google.colab.kernel.accessAllowed ? 'block' : 'none';\n",
              "\n",
              "      async function convertToInteractive(key) {\n",
              "        const element = document.querySelector('#df-575e508f-9cc1-4963-8cd5-aad8bbdb2482');\n",
              "        const dataTable =\n",
              "          await google.colab.kernel.invokeFunction('convertToInteractive',\n",
              "                                                    [key], {});\n",
              "        if (!dataTable) return;\n",
              "\n",
              "        const docLinkHtml = 'Like what you see? Visit the ' +\n",
              "          '<a target=\"_blank\" href=https://colab.research.google.com/notebooks/data_table.ipynb>data table notebook</a>'\n",
              "          + ' to learn more about interactive tables.';\n",
              "        element.innerHTML = '';\n",
              "        dataTable['output_type'] = 'display_data';\n",
              "        await google.colab.output.renderOutput(dataTable, element);\n",
              "        const docLink = document.createElement('div');\n",
              "        docLink.innerHTML = docLinkHtml;\n",
              "        element.appendChild(docLink);\n",
              "      }\n",
              "    </script>\n",
              "  </div>\n",
              "\n",
              "\n",
              "<div id=\"df-ea3edb38-86de-42c6-b10e-e6c1b54095e9\">\n",
              "  <button class=\"colab-df-quickchart\" onclick=\"quickchart('df-ea3edb38-86de-42c6-b10e-e6c1b54095e9')\"\n",
              "            title=\"Suggest charts.\"\n",
              "            style=\"display:none;\">\n",
              "\n",
              "<svg xmlns=\"http://www.w3.org/2000/svg\" height=\"24px\"viewBox=\"0 0 24 24\"\n",
              "     width=\"24px\">\n",
              "    <g>\n",
              "        <path d=\"M19 3H5c-1.1 0-2 .9-2 2v14c0 1.1.9 2 2 2h14c1.1 0 2-.9 2-2V5c0-1.1-.9-2-2-2zM9 17H7v-7h2v7zm4 0h-2V7h2v10zm4 0h-2v-4h2v4z\"/>\n",
              "    </g>\n",
              "</svg>\n",
              "  </button>\n",
              "\n",
              "<style>\n",
              "  .colab-df-quickchart {\n",
              "      --bg-color: #E8F0FE;\n",
              "      --fill-color: #1967D2;\n",
              "      --hover-bg-color: #E2EBFA;\n",
              "      --hover-fill-color: #174EA6;\n",
              "      --disabled-fill-color: #AAA;\n",
              "      --disabled-bg-color: #DDD;\n",
              "  }\n",
              "\n",
              "  [theme=dark] .colab-df-quickchart {\n",
              "      --bg-color: #3B4455;\n",
              "      --fill-color: #D2E3FC;\n",
              "      --hover-bg-color: #434B5C;\n",
              "      --hover-fill-color: #FFFFFF;\n",
              "      --disabled-bg-color: #3B4455;\n",
              "      --disabled-fill-color: #666;\n",
              "  }\n",
              "\n",
              "  .colab-df-quickchart {\n",
              "    background-color: var(--bg-color);\n",
              "    border: none;\n",
              "    border-radius: 50%;\n",
              "    cursor: pointer;\n",
              "    display: none;\n",
              "    fill: var(--fill-color);\n",
              "    height: 32px;\n",
              "    padding: 0;\n",
              "    width: 32px;\n",
              "  }\n",
              "\n",
              "  .colab-df-quickchart:hover {\n",
              "    background-color: var(--hover-bg-color);\n",
              "    box-shadow: 0 1px 2px rgba(60, 64, 67, 0.3), 0 1px 3px 1px rgba(60, 64, 67, 0.15);\n",
              "    fill: var(--button-hover-fill-color);\n",
              "  }\n",
              "\n",
              "  .colab-df-quickchart-complete:disabled,\n",
              "  .colab-df-quickchart-complete:disabled:hover {\n",
              "    background-color: var(--disabled-bg-color);\n",
              "    fill: var(--disabled-fill-color);\n",
              "    box-shadow: none;\n",
              "  }\n",
              "\n",
              "  .colab-df-spinner {\n",
              "    border: 2px solid var(--fill-color);\n",
              "    border-color: transparent;\n",
              "    border-bottom-color: var(--fill-color);\n",
              "    animation:\n",
              "      spin 1s steps(1) infinite;\n",
              "  }\n",
              "\n",
              "  @keyframes spin {\n",
              "    0% {\n",
              "      border-color: transparent;\n",
              "      border-bottom-color: var(--fill-color);\n",
              "      border-left-color: var(--fill-color);\n",
              "    }\n",
              "    20% {\n",
              "      border-color: transparent;\n",
              "      border-left-color: var(--fill-color);\n",
              "      border-top-color: var(--fill-color);\n",
              "    }\n",
              "    30% {\n",
              "      border-color: transparent;\n",
              "      border-left-color: var(--fill-color);\n",
              "      border-top-color: var(--fill-color);\n",
              "      border-right-color: var(--fill-color);\n",
              "    }\n",
              "    40% {\n",
              "      border-color: transparent;\n",
              "      border-right-color: var(--fill-color);\n",
              "      border-top-color: var(--fill-color);\n",
              "    }\n",
              "    60% {\n",
              "      border-color: transparent;\n",
              "      border-right-color: var(--fill-color);\n",
              "    }\n",
              "    80% {\n",
              "      border-color: transparent;\n",
              "      border-right-color: var(--fill-color);\n",
              "      border-bottom-color: var(--fill-color);\n",
              "    }\n",
              "    90% {\n",
              "      border-color: transparent;\n",
              "      border-bottom-color: var(--fill-color);\n",
              "    }\n",
              "  }\n",
              "</style>\n",
              "\n",
              "  <script>\n",
              "    async function quickchart(key) {\n",
              "      const quickchartButtonEl =\n",
              "        document.querySelector('#' + key + ' button');\n",
              "      quickchartButtonEl.disabled = true;  // To prevent multiple clicks.\n",
              "      quickchartButtonEl.classList.add('colab-df-spinner');\n",
              "      try {\n",
              "        const charts = await google.colab.kernel.invokeFunction(\n",
              "            'suggestCharts', [key], {});\n",
              "      } catch (error) {\n",
              "        console.error('Error during call to suggestCharts:', error);\n",
              "      }\n",
              "      quickchartButtonEl.classList.remove('colab-df-spinner');\n",
              "      quickchartButtonEl.classList.add('colab-df-quickchart-complete');\n",
              "    }\n",
              "    (() => {\n",
              "      let quickchartButtonEl =\n",
              "        document.querySelector('#df-ea3edb38-86de-42c6-b10e-e6c1b54095e9 button');\n",
              "      quickchartButtonEl.style.display =\n",
              "        google.colab.kernel.accessAllowed ? 'block' : 'none';\n",
              "    })();\n",
              "  </script>\n",
              "</div>\n",
              "\n",
              "  <div id=\"id_6b766057-f50b-40a5-98e9-80aad9937183\">\n",
              "    <style>\n",
              "      .colab-df-generate {\n",
              "        background-color: #E8F0FE;\n",
              "        border: none;\n",
              "        border-radius: 50%;\n",
              "        cursor: pointer;\n",
              "        display: none;\n",
              "        fill: #1967D2;\n",
              "        height: 32px;\n",
              "        padding: 0 0 0 0;\n",
              "        width: 32px;\n",
              "      }\n",
              "\n",
              "      .colab-df-generate:hover {\n",
              "        background-color: #E2EBFA;\n",
              "        box-shadow: 0px 1px 2px rgba(60, 64, 67, 0.3), 0px 1px 3px 1px rgba(60, 64, 67, 0.15);\n",
              "        fill: #174EA6;\n",
              "      }\n",
              "\n",
              "      [theme=dark] .colab-df-generate {\n",
              "        background-color: #3B4455;\n",
              "        fill: #D2E3FC;\n",
              "      }\n",
              "\n",
              "      [theme=dark] .colab-df-generate:hover {\n",
              "        background-color: #434B5C;\n",
              "        box-shadow: 0px 1px 3px 1px rgba(0, 0, 0, 0.15);\n",
              "        filter: drop-shadow(0px 1px 2px rgba(0, 0, 0, 0.3));\n",
              "        fill: #FFFFFF;\n",
              "      }\n",
              "    </style>\n",
              "    <button class=\"colab-df-generate\" onclick=\"generateWithVariable('df')\"\n",
              "            title=\"Generate code using this dataframe.\"\n",
              "            style=\"display:none;\">\n",
              "\n",
              "  <svg xmlns=\"http://www.w3.org/2000/svg\" height=\"24px\"viewBox=\"0 0 24 24\"\n",
              "       width=\"24px\">\n",
              "    <path d=\"M7,19H8.4L18.45,9,17,7.55,7,17.6ZM5,21V16.75L18.45,3.32a2,2,0,0,1,2.83,0l1.4,1.43a1.91,1.91,0,0,1,.58,1.4,1.91,1.91,0,0,1-.58,1.4L9.25,21ZM18.45,9,17,7.55Zm-12,3A5.31,5.31,0,0,0,4.9,8.1,5.31,5.31,0,0,0,1,6.5,5.31,5.31,0,0,0,4.9,4.9,5.31,5.31,0,0,0,6.5,1,5.31,5.31,0,0,0,8.1,4.9,5.31,5.31,0,0,0,12,6.5,5.46,5.46,0,0,0,6.5,12Z\"/>\n",
              "  </svg>\n",
              "    </button>\n",
              "    <script>\n",
              "      (() => {\n",
              "      const buttonEl =\n",
              "        document.querySelector('#id_6b766057-f50b-40a5-98e9-80aad9937183 button.colab-df-generate');\n",
              "      buttonEl.style.display =\n",
              "        google.colab.kernel.accessAllowed ? 'block' : 'none';\n",
              "\n",
              "      buttonEl.onclick = () => {\n",
              "        google.colab.notebook.generateWithVariable('df');\n",
              "      }\n",
              "      })();\n",
              "    </script>\n",
              "  </div>\n",
              "\n",
              "    </div>\n",
              "  </div>\n"
            ]
          },
          "metadata": {},
          "execution_count": 2
        }
      ]
    },
    {
      "cell_type": "markdown",
      "source": [
        "The generated output is looong, sounds generic and convoluted, rather describing the setup of 1984's novel than capturing its style."
      ],
      "metadata": {
        "id": "NUj9b-ZJkNKY"
      }
    },
    {
      "cell_type": "markdown",
      "source": [
        "Let's try the same with some in-context prompting. A few one shot prompts were tried, where we attempt to restrain and guide the model into what sort of answer we expect:"
      ],
      "metadata": {
        "id": "cQW2t2pnAUVG"
      }
    },
    {
      "cell_type": "code",
      "source": [
        "prompt_oneshot = '''Rewrite the following text in the style of George Orwell prose. Make sure to convey the meaning of the utterance.\n",
        "\n",
        "Text: \"It was a pyramidal structure made of white concrete, with a series of terraces, measuring 300 meters in height.\"\n",
        "\n",
        "Answer: \"It was an enormous pyramidal structure of glittering white concrete, soaring up, terrace after terrace, 300 metres into the air.\"\n",
        "\n",
        "Text: \"{text}\"\n",
        "\n",
        "Answer: '''\n",
        "\n",
        "simpleUtterences = ['''It was a bright cold day in April, and the clocks were striking thirteen. Winston Smith, his chin nuzzled into his breast in an effort to escape the vile wind, slipped quickly through the glass doors of Victory Mansions, though not quickly enough to prevent a swirl of gritty dust from entering along with him.''',\n",
        "              '''Winston made for the stairs. It was no use trying the lift. Even at the best of times it was seldom working, and at present the electric current was cut off during daylight hours.''',\n",
        "              '''He moved over to the window: a smallish, frail figure, the meagreness of his body merely emphasized by the blue overalls which were the uniform of the party. His hair was very fair, his face naturally sanguine, his skin roughened by coarse soap and blunt razor blades and the cold of the winter that had just ended.''',\n",
        "              '''Down at street level another poster, torn at one corner, flapped fitfully in the wind, alternately covering and uncovering the single word INGSOC. In the far distance a helicopter skimmed down between the roofs, hovered for an instant like a bluebottle, and darted away again with a curving flight.''',\n",
        "              '''It was safer, though, as he well knew, even a back can be revealing. The Ministry of Truth, his workplace, stood tall and white a kilometre away. This was London, the chief city of Airstrip One and one of the three most populous provinces of Oceania.''',\n",
        "              '''He had little recollection of his sister, only as an infant who was weak and rarely made any sound, but had observant eyes.''',\n",
        "              '''The boy had a determined look in his eye and seemed to want to hit or kick Winston. He seemed to be aware that he was almost big enough to do so.''']"
      ],
      "metadata": {
        "id": "1ZgmnQPFAexV"
      },
      "execution_count": null,
      "outputs": []
    },
    {
      "cell_type": "code",
      "source": [
        "llama_orwell = []\n",
        "for u in simpleUtterences:\n",
        "    answer = orwellize(prompt_oneshot.format(text = u))[0]['generated_text']\n",
        "    llama_orwell.append(answer)"
      ],
      "metadata": {
        "id": "PnSYFTeAWYJP"
      },
      "execution_count": null,
      "outputs": []
    },
    {
      "cell_type": "code",
      "source": [
        "origUtterences = ['''It was a bright cold day in April, and the clocks were striking thirteen. Winston Smith, his chin nuzzled into his breast in an effort to escape the vile wind, slipped quickly through the glass doors of Victory Mansions, though not quickly enough to prevent a swirl of gritty dust from entering along with him.''',\n",
        "              '''Winston made for the stairs. It was no use trying the lift. Even at the best of times it was seldom working, and at present the electric current was cut off during daylight hours.''',\n",
        "              '''He moved over to the window: a smallish, frail figure, the meagreness of his body merely emphasized by the blue overalls which were the uniform of the party. His hair was very fair, his face naturally sanguine, his skin roughened by coarse soap and blunt razor blades and the cold of the winter that had just ended.''',\n",
        "              '''Down at street level another poster, torn at one corner, flapped fitfully in the wind, alternately covering and uncovering the single word INGSOC. In the far distance a helicopter skimmed down between the roofs, hovered for an instant like a bluebottle, and darted away again with a curving flight.''',\n",
        "              '''It was safer, though, as he well knew, even a back can be revealing. A kilometre away the Ministry of Truth, his place of work, towered vast and white above the grimy landscape. This, he thought with a sort of vague distaste—this was London, chief city of Airstrip One, itself the third most populous of the provinces of Oceania.''',\n",
        "                  '''He did not remember his sister at all, except as a tiny, feeble baby, always silent, with large, watchful eyes.''',\n",
        "                  ''' There was a sort of calculating ferocity in the boy's eye, a quite evident desire to hit or kick Winston and a consciousness of being very nearly big enough to do so.''']\n",
        "\n",
        "llama2pretrained1shot = llama_orwell\n",
        "\n",
        "import pandas as pd\n",
        "pd.set_option('display.max_colwidth', None)\n",
        "df = pd.DataFrame({ 'Neutral sentence': simpleUtterences, 'Llama rewrite (1shot)': llama2pretrained1shot, 'Orwell\\'s original': origUtterences })\n",
        "df"
      ],
      "metadata": {
        "colab": {
          "base_uri": "https://localhost:8080/",
          "height": 633
        },
        "id": "l5Wqr2VtYnik",
        "outputId": "6805883e-2a6a-41fb-c6a9-95029b7bd0f1"
      },
      "execution_count": 3,
      "outputs": [
        {
          "output_type": "execute_result",
          "data": {
            "text/plain": [
              "                                                                                                                                                                                                                                                                                                              Neutral sentence  \\\n",
              "0                                                                                                                                                         On a cold April day, the clocks struck thirteen. Winston Smith entered Victory Mansions through glass doors, but not quickly enough to avoid dust entering with him.   \n",
              "1                                                                                                                                          Winston made for the stairs. It was no use trying the lift. Even at the best of times it was seldom working, and at present the electric current was cut off during daylight hours.   \n",
              "2  He moved over to the window: a smallish, frail figure, the meagreness of his body merely emphasized by the blue overalls which were the uniform of the party. His hair was very fair, his face naturally sanguine, his skin roughened by coarse soap and blunt razor blades and the cold of the winter that had just ended.   \n",
              "3                   Down at street level another poster, torn at one corner, flapped fitfully in the wind, alternately covering and uncovering the single word INGSOC. In the far distance a helicopter skimmed down between the roofs, hovered for an instant like a bluebottle, and darted away again with a curving flight.   \n",
              "4                                                                   It was safer, though, as he well knew, even a back can be revealing. The Ministry of Truth, his workplace, stood tall and white a kilometre away. This was London, the chief city of Airstrip One and one of the three most populous provinces of Oceania.   \n",
              "5                                                                                                                                                                                                  He had little recollection of his sister, only as an infant who was weak and rarely made any sound, but had observant eyes.   \n",
              "6                                                                                                                                                                            The boy had a determined look in his eye and seemed to want to hit or kick Winston. He seemed to be aware that he was almost big enough to do so.   \n",
              "\n",
              "                                                                                                                                                                                                                                                                                                                                                                                                                                                                                               Llama rewrite (1shot)  \\\n",
              "0                                                                                                                                                                                                          It was a blisteringly cold April day, and the clocks were striking thirteen. Winston Smith, his face tucked into his chest in a feeble attempt to ward off the biting wind, hastily pushed open the grimy glass doors of Victory Mansions, only managing to admit a noxious cloud of dust in the process.   \n",
              "1                                                                                                                                                                                                              Winston trudged towards the stairs, knowing full well that attempting to utilize the lift would be futile. In this era of limited power supply, the lift was rarely functional during daylight hours, and now, with the electricity cut off, it was next to impossible to summon its mechanical arms.   \n",
              "2  He crossed over to the window, a diminutive and emaciated figure, his slender frame accentuated by the drab blue garb that served as the standard attire for our collective. His locks were a pale shade of gold, his countenance bearing the unmistakable imprint of good health, despite the harsh conditions he had endured during the recent winter. The coarseness of his skin, roughened by crude ablutions and the dull blade of a rusty razor, bore eloquent testimony to the privations he had suffered.   \n",
              "3                                                                                                                                                                                                                     A poster, tattered at its edge, fluttered aimlessly in the breeze, obscuring and revealing the single word 'INGSOC' as it whipped about. From a great distance, a helicopter buzzed between the rooftops, hovering momentarily like a gadfly before darting off once more on its sinuous path.   \n",
              "4                                                                                    It was safer, indeed, for he was well aware that even the most seemingly innocuous features of one's surroundings could betray one's whereabouts. Even at a distance of a kilometer, the imposing form of the Ministry of Truth, his place of employment, loomed large and white above the squalid landscape. London, the capital city of Airstrip One, which boasted the third largest population of the provinces of Oceania.   \n",
              "5                                                                                                                                                                                                                                                                                                                                                                                      He could barely recall his sister, a tiny infant who was feeble and produced little noise, yet her eyes were always watchful.   \n",
              "6                                                                                                                                                                                                                                                                                                                              The lad had a fierce glint in his eye, as if he yearned to inflict bodily harm upon Winston. It was clear that he was cognizant of his proximity to Winston, and eager to exploit it.   \n",
              "\n",
              "                                                                                                                                                                                                                                                                                                                           Orwell's original  \n",
              "0                     It was a bright cold day in April, and the clocks were striking thirteen. Winston Smith, his chin nuzzled into his breast in an effort to escape the vile wind, slipped quickly through the glass doors of Victory Mansions, though not quickly enough to prevent a swirl of gritty dust from entering along with him.  \n",
              "1                                                                                                                                                        Winston made for the stairs. It was no use trying the lift. Even at the best of times it was seldom working, and at present the electric current was cut off during daylight hours.  \n",
              "2                He moved over to the window: a smallish, frail figure, the meagreness of his body merely emphasized by the blue overalls which were the uniform of the party. His hair was very fair, his face naturally sanguine, his skin roughened by coarse soap and blunt razor blades and the cold of the winter that had just ended.  \n",
              "3                                 Down at street level another poster, torn at one corner, flapped fitfully in the wind, alternately covering and uncovering the single word INGSOC. In the far distance a helicopter skimmed down between the roofs, hovered for an instant like a bluebottle, and darted away again with a curving flight.  \n",
              "4  It was safer, though, as he well knew, even a back can be revealing. A kilometre away the Ministry of Truth, his place of work, towered vast and white above the grimy landscape. This, he thought with a sort of vague distaste—this was London, chief city of Airstrip One, itself the third most populous of the provinces of Oceania.  \n",
              "5                                                                                                                                                                                                                            He did not remember his sister at all, except as a tiny, feeble baby, always silent, with large, watchful eyes.  \n",
              "6                                                                                                                                                                     There was a sort of calculating ferocity in the boy's eye, a quite evident desire to hit or kick Winston and a consciousness of being very nearly big enough to do so.  "
            ],
            "text/html": [
              "\n",
              "  <div id=\"df-5a074d8e-0a5b-4596-a18d-bb41b4b69db3\" class=\"colab-df-container\">\n",
              "    <div>\n",
              "<style scoped>\n",
              "    .dataframe tbody tr th:only-of-type {\n",
              "        vertical-align: middle;\n",
              "    }\n",
              "\n",
              "    .dataframe tbody tr th {\n",
              "        vertical-align: top;\n",
              "    }\n",
              "\n",
              "    .dataframe thead th {\n",
              "        text-align: right;\n",
              "    }\n",
              "</style>\n",
              "<table border=\"1\" class=\"dataframe\">\n",
              "  <thead>\n",
              "    <tr style=\"text-align: right;\">\n",
              "      <th></th>\n",
              "      <th>Neutral sentence</th>\n",
              "      <th>Llama rewrite (1shot)</th>\n",
              "      <th>Orwell's original</th>\n",
              "    </tr>\n",
              "  </thead>\n",
              "  <tbody>\n",
              "    <tr>\n",
              "      <th>0</th>\n",
              "      <td>On a cold April day, the clocks struck thirteen. Winston Smith entered Victory Mansions through glass doors, but not quickly enough to avoid dust entering with him.</td>\n",
              "      <td>It was a blisteringly cold April day, and the clocks were striking thirteen. Winston Smith, his face tucked into his chest in a feeble attempt to ward off the biting wind, hastily pushed open the grimy glass doors of Victory Mansions, only managing to admit a noxious cloud of dust in the process.</td>\n",
              "      <td>It was a bright cold day in April, and the clocks were striking thirteen. Winston Smith, his chin nuzzled into his breast in an effort to escape the vile wind, slipped quickly through the glass doors of Victory Mansions, though not quickly enough to prevent a swirl of gritty dust from entering along with him.</td>\n",
              "    </tr>\n",
              "    <tr>\n",
              "      <th>1</th>\n",
              "      <td>Winston made for the stairs. It was no use trying the lift. Even at the best of times it was seldom working, and at present the electric current was cut off during daylight hours.</td>\n",
              "      <td>Winston trudged towards the stairs, knowing full well that attempting to utilize the lift would be futile. In this era of limited power supply, the lift was rarely functional during daylight hours, and now, with the electricity cut off, it was next to impossible to summon its mechanical arms.</td>\n",
              "      <td>Winston made for the stairs. It was no use trying the lift. Even at the best of times it was seldom working, and at present the electric current was cut off during daylight hours.</td>\n",
              "    </tr>\n",
              "    <tr>\n",
              "      <th>2</th>\n",
              "      <td>He moved over to the window: a smallish, frail figure, the meagreness of his body merely emphasized by the blue overalls which were the uniform of the party. His hair was very fair, his face naturally sanguine, his skin roughened by coarse soap and blunt razor blades and the cold of the winter that had just ended.</td>\n",
              "      <td>He crossed over to the window, a diminutive and emaciated figure, his slender frame accentuated by the drab blue garb that served as the standard attire for our collective. His locks were a pale shade of gold, his countenance bearing the unmistakable imprint of good health, despite the harsh conditions he had endured during the recent winter. The coarseness of his skin, roughened by crude ablutions and the dull blade of a rusty razor, bore eloquent testimony to the privations he had suffered.</td>\n",
              "      <td>He moved over to the window: a smallish, frail figure, the meagreness of his body merely emphasized by the blue overalls which were the uniform of the party. His hair was very fair, his face naturally sanguine, his skin roughened by coarse soap and blunt razor blades and the cold of the winter that had just ended.</td>\n",
              "    </tr>\n",
              "    <tr>\n",
              "      <th>3</th>\n",
              "      <td>Down at street level another poster, torn at one corner, flapped fitfully in the wind, alternately covering and uncovering the single word INGSOC. In the far distance a helicopter skimmed down between the roofs, hovered for an instant like a bluebottle, and darted away again with a curving flight.</td>\n",
              "      <td>A poster, tattered at its edge, fluttered aimlessly in the breeze, obscuring and revealing the single word 'INGSOC' as it whipped about. From a great distance, a helicopter buzzed between the rooftops, hovering momentarily like a gadfly before darting off once more on its sinuous path.</td>\n",
              "      <td>Down at street level another poster, torn at one corner, flapped fitfully in the wind, alternately covering and uncovering the single word INGSOC. In the far distance a helicopter skimmed down between the roofs, hovered for an instant like a bluebottle, and darted away again with a curving flight.</td>\n",
              "    </tr>\n",
              "    <tr>\n",
              "      <th>4</th>\n",
              "      <td>It was safer, though, as he well knew, even a back can be revealing. The Ministry of Truth, his workplace, stood tall and white a kilometre away. This was London, the chief city of Airstrip One and one of the three most populous provinces of Oceania.</td>\n",
              "      <td>It was safer, indeed, for he was well aware that even the most seemingly innocuous features of one's surroundings could betray one's whereabouts. Even at a distance of a kilometer, the imposing form of the Ministry of Truth, his place of employment, loomed large and white above the squalid landscape. London, the capital city of Airstrip One, which boasted the third largest population of the provinces of Oceania.</td>\n",
              "      <td>It was safer, though, as he well knew, even a back can be revealing. A kilometre away the Ministry of Truth, his place of work, towered vast and white above the grimy landscape. This, he thought with a sort of vague distaste—this was London, chief city of Airstrip One, itself the third most populous of the provinces of Oceania.</td>\n",
              "    </tr>\n",
              "    <tr>\n",
              "      <th>5</th>\n",
              "      <td>He had little recollection of his sister, only as an infant who was weak and rarely made any sound, but had observant eyes.</td>\n",
              "      <td>He could barely recall his sister, a tiny infant who was feeble and produced little noise, yet her eyes were always watchful.</td>\n",
              "      <td>He did not remember his sister at all, except as a tiny, feeble baby, always silent, with large, watchful eyes.</td>\n",
              "    </tr>\n",
              "    <tr>\n",
              "      <th>6</th>\n",
              "      <td>The boy had a determined look in his eye and seemed to want to hit or kick Winston. He seemed to be aware that he was almost big enough to do so.</td>\n",
              "      <td>The lad had a fierce glint in his eye, as if he yearned to inflict bodily harm upon Winston. It was clear that he was cognizant of his proximity to Winston, and eager to exploit it.</td>\n",
              "      <td>There was a sort of calculating ferocity in the boy's eye, a quite evident desire to hit or kick Winston and a consciousness of being very nearly big enough to do so.</td>\n",
              "    </tr>\n",
              "  </tbody>\n",
              "</table>\n",
              "</div>\n",
              "    <div class=\"colab-df-buttons\">\n",
              "\n",
              "  <div class=\"colab-df-container\">\n",
              "    <button class=\"colab-df-convert\" onclick=\"convertToInteractive('df-5a074d8e-0a5b-4596-a18d-bb41b4b69db3')\"\n",
              "            title=\"Convert this dataframe to an interactive table.\"\n",
              "            style=\"display:none;\">\n",
              "\n",
              "  <svg xmlns=\"http://www.w3.org/2000/svg\" height=\"24px\" viewBox=\"0 -960 960 960\">\n",
              "    <path d=\"M120-120v-720h720v720H120Zm60-500h600v-160H180v160Zm220 220h160v-160H400v160Zm0 220h160v-160H400v160ZM180-400h160v-160H180v160Zm440 0h160v-160H620v160ZM180-180h160v-160H180v160Zm440 0h160v-160H620v160Z\"/>\n",
              "  </svg>\n",
              "    </button>\n",
              "\n",
              "  <style>\n",
              "    .colab-df-container {\n",
              "      display:flex;\n",
              "      gap: 12px;\n",
              "    }\n",
              "\n",
              "    .colab-df-convert {\n",
              "      background-color: #E8F0FE;\n",
              "      border: none;\n",
              "      border-radius: 50%;\n",
              "      cursor: pointer;\n",
              "      display: none;\n",
              "      fill: #1967D2;\n",
              "      height: 32px;\n",
              "      padding: 0 0 0 0;\n",
              "      width: 32px;\n",
              "    }\n",
              "\n",
              "    .colab-df-convert:hover {\n",
              "      background-color: #E2EBFA;\n",
              "      box-shadow: 0px 1px 2px rgba(60, 64, 67, 0.3), 0px 1px 3px 1px rgba(60, 64, 67, 0.15);\n",
              "      fill: #174EA6;\n",
              "    }\n",
              "\n",
              "    .colab-df-buttons div {\n",
              "      margin-bottom: 4px;\n",
              "    }\n",
              "\n",
              "    [theme=dark] .colab-df-convert {\n",
              "      background-color: #3B4455;\n",
              "      fill: #D2E3FC;\n",
              "    }\n",
              "\n",
              "    [theme=dark] .colab-df-convert:hover {\n",
              "      background-color: #434B5C;\n",
              "      box-shadow: 0px 1px 3px 1px rgba(0, 0, 0, 0.15);\n",
              "      filter: drop-shadow(0px 1px 2px rgba(0, 0, 0, 0.3));\n",
              "      fill: #FFFFFF;\n",
              "    }\n",
              "  </style>\n",
              "\n",
              "    <script>\n",
              "      const buttonEl =\n",
              "        document.querySelector('#df-5a074d8e-0a5b-4596-a18d-bb41b4b69db3 button.colab-df-convert');\n",
              "      buttonEl.style.display =\n",
              "        google.colab.kernel.accessAllowed ? 'block' : 'none';\n",
              "\n",
              "      async function convertToInteractive(key) {\n",
              "        const element = document.querySelector('#df-5a074d8e-0a5b-4596-a18d-bb41b4b69db3');\n",
              "        const dataTable =\n",
              "          await google.colab.kernel.invokeFunction('convertToInteractive',\n",
              "                                                    [key], {});\n",
              "        if (!dataTable) return;\n",
              "\n",
              "        const docLinkHtml = 'Like what you see? Visit the ' +\n",
              "          '<a target=\"_blank\" href=https://colab.research.google.com/notebooks/data_table.ipynb>data table notebook</a>'\n",
              "          + ' to learn more about interactive tables.';\n",
              "        element.innerHTML = '';\n",
              "        dataTable['output_type'] = 'display_data';\n",
              "        await google.colab.output.renderOutput(dataTable, element);\n",
              "        const docLink = document.createElement('div');\n",
              "        docLink.innerHTML = docLinkHtml;\n",
              "        element.appendChild(docLink);\n",
              "      }\n",
              "    </script>\n",
              "  </div>\n",
              "\n",
              "\n",
              "<div id=\"df-f457ad8d-5591-4472-b91d-da1f69b54e0a\">\n",
              "  <button class=\"colab-df-quickchart\" onclick=\"quickchart('df-f457ad8d-5591-4472-b91d-da1f69b54e0a')\"\n",
              "            title=\"Suggest charts.\"\n",
              "            style=\"display:none;\">\n",
              "\n",
              "<svg xmlns=\"http://www.w3.org/2000/svg\" height=\"24px\"viewBox=\"0 0 24 24\"\n",
              "     width=\"24px\">\n",
              "    <g>\n",
              "        <path d=\"M19 3H5c-1.1 0-2 .9-2 2v14c0 1.1.9 2 2 2h14c1.1 0 2-.9 2-2V5c0-1.1-.9-2-2-2zM9 17H7v-7h2v7zm4 0h-2V7h2v10zm4 0h-2v-4h2v4z\"/>\n",
              "    </g>\n",
              "</svg>\n",
              "  </button>\n",
              "\n",
              "<style>\n",
              "  .colab-df-quickchart {\n",
              "      --bg-color: #E8F0FE;\n",
              "      --fill-color: #1967D2;\n",
              "      --hover-bg-color: #E2EBFA;\n",
              "      --hover-fill-color: #174EA6;\n",
              "      --disabled-fill-color: #AAA;\n",
              "      --disabled-bg-color: #DDD;\n",
              "  }\n",
              "\n",
              "  [theme=dark] .colab-df-quickchart {\n",
              "      --bg-color: #3B4455;\n",
              "      --fill-color: #D2E3FC;\n",
              "      --hover-bg-color: #434B5C;\n",
              "      --hover-fill-color: #FFFFFF;\n",
              "      --disabled-bg-color: #3B4455;\n",
              "      --disabled-fill-color: #666;\n",
              "  }\n",
              "\n",
              "  .colab-df-quickchart {\n",
              "    background-color: var(--bg-color);\n",
              "    border: none;\n",
              "    border-radius: 50%;\n",
              "    cursor: pointer;\n",
              "    display: none;\n",
              "    fill: var(--fill-color);\n",
              "    height: 32px;\n",
              "    padding: 0;\n",
              "    width: 32px;\n",
              "  }\n",
              "\n",
              "  .colab-df-quickchart:hover {\n",
              "    background-color: var(--hover-bg-color);\n",
              "    box-shadow: 0 1px 2px rgba(60, 64, 67, 0.3), 0 1px 3px 1px rgba(60, 64, 67, 0.15);\n",
              "    fill: var(--button-hover-fill-color);\n",
              "  }\n",
              "\n",
              "  .colab-df-quickchart-complete:disabled,\n",
              "  .colab-df-quickchart-complete:disabled:hover {\n",
              "    background-color: var(--disabled-bg-color);\n",
              "    fill: var(--disabled-fill-color);\n",
              "    box-shadow: none;\n",
              "  }\n",
              "\n",
              "  .colab-df-spinner {\n",
              "    border: 2px solid var(--fill-color);\n",
              "    border-color: transparent;\n",
              "    border-bottom-color: var(--fill-color);\n",
              "    animation:\n",
              "      spin 1s steps(1) infinite;\n",
              "  }\n",
              "\n",
              "  @keyframes spin {\n",
              "    0% {\n",
              "      border-color: transparent;\n",
              "      border-bottom-color: var(--fill-color);\n",
              "      border-left-color: var(--fill-color);\n",
              "    }\n",
              "    20% {\n",
              "      border-color: transparent;\n",
              "      border-left-color: var(--fill-color);\n",
              "      border-top-color: var(--fill-color);\n",
              "    }\n",
              "    30% {\n",
              "      border-color: transparent;\n",
              "      border-left-color: var(--fill-color);\n",
              "      border-top-color: var(--fill-color);\n",
              "      border-right-color: var(--fill-color);\n",
              "    }\n",
              "    40% {\n",
              "      border-color: transparent;\n",
              "      border-right-color: var(--fill-color);\n",
              "      border-top-color: var(--fill-color);\n",
              "    }\n",
              "    60% {\n",
              "      border-color: transparent;\n",
              "      border-right-color: var(--fill-color);\n",
              "    }\n",
              "    80% {\n",
              "      border-color: transparent;\n",
              "      border-right-color: var(--fill-color);\n",
              "      border-bottom-color: var(--fill-color);\n",
              "    }\n",
              "    90% {\n",
              "      border-color: transparent;\n",
              "      border-bottom-color: var(--fill-color);\n",
              "    }\n",
              "  }\n",
              "</style>\n",
              "\n",
              "  <script>\n",
              "    async function quickchart(key) {\n",
              "      const quickchartButtonEl =\n",
              "        document.querySelector('#' + key + ' button');\n",
              "      quickchartButtonEl.disabled = true;  // To prevent multiple clicks.\n",
              "      quickchartButtonEl.classList.add('colab-df-spinner');\n",
              "      try {\n",
              "        const charts = await google.colab.kernel.invokeFunction(\n",
              "            'suggestCharts', [key], {});\n",
              "      } catch (error) {\n",
              "        console.error('Error during call to suggestCharts:', error);\n",
              "      }\n",
              "      quickchartButtonEl.classList.remove('colab-df-spinner');\n",
              "      quickchartButtonEl.classList.add('colab-df-quickchart-complete');\n",
              "    }\n",
              "    (() => {\n",
              "      let quickchartButtonEl =\n",
              "        document.querySelector('#df-f457ad8d-5591-4472-b91d-da1f69b54e0a button');\n",
              "      quickchartButtonEl.style.display =\n",
              "        google.colab.kernel.accessAllowed ? 'block' : 'none';\n",
              "    })();\n",
              "  </script>\n",
              "</div>\n",
              "\n",
              "  <div id=\"id_feb34c11-7b23-4e5d-8bc7-2e17698a35a7\">\n",
              "    <style>\n",
              "      .colab-df-generate {\n",
              "        background-color: #E8F0FE;\n",
              "        border: none;\n",
              "        border-radius: 50%;\n",
              "        cursor: pointer;\n",
              "        display: none;\n",
              "        fill: #1967D2;\n",
              "        height: 32px;\n",
              "        padding: 0 0 0 0;\n",
              "        width: 32px;\n",
              "      }\n",
              "\n",
              "      .colab-df-generate:hover {\n",
              "        background-color: #E2EBFA;\n",
              "        box-shadow: 0px 1px 2px rgba(60, 64, 67, 0.3), 0px 1px 3px 1px rgba(60, 64, 67, 0.15);\n",
              "        fill: #174EA6;\n",
              "      }\n",
              "\n",
              "      [theme=dark] .colab-df-generate {\n",
              "        background-color: #3B4455;\n",
              "        fill: #D2E3FC;\n",
              "      }\n",
              "\n",
              "      [theme=dark] .colab-df-generate:hover {\n",
              "        background-color: #434B5C;\n",
              "        box-shadow: 0px 1px 3px 1px rgba(0, 0, 0, 0.15);\n",
              "        filter: drop-shadow(0px 1px 2px rgba(0, 0, 0, 0.3));\n",
              "        fill: #FFFFFF;\n",
              "      }\n",
              "    </style>\n",
              "    <button class=\"colab-df-generate\" onclick=\"generateWithVariable('df')\"\n",
              "            title=\"Generate code using this dataframe.\"\n",
              "            style=\"display:none;\">\n",
              "\n",
              "  <svg xmlns=\"http://www.w3.org/2000/svg\" height=\"24px\"viewBox=\"0 0 24 24\"\n",
              "       width=\"24px\">\n",
              "    <path d=\"M7,19H8.4L18.45,9,17,7.55,7,17.6ZM5,21V16.75L18.45,3.32a2,2,0,0,1,2.83,0l1.4,1.43a1.91,1.91,0,0,1,.58,1.4,1.91,1.91,0,0,1-.58,1.4L9.25,21ZM18.45,9,17,7.55Zm-12,3A5.31,5.31,0,0,0,4.9,8.1,5.31,5.31,0,0,0,1,6.5,5.31,5.31,0,0,0,4.9,4.9,5.31,5.31,0,0,0,6.5,1,5.31,5.31,0,0,0,8.1,4.9,5.31,5.31,0,0,0,12,6.5,5.46,5.46,0,0,0,6.5,12Z\"/>\n",
              "  </svg>\n",
              "    </button>\n",
              "    <script>\n",
              "      (() => {\n",
              "      const buttonEl =\n",
              "        document.querySelector('#id_feb34c11-7b23-4e5d-8bc7-2e17698a35a7 button.colab-df-generate');\n",
              "      buttonEl.style.display =\n",
              "        google.colab.kernel.accessAllowed ? 'block' : 'none';\n",
              "\n",
              "      buttonEl.onclick = () => {\n",
              "        google.colab.notebook.generateWithVariable('df');\n",
              "      }\n",
              "      })();\n",
              "    </script>\n",
              "  </div>\n",
              "\n",
              "    </div>\n",
              "  </div>\n"
            ]
          },
          "metadata": {},
          "execution_count": 3
        }
      ]
    },
    {
      "cell_type": "markdown",
      "source": [
        "The structure of sentences adheres more to the original sentence than with 0-shot prompting, but it's clear that even with guidence Llama2 produces convoluted and generic ellaboartions on the original content."
      ],
      "metadata": {
        "id": "fMPXmWj8dRds"
      }
    },
    {
      "cell_type": "markdown",
      "source": [
        "### Query GPT-3.5-turbo\n",
        "\n",
        "To create a set of neutral utterances out of Orwell's sentences we tried several prompts and used based one to prepare the training and eval dataset.\n",
        "\n",
        "Note: we could have used function calls but we alredy had the instruction formatting from LangChain so we used that instead."
      ],
      "metadata": {
        "id": "xggsQY-c9sJr"
      }
    },
    {
      "cell_type": "code",
      "source": [
        "!pip install openai"
      ],
      "metadata": {
        "id": "kWeTox4M98ZT"
      },
      "execution_count": null,
      "outputs": []
    },
    {
      "cell_type": "code",
      "source": [
        "import openai\n",
        "import os\n",
        "\n",
        "openai.api_key = os.environ['OPENAI_API_KEY']"
      ],
      "metadata": {
        "id": "dz4aVkx_93Xq"
      },
      "execution_count": null,
      "outputs": []
    },
    {
      "cell_type": "code",
      "source": [
        "from functools import partial\n",
        "\n",
        "prompt = '''Make the following text in quotes appear neutral. Convey the same meaning but with simpler vocabulary and without any language devices. Have a very neutral output response.\n",
        "\n",
        "Text: \"{text}\"\n",
        "\n",
        "{format_instructions}\n",
        "\n",
        "Answer: '''\n",
        "\n",
        "p_prompt = partial(prompt.format, format_instructions=format_instructions)\n",
        "\n",
        "def query_openai(query):\n",
        "    res = openai.ChatCompletion.create(\n",
        "    model=\"gpt-3.5-turbo\",\n",
        "    max_tokens=256,\n",
        "    temperature=0,\n",
        "    messages=[\n",
        "            {\"role\": \"system\", \"content\": \"You are a helpful assistant.\"},\n",
        "            {\"role\": \"user\", \"content\": query}\n",
        "        ]\n",
        "    )\n",
        "\n",
        "    reason = res['choices'][0]['finish_reason']\n",
        "\n",
        "    if reason == 'stop' or reason == 'length':\n",
        "        return res['choices'][0]['message']['content']\n",
        "    return 0\n",
        "\n",
        "\n",
        "\n",
        "import pickle\n",
        "def save_results(transformed, misfits, file='1984_transformed.pkl'):\n",
        "    with open(f'/content/drive/MyDrive/ML/data/{file}', 'wb') as f:\n",
        "        print('Saving results...')\n",
        "        pickle.dump({'transformed': transformed,\n",
        "                     'misfits': misfits\n",
        "                }, f)"
      ],
      "metadata": {
        "id": "0o66_sr79qAz"
      },
      "execution_count": null,
      "outputs": []
    },
    {
      "cell_type": "code",
      "source": [
        "chatgpt_answers = []\n",
        "misfits = []"
      ],
      "metadata": {
        "id": "AQfePNlHi80N"
      },
      "execution_count": null,
      "outputs": []
    },
    {
      "cell_type": "code",
      "source": [
        "import time\n",
        "start = 0\n",
        "for i, u in enumerate(processed_sentences[start:], start):\n",
        "    try:\n",
        "        if i % 10 == 0:\n",
        "            save_results(chatgpt_answers, misfits, file='1984_transformed.pkl')\n",
        "        print(f\" -----\\n Text {i}:\",  u)\n",
        "        answer = query_openai(p_prompt(text = u))\n",
        "        answer = output_parser.parse(answer)\n",
        "        print(\"Answer:\", answer['transformed_text'])\n",
        "        chatgpt_answers.append((u, answer['transformed_text']))\n",
        "    except:\n",
        "        start = i\n",
        "        save_results(chatgpt_answers, misfits, file='1984_transformed.pkl')\n",
        "        print('Save and sleep...')\n",
        "        time.sleep(20)\n",
        "        print(f'Adding index {i} to misfits ({len(misfits)})')\n",
        "        misfits.append(u)\n",
        "\n",
        "save_results(chatgpt_answers,  misfits, file='1984_transformed.pkl')"
      ],
      "metadata": {
        "id": "eBh-391M9p-O"
      },
      "execution_count": null,
      "outputs": []
    },
    {
      "cell_type": "code",
      "source": [
        "chatgpt_answers[3181]"
      ],
      "metadata": {
        "colab": {
          "base_uri": "https://localhost:8080/"
        },
        "id": "46_L8w7axT8A",
        "outputId": "ecafc0b9-a848-4225-a83f-05b19c050dec"
      },
      "execution_count": null,
      "outputs": [
        {
          "output_type": "execute_result",
          "data": {
            "text/plain": [
              "('The circle of the mask was large enough now to shut out the vision of anything else.',\n",
              " 'The mask covered everything.')"
            ]
          },
          "metadata": {},
          "execution_count": 53
        }
      ]
    },
    {
      "cell_type": "markdown",
      "source": [
        "Note: not all translations made with gpt3.5-turbo are ideal or even correct. Some are slightly shorter than supposed to, others don't strip away all the literary devices or adjectives. Some even change the meaning of the sentence to incorrect:\n",
        "\n",
        " 1)\n",
        " - Original: *Once when they passed in the corridor she gave him a quick sidelong glance which seemed to pierce right into him and for a moment had filled him with black terror.*\n",
        " - Transformed: *Once when they passed in the corridor she gave him a quick sidelong glance.*\n",
        "\n",
        "2)\n",
        " - Original: *That, it was true, was very unlikely. Still, he continued to feel a peculiar uneasiness, which had fear mixed up in it as well as hostility, whenever she was anywhere near him.*\n",
        " - Transformed: *It was unlikely that he felt uneasy and fearful when she was near him.*"
      ],
      "metadata": {
        "id": "SqrhY6ZVnaC0"
      }
    },
    {
      "cell_type": "markdown",
      "source": [
        "##2. Prepare datasets for fine-tuning"
      ],
      "metadata": {
        "id": "lIFB2zGJJdcw"
      }
    },
    {
      "cell_type": "code",
      "source": [
        "import pickle\n",
        "\n",
        "with open('/content/drive/MyDrive/ML/data/1984_transformed.pkl', 'rb') as f:\n",
        "    data = pickle.load(f)\n",
        "    all_data = data['transformed']\n",
        "\n",
        "\n",
        "len(all_data), all_data[10]"
      ],
      "metadata": {
        "colab": {
          "base_uri": "https://localhost:8080/"
        },
        "id": "rHqW8dXi9p7o",
        "outputId": "c7948abc-6404-4069-e1f7-a20508e5d2f4"
      },
      "execution_count": null,
      "outputs": [
        {
          "output_type": "execute_result",
          "data": {
            "text/plain": [
              "(3553,\n",
              " ('On each landing, opposite the lift-shaft, the poster with the enormous face gazed from the wall.',\n",
              "  'On each landing, across from the lift-shaft, there was a poster with a large face that looked out from the wall.'))"
            ]
          },
          "metadata": {},
          "execution_count": 2
        }
      ]
    },
    {
      "cell_type": "markdown",
      "source": [
        "Select random subset for the evaluation:"
      ],
      "metadata": {
        "id": "lvpj4-ODxxPI"
      }
    },
    {
      "cell_type": "code",
      "source": [
        "PERCENT = 0.05\n",
        "\n",
        "import random\n",
        "\n",
        "random.seed(42)\n",
        "eval_data = random.sample(all_data, int(len(all_data) * PERCENT))\n",
        "train_data = [x for x in all_data if x not in eval_data]\n",
        "\n",
        "len(eval_data), len(train_data), train_data[15], eval_data[15]"
      ],
      "metadata": {
        "colab": {
          "base_uri": "https://localhost:8080/"
        },
        "id": "NAn_rg7yxz6p",
        "outputId": "2befda24-31af-4bfd-af07-953337d064da"
      },
      "execution_count": null,
      "outputs": [
        {
          "output_type": "execute_result",
          "data": {
            "text/plain": [
              "(177,\n",
              " 3376,\n",
              " ('The instrument (the telescreen, it was called) could be dimmed, but there was no way of shutting it off completely.',\n",
              "  'The instrument, known as the telescreen, had a dimming function but could not be completely turned off.'),\n",
              " ('Did you bring some of that filthy Victory Coffee? I thought you would.',\n",
              "  'Did you bring some of that Victory Coffee?'))"
            ]
          },
          "metadata": {},
          "execution_count": 3
        }
      ]
    },
    {
      "cell_type": "markdown",
      "source": [
        "We are going to store the train and eval samples in JSONL format which we will feed to Axolotl's framework during fine tuning.\n"
      ],
      "metadata": {
        "id": "54q4Fq9ECl2q"
      }
    },
    {
      "cell_type": "code",
      "source": [
        "import json\n",
        "\n",
        "instruction = '''Rewrite the following text in the style of George Orwell prose. Make sure to convey the meaning of the utterance.'''\n",
        "\n",
        "# save as jsonl file:\n",
        "with open('/content/drive/MyDrive/ML/data/1984_train.jsonl', 'w') as out:\n",
        "    for (input, output) in train_data:\n",
        "        ddict = {\"instruction\": instruction, \"input\": output, \"output\": input}\n",
        "        jout = json.dumps(ddict) + '\\n'\n",
        "        out.write(jout)\n",
        "\n",
        "\n",
        "with open('/content/drive/MyDrive/ML/data/1984_eval.jsonl', 'w') as out:\n",
        "    for (input, output) in eval_data:\n",
        "        ddict = {\"instruction\": instruction, \"input\": output, \"output\": input}\n",
        "        jout = json.dumps(ddict) + '\\n'\n",
        "        out.write(jout)\n"
      ],
      "metadata": {
        "id": "59m0zBy__3-6"
      },
      "execution_count": null,
      "outputs": []
    },
    {
      "cell_type": "markdown",
      "source": [
        "Save train-eval split for exploration."
      ],
      "metadata": {
        "id": "DNE7rdevylbJ"
      }
    },
    {
      "cell_type": "code",
      "source": [
        "import pickle\n",
        "\n",
        "with open(f'/content/drive/MyDrive/ML/data/1984_train_eval.pkl', 'wb') as f:\n",
        "    print('Saving results...')\n",
        "    pickle.dump({'train': train_data,\n",
        "                'eval': eval_data\n",
        "            }, f)\n"
      ],
      "metadata": {
        "colab": {
          "base_uri": "https://localhost:8080/"
        },
        "id": "RlfD79jtyVAf",
        "outputId": "2ecc6860-8009-409a-9587-59549a7a3669"
      },
      "execution_count": null,
      "outputs": [
        {
          "output_type": "stream",
          "name": "stdout",
          "text": [
            "Saving results...\n"
          ]
        }
      ]
    },
    {
      "cell_type": "code",
      "source": [],
      "metadata": {
        "id": "PGaEOHInEzNl"
      },
      "execution_count": null,
      "outputs": []
    }
  ]
}