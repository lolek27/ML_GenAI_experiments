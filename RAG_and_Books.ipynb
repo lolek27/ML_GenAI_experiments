{
  "nbformat": 4,
  "nbformat_minor": 0,
  "metadata": {
    "colab": {
      "provenance": [],
      "machine_shape": "hm",
      "gpuType": "T4"
    },
    "kernelspec": {
      "name": "python3",
      "display_name": "Python 3"
    },
    "language_info": {
      "name": "python"
    },
    "widgets": {
      "application/vnd.jupyter.widget-state+json": {
        "bb80469e1bab4eab9ff2c6f309f4f3a6": {
          "model_module": "@jupyter-widgets/controls",
          "model_name": "HBoxModel",
          "model_module_version": "1.5.0",
          "state": {
            "_dom_classes": [],
            "_model_module": "@jupyter-widgets/controls",
            "_model_module_version": "1.5.0",
            "_model_name": "HBoxModel",
            "_view_count": null,
            "_view_module": "@jupyter-widgets/controls",
            "_view_module_version": "1.5.0",
            "_view_name": "HBoxView",
            "box_style": "",
            "children": [
              "IPY_MODEL_301be6ead81c48879ddbebf14ddf13da",
              "IPY_MODEL_ed5561bb51894bd0be4ee51e48b24d68",
              "IPY_MODEL_fe5141ec403f4d93900a526270aadddf"
            ],
            "layout": "IPY_MODEL_6489cb3d60f849799bb59b6dd32896c5"
          }
        },
        "301be6ead81c48879ddbebf14ddf13da": {
          "model_module": "@jupyter-widgets/controls",
          "model_name": "HTMLModel",
          "model_module_version": "1.5.0",
          "state": {
            "_dom_classes": [],
            "_model_module": "@jupyter-widgets/controls",
            "_model_module_version": "1.5.0",
            "_model_name": "HTMLModel",
            "_view_count": null,
            "_view_module": "@jupyter-widgets/controls",
            "_view_module_version": "1.5.0",
            "_view_name": "HTMLView",
            "description": "",
            "description_tooltip": null,
            "layout": "IPY_MODEL_d107950aacef4c31bdf98b3ee73486ad",
            "placeholder": "​",
            "style": "IPY_MODEL_f0965835e2bb43fda488c5790101dc61",
            "value": "Downloading (…)lve/main/config.json: 100%"
          }
        },
        "ed5561bb51894bd0be4ee51e48b24d68": {
          "model_module": "@jupyter-widgets/controls",
          "model_name": "FloatProgressModel",
          "model_module_version": "1.5.0",
          "state": {
            "_dom_classes": [],
            "_model_module": "@jupyter-widgets/controls",
            "_model_module_version": "1.5.0",
            "_model_name": "FloatProgressModel",
            "_view_count": null,
            "_view_module": "@jupyter-widgets/controls",
            "_view_module_version": "1.5.0",
            "_view_name": "ProgressView",
            "bar_style": "success",
            "description": "",
            "description_tooltip": null,
            "layout": "IPY_MODEL_bc2263c48db84386ab51764a9470614c",
            "max": 587,
            "min": 0,
            "orientation": "horizontal",
            "style": "IPY_MODEL_fd8140e7776445da99162ea960dacf2a",
            "value": 587
          }
        },
        "fe5141ec403f4d93900a526270aadddf": {
          "model_module": "@jupyter-widgets/controls",
          "model_name": "HTMLModel",
          "model_module_version": "1.5.0",
          "state": {
            "_dom_classes": [],
            "_model_module": "@jupyter-widgets/controls",
            "_model_module_version": "1.5.0",
            "_model_name": "HTMLModel",
            "_view_count": null,
            "_view_module": "@jupyter-widgets/controls",
            "_view_module_version": "1.5.0",
            "_view_name": "HTMLView",
            "description": "",
            "description_tooltip": null,
            "layout": "IPY_MODEL_9d998f6f54254fafb6b8b526bd8cf8fb",
            "placeholder": "​",
            "style": "IPY_MODEL_76b2c186cd3f43a0ad33c961395bb537",
            "value": " 587/587 [00:00&lt;00:00, 4.18kB/s]"
          }
        },
        "6489cb3d60f849799bb59b6dd32896c5": {
          "model_module": "@jupyter-widgets/base",
          "model_name": "LayoutModel",
          "model_module_version": "1.2.0",
          "state": {
            "_model_module": "@jupyter-widgets/base",
            "_model_module_version": "1.2.0",
            "_model_name": "LayoutModel",
            "_view_count": null,
            "_view_module": "@jupyter-widgets/base",
            "_view_module_version": "1.2.0",
            "_view_name": "LayoutView",
            "align_content": null,
            "align_items": null,
            "align_self": null,
            "border": null,
            "bottom": null,
            "display": null,
            "flex": null,
            "flex_flow": null,
            "grid_area": null,
            "grid_auto_columns": null,
            "grid_auto_flow": null,
            "grid_auto_rows": null,
            "grid_column": null,
            "grid_gap": null,
            "grid_row": null,
            "grid_template_areas": null,
            "grid_template_columns": null,
            "grid_template_rows": null,
            "height": null,
            "justify_content": null,
            "justify_items": null,
            "left": null,
            "margin": null,
            "max_height": null,
            "max_width": null,
            "min_height": null,
            "min_width": null,
            "object_fit": null,
            "object_position": null,
            "order": null,
            "overflow": null,
            "overflow_x": null,
            "overflow_y": null,
            "padding": null,
            "right": null,
            "top": null,
            "visibility": null,
            "width": null
          }
        },
        "d107950aacef4c31bdf98b3ee73486ad": {
          "model_module": "@jupyter-widgets/base",
          "model_name": "LayoutModel",
          "model_module_version": "1.2.0",
          "state": {
            "_model_module": "@jupyter-widgets/base",
            "_model_module_version": "1.2.0",
            "_model_name": "LayoutModel",
            "_view_count": null,
            "_view_module": "@jupyter-widgets/base",
            "_view_module_version": "1.2.0",
            "_view_name": "LayoutView",
            "align_content": null,
            "align_items": null,
            "align_self": null,
            "border": null,
            "bottom": null,
            "display": null,
            "flex": null,
            "flex_flow": null,
            "grid_area": null,
            "grid_auto_columns": null,
            "grid_auto_flow": null,
            "grid_auto_rows": null,
            "grid_column": null,
            "grid_gap": null,
            "grid_row": null,
            "grid_template_areas": null,
            "grid_template_columns": null,
            "grid_template_rows": null,
            "height": null,
            "justify_content": null,
            "justify_items": null,
            "left": null,
            "margin": null,
            "max_height": null,
            "max_width": null,
            "min_height": null,
            "min_width": null,
            "object_fit": null,
            "object_position": null,
            "order": null,
            "overflow": null,
            "overflow_x": null,
            "overflow_y": null,
            "padding": null,
            "right": null,
            "top": null,
            "visibility": null,
            "width": null
          }
        },
        "f0965835e2bb43fda488c5790101dc61": {
          "model_module": "@jupyter-widgets/controls",
          "model_name": "DescriptionStyleModel",
          "model_module_version": "1.5.0",
          "state": {
            "_model_module": "@jupyter-widgets/controls",
            "_model_module_version": "1.5.0",
            "_model_name": "DescriptionStyleModel",
            "_view_count": null,
            "_view_module": "@jupyter-widgets/base",
            "_view_module_version": "1.2.0",
            "_view_name": "StyleView",
            "description_width": ""
          }
        },
        "bc2263c48db84386ab51764a9470614c": {
          "model_module": "@jupyter-widgets/base",
          "model_name": "LayoutModel",
          "model_module_version": "1.2.0",
          "state": {
            "_model_module": "@jupyter-widgets/base",
            "_model_module_version": "1.2.0",
            "_model_name": "LayoutModel",
            "_view_count": null,
            "_view_module": "@jupyter-widgets/base",
            "_view_module_version": "1.2.0",
            "_view_name": "LayoutView",
            "align_content": null,
            "align_items": null,
            "align_self": null,
            "border": null,
            "bottom": null,
            "display": null,
            "flex": null,
            "flex_flow": null,
            "grid_area": null,
            "grid_auto_columns": null,
            "grid_auto_flow": null,
            "grid_auto_rows": null,
            "grid_column": null,
            "grid_gap": null,
            "grid_row": null,
            "grid_template_areas": null,
            "grid_template_columns": null,
            "grid_template_rows": null,
            "height": null,
            "justify_content": null,
            "justify_items": null,
            "left": null,
            "margin": null,
            "max_height": null,
            "max_width": null,
            "min_height": null,
            "min_width": null,
            "object_fit": null,
            "object_position": null,
            "order": null,
            "overflow": null,
            "overflow_x": null,
            "overflow_y": null,
            "padding": null,
            "right": null,
            "top": null,
            "visibility": null,
            "width": null
          }
        },
        "fd8140e7776445da99162ea960dacf2a": {
          "model_module": "@jupyter-widgets/controls",
          "model_name": "ProgressStyleModel",
          "model_module_version": "1.5.0",
          "state": {
            "_model_module": "@jupyter-widgets/controls",
            "_model_module_version": "1.5.0",
            "_model_name": "ProgressStyleModel",
            "_view_count": null,
            "_view_module": "@jupyter-widgets/base",
            "_view_module_version": "1.2.0",
            "_view_name": "StyleView",
            "bar_color": null,
            "description_width": ""
          }
        },
        "9d998f6f54254fafb6b8b526bd8cf8fb": {
          "model_module": "@jupyter-widgets/base",
          "model_name": "LayoutModel",
          "model_module_version": "1.2.0",
          "state": {
            "_model_module": "@jupyter-widgets/base",
            "_model_module_version": "1.2.0",
            "_model_name": "LayoutModel",
            "_view_count": null,
            "_view_module": "@jupyter-widgets/base",
            "_view_module_version": "1.2.0",
            "_view_name": "LayoutView",
            "align_content": null,
            "align_items": null,
            "align_self": null,
            "border": null,
            "bottom": null,
            "display": null,
            "flex": null,
            "flex_flow": null,
            "grid_area": null,
            "grid_auto_columns": null,
            "grid_auto_flow": null,
            "grid_auto_rows": null,
            "grid_column": null,
            "grid_gap": null,
            "grid_row": null,
            "grid_template_areas": null,
            "grid_template_columns": null,
            "grid_template_rows": null,
            "height": null,
            "justify_content": null,
            "justify_items": null,
            "left": null,
            "margin": null,
            "max_height": null,
            "max_width": null,
            "min_height": null,
            "min_width": null,
            "object_fit": null,
            "object_position": null,
            "order": null,
            "overflow": null,
            "overflow_x": null,
            "overflow_y": null,
            "padding": null,
            "right": null,
            "top": null,
            "visibility": null,
            "width": null
          }
        },
        "76b2c186cd3f43a0ad33c961395bb537": {
          "model_module": "@jupyter-widgets/controls",
          "model_name": "DescriptionStyleModel",
          "model_module_version": "1.5.0",
          "state": {
            "_model_module": "@jupyter-widgets/controls",
            "_model_module_version": "1.5.0",
            "_model_name": "DescriptionStyleModel",
            "_view_count": null,
            "_view_module": "@jupyter-widgets/base",
            "_view_module_version": "1.2.0",
            "_view_name": "StyleView",
            "description_width": ""
          }
        },
        "2cb92f2b9db14e58836e861e9fd2f365": {
          "model_module": "@jupyter-widgets/controls",
          "model_name": "HBoxModel",
          "model_module_version": "1.5.0",
          "state": {
            "_dom_classes": [],
            "_model_module": "@jupyter-widgets/controls",
            "_model_module_version": "1.5.0",
            "_model_name": "HBoxModel",
            "_view_count": null,
            "_view_module": "@jupyter-widgets/controls",
            "_view_module_version": "1.5.0",
            "_view_name": "HBoxView",
            "box_style": "",
            "children": [
              "IPY_MODEL_d083e827f9ba4870b775373678992e56",
              "IPY_MODEL_fa36b6ffef494db3a5ba919ffb1c5eca",
              "IPY_MODEL_d616472095d743db92149e5f3ad51a29"
            ],
            "layout": "IPY_MODEL_e190c012a39548d794cdc2f6a006effd"
          }
        },
        "d083e827f9ba4870b775373678992e56": {
          "model_module": "@jupyter-widgets/controls",
          "model_name": "HTMLModel",
          "model_module_version": "1.5.0",
          "state": {
            "_dom_classes": [],
            "_model_module": "@jupyter-widgets/controls",
            "_model_module_version": "1.5.0",
            "_model_name": "HTMLModel",
            "_view_count": null,
            "_view_module": "@jupyter-widgets/controls",
            "_view_module_version": "1.5.0",
            "_view_name": "HTMLView",
            "description": "",
            "description_tooltip": null,
            "layout": "IPY_MODEL_322b29effd3645d793634c8b3fd6d0ac",
            "placeholder": "​",
            "style": "IPY_MODEL_6933d89b271844ac89f5bc50a24f0bce",
            "value": "Downloading (…)fetensors.index.json: 100%"
          }
        },
        "fa36b6ffef494db3a5ba919ffb1c5eca": {
          "model_module": "@jupyter-widgets/controls",
          "model_name": "FloatProgressModel",
          "model_module_version": "1.5.0",
          "state": {
            "_dom_classes": [],
            "_model_module": "@jupyter-widgets/controls",
            "_model_module_version": "1.5.0",
            "_model_name": "FloatProgressModel",
            "_view_count": null,
            "_view_module": "@jupyter-widgets/controls",
            "_view_module_version": "1.5.0",
            "_view_name": "ProgressView",
            "bar_style": "success",
            "description": "",
            "description_tooltip": null,
            "layout": "IPY_MODEL_353f8bd539dc49e7bc9f88c3eff892f5",
            "max": 33444,
            "min": 0,
            "orientation": "horizontal",
            "style": "IPY_MODEL_a3848d3697a44b309d4a955189e0d551",
            "value": 33444
          }
        },
        "d616472095d743db92149e5f3ad51a29": {
          "model_module": "@jupyter-widgets/controls",
          "model_name": "HTMLModel",
          "model_module_version": "1.5.0",
          "state": {
            "_dom_classes": [],
            "_model_module": "@jupyter-widgets/controls",
            "_model_module_version": "1.5.0",
            "_model_name": "HTMLModel",
            "_view_count": null,
            "_view_module": "@jupyter-widgets/controls",
            "_view_module_version": "1.5.0",
            "_view_name": "HTMLView",
            "description": "",
            "description_tooltip": null,
            "layout": "IPY_MODEL_be7b79fef4ef403fb85e69ed9f2d86bf",
            "placeholder": "​",
            "style": "IPY_MODEL_257b60dc7f734107bb7c67b34f07cb8b",
            "value": " 33.4k/33.4k [00:00&lt;00:00, 2.36MB/s]"
          }
        },
        "e190c012a39548d794cdc2f6a006effd": {
          "model_module": "@jupyter-widgets/base",
          "model_name": "LayoutModel",
          "model_module_version": "1.2.0",
          "state": {
            "_model_module": "@jupyter-widgets/base",
            "_model_module_version": "1.2.0",
            "_model_name": "LayoutModel",
            "_view_count": null,
            "_view_module": "@jupyter-widgets/base",
            "_view_module_version": "1.2.0",
            "_view_name": "LayoutView",
            "align_content": null,
            "align_items": null,
            "align_self": null,
            "border": null,
            "bottom": null,
            "display": null,
            "flex": null,
            "flex_flow": null,
            "grid_area": null,
            "grid_auto_columns": null,
            "grid_auto_flow": null,
            "grid_auto_rows": null,
            "grid_column": null,
            "grid_gap": null,
            "grid_row": null,
            "grid_template_areas": null,
            "grid_template_columns": null,
            "grid_template_rows": null,
            "height": null,
            "justify_content": null,
            "justify_items": null,
            "left": null,
            "margin": null,
            "max_height": null,
            "max_width": null,
            "min_height": null,
            "min_width": null,
            "object_fit": null,
            "object_position": null,
            "order": null,
            "overflow": null,
            "overflow_x": null,
            "overflow_y": null,
            "padding": null,
            "right": null,
            "top": null,
            "visibility": null,
            "width": null
          }
        },
        "322b29effd3645d793634c8b3fd6d0ac": {
          "model_module": "@jupyter-widgets/base",
          "model_name": "LayoutModel",
          "model_module_version": "1.2.0",
          "state": {
            "_model_module": "@jupyter-widgets/base",
            "_model_module_version": "1.2.0",
            "_model_name": "LayoutModel",
            "_view_count": null,
            "_view_module": "@jupyter-widgets/base",
            "_view_module_version": "1.2.0",
            "_view_name": "LayoutView",
            "align_content": null,
            "align_items": null,
            "align_self": null,
            "border": null,
            "bottom": null,
            "display": null,
            "flex": null,
            "flex_flow": null,
            "grid_area": null,
            "grid_auto_columns": null,
            "grid_auto_flow": null,
            "grid_auto_rows": null,
            "grid_column": null,
            "grid_gap": null,
            "grid_row": null,
            "grid_template_areas": null,
            "grid_template_columns": null,
            "grid_template_rows": null,
            "height": null,
            "justify_content": null,
            "justify_items": null,
            "left": null,
            "margin": null,
            "max_height": null,
            "max_width": null,
            "min_height": null,
            "min_width": null,
            "object_fit": null,
            "object_position": null,
            "order": null,
            "overflow": null,
            "overflow_x": null,
            "overflow_y": null,
            "padding": null,
            "right": null,
            "top": null,
            "visibility": null,
            "width": null
          }
        },
        "6933d89b271844ac89f5bc50a24f0bce": {
          "model_module": "@jupyter-widgets/controls",
          "model_name": "DescriptionStyleModel",
          "model_module_version": "1.5.0",
          "state": {
            "_model_module": "@jupyter-widgets/controls",
            "_model_module_version": "1.5.0",
            "_model_name": "DescriptionStyleModel",
            "_view_count": null,
            "_view_module": "@jupyter-widgets/base",
            "_view_module_version": "1.2.0",
            "_view_name": "StyleView",
            "description_width": ""
          }
        },
        "353f8bd539dc49e7bc9f88c3eff892f5": {
          "model_module": "@jupyter-widgets/base",
          "model_name": "LayoutModel",
          "model_module_version": "1.2.0",
          "state": {
            "_model_module": "@jupyter-widgets/base",
            "_model_module_version": "1.2.0",
            "_model_name": "LayoutModel",
            "_view_count": null,
            "_view_module": "@jupyter-widgets/base",
            "_view_module_version": "1.2.0",
            "_view_name": "LayoutView",
            "align_content": null,
            "align_items": null,
            "align_self": null,
            "border": null,
            "bottom": null,
            "display": null,
            "flex": null,
            "flex_flow": null,
            "grid_area": null,
            "grid_auto_columns": null,
            "grid_auto_flow": null,
            "grid_auto_rows": null,
            "grid_column": null,
            "grid_gap": null,
            "grid_row": null,
            "grid_template_areas": null,
            "grid_template_columns": null,
            "grid_template_rows": null,
            "height": null,
            "justify_content": null,
            "justify_items": null,
            "left": null,
            "margin": null,
            "max_height": null,
            "max_width": null,
            "min_height": null,
            "min_width": null,
            "object_fit": null,
            "object_position": null,
            "order": null,
            "overflow": null,
            "overflow_x": null,
            "overflow_y": null,
            "padding": null,
            "right": null,
            "top": null,
            "visibility": null,
            "width": null
          }
        },
        "a3848d3697a44b309d4a955189e0d551": {
          "model_module": "@jupyter-widgets/controls",
          "model_name": "ProgressStyleModel",
          "model_module_version": "1.5.0",
          "state": {
            "_model_module": "@jupyter-widgets/controls",
            "_model_module_version": "1.5.0",
            "_model_name": "ProgressStyleModel",
            "_view_count": null,
            "_view_module": "@jupyter-widgets/base",
            "_view_module_version": "1.2.0",
            "_view_name": "StyleView",
            "bar_color": null,
            "description_width": ""
          }
        },
        "be7b79fef4ef403fb85e69ed9f2d86bf": {
          "model_module": "@jupyter-widgets/base",
          "model_name": "LayoutModel",
          "model_module_version": "1.2.0",
          "state": {
            "_model_module": "@jupyter-widgets/base",
            "_model_module_version": "1.2.0",
            "_model_name": "LayoutModel",
            "_view_count": null,
            "_view_module": "@jupyter-widgets/base",
            "_view_module_version": "1.2.0",
            "_view_name": "LayoutView",
            "align_content": null,
            "align_items": null,
            "align_self": null,
            "border": null,
            "bottom": null,
            "display": null,
            "flex": null,
            "flex_flow": null,
            "grid_area": null,
            "grid_auto_columns": null,
            "grid_auto_flow": null,
            "grid_auto_rows": null,
            "grid_column": null,
            "grid_gap": null,
            "grid_row": null,
            "grid_template_areas": null,
            "grid_template_columns": null,
            "grid_template_rows": null,
            "height": null,
            "justify_content": null,
            "justify_items": null,
            "left": null,
            "margin": null,
            "max_height": null,
            "max_width": null,
            "min_height": null,
            "min_width": null,
            "object_fit": null,
            "object_position": null,
            "order": null,
            "overflow": null,
            "overflow_x": null,
            "overflow_y": null,
            "padding": null,
            "right": null,
            "top": null,
            "visibility": null,
            "width": null
          }
        },
        "257b60dc7f734107bb7c67b34f07cb8b": {
          "model_module": "@jupyter-widgets/controls",
          "model_name": "DescriptionStyleModel",
          "model_module_version": "1.5.0",
          "state": {
            "_model_module": "@jupyter-widgets/controls",
            "_model_module_version": "1.5.0",
            "_model_name": "DescriptionStyleModel",
            "_view_count": null,
            "_view_module": "@jupyter-widgets/base",
            "_view_module_version": "1.2.0",
            "_view_name": "StyleView",
            "description_width": ""
          }
        },
        "e6ad2d365c1945c38283d41889337c00": {
          "model_module": "@jupyter-widgets/controls",
          "model_name": "HBoxModel",
          "model_module_version": "1.5.0",
          "state": {
            "_dom_classes": [],
            "_model_module": "@jupyter-widgets/controls",
            "_model_module_version": "1.5.0",
            "_model_name": "HBoxModel",
            "_view_count": null,
            "_view_module": "@jupyter-widgets/controls",
            "_view_module_version": "1.5.0",
            "_view_name": "HBoxView",
            "box_style": "",
            "children": [
              "IPY_MODEL_273fe8c291454bc7bfbaa28590ba621b",
              "IPY_MODEL_5717cb47e8934c96bab0bdd34865cdcb",
              "IPY_MODEL_ab4e474246e14f5084b545667052b82e"
            ],
            "layout": "IPY_MODEL_5d3f6c80d068471696819199303f0c27"
          }
        },
        "273fe8c291454bc7bfbaa28590ba621b": {
          "model_module": "@jupyter-widgets/controls",
          "model_name": "HTMLModel",
          "model_module_version": "1.5.0",
          "state": {
            "_dom_classes": [],
            "_model_module": "@jupyter-widgets/controls",
            "_model_module_version": "1.5.0",
            "_model_name": "HTMLModel",
            "_view_count": null,
            "_view_module": "@jupyter-widgets/controls",
            "_view_module_version": "1.5.0",
            "_view_name": "HTMLView",
            "description": "",
            "description_tooltip": null,
            "layout": "IPY_MODEL_5df5a495e4c541a5874d1400812daa88",
            "placeholder": "​",
            "style": "IPY_MODEL_3ee6f86a9dd0466382ef7ffadf60806f",
            "value": "Downloading shards: 100%"
          }
        },
        "5717cb47e8934c96bab0bdd34865cdcb": {
          "model_module": "@jupyter-widgets/controls",
          "model_name": "FloatProgressModel",
          "model_module_version": "1.5.0",
          "state": {
            "_dom_classes": [],
            "_model_module": "@jupyter-widgets/controls",
            "_model_module_version": "1.5.0",
            "_model_name": "FloatProgressModel",
            "_view_count": null,
            "_view_module": "@jupyter-widgets/controls",
            "_view_module_version": "1.5.0",
            "_view_name": "ProgressView",
            "bar_style": "success",
            "description": "",
            "description_tooltip": null,
            "layout": "IPY_MODEL_0a0cdfdeff8a43248c811021f53eaecf",
            "max": 3,
            "min": 0,
            "orientation": "horizontal",
            "style": "IPY_MODEL_1b3be2806ea24d6a96796768863350e5",
            "value": 3
          }
        },
        "ab4e474246e14f5084b545667052b82e": {
          "model_module": "@jupyter-widgets/controls",
          "model_name": "HTMLModel",
          "model_module_version": "1.5.0",
          "state": {
            "_dom_classes": [],
            "_model_module": "@jupyter-widgets/controls",
            "_model_module_version": "1.5.0",
            "_model_name": "HTMLModel",
            "_view_count": null,
            "_view_module": "@jupyter-widgets/controls",
            "_view_module_version": "1.5.0",
            "_view_name": "HTMLView",
            "description": "",
            "description_tooltip": null,
            "layout": "IPY_MODEL_b51aeb544495408289495947a5e4abbf",
            "placeholder": "​",
            "style": "IPY_MODEL_f9c435602f204b7c90b10ccb5d20bf15",
            "value": " 3/3 [03:12&lt;00:00, 60.72s/it]"
          }
        },
        "5d3f6c80d068471696819199303f0c27": {
          "model_module": "@jupyter-widgets/base",
          "model_name": "LayoutModel",
          "model_module_version": "1.2.0",
          "state": {
            "_model_module": "@jupyter-widgets/base",
            "_model_module_version": "1.2.0",
            "_model_name": "LayoutModel",
            "_view_count": null,
            "_view_module": "@jupyter-widgets/base",
            "_view_module_version": "1.2.0",
            "_view_name": "LayoutView",
            "align_content": null,
            "align_items": null,
            "align_self": null,
            "border": null,
            "bottom": null,
            "display": null,
            "flex": null,
            "flex_flow": null,
            "grid_area": null,
            "grid_auto_columns": null,
            "grid_auto_flow": null,
            "grid_auto_rows": null,
            "grid_column": null,
            "grid_gap": null,
            "grid_row": null,
            "grid_template_areas": null,
            "grid_template_columns": null,
            "grid_template_rows": null,
            "height": null,
            "justify_content": null,
            "justify_items": null,
            "left": null,
            "margin": null,
            "max_height": null,
            "max_width": null,
            "min_height": null,
            "min_width": null,
            "object_fit": null,
            "object_position": null,
            "order": null,
            "overflow": null,
            "overflow_x": null,
            "overflow_y": null,
            "padding": null,
            "right": null,
            "top": null,
            "visibility": null,
            "width": null
          }
        },
        "5df5a495e4c541a5874d1400812daa88": {
          "model_module": "@jupyter-widgets/base",
          "model_name": "LayoutModel",
          "model_module_version": "1.2.0",
          "state": {
            "_model_module": "@jupyter-widgets/base",
            "_model_module_version": "1.2.0",
            "_model_name": "LayoutModel",
            "_view_count": null,
            "_view_module": "@jupyter-widgets/base",
            "_view_module_version": "1.2.0",
            "_view_name": "LayoutView",
            "align_content": null,
            "align_items": null,
            "align_self": null,
            "border": null,
            "bottom": null,
            "display": null,
            "flex": null,
            "flex_flow": null,
            "grid_area": null,
            "grid_auto_columns": null,
            "grid_auto_flow": null,
            "grid_auto_rows": null,
            "grid_column": null,
            "grid_gap": null,
            "grid_row": null,
            "grid_template_areas": null,
            "grid_template_columns": null,
            "grid_template_rows": null,
            "height": null,
            "justify_content": null,
            "justify_items": null,
            "left": null,
            "margin": null,
            "max_height": null,
            "max_width": null,
            "min_height": null,
            "min_width": null,
            "object_fit": null,
            "object_position": null,
            "order": null,
            "overflow": null,
            "overflow_x": null,
            "overflow_y": null,
            "padding": null,
            "right": null,
            "top": null,
            "visibility": null,
            "width": null
          }
        },
        "3ee6f86a9dd0466382ef7ffadf60806f": {
          "model_module": "@jupyter-widgets/controls",
          "model_name": "DescriptionStyleModel",
          "model_module_version": "1.5.0",
          "state": {
            "_model_module": "@jupyter-widgets/controls",
            "_model_module_version": "1.5.0",
            "_model_name": "DescriptionStyleModel",
            "_view_count": null,
            "_view_module": "@jupyter-widgets/base",
            "_view_module_version": "1.2.0",
            "_view_name": "StyleView",
            "description_width": ""
          }
        },
        "0a0cdfdeff8a43248c811021f53eaecf": {
          "model_module": "@jupyter-widgets/base",
          "model_name": "LayoutModel",
          "model_module_version": "1.2.0",
          "state": {
            "_model_module": "@jupyter-widgets/base",
            "_model_module_version": "1.2.0",
            "_model_name": "LayoutModel",
            "_view_count": null,
            "_view_module": "@jupyter-widgets/base",
            "_view_module_version": "1.2.0",
            "_view_name": "LayoutView",
            "align_content": null,
            "align_items": null,
            "align_self": null,
            "border": null,
            "bottom": null,
            "display": null,
            "flex": null,
            "flex_flow": null,
            "grid_area": null,
            "grid_auto_columns": null,
            "grid_auto_flow": null,
            "grid_auto_rows": null,
            "grid_column": null,
            "grid_gap": null,
            "grid_row": null,
            "grid_template_areas": null,
            "grid_template_columns": null,
            "grid_template_rows": null,
            "height": null,
            "justify_content": null,
            "justify_items": null,
            "left": null,
            "margin": null,
            "max_height": null,
            "max_width": null,
            "min_height": null,
            "min_width": null,
            "object_fit": null,
            "object_position": null,
            "order": null,
            "overflow": null,
            "overflow_x": null,
            "overflow_y": null,
            "padding": null,
            "right": null,
            "top": null,
            "visibility": null,
            "width": null
          }
        },
        "1b3be2806ea24d6a96796768863350e5": {
          "model_module": "@jupyter-widgets/controls",
          "model_name": "ProgressStyleModel",
          "model_module_version": "1.5.0",
          "state": {
            "_model_module": "@jupyter-widgets/controls",
            "_model_module_version": "1.5.0",
            "_model_name": "ProgressStyleModel",
            "_view_count": null,
            "_view_module": "@jupyter-widgets/base",
            "_view_module_version": "1.2.0",
            "_view_name": "StyleView",
            "bar_color": null,
            "description_width": ""
          }
        },
        "b51aeb544495408289495947a5e4abbf": {
          "model_module": "@jupyter-widgets/base",
          "model_name": "LayoutModel",
          "model_module_version": "1.2.0",
          "state": {
            "_model_module": "@jupyter-widgets/base",
            "_model_module_version": "1.2.0",
            "_model_name": "LayoutModel",
            "_view_count": null,
            "_view_module": "@jupyter-widgets/base",
            "_view_module_version": "1.2.0",
            "_view_name": "LayoutView",
            "align_content": null,
            "align_items": null,
            "align_self": null,
            "border": null,
            "bottom": null,
            "display": null,
            "flex": null,
            "flex_flow": null,
            "grid_area": null,
            "grid_auto_columns": null,
            "grid_auto_flow": null,
            "grid_auto_rows": null,
            "grid_column": null,
            "grid_gap": null,
            "grid_row": null,
            "grid_template_areas": null,
            "grid_template_columns": null,
            "grid_template_rows": null,
            "height": null,
            "justify_content": null,
            "justify_items": null,
            "left": null,
            "margin": null,
            "max_height": null,
            "max_width": null,
            "min_height": null,
            "min_width": null,
            "object_fit": null,
            "object_position": null,
            "order": null,
            "overflow": null,
            "overflow_x": null,
            "overflow_y": null,
            "padding": null,
            "right": null,
            "top": null,
            "visibility": null,
            "width": null
          }
        },
        "f9c435602f204b7c90b10ccb5d20bf15": {
          "model_module": "@jupyter-widgets/controls",
          "model_name": "DescriptionStyleModel",
          "model_module_version": "1.5.0",
          "state": {
            "_model_module": "@jupyter-widgets/controls",
            "_model_module_version": "1.5.0",
            "_model_name": "DescriptionStyleModel",
            "_view_count": null,
            "_view_module": "@jupyter-widgets/base",
            "_view_module_version": "1.2.0",
            "_view_name": "StyleView",
            "description_width": ""
          }
        },
        "b6958e596db14cbc8783f1ff6d796f30": {
          "model_module": "@jupyter-widgets/controls",
          "model_name": "HBoxModel",
          "model_module_version": "1.5.0",
          "state": {
            "_dom_classes": [],
            "_model_module": "@jupyter-widgets/controls",
            "_model_module_version": "1.5.0",
            "_model_name": "HBoxModel",
            "_view_count": null,
            "_view_module": "@jupyter-widgets/controls",
            "_view_module_version": "1.5.0",
            "_view_name": "HBoxView",
            "box_style": "",
            "children": [
              "IPY_MODEL_27b96c4c0b764b0681347f12c88db7fe",
              "IPY_MODEL_f27caed27d9b4492b108d83afcb6660e",
              "IPY_MODEL_448156856fdf4767b0bd7cb78c43af47"
            ],
            "layout": "IPY_MODEL_06f7c5fa30ff4d8295a340d0a7042b14"
          }
        },
        "27b96c4c0b764b0681347f12c88db7fe": {
          "model_module": "@jupyter-widgets/controls",
          "model_name": "HTMLModel",
          "model_module_version": "1.5.0",
          "state": {
            "_dom_classes": [],
            "_model_module": "@jupyter-widgets/controls",
            "_model_module_version": "1.5.0",
            "_model_name": "HTMLModel",
            "_view_count": null,
            "_view_module": "@jupyter-widgets/controls",
            "_view_module_version": "1.5.0",
            "_view_name": "HTMLView",
            "description": "",
            "description_tooltip": null,
            "layout": "IPY_MODEL_3a0b17058a5c40b7bcbaa3a42f9f4314",
            "placeholder": "​",
            "style": "IPY_MODEL_fd1b30acf4d1434b949b9657e53c85d8",
            "value": "Downloading (…)of-00003.safetensors: 100%"
          }
        },
        "f27caed27d9b4492b108d83afcb6660e": {
          "model_module": "@jupyter-widgets/controls",
          "model_name": "FloatProgressModel",
          "model_module_version": "1.5.0",
          "state": {
            "_dom_classes": [],
            "_model_module": "@jupyter-widgets/controls",
            "_model_module_version": "1.5.0",
            "_model_name": "FloatProgressModel",
            "_view_count": null,
            "_view_module": "@jupyter-widgets/controls",
            "_view_module_version": "1.5.0",
            "_view_name": "ProgressView",
            "bar_style": "success",
            "description": "",
            "description_tooltip": null,
            "layout": "IPY_MODEL_c220f9f31ae049d793de817addf6b631",
            "max": 9948693272,
            "min": 0,
            "orientation": "horizontal",
            "style": "IPY_MODEL_a14ea9ca335249888f49dd230ea73218",
            "value": 9948693272
          }
        },
        "448156856fdf4767b0bd7cb78c43af47": {
          "model_module": "@jupyter-widgets/controls",
          "model_name": "HTMLModel",
          "model_module_version": "1.5.0",
          "state": {
            "_dom_classes": [],
            "_model_module": "@jupyter-widgets/controls",
            "_model_module_version": "1.5.0",
            "_model_name": "HTMLModel",
            "_view_count": null,
            "_view_module": "@jupyter-widgets/controls",
            "_view_module_version": "1.5.0",
            "_view_name": "HTMLView",
            "description": "",
            "description_tooltip": null,
            "layout": "IPY_MODEL_4c2eedc66ffe4ae386e07c81257b65b6",
            "placeholder": "​",
            "style": "IPY_MODEL_25b7aacadb4a4bf8841f6a22a6590165",
            "value": " 9.95G/9.95G [01:13&lt;00:00, 129MB/s]"
          }
        },
        "06f7c5fa30ff4d8295a340d0a7042b14": {
          "model_module": "@jupyter-widgets/base",
          "model_name": "LayoutModel",
          "model_module_version": "1.2.0",
          "state": {
            "_model_module": "@jupyter-widgets/base",
            "_model_module_version": "1.2.0",
            "_model_name": "LayoutModel",
            "_view_count": null,
            "_view_module": "@jupyter-widgets/base",
            "_view_module_version": "1.2.0",
            "_view_name": "LayoutView",
            "align_content": null,
            "align_items": null,
            "align_self": null,
            "border": null,
            "bottom": null,
            "display": null,
            "flex": null,
            "flex_flow": null,
            "grid_area": null,
            "grid_auto_columns": null,
            "grid_auto_flow": null,
            "grid_auto_rows": null,
            "grid_column": null,
            "grid_gap": null,
            "grid_row": null,
            "grid_template_areas": null,
            "grid_template_columns": null,
            "grid_template_rows": null,
            "height": null,
            "justify_content": null,
            "justify_items": null,
            "left": null,
            "margin": null,
            "max_height": null,
            "max_width": null,
            "min_height": null,
            "min_width": null,
            "object_fit": null,
            "object_position": null,
            "order": null,
            "overflow": null,
            "overflow_x": null,
            "overflow_y": null,
            "padding": null,
            "right": null,
            "top": null,
            "visibility": null,
            "width": null
          }
        },
        "3a0b17058a5c40b7bcbaa3a42f9f4314": {
          "model_module": "@jupyter-widgets/base",
          "model_name": "LayoutModel",
          "model_module_version": "1.2.0",
          "state": {
            "_model_module": "@jupyter-widgets/base",
            "_model_module_version": "1.2.0",
            "_model_name": "LayoutModel",
            "_view_count": null,
            "_view_module": "@jupyter-widgets/base",
            "_view_module_version": "1.2.0",
            "_view_name": "LayoutView",
            "align_content": null,
            "align_items": null,
            "align_self": null,
            "border": null,
            "bottom": null,
            "display": null,
            "flex": null,
            "flex_flow": null,
            "grid_area": null,
            "grid_auto_columns": null,
            "grid_auto_flow": null,
            "grid_auto_rows": null,
            "grid_column": null,
            "grid_gap": null,
            "grid_row": null,
            "grid_template_areas": null,
            "grid_template_columns": null,
            "grid_template_rows": null,
            "height": null,
            "justify_content": null,
            "justify_items": null,
            "left": null,
            "margin": null,
            "max_height": null,
            "max_width": null,
            "min_height": null,
            "min_width": null,
            "object_fit": null,
            "object_position": null,
            "order": null,
            "overflow": null,
            "overflow_x": null,
            "overflow_y": null,
            "padding": null,
            "right": null,
            "top": null,
            "visibility": null,
            "width": null
          }
        },
        "fd1b30acf4d1434b949b9657e53c85d8": {
          "model_module": "@jupyter-widgets/controls",
          "model_name": "DescriptionStyleModel",
          "model_module_version": "1.5.0",
          "state": {
            "_model_module": "@jupyter-widgets/controls",
            "_model_module_version": "1.5.0",
            "_model_name": "DescriptionStyleModel",
            "_view_count": null,
            "_view_module": "@jupyter-widgets/base",
            "_view_module_version": "1.2.0",
            "_view_name": "StyleView",
            "description_width": ""
          }
        },
        "c220f9f31ae049d793de817addf6b631": {
          "model_module": "@jupyter-widgets/base",
          "model_name": "LayoutModel",
          "model_module_version": "1.2.0",
          "state": {
            "_model_module": "@jupyter-widgets/base",
            "_model_module_version": "1.2.0",
            "_model_name": "LayoutModel",
            "_view_count": null,
            "_view_module": "@jupyter-widgets/base",
            "_view_module_version": "1.2.0",
            "_view_name": "LayoutView",
            "align_content": null,
            "align_items": null,
            "align_self": null,
            "border": null,
            "bottom": null,
            "display": null,
            "flex": null,
            "flex_flow": null,
            "grid_area": null,
            "grid_auto_columns": null,
            "grid_auto_flow": null,
            "grid_auto_rows": null,
            "grid_column": null,
            "grid_gap": null,
            "grid_row": null,
            "grid_template_areas": null,
            "grid_template_columns": null,
            "grid_template_rows": null,
            "height": null,
            "justify_content": null,
            "justify_items": null,
            "left": null,
            "margin": null,
            "max_height": null,
            "max_width": null,
            "min_height": null,
            "min_width": null,
            "object_fit": null,
            "object_position": null,
            "order": null,
            "overflow": null,
            "overflow_x": null,
            "overflow_y": null,
            "padding": null,
            "right": null,
            "top": null,
            "visibility": null,
            "width": null
          }
        },
        "a14ea9ca335249888f49dd230ea73218": {
          "model_module": "@jupyter-widgets/controls",
          "model_name": "ProgressStyleModel",
          "model_module_version": "1.5.0",
          "state": {
            "_model_module": "@jupyter-widgets/controls",
            "_model_module_version": "1.5.0",
            "_model_name": "ProgressStyleModel",
            "_view_count": null,
            "_view_module": "@jupyter-widgets/base",
            "_view_module_version": "1.2.0",
            "_view_name": "StyleView",
            "bar_color": null,
            "description_width": ""
          }
        },
        "4c2eedc66ffe4ae386e07c81257b65b6": {
          "model_module": "@jupyter-widgets/base",
          "model_name": "LayoutModel",
          "model_module_version": "1.2.0",
          "state": {
            "_model_module": "@jupyter-widgets/base",
            "_model_module_version": "1.2.0",
            "_model_name": "LayoutModel",
            "_view_count": null,
            "_view_module": "@jupyter-widgets/base",
            "_view_module_version": "1.2.0",
            "_view_name": "LayoutView",
            "align_content": null,
            "align_items": null,
            "align_self": null,
            "border": null,
            "bottom": null,
            "display": null,
            "flex": null,
            "flex_flow": null,
            "grid_area": null,
            "grid_auto_columns": null,
            "grid_auto_flow": null,
            "grid_auto_rows": null,
            "grid_column": null,
            "grid_gap": null,
            "grid_row": null,
            "grid_template_areas": null,
            "grid_template_columns": null,
            "grid_template_rows": null,
            "height": null,
            "justify_content": null,
            "justify_items": null,
            "left": null,
            "margin": null,
            "max_height": null,
            "max_width": null,
            "min_height": null,
            "min_width": null,
            "object_fit": null,
            "object_position": null,
            "order": null,
            "overflow": null,
            "overflow_x": null,
            "overflow_y": null,
            "padding": null,
            "right": null,
            "top": null,
            "visibility": null,
            "width": null
          }
        },
        "25b7aacadb4a4bf8841f6a22a6590165": {
          "model_module": "@jupyter-widgets/controls",
          "model_name": "DescriptionStyleModel",
          "model_module_version": "1.5.0",
          "state": {
            "_model_module": "@jupyter-widgets/controls",
            "_model_module_version": "1.5.0",
            "_model_name": "DescriptionStyleModel",
            "_view_count": null,
            "_view_module": "@jupyter-widgets/base",
            "_view_module_version": "1.2.0",
            "_view_name": "StyleView",
            "description_width": ""
          }
        },
        "27076299ce824935a791a0d3511d2eb8": {
          "model_module": "@jupyter-widgets/controls",
          "model_name": "HBoxModel",
          "model_module_version": "1.5.0",
          "state": {
            "_dom_classes": [],
            "_model_module": "@jupyter-widgets/controls",
            "_model_module_version": "1.5.0",
            "_model_name": "HBoxModel",
            "_view_count": null,
            "_view_module": "@jupyter-widgets/controls",
            "_view_module_version": "1.5.0",
            "_view_name": "HBoxView",
            "box_style": "",
            "children": [
              "IPY_MODEL_6a6dea2fd6d0452484832ff9e638b520",
              "IPY_MODEL_6bb24fdfbe414f6fa76a0b470b9831b4",
              "IPY_MODEL_73e23244fa8e4923b4c0971e6f9dee59"
            ],
            "layout": "IPY_MODEL_c4212b9769e441a8942ba975626b4d3e"
          }
        },
        "6a6dea2fd6d0452484832ff9e638b520": {
          "model_module": "@jupyter-widgets/controls",
          "model_name": "HTMLModel",
          "model_module_version": "1.5.0",
          "state": {
            "_dom_classes": [],
            "_model_module": "@jupyter-widgets/controls",
            "_model_module_version": "1.5.0",
            "_model_name": "HTMLModel",
            "_view_count": null,
            "_view_module": "@jupyter-widgets/controls",
            "_view_module_version": "1.5.0",
            "_view_name": "HTMLView",
            "description": "",
            "description_tooltip": null,
            "layout": "IPY_MODEL_9df6cb73431548b29bead71599c9688c",
            "placeholder": "​",
            "style": "IPY_MODEL_9ac9d6020970461d87d872a905a75d4c",
            "value": "Downloading (…)of-00003.safetensors: 100%"
          }
        },
        "6bb24fdfbe414f6fa76a0b470b9831b4": {
          "model_module": "@jupyter-widgets/controls",
          "model_name": "FloatProgressModel",
          "model_module_version": "1.5.0",
          "state": {
            "_dom_classes": [],
            "_model_module": "@jupyter-widgets/controls",
            "_model_module_version": "1.5.0",
            "_model_name": "FloatProgressModel",
            "_view_count": null,
            "_view_module": "@jupyter-widgets/controls",
            "_view_module_version": "1.5.0",
            "_view_name": "ProgressView",
            "bar_style": "success",
            "description": "",
            "description_tooltip": null,
            "layout": "IPY_MODEL_6c35e23ef9494c52a68be42ac43e46c4",
            "max": 9904129368,
            "min": 0,
            "orientation": "horizontal",
            "style": "IPY_MODEL_263632c745444fc6af0775d7d8ebfd6a",
            "value": 9904129368
          }
        },
        "73e23244fa8e4923b4c0971e6f9dee59": {
          "model_module": "@jupyter-widgets/controls",
          "model_name": "HTMLModel",
          "model_module_version": "1.5.0",
          "state": {
            "_dom_classes": [],
            "_model_module": "@jupyter-widgets/controls",
            "_model_module_version": "1.5.0",
            "_model_name": "HTMLModel",
            "_view_count": null,
            "_view_module": "@jupyter-widgets/controls",
            "_view_module_version": "1.5.0",
            "_view_name": "HTMLView",
            "description": "",
            "description_tooltip": null,
            "layout": "IPY_MODEL_adca24ba8be24c3fbfefe806061a5cd4",
            "placeholder": "​",
            "style": "IPY_MODEL_dc443f064a88417fb5fd66d6cbf3a546",
            "value": " 9.90G/9.90G [01:13&lt;00:00, 139MB/s]"
          }
        },
        "c4212b9769e441a8942ba975626b4d3e": {
          "model_module": "@jupyter-widgets/base",
          "model_name": "LayoutModel",
          "model_module_version": "1.2.0",
          "state": {
            "_model_module": "@jupyter-widgets/base",
            "_model_module_version": "1.2.0",
            "_model_name": "LayoutModel",
            "_view_count": null,
            "_view_module": "@jupyter-widgets/base",
            "_view_module_version": "1.2.0",
            "_view_name": "LayoutView",
            "align_content": null,
            "align_items": null,
            "align_self": null,
            "border": null,
            "bottom": null,
            "display": null,
            "flex": null,
            "flex_flow": null,
            "grid_area": null,
            "grid_auto_columns": null,
            "grid_auto_flow": null,
            "grid_auto_rows": null,
            "grid_column": null,
            "grid_gap": null,
            "grid_row": null,
            "grid_template_areas": null,
            "grid_template_columns": null,
            "grid_template_rows": null,
            "height": null,
            "justify_content": null,
            "justify_items": null,
            "left": null,
            "margin": null,
            "max_height": null,
            "max_width": null,
            "min_height": null,
            "min_width": null,
            "object_fit": null,
            "object_position": null,
            "order": null,
            "overflow": null,
            "overflow_x": null,
            "overflow_y": null,
            "padding": null,
            "right": null,
            "top": null,
            "visibility": null,
            "width": null
          }
        },
        "9df6cb73431548b29bead71599c9688c": {
          "model_module": "@jupyter-widgets/base",
          "model_name": "LayoutModel",
          "model_module_version": "1.2.0",
          "state": {
            "_model_module": "@jupyter-widgets/base",
            "_model_module_version": "1.2.0",
            "_model_name": "LayoutModel",
            "_view_count": null,
            "_view_module": "@jupyter-widgets/base",
            "_view_module_version": "1.2.0",
            "_view_name": "LayoutView",
            "align_content": null,
            "align_items": null,
            "align_self": null,
            "border": null,
            "bottom": null,
            "display": null,
            "flex": null,
            "flex_flow": null,
            "grid_area": null,
            "grid_auto_columns": null,
            "grid_auto_flow": null,
            "grid_auto_rows": null,
            "grid_column": null,
            "grid_gap": null,
            "grid_row": null,
            "grid_template_areas": null,
            "grid_template_columns": null,
            "grid_template_rows": null,
            "height": null,
            "justify_content": null,
            "justify_items": null,
            "left": null,
            "margin": null,
            "max_height": null,
            "max_width": null,
            "min_height": null,
            "min_width": null,
            "object_fit": null,
            "object_position": null,
            "order": null,
            "overflow": null,
            "overflow_x": null,
            "overflow_y": null,
            "padding": null,
            "right": null,
            "top": null,
            "visibility": null,
            "width": null
          }
        },
        "9ac9d6020970461d87d872a905a75d4c": {
          "model_module": "@jupyter-widgets/controls",
          "model_name": "DescriptionStyleModel",
          "model_module_version": "1.5.0",
          "state": {
            "_model_module": "@jupyter-widgets/controls",
            "_model_module_version": "1.5.0",
            "_model_name": "DescriptionStyleModel",
            "_view_count": null,
            "_view_module": "@jupyter-widgets/base",
            "_view_module_version": "1.2.0",
            "_view_name": "StyleView",
            "description_width": ""
          }
        },
        "6c35e23ef9494c52a68be42ac43e46c4": {
          "model_module": "@jupyter-widgets/base",
          "model_name": "LayoutModel",
          "model_module_version": "1.2.0",
          "state": {
            "_model_module": "@jupyter-widgets/base",
            "_model_module_version": "1.2.0",
            "_model_name": "LayoutModel",
            "_view_count": null,
            "_view_module": "@jupyter-widgets/base",
            "_view_module_version": "1.2.0",
            "_view_name": "LayoutView",
            "align_content": null,
            "align_items": null,
            "align_self": null,
            "border": null,
            "bottom": null,
            "display": null,
            "flex": null,
            "flex_flow": null,
            "grid_area": null,
            "grid_auto_columns": null,
            "grid_auto_flow": null,
            "grid_auto_rows": null,
            "grid_column": null,
            "grid_gap": null,
            "grid_row": null,
            "grid_template_areas": null,
            "grid_template_columns": null,
            "grid_template_rows": null,
            "height": null,
            "justify_content": null,
            "justify_items": null,
            "left": null,
            "margin": null,
            "max_height": null,
            "max_width": null,
            "min_height": null,
            "min_width": null,
            "object_fit": null,
            "object_position": null,
            "order": null,
            "overflow": null,
            "overflow_x": null,
            "overflow_y": null,
            "padding": null,
            "right": null,
            "top": null,
            "visibility": null,
            "width": null
          }
        },
        "263632c745444fc6af0775d7d8ebfd6a": {
          "model_module": "@jupyter-widgets/controls",
          "model_name": "ProgressStyleModel",
          "model_module_version": "1.5.0",
          "state": {
            "_model_module": "@jupyter-widgets/controls",
            "_model_module_version": "1.5.0",
            "_model_name": "ProgressStyleModel",
            "_view_count": null,
            "_view_module": "@jupyter-widgets/base",
            "_view_module_version": "1.2.0",
            "_view_name": "StyleView",
            "bar_color": null,
            "description_width": ""
          }
        },
        "adca24ba8be24c3fbfefe806061a5cd4": {
          "model_module": "@jupyter-widgets/base",
          "model_name": "LayoutModel",
          "model_module_version": "1.2.0",
          "state": {
            "_model_module": "@jupyter-widgets/base",
            "_model_module_version": "1.2.0",
            "_model_name": "LayoutModel",
            "_view_count": null,
            "_view_module": "@jupyter-widgets/base",
            "_view_module_version": "1.2.0",
            "_view_name": "LayoutView",
            "align_content": null,
            "align_items": null,
            "align_self": null,
            "border": null,
            "bottom": null,
            "display": null,
            "flex": null,
            "flex_flow": null,
            "grid_area": null,
            "grid_auto_columns": null,
            "grid_auto_flow": null,
            "grid_auto_rows": null,
            "grid_column": null,
            "grid_gap": null,
            "grid_row": null,
            "grid_template_areas": null,
            "grid_template_columns": null,
            "grid_template_rows": null,
            "height": null,
            "justify_content": null,
            "justify_items": null,
            "left": null,
            "margin": null,
            "max_height": null,
            "max_width": null,
            "min_height": null,
            "min_width": null,
            "object_fit": null,
            "object_position": null,
            "order": null,
            "overflow": null,
            "overflow_x": null,
            "overflow_y": null,
            "padding": null,
            "right": null,
            "top": null,
            "visibility": null,
            "width": null
          }
        },
        "dc443f064a88417fb5fd66d6cbf3a546": {
          "model_module": "@jupyter-widgets/controls",
          "model_name": "DescriptionStyleModel",
          "model_module_version": "1.5.0",
          "state": {
            "_model_module": "@jupyter-widgets/controls",
            "_model_module_version": "1.5.0",
            "_model_name": "DescriptionStyleModel",
            "_view_count": null,
            "_view_module": "@jupyter-widgets/base",
            "_view_module_version": "1.2.0",
            "_view_name": "StyleView",
            "description_width": ""
          }
        },
        "a37661bda9154386a0b6111c3c95fbcb": {
          "model_module": "@jupyter-widgets/controls",
          "model_name": "HBoxModel",
          "model_module_version": "1.5.0",
          "state": {
            "_dom_classes": [],
            "_model_module": "@jupyter-widgets/controls",
            "_model_module_version": "1.5.0",
            "_model_name": "HBoxModel",
            "_view_count": null,
            "_view_module": "@jupyter-widgets/controls",
            "_view_module_version": "1.5.0",
            "_view_name": "HBoxView",
            "box_style": "",
            "children": [
              "IPY_MODEL_0a28f564787e426288621b38fb154304",
              "IPY_MODEL_586c3cae52404c01b18fdc4eab5d1f36",
              "IPY_MODEL_1249f2332deb46dca5ce44ec1c7183e1"
            ],
            "layout": "IPY_MODEL_3fe00dfe101f4bd4bea550ac52c74e4d"
          }
        },
        "0a28f564787e426288621b38fb154304": {
          "model_module": "@jupyter-widgets/controls",
          "model_name": "HTMLModel",
          "model_module_version": "1.5.0",
          "state": {
            "_dom_classes": [],
            "_model_module": "@jupyter-widgets/controls",
            "_model_module_version": "1.5.0",
            "_model_name": "HTMLModel",
            "_view_count": null,
            "_view_module": "@jupyter-widgets/controls",
            "_view_module_version": "1.5.0",
            "_view_name": "HTMLView",
            "description": "",
            "description_tooltip": null,
            "layout": "IPY_MODEL_a3bb3b2fcb4443a18ed54019152e0f54",
            "placeholder": "​",
            "style": "IPY_MODEL_abfe4498ef494ca2a9645cbf2481d2bd",
            "value": "Downloading (…)of-00003.safetensors: 100%"
          }
        },
        "586c3cae52404c01b18fdc4eab5d1f36": {
          "model_module": "@jupyter-widgets/controls",
          "model_name": "FloatProgressModel",
          "model_module_version": "1.5.0",
          "state": {
            "_dom_classes": [],
            "_model_module": "@jupyter-widgets/controls",
            "_model_module_version": "1.5.0",
            "_model_name": "FloatProgressModel",
            "_view_count": null,
            "_view_module": "@jupyter-widgets/controls",
            "_view_module_version": "1.5.0",
            "_view_name": "ProgressView",
            "bar_style": "success",
            "description": "",
            "description_tooltip": null,
            "layout": "IPY_MODEL_ae92a26a44a24ff09f9a71c6baecf6d2",
            "max": 6178962272,
            "min": 0,
            "orientation": "horizontal",
            "style": "IPY_MODEL_f6efe652f7c74bcc99c8ccd9778953c0",
            "value": 6178962272
          }
        },
        "1249f2332deb46dca5ce44ec1c7183e1": {
          "model_module": "@jupyter-widgets/controls",
          "model_name": "HTMLModel",
          "model_module_version": "1.5.0",
          "state": {
            "_dom_classes": [],
            "_model_module": "@jupyter-widgets/controls",
            "_model_module_version": "1.5.0",
            "_model_name": "HTMLModel",
            "_view_count": null,
            "_view_module": "@jupyter-widgets/controls",
            "_view_module_version": "1.5.0",
            "_view_name": "HTMLView",
            "description": "",
            "description_tooltip": null,
            "layout": "IPY_MODEL_d38d1425234949c48d0867ebaf5637e8",
            "placeholder": "​",
            "style": "IPY_MODEL_bf2b68ef0d5549f29170b93c582ef544",
            "value": " 6.18G/6.18G [00:45&lt;00:00, 143MB/s]"
          }
        },
        "3fe00dfe101f4bd4bea550ac52c74e4d": {
          "model_module": "@jupyter-widgets/base",
          "model_name": "LayoutModel",
          "model_module_version": "1.2.0",
          "state": {
            "_model_module": "@jupyter-widgets/base",
            "_model_module_version": "1.2.0",
            "_model_name": "LayoutModel",
            "_view_count": null,
            "_view_module": "@jupyter-widgets/base",
            "_view_module_version": "1.2.0",
            "_view_name": "LayoutView",
            "align_content": null,
            "align_items": null,
            "align_self": null,
            "border": null,
            "bottom": null,
            "display": null,
            "flex": null,
            "flex_flow": null,
            "grid_area": null,
            "grid_auto_columns": null,
            "grid_auto_flow": null,
            "grid_auto_rows": null,
            "grid_column": null,
            "grid_gap": null,
            "grid_row": null,
            "grid_template_areas": null,
            "grid_template_columns": null,
            "grid_template_rows": null,
            "height": null,
            "justify_content": null,
            "justify_items": null,
            "left": null,
            "margin": null,
            "max_height": null,
            "max_width": null,
            "min_height": null,
            "min_width": null,
            "object_fit": null,
            "object_position": null,
            "order": null,
            "overflow": null,
            "overflow_x": null,
            "overflow_y": null,
            "padding": null,
            "right": null,
            "top": null,
            "visibility": null,
            "width": null
          }
        },
        "a3bb3b2fcb4443a18ed54019152e0f54": {
          "model_module": "@jupyter-widgets/base",
          "model_name": "LayoutModel",
          "model_module_version": "1.2.0",
          "state": {
            "_model_module": "@jupyter-widgets/base",
            "_model_module_version": "1.2.0",
            "_model_name": "LayoutModel",
            "_view_count": null,
            "_view_module": "@jupyter-widgets/base",
            "_view_module_version": "1.2.0",
            "_view_name": "LayoutView",
            "align_content": null,
            "align_items": null,
            "align_self": null,
            "border": null,
            "bottom": null,
            "display": null,
            "flex": null,
            "flex_flow": null,
            "grid_area": null,
            "grid_auto_columns": null,
            "grid_auto_flow": null,
            "grid_auto_rows": null,
            "grid_column": null,
            "grid_gap": null,
            "grid_row": null,
            "grid_template_areas": null,
            "grid_template_columns": null,
            "grid_template_rows": null,
            "height": null,
            "justify_content": null,
            "justify_items": null,
            "left": null,
            "margin": null,
            "max_height": null,
            "max_width": null,
            "min_height": null,
            "min_width": null,
            "object_fit": null,
            "object_position": null,
            "order": null,
            "overflow": null,
            "overflow_x": null,
            "overflow_y": null,
            "padding": null,
            "right": null,
            "top": null,
            "visibility": null,
            "width": null
          }
        },
        "abfe4498ef494ca2a9645cbf2481d2bd": {
          "model_module": "@jupyter-widgets/controls",
          "model_name": "DescriptionStyleModel",
          "model_module_version": "1.5.0",
          "state": {
            "_model_module": "@jupyter-widgets/controls",
            "_model_module_version": "1.5.0",
            "_model_name": "DescriptionStyleModel",
            "_view_count": null,
            "_view_module": "@jupyter-widgets/base",
            "_view_module_version": "1.2.0",
            "_view_name": "StyleView",
            "description_width": ""
          }
        },
        "ae92a26a44a24ff09f9a71c6baecf6d2": {
          "model_module": "@jupyter-widgets/base",
          "model_name": "LayoutModel",
          "model_module_version": "1.2.0",
          "state": {
            "_model_module": "@jupyter-widgets/base",
            "_model_module_version": "1.2.0",
            "_model_name": "LayoutModel",
            "_view_count": null,
            "_view_module": "@jupyter-widgets/base",
            "_view_module_version": "1.2.0",
            "_view_name": "LayoutView",
            "align_content": null,
            "align_items": null,
            "align_self": null,
            "border": null,
            "bottom": null,
            "display": null,
            "flex": null,
            "flex_flow": null,
            "grid_area": null,
            "grid_auto_columns": null,
            "grid_auto_flow": null,
            "grid_auto_rows": null,
            "grid_column": null,
            "grid_gap": null,
            "grid_row": null,
            "grid_template_areas": null,
            "grid_template_columns": null,
            "grid_template_rows": null,
            "height": null,
            "justify_content": null,
            "justify_items": null,
            "left": null,
            "margin": null,
            "max_height": null,
            "max_width": null,
            "min_height": null,
            "min_width": null,
            "object_fit": null,
            "object_position": null,
            "order": null,
            "overflow": null,
            "overflow_x": null,
            "overflow_y": null,
            "padding": null,
            "right": null,
            "top": null,
            "visibility": null,
            "width": null
          }
        },
        "f6efe652f7c74bcc99c8ccd9778953c0": {
          "model_module": "@jupyter-widgets/controls",
          "model_name": "ProgressStyleModel",
          "model_module_version": "1.5.0",
          "state": {
            "_model_module": "@jupyter-widgets/controls",
            "_model_module_version": "1.5.0",
            "_model_name": "ProgressStyleModel",
            "_view_count": null,
            "_view_module": "@jupyter-widgets/base",
            "_view_module_version": "1.2.0",
            "_view_name": "StyleView",
            "bar_color": null,
            "description_width": ""
          }
        },
        "d38d1425234949c48d0867ebaf5637e8": {
          "model_module": "@jupyter-widgets/base",
          "model_name": "LayoutModel",
          "model_module_version": "1.2.0",
          "state": {
            "_model_module": "@jupyter-widgets/base",
            "_model_module_version": "1.2.0",
            "_model_name": "LayoutModel",
            "_view_count": null,
            "_view_module": "@jupyter-widgets/base",
            "_view_module_version": "1.2.0",
            "_view_name": "LayoutView",
            "align_content": null,
            "align_items": null,
            "align_self": null,
            "border": null,
            "bottom": null,
            "display": null,
            "flex": null,
            "flex_flow": null,
            "grid_area": null,
            "grid_auto_columns": null,
            "grid_auto_flow": null,
            "grid_auto_rows": null,
            "grid_column": null,
            "grid_gap": null,
            "grid_row": null,
            "grid_template_areas": null,
            "grid_template_columns": null,
            "grid_template_rows": null,
            "height": null,
            "justify_content": null,
            "justify_items": null,
            "left": null,
            "margin": null,
            "max_height": null,
            "max_width": null,
            "min_height": null,
            "min_width": null,
            "object_fit": null,
            "object_position": null,
            "order": null,
            "overflow": null,
            "overflow_x": null,
            "overflow_y": null,
            "padding": null,
            "right": null,
            "top": null,
            "visibility": null,
            "width": null
          }
        },
        "bf2b68ef0d5549f29170b93c582ef544": {
          "model_module": "@jupyter-widgets/controls",
          "model_name": "DescriptionStyleModel",
          "model_module_version": "1.5.0",
          "state": {
            "_model_module": "@jupyter-widgets/controls",
            "_model_module_version": "1.5.0",
            "_model_name": "DescriptionStyleModel",
            "_view_count": null,
            "_view_module": "@jupyter-widgets/base",
            "_view_module_version": "1.2.0",
            "_view_name": "StyleView",
            "description_width": ""
          }
        },
        "a422cd255b10456cac54850567edf68c": {
          "model_module": "@jupyter-widgets/controls",
          "model_name": "HBoxModel",
          "model_module_version": "1.5.0",
          "state": {
            "_dom_classes": [],
            "_model_module": "@jupyter-widgets/controls",
            "_model_module_version": "1.5.0",
            "_model_name": "HBoxModel",
            "_view_count": null,
            "_view_module": "@jupyter-widgets/controls",
            "_view_module_version": "1.5.0",
            "_view_name": "HBoxView",
            "box_style": "",
            "children": [
              "IPY_MODEL_6f6788a85a254605b9cb7c87ce7a37df",
              "IPY_MODEL_07bbba14b9224f85b01a67c108629851",
              "IPY_MODEL_f36a0af22a9c41a09df39b04fa0a496a"
            ],
            "layout": "IPY_MODEL_150d366e53cd4977a26999d98ec37da9"
          }
        },
        "6f6788a85a254605b9cb7c87ce7a37df": {
          "model_module": "@jupyter-widgets/controls",
          "model_name": "HTMLModel",
          "model_module_version": "1.5.0",
          "state": {
            "_dom_classes": [],
            "_model_module": "@jupyter-widgets/controls",
            "_model_module_version": "1.5.0",
            "_model_name": "HTMLModel",
            "_view_count": null,
            "_view_module": "@jupyter-widgets/controls",
            "_view_module_version": "1.5.0",
            "_view_name": "HTMLView",
            "description": "",
            "description_tooltip": null,
            "layout": "IPY_MODEL_cfa2424ed0ee4eedad28a5eec7a6c2e4",
            "placeholder": "​",
            "style": "IPY_MODEL_e595d228ccf74fc4af7ee4004c9f9e34",
            "value": "Loading checkpoint shards: 100%"
          }
        },
        "07bbba14b9224f85b01a67c108629851": {
          "model_module": "@jupyter-widgets/controls",
          "model_name": "FloatProgressModel",
          "model_module_version": "1.5.0",
          "state": {
            "_dom_classes": [],
            "_model_module": "@jupyter-widgets/controls",
            "_model_module_version": "1.5.0",
            "_model_name": "FloatProgressModel",
            "_view_count": null,
            "_view_module": "@jupyter-widgets/controls",
            "_view_module_version": "1.5.0",
            "_view_name": "ProgressView",
            "bar_style": "success",
            "description": "",
            "description_tooltip": null,
            "layout": "IPY_MODEL_f2b3efec1cdf43b3b99d0b74b4c2a39e",
            "max": 3,
            "min": 0,
            "orientation": "horizontal",
            "style": "IPY_MODEL_ac563b22ba284e9c98b45fa6176f8a08",
            "value": 3
          }
        },
        "f36a0af22a9c41a09df39b04fa0a496a": {
          "model_module": "@jupyter-widgets/controls",
          "model_name": "HTMLModel",
          "model_module_version": "1.5.0",
          "state": {
            "_dom_classes": [],
            "_model_module": "@jupyter-widgets/controls",
            "_model_module_version": "1.5.0",
            "_model_name": "HTMLModel",
            "_view_count": null,
            "_view_module": "@jupyter-widgets/controls",
            "_view_module_version": "1.5.0",
            "_view_name": "HTMLView",
            "description": "",
            "description_tooltip": null,
            "layout": "IPY_MODEL_5b449a096f844472babd4ff7ec29c19c",
            "placeholder": "​",
            "style": "IPY_MODEL_c8954b25ce9f4d768ee6aaaa9ae51a21",
            "value": " 3/3 [02:10&lt;00:00, 41.03s/it]"
          }
        },
        "150d366e53cd4977a26999d98ec37da9": {
          "model_module": "@jupyter-widgets/base",
          "model_name": "LayoutModel",
          "model_module_version": "1.2.0",
          "state": {
            "_model_module": "@jupyter-widgets/base",
            "_model_module_version": "1.2.0",
            "_model_name": "LayoutModel",
            "_view_count": null,
            "_view_module": "@jupyter-widgets/base",
            "_view_module_version": "1.2.0",
            "_view_name": "LayoutView",
            "align_content": null,
            "align_items": null,
            "align_self": null,
            "border": null,
            "bottom": null,
            "display": null,
            "flex": null,
            "flex_flow": null,
            "grid_area": null,
            "grid_auto_columns": null,
            "grid_auto_flow": null,
            "grid_auto_rows": null,
            "grid_column": null,
            "grid_gap": null,
            "grid_row": null,
            "grid_template_areas": null,
            "grid_template_columns": null,
            "grid_template_rows": null,
            "height": null,
            "justify_content": null,
            "justify_items": null,
            "left": null,
            "margin": null,
            "max_height": null,
            "max_width": null,
            "min_height": null,
            "min_width": null,
            "object_fit": null,
            "object_position": null,
            "order": null,
            "overflow": null,
            "overflow_x": null,
            "overflow_y": null,
            "padding": null,
            "right": null,
            "top": null,
            "visibility": null,
            "width": null
          }
        },
        "cfa2424ed0ee4eedad28a5eec7a6c2e4": {
          "model_module": "@jupyter-widgets/base",
          "model_name": "LayoutModel",
          "model_module_version": "1.2.0",
          "state": {
            "_model_module": "@jupyter-widgets/base",
            "_model_module_version": "1.2.0",
            "_model_name": "LayoutModel",
            "_view_count": null,
            "_view_module": "@jupyter-widgets/base",
            "_view_module_version": "1.2.0",
            "_view_name": "LayoutView",
            "align_content": null,
            "align_items": null,
            "align_self": null,
            "border": null,
            "bottom": null,
            "display": null,
            "flex": null,
            "flex_flow": null,
            "grid_area": null,
            "grid_auto_columns": null,
            "grid_auto_flow": null,
            "grid_auto_rows": null,
            "grid_column": null,
            "grid_gap": null,
            "grid_row": null,
            "grid_template_areas": null,
            "grid_template_columns": null,
            "grid_template_rows": null,
            "height": null,
            "justify_content": null,
            "justify_items": null,
            "left": null,
            "margin": null,
            "max_height": null,
            "max_width": null,
            "min_height": null,
            "min_width": null,
            "object_fit": null,
            "object_position": null,
            "order": null,
            "overflow": null,
            "overflow_x": null,
            "overflow_y": null,
            "padding": null,
            "right": null,
            "top": null,
            "visibility": null,
            "width": null
          }
        },
        "e595d228ccf74fc4af7ee4004c9f9e34": {
          "model_module": "@jupyter-widgets/controls",
          "model_name": "DescriptionStyleModel",
          "model_module_version": "1.5.0",
          "state": {
            "_model_module": "@jupyter-widgets/controls",
            "_model_module_version": "1.5.0",
            "_model_name": "DescriptionStyleModel",
            "_view_count": null,
            "_view_module": "@jupyter-widgets/base",
            "_view_module_version": "1.2.0",
            "_view_name": "StyleView",
            "description_width": ""
          }
        },
        "f2b3efec1cdf43b3b99d0b74b4c2a39e": {
          "model_module": "@jupyter-widgets/base",
          "model_name": "LayoutModel",
          "model_module_version": "1.2.0",
          "state": {
            "_model_module": "@jupyter-widgets/base",
            "_model_module_version": "1.2.0",
            "_model_name": "LayoutModel",
            "_view_count": null,
            "_view_module": "@jupyter-widgets/base",
            "_view_module_version": "1.2.0",
            "_view_name": "LayoutView",
            "align_content": null,
            "align_items": null,
            "align_self": null,
            "border": null,
            "bottom": null,
            "display": null,
            "flex": null,
            "flex_flow": null,
            "grid_area": null,
            "grid_auto_columns": null,
            "grid_auto_flow": null,
            "grid_auto_rows": null,
            "grid_column": null,
            "grid_gap": null,
            "grid_row": null,
            "grid_template_areas": null,
            "grid_template_columns": null,
            "grid_template_rows": null,
            "height": null,
            "justify_content": null,
            "justify_items": null,
            "left": null,
            "margin": null,
            "max_height": null,
            "max_width": null,
            "min_height": null,
            "min_width": null,
            "object_fit": null,
            "object_position": null,
            "order": null,
            "overflow": null,
            "overflow_x": null,
            "overflow_y": null,
            "padding": null,
            "right": null,
            "top": null,
            "visibility": null,
            "width": null
          }
        },
        "ac563b22ba284e9c98b45fa6176f8a08": {
          "model_module": "@jupyter-widgets/controls",
          "model_name": "ProgressStyleModel",
          "model_module_version": "1.5.0",
          "state": {
            "_model_module": "@jupyter-widgets/controls",
            "_model_module_version": "1.5.0",
            "_model_name": "ProgressStyleModel",
            "_view_count": null,
            "_view_module": "@jupyter-widgets/base",
            "_view_module_version": "1.2.0",
            "_view_name": "StyleView",
            "bar_color": null,
            "description_width": ""
          }
        },
        "5b449a096f844472babd4ff7ec29c19c": {
          "model_module": "@jupyter-widgets/base",
          "model_name": "LayoutModel",
          "model_module_version": "1.2.0",
          "state": {
            "_model_module": "@jupyter-widgets/base",
            "_model_module_version": "1.2.0",
            "_model_name": "LayoutModel",
            "_view_count": null,
            "_view_module": "@jupyter-widgets/base",
            "_view_module_version": "1.2.0",
            "_view_name": "LayoutView",
            "align_content": null,
            "align_items": null,
            "align_self": null,
            "border": null,
            "bottom": null,
            "display": null,
            "flex": null,
            "flex_flow": null,
            "grid_area": null,
            "grid_auto_columns": null,
            "grid_auto_flow": null,
            "grid_auto_rows": null,
            "grid_column": null,
            "grid_gap": null,
            "grid_row": null,
            "grid_template_areas": null,
            "grid_template_columns": null,
            "grid_template_rows": null,
            "height": null,
            "justify_content": null,
            "justify_items": null,
            "left": null,
            "margin": null,
            "max_height": null,
            "max_width": null,
            "min_height": null,
            "min_width": null,
            "object_fit": null,
            "object_position": null,
            "order": null,
            "overflow": null,
            "overflow_x": null,
            "overflow_y": null,
            "padding": null,
            "right": null,
            "top": null,
            "visibility": null,
            "width": null
          }
        },
        "c8954b25ce9f4d768ee6aaaa9ae51a21": {
          "model_module": "@jupyter-widgets/controls",
          "model_name": "DescriptionStyleModel",
          "model_module_version": "1.5.0",
          "state": {
            "_model_module": "@jupyter-widgets/controls",
            "_model_module_version": "1.5.0",
            "_model_name": "DescriptionStyleModel",
            "_view_count": null,
            "_view_module": "@jupyter-widgets/base",
            "_view_module_version": "1.2.0",
            "_view_name": "StyleView",
            "description_width": ""
          }
        },
        "b698a9d0443a437ba24cf1a40ad257cb": {
          "model_module": "@jupyter-widgets/controls",
          "model_name": "HBoxModel",
          "model_module_version": "1.5.0",
          "state": {
            "_dom_classes": [],
            "_model_module": "@jupyter-widgets/controls",
            "_model_module_version": "1.5.0",
            "_model_name": "HBoxModel",
            "_view_count": null,
            "_view_module": "@jupyter-widgets/controls",
            "_view_module_version": "1.5.0",
            "_view_name": "HBoxView",
            "box_style": "",
            "children": [
              "IPY_MODEL_0e4917f2a1a8434489ae98721bc83454",
              "IPY_MODEL_5141a7b8fee14f77aac6933db4942109",
              "IPY_MODEL_df0c9f40d2dd46128ff3ea4771316bfb"
            ],
            "layout": "IPY_MODEL_cccb62c7c42d466098ca61455de0ab71"
          }
        },
        "0e4917f2a1a8434489ae98721bc83454": {
          "model_module": "@jupyter-widgets/controls",
          "model_name": "HTMLModel",
          "model_module_version": "1.5.0",
          "state": {
            "_dom_classes": [],
            "_model_module": "@jupyter-widgets/controls",
            "_model_module_version": "1.5.0",
            "_model_name": "HTMLModel",
            "_view_count": null,
            "_view_module": "@jupyter-widgets/controls",
            "_view_module_version": "1.5.0",
            "_view_name": "HTMLView",
            "description": "",
            "description_tooltip": null,
            "layout": "IPY_MODEL_6a3184aee23641ad9206528272ab1b34",
            "placeholder": "​",
            "style": "IPY_MODEL_bffa295a30194d61bbb41d514d53b4d2",
            "value": "Downloading (…)neration_config.json: 100%"
          }
        },
        "5141a7b8fee14f77aac6933db4942109": {
          "model_module": "@jupyter-widgets/controls",
          "model_name": "FloatProgressModel",
          "model_module_version": "1.5.0",
          "state": {
            "_dom_classes": [],
            "_model_module": "@jupyter-widgets/controls",
            "_model_module_version": "1.5.0",
            "_model_name": "FloatProgressModel",
            "_view_count": null,
            "_view_module": "@jupyter-widgets/controls",
            "_view_module_version": "1.5.0",
            "_view_name": "ProgressView",
            "bar_style": "success",
            "description": "",
            "description_tooltip": null,
            "layout": "IPY_MODEL_22e864802b734e6b9ff17ab1e8210ad6",
            "max": 188,
            "min": 0,
            "orientation": "horizontal",
            "style": "IPY_MODEL_b37e851b47f645f5b07f6ec2030f7cd1",
            "value": 188
          }
        },
        "df0c9f40d2dd46128ff3ea4771316bfb": {
          "model_module": "@jupyter-widgets/controls",
          "model_name": "HTMLModel",
          "model_module_version": "1.5.0",
          "state": {
            "_dom_classes": [],
            "_model_module": "@jupyter-widgets/controls",
            "_model_module_version": "1.5.0",
            "_model_name": "HTMLModel",
            "_view_count": null,
            "_view_module": "@jupyter-widgets/controls",
            "_view_module_version": "1.5.0",
            "_view_name": "HTMLView",
            "description": "",
            "description_tooltip": null,
            "layout": "IPY_MODEL_6d94c9f558b84c7185a9aeee40343a9c",
            "placeholder": "​",
            "style": "IPY_MODEL_8c5e00a918e74c56ae30b84557612908",
            "value": " 188/188 [00:00&lt;00:00, 13.9kB/s]"
          }
        },
        "cccb62c7c42d466098ca61455de0ab71": {
          "model_module": "@jupyter-widgets/base",
          "model_name": "LayoutModel",
          "model_module_version": "1.2.0",
          "state": {
            "_model_module": "@jupyter-widgets/base",
            "_model_module_version": "1.2.0",
            "_model_name": "LayoutModel",
            "_view_count": null,
            "_view_module": "@jupyter-widgets/base",
            "_view_module_version": "1.2.0",
            "_view_name": "LayoutView",
            "align_content": null,
            "align_items": null,
            "align_self": null,
            "border": null,
            "bottom": null,
            "display": null,
            "flex": null,
            "flex_flow": null,
            "grid_area": null,
            "grid_auto_columns": null,
            "grid_auto_flow": null,
            "grid_auto_rows": null,
            "grid_column": null,
            "grid_gap": null,
            "grid_row": null,
            "grid_template_areas": null,
            "grid_template_columns": null,
            "grid_template_rows": null,
            "height": null,
            "justify_content": null,
            "justify_items": null,
            "left": null,
            "margin": null,
            "max_height": null,
            "max_width": null,
            "min_height": null,
            "min_width": null,
            "object_fit": null,
            "object_position": null,
            "order": null,
            "overflow": null,
            "overflow_x": null,
            "overflow_y": null,
            "padding": null,
            "right": null,
            "top": null,
            "visibility": null,
            "width": null
          }
        },
        "6a3184aee23641ad9206528272ab1b34": {
          "model_module": "@jupyter-widgets/base",
          "model_name": "LayoutModel",
          "model_module_version": "1.2.0",
          "state": {
            "_model_module": "@jupyter-widgets/base",
            "_model_module_version": "1.2.0",
            "_model_name": "LayoutModel",
            "_view_count": null,
            "_view_module": "@jupyter-widgets/base",
            "_view_module_version": "1.2.0",
            "_view_name": "LayoutView",
            "align_content": null,
            "align_items": null,
            "align_self": null,
            "border": null,
            "bottom": null,
            "display": null,
            "flex": null,
            "flex_flow": null,
            "grid_area": null,
            "grid_auto_columns": null,
            "grid_auto_flow": null,
            "grid_auto_rows": null,
            "grid_column": null,
            "grid_gap": null,
            "grid_row": null,
            "grid_template_areas": null,
            "grid_template_columns": null,
            "grid_template_rows": null,
            "height": null,
            "justify_content": null,
            "justify_items": null,
            "left": null,
            "margin": null,
            "max_height": null,
            "max_width": null,
            "min_height": null,
            "min_width": null,
            "object_fit": null,
            "object_position": null,
            "order": null,
            "overflow": null,
            "overflow_x": null,
            "overflow_y": null,
            "padding": null,
            "right": null,
            "top": null,
            "visibility": null,
            "width": null
          }
        },
        "bffa295a30194d61bbb41d514d53b4d2": {
          "model_module": "@jupyter-widgets/controls",
          "model_name": "DescriptionStyleModel",
          "model_module_version": "1.5.0",
          "state": {
            "_model_module": "@jupyter-widgets/controls",
            "_model_module_version": "1.5.0",
            "_model_name": "DescriptionStyleModel",
            "_view_count": null,
            "_view_module": "@jupyter-widgets/base",
            "_view_module_version": "1.2.0",
            "_view_name": "StyleView",
            "description_width": ""
          }
        },
        "22e864802b734e6b9ff17ab1e8210ad6": {
          "model_module": "@jupyter-widgets/base",
          "model_name": "LayoutModel",
          "model_module_version": "1.2.0",
          "state": {
            "_model_module": "@jupyter-widgets/base",
            "_model_module_version": "1.2.0",
            "_model_name": "LayoutModel",
            "_view_count": null,
            "_view_module": "@jupyter-widgets/base",
            "_view_module_version": "1.2.0",
            "_view_name": "LayoutView",
            "align_content": null,
            "align_items": null,
            "align_self": null,
            "border": null,
            "bottom": null,
            "display": null,
            "flex": null,
            "flex_flow": null,
            "grid_area": null,
            "grid_auto_columns": null,
            "grid_auto_flow": null,
            "grid_auto_rows": null,
            "grid_column": null,
            "grid_gap": null,
            "grid_row": null,
            "grid_template_areas": null,
            "grid_template_columns": null,
            "grid_template_rows": null,
            "height": null,
            "justify_content": null,
            "justify_items": null,
            "left": null,
            "margin": null,
            "max_height": null,
            "max_width": null,
            "min_height": null,
            "min_width": null,
            "object_fit": null,
            "object_position": null,
            "order": null,
            "overflow": null,
            "overflow_x": null,
            "overflow_y": null,
            "padding": null,
            "right": null,
            "top": null,
            "visibility": null,
            "width": null
          }
        },
        "b37e851b47f645f5b07f6ec2030f7cd1": {
          "model_module": "@jupyter-widgets/controls",
          "model_name": "ProgressStyleModel",
          "model_module_version": "1.5.0",
          "state": {
            "_model_module": "@jupyter-widgets/controls",
            "_model_module_version": "1.5.0",
            "_model_name": "ProgressStyleModel",
            "_view_count": null,
            "_view_module": "@jupyter-widgets/base",
            "_view_module_version": "1.2.0",
            "_view_name": "StyleView",
            "bar_color": null,
            "description_width": ""
          }
        },
        "6d94c9f558b84c7185a9aeee40343a9c": {
          "model_module": "@jupyter-widgets/base",
          "model_name": "LayoutModel",
          "model_module_version": "1.2.0",
          "state": {
            "_model_module": "@jupyter-widgets/base",
            "_model_module_version": "1.2.0",
            "_model_name": "LayoutModel",
            "_view_count": null,
            "_view_module": "@jupyter-widgets/base",
            "_view_module_version": "1.2.0",
            "_view_name": "LayoutView",
            "align_content": null,
            "align_items": null,
            "align_self": null,
            "border": null,
            "bottom": null,
            "display": null,
            "flex": null,
            "flex_flow": null,
            "grid_area": null,
            "grid_auto_columns": null,
            "grid_auto_flow": null,
            "grid_auto_rows": null,
            "grid_column": null,
            "grid_gap": null,
            "grid_row": null,
            "grid_template_areas": null,
            "grid_template_columns": null,
            "grid_template_rows": null,
            "height": null,
            "justify_content": null,
            "justify_items": null,
            "left": null,
            "margin": null,
            "max_height": null,
            "max_width": null,
            "min_height": null,
            "min_width": null,
            "object_fit": null,
            "object_position": null,
            "order": null,
            "overflow": null,
            "overflow_x": null,
            "overflow_y": null,
            "padding": null,
            "right": null,
            "top": null,
            "visibility": null,
            "width": null
          }
        },
        "8c5e00a918e74c56ae30b84557612908": {
          "model_module": "@jupyter-widgets/controls",
          "model_name": "DescriptionStyleModel",
          "model_module_version": "1.5.0",
          "state": {
            "_model_module": "@jupyter-widgets/controls",
            "_model_module_version": "1.5.0",
            "_model_name": "DescriptionStyleModel",
            "_view_count": null,
            "_view_module": "@jupyter-widgets/base",
            "_view_module_version": "1.2.0",
            "_view_name": "StyleView",
            "description_width": ""
          }
        },
        "0722014e73f74694b387169309b369e7": {
          "model_module": "@jupyter-widgets/controls",
          "model_name": "HBoxModel",
          "model_module_version": "1.5.0",
          "state": {
            "_dom_classes": [],
            "_model_module": "@jupyter-widgets/controls",
            "_model_module_version": "1.5.0",
            "_model_name": "HBoxModel",
            "_view_count": null,
            "_view_module": "@jupyter-widgets/controls",
            "_view_module_version": "1.5.0",
            "_view_name": "HBoxView",
            "box_style": "",
            "children": [
              "IPY_MODEL_5430204df4e74b868a4ced6688bd2847",
              "IPY_MODEL_8d38712f7e0446e48418c155681b7bc9",
              "IPY_MODEL_630cdaea49974bc3a8cd1ffb69ed4d8b"
            ],
            "layout": "IPY_MODEL_ec74a1d3071a4ca4b4d1f0bd61f74f7d"
          }
        },
        "5430204df4e74b868a4ced6688bd2847": {
          "model_module": "@jupyter-widgets/controls",
          "model_name": "HTMLModel",
          "model_module_version": "1.5.0",
          "state": {
            "_dom_classes": [],
            "_model_module": "@jupyter-widgets/controls",
            "_model_module_version": "1.5.0",
            "_model_name": "HTMLModel",
            "_view_count": null,
            "_view_module": "@jupyter-widgets/controls",
            "_view_module_version": "1.5.0",
            "_view_name": "HTMLView",
            "description": "",
            "description_tooltip": null,
            "layout": "IPY_MODEL_6cfe8960d927412890db6822e4396908",
            "placeholder": "​",
            "style": "IPY_MODEL_7df654f3f2e44ec382bdb7b58f967359",
            "value": "Downloading (…)lve/main/config.json: 100%"
          }
        },
        "8d38712f7e0446e48418c155681b7bc9": {
          "model_module": "@jupyter-widgets/controls",
          "model_name": "FloatProgressModel",
          "model_module_version": "1.5.0",
          "state": {
            "_dom_classes": [],
            "_model_module": "@jupyter-widgets/controls",
            "_model_module_version": "1.5.0",
            "_model_name": "FloatProgressModel",
            "_view_count": null,
            "_view_module": "@jupyter-widgets/controls",
            "_view_module_version": "1.5.0",
            "_view_name": "ProgressView",
            "bar_style": "success",
            "description": "",
            "description_tooltip": null,
            "layout": "IPY_MODEL_a3bdba0587cc41aebbfecb2ee54c6563",
            "max": 1404,
            "min": 0,
            "orientation": "horizontal",
            "style": "IPY_MODEL_e72b1c6d3fae42488278743baada5d8e",
            "value": 1404
          }
        },
        "630cdaea49974bc3a8cd1ffb69ed4d8b": {
          "model_module": "@jupyter-widgets/controls",
          "model_name": "HTMLModel",
          "model_module_version": "1.5.0",
          "state": {
            "_dom_classes": [],
            "_model_module": "@jupyter-widgets/controls",
            "_model_module_version": "1.5.0",
            "_model_name": "HTMLModel",
            "_view_count": null,
            "_view_module": "@jupyter-widgets/controls",
            "_view_module_version": "1.5.0",
            "_view_name": "HTMLView",
            "description": "",
            "description_tooltip": null,
            "layout": "IPY_MODEL_94f38ffe41c741549302cb88fcc8c084",
            "placeholder": "​",
            "style": "IPY_MODEL_65834db24f1746f79dd24f28071b14b9",
            "value": " 1.40k/1.40k [00:00&lt;00:00, 104kB/s]"
          }
        },
        "ec74a1d3071a4ca4b4d1f0bd61f74f7d": {
          "model_module": "@jupyter-widgets/base",
          "model_name": "LayoutModel",
          "model_module_version": "1.2.0",
          "state": {
            "_model_module": "@jupyter-widgets/base",
            "_model_module_version": "1.2.0",
            "_model_name": "LayoutModel",
            "_view_count": null,
            "_view_module": "@jupyter-widgets/base",
            "_view_module_version": "1.2.0",
            "_view_name": "LayoutView",
            "align_content": null,
            "align_items": null,
            "align_self": null,
            "border": null,
            "bottom": null,
            "display": null,
            "flex": null,
            "flex_flow": null,
            "grid_area": null,
            "grid_auto_columns": null,
            "grid_auto_flow": null,
            "grid_auto_rows": null,
            "grid_column": null,
            "grid_gap": null,
            "grid_row": null,
            "grid_template_areas": null,
            "grid_template_columns": null,
            "grid_template_rows": null,
            "height": null,
            "justify_content": null,
            "justify_items": null,
            "left": null,
            "margin": null,
            "max_height": null,
            "max_width": null,
            "min_height": null,
            "min_width": null,
            "object_fit": null,
            "object_position": null,
            "order": null,
            "overflow": null,
            "overflow_x": null,
            "overflow_y": null,
            "padding": null,
            "right": null,
            "top": null,
            "visibility": null,
            "width": null
          }
        },
        "6cfe8960d927412890db6822e4396908": {
          "model_module": "@jupyter-widgets/base",
          "model_name": "LayoutModel",
          "model_module_version": "1.2.0",
          "state": {
            "_model_module": "@jupyter-widgets/base",
            "_model_module_version": "1.2.0",
            "_model_name": "LayoutModel",
            "_view_count": null,
            "_view_module": "@jupyter-widgets/base",
            "_view_module_version": "1.2.0",
            "_view_name": "LayoutView",
            "align_content": null,
            "align_items": null,
            "align_self": null,
            "border": null,
            "bottom": null,
            "display": null,
            "flex": null,
            "flex_flow": null,
            "grid_area": null,
            "grid_auto_columns": null,
            "grid_auto_flow": null,
            "grid_auto_rows": null,
            "grid_column": null,
            "grid_gap": null,
            "grid_row": null,
            "grid_template_areas": null,
            "grid_template_columns": null,
            "grid_template_rows": null,
            "height": null,
            "justify_content": null,
            "justify_items": null,
            "left": null,
            "margin": null,
            "max_height": null,
            "max_width": null,
            "min_height": null,
            "min_width": null,
            "object_fit": null,
            "object_position": null,
            "order": null,
            "overflow": null,
            "overflow_x": null,
            "overflow_y": null,
            "padding": null,
            "right": null,
            "top": null,
            "visibility": null,
            "width": null
          }
        },
        "7df654f3f2e44ec382bdb7b58f967359": {
          "model_module": "@jupyter-widgets/controls",
          "model_name": "DescriptionStyleModel",
          "model_module_version": "1.5.0",
          "state": {
            "_model_module": "@jupyter-widgets/controls",
            "_model_module_version": "1.5.0",
            "_model_name": "DescriptionStyleModel",
            "_view_count": null,
            "_view_module": "@jupyter-widgets/base",
            "_view_module_version": "1.2.0",
            "_view_name": "StyleView",
            "description_width": ""
          }
        },
        "a3bdba0587cc41aebbfecb2ee54c6563": {
          "model_module": "@jupyter-widgets/base",
          "model_name": "LayoutModel",
          "model_module_version": "1.2.0",
          "state": {
            "_model_module": "@jupyter-widgets/base",
            "_model_module_version": "1.2.0",
            "_model_name": "LayoutModel",
            "_view_count": null,
            "_view_module": "@jupyter-widgets/base",
            "_view_module_version": "1.2.0",
            "_view_name": "LayoutView",
            "align_content": null,
            "align_items": null,
            "align_self": null,
            "border": null,
            "bottom": null,
            "display": null,
            "flex": null,
            "flex_flow": null,
            "grid_area": null,
            "grid_auto_columns": null,
            "grid_auto_flow": null,
            "grid_auto_rows": null,
            "grid_column": null,
            "grid_gap": null,
            "grid_row": null,
            "grid_template_areas": null,
            "grid_template_columns": null,
            "grid_template_rows": null,
            "height": null,
            "justify_content": null,
            "justify_items": null,
            "left": null,
            "margin": null,
            "max_height": null,
            "max_width": null,
            "min_height": null,
            "min_width": null,
            "object_fit": null,
            "object_position": null,
            "order": null,
            "overflow": null,
            "overflow_x": null,
            "overflow_y": null,
            "padding": null,
            "right": null,
            "top": null,
            "visibility": null,
            "width": null
          }
        },
        "e72b1c6d3fae42488278743baada5d8e": {
          "model_module": "@jupyter-widgets/controls",
          "model_name": "ProgressStyleModel",
          "model_module_version": "1.5.0",
          "state": {
            "_model_module": "@jupyter-widgets/controls",
            "_model_module_version": "1.5.0",
            "_model_name": "ProgressStyleModel",
            "_view_count": null,
            "_view_module": "@jupyter-widgets/base",
            "_view_module_version": "1.2.0",
            "_view_name": "StyleView",
            "bar_color": null,
            "description_width": ""
          }
        },
        "94f38ffe41c741549302cb88fcc8c084": {
          "model_module": "@jupyter-widgets/base",
          "model_name": "LayoutModel",
          "model_module_version": "1.2.0",
          "state": {
            "_model_module": "@jupyter-widgets/base",
            "_model_module_version": "1.2.0",
            "_model_name": "LayoutModel",
            "_view_count": null,
            "_view_module": "@jupyter-widgets/base",
            "_view_module_version": "1.2.0",
            "_view_name": "LayoutView",
            "align_content": null,
            "align_items": null,
            "align_self": null,
            "border": null,
            "bottom": null,
            "display": null,
            "flex": null,
            "flex_flow": null,
            "grid_area": null,
            "grid_auto_columns": null,
            "grid_auto_flow": null,
            "grid_auto_rows": null,
            "grid_column": null,
            "grid_gap": null,
            "grid_row": null,
            "grid_template_areas": null,
            "grid_template_columns": null,
            "grid_template_rows": null,
            "height": null,
            "justify_content": null,
            "justify_items": null,
            "left": null,
            "margin": null,
            "max_height": null,
            "max_width": null,
            "min_height": null,
            "min_width": null,
            "object_fit": null,
            "object_position": null,
            "order": null,
            "overflow": null,
            "overflow_x": null,
            "overflow_y": null,
            "padding": null,
            "right": null,
            "top": null,
            "visibility": null,
            "width": null
          }
        },
        "65834db24f1746f79dd24f28071b14b9": {
          "model_module": "@jupyter-widgets/controls",
          "model_name": "DescriptionStyleModel",
          "model_module_version": "1.5.0",
          "state": {
            "_model_module": "@jupyter-widgets/controls",
            "_model_module_version": "1.5.0",
            "_model_name": "DescriptionStyleModel",
            "_view_count": null,
            "_view_module": "@jupyter-widgets/base",
            "_view_module_version": "1.2.0",
            "_view_name": "StyleView",
            "description_width": ""
          }
        },
        "e1fe2b39064b42b2847eec0184dd5956": {
          "model_module": "@jupyter-widgets/controls",
          "model_name": "HBoxModel",
          "model_module_version": "1.5.0",
          "state": {
            "_dom_classes": [],
            "_model_module": "@jupyter-widgets/controls",
            "_model_module_version": "1.5.0",
            "_model_name": "HBoxModel",
            "_view_count": null,
            "_view_module": "@jupyter-widgets/controls",
            "_view_module_version": "1.5.0",
            "_view_name": "HBoxView",
            "box_style": "",
            "children": [
              "IPY_MODEL_6beebbed328c4292a317d499ff02cfc3",
              "IPY_MODEL_1f6b207b725749dd811def4df780abed",
              "IPY_MODEL_271bde6313564fc8abadbec2d82cae40"
            ],
            "layout": "IPY_MODEL_a48e20d5ad5d4e7889347cca3baff21a"
          }
        },
        "6beebbed328c4292a317d499ff02cfc3": {
          "model_module": "@jupyter-widgets/controls",
          "model_name": "HTMLModel",
          "model_module_version": "1.5.0",
          "state": {
            "_dom_classes": [],
            "_model_module": "@jupyter-widgets/controls",
            "_model_module_version": "1.5.0",
            "_model_name": "HTMLModel",
            "_view_count": null,
            "_view_module": "@jupyter-widgets/controls",
            "_view_module_version": "1.5.0",
            "_view_name": "HTMLView",
            "description": "",
            "description_tooltip": null,
            "layout": "IPY_MODEL_003f764a6eb34bbb95674b30d6d3db1c",
            "placeholder": "​",
            "style": "IPY_MODEL_d698e92b17204dab9672664b4c4412dc",
            "value": "Downloading model.safetensors: 100%"
          }
        },
        "1f6b207b725749dd811def4df780abed": {
          "model_module": "@jupyter-widgets/controls",
          "model_name": "FloatProgressModel",
          "model_module_version": "1.5.0",
          "state": {
            "_dom_classes": [],
            "_model_module": "@jupyter-widgets/controls",
            "_model_module_version": "1.5.0",
            "_model_name": "FloatProgressModel",
            "_view_count": null,
            "_view_module": "@jupyter-widgets/controls",
            "_view_module_version": "1.5.0",
            "_view_name": "ProgressView",
            "bar_style": "success",
            "description": "",
            "description_tooltip": null,
            "layout": "IPY_MODEL_9c015ef0262146af9b1b8b9b72c1df17",
            "max": 990345061,
            "min": 0,
            "orientation": "horizontal",
            "style": "IPY_MODEL_1b10c2636eb94796b7b306e3f9c0a96e",
            "value": 990345061
          }
        },
        "271bde6313564fc8abadbec2d82cae40": {
          "model_module": "@jupyter-widgets/controls",
          "model_name": "HTMLModel",
          "model_module_version": "1.5.0",
          "state": {
            "_dom_classes": [],
            "_model_module": "@jupyter-widgets/controls",
            "_model_module_version": "1.5.0",
            "_model_name": "HTMLModel",
            "_view_count": null,
            "_view_module": "@jupyter-widgets/controls",
            "_view_module_version": "1.5.0",
            "_view_name": "HTMLView",
            "description": "",
            "description_tooltip": null,
            "layout": "IPY_MODEL_63e883f90edb4bd6847b0331bcccac2e",
            "placeholder": "​",
            "style": "IPY_MODEL_53489fe85f1e437b8b3a31fcc5eef9f8",
            "value": " 990M/990M [00:07&lt;00:00, 126MB/s]"
          }
        },
        "a48e20d5ad5d4e7889347cca3baff21a": {
          "model_module": "@jupyter-widgets/base",
          "model_name": "LayoutModel",
          "model_module_version": "1.2.0",
          "state": {
            "_model_module": "@jupyter-widgets/base",
            "_model_module_version": "1.2.0",
            "_model_name": "LayoutModel",
            "_view_count": null,
            "_view_module": "@jupyter-widgets/base",
            "_view_module_version": "1.2.0",
            "_view_name": "LayoutView",
            "align_content": null,
            "align_items": null,
            "align_self": null,
            "border": null,
            "bottom": null,
            "display": null,
            "flex": null,
            "flex_flow": null,
            "grid_area": null,
            "grid_auto_columns": null,
            "grid_auto_flow": null,
            "grid_auto_rows": null,
            "grid_column": null,
            "grid_gap": null,
            "grid_row": null,
            "grid_template_areas": null,
            "grid_template_columns": null,
            "grid_template_rows": null,
            "height": null,
            "justify_content": null,
            "justify_items": null,
            "left": null,
            "margin": null,
            "max_height": null,
            "max_width": null,
            "min_height": null,
            "min_width": null,
            "object_fit": null,
            "object_position": null,
            "order": null,
            "overflow": null,
            "overflow_x": null,
            "overflow_y": null,
            "padding": null,
            "right": null,
            "top": null,
            "visibility": null,
            "width": null
          }
        },
        "003f764a6eb34bbb95674b30d6d3db1c": {
          "model_module": "@jupyter-widgets/base",
          "model_name": "LayoutModel",
          "model_module_version": "1.2.0",
          "state": {
            "_model_module": "@jupyter-widgets/base",
            "_model_module_version": "1.2.0",
            "_model_name": "LayoutModel",
            "_view_count": null,
            "_view_module": "@jupyter-widgets/base",
            "_view_module_version": "1.2.0",
            "_view_name": "LayoutView",
            "align_content": null,
            "align_items": null,
            "align_self": null,
            "border": null,
            "bottom": null,
            "display": null,
            "flex": null,
            "flex_flow": null,
            "grid_area": null,
            "grid_auto_columns": null,
            "grid_auto_flow": null,
            "grid_auto_rows": null,
            "grid_column": null,
            "grid_gap": null,
            "grid_row": null,
            "grid_template_areas": null,
            "grid_template_columns": null,
            "grid_template_rows": null,
            "height": null,
            "justify_content": null,
            "justify_items": null,
            "left": null,
            "margin": null,
            "max_height": null,
            "max_width": null,
            "min_height": null,
            "min_width": null,
            "object_fit": null,
            "object_position": null,
            "order": null,
            "overflow": null,
            "overflow_x": null,
            "overflow_y": null,
            "padding": null,
            "right": null,
            "top": null,
            "visibility": null,
            "width": null
          }
        },
        "d698e92b17204dab9672664b4c4412dc": {
          "model_module": "@jupyter-widgets/controls",
          "model_name": "DescriptionStyleModel",
          "model_module_version": "1.5.0",
          "state": {
            "_model_module": "@jupyter-widgets/controls",
            "_model_module_version": "1.5.0",
            "_model_name": "DescriptionStyleModel",
            "_view_count": null,
            "_view_module": "@jupyter-widgets/base",
            "_view_module_version": "1.2.0",
            "_view_name": "StyleView",
            "description_width": ""
          }
        },
        "9c015ef0262146af9b1b8b9b72c1df17": {
          "model_module": "@jupyter-widgets/base",
          "model_name": "LayoutModel",
          "model_module_version": "1.2.0",
          "state": {
            "_model_module": "@jupyter-widgets/base",
            "_model_module_version": "1.2.0",
            "_model_name": "LayoutModel",
            "_view_count": null,
            "_view_module": "@jupyter-widgets/base",
            "_view_module_version": "1.2.0",
            "_view_name": "LayoutView",
            "align_content": null,
            "align_items": null,
            "align_self": null,
            "border": null,
            "bottom": null,
            "display": null,
            "flex": null,
            "flex_flow": null,
            "grid_area": null,
            "grid_auto_columns": null,
            "grid_auto_flow": null,
            "grid_auto_rows": null,
            "grid_column": null,
            "grid_gap": null,
            "grid_row": null,
            "grid_template_areas": null,
            "grid_template_columns": null,
            "grid_template_rows": null,
            "height": null,
            "justify_content": null,
            "justify_items": null,
            "left": null,
            "margin": null,
            "max_height": null,
            "max_width": null,
            "min_height": null,
            "min_width": null,
            "object_fit": null,
            "object_position": null,
            "order": null,
            "overflow": null,
            "overflow_x": null,
            "overflow_y": null,
            "padding": null,
            "right": null,
            "top": null,
            "visibility": null,
            "width": null
          }
        },
        "1b10c2636eb94796b7b306e3f9c0a96e": {
          "model_module": "@jupyter-widgets/controls",
          "model_name": "ProgressStyleModel",
          "model_module_version": "1.5.0",
          "state": {
            "_model_module": "@jupyter-widgets/controls",
            "_model_module_version": "1.5.0",
            "_model_name": "ProgressStyleModel",
            "_view_count": null,
            "_view_module": "@jupyter-widgets/base",
            "_view_module_version": "1.2.0",
            "_view_name": "StyleView",
            "bar_color": null,
            "description_width": ""
          }
        },
        "63e883f90edb4bd6847b0331bcccac2e": {
          "model_module": "@jupyter-widgets/base",
          "model_name": "LayoutModel",
          "model_module_version": "1.2.0",
          "state": {
            "_model_module": "@jupyter-widgets/base",
            "_model_module_version": "1.2.0",
            "_model_name": "LayoutModel",
            "_view_count": null,
            "_view_module": "@jupyter-widgets/base",
            "_view_module_version": "1.2.0",
            "_view_name": "LayoutView",
            "align_content": null,
            "align_items": null,
            "align_self": null,
            "border": null,
            "bottom": null,
            "display": null,
            "flex": null,
            "flex_flow": null,
            "grid_area": null,
            "grid_auto_columns": null,
            "grid_auto_flow": null,
            "grid_auto_rows": null,
            "grid_column": null,
            "grid_gap": null,
            "grid_row": null,
            "grid_template_areas": null,
            "grid_template_columns": null,
            "grid_template_rows": null,
            "height": null,
            "justify_content": null,
            "justify_items": null,
            "left": null,
            "margin": null,
            "max_height": null,
            "max_width": null,
            "min_height": null,
            "min_width": null,
            "object_fit": null,
            "object_position": null,
            "order": null,
            "overflow": null,
            "overflow_x": null,
            "overflow_y": null,
            "padding": null,
            "right": null,
            "top": null,
            "visibility": null,
            "width": null
          }
        },
        "53489fe85f1e437b8b3a31fcc5eef9f8": {
          "model_module": "@jupyter-widgets/controls",
          "model_name": "DescriptionStyleModel",
          "model_module_version": "1.5.0",
          "state": {
            "_model_module": "@jupyter-widgets/controls",
            "_model_module_version": "1.5.0",
            "_model_name": "DescriptionStyleModel",
            "_view_count": null,
            "_view_module": "@jupyter-widgets/base",
            "_view_module_version": "1.2.0",
            "_view_name": "StyleView",
            "description_width": ""
          }
        },
        "168f1b0533c34b56bf721db55c9a2ce4": {
          "model_module": "@jupyter-widgets/controls",
          "model_name": "HBoxModel",
          "model_module_version": "1.5.0",
          "state": {
            "_dom_classes": [],
            "_model_module": "@jupyter-widgets/controls",
            "_model_module_version": "1.5.0",
            "_model_name": "HBoxModel",
            "_view_count": null,
            "_view_module": "@jupyter-widgets/controls",
            "_view_module_version": "1.5.0",
            "_view_name": "HBoxView",
            "box_style": "",
            "children": [
              "IPY_MODEL_89ff95c3f1ce4a1dbde53df2f641ec80",
              "IPY_MODEL_a983ab87e0a74e889b5862935c4e1dfa",
              "IPY_MODEL_8b76720132b647eb9055052766413b35"
            ],
            "layout": "IPY_MODEL_f9c74de72f5c44649cb87b7dc66abcb2"
          }
        },
        "89ff95c3f1ce4a1dbde53df2f641ec80": {
          "model_module": "@jupyter-widgets/controls",
          "model_name": "HTMLModel",
          "model_module_version": "1.5.0",
          "state": {
            "_dom_classes": [],
            "_model_module": "@jupyter-widgets/controls",
            "_model_module_version": "1.5.0",
            "_model_name": "HTMLModel",
            "_view_count": null,
            "_view_module": "@jupyter-widgets/controls",
            "_view_module_version": "1.5.0",
            "_view_name": "HTMLView",
            "description": "",
            "description_tooltip": null,
            "layout": "IPY_MODEL_3230752bbc304fa487293b1aea15f2aa",
            "placeholder": "​",
            "style": "IPY_MODEL_b7ade06dd05d4b93a3691c6ddbb7cfaa",
            "value": "Downloading (…)neration_config.json: 100%"
          }
        },
        "a983ab87e0a74e889b5862935c4e1dfa": {
          "model_module": "@jupyter-widgets/controls",
          "model_name": "FloatProgressModel",
          "model_module_version": "1.5.0",
          "state": {
            "_dom_classes": [],
            "_model_module": "@jupyter-widgets/controls",
            "_model_module_version": "1.5.0",
            "_model_name": "FloatProgressModel",
            "_view_count": null,
            "_view_module": "@jupyter-widgets/controls",
            "_view_module_version": "1.5.0",
            "_view_name": "ProgressView",
            "bar_style": "success",
            "description": "",
            "description_tooltip": null,
            "layout": "IPY_MODEL_07e8bc62fb8d4bfd9527c825225d4748",
            "max": 147,
            "min": 0,
            "orientation": "horizontal",
            "style": "IPY_MODEL_9fcce2c93d394c45b0148b96a8c6bb43",
            "value": 147
          }
        },
        "8b76720132b647eb9055052766413b35": {
          "model_module": "@jupyter-widgets/controls",
          "model_name": "HTMLModel",
          "model_module_version": "1.5.0",
          "state": {
            "_dom_classes": [],
            "_model_module": "@jupyter-widgets/controls",
            "_model_module_version": "1.5.0",
            "_model_name": "HTMLModel",
            "_view_count": null,
            "_view_module": "@jupyter-widgets/controls",
            "_view_module_version": "1.5.0",
            "_view_name": "HTMLView",
            "description": "",
            "description_tooltip": null,
            "layout": "IPY_MODEL_701cdb7f15af4e18a4e4d2597bec3f08",
            "placeholder": "​",
            "style": "IPY_MODEL_c7fa7baaa33a4a7e9ae302324d529b2a",
            "value": " 147/147 [00:00&lt;00:00, 10.3kB/s]"
          }
        },
        "f9c74de72f5c44649cb87b7dc66abcb2": {
          "model_module": "@jupyter-widgets/base",
          "model_name": "LayoutModel",
          "model_module_version": "1.2.0",
          "state": {
            "_model_module": "@jupyter-widgets/base",
            "_model_module_version": "1.2.0",
            "_model_name": "LayoutModel",
            "_view_count": null,
            "_view_module": "@jupyter-widgets/base",
            "_view_module_version": "1.2.0",
            "_view_name": "LayoutView",
            "align_content": null,
            "align_items": null,
            "align_self": null,
            "border": null,
            "bottom": null,
            "display": null,
            "flex": null,
            "flex_flow": null,
            "grid_area": null,
            "grid_auto_columns": null,
            "grid_auto_flow": null,
            "grid_auto_rows": null,
            "grid_column": null,
            "grid_gap": null,
            "grid_row": null,
            "grid_template_areas": null,
            "grid_template_columns": null,
            "grid_template_rows": null,
            "height": null,
            "justify_content": null,
            "justify_items": null,
            "left": null,
            "margin": null,
            "max_height": null,
            "max_width": null,
            "min_height": null,
            "min_width": null,
            "object_fit": null,
            "object_position": null,
            "order": null,
            "overflow": null,
            "overflow_x": null,
            "overflow_y": null,
            "padding": null,
            "right": null,
            "top": null,
            "visibility": null,
            "width": null
          }
        },
        "3230752bbc304fa487293b1aea15f2aa": {
          "model_module": "@jupyter-widgets/base",
          "model_name": "LayoutModel",
          "model_module_version": "1.2.0",
          "state": {
            "_model_module": "@jupyter-widgets/base",
            "_model_module_version": "1.2.0",
            "_model_name": "LayoutModel",
            "_view_count": null,
            "_view_module": "@jupyter-widgets/base",
            "_view_module_version": "1.2.0",
            "_view_name": "LayoutView",
            "align_content": null,
            "align_items": null,
            "align_self": null,
            "border": null,
            "bottom": null,
            "display": null,
            "flex": null,
            "flex_flow": null,
            "grid_area": null,
            "grid_auto_columns": null,
            "grid_auto_flow": null,
            "grid_auto_rows": null,
            "grid_column": null,
            "grid_gap": null,
            "grid_row": null,
            "grid_template_areas": null,
            "grid_template_columns": null,
            "grid_template_rows": null,
            "height": null,
            "justify_content": null,
            "justify_items": null,
            "left": null,
            "margin": null,
            "max_height": null,
            "max_width": null,
            "min_height": null,
            "min_width": null,
            "object_fit": null,
            "object_position": null,
            "order": null,
            "overflow": null,
            "overflow_x": null,
            "overflow_y": null,
            "padding": null,
            "right": null,
            "top": null,
            "visibility": null,
            "width": null
          }
        },
        "b7ade06dd05d4b93a3691c6ddbb7cfaa": {
          "model_module": "@jupyter-widgets/controls",
          "model_name": "DescriptionStyleModel",
          "model_module_version": "1.5.0",
          "state": {
            "_model_module": "@jupyter-widgets/controls",
            "_model_module_version": "1.5.0",
            "_model_name": "DescriptionStyleModel",
            "_view_count": null,
            "_view_module": "@jupyter-widgets/base",
            "_view_module_version": "1.2.0",
            "_view_name": "StyleView",
            "description_width": ""
          }
        },
        "07e8bc62fb8d4bfd9527c825225d4748": {
          "model_module": "@jupyter-widgets/base",
          "model_name": "LayoutModel",
          "model_module_version": "1.2.0",
          "state": {
            "_model_module": "@jupyter-widgets/base",
            "_model_module_version": "1.2.0",
            "_model_name": "LayoutModel",
            "_view_count": null,
            "_view_module": "@jupyter-widgets/base",
            "_view_module_version": "1.2.0",
            "_view_name": "LayoutView",
            "align_content": null,
            "align_items": null,
            "align_self": null,
            "border": null,
            "bottom": null,
            "display": null,
            "flex": null,
            "flex_flow": null,
            "grid_area": null,
            "grid_auto_columns": null,
            "grid_auto_flow": null,
            "grid_auto_rows": null,
            "grid_column": null,
            "grid_gap": null,
            "grid_row": null,
            "grid_template_areas": null,
            "grid_template_columns": null,
            "grid_template_rows": null,
            "height": null,
            "justify_content": null,
            "justify_items": null,
            "left": null,
            "margin": null,
            "max_height": null,
            "max_width": null,
            "min_height": null,
            "min_width": null,
            "object_fit": null,
            "object_position": null,
            "order": null,
            "overflow": null,
            "overflow_x": null,
            "overflow_y": null,
            "padding": null,
            "right": null,
            "top": null,
            "visibility": null,
            "width": null
          }
        },
        "9fcce2c93d394c45b0148b96a8c6bb43": {
          "model_module": "@jupyter-widgets/controls",
          "model_name": "ProgressStyleModel",
          "model_module_version": "1.5.0",
          "state": {
            "_model_module": "@jupyter-widgets/controls",
            "_model_module_version": "1.5.0",
            "_model_name": "ProgressStyleModel",
            "_view_count": null,
            "_view_module": "@jupyter-widgets/base",
            "_view_module_version": "1.2.0",
            "_view_name": "StyleView",
            "bar_color": null,
            "description_width": ""
          }
        },
        "701cdb7f15af4e18a4e4d2597bec3f08": {
          "model_module": "@jupyter-widgets/base",
          "model_name": "LayoutModel",
          "model_module_version": "1.2.0",
          "state": {
            "_model_module": "@jupyter-widgets/base",
            "_model_module_version": "1.2.0",
            "_model_name": "LayoutModel",
            "_view_count": null,
            "_view_module": "@jupyter-widgets/base",
            "_view_module_version": "1.2.0",
            "_view_name": "LayoutView",
            "align_content": null,
            "align_items": null,
            "align_self": null,
            "border": null,
            "bottom": null,
            "display": null,
            "flex": null,
            "flex_flow": null,
            "grid_area": null,
            "grid_auto_columns": null,
            "grid_auto_flow": null,
            "grid_auto_rows": null,
            "grid_column": null,
            "grid_gap": null,
            "grid_row": null,
            "grid_template_areas": null,
            "grid_template_columns": null,
            "grid_template_rows": null,
            "height": null,
            "justify_content": null,
            "justify_items": null,
            "left": null,
            "margin": null,
            "max_height": null,
            "max_width": null,
            "min_height": null,
            "min_width": null,
            "object_fit": null,
            "object_position": null,
            "order": null,
            "overflow": null,
            "overflow_x": null,
            "overflow_y": null,
            "padding": null,
            "right": null,
            "top": null,
            "visibility": null,
            "width": null
          }
        },
        "c7fa7baaa33a4a7e9ae302324d529b2a": {
          "model_module": "@jupyter-widgets/controls",
          "model_name": "DescriptionStyleModel",
          "model_module_version": "1.5.0",
          "state": {
            "_model_module": "@jupyter-widgets/controls",
            "_model_module_version": "1.5.0",
            "_model_name": "DescriptionStyleModel",
            "_view_count": null,
            "_view_module": "@jupyter-widgets/base",
            "_view_module_version": "1.2.0",
            "_view_name": "StyleView",
            "description_width": ""
          }
        },
        "b02ad2c68b8246388bcefa800b21e2b6": {
          "model_module": "@jupyter-widgets/controls",
          "model_name": "HBoxModel",
          "model_module_version": "1.5.0",
          "state": {
            "_dom_classes": [],
            "_model_module": "@jupyter-widgets/controls",
            "_model_module_version": "1.5.0",
            "_model_name": "HBoxModel",
            "_view_count": null,
            "_view_module": "@jupyter-widgets/controls",
            "_view_module_version": "1.5.0",
            "_view_name": "HBoxView",
            "box_style": "",
            "children": [
              "IPY_MODEL_4f9e8afbd8fa45b0ba3c58304c33c070",
              "IPY_MODEL_96ce6931512c4b7dbede743066c63194",
              "IPY_MODEL_067ab565d523403ebeb69f89b727336d"
            ],
            "layout": "IPY_MODEL_9ea1a371c282451dbac9970bc65b34be"
          }
        },
        "4f9e8afbd8fa45b0ba3c58304c33c070": {
          "model_module": "@jupyter-widgets/controls",
          "model_name": "HTMLModel",
          "model_module_version": "1.5.0",
          "state": {
            "_dom_classes": [],
            "_model_module": "@jupyter-widgets/controls",
            "_model_module_version": "1.5.0",
            "_model_name": "HTMLModel",
            "_view_count": null,
            "_view_module": "@jupyter-widgets/controls",
            "_view_module_version": "1.5.0",
            "_view_name": "HTMLView",
            "description": "",
            "description_tooltip": null,
            "layout": "IPY_MODEL_8105b9575f7c49d88ea85b9f032a0c75",
            "placeholder": "​",
            "style": "IPY_MODEL_d14e48e6435c46c19a62ec0674b73c03",
            "value": "Downloading (…)okenizer_config.json: 100%"
          }
        },
        "96ce6931512c4b7dbede743066c63194": {
          "model_module": "@jupyter-widgets/controls",
          "model_name": "FloatProgressModel",
          "model_module_version": "1.5.0",
          "state": {
            "_dom_classes": [],
            "_model_module": "@jupyter-widgets/controls",
            "_model_module_version": "1.5.0",
            "_model_name": "FloatProgressModel",
            "_view_count": null,
            "_view_module": "@jupyter-widgets/controls",
            "_view_module_version": "1.5.0",
            "_view_name": "ProgressView",
            "bar_style": "success",
            "description": "",
            "description_tooltip": null,
            "layout": "IPY_MODEL_6835649092764a21aba4ece9a8fa888e",
            "max": 2537,
            "min": 0,
            "orientation": "horizontal",
            "style": "IPY_MODEL_8583e9faddf946c7bd82b560fd75b85e",
            "value": 2537
          }
        },
        "067ab565d523403ebeb69f89b727336d": {
          "model_module": "@jupyter-widgets/controls",
          "model_name": "HTMLModel",
          "model_module_version": "1.5.0",
          "state": {
            "_dom_classes": [],
            "_model_module": "@jupyter-widgets/controls",
            "_model_module_version": "1.5.0",
            "_model_name": "HTMLModel",
            "_view_count": null,
            "_view_module": "@jupyter-widgets/controls",
            "_view_module_version": "1.5.0",
            "_view_name": "HTMLView",
            "description": "",
            "description_tooltip": null,
            "layout": "IPY_MODEL_06f66fe0278d4645aa90f2c9f0a35f95",
            "placeholder": "​",
            "style": "IPY_MODEL_9bed0d4d6ffc4af39642245de3128c3d",
            "value": " 2.54k/2.54k [00:00&lt;00:00, 225kB/s]"
          }
        },
        "9ea1a371c282451dbac9970bc65b34be": {
          "model_module": "@jupyter-widgets/base",
          "model_name": "LayoutModel",
          "model_module_version": "1.2.0",
          "state": {
            "_model_module": "@jupyter-widgets/base",
            "_model_module_version": "1.2.0",
            "_model_name": "LayoutModel",
            "_view_count": null,
            "_view_module": "@jupyter-widgets/base",
            "_view_module_version": "1.2.0",
            "_view_name": "LayoutView",
            "align_content": null,
            "align_items": null,
            "align_self": null,
            "border": null,
            "bottom": null,
            "display": null,
            "flex": null,
            "flex_flow": null,
            "grid_area": null,
            "grid_auto_columns": null,
            "grid_auto_flow": null,
            "grid_auto_rows": null,
            "grid_column": null,
            "grid_gap": null,
            "grid_row": null,
            "grid_template_areas": null,
            "grid_template_columns": null,
            "grid_template_rows": null,
            "height": null,
            "justify_content": null,
            "justify_items": null,
            "left": null,
            "margin": null,
            "max_height": null,
            "max_width": null,
            "min_height": null,
            "min_width": null,
            "object_fit": null,
            "object_position": null,
            "order": null,
            "overflow": null,
            "overflow_x": null,
            "overflow_y": null,
            "padding": null,
            "right": null,
            "top": null,
            "visibility": null,
            "width": null
          }
        },
        "8105b9575f7c49d88ea85b9f032a0c75": {
          "model_module": "@jupyter-widgets/base",
          "model_name": "LayoutModel",
          "model_module_version": "1.2.0",
          "state": {
            "_model_module": "@jupyter-widgets/base",
            "_model_module_version": "1.2.0",
            "_model_name": "LayoutModel",
            "_view_count": null,
            "_view_module": "@jupyter-widgets/base",
            "_view_module_version": "1.2.0",
            "_view_name": "LayoutView",
            "align_content": null,
            "align_items": null,
            "align_self": null,
            "border": null,
            "bottom": null,
            "display": null,
            "flex": null,
            "flex_flow": null,
            "grid_area": null,
            "grid_auto_columns": null,
            "grid_auto_flow": null,
            "grid_auto_rows": null,
            "grid_column": null,
            "grid_gap": null,
            "grid_row": null,
            "grid_template_areas": null,
            "grid_template_columns": null,
            "grid_template_rows": null,
            "height": null,
            "justify_content": null,
            "justify_items": null,
            "left": null,
            "margin": null,
            "max_height": null,
            "max_width": null,
            "min_height": null,
            "min_width": null,
            "object_fit": null,
            "object_position": null,
            "order": null,
            "overflow": null,
            "overflow_x": null,
            "overflow_y": null,
            "padding": null,
            "right": null,
            "top": null,
            "visibility": null,
            "width": null
          }
        },
        "d14e48e6435c46c19a62ec0674b73c03": {
          "model_module": "@jupyter-widgets/controls",
          "model_name": "DescriptionStyleModel",
          "model_module_version": "1.5.0",
          "state": {
            "_model_module": "@jupyter-widgets/controls",
            "_model_module_version": "1.5.0",
            "_model_name": "DescriptionStyleModel",
            "_view_count": null,
            "_view_module": "@jupyter-widgets/base",
            "_view_module_version": "1.2.0",
            "_view_name": "StyleView",
            "description_width": ""
          }
        },
        "6835649092764a21aba4ece9a8fa888e": {
          "model_module": "@jupyter-widgets/base",
          "model_name": "LayoutModel",
          "model_module_version": "1.2.0",
          "state": {
            "_model_module": "@jupyter-widgets/base",
            "_model_module_version": "1.2.0",
            "_model_name": "LayoutModel",
            "_view_count": null,
            "_view_module": "@jupyter-widgets/base",
            "_view_module_version": "1.2.0",
            "_view_name": "LayoutView",
            "align_content": null,
            "align_items": null,
            "align_self": null,
            "border": null,
            "bottom": null,
            "display": null,
            "flex": null,
            "flex_flow": null,
            "grid_area": null,
            "grid_auto_columns": null,
            "grid_auto_flow": null,
            "grid_auto_rows": null,
            "grid_column": null,
            "grid_gap": null,
            "grid_row": null,
            "grid_template_areas": null,
            "grid_template_columns": null,
            "grid_template_rows": null,
            "height": null,
            "justify_content": null,
            "justify_items": null,
            "left": null,
            "margin": null,
            "max_height": null,
            "max_width": null,
            "min_height": null,
            "min_width": null,
            "object_fit": null,
            "object_position": null,
            "order": null,
            "overflow": null,
            "overflow_x": null,
            "overflow_y": null,
            "padding": null,
            "right": null,
            "top": null,
            "visibility": null,
            "width": null
          }
        },
        "8583e9faddf946c7bd82b560fd75b85e": {
          "model_module": "@jupyter-widgets/controls",
          "model_name": "ProgressStyleModel",
          "model_module_version": "1.5.0",
          "state": {
            "_model_module": "@jupyter-widgets/controls",
            "_model_module_version": "1.5.0",
            "_model_name": "ProgressStyleModel",
            "_view_count": null,
            "_view_module": "@jupyter-widgets/base",
            "_view_module_version": "1.2.0",
            "_view_name": "StyleView",
            "bar_color": null,
            "description_width": ""
          }
        },
        "06f66fe0278d4645aa90f2c9f0a35f95": {
          "model_module": "@jupyter-widgets/base",
          "model_name": "LayoutModel",
          "model_module_version": "1.2.0",
          "state": {
            "_model_module": "@jupyter-widgets/base",
            "_model_module_version": "1.2.0",
            "_model_name": "LayoutModel",
            "_view_count": null,
            "_view_module": "@jupyter-widgets/base",
            "_view_module_version": "1.2.0",
            "_view_name": "LayoutView",
            "align_content": null,
            "align_items": null,
            "align_self": null,
            "border": null,
            "bottom": null,
            "display": null,
            "flex": null,
            "flex_flow": null,
            "grid_area": null,
            "grid_auto_columns": null,
            "grid_auto_flow": null,
            "grid_auto_rows": null,
            "grid_column": null,
            "grid_gap": null,
            "grid_row": null,
            "grid_template_areas": null,
            "grid_template_columns": null,
            "grid_template_rows": null,
            "height": null,
            "justify_content": null,
            "justify_items": null,
            "left": null,
            "margin": null,
            "max_height": null,
            "max_width": null,
            "min_height": null,
            "min_width": null,
            "object_fit": null,
            "object_position": null,
            "order": null,
            "overflow": null,
            "overflow_x": null,
            "overflow_y": null,
            "padding": null,
            "right": null,
            "top": null,
            "visibility": null,
            "width": null
          }
        },
        "9bed0d4d6ffc4af39642245de3128c3d": {
          "model_module": "@jupyter-widgets/controls",
          "model_name": "DescriptionStyleModel",
          "model_module_version": "1.5.0",
          "state": {
            "_model_module": "@jupyter-widgets/controls",
            "_model_module_version": "1.5.0",
            "_model_name": "DescriptionStyleModel",
            "_view_count": null,
            "_view_module": "@jupyter-widgets/base",
            "_view_module_version": "1.2.0",
            "_view_name": "StyleView",
            "description_width": ""
          }
        },
        "03c9cbf6104542dba6b4a33fb8abc253": {
          "model_module": "@jupyter-widgets/controls",
          "model_name": "HBoxModel",
          "model_module_version": "1.5.0",
          "state": {
            "_dom_classes": [],
            "_model_module": "@jupyter-widgets/controls",
            "_model_module_version": "1.5.0",
            "_model_name": "HBoxModel",
            "_view_count": null,
            "_view_module": "@jupyter-widgets/controls",
            "_view_module_version": "1.5.0",
            "_view_name": "HBoxView",
            "box_style": "",
            "children": [
              "IPY_MODEL_3b1e518adba84686ae9924c9d3376f99",
              "IPY_MODEL_3ee8871acf674b7a9fb5364b49f5ad60",
              "IPY_MODEL_23da000f1cc24565a8306460090a4722"
            ],
            "layout": "IPY_MODEL_4065570709c0460ca3220759e5248941"
          }
        },
        "3b1e518adba84686ae9924c9d3376f99": {
          "model_module": "@jupyter-widgets/controls",
          "model_name": "HTMLModel",
          "model_module_version": "1.5.0",
          "state": {
            "_dom_classes": [],
            "_model_module": "@jupyter-widgets/controls",
            "_model_module_version": "1.5.0",
            "_model_name": "HTMLModel",
            "_view_count": null,
            "_view_module": "@jupyter-widgets/controls",
            "_view_module_version": "1.5.0",
            "_view_name": "HTMLView",
            "description": "",
            "description_tooltip": null,
            "layout": "IPY_MODEL_a700d0e4570e46eda56937d6c325133f",
            "placeholder": "​",
            "style": "IPY_MODEL_47a80529a7e14e9b809a23a1e9dc350d",
            "value": "Downloading spiece.model: 100%"
          }
        },
        "3ee8871acf674b7a9fb5364b49f5ad60": {
          "model_module": "@jupyter-widgets/controls",
          "model_name": "FloatProgressModel",
          "model_module_version": "1.5.0",
          "state": {
            "_dom_classes": [],
            "_model_module": "@jupyter-widgets/controls",
            "_model_module_version": "1.5.0",
            "_model_name": "FloatProgressModel",
            "_view_count": null,
            "_view_module": "@jupyter-widgets/controls",
            "_view_module_version": "1.5.0",
            "_view_name": "ProgressView",
            "bar_style": "success",
            "description": "",
            "description_tooltip": null,
            "layout": "IPY_MODEL_05f1711a13a348b88841d159e79efbb7",
            "max": 791656,
            "min": 0,
            "orientation": "horizontal",
            "style": "IPY_MODEL_846286c084c94c2b90daefb603a30f03",
            "value": 791656
          }
        },
        "23da000f1cc24565a8306460090a4722": {
          "model_module": "@jupyter-widgets/controls",
          "model_name": "HTMLModel",
          "model_module_version": "1.5.0",
          "state": {
            "_dom_classes": [],
            "_model_module": "@jupyter-widgets/controls",
            "_model_module_version": "1.5.0",
            "_model_name": "HTMLModel",
            "_view_count": null,
            "_view_module": "@jupyter-widgets/controls",
            "_view_module_version": "1.5.0",
            "_view_name": "HTMLView",
            "description": "",
            "description_tooltip": null,
            "layout": "IPY_MODEL_a94897c96afb4937a3103f634fa69ff4",
            "placeholder": "​",
            "style": "IPY_MODEL_53a8896c8adb4f849604ce1cfed05b7e",
            "value": " 792k/792k [00:00&lt;00:00, 47.6MB/s]"
          }
        },
        "4065570709c0460ca3220759e5248941": {
          "model_module": "@jupyter-widgets/base",
          "model_name": "LayoutModel",
          "model_module_version": "1.2.0",
          "state": {
            "_model_module": "@jupyter-widgets/base",
            "_model_module_version": "1.2.0",
            "_model_name": "LayoutModel",
            "_view_count": null,
            "_view_module": "@jupyter-widgets/base",
            "_view_module_version": "1.2.0",
            "_view_name": "LayoutView",
            "align_content": null,
            "align_items": null,
            "align_self": null,
            "border": null,
            "bottom": null,
            "display": null,
            "flex": null,
            "flex_flow": null,
            "grid_area": null,
            "grid_auto_columns": null,
            "grid_auto_flow": null,
            "grid_auto_rows": null,
            "grid_column": null,
            "grid_gap": null,
            "grid_row": null,
            "grid_template_areas": null,
            "grid_template_columns": null,
            "grid_template_rows": null,
            "height": null,
            "justify_content": null,
            "justify_items": null,
            "left": null,
            "margin": null,
            "max_height": null,
            "max_width": null,
            "min_height": null,
            "min_width": null,
            "object_fit": null,
            "object_position": null,
            "order": null,
            "overflow": null,
            "overflow_x": null,
            "overflow_y": null,
            "padding": null,
            "right": null,
            "top": null,
            "visibility": null,
            "width": null
          }
        },
        "a700d0e4570e46eda56937d6c325133f": {
          "model_module": "@jupyter-widgets/base",
          "model_name": "LayoutModel",
          "model_module_version": "1.2.0",
          "state": {
            "_model_module": "@jupyter-widgets/base",
            "_model_module_version": "1.2.0",
            "_model_name": "LayoutModel",
            "_view_count": null,
            "_view_module": "@jupyter-widgets/base",
            "_view_module_version": "1.2.0",
            "_view_name": "LayoutView",
            "align_content": null,
            "align_items": null,
            "align_self": null,
            "border": null,
            "bottom": null,
            "display": null,
            "flex": null,
            "flex_flow": null,
            "grid_area": null,
            "grid_auto_columns": null,
            "grid_auto_flow": null,
            "grid_auto_rows": null,
            "grid_column": null,
            "grid_gap": null,
            "grid_row": null,
            "grid_template_areas": null,
            "grid_template_columns": null,
            "grid_template_rows": null,
            "height": null,
            "justify_content": null,
            "justify_items": null,
            "left": null,
            "margin": null,
            "max_height": null,
            "max_width": null,
            "min_height": null,
            "min_width": null,
            "object_fit": null,
            "object_position": null,
            "order": null,
            "overflow": null,
            "overflow_x": null,
            "overflow_y": null,
            "padding": null,
            "right": null,
            "top": null,
            "visibility": null,
            "width": null
          }
        },
        "47a80529a7e14e9b809a23a1e9dc350d": {
          "model_module": "@jupyter-widgets/controls",
          "model_name": "DescriptionStyleModel",
          "model_module_version": "1.5.0",
          "state": {
            "_model_module": "@jupyter-widgets/controls",
            "_model_module_version": "1.5.0",
            "_model_name": "DescriptionStyleModel",
            "_view_count": null,
            "_view_module": "@jupyter-widgets/base",
            "_view_module_version": "1.2.0",
            "_view_name": "StyleView",
            "description_width": ""
          }
        },
        "05f1711a13a348b88841d159e79efbb7": {
          "model_module": "@jupyter-widgets/base",
          "model_name": "LayoutModel",
          "model_module_version": "1.2.0",
          "state": {
            "_model_module": "@jupyter-widgets/base",
            "_model_module_version": "1.2.0",
            "_model_name": "LayoutModel",
            "_view_count": null,
            "_view_module": "@jupyter-widgets/base",
            "_view_module_version": "1.2.0",
            "_view_name": "LayoutView",
            "align_content": null,
            "align_items": null,
            "align_self": null,
            "border": null,
            "bottom": null,
            "display": null,
            "flex": null,
            "flex_flow": null,
            "grid_area": null,
            "grid_auto_columns": null,
            "grid_auto_flow": null,
            "grid_auto_rows": null,
            "grid_column": null,
            "grid_gap": null,
            "grid_row": null,
            "grid_template_areas": null,
            "grid_template_columns": null,
            "grid_template_rows": null,
            "height": null,
            "justify_content": null,
            "justify_items": null,
            "left": null,
            "margin": null,
            "max_height": null,
            "max_width": null,
            "min_height": null,
            "min_width": null,
            "object_fit": null,
            "object_position": null,
            "order": null,
            "overflow": null,
            "overflow_x": null,
            "overflow_y": null,
            "padding": null,
            "right": null,
            "top": null,
            "visibility": null,
            "width": null
          }
        },
        "846286c084c94c2b90daefb603a30f03": {
          "model_module": "@jupyter-widgets/controls",
          "model_name": "ProgressStyleModel",
          "model_module_version": "1.5.0",
          "state": {
            "_model_module": "@jupyter-widgets/controls",
            "_model_module_version": "1.5.0",
            "_model_name": "ProgressStyleModel",
            "_view_count": null,
            "_view_module": "@jupyter-widgets/base",
            "_view_module_version": "1.2.0",
            "_view_name": "StyleView",
            "bar_color": null,
            "description_width": ""
          }
        },
        "a94897c96afb4937a3103f634fa69ff4": {
          "model_module": "@jupyter-widgets/base",
          "model_name": "LayoutModel",
          "model_module_version": "1.2.0",
          "state": {
            "_model_module": "@jupyter-widgets/base",
            "_model_module_version": "1.2.0",
            "_model_name": "LayoutModel",
            "_view_count": null,
            "_view_module": "@jupyter-widgets/base",
            "_view_module_version": "1.2.0",
            "_view_name": "LayoutView",
            "align_content": null,
            "align_items": null,
            "align_self": null,
            "border": null,
            "bottom": null,
            "display": null,
            "flex": null,
            "flex_flow": null,
            "grid_area": null,
            "grid_auto_columns": null,
            "grid_auto_flow": null,
            "grid_auto_rows": null,
            "grid_column": null,
            "grid_gap": null,
            "grid_row": null,
            "grid_template_areas": null,
            "grid_template_columns": null,
            "grid_template_rows": null,
            "height": null,
            "justify_content": null,
            "justify_items": null,
            "left": null,
            "margin": null,
            "max_height": null,
            "max_width": null,
            "min_height": null,
            "min_width": null,
            "object_fit": null,
            "object_position": null,
            "order": null,
            "overflow": null,
            "overflow_x": null,
            "overflow_y": null,
            "padding": null,
            "right": null,
            "top": null,
            "visibility": null,
            "width": null
          }
        },
        "53a8896c8adb4f849604ce1cfed05b7e": {
          "model_module": "@jupyter-widgets/controls",
          "model_name": "DescriptionStyleModel",
          "model_module_version": "1.5.0",
          "state": {
            "_model_module": "@jupyter-widgets/controls",
            "_model_module_version": "1.5.0",
            "_model_name": "DescriptionStyleModel",
            "_view_count": null,
            "_view_module": "@jupyter-widgets/base",
            "_view_module_version": "1.2.0",
            "_view_name": "StyleView",
            "description_width": ""
          }
        },
        "5e2ff94578b64620815fc56b2887441d": {
          "model_module": "@jupyter-widgets/controls",
          "model_name": "HBoxModel",
          "model_module_version": "1.5.0",
          "state": {
            "_dom_classes": [],
            "_model_module": "@jupyter-widgets/controls",
            "_model_module_version": "1.5.0",
            "_model_name": "HBoxModel",
            "_view_count": null,
            "_view_module": "@jupyter-widgets/controls",
            "_view_module_version": "1.5.0",
            "_view_name": "HBoxView",
            "box_style": "",
            "children": [
              "IPY_MODEL_5572e7d2a7d34c91a990b8369f5940f5",
              "IPY_MODEL_87ec24d397684ec3b15f6804608dc995",
              "IPY_MODEL_9973cf73e9ac4f29847e570b862b00ba"
            ],
            "layout": "IPY_MODEL_7dc77f4855404af7976e0aa2bf08b8ff"
          }
        },
        "5572e7d2a7d34c91a990b8369f5940f5": {
          "model_module": "@jupyter-widgets/controls",
          "model_name": "HTMLModel",
          "model_module_version": "1.5.0",
          "state": {
            "_dom_classes": [],
            "_model_module": "@jupyter-widgets/controls",
            "_model_module_version": "1.5.0",
            "_model_name": "HTMLModel",
            "_view_count": null,
            "_view_module": "@jupyter-widgets/controls",
            "_view_module_version": "1.5.0",
            "_view_name": "HTMLView",
            "description": "",
            "description_tooltip": null,
            "layout": "IPY_MODEL_5237d2b09b3042019f7ba9e7f952e4e4",
            "placeholder": "​",
            "style": "IPY_MODEL_163fd4c688cd46f4987f49c579f41203",
            "value": "Downloading (…)/main/tokenizer.json: 100%"
          }
        },
        "87ec24d397684ec3b15f6804608dc995": {
          "model_module": "@jupyter-widgets/controls",
          "model_name": "FloatProgressModel",
          "model_module_version": "1.5.0",
          "state": {
            "_dom_classes": [],
            "_model_module": "@jupyter-widgets/controls",
            "_model_module_version": "1.5.0",
            "_model_name": "FloatProgressModel",
            "_view_count": null,
            "_view_module": "@jupyter-widgets/controls",
            "_view_module_version": "1.5.0",
            "_view_name": "ProgressView",
            "bar_style": "success",
            "description": "",
            "description_tooltip": null,
            "layout": "IPY_MODEL_ef89022506864e09a3763da3506def7a",
            "max": 2424064,
            "min": 0,
            "orientation": "horizontal",
            "style": "IPY_MODEL_dce873f004e845b286b5891baa40f790",
            "value": 2424064
          }
        },
        "9973cf73e9ac4f29847e570b862b00ba": {
          "model_module": "@jupyter-widgets/controls",
          "model_name": "HTMLModel",
          "model_module_version": "1.5.0",
          "state": {
            "_dom_classes": [],
            "_model_module": "@jupyter-widgets/controls",
            "_model_module_version": "1.5.0",
            "_model_name": "HTMLModel",
            "_view_count": null,
            "_view_module": "@jupyter-widgets/controls",
            "_view_module_version": "1.5.0",
            "_view_name": "HTMLView",
            "description": "",
            "description_tooltip": null,
            "layout": "IPY_MODEL_5b41b6963cc541219cd58cad0f8e6034",
            "placeholder": "​",
            "style": "IPY_MODEL_eaa63c7469fd4ebea2653f2cb1b524d4",
            "value": " 2.42M/2.42M [00:00&lt;00:00, 18.8MB/s]"
          }
        },
        "7dc77f4855404af7976e0aa2bf08b8ff": {
          "model_module": "@jupyter-widgets/base",
          "model_name": "LayoutModel",
          "model_module_version": "1.2.0",
          "state": {
            "_model_module": "@jupyter-widgets/base",
            "_model_module_version": "1.2.0",
            "_model_name": "LayoutModel",
            "_view_count": null,
            "_view_module": "@jupyter-widgets/base",
            "_view_module_version": "1.2.0",
            "_view_name": "LayoutView",
            "align_content": null,
            "align_items": null,
            "align_self": null,
            "border": null,
            "bottom": null,
            "display": null,
            "flex": null,
            "flex_flow": null,
            "grid_area": null,
            "grid_auto_columns": null,
            "grid_auto_flow": null,
            "grid_auto_rows": null,
            "grid_column": null,
            "grid_gap": null,
            "grid_row": null,
            "grid_template_areas": null,
            "grid_template_columns": null,
            "grid_template_rows": null,
            "height": null,
            "justify_content": null,
            "justify_items": null,
            "left": null,
            "margin": null,
            "max_height": null,
            "max_width": null,
            "min_height": null,
            "min_width": null,
            "object_fit": null,
            "object_position": null,
            "order": null,
            "overflow": null,
            "overflow_x": null,
            "overflow_y": null,
            "padding": null,
            "right": null,
            "top": null,
            "visibility": null,
            "width": null
          }
        },
        "5237d2b09b3042019f7ba9e7f952e4e4": {
          "model_module": "@jupyter-widgets/base",
          "model_name": "LayoutModel",
          "model_module_version": "1.2.0",
          "state": {
            "_model_module": "@jupyter-widgets/base",
            "_model_module_version": "1.2.0",
            "_model_name": "LayoutModel",
            "_view_count": null,
            "_view_module": "@jupyter-widgets/base",
            "_view_module_version": "1.2.0",
            "_view_name": "LayoutView",
            "align_content": null,
            "align_items": null,
            "align_self": null,
            "border": null,
            "bottom": null,
            "display": null,
            "flex": null,
            "flex_flow": null,
            "grid_area": null,
            "grid_auto_columns": null,
            "grid_auto_flow": null,
            "grid_auto_rows": null,
            "grid_column": null,
            "grid_gap": null,
            "grid_row": null,
            "grid_template_areas": null,
            "grid_template_columns": null,
            "grid_template_rows": null,
            "height": null,
            "justify_content": null,
            "justify_items": null,
            "left": null,
            "margin": null,
            "max_height": null,
            "max_width": null,
            "min_height": null,
            "min_width": null,
            "object_fit": null,
            "object_position": null,
            "order": null,
            "overflow": null,
            "overflow_x": null,
            "overflow_y": null,
            "padding": null,
            "right": null,
            "top": null,
            "visibility": null,
            "width": null
          }
        },
        "163fd4c688cd46f4987f49c579f41203": {
          "model_module": "@jupyter-widgets/controls",
          "model_name": "DescriptionStyleModel",
          "model_module_version": "1.5.0",
          "state": {
            "_model_module": "@jupyter-widgets/controls",
            "_model_module_version": "1.5.0",
            "_model_name": "DescriptionStyleModel",
            "_view_count": null,
            "_view_module": "@jupyter-widgets/base",
            "_view_module_version": "1.2.0",
            "_view_name": "StyleView",
            "description_width": ""
          }
        },
        "ef89022506864e09a3763da3506def7a": {
          "model_module": "@jupyter-widgets/base",
          "model_name": "LayoutModel",
          "model_module_version": "1.2.0",
          "state": {
            "_model_module": "@jupyter-widgets/base",
            "_model_module_version": "1.2.0",
            "_model_name": "LayoutModel",
            "_view_count": null,
            "_view_module": "@jupyter-widgets/base",
            "_view_module_version": "1.2.0",
            "_view_name": "LayoutView",
            "align_content": null,
            "align_items": null,
            "align_self": null,
            "border": null,
            "bottom": null,
            "display": null,
            "flex": null,
            "flex_flow": null,
            "grid_area": null,
            "grid_auto_columns": null,
            "grid_auto_flow": null,
            "grid_auto_rows": null,
            "grid_column": null,
            "grid_gap": null,
            "grid_row": null,
            "grid_template_areas": null,
            "grid_template_columns": null,
            "grid_template_rows": null,
            "height": null,
            "justify_content": null,
            "justify_items": null,
            "left": null,
            "margin": null,
            "max_height": null,
            "max_width": null,
            "min_height": null,
            "min_width": null,
            "object_fit": null,
            "object_position": null,
            "order": null,
            "overflow": null,
            "overflow_x": null,
            "overflow_y": null,
            "padding": null,
            "right": null,
            "top": null,
            "visibility": null,
            "width": null
          }
        },
        "dce873f004e845b286b5891baa40f790": {
          "model_module": "@jupyter-widgets/controls",
          "model_name": "ProgressStyleModel",
          "model_module_version": "1.5.0",
          "state": {
            "_model_module": "@jupyter-widgets/controls",
            "_model_module_version": "1.5.0",
            "_model_name": "ProgressStyleModel",
            "_view_count": null,
            "_view_module": "@jupyter-widgets/base",
            "_view_module_version": "1.2.0",
            "_view_name": "StyleView",
            "bar_color": null,
            "description_width": ""
          }
        },
        "5b41b6963cc541219cd58cad0f8e6034": {
          "model_module": "@jupyter-widgets/base",
          "model_name": "LayoutModel",
          "model_module_version": "1.2.0",
          "state": {
            "_model_module": "@jupyter-widgets/base",
            "_model_module_version": "1.2.0",
            "_model_name": "LayoutModel",
            "_view_count": null,
            "_view_module": "@jupyter-widgets/base",
            "_view_module_version": "1.2.0",
            "_view_name": "LayoutView",
            "align_content": null,
            "align_items": null,
            "align_self": null,
            "border": null,
            "bottom": null,
            "display": null,
            "flex": null,
            "flex_flow": null,
            "grid_area": null,
            "grid_auto_columns": null,
            "grid_auto_flow": null,
            "grid_auto_rows": null,
            "grid_column": null,
            "grid_gap": null,
            "grid_row": null,
            "grid_template_areas": null,
            "grid_template_columns": null,
            "grid_template_rows": null,
            "height": null,
            "justify_content": null,
            "justify_items": null,
            "left": null,
            "margin": null,
            "max_height": null,
            "max_width": null,
            "min_height": null,
            "min_width": null,
            "object_fit": null,
            "object_position": null,
            "order": null,
            "overflow": null,
            "overflow_x": null,
            "overflow_y": null,
            "padding": null,
            "right": null,
            "top": null,
            "visibility": null,
            "width": null
          }
        },
        "eaa63c7469fd4ebea2653f2cb1b524d4": {
          "model_module": "@jupyter-widgets/controls",
          "model_name": "DescriptionStyleModel",
          "model_module_version": "1.5.0",
          "state": {
            "_model_module": "@jupyter-widgets/controls",
            "_model_module_version": "1.5.0",
            "_model_name": "DescriptionStyleModel",
            "_view_count": null,
            "_view_module": "@jupyter-widgets/base",
            "_view_module_version": "1.2.0",
            "_view_name": "StyleView",
            "description_width": ""
          }
        },
        "bf6d866ab39d4e478c5cb43c3453b2a9": {
          "model_module": "@jupyter-widgets/controls",
          "model_name": "HBoxModel",
          "model_module_version": "1.5.0",
          "state": {
            "_dom_classes": [],
            "_model_module": "@jupyter-widgets/controls",
            "_model_module_version": "1.5.0",
            "_model_name": "HBoxModel",
            "_view_count": null,
            "_view_module": "@jupyter-widgets/controls",
            "_view_module_version": "1.5.0",
            "_view_name": "HBoxView",
            "box_style": "",
            "children": [
              "IPY_MODEL_88ee64ff912b44c99de0a06d89c4e22f",
              "IPY_MODEL_fe0bb89b4dd242cfb0a5d9a392eca1b9",
              "IPY_MODEL_46e259a9087d4864a1a4839c344e0098"
            ],
            "layout": "IPY_MODEL_e50a7c8c833a497e915dd9ee40b33a3e"
          }
        },
        "88ee64ff912b44c99de0a06d89c4e22f": {
          "model_module": "@jupyter-widgets/controls",
          "model_name": "HTMLModel",
          "model_module_version": "1.5.0",
          "state": {
            "_dom_classes": [],
            "_model_module": "@jupyter-widgets/controls",
            "_model_module_version": "1.5.0",
            "_model_name": "HTMLModel",
            "_view_count": null,
            "_view_module": "@jupyter-widgets/controls",
            "_view_module_version": "1.5.0",
            "_view_name": "HTMLView",
            "description": "",
            "description_tooltip": null,
            "layout": "IPY_MODEL_e5665677c26e493895a99ff66f49ffb7",
            "placeholder": "​",
            "style": "IPY_MODEL_15f99425e85a4f9395de6ea3955f3920",
            "value": "Downloading (…)cial_tokens_map.json: 100%"
          }
        },
        "fe0bb89b4dd242cfb0a5d9a392eca1b9": {
          "model_module": "@jupyter-widgets/controls",
          "model_name": "FloatProgressModel",
          "model_module_version": "1.5.0",
          "state": {
            "_dom_classes": [],
            "_model_module": "@jupyter-widgets/controls",
            "_model_module_version": "1.5.0",
            "_model_name": "FloatProgressModel",
            "_view_count": null,
            "_view_module": "@jupyter-widgets/controls",
            "_view_module_version": "1.5.0",
            "_view_name": "ProgressView",
            "bar_style": "success",
            "description": "",
            "description_tooltip": null,
            "layout": "IPY_MODEL_a83bf783884842208333050a77cd4b77",
            "max": 2201,
            "min": 0,
            "orientation": "horizontal",
            "style": "IPY_MODEL_5be29687a69e40969148cc8f6a51d290",
            "value": 2201
          }
        },
        "46e259a9087d4864a1a4839c344e0098": {
          "model_module": "@jupyter-widgets/controls",
          "model_name": "HTMLModel",
          "model_module_version": "1.5.0",
          "state": {
            "_dom_classes": [],
            "_model_module": "@jupyter-widgets/controls",
            "_model_module_version": "1.5.0",
            "_model_name": "HTMLModel",
            "_view_count": null,
            "_view_module": "@jupyter-widgets/controls",
            "_view_module_version": "1.5.0",
            "_view_name": "HTMLView",
            "description": "",
            "description_tooltip": null,
            "layout": "IPY_MODEL_ba9a2c6ca59443b39a14d5245c4f1ad4",
            "placeholder": "​",
            "style": "IPY_MODEL_cbd6bb4728ed46d9bb0c57cec59f64f7",
            "value": " 2.20k/2.20k [00:00&lt;00:00, 167kB/s]"
          }
        },
        "e50a7c8c833a497e915dd9ee40b33a3e": {
          "model_module": "@jupyter-widgets/base",
          "model_name": "LayoutModel",
          "model_module_version": "1.2.0",
          "state": {
            "_model_module": "@jupyter-widgets/base",
            "_model_module_version": "1.2.0",
            "_model_name": "LayoutModel",
            "_view_count": null,
            "_view_module": "@jupyter-widgets/base",
            "_view_module_version": "1.2.0",
            "_view_name": "LayoutView",
            "align_content": null,
            "align_items": null,
            "align_self": null,
            "border": null,
            "bottom": null,
            "display": null,
            "flex": null,
            "flex_flow": null,
            "grid_area": null,
            "grid_auto_columns": null,
            "grid_auto_flow": null,
            "grid_auto_rows": null,
            "grid_column": null,
            "grid_gap": null,
            "grid_row": null,
            "grid_template_areas": null,
            "grid_template_columns": null,
            "grid_template_rows": null,
            "height": null,
            "justify_content": null,
            "justify_items": null,
            "left": null,
            "margin": null,
            "max_height": null,
            "max_width": null,
            "min_height": null,
            "min_width": null,
            "object_fit": null,
            "object_position": null,
            "order": null,
            "overflow": null,
            "overflow_x": null,
            "overflow_y": null,
            "padding": null,
            "right": null,
            "top": null,
            "visibility": null,
            "width": null
          }
        },
        "e5665677c26e493895a99ff66f49ffb7": {
          "model_module": "@jupyter-widgets/base",
          "model_name": "LayoutModel",
          "model_module_version": "1.2.0",
          "state": {
            "_model_module": "@jupyter-widgets/base",
            "_model_module_version": "1.2.0",
            "_model_name": "LayoutModel",
            "_view_count": null,
            "_view_module": "@jupyter-widgets/base",
            "_view_module_version": "1.2.0",
            "_view_name": "LayoutView",
            "align_content": null,
            "align_items": null,
            "align_self": null,
            "border": null,
            "bottom": null,
            "display": null,
            "flex": null,
            "flex_flow": null,
            "grid_area": null,
            "grid_auto_columns": null,
            "grid_auto_flow": null,
            "grid_auto_rows": null,
            "grid_column": null,
            "grid_gap": null,
            "grid_row": null,
            "grid_template_areas": null,
            "grid_template_columns": null,
            "grid_template_rows": null,
            "height": null,
            "justify_content": null,
            "justify_items": null,
            "left": null,
            "margin": null,
            "max_height": null,
            "max_width": null,
            "min_height": null,
            "min_width": null,
            "object_fit": null,
            "object_position": null,
            "order": null,
            "overflow": null,
            "overflow_x": null,
            "overflow_y": null,
            "padding": null,
            "right": null,
            "top": null,
            "visibility": null,
            "width": null
          }
        },
        "15f99425e85a4f9395de6ea3955f3920": {
          "model_module": "@jupyter-widgets/controls",
          "model_name": "DescriptionStyleModel",
          "model_module_version": "1.5.0",
          "state": {
            "_model_module": "@jupyter-widgets/controls",
            "_model_module_version": "1.5.0",
            "_model_name": "DescriptionStyleModel",
            "_view_count": null,
            "_view_module": "@jupyter-widgets/base",
            "_view_module_version": "1.2.0",
            "_view_name": "StyleView",
            "description_width": ""
          }
        },
        "a83bf783884842208333050a77cd4b77": {
          "model_module": "@jupyter-widgets/base",
          "model_name": "LayoutModel",
          "model_module_version": "1.2.0",
          "state": {
            "_model_module": "@jupyter-widgets/base",
            "_model_module_version": "1.2.0",
            "_model_name": "LayoutModel",
            "_view_count": null,
            "_view_module": "@jupyter-widgets/base",
            "_view_module_version": "1.2.0",
            "_view_name": "LayoutView",
            "align_content": null,
            "align_items": null,
            "align_self": null,
            "border": null,
            "bottom": null,
            "display": null,
            "flex": null,
            "flex_flow": null,
            "grid_area": null,
            "grid_auto_columns": null,
            "grid_auto_flow": null,
            "grid_auto_rows": null,
            "grid_column": null,
            "grid_gap": null,
            "grid_row": null,
            "grid_template_areas": null,
            "grid_template_columns": null,
            "grid_template_rows": null,
            "height": null,
            "justify_content": null,
            "justify_items": null,
            "left": null,
            "margin": null,
            "max_height": null,
            "max_width": null,
            "min_height": null,
            "min_width": null,
            "object_fit": null,
            "object_position": null,
            "order": null,
            "overflow": null,
            "overflow_x": null,
            "overflow_y": null,
            "padding": null,
            "right": null,
            "top": null,
            "visibility": null,
            "width": null
          }
        },
        "5be29687a69e40969148cc8f6a51d290": {
          "model_module": "@jupyter-widgets/controls",
          "model_name": "ProgressStyleModel",
          "model_module_version": "1.5.0",
          "state": {
            "_model_module": "@jupyter-widgets/controls",
            "_model_module_version": "1.5.0",
            "_model_name": "ProgressStyleModel",
            "_view_count": null,
            "_view_module": "@jupyter-widgets/base",
            "_view_module_version": "1.2.0",
            "_view_name": "StyleView",
            "bar_color": null,
            "description_width": ""
          }
        },
        "ba9a2c6ca59443b39a14d5245c4f1ad4": {
          "model_module": "@jupyter-widgets/base",
          "model_name": "LayoutModel",
          "model_module_version": "1.2.0",
          "state": {
            "_model_module": "@jupyter-widgets/base",
            "_model_module_version": "1.2.0",
            "_model_name": "LayoutModel",
            "_view_count": null,
            "_view_module": "@jupyter-widgets/base",
            "_view_module_version": "1.2.0",
            "_view_name": "LayoutView",
            "align_content": null,
            "align_items": null,
            "align_self": null,
            "border": null,
            "bottom": null,
            "display": null,
            "flex": null,
            "flex_flow": null,
            "grid_area": null,
            "grid_auto_columns": null,
            "grid_auto_flow": null,
            "grid_auto_rows": null,
            "grid_column": null,
            "grid_gap": null,
            "grid_row": null,
            "grid_template_areas": null,
            "grid_template_columns": null,
            "grid_template_rows": null,
            "height": null,
            "justify_content": null,
            "justify_items": null,
            "left": null,
            "margin": null,
            "max_height": null,
            "max_width": null,
            "min_height": null,
            "min_width": null,
            "object_fit": null,
            "object_position": null,
            "order": null,
            "overflow": null,
            "overflow_x": null,
            "overflow_y": null,
            "padding": null,
            "right": null,
            "top": null,
            "visibility": null,
            "width": null
          }
        },
        "cbd6bb4728ed46d9bb0c57cec59f64f7": {
          "model_module": "@jupyter-widgets/controls",
          "model_name": "DescriptionStyleModel",
          "model_module_version": "1.5.0",
          "state": {
            "_model_module": "@jupyter-widgets/controls",
            "_model_module_version": "1.5.0",
            "_model_name": "DescriptionStyleModel",
            "_view_count": null,
            "_view_module": "@jupyter-widgets/base",
            "_view_module_version": "1.2.0",
            "_view_name": "StyleView",
            "description_width": ""
          }
        },
        "4ec4a476d0bb4d9faff08bcd7a8c6aff": {
          "model_module": "@jupyter-widgets/controls",
          "model_name": "HBoxModel",
          "model_module_version": "1.5.0",
          "state": {
            "_dom_classes": [],
            "_model_module": "@jupyter-widgets/controls",
            "_model_module_version": "1.5.0",
            "_model_name": "HBoxModel",
            "_view_count": null,
            "_view_module": "@jupyter-widgets/controls",
            "_view_module_version": "1.5.0",
            "_view_name": "HBoxView",
            "box_style": "",
            "children": [
              "IPY_MODEL_4521b96f61dc466cbaf8438d0cf878a7",
              "IPY_MODEL_78f069dcbad84820bfa954683cbbf205",
              "IPY_MODEL_ec5aa6460fb046bb96a91860565f2bfc"
            ],
            "layout": "IPY_MODEL_5b177e99433d4654bcf0a8b4779fb848"
          }
        },
        "4521b96f61dc466cbaf8438d0cf878a7": {
          "model_module": "@jupyter-widgets/controls",
          "model_name": "HTMLModel",
          "model_module_version": "1.5.0",
          "state": {
            "_dom_classes": [],
            "_model_module": "@jupyter-widgets/controls",
            "_model_module_version": "1.5.0",
            "_model_name": "HTMLModel",
            "_view_count": null,
            "_view_module": "@jupyter-widgets/controls",
            "_view_module_version": "1.5.0",
            "_view_name": "HTMLView",
            "description": "",
            "description_tooltip": null,
            "layout": "IPY_MODEL_b13fba2f0acf4921b4d7c9d247797cf4",
            "placeholder": "​",
            "style": "IPY_MODEL_8b2d8b2828714f25921567d151c50450",
            "value": "Downloading (…)a8e1d/.gitattributes: 100%"
          }
        },
        "78f069dcbad84820bfa954683cbbf205": {
          "model_module": "@jupyter-widgets/controls",
          "model_name": "FloatProgressModel",
          "model_module_version": "1.5.0",
          "state": {
            "_dom_classes": [],
            "_model_module": "@jupyter-widgets/controls",
            "_model_module_version": "1.5.0",
            "_model_name": "FloatProgressModel",
            "_view_count": null,
            "_view_module": "@jupyter-widgets/controls",
            "_view_module_version": "1.5.0",
            "_view_name": "ProgressView",
            "bar_style": "success",
            "description": "",
            "description_tooltip": null,
            "layout": "IPY_MODEL_92c64747e71d4e05b7655e70bbf4a0a5",
            "max": 1175,
            "min": 0,
            "orientation": "horizontal",
            "style": "IPY_MODEL_ac367cb3649e49aab7d2091b7786b9a1",
            "value": 1175
          }
        },
        "ec5aa6460fb046bb96a91860565f2bfc": {
          "model_module": "@jupyter-widgets/controls",
          "model_name": "HTMLModel",
          "model_module_version": "1.5.0",
          "state": {
            "_dom_classes": [],
            "_model_module": "@jupyter-widgets/controls",
            "_model_module_version": "1.5.0",
            "_model_name": "HTMLModel",
            "_view_count": null,
            "_view_module": "@jupyter-widgets/controls",
            "_view_module_version": "1.5.0",
            "_view_name": "HTMLView",
            "description": "",
            "description_tooltip": null,
            "layout": "IPY_MODEL_eb20e468b1fb43e99f0f52e7c140ed68",
            "placeholder": "​",
            "style": "IPY_MODEL_4b4edc34492742c6a0134af8cabe2a0e",
            "value": " 1.18k/1.18k [00:00&lt;00:00, 78.1kB/s]"
          }
        },
        "5b177e99433d4654bcf0a8b4779fb848": {
          "model_module": "@jupyter-widgets/base",
          "model_name": "LayoutModel",
          "model_module_version": "1.2.0",
          "state": {
            "_model_module": "@jupyter-widgets/base",
            "_model_module_version": "1.2.0",
            "_model_name": "LayoutModel",
            "_view_count": null,
            "_view_module": "@jupyter-widgets/base",
            "_view_module_version": "1.2.0",
            "_view_name": "LayoutView",
            "align_content": null,
            "align_items": null,
            "align_self": null,
            "border": null,
            "bottom": null,
            "display": null,
            "flex": null,
            "flex_flow": null,
            "grid_area": null,
            "grid_auto_columns": null,
            "grid_auto_flow": null,
            "grid_auto_rows": null,
            "grid_column": null,
            "grid_gap": null,
            "grid_row": null,
            "grid_template_areas": null,
            "grid_template_columns": null,
            "grid_template_rows": null,
            "height": null,
            "justify_content": null,
            "justify_items": null,
            "left": null,
            "margin": null,
            "max_height": null,
            "max_width": null,
            "min_height": null,
            "min_width": null,
            "object_fit": null,
            "object_position": null,
            "order": null,
            "overflow": null,
            "overflow_x": null,
            "overflow_y": null,
            "padding": null,
            "right": null,
            "top": null,
            "visibility": null,
            "width": null
          }
        },
        "b13fba2f0acf4921b4d7c9d247797cf4": {
          "model_module": "@jupyter-widgets/base",
          "model_name": "LayoutModel",
          "model_module_version": "1.2.0",
          "state": {
            "_model_module": "@jupyter-widgets/base",
            "_model_module_version": "1.2.0",
            "_model_name": "LayoutModel",
            "_view_count": null,
            "_view_module": "@jupyter-widgets/base",
            "_view_module_version": "1.2.0",
            "_view_name": "LayoutView",
            "align_content": null,
            "align_items": null,
            "align_self": null,
            "border": null,
            "bottom": null,
            "display": null,
            "flex": null,
            "flex_flow": null,
            "grid_area": null,
            "grid_auto_columns": null,
            "grid_auto_flow": null,
            "grid_auto_rows": null,
            "grid_column": null,
            "grid_gap": null,
            "grid_row": null,
            "grid_template_areas": null,
            "grid_template_columns": null,
            "grid_template_rows": null,
            "height": null,
            "justify_content": null,
            "justify_items": null,
            "left": null,
            "margin": null,
            "max_height": null,
            "max_width": null,
            "min_height": null,
            "min_width": null,
            "object_fit": null,
            "object_position": null,
            "order": null,
            "overflow": null,
            "overflow_x": null,
            "overflow_y": null,
            "padding": null,
            "right": null,
            "top": null,
            "visibility": null,
            "width": null
          }
        },
        "8b2d8b2828714f25921567d151c50450": {
          "model_module": "@jupyter-widgets/controls",
          "model_name": "DescriptionStyleModel",
          "model_module_version": "1.5.0",
          "state": {
            "_model_module": "@jupyter-widgets/controls",
            "_model_module_version": "1.5.0",
            "_model_name": "DescriptionStyleModel",
            "_view_count": null,
            "_view_module": "@jupyter-widgets/base",
            "_view_module_version": "1.2.0",
            "_view_name": "StyleView",
            "description_width": ""
          }
        },
        "92c64747e71d4e05b7655e70bbf4a0a5": {
          "model_module": "@jupyter-widgets/base",
          "model_name": "LayoutModel",
          "model_module_version": "1.2.0",
          "state": {
            "_model_module": "@jupyter-widgets/base",
            "_model_module_version": "1.2.0",
            "_model_name": "LayoutModel",
            "_view_count": null,
            "_view_module": "@jupyter-widgets/base",
            "_view_module_version": "1.2.0",
            "_view_name": "LayoutView",
            "align_content": null,
            "align_items": null,
            "align_self": null,
            "border": null,
            "bottom": null,
            "display": null,
            "flex": null,
            "flex_flow": null,
            "grid_area": null,
            "grid_auto_columns": null,
            "grid_auto_flow": null,
            "grid_auto_rows": null,
            "grid_column": null,
            "grid_gap": null,
            "grid_row": null,
            "grid_template_areas": null,
            "grid_template_columns": null,
            "grid_template_rows": null,
            "height": null,
            "justify_content": null,
            "justify_items": null,
            "left": null,
            "margin": null,
            "max_height": null,
            "max_width": null,
            "min_height": null,
            "min_width": null,
            "object_fit": null,
            "object_position": null,
            "order": null,
            "overflow": null,
            "overflow_x": null,
            "overflow_y": null,
            "padding": null,
            "right": null,
            "top": null,
            "visibility": null,
            "width": null
          }
        },
        "ac367cb3649e49aab7d2091b7786b9a1": {
          "model_module": "@jupyter-widgets/controls",
          "model_name": "ProgressStyleModel",
          "model_module_version": "1.5.0",
          "state": {
            "_model_module": "@jupyter-widgets/controls",
            "_model_module_version": "1.5.0",
            "_model_name": "ProgressStyleModel",
            "_view_count": null,
            "_view_module": "@jupyter-widgets/base",
            "_view_module_version": "1.2.0",
            "_view_name": "StyleView",
            "bar_color": null,
            "description_width": ""
          }
        },
        "eb20e468b1fb43e99f0f52e7c140ed68": {
          "model_module": "@jupyter-widgets/base",
          "model_name": "LayoutModel",
          "model_module_version": "1.2.0",
          "state": {
            "_model_module": "@jupyter-widgets/base",
            "_model_module_version": "1.2.0",
            "_model_name": "LayoutModel",
            "_view_count": null,
            "_view_module": "@jupyter-widgets/base",
            "_view_module_version": "1.2.0",
            "_view_name": "LayoutView",
            "align_content": null,
            "align_items": null,
            "align_self": null,
            "border": null,
            "bottom": null,
            "display": null,
            "flex": null,
            "flex_flow": null,
            "grid_area": null,
            "grid_auto_columns": null,
            "grid_auto_flow": null,
            "grid_auto_rows": null,
            "grid_column": null,
            "grid_gap": null,
            "grid_row": null,
            "grid_template_areas": null,
            "grid_template_columns": null,
            "grid_template_rows": null,
            "height": null,
            "justify_content": null,
            "justify_items": null,
            "left": null,
            "margin": null,
            "max_height": null,
            "max_width": null,
            "min_height": null,
            "min_width": null,
            "object_fit": null,
            "object_position": null,
            "order": null,
            "overflow": null,
            "overflow_x": null,
            "overflow_y": null,
            "padding": null,
            "right": null,
            "top": null,
            "visibility": null,
            "width": null
          }
        },
        "4b4edc34492742c6a0134af8cabe2a0e": {
          "model_module": "@jupyter-widgets/controls",
          "model_name": "DescriptionStyleModel",
          "model_module_version": "1.5.0",
          "state": {
            "_model_module": "@jupyter-widgets/controls",
            "_model_module_version": "1.5.0",
            "_model_name": "DescriptionStyleModel",
            "_view_count": null,
            "_view_module": "@jupyter-widgets/base",
            "_view_module_version": "1.2.0",
            "_view_name": "StyleView",
            "description_width": ""
          }
        },
        "bf64520649cf4eec9ab4078fbeb30b2a": {
          "model_module": "@jupyter-widgets/controls",
          "model_name": "HBoxModel",
          "model_module_version": "1.5.0",
          "state": {
            "_dom_classes": [],
            "_model_module": "@jupyter-widgets/controls",
            "_model_module_version": "1.5.0",
            "_model_name": "HBoxModel",
            "_view_count": null,
            "_view_module": "@jupyter-widgets/controls",
            "_view_module_version": "1.5.0",
            "_view_name": "HBoxView",
            "box_style": "",
            "children": [
              "IPY_MODEL_2c63ecf41ca94ad3947694052423f12f",
              "IPY_MODEL_d52f2eaecb6c4f0089a72330640cc478",
              "IPY_MODEL_8f7cde05360240f4b3d7ad25a3496d9f"
            ],
            "layout": "IPY_MODEL_8cb905550a1148bd9ac2967c3efd473a"
          }
        },
        "2c63ecf41ca94ad3947694052423f12f": {
          "model_module": "@jupyter-widgets/controls",
          "model_name": "HTMLModel",
          "model_module_version": "1.5.0",
          "state": {
            "_dom_classes": [],
            "_model_module": "@jupyter-widgets/controls",
            "_model_module_version": "1.5.0",
            "_model_name": "HTMLModel",
            "_view_count": null,
            "_view_module": "@jupyter-widgets/controls",
            "_view_module_version": "1.5.0",
            "_view_name": "HTMLView",
            "description": "",
            "description_tooltip": null,
            "layout": "IPY_MODEL_c9f4d025615646b7b7fec01ca082a136",
            "placeholder": "​",
            "style": "IPY_MODEL_21d80aa00bdc43469aaa16a626c3f2b0",
            "value": "Downloading (…)_Pooling/config.json: 100%"
          }
        },
        "d52f2eaecb6c4f0089a72330640cc478": {
          "model_module": "@jupyter-widgets/controls",
          "model_name": "FloatProgressModel",
          "model_module_version": "1.5.0",
          "state": {
            "_dom_classes": [],
            "_model_module": "@jupyter-widgets/controls",
            "_model_module_version": "1.5.0",
            "_model_name": "FloatProgressModel",
            "_view_count": null,
            "_view_module": "@jupyter-widgets/controls",
            "_view_module_version": "1.5.0",
            "_view_name": "ProgressView",
            "bar_style": "success",
            "description": "",
            "description_tooltip": null,
            "layout": "IPY_MODEL_4783acc0dab444369b0c73045356098c",
            "max": 190,
            "min": 0,
            "orientation": "horizontal",
            "style": "IPY_MODEL_224f094c337841e5abd9d120589e2f5f",
            "value": 190
          }
        },
        "8f7cde05360240f4b3d7ad25a3496d9f": {
          "model_module": "@jupyter-widgets/controls",
          "model_name": "HTMLModel",
          "model_module_version": "1.5.0",
          "state": {
            "_dom_classes": [],
            "_model_module": "@jupyter-widgets/controls",
            "_model_module_version": "1.5.0",
            "_model_name": "HTMLModel",
            "_view_count": null,
            "_view_module": "@jupyter-widgets/controls",
            "_view_module_version": "1.5.0",
            "_view_name": "HTMLView",
            "description": "",
            "description_tooltip": null,
            "layout": "IPY_MODEL_bc4d0b1877cd48828d623a58d5a06da2",
            "placeholder": "​",
            "style": "IPY_MODEL_4e8c9230f2984fd9ba38e7ea4876a1be",
            "value": " 190/190 [00:00&lt;00:00, 14.2kB/s]"
          }
        },
        "8cb905550a1148bd9ac2967c3efd473a": {
          "model_module": "@jupyter-widgets/base",
          "model_name": "LayoutModel",
          "model_module_version": "1.2.0",
          "state": {
            "_model_module": "@jupyter-widgets/base",
            "_model_module_version": "1.2.0",
            "_model_name": "LayoutModel",
            "_view_count": null,
            "_view_module": "@jupyter-widgets/base",
            "_view_module_version": "1.2.0",
            "_view_name": "LayoutView",
            "align_content": null,
            "align_items": null,
            "align_self": null,
            "border": null,
            "bottom": null,
            "display": null,
            "flex": null,
            "flex_flow": null,
            "grid_area": null,
            "grid_auto_columns": null,
            "grid_auto_flow": null,
            "grid_auto_rows": null,
            "grid_column": null,
            "grid_gap": null,
            "grid_row": null,
            "grid_template_areas": null,
            "grid_template_columns": null,
            "grid_template_rows": null,
            "height": null,
            "justify_content": null,
            "justify_items": null,
            "left": null,
            "margin": null,
            "max_height": null,
            "max_width": null,
            "min_height": null,
            "min_width": null,
            "object_fit": null,
            "object_position": null,
            "order": null,
            "overflow": null,
            "overflow_x": null,
            "overflow_y": null,
            "padding": null,
            "right": null,
            "top": null,
            "visibility": null,
            "width": null
          }
        },
        "c9f4d025615646b7b7fec01ca082a136": {
          "model_module": "@jupyter-widgets/base",
          "model_name": "LayoutModel",
          "model_module_version": "1.2.0",
          "state": {
            "_model_module": "@jupyter-widgets/base",
            "_model_module_version": "1.2.0",
            "_model_name": "LayoutModel",
            "_view_count": null,
            "_view_module": "@jupyter-widgets/base",
            "_view_module_version": "1.2.0",
            "_view_name": "LayoutView",
            "align_content": null,
            "align_items": null,
            "align_self": null,
            "border": null,
            "bottom": null,
            "display": null,
            "flex": null,
            "flex_flow": null,
            "grid_area": null,
            "grid_auto_columns": null,
            "grid_auto_flow": null,
            "grid_auto_rows": null,
            "grid_column": null,
            "grid_gap": null,
            "grid_row": null,
            "grid_template_areas": null,
            "grid_template_columns": null,
            "grid_template_rows": null,
            "height": null,
            "justify_content": null,
            "justify_items": null,
            "left": null,
            "margin": null,
            "max_height": null,
            "max_width": null,
            "min_height": null,
            "min_width": null,
            "object_fit": null,
            "object_position": null,
            "order": null,
            "overflow": null,
            "overflow_x": null,
            "overflow_y": null,
            "padding": null,
            "right": null,
            "top": null,
            "visibility": null,
            "width": null
          }
        },
        "21d80aa00bdc43469aaa16a626c3f2b0": {
          "model_module": "@jupyter-widgets/controls",
          "model_name": "DescriptionStyleModel",
          "model_module_version": "1.5.0",
          "state": {
            "_model_module": "@jupyter-widgets/controls",
            "_model_module_version": "1.5.0",
            "_model_name": "DescriptionStyleModel",
            "_view_count": null,
            "_view_module": "@jupyter-widgets/base",
            "_view_module_version": "1.2.0",
            "_view_name": "StyleView",
            "description_width": ""
          }
        },
        "4783acc0dab444369b0c73045356098c": {
          "model_module": "@jupyter-widgets/base",
          "model_name": "LayoutModel",
          "model_module_version": "1.2.0",
          "state": {
            "_model_module": "@jupyter-widgets/base",
            "_model_module_version": "1.2.0",
            "_model_name": "LayoutModel",
            "_view_count": null,
            "_view_module": "@jupyter-widgets/base",
            "_view_module_version": "1.2.0",
            "_view_name": "LayoutView",
            "align_content": null,
            "align_items": null,
            "align_self": null,
            "border": null,
            "bottom": null,
            "display": null,
            "flex": null,
            "flex_flow": null,
            "grid_area": null,
            "grid_auto_columns": null,
            "grid_auto_flow": null,
            "grid_auto_rows": null,
            "grid_column": null,
            "grid_gap": null,
            "grid_row": null,
            "grid_template_areas": null,
            "grid_template_columns": null,
            "grid_template_rows": null,
            "height": null,
            "justify_content": null,
            "justify_items": null,
            "left": null,
            "margin": null,
            "max_height": null,
            "max_width": null,
            "min_height": null,
            "min_width": null,
            "object_fit": null,
            "object_position": null,
            "order": null,
            "overflow": null,
            "overflow_x": null,
            "overflow_y": null,
            "padding": null,
            "right": null,
            "top": null,
            "visibility": null,
            "width": null
          }
        },
        "224f094c337841e5abd9d120589e2f5f": {
          "model_module": "@jupyter-widgets/controls",
          "model_name": "ProgressStyleModel",
          "model_module_version": "1.5.0",
          "state": {
            "_model_module": "@jupyter-widgets/controls",
            "_model_module_version": "1.5.0",
            "_model_name": "ProgressStyleModel",
            "_view_count": null,
            "_view_module": "@jupyter-widgets/base",
            "_view_module_version": "1.2.0",
            "_view_name": "StyleView",
            "bar_color": null,
            "description_width": ""
          }
        },
        "bc4d0b1877cd48828d623a58d5a06da2": {
          "model_module": "@jupyter-widgets/base",
          "model_name": "LayoutModel",
          "model_module_version": "1.2.0",
          "state": {
            "_model_module": "@jupyter-widgets/base",
            "_model_module_version": "1.2.0",
            "_model_name": "LayoutModel",
            "_view_count": null,
            "_view_module": "@jupyter-widgets/base",
            "_view_module_version": "1.2.0",
            "_view_name": "LayoutView",
            "align_content": null,
            "align_items": null,
            "align_self": null,
            "border": null,
            "bottom": null,
            "display": null,
            "flex": null,
            "flex_flow": null,
            "grid_area": null,
            "grid_auto_columns": null,
            "grid_auto_flow": null,
            "grid_auto_rows": null,
            "grid_column": null,
            "grid_gap": null,
            "grid_row": null,
            "grid_template_areas": null,
            "grid_template_columns": null,
            "grid_template_rows": null,
            "height": null,
            "justify_content": null,
            "justify_items": null,
            "left": null,
            "margin": null,
            "max_height": null,
            "max_width": null,
            "min_height": null,
            "min_width": null,
            "object_fit": null,
            "object_position": null,
            "order": null,
            "overflow": null,
            "overflow_x": null,
            "overflow_y": null,
            "padding": null,
            "right": null,
            "top": null,
            "visibility": null,
            "width": null
          }
        },
        "4e8c9230f2984fd9ba38e7ea4876a1be": {
          "model_module": "@jupyter-widgets/controls",
          "model_name": "DescriptionStyleModel",
          "model_module_version": "1.5.0",
          "state": {
            "_model_module": "@jupyter-widgets/controls",
            "_model_module_version": "1.5.0",
            "_model_name": "DescriptionStyleModel",
            "_view_count": null,
            "_view_module": "@jupyter-widgets/base",
            "_view_module_version": "1.2.0",
            "_view_name": "StyleView",
            "description_width": ""
          }
        },
        "0cabbc5ca071427cb1f14080783e7f46": {
          "model_module": "@jupyter-widgets/controls",
          "model_name": "HBoxModel",
          "model_module_version": "1.5.0",
          "state": {
            "_dom_classes": [],
            "_model_module": "@jupyter-widgets/controls",
            "_model_module_version": "1.5.0",
            "_model_name": "HBoxModel",
            "_view_count": null,
            "_view_module": "@jupyter-widgets/controls",
            "_view_module_version": "1.5.0",
            "_view_name": "HBoxView",
            "box_style": "",
            "children": [
              "IPY_MODEL_78f80b9a19854c2caca895a92711db59",
              "IPY_MODEL_435be8dd1847406897fca7829aff9a5c",
              "IPY_MODEL_1c72cc042dc64b9b9534251ffebdf1b8"
            ],
            "layout": "IPY_MODEL_3b6ced3da9ae4cfb86826a42e8b1a087"
          }
        },
        "78f80b9a19854c2caca895a92711db59": {
          "model_module": "@jupyter-widgets/controls",
          "model_name": "HTMLModel",
          "model_module_version": "1.5.0",
          "state": {
            "_dom_classes": [],
            "_model_module": "@jupyter-widgets/controls",
            "_model_module_version": "1.5.0",
            "_model_name": "HTMLModel",
            "_view_count": null,
            "_view_module": "@jupyter-widgets/controls",
            "_view_module_version": "1.5.0",
            "_view_name": "HTMLView",
            "description": "",
            "description_tooltip": null,
            "layout": "IPY_MODEL_efd617490b89485c973f80cfb9dbceb6",
            "placeholder": "​",
            "style": "IPY_MODEL_4087347cb775423c9cb29ef361b6bc44",
            "value": "Downloading (…)b20bca8e1d/README.md: 100%"
          }
        },
        "435be8dd1847406897fca7829aff9a5c": {
          "model_module": "@jupyter-widgets/controls",
          "model_name": "FloatProgressModel",
          "model_module_version": "1.5.0",
          "state": {
            "_dom_classes": [],
            "_model_module": "@jupyter-widgets/controls",
            "_model_module_version": "1.5.0",
            "_model_name": "FloatProgressModel",
            "_view_count": null,
            "_view_module": "@jupyter-widgets/controls",
            "_view_module_version": "1.5.0",
            "_view_name": "ProgressView",
            "bar_style": "success",
            "description": "",
            "description_tooltip": null,
            "layout": "IPY_MODEL_68ef8c29ac5245e68149ae5c3b32c23b",
            "max": 10571,
            "min": 0,
            "orientation": "horizontal",
            "style": "IPY_MODEL_320168388074472aac8e0bcf90261151",
            "value": 10571
          }
        },
        "1c72cc042dc64b9b9534251ffebdf1b8": {
          "model_module": "@jupyter-widgets/controls",
          "model_name": "HTMLModel",
          "model_module_version": "1.5.0",
          "state": {
            "_dom_classes": [],
            "_model_module": "@jupyter-widgets/controls",
            "_model_module_version": "1.5.0",
            "_model_name": "HTMLModel",
            "_view_count": null,
            "_view_module": "@jupyter-widgets/controls",
            "_view_module_version": "1.5.0",
            "_view_name": "HTMLView",
            "description": "",
            "description_tooltip": null,
            "layout": "IPY_MODEL_edfb5c5efeb740d9b9b9db6a15036992",
            "placeholder": "​",
            "style": "IPY_MODEL_848dcf0a43694282a70ff92d5708e7ea",
            "value": " 10.6k/10.6k [00:00&lt;00:00, 612kB/s]"
          }
        },
        "3b6ced3da9ae4cfb86826a42e8b1a087": {
          "model_module": "@jupyter-widgets/base",
          "model_name": "LayoutModel",
          "model_module_version": "1.2.0",
          "state": {
            "_model_module": "@jupyter-widgets/base",
            "_model_module_version": "1.2.0",
            "_model_name": "LayoutModel",
            "_view_count": null,
            "_view_module": "@jupyter-widgets/base",
            "_view_module_version": "1.2.0",
            "_view_name": "LayoutView",
            "align_content": null,
            "align_items": null,
            "align_self": null,
            "border": null,
            "bottom": null,
            "display": null,
            "flex": null,
            "flex_flow": null,
            "grid_area": null,
            "grid_auto_columns": null,
            "grid_auto_flow": null,
            "grid_auto_rows": null,
            "grid_column": null,
            "grid_gap": null,
            "grid_row": null,
            "grid_template_areas": null,
            "grid_template_columns": null,
            "grid_template_rows": null,
            "height": null,
            "justify_content": null,
            "justify_items": null,
            "left": null,
            "margin": null,
            "max_height": null,
            "max_width": null,
            "min_height": null,
            "min_width": null,
            "object_fit": null,
            "object_position": null,
            "order": null,
            "overflow": null,
            "overflow_x": null,
            "overflow_y": null,
            "padding": null,
            "right": null,
            "top": null,
            "visibility": null,
            "width": null
          }
        },
        "efd617490b89485c973f80cfb9dbceb6": {
          "model_module": "@jupyter-widgets/base",
          "model_name": "LayoutModel",
          "model_module_version": "1.2.0",
          "state": {
            "_model_module": "@jupyter-widgets/base",
            "_model_module_version": "1.2.0",
            "_model_name": "LayoutModel",
            "_view_count": null,
            "_view_module": "@jupyter-widgets/base",
            "_view_module_version": "1.2.0",
            "_view_name": "LayoutView",
            "align_content": null,
            "align_items": null,
            "align_self": null,
            "border": null,
            "bottom": null,
            "display": null,
            "flex": null,
            "flex_flow": null,
            "grid_area": null,
            "grid_auto_columns": null,
            "grid_auto_flow": null,
            "grid_auto_rows": null,
            "grid_column": null,
            "grid_gap": null,
            "grid_row": null,
            "grid_template_areas": null,
            "grid_template_columns": null,
            "grid_template_rows": null,
            "height": null,
            "justify_content": null,
            "justify_items": null,
            "left": null,
            "margin": null,
            "max_height": null,
            "max_width": null,
            "min_height": null,
            "min_width": null,
            "object_fit": null,
            "object_position": null,
            "order": null,
            "overflow": null,
            "overflow_x": null,
            "overflow_y": null,
            "padding": null,
            "right": null,
            "top": null,
            "visibility": null,
            "width": null
          }
        },
        "4087347cb775423c9cb29ef361b6bc44": {
          "model_module": "@jupyter-widgets/controls",
          "model_name": "DescriptionStyleModel",
          "model_module_version": "1.5.0",
          "state": {
            "_model_module": "@jupyter-widgets/controls",
            "_model_module_version": "1.5.0",
            "_model_name": "DescriptionStyleModel",
            "_view_count": null,
            "_view_module": "@jupyter-widgets/base",
            "_view_module_version": "1.2.0",
            "_view_name": "StyleView",
            "description_width": ""
          }
        },
        "68ef8c29ac5245e68149ae5c3b32c23b": {
          "model_module": "@jupyter-widgets/base",
          "model_name": "LayoutModel",
          "model_module_version": "1.2.0",
          "state": {
            "_model_module": "@jupyter-widgets/base",
            "_model_module_version": "1.2.0",
            "_model_name": "LayoutModel",
            "_view_count": null,
            "_view_module": "@jupyter-widgets/base",
            "_view_module_version": "1.2.0",
            "_view_name": "LayoutView",
            "align_content": null,
            "align_items": null,
            "align_self": null,
            "border": null,
            "bottom": null,
            "display": null,
            "flex": null,
            "flex_flow": null,
            "grid_area": null,
            "grid_auto_columns": null,
            "grid_auto_flow": null,
            "grid_auto_rows": null,
            "grid_column": null,
            "grid_gap": null,
            "grid_row": null,
            "grid_template_areas": null,
            "grid_template_columns": null,
            "grid_template_rows": null,
            "height": null,
            "justify_content": null,
            "justify_items": null,
            "left": null,
            "margin": null,
            "max_height": null,
            "max_width": null,
            "min_height": null,
            "min_width": null,
            "object_fit": null,
            "object_position": null,
            "order": null,
            "overflow": null,
            "overflow_x": null,
            "overflow_y": null,
            "padding": null,
            "right": null,
            "top": null,
            "visibility": null,
            "width": null
          }
        },
        "320168388074472aac8e0bcf90261151": {
          "model_module": "@jupyter-widgets/controls",
          "model_name": "ProgressStyleModel",
          "model_module_version": "1.5.0",
          "state": {
            "_model_module": "@jupyter-widgets/controls",
            "_model_module_version": "1.5.0",
            "_model_name": "ProgressStyleModel",
            "_view_count": null,
            "_view_module": "@jupyter-widgets/base",
            "_view_module_version": "1.2.0",
            "_view_name": "StyleView",
            "bar_color": null,
            "description_width": ""
          }
        },
        "edfb5c5efeb740d9b9b9db6a15036992": {
          "model_module": "@jupyter-widgets/base",
          "model_name": "LayoutModel",
          "model_module_version": "1.2.0",
          "state": {
            "_model_module": "@jupyter-widgets/base",
            "_model_module_version": "1.2.0",
            "_model_name": "LayoutModel",
            "_view_count": null,
            "_view_module": "@jupyter-widgets/base",
            "_view_module_version": "1.2.0",
            "_view_name": "LayoutView",
            "align_content": null,
            "align_items": null,
            "align_self": null,
            "border": null,
            "bottom": null,
            "display": null,
            "flex": null,
            "flex_flow": null,
            "grid_area": null,
            "grid_auto_columns": null,
            "grid_auto_flow": null,
            "grid_auto_rows": null,
            "grid_column": null,
            "grid_gap": null,
            "grid_row": null,
            "grid_template_areas": null,
            "grid_template_columns": null,
            "grid_template_rows": null,
            "height": null,
            "justify_content": null,
            "justify_items": null,
            "left": null,
            "margin": null,
            "max_height": null,
            "max_width": null,
            "min_height": null,
            "min_width": null,
            "object_fit": null,
            "object_position": null,
            "order": null,
            "overflow": null,
            "overflow_x": null,
            "overflow_y": null,
            "padding": null,
            "right": null,
            "top": null,
            "visibility": null,
            "width": null
          }
        },
        "848dcf0a43694282a70ff92d5708e7ea": {
          "model_module": "@jupyter-widgets/controls",
          "model_name": "DescriptionStyleModel",
          "model_module_version": "1.5.0",
          "state": {
            "_model_module": "@jupyter-widgets/controls",
            "_model_module_version": "1.5.0",
            "_model_name": "DescriptionStyleModel",
            "_view_count": null,
            "_view_module": "@jupyter-widgets/base",
            "_view_module_version": "1.2.0",
            "_view_name": "StyleView",
            "description_width": ""
          }
        },
        "8bf8160a1538467d929bf3dd32ae169a": {
          "model_module": "@jupyter-widgets/controls",
          "model_name": "HBoxModel",
          "model_module_version": "1.5.0",
          "state": {
            "_dom_classes": [],
            "_model_module": "@jupyter-widgets/controls",
            "_model_module_version": "1.5.0",
            "_model_name": "HBoxModel",
            "_view_count": null,
            "_view_module": "@jupyter-widgets/controls",
            "_view_module_version": "1.5.0",
            "_view_name": "HBoxView",
            "box_style": "",
            "children": [
              "IPY_MODEL_7716613d51644b9cb1618af911963a7d",
              "IPY_MODEL_c1f15374603341ca9b0a8a6fa8bc119d",
              "IPY_MODEL_64b797a71f034ce39906ba5721135486"
            ],
            "layout": "IPY_MODEL_f2cc11ecafd745c080d74f0bdb802751"
          }
        },
        "7716613d51644b9cb1618af911963a7d": {
          "model_module": "@jupyter-widgets/controls",
          "model_name": "HTMLModel",
          "model_module_version": "1.5.0",
          "state": {
            "_dom_classes": [],
            "_model_module": "@jupyter-widgets/controls",
            "_model_module_version": "1.5.0",
            "_model_name": "HTMLModel",
            "_view_count": null,
            "_view_module": "@jupyter-widgets/controls",
            "_view_module_version": "1.5.0",
            "_view_name": "HTMLView",
            "description": "",
            "description_tooltip": null,
            "layout": "IPY_MODEL_d0ce67d4f1b94c7191330ab036949f8a",
            "placeholder": "​",
            "style": "IPY_MODEL_0a234f1524e84eafa77223c252745b6e",
            "value": "Downloading (…)0bca8e1d/config.json: 100%"
          }
        },
        "c1f15374603341ca9b0a8a6fa8bc119d": {
          "model_module": "@jupyter-widgets/controls",
          "model_name": "FloatProgressModel",
          "model_module_version": "1.5.0",
          "state": {
            "_dom_classes": [],
            "_model_module": "@jupyter-widgets/controls",
            "_model_module_version": "1.5.0",
            "_model_name": "FloatProgressModel",
            "_view_count": null,
            "_view_module": "@jupyter-widgets/controls",
            "_view_module_version": "1.5.0",
            "_view_name": "ProgressView",
            "bar_style": "success",
            "description": "",
            "description_tooltip": null,
            "layout": "IPY_MODEL_486e2dac18b6492f8c24eb76b5444577",
            "max": 571,
            "min": 0,
            "orientation": "horizontal",
            "style": "IPY_MODEL_d5b1e43b96b546b19374b20a4914c03d",
            "value": 571
          }
        },
        "64b797a71f034ce39906ba5721135486": {
          "model_module": "@jupyter-widgets/controls",
          "model_name": "HTMLModel",
          "model_module_version": "1.5.0",
          "state": {
            "_dom_classes": [],
            "_model_module": "@jupyter-widgets/controls",
            "_model_module_version": "1.5.0",
            "_model_name": "HTMLModel",
            "_view_count": null,
            "_view_module": "@jupyter-widgets/controls",
            "_view_module_version": "1.5.0",
            "_view_name": "HTMLView",
            "description": "",
            "description_tooltip": null,
            "layout": "IPY_MODEL_f1d21d04e1564a4aaa14208d86f5b2ca",
            "placeholder": "​",
            "style": "IPY_MODEL_40673ad8fe8947059b915df6233d52b3",
            "value": " 571/571 [00:00&lt;00:00, 46.7kB/s]"
          }
        },
        "f2cc11ecafd745c080d74f0bdb802751": {
          "model_module": "@jupyter-widgets/base",
          "model_name": "LayoutModel",
          "model_module_version": "1.2.0",
          "state": {
            "_model_module": "@jupyter-widgets/base",
            "_model_module_version": "1.2.0",
            "_model_name": "LayoutModel",
            "_view_count": null,
            "_view_module": "@jupyter-widgets/base",
            "_view_module_version": "1.2.0",
            "_view_name": "LayoutView",
            "align_content": null,
            "align_items": null,
            "align_self": null,
            "border": null,
            "bottom": null,
            "display": null,
            "flex": null,
            "flex_flow": null,
            "grid_area": null,
            "grid_auto_columns": null,
            "grid_auto_flow": null,
            "grid_auto_rows": null,
            "grid_column": null,
            "grid_gap": null,
            "grid_row": null,
            "grid_template_areas": null,
            "grid_template_columns": null,
            "grid_template_rows": null,
            "height": null,
            "justify_content": null,
            "justify_items": null,
            "left": null,
            "margin": null,
            "max_height": null,
            "max_width": null,
            "min_height": null,
            "min_width": null,
            "object_fit": null,
            "object_position": null,
            "order": null,
            "overflow": null,
            "overflow_x": null,
            "overflow_y": null,
            "padding": null,
            "right": null,
            "top": null,
            "visibility": null,
            "width": null
          }
        },
        "d0ce67d4f1b94c7191330ab036949f8a": {
          "model_module": "@jupyter-widgets/base",
          "model_name": "LayoutModel",
          "model_module_version": "1.2.0",
          "state": {
            "_model_module": "@jupyter-widgets/base",
            "_model_module_version": "1.2.0",
            "_model_name": "LayoutModel",
            "_view_count": null,
            "_view_module": "@jupyter-widgets/base",
            "_view_module_version": "1.2.0",
            "_view_name": "LayoutView",
            "align_content": null,
            "align_items": null,
            "align_self": null,
            "border": null,
            "bottom": null,
            "display": null,
            "flex": null,
            "flex_flow": null,
            "grid_area": null,
            "grid_auto_columns": null,
            "grid_auto_flow": null,
            "grid_auto_rows": null,
            "grid_column": null,
            "grid_gap": null,
            "grid_row": null,
            "grid_template_areas": null,
            "grid_template_columns": null,
            "grid_template_rows": null,
            "height": null,
            "justify_content": null,
            "justify_items": null,
            "left": null,
            "margin": null,
            "max_height": null,
            "max_width": null,
            "min_height": null,
            "min_width": null,
            "object_fit": null,
            "object_position": null,
            "order": null,
            "overflow": null,
            "overflow_x": null,
            "overflow_y": null,
            "padding": null,
            "right": null,
            "top": null,
            "visibility": null,
            "width": null
          }
        },
        "0a234f1524e84eafa77223c252745b6e": {
          "model_module": "@jupyter-widgets/controls",
          "model_name": "DescriptionStyleModel",
          "model_module_version": "1.5.0",
          "state": {
            "_model_module": "@jupyter-widgets/controls",
            "_model_module_version": "1.5.0",
            "_model_name": "DescriptionStyleModel",
            "_view_count": null,
            "_view_module": "@jupyter-widgets/base",
            "_view_module_version": "1.2.0",
            "_view_name": "StyleView",
            "description_width": ""
          }
        },
        "486e2dac18b6492f8c24eb76b5444577": {
          "model_module": "@jupyter-widgets/base",
          "model_name": "LayoutModel",
          "model_module_version": "1.2.0",
          "state": {
            "_model_module": "@jupyter-widgets/base",
            "_model_module_version": "1.2.0",
            "_model_name": "LayoutModel",
            "_view_count": null,
            "_view_module": "@jupyter-widgets/base",
            "_view_module_version": "1.2.0",
            "_view_name": "LayoutView",
            "align_content": null,
            "align_items": null,
            "align_self": null,
            "border": null,
            "bottom": null,
            "display": null,
            "flex": null,
            "flex_flow": null,
            "grid_area": null,
            "grid_auto_columns": null,
            "grid_auto_flow": null,
            "grid_auto_rows": null,
            "grid_column": null,
            "grid_gap": null,
            "grid_row": null,
            "grid_template_areas": null,
            "grid_template_columns": null,
            "grid_template_rows": null,
            "height": null,
            "justify_content": null,
            "justify_items": null,
            "left": null,
            "margin": null,
            "max_height": null,
            "max_width": null,
            "min_height": null,
            "min_width": null,
            "object_fit": null,
            "object_position": null,
            "order": null,
            "overflow": null,
            "overflow_x": null,
            "overflow_y": null,
            "padding": null,
            "right": null,
            "top": null,
            "visibility": null,
            "width": null
          }
        },
        "d5b1e43b96b546b19374b20a4914c03d": {
          "model_module": "@jupyter-widgets/controls",
          "model_name": "ProgressStyleModel",
          "model_module_version": "1.5.0",
          "state": {
            "_model_module": "@jupyter-widgets/controls",
            "_model_module_version": "1.5.0",
            "_model_name": "ProgressStyleModel",
            "_view_count": null,
            "_view_module": "@jupyter-widgets/base",
            "_view_module_version": "1.2.0",
            "_view_name": "StyleView",
            "bar_color": null,
            "description_width": ""
          }
        },
        "f1d21d04e1564a4aaa14208d86f5b2ca": {
          "model_module": "@jupyter-widgets/base",
          "model_name": "LayoutModel",
          "model_module_version": "1.2.0",
          "state": {
            "_model_module": "@jupyter-widgets/base",
            "_model_module_version": "1.2.0",
            "_model_name": "LayoutModel",
            "_view_count": null,
            "_view_module": "@jupyter-widgets/base",
            "_view_module_version": "1.2.0",
            "_view_name": "LayoutView",
            "align_content": null,
            "align_items": null,
            "align_self": null,
            "border": null,
            "bottom": null,
            "display": null,
            "flex": null,
            "flex_flow": null,
            "grid_area": null,
            "grid_auto_columns": null,
            "grid_auto_flow": null,
            "grid_auto_rows": null,
            "grid_column": null,
            "grid_gap": null,
            "grid_row": null,
            "grid_template_areas": null,
            "grid_template_columns": null,
            "grid_template_rows": null,
            "height": null,
            "justify_content": null,
            "justify_items": null,
            "left": null,
            "margin": null,
            "max_height": null,
            "max_width": null,
            "min_height": null,
            "min_width": null,
            "object_fit": null,
            "object_position": null,
            "order": null,
            "overflow": null,
            "overflow_x": null,
            "overflow_y": null,
            "padding": null,
            "right": null,
            "top": null,
            "visibility": null,
            "width": null
          }
        },
        "40673ad8fe8947059b915df6233d52b3": {
          "model_module": "@jupyter-widgets/controls",
          "model_name": "DescriptionStyleModel",
          "model_module_version": "1.5.0",
          "state": {
            "_model_module": "@jupyter-widgets/controls",
            "_model_module_version": "1.5.0",
            "_model_name": "DescriptionStyleModel",
            "_view_count": null,
            "_view_module": "@jupyter-widgets/base",
            "_view_module_version": "1.2.0",
            "_view_name": "StyleView",
            "description_width": ""
          }
        },
        "15941f6663b84af69aa6de33d9db3490": {
          "model_module": "@jupyter-widgets/controls",
          "model_name": "HBoxModel",
          "model_module_version": "1.5.0",
          "state": {
            "_dom_classes": [],
            "_model_module": "@jupyter-widgets/controls",
            "_model_module_version": "1.5.0",
            "_model_name": "HBoxModel",
            "_view_count": null,
            "_view_module": "@jupyter-widgets/controls",
            "_view_module_version": "1.5.0",
            "_view_name": "HBoxView",
            "box_style": "",
            "children": [
              "IPY_MODEL_0b949bc5f7a44d16a07ef50ef2e1aead",
              "IPY_MODEL_7c6d4ff6b27f4900a18569660b469729",
              "IPY_MODEL_f3b15f0b86e448e7ade038f9b70f7cde"
            ],
            "layout": "IPY_MODEL_e26a578ba6a5480f8be79b2c5497c76d"
          }
        },
        "0b949bc5f7a44d16a07ef50ef2e1aead": {
          "model_module": "@jupyter-widgets/controls",
          "model_name": "HTMLModel",
          "model_module_version": "1.5.0",
          "state": {
            "_dom_classes": [],
            "_model_module": "@jupyter-widgets/controls",
            "_model_module_version": "1.5.0",
            "_model_name": "HTMLModel",
            "_view_count": null,
            "_view_module": "@jupyter-widgets/controls",
            "_view_module_version": "1.5.0",
            "_view_name": "HTMLView",
            "description": "",
            "description_tooltip": null,
            "layout": "IPY_MODEL_57cf2ba7e7614e8d896f9903f7419d60",
            "placeholder": "​",
            "style": "IPY_MODEL_05bc9934a53a4c0d88d73f483f74b987",
            "value": "Downloading (…)ce_transformers.json: 100%"
          }
        },
        "7c6d4ff6b27f4900a18569660b469729": {
          "model_module": "@jupyter-widgets/controls",
          "model_name": "FloatProgressModel",
          "model_module_version": "1.5.0",
          "state": {
            "_dom_classes": [],
            "_model_module": "@jupyter-widgets/controls",
            "_model_module_version": "1.5.0",
            "_model_name": "FloatProgressModel",
            "_view_count": null,
            "_view_module": "@jupyter-widgets/controls",
            "_view_module_version": "1.5.0",
            "_view_name": "ProgressView",
            "bar_style": "success",
            "description": "",
            "description_tooltip": null,
            "layout": "IPY_MODEL_9bdb4d83828a40d09e3789853d24d721",
            "max": 116,
            "min": 0,
            "orientation": "horizontal",
            "style": "IPY_MODEL_8cbcfa24a9ad44a0851d0c8c367da046",
            "value": 116
          }
        },
        "f3b15f0b86e448e7ade038f9b70f7cde": {
          "model_module": "@jupyter-widgets/controls",
          "model_name": "HTMLModel",
          "model_module_version": "1.5.0",
          "state": {
            "_dom_classes": [],
            "_model_module": "@jupyter-widgets/controls",
            "_model_module_version": "1.5.0",
            "_model_name": "HTMLModel",
            "_view_count": null,
            "_view_module": "@jupyter-widgets/controls",
            "_view_module_version": "1.5.0",
            "_view_name": "HTMLView",
            "description": "",
            "description_tooltip": null,
            "layout": "IPY_MODEL_c59324603e7a429887602f5e48b62766",
            "placeholder": "​",
            "style": "IPY_MODEL_d69156f94c5a45129fee40a2264dd09f",
            "value": " 116/116 [00:00&lt;00:00, 6.77kB/s]"
          }
        },
        "e26a578ba6a5480f8be79b2c5497c76d": {
          "model_module": "@jupyter-widgets/base",
          "model_name": "LayoutModel",
          "model_module_version": "1.2.0",
          "state": {
            "_model_module": "@jupyter-widgets/base",
            "_model_module_version": "1.2.0",
            "_model_name": "LayoutModel",
            "_view_count": null,
            "_view_module": "@jupyter-widgets/base",
            "_view_module_version": "1.2.0",
            "_view_name": "LayoutView",
            "align_content": null,
            "align_items": null,
            "align_self": null,
            "border": null,
            "bottom": null,
            "display": null,
            "flex": null,
            "flex_flow": null,
            "grid_area": null,
            "grid_auto_columns": null,
            "grid_auto_flow": null,
            "grid_auto_rows": null,
            "grid_column": null,
            "grid_gap": null,
            "grid_row": null,
            "grid_template_areas": null,
            "grid_template_columns": null,
            "grid_template_rows": null,
            "height": null,
            "justify_content": null,
            "justify_items": null,
            "left": null,
            "margin": null,
            "max_height": null,
            "max_width": null,
            "min_height": null,
            "min_width": null,
            "object_fit": null,
            "object_position": null,
            "order": null,
            "overflow": null,
            "overflow_x": null,
            "overflow_y": null,
            "padding": null,
            "right": null,
            "top": null,
            "visibility": null,
            "width": null
          }
        },
        "57cf2ba7e7614e8d896f9903f7419d60": {
          "model_module": "@jupyter-widgets/base",
          "model_name": "LayoutModel",
          "model_module_version": "1.2.0",
          "state": {
            "_model_module": "@jupyter-widgets/base",
            "_model_module_version": "1.2.0",
            "_model_name": "LayoutModel",
            "_view_count": null,
            "_view_module": "@jupyter-widgets/base",
            "_view_module_version": "1.2.0",
            "_view_name": "LayoutView",
            "align_content": null,
            "align_items": null,
            "align_self": null,
            "border": null,
            "bottom": null,
            "display": null,
            "flex": null,
            "flex_flow": null,
            "grid_area": null,
            "grid_auto_columns": null,
            "grid_auto_flow": null,
            "grid_auto_rows": null,
            "grid_column": null,
            "grid_gap": null,
            "grid_row": null,
            "grid_template_areas": null,
            "grid_template_columns": null,
            "grid_template_rows": null,
            "height": null,
            "justify_content": null,
            "justify_items": null,
            "left": null,
            "margin": null,
            "max_height": null,
            "max_width": null,
            "min_height": null,
            "min_width": null,
            "object_fit": null,
            "object_position": null,
            "order": null,
            "overflow": null,
            "overflow_x": null,
            "overflow_y": null,
            "padding": null,
            "right": null,
            "top": null,
            "visibility": null,
            "width": null
          }
        },
        "05bc9934a53a4c0d88d73f483f74b987": {
          "model_module": "@jupyter-widgets/controls",
          "model_name": "DescriptionStyleModel",
          "model_module_version": "1.5.0",
          "state": {
            "_model_module": "@jupyter-widgets/controls",
            "_model_module_version": "1.5.0",
            "_model_name": "DescriptionStyleModel",
            "_view_count": null,
            "_view_module": "@jupyter-widgets/base",
            "_view_module_version": "1.2.0",
            "_view_name": "StyleView",
            "description_width": ""
          }
        },
        "9bdb4d83828a40d09e3789853d24d721": {
          "model_module": "@jupyter-widgets/base",
          "model_name": "LayoutModel",
          "model_module_version": "1.2.0",
          "state": {
            "_model_module": "@jupyter-widgets/base",
            "_model_module_version": "1.2.0",
            "_model_name": "LayoutModel",
            "_view_count": null,
            "_view_module": "@jupyter-widgets/base",
            "_view_module_version": "1.2.0",
            "_view_name": "LayoutView",
            "align_content": null,
            "align_items": null,
            "align_self": null,
            "border": null,
            "bottom": null,
            "display": null,
            "flex": null,
            "flex_flow": null,
            "grid_area": null,
            "grid_auto_columns": null,
            "grid_auto_flow": null,
            "grid_auto_rows": null,
            "grid_column": null,
            "grid_gap": null,
            "grid_row": null,
            "grid_template_areas": null,
            "grid_template_columns": null,
            "grid_template_rows": null,
            "height": null,
            "justify_content": null,
            "justify_items": null,
            "left": null,
            "margin": null,
            "max_height": null,
            "max_width": null,
            "min_height": null,
            "min_width": null,
            "object_fit": null,
            "object_position": null,
            "order": null,
            "overflow": null,
            "overflow_x": null,
            "overflow_y": null,
            "padding": null,
            "right": null,
            "top": null,
            "visibility": null,
            "width": null
          }
        },
        "8cbcfa24a9ad44a0851d0c8c367da046": {
          "model_module": "@jupyter-widgets/controls",
          "model_name": "ProgressStyleModel",
          "model_module_version": "1.5.0",
          "state": {
            "_model_module": "@jupyter-widgets/controls",
            "_model_module_version": "1.5.0",
            "_model_name": "ProgressStyleModel",
            "_view_count": null,
            "_view_module": "@jupyter-widgets/base",
            "_view_module_version": "1.2.0",
            "_view_name": "StyleView",
            "bar_color": null,
            "description_width": ""
          }
        },
        "c59324603e7a429887602f5e48b62766": {
          "model_module": "@jupyter-widgets/base",
          "model_name": "LayoutModel",
          "model_module_version": "1.2.0",
          "state": {
            "_model_module": "@jupyter-widgets/base",
            "_model_module_version": "1.2.0",
            "_model_name": "LayoutModel",
            "_view_count": null,
            "_view_module": "@jupyter-widgets/base",
            "_view_module_version": "1.2.0",
            "_view_name": "LayoutView",
            "align_content": null,
            "align_items": null,
            "align_self": null,
            "border": null,
            "bottom": null,
            "display": null,
            "flex": null,
            "flex_flow": null,
            "grid_area": null,
            "grid_auto_columns": null,
            "grid_auto_flow": null,
            "grid_auto_rows": null,
            "grid_column": null,
            "grid_gap": null,
            "grid_row": null,
            "grid_template_areas": null,
            "grid_template_columns": null,
            "grid_template_rows": null,
            "height": null,
            "justify_content": null,
            "justify_items": null,
            "left": null,
            "margin": null,
            "max_height": null,
            "max_width": null,
            "min_height": null,
            "min_width": null,
            "object_fit": null,
            "object_position": null,
            "order": null,
            "overflow": null,
            "overflow_x": null,
            "overflow_y": null,
            "padding": null,
            "right": null,
            "top": null,
            "visibility": null,
            "width": null
          }
        },
        "d69156f94c5a45129fee40a2264dd09f": {
          "model_module": "@jupyter-widgets/controls",
          "model_name": "DescriptionStyleModel",
          "model_module_version": "1.5.0",
          "state": {
            "_model_module": "@jupyter-widgets/controls",
            "_model_module_version": "1.5.0",
            "_model_name": "DescriptionStyleModel",
            "_view_count": null,
            "_view_module": "@jupyter-widgets/base",
            "_view_module_version": "1.2.0",
            "_view_name": "StyleView",
            "description_width": ""
          }
        },
        "db5b47b2c39c48f3a512444b165089bc": {
          "model_module": "@jupyter-widgets/controls",
          "model_name": "HBoxModel",
          "model_module_version": "1.5.0",
          "state": {
            "_dom_classes": [],
            "_model_module": "@jupyter-widgets/controls",
            "_model_module_version": "1.5.0",
            "_model_name": "HBoxModel",
            "_view_count": null,
            "_view_module": "@jupyter-widgets/controls",
            "_view_module_version": "1.5.0",
            "_view_name": "HBoxView",
            "box_style": "",
            "children": [
              "IPY_MODEL_996a70218ed24ad6a2c55b6f8eee5eef",
              "IPY_MODEL_b4b5f09ab1c542d28d6d336151e59663",
              "IPY_MODEL_f259a96ab61b46508e60e6e59171651d"
            ],
            "layout": "IPY_MODEL_a3d2be8e95a74ec0b76ba0b7755d2c55"
          }
        },
        "996a70218ed24ad6a2c55b6f8eee5eef": {
          "model_module": "@jupyter-widgets/controls",
          "model_name": "HTMLModel",
          "model_module_version": "1.5.0",
          "state": {
            "_dom_classes": [],
            "_model_module": "@jupyter-widgets/controls",
            "_model_module_version": "1.5.0",
            "_model_name": "HTMLModel",
            "_view_count": null,
            "_view_module": "@jupyter-widgets/controls",
            "_view_module_version": "1.5.0",
            "_view_name": "HTMLView",
            "description": "",
            "description_tooltip": null,
            "layout": "IPY_MODEL_bc6f319c8714469b837382fc111d180e",
            "placeholder": "​",
            "style": "IPY_MODEL_f37f798ec324493bbaf38d66faf9e7d5",
            "value": "Downloading (…)e1d/data_config.json: 100%"
          }
        },
        "b4b5f09ab1c542d28d6d336151e59663": {
          "model_module": "@jupyter-widgets/controls",
          "model_name": "FloatProgressModel",
          "model_module_version": "1.5.0",
          "state": {
            "_dom_classes": [],
            "_model_module": "@jupyter-widgets/controls",
            "_model_module_version": "1.5.0",
            "_model_name": "FloatProgressModel",
            "_view_count": null,
            "_view_module": "@jupyter-widgets/controls",
            "_view_module_version": "1.5.0",
            "_view_name": "ProgressView",
            "bar_style": "success",
            "description": "",
            "description_tooltip": null,
            "layout": "IPY_MODEL_f429b851d8fd4552afe208fdb7728803",
            "max": 39265,
            "min": 0,
            "orientation": "horizontal",
            "style": "IPY_MODEL_6503face46de47c4b1acd439595a6ca2",
            "value": 39265
          }
        },
        "f259a96ab61b46508e60e6e59171651d": {
          "model_module": "@jupyter-widgets/controls",
          "model_name": "HTMLModel",
          "model_module_version": "1.5.0",
          "state": {
            "_dom_classes": [],
            "_model_module": "@jupyter-widgets/controls",
            "_model_module_version": "1.5.0",
            "_model_name": "HTMLModel",
            "_view_count": null,
            "_view_module": "@jupyter-widgets/controls",
            "_view_module_version": "1.5.0",
            "_view_name": "HTMLView",
            "description": "",
            "description_tooltip": null,
            "layout": "IPY_MODEL_afda936f40c34025a705340862712253",
            "placeholder": "​",
            "style": "IPY_MODEL_82978a803d89438abfc8a0087ffeee32",
            "value": " 39.3k/39.3k [00:00&lt;00:00, 1.59MB/s]"
          }
        },
        "a3d2be8e95a74ec0b76ba0b7755d2c55": {
          "model_module": "@jupyter-widgets/base",
          "model_name": "LayoutModel",
          "model_module_version": "1.2.0",
          "state": {
            "_model_module": "@jupyter-widgets/base",
            "_model_module_version": "1.2.0",
            "_model_name": "LayoutModel",
            "_view_count": null,
            "_view_module": "@jupyter-widgets/base",
            "_view_module_version": "1.2.0",
            "_view_name": "LayoutView",
            "align_content": null,
            "align_items": null,
            "align_self": null,
            "border": null,
            "bottom": null,
            "display": null,
            "flex": null,
            "flex_flow": null,
            "grid_area": null,
            "grid_auto_columns": null,
            "grid_auto_flow": null,
            "grid_auto_rows": null,
            "grid_column": null,
            "grid_gap": null,
            "grid_row": null,
            "grid_template_areas": null,
            "grid_template_columns": null,
            "grid_template_rows": null,
            "height": null,
            "justify_content": null,
            "justify_items": null,
            "left": null,
            "margin": null,
            "max_height": null,
            "max_width": null,
            "min_height": null,
            "min_width": null,
            "object_fit": null,
            "object_position": null,
            "order": null,
            "overflow": null,
            "overflow_x": null,
            "overflow_y": null,
            "padding": null,
            "right": null,
            "top": null,
            "visibility": null,
            "width": null
          }
        },
        "bc6f319c8714469b837382fc111d180e": {
          "model_module": "@jupyter-widgets/base",
          "model_name": "LayoutModel",
          "model_module_version": "1.2.0",
          "state": {
            "_model_module": "@jupyter-widgets/base",
            "_model_module_version": "1.2.0",
            "_model_name": "LayoutModel",
            "_view_count": null,
            "_view_module": "@jupyter-widgets/base",
            "_view_module_version": "1.2.0",
            "_view_name": "LayoutView",
            "align_content": null,
            "align_items": null,
            "align_self": null,
            "border": null,
            "bottom": null,
            "display": null,
            "flex": null,
            "flex_flow": null,
            "grid_area": null,
            "grid_auto_columns": null,
            "grid_auto_flow": null,
            "grid_auto_rows": null,
            "grid_column": null,
            "grid_gap": null,
            "grid_row": null,
            "grid_template_areas": null,
            "grid_template_columns": null,
            "grid_template_rows": null,
            "height": null,
            "justify_content": null,
            "justify_items": null,
            "left": null,
            "margin": null,
            "max_height": null,
            "max_width": null,
            "min_height": null,
            "min_width": null,
            "object_fit": null,
            "object_position": null,
            "order": null,
            "overflow": null,
            "overflow_x": null,
            "overflow_y": null,
            "padding": null,
            "right": null,
            "top": null,
            "visibility": null,
            "width": null
          }
        },
        "f37f798ec324493bbaf38d66faf9e7d5": {
          "model_module": "@jupyter-widgets/controls",
          "model_name": "DescriptionStyleModel",
          "model_module_version": "1.5.0",
          "state": {
            "_model_module": "@jupyter-widgets/controls",
            "_model_module_version": "1.5.0",
            "_model_name": "DescriptionStyleModel",
            "_view_count": null,
            "_view_module": "@jupyter-widgets/base",
            "_view_module_version": "1.2.0",
            "_view_name": "StyleView",
            "description_width": ""
          }
        },
        "f429b851d8fd4552afe208fdb7728803": {
          "model_module": "@jupyter-widgets/base",
          "model_name": "LayoutModel",
          "model_module_version": "1.2.0",
          "state": {
            "_model_module": "@jupyter-widgets/base",
            "_model_module_version": "1.2.0",
            "_model_name": "LayoutModel",
            "_view_count": null,
            "_view_module": "@jupyter-widgets/base",
            "_view_module_version": "1.2.0",
            "_view_name": "LayoutView",
            "align_content": null,
            "align_items": null,
            "align_self": null,
            "border": null,
            "bottom": null,
            "display": null,
            "flex": null,
            "flex_flow": null,
            "grid_area": null,
            "grid_auto_columns": null,
            "grid_auto_flow": null,
            "grid_auto_rows": null,
            "grid_column": null,
            "grid_gap": null,
            "grid_row": null,
            "grid_template_areas": null,
            "grid_template_columns": null,
            "grid_template_rows": null,
            "height": null,
            "justify_content": null,
            "justify_items": null,
            "left": null,
            "margin": null,
            "max_height": null,
            "max_width": null,
            "min_height": null,
            "min_width": null,
            "object_fit": null,
            "object_position": null,
            "order": null,
            "overflow": null,
            "overflow_x": null,
            "overflow_y": null,
            "padding": null,
            "right": null,
            "top": null,
            "visibility": null,
            "width": null
          }
        },
        "6503face46de47c4b1acd439595a6ca2": {
          "model_module": "@jupyter-widgets/controls",
          "model_name": "ProgressStyleModel",
          "model_module_version": "1.5.0",
          "state": {
            "_model_module": "@jupyter-widgets/controls",
            "_model_module_version": "1.5.0",
            "_model_name": "ProgressStyleModel",
            "_view_count": null,
            "_view_module": "@jupyter-widgets/base",
            "_view_module_version": "1.2.0",
            "_view_name": "StyleView",
            "bar_color": null,
            "description_width": ""
          }
        },
        "afda936f40c34025a705340862712253": {
          "model_module": "@jupyter-widgets/base",
          "model_name": "LayoutModel",
          "model_module_version": "1.2.0",
          "state": {
            "_model_module": "@jupyter-widgets/base",
            "_model_module_version": "1.2.0",
            "_model_name": "LayoutModel",
            "_view_count": null,
            "_view_module": "@jupyter-widgets/base",
            "_view_module_version": "1.2.0",
            "_view_name": "LayoutView",
            "align_content": null,
            "align_items": null,
            "align_self": null,
            "border": null,
            "bottom": null,
            "display": null,
            "flex": null,
            "flex_flow": null,
            "grid_area": null,
            "grid_auto_columns": null,
            "grid_auto_flow": null,
            "grid_auto_rows": null,
            "grid_column": null,
            "grid_gap": null,
            "grid_row": null,
            "grid_template_areas": null,
            "grid_template_columns": null,
            "grid_template_rows": null,
            "height": null,
            "justify_content": null,
            "justify_items": null,
            "left": null,
            "margin": null,
            "max_height": null,
            "max_width": null,
            "min_height": null,
            "min_width": null,
            "object_fit": null,
            "object_position": null,
            "order": null,
            "overflow": null,
            "overflow_x": null,
            "overflow_y": null,
            "padding": null,
            "right": null,
            "top": null,
            "visibility": null,
            "width": null
          }
        },
        "82978a803d89438abfc8a0087ffeee32": {
          "model_module": "@jupyter-widgets/controls",
          "model_name": "DescriptionStyleModel",
          "model_module_version": "1.5.0",
          "state": {
            "_model_module": "@jupyter-widgets/controls",
            "_model_module_version": "1.5.0",
            "_model_name": "DescriptionStyleModel",
            "_view_count": null,
            "_view_module": "@jupyter-widgets/base",
            "_view_module_version": "1.2.0",
            "_view_name": "StyleView",
            "description_width": ""
          }
        },
        "76334dbcd2924884b22063f00ecebe09": {
          "model_module": "@jupyter-widgets/controls",
          "model_name": "HBoxModel",
          "model_module_version": "1.5.0",
          "state": {
            "_dom_classes": [],
            "_model_module": "@jupyter-widgets/controls",
            "_model_module_version": "1.5.0",
            "_model_name": "HBoxModel",
            "_view_count": null,
            "_view_module": "@jupyter-widgets/controls",
            "_view_module_version": "1.5.0",
            "_view_name": "HBoxView",
            "box_style": "",
            "children": [
              "IPY_MODEL_933bad4c91ec44bcb8b3aaa917d44352",
              "IPY_MODEL_a8f596c10341443d854f2d398a430153",
              "IPY_MODEL_ae1b73cf99554e23a7cca78055918256"
            ],
            "layout": "IPY_MODEL_8e155572bf67413eb4a2f49fb295e008"
          }
        },
        "933bad4c91ec44bcb8b3aaa917d44352": {
          "model_module": "@jupyter-widgets/controls",
          "model_name": "HTMLModel",
          "model_module_version": "1.5.0",
          "state": {
            "_dom_classes": [],
            "_model_module": "@jupyter-widgets/controls",
            "_model_module_version": "1.5.0",
            "_model_name": "HTMLModel",
            "_view_count": null,
            "_view_module": "@jupyter-widgets/controls",
            "_view_module_version": "1.5.0",
            "_view_name": "HTMLView",
            "description": "",
            "description_tooltip": null,
            "layout": "IPY_MODEL_5e3a74e71d104af689cb274e73088e61",
            "placeholder": "​",
            "style": "IPY_MODEL_b45dedfa017440aca599f1bba1005630",
            "value": "Downloading pytorch_model.bin: 100%"
          }
        },
        "a8f596c10341443d854f2d398a430153": {
          "model_module": "@jupyter-widgets/controls",
          "model_name": "FloatProgressModel",
          "model_module_version": "1.5.0",
          "state": {
            "_dom_classes": [],
            "_model_module": "@jupyter-widgets/controls",
            "_model_module_version": "1.5.0",
            "_model_name": "FloatProgressModel",
            "_view_count": null,
            "_view_module": "@jupyter-widgets/controls",
            "_view_module_version": "1.5.0",
            "_view_name": "ProgressView",
            "bar_style": "success",
            "description": "",
            "description_tooltip": null,
            "layout": "IPY_MODEL_bed25c8e38ba4443bd8af5c2f70d3936",
            "max": 438011953,
            "min": 0,
            "orientation": "horizontal",
            "style": "IPY_MODEL_7586c962ddc04439b8db3763491f8afa",
            "value": 438011953
          }
        },
        "ae1b73cf99554e23a7cca78055918256": {
          "model_module": "@jupyter-widgets/controls",
          "model_name": "HTMLModel",
          "model_module_version": "1.5.0",
          "state": {
            "_dom_classes": [],
            "_model_module": "@jupyter-widgets/controls",
            "_model_module_version": "1.5.0",
            "_model_name": "HTMLModel",
            "_view_count": null,
            "_view_module": "@jupyter-widgets/controls",
            "_view_module_version": "1.5.0",
            "_view_name": "HTMLView",
            "description": "",
            "description_tooltip": null,
            "layout": "IPY_MODEL_838f50f53fd34e5db691b1b4c99ddb8e",
            "placeholder": "​",
            "style": "IPY_MODEL_789c5f9814c54a9db7f8ce826bba7168",
            "value": " 438M/438M [00:04&lt;00:00, 63.8MB/s]"
          }
        },
        "8e155572bf67413eb4a2f49fb295e008": {
          "model_module": "@jupyter-widgets/base",
          "model_name": "LayoutModel",
          "model_module_version": "1.2.0",
          "state": {
            "_model_module": "@jupyter-widgets/base",
            "_model_module_version": "1.2.0",
            "_model_name": "LayoutModel",
            "_view_count": null,
            "_view_module": "@jupyter-widgets/base",
            "_view_module_version": "1.2.0",
            "_view_name": "LayoutView",
            "align_content": null,
            "align_items": null,
            "align_self": null,
            "border": null,
            "bottom": null,
            "display": null,
            "flex": null,
            "flex_flow": null,
            "grid_area": null,
            "grid_auto_columns": null,
            "grid_auto_flow": null,
            "grid_auto_rows": null,
            "grid_column": null,
            "grid_gap": null,
            "grid_row": null,
            "grid_template_areas": null,
            "grid_template_columns": null,
            "grid_template_rows": null,
            "height": null,
            "justify_content": null,
            "justify_items": null,
            "left": null,
            "margin": null,
            "max_height": null,
            "max_width": null,
            "min_height": null,
            "min_width": null,
            "object_fit": null,
            "object_position": null,
            "order": null,
            "overflow": null,
            "overflow_x": null,
            "overflow_y": null,
            "padding": null,
            "right": null,
            "top": null,
            "visibility": null,
            "width": null
          }
        },
        "5e3a74e71d104af689cb274e73088e61": {
          "model_module": "@jupyter-widgets/base",
          "model_name": "LayoutModel",
          "model_module_version": "1.2.0",
          "state": {
            "_model_module": "@jupyter-widgets/base",
            "_model_module_version": "1.2.0",
            "_model_name": "LayoutModel",
            "_view_count": null,
            "_view_module": "@jupyter-widgets/base",
            "_view_module_version": "1.2.0",
            "_view_name": "LayoutView",
            "align_content": null,
            "align_items": null,
            "align_self": null,
            "border": null,
            "bottom": null,
            "display": null,
            "flex": null,
            "flex_flow": null,
            "grid_area": null,
            "grid_auto_columns": null,
            "grid_auto_flow": null,
            "grid_auto_rows": null,
            "grid_column": null,
            "grid_gap": null,
            "grid_row": null,
            "grid_template_areas": null,
            "grid_template_columns": null,
            "grid_template_rows": null,
            "height": null,
            "justify_content": null,
            "justify_items": null,
            "left": null,
            "margin": null,
            "max_height": null,
            "max_width": null,
            "min_height": null,
            "min_width": null,
            "object_fit": null,
            "object_position": null,
            "order": null,
            "overflow": null,
            "overflow_x": null,
            "overflow_y": null,
            "padding": null,
            "right": null,
            "top": null,
            "visibility": null,
            "width": null
          }
        },
        "b45dedfa017440aca599f1bba1005630": {
          "model_module": "@jupyter-widgets/controls",
          "model_name": "DescriptionStyleModel",
          "model_module_version": "1.5.0",
          "state": {
            "_model_module": "@jupyter-widgets/controls",
            "_model_module_version": "1.5.0",
            "_model_name": "DescriptionStyleModel",
            "_view_count": null,
            "_view_module": "@jupyter-widgets/base",
            "_view_module_version": "1.2.0",
            "_view_name": "StyleView",
            "description_width": ""
          }
        },
        "bed25c8e38ba4443bd8af5c2f70d3936": {
          "model_module": "@jupyter-widgets/base",
          "model_name": "LayoutModel",
          "model_module_version": "1.2.0",
          "state": {
            "_model_module": "@jupyter-widgets/base",
            "_model_module_version": "1.2.0",
            "_model_name": "LayoutModel",
            "_view_count": null,
            "_view_module": "@jupyter-widgets/base",
            "_view_module_version": "1.2.0",
            "_view_name": "LayoutView",
            "align_content": null,
            "align_items": null,
            "align_self": null,
            "border": null,
            "bottom": null,
            "display": null,
            "flex": null,
            "flex_flow": null,
            "grid_area": null,
            "grid_auto_columns": null,
            "grid_auto_flow": null,
            "grid_auto_rows": null,
            "grid_column": null,
            "grid_gap": null,
            "grid_row": null,
            "grid_template_areas": null,
            "grid_template_columns": null,
            "grid_template_rows": null,
            "height": null,
            "justify_content": null,
            "justify_items": null,
            "left": null,
            "margin": null,
            "max_height": null,
            "max_width": null,
            "min_height": null,
            "min_width": null,
            "object_fit": null,
            "object_position": null,
            "order": null,
            "overflow": null,
            "overflow_x": null,
            "overflow_y": null,
            "padding": null,
            "right": null,
            "top": null,
            "visibility": null,
            "width": null
          }
        },
        "7586c962ddc04439b8db3763491f8afa": {
          "model_module": "@jupyter-widgets/controls",
          "model_name": "ProgressStyleModel",
          "model_module_version": "1.5.0",
          "state": {
            "_model_module": "@jupyter-widgets/controls",
            "_model_module_version": "1.5.0",
            "_model_name": "ProgressStyleModel",
            "_view_count": null,
            "_view_module": "@jupyter-widgets/base",
            "_view_module_version": "1.2.0",
            "_view_name": "StyleView",
            "bar_color": null,
            "description_width": ""
          }
        },
        "838f50f53fd34e5db691b1b4c99ddb8e": {
          "model_module": "@jupyter-widgets/base",
          "model_name": "LayoutModel",
          "model_module_version": "1.2.0",
          "state": {
            "_model_module": "@jupyter-widgets/base",
            "_model_module_version": "1.2.0",
            "_model_name": "LayoutModel",
            "_view_count": null,
            "_view_module": "@jupyter-widgets/base",
            "_view_module_version": "1.2.0",
            "_view_name": "LayoutView",
            "align_content": null,
            "align_items": null,
            "align_self": null,
            "border": null,
            "bottom": null,
            "display": null,
            "flex": null,
            "flex_flow": null,
            "grid_area": null,
            "grid_auto_columns": null,
            "grid_auto_flow": null,
            "grid_auto_rows": null,
            "grid_column": null,
            "grid_gap": null,
            "grid_row": null,
            "grid_template_areas": null,
            "grid_template_columns": null,
            "grid_template_rows": null,
            "height": null,
            "justify_content": null,
            "justify_items": null,
            "left": null,
            "margin": null,
            "max_height": null,
            "max_width": null,
            "min_height": null,
            "min_width": null,
            "object_fit": null,
            "object_position": null,
            "order": null,
            "overflow": null,
            "overflow_x": null,
            "overflow_y": null,
            "padding": null,
            "right": null,
            "top": null,
            "visibility": null,
            "width": null
          }
        },
        "789c5f9814c54a9db7f8ce826bba7168": {
          "model_module": "@jupyter-widgets/controls",
          "model_name": "DescriptionStyleModel",
          "model_module_version": "1.5.0",
          "state": {
            "_model_module": "@jupyter-widgets/controls",
            "_model_module_version": "1.5.0",
            "_model_name": "DescriptionStyleModel",
            "_view_count": null,
            "_view_module": "@jupyter-widgets/base",
            "_view_module_version": "1.2.0",
            "_view_name": "StyleView",
            "description_width": ""
          }
        },
        "d1840fe6cbe4496c8f3c2aa77f3c9756": {
          "model_module": "@jupyter-widgets/controls",
          "model_name": "HBoxModel",
          "model_module_version": "1.5.0",
          "state": {
            "_dom_classes": [],
            "_model_module": "@jupyter-widgets/controls",
            "_model_module_version": "1.5.0",
            "_model_name": "HBoxModel",
            "_view_count": null,
            "_view_module": "@jupyter-widgets/controls",
            "_view_module_version": "1.5.0",
            "_view_name": "HBoxView",
            "box_style": "",
            "children": [
              "IPY_MODEL_d93ab6420e12462691a639b663f13840",
              "IPY_MODEL_757e845e8256417da0a76e9427fb50d4",
              "IPY_MODEL_61ed2b170880406d9e6d4d268dfdd8de"
            ],
            "layout": "IPY_MODEL_7d4faebdc7cb404a976312dedc4cdedc"
          }
        },
        "d93ab6420e12462691a639b663f13840": {
          "model_module": "@jupyter-widgets/controls",
          "model_name": "HTMLModel",
          "model_module_version": "1.5.0",
          "state": {
            "_dom_classes": [],
            "_model_module": "@jupyter-widgets/controls",
            "_model_module_version": "1.5.0",
            "_model_name": "HTMLModel",
            "_view_count": null,
            "_view_module": "@jupyter-widgets/controls",
            "_view_module_version": "1.5.0",
            "_view_name": "HTMLView",
            "description": "",
            "description_tooltip": null,
            "layout": "IPY_MODEL_5dbc16755b974dfda2a87b6c83c9f74f",
            "placeholder": "​",
            "style": "IPY_MODEL_da983a1fb5cc45f5bb47762bd7d8b9dd",
            "value": "Downloading (…)nce_bert_config.json: 100%"
          }
        },
        "757e845e8256417da0a76e9427fb50d4": {
          "model_module": "@jupyter-widgets/controls",
          "model_name": "FloatProgressModel",
          "model_module_version": "1.5.0",
          "state": {
            "_dom_classes": [],
            "_model_module": "@jupyter-widgets/controls",
            "_model_module_version": "1.5.0",
            "_model_name": "FloatProgressModel",
            "_view_count": null,
            "_view_module": "@jupyter-widgets/controls",
            "_view_module_version": "1.5.0",
            "_view_name": "ProgressView",
            "bar_style": "success",
            "description": "",
            "description_tooltip": null,
            "layout": "IPY_MODEL_2e1a3f9a0b964445a105feda2f9c2bd2",
            "max": 53,
            "min": 0,
            "orientation": "horizontal",
            "style": "IPY_MODEL_31cecdb499e2438686bfcfc984bc36db",
            "value": 53
          }
        },
        "61ed2b170880406d9e6d4d268dfdd8de": {
          "model_module": "@jupyter-widgets/controls",
          "model_name": "HTMLModel",
          "model_module_version": "1.5.0",
          "state": {
            "_dom_classes": [],
            "_model_module": "@jupyter-widgets/controls",
            "_model_module_version": "1.5.0",
            "_model_name": "HTMLModel",
            "_view_count": null,
            "_view_module": "@jupyter-widgets/controls",
            "_view_module_version": "1.5.0",
            "_view_name": "HTMLView",
            "description": "",
            "description_tooltip": null,
            "layout": "IPY_MODEL_32e2014801e54d08bad726f98720ef41",
            "placeholder": "​",
            "style": "IPY_MODEL_5a9f5f7546bd415eaa4c5cdce5a8ce75",
            "value": " 53.0/53.0 [00:00&lt;00:00, 3.11kB/s]"
          }
        },
        "7d4faebdc7cb404a976312dedc4cdedc": {
          "model_module": "@jupyter-widgets/base",
          "model_name": "LayoutModel",
          "model_module_version": "1.2.0",
          "state": {
            "_model_module": "@jupyter-widgets/base",
            "_model_module_version": "1.2.0",
            "_model_name": "LayoutModel",
            "_view_count": null,
            "_view_module": "@jupyter-widgets/base",
            "_view_module_version": "1.2.0",
            "_view_name": "LayoutView",
            "align_content": null,
            "align_items": null,
            "align_self": null,
            "border": null,
            "bottom": null,
            "display": null,
            "flex": null,
            "flex_flow": null,
            "grid_area": null,
            "grid_auto_columns": null,
            "grid_auto_flow": null,
            "grid_auto_rows": null,
            "grid_column": null,
            "grid_gap": null,
            "grid_row": null,
            "grid_template_areas": null,
            "grid_template_columns": null,
            "grid_template_rows": null,
            "height": null,
            "justify_content": null,
            "justify_items": null,
            "left": null,
            "margin": null,
            "max_height": null,
            "max_width": null,
            "min_height": null,
            "min_width": null,
            "object_fit": null,
            "object_position": null,
            "order": null,
            "overflow": null,
            "overflow_x": null,
            "overflow_y": null,
            "padding": null,
            "right": null,
            "top": null,
            "visibility": null,
            "width": null
          }
        },
        "5dbc16755b974dfda2a87b6c83c9f74f": {
          "model_module": "@jupyter-widgets/base",
          "model_name": "LayoutModel",
          "model_module_version": "1.2.0",
          "state": {
            "_model_module": "@jupyter-widgets/base",
            "_model_module_version": "1.2.0",
            "_model_name": "LayoutModel",
            "_view_count": null,
            "_view_module": "@jupyter-widgets/base",
            "_view_module_version": "1.2.0",
            "_view_name": "LayoutView",
            "align_content": null,
            "align_items": null,
            "align_self": null,
            "border": null,
            "bottom": null,
            "display": null,
            "flex": null,
            "flex_flow": null,
            "grid_area": null,
            "grid_auto_columns": null,
            "grid_auto_flow": null,
            "grid_auto_rows": null,
            "grid_column": null,
            "grid_gap": null,
            "grid_row": null,
            "grid_template_areas": null,
            "grid_template_columns": null,
            "grid_template_rows": null,
            "height": null,
            "justify_content": null,
            "justify_items": null,
            "left": null,
            "margin": null,
            "max_height": null,
            "max_width": null,
            "min_height": null,
            "min_width": null,
            "object_fit": null,
            "object_position": null,
            "order": null,
            "overflow": null,
            "overflow_x": null,
            "overflow_y": null,
            "padding": null,
            "right": null,
            "top": null,
            "visibility": null,
            "width": null
          }
        },
        "da983a1fb5cc45f5bb47762bd7d8b9dd": {
          "model_module": "@jupyter-widgets/controls",
          "model_name": "DescriptionStyleModel",
          "model_module_version": "1.5.0",
          "state": {
            "_model_module": "@jupyter-widgets/controls",
            "_model_module_version": "1.5.0",
            "_model_name": "DescriptionStyleModel",
            "_view_count": null,
            "_view_module": "@jupyter-widgets/base",
            "_view_module_version": "1.2.0",
            "_view_name": "StyleView",
            "description_width": ""
          }
        },
        "2e1a3f9a0b964445a105feda2f9c2bd2": {
          "model_module": "@jupyter-widgets/base",
          "model_name": "LayoutModel",
          "model_module_version": "1.2.0",
          "state": {
            "_model_module": "@jupyter-widgets/base",
            "_model_module_version": "1.2.0",
            "_model_name": "LayoutModel",
            "_view_count": null,
            "_view_module": "@jupyter-widgets/base",
            "_view_module_version": "1.2.0",
            "_view_name": "LayoutView",
            "align_content": null,
            "align_items": null,
            "align_self": null,
            "border": null,
            "bottom": null,
            "display": null,
            "flex": null,
            "flex_flow": null,
            "grid_area": null,
            "grid_auto_columns": null,
            "grid_auto_flow": null,
            "grid_auto_rows": null,
            "grid_column": null,
            "grid_gap": null,
            "grid_row": null,
            "grid_template_areas": null,
            "grid_template_columns": null,
            "grid_template_rows": null,
            "height": null,
            "justify_content": null,
            "justify_items": null,
            "left": null,
            "margin": null,
            "max_height": null,
            "max_width": null,
            "min_height": null,
            "min_width": null,
            "object_fit": null,
            "object_position": null,
            "order": null,
            "overflow": null,
            "overflow_x": null,
            "overflow_y": null,
            "padding": null,
            "right": null,
            "top": null,
            "visibility": null,
            "width": null
          }
        },
        "31cecdb499e2438686bfcfc984bc36db": {
          "model_module": "@jupyter-widgets/controls",
          "model_name": "ProgressStyleModel",
          "model_module_version": "1.5.0",
          "state": {
            "_model_module": "@jupyter-widgets/controls",
            "_model_module_version": "1.5.0",
            "_model_name": "ProgressStyleModel",
            "_view_count": null,
            "_view_module": "@jupyter-widgets/base",
            "_view_module_version": "1.2.0",
            "_view_name": "StyleView",
            "bar_color": null,
            "description_width": ""
          }
        },
        "32e2014801e54d08bad726f98720ef41": {
          "model_module": "@jupyter-widgets/base",
          "model_name": "LayoutModel",
          "model_module_version": "1.2.0",
          "state": {
            "_model_module": "@jupyter-widgets/base",
            "_model_module_version": "1.2.0",
            "_model_name": "LayoutModel",
            "_view_count": null,
            "_view_module": "@jupyter-widgets/base",
            "_view_module_version": "1.2.0",
            "_view_name": "LayoutView",
            "align_content": null,
            "align_items": null,
            "align_self": null,
            "border": null,
            "bottom": null,
            "display": null,
            "flex": null,
            "flex_flow": null,
            "grid_area": null,
            "grid_auto_columns": null,
            "grid_auto_flow": null,
            "grid_auto_rows": null,
            "grid_column": null,
            "grid_gap": null,
            "grid_row": null,
            "grid_template_areas": null,
            "grid_template_columns": null,
            "grid_template_rows": null,
            "height": null,
            "justify_content": null,
            "justify_items": null,
            "left": null,
            "margin": null,
            "max_height": null,
            "max_width": null,
            "min_height": null,
            "min_width": null,
            "object_fit": null,
            "object_position": null,
            "order": null,
            "overflow": null,
            "overflow_x": null,
            "overflow_y": null,
            "padding": null,
            "right": null,
            "top": null,
            "visibility": null,
            "width": null
          }
        },
        "5a9f5f7546bd415eaa4c5cdce5a8ce75": {
          "model_module": "@jupyter-widgets/controls",
          "model_name": "DescriptionStyleModel",
          "model_module_version": "1.5.0",
          "state": {
            "_model_module": "@jupyter-widgets/controls",
            "_model_module_version": "1.5.0",
            "_model_name": "DescriptionStyleModel",
            "_view_count": null,
            "_view_module": "@jupyter-widgets/base",
            "_view_module_version": "1.2.0",
            "_view_name": "StyleView",
            "description_width": ""
          }
        },
        "72acb8f5d9f948f8b38786f6dd49aa50": {
          "model_module": "@jupyter-widgets/controls",
          "model_name": "HBoxModel",
          "model_module_version": "1.5.0",
          "state": {
            "_dom_classes": [],
            "_model_module": "@jupyter-widgets/controls",
            "_model_module_version": "1.5.0",
            "_model_name": "HBoxModel",
            "_view_count": null,
            "_view_module": "@jupyter-widgets/controls",
            "_view_module_version": "1.5.0",
            "_view_name": "HBoxView",
            "box_style": "",
            "children": [
              "IPY_MODEL_5ddea22a1222494d8f2d874def631db5",
              "IPY_MODEL_11a9dc54708e458197768c9f7034ec85",
              "IPY_MODEL_11290716a4f844be801a5096baba8c8f"
            ],
            "layout": "IPY_MODEL_2790e68e1a994d409d95532902679a30"
          }
        },
        "5ddea22a1222494d8f2d874def631db5": {
          "model_module": "@jupyter-widgets/controls",
          "model_name": "HTMLModel",
          "model_module_version": "1.5.0",
          "state": {
            "_dom_classes": [],
            "_model_module": "@jupyter-widgets/controls",
            "_model_module_version": "1.5.0",
            "_model_name": "HTMLModel",
            "_view_count": null,
            "_view_module": "@jupyter-widgets/controls",
            "_view_module_version": "1.5.0",
            "_view_name": "HTMLView",
            "description": "",
            "description_tooltip": null,
            "layout": "IPY_MODEL_3ddc2e21439f4cb781af2be6f9c85078",
            "placeholder": "​",
            "style": "IPY_MODEL_1dd0bd34aee8467db92388c859375b59",
            "value": "Downloading (…)cial_tokens_map.json: 100%"
          }
        },
        "11a9dc54708e458197768c9f7034ec85": {
          "model_module": "@jupyter-widgets/controls",
          "model_name": "FloatProgressModel",
          "model_module_version": "1.5.0",
          "state": {
            "_dom_classes": [],
            "_model_module": "@jupyter-widgets/controls",
            "_model_module_version": "1.5.0",
            "_model_name": "FloatProgressModel",
            "_view_count": null,
            "_view_module": "@jupyter-widgets/controls",
            "_view_module_version": "1.5.0",
            "_view_name": "ProgressView",
            "bar_style": "success",
            "description": "",
            "description_tooltip": null,
            "layout": "IPY_MODEL_f6ff3d20ecc04fad81758d230d8e66ac",
            "max": 239,
            "min": 0,
            "orientation": "horizontal",
            "style": "IPY_MODEL_197cc180fe1a46e69ec2de437b82dfd6",
            "value": 239
          }
        },
        "11290716a4f844be801a5096baba8c8f": {
          "model_module": "@jupyter-widgets/controls",
          "model_name": "HTMLModel",
          "model_module_version": "1.5.0",
          "state": {
            "_dom_classes": [],
            "_model_module": "@jupyter-widgets/controls",
            "_model_module_version": "1.5.0",
            "_model_name": "HTMLModel",
            "_view_count": null,
            "_view_module": "@jupyter-widgets/controls",
            "_view_module_version": "1.5.0",
            "_view_name": "HTMLView",
            "description": "",
            "description_tooltip": null,
            "layout": "IPY_MODEL_a47074e1791c4bf1a3275eb3370bbf5b",
            "placeholder": "​",
            "style": "IPY_MODEL_dea5e7629cef45c9b36ea9650fb03f1b",
            "value": " 239/239 [00:00&lt;00:00, 13.2kB/s]"
          }
        },
        "2790e68e1a994d409d95532902679a30": {
          "model_module": "@jupyter-widgets/base",
          "model_name": "LayoutModel",
          "model_module_version": "1.2.0",
          "state": {
            "_model_module": "@jupyter-widgets/base",
            "_model_module_version": "1.2.0",
            "_model_name": "LayoutModel",
            "_view_count": null,
            "_view_module": "@jupyter-widgets/base",
            "_view_module_version": "1.2.0",
            "_view_name": "LayoutView",
            "align_content": null,
            "align_items": null,
            "align_self": null,
            "border": null,
            "bottom": null,
            "display": null,
            "flex": null,
            "flex_flow": null,
            "grid_area": null,
            "grid_auto_columns": null,
            "grid_auto_flow": null,
            "grid_auto_rows": null,
            "grid_column": null,
            "grid_gap": null,
            "grid_row": null,
            "grid_template_areas": null,
            "grid_template_columns": null,
            "grid_template_rows": null,
            "height": null,
            "justify_content": null,
            "justify_items": null,
            "left": null,
            "margin": null,
            "max_height": null,
            "max_width": null,
            "min_height": null,
            "min_width": null,
            "object_fit": null,
            "object_position": null,
            "order": null,
            "overflow": null,
            "overflow_x": null,
            "overflow_y": null,
            "padding": null,
            "right": null,
            "top": null,
            "visibility": null,
            "width": null
          }
        },
        "3ddc2e21439f4cb781af2be6f9c85078": {
          "model_module": "@jupyter-widgets/base",
          "model_name": "LayoutModel",
          "model_module_version": "1.2.0",
          "state": {
            "_model_module": "@jupyter-widgets/base",
            "_model_module_version": "1.2.0",
            "_model_name": "LayoutModel",
            "_view_count": null,
            "_view_module": "@jupyter-widgets/base",
            "_view_module_version": "1.2.0",
            "_view_name": "LayoutView",
            "align_content": null,
            "align_items": null,
            "align_self": null,
            "border": null,
            "bottom": null,
            "display": null,
            "flex": null,
            "flex_flow": null,
            "grid_area": null,
            "grid_auto_columns": null,
            "grid_auto_flow": null,
            "grid_auto_rows": null,
            "grid_column": null,
            "grid_gap": null,
            "grid_row": null,
            "grid_template_areas": null,
            "grid_template_columns": null,
            "grid_template_rows": null,
            "height": null,
            "justify_content": null,
            "justify_items": null,
            "left": null,
            "margin": null,
            "max_height": null,
            "max_width": null,
            "min_height": null,
            "min_width": null,
            "object_fit": null,
            "object_position": null,
            "order": null,
            "overflow": null,
            "overflow_x": null,
            "overflow_y": null,
            "padding": null,
            "right": null,
            "top": null,
            "visibility": null,
            "width": null
          }
        },
        "1dd0bd34aee8467db92388c859375b59": {
          "model_module": "@jupyter-widgets/controls",
          "model_name": "DescriptionStyleModel",
          "model_module_version": "1.5.0",
          "state": {
            "_model_module": "@jupyter-widgets/controls",
            "_model_module_version": "1.5.0",
            "_model_name": "DescriptionStyleModel",
            "_view_count": null,
            "_view_module": "@jupyter-widgets/base",
            "_view_module_version": "1.2.0",
            "_view_name": "StyleView",
            "description_width": ""
          }
        },
        "f6ff3d20ecc04fad81758d230d8e66ac": {
          "model_module": "@jupyter-widgets/base",
          "model_name": "LayoutModel",
          "model_module_version": "1.2.0",
          "state": {
            "_model_module": "@jupyter-widgets/base",
            "_model_module_version": "1.2.0",
            "_model_name": "LayoutModel",
            "_view_count": null,
            "_view_module": "@jupyter-widgets/base",
            "_view_module_version": "1.2.0",
            "_view_name": "LayoutView",
            "align_content": null,
            "align_items": null,
            "align_self": null,
            "border": null,
            "bottom": null,
            "display": null,
            "flex": null,
            "flex_flow": null,
            "grid_area": null,
            "grid_auto_columns": null,
            "grid_auto_flow": null,
            "grid_auto_rows": null,
            "grid_column": null,
            "grid_gap": null,
            "grid_row": null,
            "grid_template_areas": null,
            "grid_template_columns": null,
            "grid_template_rows": null,
            "height": null,
            "justify_content": null,
            "justify_items": null,
            "left": null,
            "margin": null,
            "max_height": null,
            "max_width": null,
            "min_height": null,
            "min_width": null,
            "object_fit": null,
            "object_position": null,
            "order": null,
            "overflow": null,
            "overflow_x": null,
            "overflow_y": null,
            "padding": null,
            "right": null,
            "top": null,
            "visibility": null,
            "width": null
          }
        },
        "197cc180fe1a46e69ec2de437b82dfd6": {
          "model_module": "@jupyter-widgets/controls",
          "model_name": "ProgressStyleModel",
          "model_module_version": "1.5.0",
          "state": {
            "_model_module": "@jupyter-widgets/controls",
            "_model_module_version": "1.5.0",
            "_model_name": "ProgressStyleModel",
            "_view_count": null,
            "_view_module": "@jupyter-widgets/base",
            "_view_module_version": "1.2.0",
            "_view_name": "StyleView",
            "bar_color": null,
            "description_width": ""
          }
        },
        "a47074e1791c4bf1a3275eb3370bbf5b": {
          "model_module": "@jupyter-widgets/base",
          "model_name": "LayoutModel",
          "model_module_version": "1.2.0",
          "state": {
            "_model_module": "@jupyter-widgets/base",
            "_model_module_version": "1.2.0",
            "_model_name": "LayoutModel",
            "_view_count": null,
            "_view_module": "@jupyter-widgets/base",
            "_view_module_version": "1.2.0",
            "_view_name": "LayoutView",
            "align_content": null,
            "align_items": null,
            "align_self": null,
            "border": null,
            "bottom": null,
            "display": null,
            "flex": null,
            "flex_flow": null,
            "grid_area": null,
            "grid_auto_columns": null,
            "grid_auto_flow": null,
            "grid_auto_rows": null,
            "grid_column": null,
            "grid_gap": null,
            "grid_row": null,
            "grid_template_areas": null,
            "grid_template_columns": null,
            "grid_template_rows": null,
            "height": null,
            "justify_content": null,
            "justify_items": null,
            "left": null,
            "margin": null,
            "max_height": null,
            "max_width": null,
            "min_height": null,
            "min_width": null,
            "object_fit": null,
            "object_position": null,
            "order": null,
            "overflow": null,
            "overflow_x": null,
            "overflow_y": null,
            "padding": null,
            "right": null,
            "top": null,
            "visibility": null,
            "width": null
          }
        },
        "dea5e7629cef45c9b36ea9650fb03f1b": {
          "model_module": "@jupyter-widgets/controls",
          "model_name": "DescriptionStyleModel",
          "model_module_version": "1.5.0",
          "state": {
            "_model_module": "@jupyter-widgets/controls",
            "_model_module_version": "1.5.0",
            "_model_name": "DescriptionStyleModel",
            "_view_count": null,
            "_view_module": "@jupyter-widgets/base",
            "_view_module_version": "1.2.0",
            "_view_name": "StyleView",
            "description_width": ""
          }
        },
        "3417cc76ff29408189fecca804a424e3": {
          "model_module": "@jupyter-widgets/controls",
          "model_name": "HBoxModel",
          "model_module_version": "1.5.0",
          "state": {
            "_dom_classes": [],
            "_model_module": "@jupyter-widgets/controls",
            "_model_module_version": "1.5.0",
            "_model_name": "HBoxModel",
            "_view_count": null,
            "_view_module": "@jupyter-widgets/controls",
            "_view_module_version": "1.5.0",
            "_view_name": "HBoxView",
            "box_style": "",
            "children": [
              "IPY_MODEL_c8fcad3c6a714290ba70dfa5d3e97864",
              "IPY_MODEL_17d48dfd7f53446cb3319875c3a7658f",
              "IPY_MODEL_855943a7dc664a5cb8c70276bbd8c7ea"
            ],
            "layout": "IPY_MODEL_27f7e9174ae24335a978e284db44251f"
          }
        },
        "c8fcad3c6a714290ba70dfa5d3e97864": {
          "model_module": "@jupyter-widgets/controls",
          "model_name": "HTMLModel",
          "model_module_version": "1.5.0",
          "state": {
            "_dom_classes": [],
            "_model_module": "@jupyter-widgets/controls",
            "_model_module_version": "1.5.0",
            "_model_name": "HTMLModel",
            "_view_count": null,
            "_view_module": "@jupyter-widgets/controls",
            "_view_module_version": "1.5.0",
            "_view_name": "HTMLView",
            "description": "",
            "description_tooltip": null,
            "layout": "IPY_MODEL_d1d1c7a04453400abe36e1f15c9b7796",
            "placeholder": "​",
            "style": "IPY_MODEL_9e481dede9fa409b8d55159e8c81229f",
            "value": "Downloading (…)a8e1d/tokenizer.json: 100%"
          }
        },
        "17d48dfd7f53446cb3319875c3a7658f": {
          "model_module": "@jupyter-widgets/controls",
          "model_name": "FloatProgressModel",
          "model_module_version": "1.5.0",
          "state": {
            "_dom_classes": [],
            "_model_module": "@jupyter-widgets/controls",
            "_model_module_version": "1.5.0",
            "_model_name": "FloatProgressModel",
            "_view_count": null,
            "_view_module": "@jupyter-widgets/controls",
            "_view_module_version": "1.5.0",
            "_view_name": "ProgressView",
            "bar_style": "success",
            "description": "",
            "description_tooltip": null,
            "layout": "IPY_MODEL_7ad458f3bc2144a094791137c320cb7b",
            "max": 466021,
            "min": 0,
            "orientation": "horizontal",
            "style": "IPY_MODEL_d48fcbae01224164a657ea23874e74d5",
            "value": 466021
          }
        },
        "855943a7dc664a5cb8c70276bbd8c7ea": {
          "model_module": "@jupyter-widgets/controls",
          "model_name": "HTMLModel",
          "model_module_version": "1.5.0",
          "state": {
            "_dom_classes": [],
            "_model_module": "@jupyter-widgets/controls",
            "_model_module_version": "1.5.0",
            "_model_name": "HTMLModel",
            "_view_count": null,
            "_view_module": "@jupyter-widgets/controls",
            "_view_module_version": "1.5.0",
            "_view_name": "HTMLView",
            "description": "",
            "description_tooltip": null,
            "layout": "IPY_MODEL_81c02666f66e4a158d50ed348cde6c71",
            "placeholder": "​",
            "style": "IPY_MODEL_3fc92ba48e2d4daaa1e41fe986889c01",
            "value": " 466k/466k [00:00&lt;00:00, 9.06MB/s]"
          }
        },
        "27f7e9174ae24335a978e284db44251f": {
          "model_module": "@jupyter-widgets/base",
          "model_name": "LayoutModel",
          "model_module_version": "1.2.0",
          "state": {
            "_model_module": "@jupyter-widgets/base",
            "_model_module_version": "1.2.0",
            "_model_name": "LayoutModel",
            "_view_count": null,
            "_view_module": "@jupyter-widgets/base",
            "_view_module_version": "1.2.0",
            "_view_name": "LayoutView",
            "align_content": null,
            "align_items": null,
            "align_self": null,
            "border": null,
            "bottom": null,
            "display": null,
            "flex": null,
            "flex_flow": null,
            "grid_area": null,
            "grid_auto_columns": null,
            "grid_auto_flow": null,
            "grid_auto_rows": null,
            "grid_column": null,
            "grid_gap": null,
            "grid_row": null,
            "grid_template_areas": null,
            "grid_template_columns": null,
            "grid_template_rows": null,
            "height": null,
            "justify_content": null,
            "justify_items": null,
            "left": null,
            "margin": null,
            "max_height": null,
            "max_width": null,
            "min_height": null,
            "min_width": null,
            "object_fit": null,
            "object_position": null,
            "order": null,
            "overflow": null,
            "overflow_x": null,
            "overflow_y": null,
            "padding": null,
            "right": null,
            "top": null,
            "visibility": null,
            "width": null
          }
        },
        "d1d1c7a04453400abe36e1f15c9b7796": {
          "model_module": "@jupyter-widgets/base",
          "model_name": "LayoutModel",
          "model_module_version": "1.2.0",
          "state": {
            "_model_module": "@jupyter-widgets/base",
            "_model_module_version": "1.2.0",
            "_model_name": "LayoutModel",
            "_view_count": null,
            "_view_module": "@jupyter-widgets/base",
            "_view_module_version": "1.2.0",
            "_view_name": "LayoutView",
            "align_content": null,
            "align_items": null,
            "align_self": null,
            "border": null,
            "bottom": null,
            "display": null,
            "flex": null,
            "flex_flow": null,
            "grid_area": null,
            "grid_auto_columns": null,
            "grid_auto_flow": null,
            "grid_auto_rows": null,
            "grid_column": null,
            "grid_gap": null,
            "grid_row": null,
            "grid_template_areas": null,
            "grid_template_columns": null,
            "grid_template_rows": null,
            "height": null,
            "justify_content": null,
            "justify_items": null,
            "left": null,
            "margin": null,
            "max_height": null,
            "max_width": null,
            "min_height": null,
            "min_width": null,
            "object_fit": null,
            "object_position": null,
            "order": null,
            "overflow": null,
            "overflow_x": null,
            "overflow_y": null,
            "padding": null,
            "right": null,
            "top": null,
            "visibility": null,
            "width": null
          }
        },
        "9e481dede9fa409b8d55159e8c81229f": {
          "model_module": "@jupyter-widgets/controls",
          "model_name": "DescriptionStyleModel",
          "model_module_version": "1.5.0",
          "state": {
            "_model_module": "@jupyter-widgets/controls",
            "_model_module_version": "1.5.0",
            "_model_name": "DescriptionStyleModel",
            "_view_count": null,
            "_view_module": "@jupyter-widgets/base",
            "_view_module_version": "1.2.0",
            "_view_name": "StyleView",
            "description_width": ""
          }
        },
        "7ad458f3bc2144a094791137c320cb7b": {
          "model_module": "@jupyter-widgets/base",
          "model_name": "LayoutModel",
          "model_module_version": "1.2.0",
          "state": {
            "_model_module": "@jupyter-widgets/base",
            "_model_module_version": "1.2.0",
            "_model_name": "LayoutModel",
            "_view_count": null,
            "_view_module": "@jupyter-widgets/base",
            "_view_module_version": "1.2.0",
            "_view_name": "LayoutView",
            "align_content": null,
            "align_items": null,
            "align_self": null,
            "border": null,
            "bottom": null,
            "display": null,
            "flex": null,
            "flex_flow": null,
            "grid_area": null,
            "grid_auto_columns": null,
            "grid_auto_flow": null,
            "grid_auto_rows": null,
            "grid_column": null,
            "grid_gap": null,
            "grid_row": null,
            "grid_template_areas": null,
            "grid_template_columns": null,
            "grid_template_rows": null,
            "height": null,
            "justify_content": null,
            "justify_items": null,
            "left": null,
            "margin": null,
            "max_height": null,
            "max_width": null,
            "min_height": null,
            "min_width": null,
            "object_fit": null,
            "object_position": null,
            "order": null,
            "overflow": null,
            "overflow_x": null,
            "overflow_y": null,
            "padding": null,
            "right": null,
            "top": null,
            "visibility": null,
            "width": null
          }
        },
        "d48fcbae01224164a657ea23874e74d5": {
          "model_module": "@jupyter-widgets/controls",
          "model_name": "ProgressStyleModel",
          "model_module_version": "1.5.0",
          "state": {
            "_model_module": "@jupyter-widgets/controls",
            "_model_module_version": "1.5.0",
            "_model_name": "ProgressStyleModel",
            "_view_count": null,
            "_view_module": "@jupyter-widgets/base",
            "_view_module_version": "1.2.0",
            "_view_name": "StyleView",
            "bar_color": null,
            "description_width": ""
          }
        },
        "81c02666f66e4a158d50ed348cde6c71": {
          "model_module": "@jupyter-widgets/base",
          "model_name": "LayoutModel",
          "model_module_version": "1.2.0",
          "state": {
            "_model_module": "@jupyter-widgets/base",
            "_model_module_version": "1.2.0",
            "_model_name": "LayoutModel",
            "_view_count": null,
            "_view_module": "@jupyter-widgets/base",
            "_view_module_version": "1.2.0",
            "_view_name": "LayoutView",
            "align_content": null,
            "align_items": null,
            "align_self": null,
            "border": null,
            "bottom": null,
            "display": null,
            "flex": null,
            "flex_flow": null,
            "grid_area": null,
            "grid_auto_columns": null,
            "grid_auto_flow": null,
            "grid_auto_rows": null,
            "grid_column": null,
            "grid_gap": null,
            "grid_row": null,
            "grid_template_areas": null,
            "grid_template_columns": null,
            "grid_template_rows": null,
            "height": null,
            "justify_content": null,
            "justify_items": null,
            "left": null,
            "margin": null,
            "max_height": null,
            "max_width": null,
            "min_height": null,
            "min_width": null,
            "object_fit": null,
            "object_position": null,
            "order": null,
            "overflow": null,
            "overflow_x": null,
            "overflow_y": null,
            "padding": null,
            "right": null,
            "top": null,
            "visibility": null,
            "width": null
          }
        },
        "3fc92ba48e2d4daaa1e41fe986889c01": {
          "model_module": "@jupyter-widgets/controls",
          "model_name": "DescriptionStyleModel",
          "model_module_version": "1.5.0",
          "state": {
            "_model_module": "@jupyter-widgets/controls",
            "_model_module_version": "1.5.0",
            "_model_name": "DescriptionStyleModel",
            "_view_count": null,
            "_view_module": "@jupyter-widgets/base",
            "_view_module_version": "1.2.0",
            "_view_name": "StyleView",
            "description_width": ""
          }
        },
        "ce352d515eb7488b9737d9129cd0a0b4": {
          "model_module": "@jupyter-widgets/controls",
          "model_name": "HBoxModel",
          "model_module_version": "1.5.0",
          "state": {
            "_dom_classes": [],
            "_model_module": "@jupyter-widgets/controls",
            "_model_module_version": "1.5.0",
            "_model_name": "HBoxModel",
            "_view_count": null,
            "_view_module": "@jupyter-widgets/controls",
            "_view_module_version": "1.5.0",
            "_view_name": "HBoxView",
            "box_style": "",
            "children": [
              "IPY_MODEL_c4576bc932ed4d6ea9982c28ed5ee44a",
              "IPY_MODEL_3ee5e92705814d5d8b00b3f7dcd376cd",
              "IPY_MODEL_8b5cac852b5d49dd872b246281a8ddcc"
            ],
            "layout": "IPY_MODEL_f07a604b802d490493fd65389c53635b"
          }
        },
        "c4576bc932ed4d6ea9982c28ed5ee44a": {
          "model_module": "@jupyter-widgets/controls",
          "model_name": "HTMLModel",
          "model_module_version": "1.5.0",
          "state": {
            "_dom_classes": [],
            "_model_module": "@jupyter-widgets/controls",
            "_model_module_version": "1.5.0",
            "_model_name": "HTMLModel",
            "_view_count": null,
            "_view_module": "@jupyter-widgets/controls",
            "_view_module_version": "1.5.0",
            "_view_name": "HTMLView",
            "description": "",
            "description_tooltip": null,
            "layout": "IPY_MODEL_4cfc3ff8a3e04e7d9b3f0d614ccc4ee5",
            "placeholder": "​",
            "style": "IPY_MODEL_84507d0af560483f8b5f433249201274",
            "value": "Downloading (…)okenizer_config.json: 100%"
          }
        },
        "3ee5e92705814d5d8b00b3f7dcd376cd": {
          "model_module": "@jupyter-widgets/controls",
          "model_name": "FloatProgressModel",
          "model_module_version": "1.5.0",
          "state": {
            "_dom_classes": [],
            "_model_module": "@jupyter-widgets/controls",
            "_model_module_version": "1.5.0",
            "_model_name": "FloatProgressModel",
            "_view_count": null,
            "_view_module": "@jupyter-widgets/controls",
            "_view_module_version": "1.5.0",
            "_view_name": "ProgressView",
            "bar_style": "success",
            "description": "",
            "description_tooltip": null,
            "layout": "IPY_MODEL_beb7897ba77c43a89776e64f640bdc1a",
            "max": 363,
            "min": 0,
            "orientation": "horizontal",
            "style": "IPY_MODEL_84311c2ee5574fa38b122b115f1c69b7",
            "value": 363
          }
        },
        "8b5cac852b5d49dd872b246281a8ddcc": {
          "model_module": "@jupyter-widgets/controls",
          "model_name": "HTMLModel",
          "model_module_version": "1.5.0",
          "state": {
            "_dom_classes": [],
            "_model_module": "@jupyter-widgets/controls",
            "_model_module_version": "1.5.0",
            "_model_name": "HTMLModel",
            "_view_count": null,
            "_view_module": "@jupyter-widgets/controls",
            "_view_module_version": "1.5.0",
            "_view_name": "HTMLView",
            "description": "",
            "description_tooltip": null,
            "layout": "IPY_MODEL_b645582620e749a1b3b4a5bd2787487c",
            "placeholder": "​",
            "style": "IPY_MODEL_5f90035adad54cf28635ff93ad067c74",
            "value": " 363/363 [00:00&lt;00:00, 27.3kB/s]"
          }
        },
        "f07a604b802d490493fd65389c53635b": {
          "model_module": "@jupyter-widgets/base",
          "model_name": "LayoutModel",
          "model_module_version": "1.2.0",
          "state": {
            "_model_module": "@jupyter-widgets/base",
            "_model_module_version": "1.2.0",
            "_model_name": "LayoutModel",
            "_view_count": null,
            "_view_module": "@jupyter-widgets/base",
            "_view_module_version": "1.2.0",
            "_view_name": "LayoutView",
            "align_content": null,
            "align_items": null,
            "align_self": null,
            "border": null,
            "bottom": null,
            "display": null,
            "flex": null,
            "flex_flow": null,
            "grid_area": null,
            "grid_auto_columns": null,
            "grid_auto_flow": null,
            "grid_auto_rows": null,
            "grid_column": null,
            "grid_gap": null,
            "grid_row": null,
            "grid_template_areas": null,
            "grid_template_columns": null,
            "grid_template_rows": null,
            "height": null,
            "justify_content": null,
            "justify_items": null,
            "left": null,
            "margin": null,
            "max_height": null,
            "max_width": null,
            "min_height": null,
            "min_width": null,
            "object_fit": null,
            "object_position": null,
            "order": null,
            "overflow": null,
            "overflow_x": null,
            "overflow_y": null,
            "padding": null,
            "right": null,
            "top": null,
            "visibility": null,
            "width": null
          }
        },
        "4cfc3ff8a3e04e7d9b3f0d614ccc4ee5": {
          "model_module": "@jupyter-widgets/base",
          "model_name": "LayoutModel",
          "model_module_version": "1.2.0",
          "state": {
            "_model_module": "@jupyter-widgets/base",
            "_model_module_version": "1.2.0",
            "_model_name": "LayoutModel",
            "_view_count": null,
            "_view_module": "@jupyter-widgets/base",
            "_view_module_version": "1.2.0",
            "_view_name": "LayoutView",
            "align_content": null,
            "align_items": null,
            "align_self": null,
            "border": null,
            "bottom": null,
            "display": null,
            "flex": null,
            "flex_flow": null,
            "grid_area": null,
            "grid_auto_columns": null,
            "grid_auto_flow": null,
            "grid_auto_rows": null,
            "grid_column": null,
            "grid_gap": null,
            "grid_row": null,
            "grid_template_areas": null,
            "grid_template_columns": null,
            "grid_template_rows": null,
            "height": null,
            "justify_content": null,
            "justify_items": null,
            "left": null,
            "margin": null,
            "max_height": null,
            "max_width": null,
            "min_height": null,
            "min_width": null,
            "object_fit": null,
            "object_position": null,
            "order": null,
            "overflow": null,
            "overflow_x": null,
            "overflow_y": null,
            "padding": null,
            "right": null,
            "top": null,
            "visibility": null,
            "width": null
          }
        },
        "84507d0af560483f8b5f433249201274": {
          "model_module": "@jupyter-widgets/controls",
          "model_name": "DescriptionStyleModel",
          "model_module_version": "1.5.0",
          "state": {
            "_model_module": "@jupyter-widgets/controls",
            "_model_module_version": "1.5.0",
            "_model_name": "DescriptionStyleModel",
            "_view_count": null,
            "_view_module": "@jupyter-widgets/base",
            "_view_module_version": "1.2.0",
            "_view_name": "StyleView",
            "description_width": ""
          }
        },
        "beb7897ba77c43a89776e64f640bdc1a": {
          "model_module": "@jupyter-widgets/base",
          "model_name": "LayoutModel",
          "model_module_version": "1.2.0",
          "state": {
            "_model_module": "@jupyter-widgets/base",
            "_model_module_version": "1.2.0",
            "_model_name": "LayoutModel",
            "_view_count": null,
            "_view_module": "@jupyter-widgets/base",
            "_view_module_version": "1.2.0",
            "_view_name": "LayoutView",
            "align_content": null,
            "align_items": null,
            "align_self": null,
            "border": null,
            "bottom": null,
            "display": null,
            "flex": null,
            "flex_flow": null,
            "grid_area": null,
            "grid_auto_columns": null,
            "grid_auto_flow": null,
            "grid_auto_rows": null,
            "grid_column": null,
            "grid_gap": null,
            "grid_row": null,
            "grid_template_areas": null,
            "grid_template_columns": null,
            "grid_template_rows": null,
            "height": null,
            "justify_content": null,
            "justify_items": null,
            "left": null,
            "margin": null,
            "max_height": null,
            "max_width": null,
            "min_height": null,
            "min_width": null,
            "object_fit": null,
            "object_position": null,
            "order": null,
            "overflow": null,
            "overflow_x": null,
            "overflow_y": null,
            "padding": null,
            "right": null,
            "top": null,
            "visibility": null,
            "width": null
          }
        },
        "84311c2ee5574fa38b122b115f1c69b7": {
          "model_module": "@jupyter-widgets/controls",
          "model_name": "ProgressStyleModel",
          "model_module_version": "1.5.0",
          "state": {
            "_model_module": "@jupyter-widgets/controls",
            "_model_module_version": "1.5.0",
            "_model_name": "ProgressStyleModel",
            "_view_count": null,
            "_view_module": "@jupyter-widgets/base",
            "_view_module_version": "1.2.0",
            "_view_name": "StyleView",
            "bar_color": null,
            "description_width": ""
          }
        },
        "b645582620e749a1b3b4a5bd2787487c": {
          "model_module": "@jupyter-widgets/base",
          "model_name": "LayoutModel",
          "model_module_version": "1.2.0",
          "state": {
            "_model_module": "@jupyter-widgets/base",
            "_model_module_version": "1.2.0",
            "_model_name": "LayoutModel",
            "_view_count": null,
            "_view_module": "@jupyter-widgets/base",
            "_view_module_version": "1.2.0",
            "_view_name": "LayoutView",
            "align_content": null,
            "align_items": null,
            "align_self": null,
            "border": null,
            "bottom": null,
            "display": null,
            "flex": null,
            "flex_flow": null,
            "grid_area": null,
            "grid_auto_columns": null,
            "grid_auto_flow": null,
            "grid_auto_rows": null,
            "grid_column": null,
            "grid_gap": null,
            "grid_row": null,
            "grid_template_areas": null,
            "grid_template_columns": null,
            "grid_template_rows": null,
            "height": null,
            "justify_content": null,
            "justify_items": null,
            "left": null,
            "margin": null,
            "max_height": null,
            "max_width": null,
            "min_height": null,
            "min_width": null,
            "object_fit": null,
            "object_position": null,
            "order": null,
            "overflow": null,
            "overflow_x": null,
            "overflow_y": null,
            "padding": null,
            "right": null,
            "top": null,
            "visibility": null,
            "width": null
          }
        },
        "5f90035adad54cf28635ff93ad067c74": {
          "model_module": "@jupyter-widgets/controls",
          "model_name": "DescriptionStyleModel",
          "model_module_version": "1.5.0",
          "state": {
            "_model_module": "@jupyter-widgets/controls",
            "_model_module_version": "1.5.0",
            "_model_name": "DescriptionStyleModel",
            "_view_count": null,
            "_view_module": "@jupyter-widgets/base",
            "_view_module_version": "1.2.0",
            "_view_name": "StyleView",
            "description_width": ""
          }
        },
        "2490d066081c4bb9921052d3014e0e58": {
          "model_module": "@jupyter-widgets/controls",
          "model_name": "HBoxModel",
          "model_module_version": "1.5.0",
          "state": {
            "_dom_classes": [],
            "_model_module": "@jupyter-widgets/controls",
            "_model_module_version": "1.5.0",
            "_model_name": "HBoxModel",
            "_view_count": null,
            "_view_module": "@jupyter-widgets/controls",
            "_view_module_version": "1.5.0",
            "_view_name": "HBoxView",
            "box_style": "",
            "children": [
              "IPY_MODEL_36c90a64bb1f4ef98874183780edc7ff",
              "IPY_MODEL_9f5b8e19348f480abb86853393f77023",
              "IPY_MODEL_bfc2c9eca528490cb2d8a0ef891c88a1"
            ],
            "layout": "IPY_MODEL_b7879fb0fcd14d63aa2fe547bd234677"
          }
        },
        "36c90a64bb1f4ef98874183780edc7ff": {
          "model_module": "@jupyter-widgets/controls",
          "model_name": "HTMLModel",
          "model_module_version": "1.5.0",
          "state": {
            "_dom_classes": [],
            "_model_module": "@jupyter-widgets/controls",
            "_model_module_version": "1.5.0",
            "_model_name": "HTMLModel",
            "_view_count": null,
            "_view_module": "@jupyter-widgets/controls",
            "_view_module_version": "1.5.0",
            "_view_name": "HTMLView",
            "description": "",
            "description_tooltip": null,
            "layout": "IPY_MODEL_93e68c36a7bb48c39ddeb5a42c1b3029",
            "placeholder": "​",
            "style": "IPY_MODEL_18bd221c7916493b8763590d3ae39071",
            "value": "Downloading (…)8e1d/train_script.py: 100%"
          }
        },
        "9f5b8e19348f480abb86853393f77023": {
          "model_module": "@jupyter-widgets/controls",
          "model_name": "FloatProgressModel",
          "model_module_version": "1.5.0",
          "state": {
            "_dom_classes": [],
            "_model_module": "@jupyter-widgets/controls",
            "_model_module_version": "1.5.0",
            "_model_name": "FloatProgressModel",
            "_view_count": null,
            "_view_module": "@jupyter-widgets/controls",
            "_view_module_version": "1.5.0",
            "_view_name": "ProgressView",
            "bar_style": "success",
            "description": "",
            "description_tooltip": null,
            "layout": "IPY_MODEL_02ceff2861ed43e398bbf9b9b8507c30",
            "max": 13123,
            "min": 0,
            "orientation": "horizontal",
            "style": "IPY_MODEL_d5ebd4e03ffa4eac90d4abff851aaea9",
            "value": 13123
          }
        },
        "bfc2c9eca528490cb2d8a0ef891c88a1": {
          "model_module": "@jupyter-widgets/controls",
          "model_name": "HTMLModel",
          "model_module_version": "1.5.0",
          "state": {
            "_dom_classes": [],
            "_model_module": "@jupyter-widgets/controls",
            "_model_module_version": "1.5.0",
            "_model_name": "HTMLModel",
            "_view_count": null,
            "_view_module": "@jupyter-widgets/controls",
            "_view_module_version": "1.5.0",
            "_view_name": "HTMLView",
            "description": "",
            "description_tooltip": null,
            "layout": "IPY_MODEL_3bcb6f25045b4bc79e2d965ade839d0b",
            "placeholder": "​",
            "style": "IPY_MODEL_a8bc004ac1064110933464684e3ada32",
            "value": " 13.1k/13.1k [00:00&lt;00:00, 894kB/s]"
          }
        },
        "b7879fb0fcd14d63aa2fe547bd234677": {
          "model_module": "@jupyter-widgets/base",
          "model_name": "LayoutModel",
          "model_module_version": "1.2.0",
          "state": {
            "_model_module": "@jupyter-widgets/base",
            "_model_module_version": "1.2.0",
            "_model_name": "LayoutModel",
            "_view_count": null,
            "_view_module": "@jupyter-widgets/base",
            "_view_module_version": "1.2.0",
            "_view_name": "LayoutView",
            "align_content": null,
            "align_items": null,
            "align_self": null,
            "border": null,
            "bottom": null,
            "display": null,
            "flex": null,
            "flex_flow": null,
            "grid_area": null,
            "grid_auto_columns": null,
            "grid_auto_flow": null,
            "grid_auto_rows": null,
            "grid_column": null,
            "grid_gap": null,
            "grid_row": null,
            "grid_template_areas": null,
            "grid_template_columns": null,
            "grid_template_rows": null,
            "height": null,
            "justify_content": null,
            "justify_items": null,
            "left": null,
            "margin": null,
            "max_height": null,
            "max_width": null,
            "min_height": null,
            "min_width": null,
            "object_fit": null,
            "object_position": null,
            "order": null,
            "overflow": null,
            "overflow_x": null,
            "overflow_y": null,
            "padding": null,
            "right": null,
            "top": null,
            "visibility": null,
            "width": null
          }
        },
        "93e68c36a7bb48c39ddeb5a42c1b3029": {
          "model_module": "@jupyter-widgets/base",
          "model_name": "LayoutModel",
          "model_module_version": "1.2.0",
          "state": {
            "_model_module": "@jupyter-widgets/base",
            "_model_module_version": "1.2.0",
            "_model_name": "LayoutModel",
            "_view_count": null,
            "_view_module": "@jupyter-widgets/base",
            "_view_module_version": "1.2.0",
            "_view_name": "LayoutView",
            "align_content": null,
            "align_items": null,
            "align_self": null,
            "border": null,
            "bottom": null,
            "display": null,
            "flex": null,
            "flex_flow": null,
            "grid_area": null,
            "grid_auto_columns": null,
            "grid_auto_flow": null,
            "grid_auto_rows": null,
            "grid_column": null,
            "grid_gap": null,
            "grid_row": null,
            "grid_template_areas": null,
            "grid_template_columns": null,
            "grid_template_rows": null,
            "height": null,
            "justify_content": null,
            "justify_items": null,
            "left": null,
            "margin": null,
            "max_height": null,
            "max_width": null,
            "min_height": null,
            "min_width": null,
            "object_fit": null,
            "object_position": null,
            "order": null,
            "overflow": null,
            "overflow_x": null,
            "overflow_y": null,
            "padding": null,
            "right": null,
            "top": null,
            "visibility": null,
            "width": null
          }
        },
        "18bd221c7916493b8763590d3ae39071": {
          "model_module": "@jupyter-widgets/controls",
          "model_name": "DescriptionStyleModel",
          "model_module_version": "1.5.0",
          "state": {
            "_model_module": "@jupyter-widgets/controls",
            "_model_module_version": "1.5.0",
            "_model_name": "DescriptionStyleModel",
            "_view_count": null,
            "_view_module": "@jupyter-widgets/base",
            "_view_module_version": "1.2.0",
            "_view_name": "StyleView",
            "description_width": ""
          }
        },
        "02ceff2861ed43e398bbf9b9b8507c30": {
          "model_module": "@jupyter-widgets/base",
          "model_name": "LayoutModel",
          "model_module_version": "1.2.0",
          "state": {
            "_model_module": "@jupyter-widgets/base",
            "_model_module_version": "1.2.0",
            "_model_name": "LayoutModel",
            "_view_count": null,
            "_view_module": "@jupyter-widgets/base",
            "_view_module_version": "1.2.0",
            "_view_name": "LayoutView",
            "align_content": null,
            "align_items": null,
            "align_self": null,
            "border": null,
            "bottom": null,
            "display": null,
            "flex": null,
            "flex_flow": null,
            "grid_area": null,
            "grid_auto_columns": null,
            "grid_auto_flow": null,
            "grid_auto_rows": null,
            "grid_column": null,
            "grid_gap": null,
            "grid_row": null,
            "grid_template_areas": null,
            "grid_template_columns": null,
            "grid_template_rows": null,
            "height": null,
            "justify_content": null,
            "justify_items": null,
            "left": null,
            "margin": null,
            "max_height": null,
            "max_width": null,
            "min_height": null,
            "min_width": null,
            "object_fit": null,
            "object_position": null,
            "order": null,
            "overflow": null,
            "overflow_x": null,
            "overflow_y": null,
            "padding": null,
            "right": null,
            "top": null,
            "visibility": null,
            "width": null
          }
        },
        "d5ebd4e03ffa4eac90d4abff851aaea9": {
          "model_module": "@jupyter-widgets/controls",
          "model_name": "ProgressStyleModel",
          "model_module_version": "1.5.0",
          "state": {
            "_model_module": "@jupyter-widgets/controls",
            "_model_module_version": "1.5.0",
            "_model_name": "ProgressStyleModel",
            "_view_count": null,
            "_view_module": "@jupyter-widgets/base",
            "_view_module_version": "1.2.0",
            "_view_name": "StyleView",
            "bar_color": null,
            "description_width": ""
          }
        },
        "3bcb6f25045b4bc79e2d965ade839d0b": {
          "model_module": "@jupyter-widgets/base",
          "model_name": "LayoutModel",
          "model_module_version": "1.2.0",
          "state": {
            "_model_module": "@jupyter-widgets/base",
            "_model_module_version": "1.2.0",
            "_model_name": "LayoutModel",
            "_view_count": null,
            "_view_module": "@jupyter-widgets/base",
            "_view_module_version": "1.2.0",
            "_view_name": "LayoutView",
            "align_content": null,
            "align_items": null,
            "align_self": null,
            "border": null,
            "bottom": null,
            "display": null,
            "flex": null,
            "flex_flow": null,
            "grid_area": null,
            "grid_auto_columns": null,
            "grid_auto_flow": null,
            "grid_auto_rows": null,
            "grid_column": null,
            "grid_gap": null,
            "grid_row": null,
            "grid_template_areas": null,
            "grid_template_columns": null,
            "grid_template_rows": null,
            "height": null,
            "justify_content": null,
            "justify_items": null,
            "left": null,
            "margin": null,
            "max_height": null,
            "max_width": null,
            "min_height": null,
            "min_width": null,
            "object_fit": null,
            "object_position": null,
            "order": null,
            "overflow": null,
            "overflow_x": null,
            "overflow_y": null,
            "padding": null,
            "right": null,
            "top": null,
            "visibility": null,
            "width": null
          }
        },
        "a8bc004ac1064110933464684e3ada32": {
          "model_module": "@jupyter-widgets/controls",
          "model_name": "DescriptionStyleModel",
          "model_module_version": "1.5.0",
          "state": {
            "_model_module": "@jupyter-widgets/controls",
            "_model_module_version": "1.5.0",
            "_model_name": "DescriptionStyleModel",
            "_view_count": null,
            "_view_module": "@jupyter-widgets/base",
            "_view_module_version": "1.2.0",
            "_view_name": "StyleView",
            "description_width": ""
          }
        },
        "6ce8505fb2674f50919bfdc356464226": {
          "model_module": "@jupyter-widgets/controls",
          "model_name": "HBoxModel",
          "model_module_version": "1.5.0",
          "state": {
            "_dom_classes": [],
            "_model_module": "@jupyter-widgets/controls",
            "_model_module_version": "1.5.0",
            "_model_name": "HBoxModel",
            "_view_count": null,
            "_view_module": "@jupyter-widgets/controls",
            "_view_module_version": "1.5.0",
            "_view_name": "HBoxView",
            "box_style": "",
            "children": [
              "IPY_MODEL_bba0525182e94654b62d0d52603cfdf7",
              "IPY_MODEL_7c6171d4f8de48dbbb7a770bb47fbb1f",
              "IPY_MODEL_401227cd514045a4ab865770f132972b"
            ],
            "layout": "IPY_MODEL_0c5e4ec21456484e80c492ae7a13933a"
          }
        },
        "bba0525182e94654b62d0d52603cfdf7": {
          "model_module": "@jupyter-widgets/controls",
          "model_name": "HTMLModel",
          "model_module_version": "1.5.0",
          "state": {
            "_dom_classes": [],
            "_model_module": "@jupyter-widgets/controls",
            "_model_module_version": "1.5.0",
            "_model_name": "HTMLModel",
            "_view_count": null,
            "_view_module": "@jupyter-widgets/controls",
            "_view_module_version": "1.5.0",
            "_view_name": "HTMLView",
            "description": "",
            "description_tooltip": null,
            "layout": "IPY_MODEL_964ff74762db4d418d1fe8ae76c85017",
            "placeholder": "​",
            "style": "IPY_MODEL_25d99c6af06e4231b53ce01ac265e87a",
            "value": "Downloading (…)b20bca8e1d/vocab.txt: 100%"
          }
        },
        "7c6171d4f8de48dbbb7a770bb47fbb1f": {
          "model_module": "@jupyter-widgets/controls",
          "model_name": "FloatProgressModel",
          "model_module_version": "1.5.0",
          "state": {
            "_dom_classes": [],
            "_model_module": "@jupyter-widgets/controls",
            "_model_module_version": "1.5.0",
            "_model_name": "FloatProgressModel",
            "_view_count": null,
            "_view_module": "@jupyter-widgets/controls",
            "_view_module_version": "1.5.0",
            "_view_name": "ProgressView",
            "bar_style": "success",
            "description": "",
            "description_tooltip": null,
            "layout": "IPY_MODEL_954ef38a4a474c63849c9fc92321c3e5",
            "max": 231536,
            "min": 0,
            "orientation": "horizontal",
            "style": "IPY_MODEL_04ea53bb4904427c9f58ad4d7ea9606e",
            "value": 231536
          }
        },
        "401227cd514045a4ab865770f132972b": {
          "model_module": "@jupyter-widgets/controls",
          "model_name": "HTMLModel",
          "model_module_version": "1.5.0",
          "state": {
            "_dom_classes": [],
            "_model_module": "@jupyter-widgets/controls",
            "_model_module_version": "1.5.0",
            "_model_name": "HTMLModel",
            "_view_count": null,
            "_view_module": "@jupyter-widgets/controls",
            "_view_module_version": "1.5.0",
            "_view_name": "HTMLView",
            "description": "",
            "description_tooltip": null,
            "layout": "IPY_MODEL_347738ed2a93436b8383ba87a8268b52",
            "placeholder": "​",
            "style": "IPY_MODEL_613773660da94970b683f374b829573c",
            "value": " 232k/232k [00:00&lt;00:00, 4.59MB/s]"
          }
        },
        "0c5e4ec21456484e80c492ae7a13933a": {
          "model_module": "@jupyter-widgets/base",
          "model_name": "LayoutModel",
          "model_module_version": "1.2.0",
          "state": {
            "_model_module": "@jupyter-widgets/base",
            "_model_module_version": "1.2.0",
            "_model_name": "LayoutModel",
            "_view_count": null,
            "_view_module": "@jupyter-widgets/base",
            "_view_module_version": "1.2.0",
            "_view_name": "LayoutView",
            "align_content": null,
            "align_items": null,
            "align_self": null,
            "border": null,
            "bottom": null,
            "display": null,
            "flex": null,
            "flex_flow": null,
            "grid_area": null,
            "grid_auto_columns": null,
            "grid_auto_flow": null,
            "grid_auto_rows": null,
            "grid_column": null,
            "grid_gap": null,
            "grid_row": null,
            "grid_template_areas": null,
            "grid_template_columns": null,
            "grid_template_rows": null,
            "height": null,
            "justify_content": null,
            "justify_items": null,
            "left": null,
            "margin": null,
            "max_height": null,
            "max_width": null,
            "min_height": null,
            "min_width": null,
            "object_fit": null,
            "object_position": null,
            "order": null,
            "overflow": null,
            "overflow_x": null,
            "overflow_y": null,
            "padding": null,
            "right": null,
            "top": null,
            "visibility": null,
            "width": null
          }
        },
        "964ff74762db4d418d1fe8ae76c85017": {
          "model_module": "@jupyter-widgets/base",
          "model_name": "LayoutModel",
          "model_module_version": "1.2.0",
          "state": {
            "_model_module": "@jupyter-widgets/base",
            "_model_module_version": "1.2.0",
            "_model_name": "LayoutModel",
            "_view_count": null,
            "_view_module": "@jupyter-widgets/base",
            "_view_module_version": "1.2.0",
            "_view_name": "LayoutView",
            "align_content": null,
            "align_items": null,
            "align_self": null,
            "border": null,
            "bottom": null,
            "display": null,
            "flex": null,
            "flex_flow": null,
            "grid_area": null,
            "grid_auto_columns": null,
            "grid_auto_flow": null,
            "grid_auto_rows": null,
            "grid_column": null,
            "grid_gap": null,
            "grid_row": null,
            "grid_template_areas": null,
            "grid_template_columns": null,
            "grid_template_rows": null,
            "height": null,
            "justify_content": null,
            "justify_items": null,
            "left": null,
            "margin": null,
            "max_height": null,
            "max_width": null,
            "min_height": null,
            "min_width": null,
            "object_fit": null,
            "object_position": null,
            "order": null,
            "overflow": null,
            "overflow_x": null,
            "overflow_y": null,
            "padding": null,
            "right": null,
            "top": null,
            "visibility": null,
            "width": null
          }
        },
        "25d99c6af06e4231b53ce01ac265e87a": {
          "model_module": "@jupyter-widgets/controls",
          "model_name": "DescriptionStyleModel",
          "model_module_version": "1.5.0",
          "state": {
            "_model_module": "@jupyter-widgets/controls",
            "_model_module_version": "1.5.0",
            "_model_name": "DescriptionStyleModel",
            "_view_count": null,
            "_view_module": "@jupyter-widgets/base",
            "_view_module_version": "1.2.0",
            "_view_name": "StyleView",
            "description_width": ""
          }
        },
        "954ef38a4a474c63849c9fc92321c3e5": {
          "model_module": "@jupyter-widgets/base",
          "model_name": "LayoutModel",
          "model_module_version": "1.2.0",
          "state": {
            "_model_module": "@jupyter-widgets/base",
            "_model_module_version": "1.2.0",
            "_model_name": "LayoutModel",
            "_view_count": null,
            "_view_module": "@jupyter-widgets/base",
            "_view_module_version": "1.2.0",
            "_view_name": "LayoutView",
            "align_content": null,
            "align_items": null,
            "align_self": null,
            "border": null,
            "bottom": null,
            "display": null,
            "flex": null,
            "flex_flow": null,
            "grid_area": null,
            "grid_auto_columns": null,
            "grid_auto_flow": null,
            "grid_auto_rows": null,
            "grid_column": null,
            "grid_gap": null,
            "grid_row": null,
            "grid_template_areas": null,
            "grid_template_columns": null,
            "grid_template_rows": null,
            "height": null,
            "justify_content": null,
            "justify_items": null,
            "left": null,
            "margin": null,
            "max_height": null,
            "max_width": null,
            "min_height": null,
            "min_width": null,
            "object_fit": null,
            "object_position": null,
            "order": null,
            "overflow": null,
            "overflow_x": null,
            "overflow_y": null,
            "padding": null,
            "right": null,
            "top": null,
            "visibility": null,
            "width": null
          }
        },
        "04ea53bb4904427c9f58ad4d7ea9606e": {
          "model_module": "@jupyter-widgets/controls",
          "model_name": "ProgressStyleModel",
          "model_module_version": "1.5.0",
          "state": {
            "_model_module": "@jupyter-widgets/controls",
            "_model_module_version": "1.5.0",
            "_model_name": "ProgressStyleModel",
            "_view_count": null,
            "_view_module": "@jupyter-widgets/base",
            "_view_module_version": "1.2.0",
            "_view_name": "StyleView",
            "bar_color": null,
            "description_width": ""
          }
        },
        "347738ed2a93436b8383ba87a8268b52": {
          "model_module": "@jupyter-widgets/base",
          "model_name": "LayoutModel",
          "model_module_version": "1.2.0",
          "state": {
            "_model_module": "@jupyter-widgets/base",
            "_model_module_version": "1.2.0",
            "_model_name": "LayoutModel",
            "_view_count": null,
            "_view_module": "@jupyter-widgets/base",
            "_view_module_version": "1.2.0",
            "_view_name": "LayoutView",
            "align_content": null,
            "align_items": null,
            "align_self": null,
            "border": null,
            "bottom": null,
            "display": null,
            "flex": null,
            "flex_flow": null,
            "grid_area": null,
            "grid_auto_columns": null,
            "grid_auto_flow": null,
            "grid_auto_rows": null,
            "grid_column": null,
            "grid_gap": null,
            "grid_row": null,
            "grid_template_areas": null,
            "grid_template_columns": null,
            "grid_template_rows": null,
            "height": null,
            "justify_content": null,
            "justify_items": null,
            "left": null,
            "margin": null,
            "max_height": null,
            "max_width": null,
            "min_height": null,
            "min_width": null,
            "object_fit": null,
            "object_position": null,
            "order": null,
            "overflow": null,
            "overflow_x": null,
            "overflow_y": null,
            "padding": null,
            "right": null,
            "top": null,
            "visibility": null,
            "width": null
          }
        },
        "613773660da94970b683f374b829573c": {
          "model_module": "@jupyter-widgets/controls",
          "model_name": "DescriptionStyleModel",
          "model_module_version": "1.5.0",
          "state": {
            "_model_module": "@jupyter-widgets/controls",
            "_model_module_version": "1.5.0",
            "_model_name": "DescriptionStyleModel",
            "_view_count": null,
            "_view_module": "@jupyter-widgets/base",
            "_view_module_version": "1.2.0",
            "_view_name": "StyleView",
            "description_width": ""
          }
        },
        "6ca6e3c42f70496fa158505a3bb8880f": {
          "model_module": "@jupyter-widgets/controls",
          "model_name": "HBoxModel",
          "model_module_version": "1.5.0",
          "state": {
            "_dom_classes": [],
            "_model_module": "@jupyter-widgets/controls",
            "_model_module_version": "1.5.0",
            "_model_name": "HBoxModel",
            "_view_count": null,
            "_view_module": "@jupyter-widgets/controls",
            "_view_module_version": "1.5.0",
            "_view_name": "HBoxView",
            "box_style": "",
            "children": [
              "IPY_MODEL_bbfdf54436584a889ed3a3a8916383c9",
              "IPY_MODEL_0fbc4d3bfd0c4f10ab6073ee2c73394f",
              "IPY_MODEL_6b1438d0c6f34b6d9e9d9655fe723430"
            ],
            "layout": "IPY_MODEL_b51ce0dd10c644bbb38f5a4ca143b326"
          }
        },
        "bbfdf54436584a889ed3a3a8916383c9": {
          "model_module": "@jupyter-widgets/controls",
          "model_name": "HTMLModel",
          "model_module_version": "1.5.0",
          "state": {
            "_dom_classes": [],
            "_model_module": "@jupyter-widgets/controls",
            "_model_module_version": "1.5.0",
            "_model_name": "HTMLModel",
            "_view_count": null,
            "_view_module": "@jupyter-widgets/controls",
            "_view_module_version": "1.5.0",
            "_view_name": "HTMLView",
            "description": "",
            "description_tooltip": null,
            "layout": "IPY_MODEL_40ea787c0c16411d9c82d38836ec50b8",
            "placeholder": "​",
            "style": "IPY_MODEL_c2293e10732f48fe8b4638b12e631d5d",
            "value": "Downloading (…)bca8e1d/modules.json: 100%"
          }
        },
        "0fbc4d3bfd0c4f10ab6073ee2c73394f": {
          "model_module": "@jupyter-widgets/controls",
          "model_name": "FloatProgressModel",
          "model_module_version": "1.5.0",
          "state": {
            "_dom_classes": [],
            "_model_module": "@jupyter-widgets/controls",
            "_model_module_version": "1.5.0",
            "_model_name": "FloatProgressModel",
            "_view_count": null,
            "_view_module": "@jupyter-widgets/controls",
            "_view_module_version": "1.5.0",
            "_view_name": "ProgressView",
            "bar_style": "success",
            "description": "",
            "description_tooltip": null,
            "layout": "IPY_MODEL_773243bdb6634ade9695cb58ad9e3ecf",
            "max": 349,
            "min": 0,
            "orientation": "horizontal",
            "style": "IPY_MODEL_1341ea354d444742986c273342597839",
            "value": 349
          }
        },
        "6b1438d0c6f34b6d9e9d9655fe723430": {
          "model_module": "@jupyter-widgets/controls",
          "model_name": "HTMLModel",
          "model_module_version": "1.5.0",
          "state": {
            "_dom_classes": [],
            "_model_module": "@jupyter-widgets/controls",
            "_model_module_version": "1.5.0",
            "_model_name": "HTMLModel",
            "_view_count": null,
            "_view_module": "@jupyter-widgets/controls",
            "_view_module_version": "1.5.0",
            "_view_name": "HTMLView",
            "description": "",
            "description_tooltip": null,
            "layout": "IPY_MODEL_8d8c65b9573040e68781b1c435353b60",
            "placeholder": "​",
            "style": "IPY_MODEL_f257c198f94f429e8d8ab81fee0d72d9",
            "value": " 349/349 [00:00&lt;00:00, 27.1kB/s]"
          }
        },
        "b51ce0dd10c644bbb38f5a4ca143b326": {
          "model_module": "@jupyter-widgets/base",
          "model_name": "LayoutModel",
          "model_module_version": "1.2.0",
          "state": {
            "_model_module": "@jupyter-widgets/base",
            "_model_module_version": "1.2.0",
            "_model_name": "LayoutModel",
            "_view_count": null,
            "_view_module": "@jupyter-widgets/base",
            "_view_module_version": "1.2.0",
            "_view_name": "LayoutView",
            "align_content": null,
            "align_items": null,
            "align_self": null,
            "border": null,
            "bottom": null,
            "display": null,
            "flex": null,
            "flex_flow": null,
            "grid_area": null,
            "grid_auto_columns": null,
            "grid_auto_flow": null,
            "grid_auto_rows": null,
            "grid_column": null,
            "grid_gap": null,
            "grid_row": null,
            "grid_template_areas": null,
            "grid_template_columns": null,
            "grid_template_rows": null,
            "height": null,
            "justify_content": null,
            "justify_items": null,
            "left": null,
            "margin": null,
            "max_height": null,
            "max_width": null,
            "min_height": null,
            "min_width": null,
            "object_fit": null,
            "object_position": null,
            "order": null,
            "overflow": null,
            "overflow_x": null,
            "overflow_y": null,
            "padding": null,
            "right": null,
            "top": null,
            "visibility": null,
            "width": null
          }
        },
        "40ea787c0c16411d9c82d38836ec50b8": {
          "model_module": "@jupyter-widgets/base",
          "model_name": "LayoutModel",
          "model_module_version": "1.2.0",
          "state": {
            "_model_module": "@jupyter-widgets/base",
            "_model_module_version": "1.2.0",
            "_model_name": "LayoutModel",
            "_view_count": null,
            "_view_module": "@jupyter-widgets/base",
            "_view_module_version": "1.2.0",
            "_view_name": "LayoutView",
            "align_content": null,
            "align_items": null,
            "align_self": null,
            "border": null,
            "bottom": null,
            "display": null,
            "flex": null,
            "flex_flow": null,
            "grid_area": null,
            "grid_auto_columns": null,
            "grid_auto_flow": null,
            "grid_auto_rows": null,
            "grid_column": null,
            "grid_gap": null,
            "grid_row": null,
            "grid_template_areas": null,
            "grid_template_columns": null,
            "grid_template_rows": null,
            "height": null,
            "justify_content": null,
            "justify_items": null,
            "left": null,
            "margin": null,
            "max_height": null,
            "max_width": null,
            "min_height": null,
            "min_width": null,
            "object_fit": null,
            "object_position": null,
            "order": null,
            "overflow": null,
            "overflow_x": null,
            "overflow_y": null,
            "padding": null,
            "right": null,
            "top": null,
            "visibility": null,
            "width": null
          }
        },
        "c2293e10732f48fe8b4638b12e631d5d": {
          "model_module": "@jupyter-widgets/controls",
          "model_name": "DescriptionStyleModel",
          "model_module_version": "1.5.0",
          "state": {
            "_model_module": "@jupyter-widgets/controls",
            "_model_module_version": "1.5.0",
            "_model_name": "DescriptionStyleModel",
            "_view_count": null,
            "_view_module": "@jupyter-widgets/base",
            "_view_module_version": "1.2.0",
            "_view_name": "StyleView",
            "description_width": ""
          }
        },
        "773243bdb6634ade9695cb58ad9e3ecf": {
          "model_module": "@jupyter-widgets/base",
          "model_name": "LayoutModel",
          "model_module_version": "1.2.0",
          "state": {
            "_model_module": "@jupyter-widgets/base",
            "_model_module_version": "1.2.0",
            "_model_name": "LayoutModel",
            "_view_count": null,
            "_view_module": "@jupyter-widgets/base",
            "_view_module_version": "1.2.0",
            "_view_name": "LayoutView",
            "align_content": null,
            "align_items": null,
            "align_self": null,
            "border": null,
            "bottom": null,
            "display": null,
            "flex": null,
            "flex_flow": null,
            "grid_area": null,
            "grid_auto_columns": null,
            "grid_auto_flow": null,
            "grid_auto_rows": null,
            "grid_column": null,
            "grid_gap": null,
            "grid_row": null,
            "grid_template_areas": null,
            "grid_template_columns": null,
            "grid_template_rows": null,
            "height": null,
            "justify_content": null,
            "justify_items": null,
            "left": null,
            "margin": null,
            "max_height": null,
            "max_width": null,
            "min_height": null,
            "min_width": null,
            "object_fit": null,
            "object_position": null,
            "order": null,
            "overflow": null,
            "overflow_x": null,
            "overflow_y": null,
            "padding": null,
            "right": null,
            "top": null,
            "visibility": null,
            "width": null
          }
        },
        "1341ea354d444742986c273342597839": {
          "model_module": "@jupyter-widgets/controls",
          "model_name": "ProgressStyleModel",
          "model_module_version": "1.5.0",
          "state": {
            "_model_module": "@jupyter-widgets/controls",
            "_model_module_version": "1.5.0",
            "_model_name": "ProgressStyleModel",
            "_view_count": null,
            "_view_module": "@jupyter-widgets/base",
            "_view_module_version": "1.2.0",
            "_view_name": "StyleView",
            "bar_color": null,
            "description_width": ""
          }
        },
        "8d8c65b9573040e68781b1c435353b60": {
          "model_module": "@jupyter-widgets/base",
          "model_name": "LayoutModel",
          "model_module_version": "1.2.0",
          "state": {
            "_model_module": "@jupyter-widgets/base",
            "_model_module_version": "1.2.0",
            "_model_name": "LayoutModel",
            "_view_count": null,
            "_view_module": "@jupyter-widgets/base",
            "_view_module_version": "1.2.0",
            "_view_name": "LayoutView",
            "align_content": null,
            "align_items": null,
            "align_self": null,
            "border": null,
            "bottom": null,
            "display": null,
            "flex": null,
            "flex_flow": null,
            "grid_area": null,
            "grid_auto_columns": null,
            "grid_auto_flow": null,
            "grid_auto_rows": null,
            "grid_column": null,
            "grid_gap": null,
            "grid_row": null,
            "grid_template_areas": null,
            "grid_template_columns": null,
            "grid_template_rows": null,
            "height": null,
            "justify_content": null,
            "justify_items": null,
            "left": null,
            "margin": null,
            "max_height": null,
            "max_width": null,
            "min_height": null,
            "min_width": null,
            "object_fit": null,
            "object_position": null,
            "order": null,
            "overflow": null,
            "overflow_x": null,
            "overflow_y": null,
            "padding": null,
            "right": null,
            "top": null,
            "visibility": null,
            "width": null
          }
        },
        "f257c198f94f429e8d8ab81fee0d72d9": {
          "model_module": "@jupyter-widgets/controls",
          "model_name": "DescriptionStyleModel",
          "model_module_version": "1.5.0",
          "state": {
            "_model_module": "@jupyter-widgets/controls",
            "_model_module_version": "1.5.0",
            "_model_name": "DescriptionStyleModel",
            "_view_count": null,
            "_view_module": "@jupyter-widgets/base",
            "_view_module_version": "1.2.0",
            "_view_name": "StyleView",
            "description_width": ""
          }
        }
      }
    },
    "accelerator": "GPU"
  },
  "cells": [
    {
      "cell_type": "markdown",
      "source": [
        "#RetrievalQA vs pure LLMs  - comparing capabilities\n",
        "\n",
        "RAG - retrieval augmented generation - is an antidote for contemporary LLMs hallucinations. However, the RAG is only as good as the underlying embeddings and search mechanism. We test capabilities of LangChain RetrievalQA chain combined with Llama2-13B and popular SentenceTransformers embeddings for two datasets:\n",
        "- relatively straightforward books releases dataset\n",
        "- intricate cosmology articles dataset\n",
        "\n",
        "Both of these datasets were scraped from latest articles/data from September 2023 to test the LLM behaviour against data it didn't see.\n",
        "\n",
        "For RAG we try out several approaches, including vanilla RAG, RAG with compressor and RAG with filtering."
      ],
      "metadata": {
        "id": "L1IHpoeItz4q"
      }
    },
    {
      "cell_type": "code",
      "execution_count": 3,
      "metadata": {
        "colab": {
          "base_uri": "https://localhost:8080/"
        },
        "id": "mRlFI2lhtvU6",
        "outputId": "9772ebcc-9e58-468d-db6b-c4e449bf0113"
      },
      "outputs": [
        {
          "output_type": "stream",
          "name": "stdout",
          "text": [
            "  Preparing metadata (setup.py) ... \u001b[?25l\u001b[?25hdone\n",
            "\u001b[2K     \u001b[90m━━━━━━━━━━━━━━━━━━━━━━━━━━━━━━━━━━━━━━━━\u001b[0m \u001b[32m85.5/85.5 MB\u001b[0m \u001b[31m20.5 MB/s\u001b[0m eta \u001b[36m0:00:00\u001b[0m\n",
            "\u001b[2K     \u001b[90m━━━━━━━━━━━━━━━━━━━━━━━━━━━━━━━━━━━━━━\u001b[0m \u001b[32m294.8/294.8 kB\u001b[0m \u001b[31m28.0 MB/s\u001b[0m eta \u001b[36m0:00:00\u001b[0m\n",
            "\u001b[2K     \u001b[90m━━━━━━━━━━━━━━━━━━━━━━━━━━━━━━━━━━━━━━━━\u001b[0m \u001b[32m7.8/7.8 MB\u001b[0m \u001b[31m85.3 MB/s\u001b[0m eta \u001b[36m0:00:00\u001b[0m\n",
            "\u001b[2K     \u001b[90m━━━━━━━━━━━━━━━━━━━━━━━━━━━━━━━━━━━━━━━━\u001b[0m \u001b[32m1.3/1.3 MB\u001b[0m \u001b[31m47.0 MB/s\u001b[0m eta \u001b[36m0:00:00\u001b[0m\n",
            "\u001b[2K     \u001b[90m━━━━━━━━━━━━━━━━━━━━━━━━━━━━━━━━━━━━━━━━\u001b[0m \u001b[32m1.3/1.3 MB\u001b[0m \u001b[31m67.9 MB/s\u001b[0m eta \u001b[36m0:00:00\u001b[0m\n",
            "\u001b[2K     \u001b[90m━━━━━━━━━━━━━━━━━━━━━━━━━━━━━━━━━━━━━━━━\u001b[0m \u001b[32m62.5/62.5 kB\u001b[0m \u001b[31m6.7 MB/s\u001b[0m eta \u001b[36m0:00:00\u001b[0m\n",
            "\u001b[2K     \u001b[90m━━━━━━━━━━━━━━━━━━━━━━━━━━━━━━━━━━━━━━\u001b[0m \u001b[32m300.4/300.4 kB\u001b[0m \u001b[31m30.5 MB/s\u001b[0m eta \u001b[36m0:00:00\u001b[0m\n",
            "\u001b[2K     \u001b[90m━━━━━━━━━━━━━━━━━━━━━━━━━━━━━━━━━━━━━━\u001b[0m \u001b[32m115.3/115.3 kB\u001b[0m \u001b[31m12.9 MB/s\u001b[0m eta \u001b[36m0:00:00\u001b[0m\n",
            "\u001b[2K     \u001b[90m━━━━━━━━━━━━━━━━━━━━━━━━━━━━━━━━━━━━━━\u001b[0m \u001b[32m194.1/194.1 kB\u001b[0m \u001b[31m20.5 MB/s\u001b[0m eta \u001b[36m0:00:00\u001b[0m\n",
            "\u001b[2K     \u001b[90m━━━━━━━━━━━━━━━━━━━━━━━━━━━━━━━━━━━━━━\u001b[0m \u001b[32m134.8/134.8 kB\u001b[0m \u001b[31m16.3 MB/s\u001b[0m eta \u001b[36m0:00:00\u001b[0m\n",
            "\u001b[2K     \u001b[90m━━━━━━━━━━━━━━━━━━━━━━━━━━━━━━━━━━━━━━━━\u001b[0m \u001b[32m90.0/90.0 kB\u001b[0m \u001b[31m10.0 MB/s\u001b[0m eta \u001b[36m0:00:00\u001b[0m\n",
            "\u001b[2K     \u001b[90m━━━━━━━━━━━━━━━━━━━━━━━━━━━━━━━━━━━━━━━━\u001b[0m \u001b[32m49.4/49.4 kB\u001b[0m \u001b[31m5.3 MB/s\u001b[0m eta \u001b[36m0:00:00\u001b[0m\n",
            "\u001b[?25h  Building wheel for sentence-transformers (setup.py) ... \u001b[?25l\u001b[?25hdone\n"
          ]
        }
      ],
      "source": [
        "!pip install -qU \\\n",
        "  transformers==4.31.0 \\\n",
        "  sentence-transformers==2.2.2 \\\n",
        "  pinecone-client==2.2.2 \\\n",
        "  datasets==2.14.0 \\\n",
        "  accelerate==0.21.0 \\\n",
        "  einops==0.6.1 \\\n",
        "  langchain==0.0.240 \\\n",
        "  xformers==0.0.20 \\\n",
        "  bitsandbytes==0.41.0 \\\n",
        "  faiss-gpu"
      ]
    },
    {
      "cell_type": "markdown",
      "source": [
        "#1. Get data about latest books releases\n",
        "\n",
        "This is a small collections (105 samples) of September novel releases scraped from [goodreads.com](https://www.goodreads.com/book/popular_by_date/2023/9?ref=nav_brws_newrels)"
      ],
      "metadata": {
        "id": "KYLP-oaeAyhe"
      }
    },
    {
      "cell_type": "code",
      "source": [
        "# load csv data from drive to dataframe and then load it to Dataset dataset\n",
        "from datasets import Dataset\n",
        "import pandas as pd\n",
        "\n",
        "\n",
        "books_df = pd.read_csv(\"/content/drive/MyDrive/ML/data/book_releases_september.csv\")\n",
        "books_ds = Dataset.from_pandas(books_df)\n",
        "len(books_ds), books_ds[50]"
      ],
      "metadata": {
        "colab": {
          "base_uri": "https://localhost:8080/"
        },
        "id": "AjgHwDfuAxf2",
        "outputId": "ae983935-6792-4945-c6cc-f5e504ffa376"
      },
      "execution_count": 20,
      "outputs": [
        {
          "output_type": "execute_result",
          "data": {
            "text/plain": [
              "(105,\n",
              " {'id': 'kca://book/amzn1.gr.book.v3.SfQ5kz2CwD7dIfuz',\n",
              "  'title': 'Witch of Wild Things',\n",
              "  'description': 'Legend goes that long ago a Flores woman offended the old gods, and their family was cursed as a result. Now, every woman born to the family has a touch of magic.\\xa0Sage Flores has been running from her family—and their “gifts”—ever since her younger sister Sky died. Eight years later, Sage reluctantly returns to her hometown. Like slipping into an old, comforting sweater, Sage takes back her job at Cranberry Rose Company and uses her ability to communicate with plants to discover unusual heritage specimens in the surrounding lands.What should be a simple task is complicated by her partner in botany sleuthing: Tennessee Reyes. He broke her heart in high school, and she never fully recovered. Working together is reminding her of all their past tender, genuine moments—and new feelings for this mature sexy man are starting to take root in her heart.With rare plants to find, a dead sister who keeps bringing her coffee, and another sister whose anger fills the sky with lightning, Sage doesn’t have time for romance. But being with Tenn is like standing in the middle of a field on the cusp of a summer thunderstorm—supercharged and inevitable.',\n",
              "  'webUrl': 'https://www.goodreads.com/book/show/71872920-witch-of-wild-things',\n",
              "  'author': 'Raquel Vasquez Gilliland',\n",
              "  'rank': 51})"
            ]
          },
          "metadata": {},
          "execution_count": 20
        }
      ]
    },
    {
      "cell_type": "code",
      "source": [
        "len(books_df[books_df['description'].isnull()]), len(books_df[books_df['title'].isnull()]), len(books_df[books_df['author'].isnull()])"
      ],
      "metadata": {
        "id": "EfAi4q7xwDGi",
        "colab": {
          "base_uri": "https://localhost:8080/"
        },
        "outputId": "6517fc9b-ae02-4c2a-df72-07d030d6ca93"
      },
      "execution_count": 31,
      "outputs": [
        {
          "output_type": "execute_result",
          "data": {
            "text/plain": [
              "(2, 0, 0)"
            ]
          },
          "metadata": {},
          "execution_count": 31
        }
      ]
    },
    {
      "cell_type": "code",
      "source": [
        "# Replacing NaN values with an empty string\n",
        "books_df.fillna('', inplace=True)"
      ],
      "metadata": {
        "id": "2ADlUQQbCDzF"
      },
      "execution_count": 32,
      "outputs": []
    },
    {
      "cell_type": "code",
      "source": [
        "len(books_df[books_df['description'].isnull()])"
      ],
      "metadata": {
        "colab": {
          "base_uri": "https://localhost:8080/"
        },
        "id": "9b41uL8iCDwW",
        "outputId": "2f471cc7-c353-47e4-b78e-972e71285e16"
      },
      "execution_count": 33,
      "outputs": [
        {
          "output_type": "execute_result",
          "data": {
            "text/plain": [
              "0"
            ]
          },
          "metadata": {},
          "execution_count": 33
        }
      ]
    },
    {
      "cell_type": "markdown",
      "source": [
        "#2. Collect dataset from NASA ADS\n",
        "\n",
        "Collect a dataset of cosmology articles from last month using NASA ADS database."
      ],
      "metadata": {
        "id": "BNgDekFrJDnk"
      }
    },
    {
      "cell_type": "markdown",
      "source": [
        "Script to fetch data from NASA ADS using their API:"
      ],
      "metadata": {
        "id": "kNzY3FtHB7iZ"
      }
    },
    {
      "cell_type": "code",
      "source": [
        "paper_list[1]\n"
      ],
      "metadata": {
        "colab": {
          "base_uri": "https://localhost:8080/"
        },
        "id": "oEN6F71mDpLW",
        "outputId": "ddabcbec-6a28-4d98-8ccd-b0c34c7f5638"
      },
      "execution_count": null,
      "outputs": [
        {
          "output_type": "execute_result",
          "data": {
            "text/plain": [
              "{'bibcode': '2023LRR....26....2A',\n",
              " 'abstract': \"The Laser Interferometer Space Antenna (LISA) will be a transformative experiment for gravitational wave astronomy, and, as such, it will offer unique opportunities to address many key astrophysical questions in a completely novel way. The synergy with ground-based and space-born instruments in the electromagnetic domain, by enabling multi-messenger observations, will add further to the discovery potential of LISA. The next decade is crucial to prepare the astrophysical community for LISA's first observations. This review outlines the extensive landscape of astrophysical theory, numerical simulations, and astronomical observations that are instrumental for modeling and interpreting the upcoming LISA datastream. To this aim, the current knowledge in three main source classes for LISA is reviewed; ultra-compact stellar-mass binaries, massive black hole binaries, and extreme or interme-diate mass ratio inspirals. The relevant astrophysical processes and the established modeling techniques are summarized. Likewise, open issues and gaps in our understanding of these sources are highlighted, along with an indication of how LISA could help making progress in the different areas. New research avenues that LISA itself, or its joint exploitation with upcoming studies in the electromagnetic domain, will enable, are also illustrated. Improvements in modeling and analysis approaches, such as the combination of numerical simulations and modern data science techniques, are discussed. This review is intended to be a starting point for using LISA as a new discovery tool for understanding our Universe.\",\n",
              " 'pubdate': '2023-12-00',\n",
              " 'title': ['Astrophysics with the Laser Interferometer Space Antenna']}"
            ]
          },
          "metadata": {},
          "execution_count": 14
        }
      ]
    },
    {
      "cell_type": "code",
      "source": [
        "import requests\n",
        "from datetime import datetime, timedelta\n",
        "import pandas as pd\n",
        "from bs4 import BeautifulSoup\n",
        "import re\n",
        "\n",
        "\n",
        "api_key = os.environ.get('ADS_API_KEY')\n",
        "headers = {\n",
        "    \"Authorization\": f\"Bearer {api_key}\",\n",
        "}\n",
        "\n",
        "# Calculate the date 1 months ago from today\n",
        "start_date = datetime.now() - timedelta(days=30)\n",
        "start_date_str = start_date.strftime('%Y-%m-%d')\n",
        "\n",
        "# Construct the API endpoint and query parameters\n",
        "endpoint = \"https://api.adsabs.harvard.edu/v1/search/query?\"\n",
        "query = f\"q=collection:astronomy+AND+entdate:[{start_date_str}+TO+*]&fl=title,abstract,bibcode,pubdate,arxiv_eprints,doi&rows=200\"\n",
        "\n",
        "# Make the API request\n",
        "response = requests.get(endpoint + query, headers=headers)\n",
        "\n",
        "# Function to retrieve the full text content from arXiv or DOI link\n",
        "def get_full_text(arxiv_ids, doi):\n",
        "    content = \"\"\n",
        "    if arxiv_ids:\n",
        "        arxiv_id = arxiv_ids[0]\n",
        "        url = f\"https://arxiv.org/pdf/{arxiv_id}.pdf\"\n",
        "        response = requests.get(url)\n",
        "        if response.status_code == 200:\n",
        "            print(f'Downloading doi {arxiv_id}')\n",
        "            content = response.content[:20000]  # Get first 20000 bytes of the PDF (not words)\n",
        "    elif doi:\n",
        "        doi = doi[0] if isinstance(doi, list) else doi\n",
        "        url = f\"https://doi.org/{doi}\"\n",
        "        response = requests.get(url)\n",
        "        if response.status_code == 200:\n",
        "            print(f'Downloading doi {doi}')\n",
        "            soup = BeautifulSoup(response.content, 'html.parser')\n",
        "            content = \" \".join(soup.stripped_strings)[:10000]  # Get first 10000 words of the webpage content\n",
        "    return content\n",
        "\n",
        "# Check the response\n",
        "if response.status_code == 200:\n",
        "    # Get the list of papers\n",
        "    papers = response.json().get('response', {}).get('docs', [])\n",
        "\n",
        "    paper_data = []\n",
        "    for i, paper in enumerate(papers, 1):\n",
        "        if i % 100 == 0:\n",
        "            print(f\"Processed {i} papers\")\n",
        "\n",
        "        title = paper.get('title', ['No Title'])[0]\n",
        "        abstract = paper.get('abstract', 'No Abstract')\n",
        "        bibcode = paper.get('bibcode', 'No Bibcode')\n",
        "        pubdate = paper.get('pubdate', 'No Pubdate')\n",
        "        arxiv_ids = paper.get('arxiv_eprints')\n",
        "        doi = paper.get('doi')\n",
        "\n",
        "        full_text_content = get_full_text(arxiv_ids, doi)\n",
        "\n",
        "        paper_data.append({\n",
        "            \"Title\": title,\n",
        "            \"Abstract\": abstract,\n",
        "            \"Bibcode\": bibcode,\n",
        "            \"Publication Date\": pubdate,\n",
        "            \"Full Text Content (first 10000 words)\": full_text_content\n",
        "        })\n",
        "\n",
        "    # Creating a DataFrame from the list of dictionaries\n",
        "    df = pd.DataFrame(paper_data)\n",
        "\n",
        "    # Display the first few rows of the DataFrame\n",
        "    print(df.head())\n",
        "\n"
      ],
      "metadata": {
        "id": "WMQaC5p4GCcC"
      },
      "execution_count": null,
      "outputs": []
    },
    {
      "cell_type": "code",
      "source": [
        "df.head()"
      ],
      "metadata": {
        "colab": {
          "base_uri": "https://localhost:8080/",
          "height": 206
        },
        "id": "h28NcvtYJvHt",
        "outputId": "40cc3715-61b6-46f7-c3e6-91030585cb55"
      },
      "execution_count": null,
      "outputs": [
        {
          "output_type": "execute_result",
          "data": {
            "text/plain": [
              "                                               Title  \\\n",
              "0  A CEERS Discovery of an Accreting Supermassive...   \n",
              "1  COSMOS-Web: An Overview of the JWST Cosmic Ori...   \n",
              "2  The Eighteenth Data Release of the Sloan Digit...   \n",
              "3  The FLAMINGO project: cosmological hydrodynami...   \n",
              "4  Hidden Little Monsters: Spectroscopic Identifi...   \n",
              "\n",
              "                                            Abstract              Bibcode  \\\n",
              "0  We report the discovery of an accreting superm...  2023ApJ...953L..29L   \n",
              "1  We present the survey design, implementation, ...  2023ApJ...954...31C   \n",
              "2  The eighteenth data release (DR18) of the Sloa...  2023ApJS..267...44A   \n",
              "3  We introduce the Virgo Consortium's FLAMINGO s...  2023MNRAS.tmp.2384S   \n",
              "4  We report on the discovery of two low-luminosi...  2023ApJ...954L...4K   \n",
              "\n",
              "  Publication Date Full Text Content (first 10000 words)  \n",
              "0       2023-08-00                                        \n",
              "1       2023-09-00                                        \n",
              "2       2023-08-00                                        \n",
              "3       2023-08-00                                        \n",
              "4       2023-09-00                                        "
            ],
            "text/html": [
              "\n",
              "  <div id=\"df-1acbaea3-9982-4116-a396-d9d1b983f1d3\" class=\"colab-df-container\">\n",
              "    <div>\n",
              "<style scoped>\n",
              "    .dataframe tbody tr th:only-of-type {\n",
              "        vertical-align: middle;\n",
              "    }\n",
              "\n",
              "    .dataframe tbody tr th {\n",
              "        vertical-align: top;\n",
              "    }\n",
              "\n",
              "    .dataframe thead th {\n",
              "        text-align: right;\n",
              "    }\n",
              "</style>\n",
              "<table border=\"1\" class=\"dataframe\">\n",
              "  <thead>\n",
              "    <tr style=\"text-align: right;\">\n",
              "      <th></th>\n",
              "      <th>Title</th>\n",
              "      <th>Abstract</th>\n",
              "      <th>Bibcode</th>\n",
              "      <th>Publication Date</th>\n",
              "      <th>Full Text Content (first 10000 words)</th>\n",
              "    </tr>\n",
              "  </thead>\n",
              "  <tbody>\n",
              "    <tr>\n",
              "      <th>0</th>\n",
              "      <td>A CEERS Discovery of an Accreting Supermassive...</td>\n",
              "      <td>We report the discovery of an accreting superm...</td>\n",
              "      <td>2023ApJ...953L..29L</td>\n",
              "      <td>2023-08-00</td>\n",
              "      <td></td>\n",
              "    </tr>\n",
              "    <tr>\n",
              "      <th>1</th>\n",
              "      <td>COSMOS-Web: An Overview of the JWST Cosmic Ori...</td>\n",
              "      <td>We present the survey design, implementation, ...</td>\n",
              "      <td>2023ApJ...954...31C</td>\n",
              "      <td>2023-09-00</td>\n",
              "      <td></td>\n",
              "    </tr>\n",
              "    <tr>\n",
              "      <th>2</th>\n",
              "      <td>The Eighteenth Data Release of the Sloan Digit...</td>\n",
              "      <td>The eighteenth data release (DR18) of the Sloa...</td>\n",
              "      <td>2023ApJS..267...44A</td>\n",
              "      <td>2023-08-00</td>\n",
              "      <td></td>\n",
              "    </tr>\n",
              "    <tr>\n",
              "      <th>3</th>\n",
              "      <td>The FLAMINGO project: cosmological hydrodynami...</td>\n",
              "      <td>We introduce the Virgo Consortium's FLAMINGO s...</td>\n",
              "      <td>2023MNRAS.tmp.2384S</td>\n",
              "      <td>2023-08-00</td>\n",
              "      <td></td>\n",
              "    </tr>\n",
              "    <tr>\n",
              "      <th>4</th>\n",
              "      <td>Hidden Little Monsters: Spectroscopic Identifi...</td>\n",
              "      <td>We report on the discovery of two low-luminosi...</td>\n",
              "      <td>2023ApJ...954L...4K</td>\n",
              "      <td>2023-09-00</td>\n",
              "      <td></td>\n",
              "    </tr>\n",
              "  </tbody>\n",
              "</table>\n",
              "</div>\n",
              "    <div class=\"colab-df-buttons\">\n",
              "\n",
              "  <div class=\"colab-df-container\">\n",
              "    <button class=\"colab-df-convert\" onclick=\"convertToInteractive('df-1acbaea3-9982-4116-a396-d9d1b983f1d3')\"\n",
              "            title=\"Convert this dataframe to an interactive table.\"\n",
              "            style=\"display:none;\">\n",
              "\n",
              "  <svg xmlns=\"http://www.w3.org/2000/svg\" height=\"24px\" viewBox=\"0 -960 960 960\">\n",
              "    <path d=\"M120-120v-720h720v720H120Zm60-500h600v-160H180v160Zm220 220h160v-160H400v160Zm0 220h160v-160H400v160ZM180-400h160v-160H180v160Zm440 0h160v-160H620v160ZM180-180h160v-160H180v160Zm440 0h160v-160H620v160Z\"/>\n",
              "  </svg>\n",
              "    </button>\n",
              "\n",
              "  <style>\n",
              "    .colab-df-container {\n",
              "      display:flex;\n",
              "      gap: 12px;\n",
              "    }\n",
              "\n",
              "    .colab-df-convert {\n",
              "      background-color: #E8F0FE;\n",
              "      border: none;\n",
              "      border-radius: 50%;\n",
              "      cursor: pointer;\n",
              "      display: none;\n",
              "      fill: #1967D2;\n",
              "      height: 32px;\n",
              "      padding: 0 0 0 0;\n",
              "      width: 32px;\n",
              "    }\n",
              "\n",
              "    .colab-df-convert:hover {\n",
              "      background-color: #E2EBFA;\n",
              "      box-shadow: 0px 1px 2px rgba(60, 64, 67, 0.3), 0px 1px 3px 1px rgba(60, 64, 67, 0.15);\n",
              "      fill: #174EA6;\n",
              "    }\n",
              "\n",
              "    .colab-df-buttons div {\n",
              "      margin-bottom: 4px;\n",
              "    }\n",
              "\n",
              "    [theme=dark] .colab-df-convert {\n",
              "      background-color: #3B4455;\n",
              "      fill: #D2E3FC;\n",
              "    }\n",
              "\n",
              "    [theme=dark] .colab-df-convert:hover {\n",
              "      background-color: #434B5C;\n",
              "      box-shadow: 0px 1px 3px 1px rgba(0, 0, 0, 0.15);\n",
              "      filter: drop-shadow(0px 1px 2px rgba(0, 0, 0, 0.3));\n",
              "      fill: #FFFFFF;\n",
              "    }\n",
              "  </style>\n",
              "\n",
              "    <script>\n",
              "      const buttonEl =\n",
              "        document.querySelector('#df-1acbaea3-9982-4116-a396-d9d1b983f1d3 button.colab-df-convert');\n",
              "      buttonEl.style.display =\n",
              "        google.colab.kernel.accessAllowed ? 'block' : 'none';\n",
              "\n",
              "      async function convertToInteractive(key) {\n",
              "        const element = document.querySelector('#df-1acbaea3-9982-4116-a396-d9d1b983f1d3');\n",
              "        const dataTable =\n",
              "          await google.colab.kernel.invokeFunction('convertToInteractive',\n",
              "                                                    [key], {});\n",
              "        if (!dataTable) return;\n",
              "\n",
              "        const docLinkHtml = 'Like what you see? Visit the ' +\n",
              "          '<a target=\"_blank\" href=https://colab.research.google.com/notebooks/data_table.ipynb>data table notebook</a>'\n",
              "          + ' to learn more about interactive tables.';\n",
              "        element.innerHTML = '';\n",
              "        dataTable['output_type'] = 'display_data';\n",
              "        await google.colab.output.renderOutput(dataTable, element);\n",
              "        const docLink = document.createElement('div');\n",
              "        docLink.innerHTML = docLinkHtml;\n",
              "        element.appendChild(docLink);\n",
              "      }\n",
              "    </script>\n",
              "  </div>\n",
              "\n",
              "\n",
              "<div id=\"df-94752979-3cb1-4edb-ac58-26baa7da6a33\">\n",
              "  <button class=\"colab-df-quickchart\" onclick=\"quickchart('df-94752979-3cb1-4edb-ac58-26baa7da6a33')\"\n",
              "            title=\"Suggest charts.\"\n",
              "            style=\"display:none;\">\n",
              "\n",
              "<svg xmlns=\"http://www.w3.org/2000/svg\" height=\"24px\"viewBox=\"0 0 24 24\"\n",
              "     width=\"24px\">\n",
              "    <g>\n",
              "        <path d=\"M19 3H5c-1.1 0-2 .9-2 2v14c0 1.1.9 2 2 2h14c1.1 0 2-.9 2-2V5c0-1.1-.9-2-2-2zM9 17H7v-7h2v7zm4 0h-2V7h2v10zm4 0h-2v-4h2v4z\"/>\n",
              "    </g>\n",
              "</svg>\n",
              "  </button>\n",
              "\n",
              "<style>\n",
              "  .colab-df-quickchart {\n",
              "      --bg-color: #E8F0FE;\n",
              "      --fill-color: #1967D2;\n",
              "      --hover-bg-color: #E2EBFA;\n",
              "      --hover-fill-color: #174EA6;\n",
              "      --disabled-fill-color: #AAA;\n",
              "      --disabled-bg-color: #DDD;\n",
              "  }\n",
              "\n",
              "  [theme=dark] .colab-df-quickchart {\n",
              "      --bg-color: #3B4455;\n",
              "      --fill-color: #D2E3FC;\n",
              "      --hover-bg-color: #434B5C;\n",
              "      --hover-fill-color: #FFFFFF;\n",
              "      --disabled-bg-color: #3B4455;\n",
              "      --disabled-fill-color: #666;\n",
              "  }\n",
              "\n",
              "  .colab-df-quickchart {\n",
              "    background-color: var(--bg-color);\n",
              "    border: none;\n",
              "    border-radius: 50%;\n",
              "    cursor: pointer;\n",
              "    display: none;\n",
              "    fill: var(--fill-color);\n",
              "    height: 32px;\n",
              "    padding: 0;\n",
              "    width: 32px;\n",
              "  }\n",
              "\n",
              "  .colab-df-quickchart:hover {\n",
              "    background-color: var(--hover-bg-color);\n",
              "    box-shadow: 0 1px 2px rgba(60, 64, 67, 0.3), 0 1px 3px 1px rgba(60, 64, 67, 0.15);\n",
              "    fill: var(--button-hover-fill-color);\n",
              "  }\n",
              "\n",
              "  .colab-df-quickchart-complete:disabled,\n",
              "  .colab-df-quickchart-complete:disabled:hover {\n",
              "    background-color: var(--disabled-bg-color);\n",
              "    fill: var(--disabled-fill-color);\n",
              "    box-shadow: none;\n",
              "  }\n",
              "\n",
              "  .colab-df-spinner {\n",
              "    border: 2px solid var(--fill-color);\n",
              "    border-color: transparent;\n",
              "    border-bottom-color: var(--fill-color);\n",
              "    animation:\n",
              "      spin 1s steps(1) infinite;\n",
              "  }\n",
              "\n",
              "  @keyframes spin {\n",
              "    0% {\n",
              "      border-color: transparent;\n",
              "      border-bottom-color: var(--fill-color);\n",
              "      border-left-color: var(--fill-color);\n",
              "    }\n",
              "    20% {\n",
              "      border-color: transparent;\n",
              "      border-left-color: var(--fill-color);\n",
              "      border-top-color: var(--fill-color);\n",
              "    }\n",
              "    30% {\n",
              "      border-color: transparent;\n",
              "      border-left-color: var(--fill-color);\n",
              "      border-top-color: var(--fill-color);\n",
              "      border-right-color: var(--fill-color);\n",
              "    }\n",
              "    40% {\n",
              "      border-color: transparent;\n",
              "      border-right-color: var(--fill-color);\n",
              "      border-top-color: var(--fill-color);\n",
              "    }\n",
              "    60% {\n",
              "      border-color: transparent;\n",
              "      border-right-color: var(--fill-color);\n",
              "    }\n",
              "    80% {\n",
              "      border-color: transparent;\n",
              "      border-right-color: var(--fill-color);\n",
              "      border-bottom-color: var(--fill-color);\n",
              "    }\n",
              "    90% {\n",
              "      border-color: transparent;\n",
              "      border-bottom-color: var(--fill-color);\n",
              "    }\n",
              "  }\n",
              "</style>\n",
              "\n",
              "  <script>\n",
              "    async function quickchart(key) {\n",
              "      const quickchartButtonEl =\n",
              "        document.querySelector('#' + key + ' button');\n",
              "      quickchartButtonEl.disabled = true;  // To prevent multiple clicks.\n",
              "      quickchartButtonEl.classList.add('colab-df-spinner');\n",
              "      try {\n",
              "        const charts = await google.colab.kernel.invokeFunction(\n",
              "            'suggestCharts', [key], {});\n",
              "      } catch (error) {\n",
              "        console.error('Error during call to suggestCharts:', error);\n",
              "      }\n",
              "      quickchartButtonEl.classList.remove('colab-df-spinner');\n",
              "      quickchartButtonEl.classList.add('colab-df-quickchart-complete');\n",
              "    }\n",
              "    (() => {\n",
              "      let quickchartButtonEl =\n",
              "        document.querySelector('#df-94752979-3cb1-4edb-ac58-26baa7da6a33 button');\n",
              "      quickchartButtonEl.style.display =\n",
              "        google.colab.kernel.accessAllowed ? 'block' : 'none';\n",
              "    })();\n",
              "  </script>\n",
              "</div>\n",
              "\n",
              "    </div>\n",
              "  </div>\n"
            ]
          },
          "metadata": {},
          "execution_count": 25
        }
      ]
    },
    {
      "cell_type": "code",
      "source": [
        "df.to_csv(\"/content/drive/MyDrive/ML/data/nasa_ads_cosmology_full.csv\")\n"
      ],
      "metadata": {
        "id": "EaWY75IdIRKu"
      },
      "execution_count": null,
      "outputs": []
    },
    {
      "cell_type": "markdown",
      "source": [
        "##2.1. Load cosmology data"
      ],
      "metadata": {
        "id": "TtTO0rbGVyVQ"
      }
    },
    {
      "cell_type": "code",
      "source": [
        "# load csv data from drive to dataframe and then load it to Dataset dataset\n",
        "from datasets import Dataset\n",
        "import pandas as pd\n",
        "\n",
        "\n",
        "nasa_ads_df = pd.read_csv(\"/content/drive/MyDrive/ML/data/nasa_ads_cosmology_full.csv\")\n",
        "nasa_ads_ds = Dataset.from_pandas(nasa_ads_df)\n",
        "len(nasa_ads_ds), nasa_ads_ds[180]\n"
      ],
      "metadata": {
        "colab": {
          "base_uri": "https://localhost:8080/"
        },
        "id": "GKOe6nEopmv6",
        "outputId": "708f799f-72eb-4d00-ec93-44e01d45f2e6"
      },
      "execution_count": 3,
      "outputs": [
        {
          "output_type": "execute_result",
          "data": {
            "text/plain": [
              "(1200,\n",
              " {'Unnamed: 0': 180,\n",
              "  'Title': 'The energy distribution of the first supernovae',\n",
              "  'Abstract': 'The nature of the first Pop III stars is still a mystery and the energy distribution of the first supernovae is completely unexplored. For the first time we account simultaneously for the unknown initial mass function (IMF), stellar mixing, and energy distribution function (EDF) of Pop III stars in the context of a cosmological model for the formation of a MW-analogue. Our data-calibrated semi-analytic model is based on a N-body simulation and follows the formation and evolution of both Pop III and Pop II/I stars in their proper time-scales. We discover degeneracies between the adopted Pop III unknowns, in the predicted metallicity and carbonicity distribution functions and the fraction of C-enhanced stars. None the less, we are able to provide the first available constraints on the EDF, $dN/dE_\\\\star \\\\propto E_{\\\\star }^{-\\\\alpha _e}$ with 1 ≤ α<SUB>e</SUB> ≤ 2.5. In addition, the characteristic mass of the Pop III IMF should be m<SUB>ch</SUB> &lt; 100 M<SUB>⊙</SUB>, assuming a mass range consistent with hydrodynamical simulations (0.1-1000 M<SUB>⊙</SUB>). Independent of the assumed Pop III properties, we find that all $\\\\rm [C/Fe]\\\\gt +0.7$ stars (with $\\\\rm [Fe/H]\\\\lt -2.8$) have been enriched by Pop III supernovae at a $\\\\gt 20~{{\\\\ \\\\rm per\\\\ cent}}$ level, and all $\\\\rm [C/Fe]\\\\gt +2$ stars at a $\\\\gt 95~{{\\\\ \\\\rm per\\\\ cent}}$ level. All very metal-poor stars with $\\\\rm [C/Fe]\\\\lt 0$ are predicted to be predominantly enriched by Pop III hypernovae and/or pair instability supernovae. To better constrain the primordial EDF, it is absolutely crucial to have a complete and accurate determination of the metallicity distribution function, and the properties of C-enhanced metal-poor stars (frequency and [C/Fe]) in the Galactic halo.',\n",
              "  'Bibcode': '2023MNRAS.525..190K',\n",
              "  'Publication Date': '2023-10-00',\n",
              "  'Full Text Content (first 10000 words)': None})"
            ]
          },
          "metadata": {},
          "execution_count": 3
        }
      ]
    },
    {
      "cell_type": "markdown",
      "source": [
        "All recores have bibcode and each is unique:"
      ],
      "metadata": {
        "id": "MC-hyUgePEWU"
      }
    },
    {
      "cell_type": "code",
      "source": [
        "len(nasa_ads_df[nasa_ads_df['Bibcode'].isnull()]), nasa_ads_df['Bibcode'].nunique()"
      ],
      "metadata": {
        "colab": {
          "base_uri": "https://localhost:8080/"
        },
        "id": "MvMPLucOOihm",
        "outputId": "43686619-188f-4820-f087-1b6e8db3447c"
      },
      "execution_count": 22,
      "outputs": [
        {
          "output_type": "execute_result",
          "data": {
            "text/plain": [
              "(0, 1200)"
            ]
          },
          "metadata": {},
          "execution_count": 22
        }
      ]
    },
    {
      "cell_type": "markdown",
      "source": [
        "#3. Get LLama2-13B and Embeddings"
      ],
      "metadata": {
        "id": "Q8EBCrz7mrYf"
      }
    },
    {
      "cell_type": "markdown",
      "source": [
        "##3.1. Llama2-13B\n",
        "\n",
        "We load Llama2-13B, fitting it on a single 15GB RAM with the help of bitsandbytes quantization."
      ],
      "metadata": {
        "id": "ItMPmRq-Ckwy"
      }
    },
    {
      "cell_type": "code",
      "source": [
        "%%time\n",
        "from torch import cuda, bfloat16\n",
        "import transformers\n",
        "\n",
        "model_name = \"meta-llama/Llama-2-13b-chat-hf\"\n",
        "# set quantization configuration using bitsandbytes lib\n",
        "bnb_config = transformers.BitsAndBytesConfig(\n",
        "    load_in_4bit=True,\n",
        "    bnb_4bit_quant_type='nf4',\n",
        "    bnb_4bit_use_double_quant=True,\n",
        "    bnb_4bit_compute_dtype=bfloat16\n",
        ")\n",
        "\n",
        "\n",
        "hf_auth = os.environ.get('HF_API_KEY')\n",
        "model_config = transformers.AutoConfig.from_pretrained(\n",
        "    model_name,\n",
        "    use_auth_token=hf_auth\n",
        ")\n",
        "\n",
        "model = transformers.AutoModelForCausalLM.from_pretrained(\n",
        "    model_name,\n",
        "    trust_remote_code=True,\n",
        "    config=model_config,\n",
        "    quantization_config=bnb_config,\n",
        "    device_map='auto',\n",
        "    use_auth_token=hf_auth\n",
        ")\n",
        "model.eval()\n"
      ],
      "metadata": {
        "id": "NujH6zwduxby",
        "colab": {
          "base_uri": "https://localhost:8080/",
          "height": 794,
          "referenced_widgets": [
            "bb80469e1bab4eab9ff2c6f309f4f3a6",
            "301be6ead81c48879ddbebf14ddf13da",
            "ed5561bb51894bd0be4ee51e48b24d68",
            "fe5141ec403f4d93900a526270aadddf",
            "6489cb3d60f849799bb59b6dd32896c5",
            "d107950aacef4c31bdf98b3ee73486ad",
            "f0965835e2bb43fda488c5790101dc61",
            "bc2263c48db84386ab51764a9470614c",
            "fd8140e7776445da99162ea960dacf2a",
            "9d998f6f54254fafb6b8b526bd8cf8fb",
            "76b2c186cd3f43a0ad33c961395bb537",
            "2cb92f2b9db14e58836e861e9fd2f365",
            "d083e827f9ba4870b775373678992e56",
            "fa36b6ffef494db3a5ba919ffb1c5eca",
            "d616472095d743db92149e5f3ad51a29",
            "e190c012a39548d794cdc2f6a006effd",
            "322b29effd3645d793634c8b3fd6d0ac",
            "6933d89b271844ac89f5bc50a24f0bce",
            "353f8bd539dc49e7bc9f88c3eff892f5",
            "a3848d3697a44b309d4a955189e0d551",
            "be7b79fef4ef403fb85e69ed9f2d86bf",
            "257b60dc7f734107bb7c67b34f07cb8b",
            "e6ad2d365c1945c38283d41889337c00",
            "273fe8c291454bc7bfbaa28590ba621b",
            "5717cb47e8934c96bab0bdd34865cdcb",
            "ab4e474246e14f5084b545667052b82e",
            "5d3f6c80d068471696819199303f0c27",
            "5df5a495e4c541a5874d1400812daa88",
            "3ee6f86a9dd0466382ef7ffadf60806f",
            "0a0cdfdeff8a43248c811021f53eaecf",
            "1b3be2806ea24d6a96796768863350e5",
            "b51aeb544495408289495947a5e4abbf",
            "f9c435602f204b7c90b10ccb5d20bf15",
            "b6958e596db14cbc8783f1ff6d796f30",
            "27b96c4c0b764b0681347f12c88db7fe",
            "f27caed27d9b4492b108d83afcb6660e",
            "448156856fdf4767b0bd7cb78c43af47",
            "06f7c5fa30ff4d8295a340d0a7042b14",
            "3a0b17058a5c40b7bcbaa3a42f9f4314",
            "fd1b30acf4d1434b949b9657e53c85d8",
            "c220f9f31ae049d793de817addf6b631",
            "a14ea9ca335249888f49dd230ea73218",
            "4c2eedc66ffe4ae386e07c81257b65b6",
            "25b7aacadb4a4bf8841f6a22a6590165",
            "27076299ce824935a791a0d3511d2eb8",
            "6a6dea2fd6d0452484832ff9e638b520",
            "6bb24fdfbe414f6fa76a0b470b9831b4",
            "73e23244fa8e4923b4c0971e6f9dee59",
            "c4212b9769e441a8942ba975626b4d3e",
            "9df6cb73431548b29bead71599c9688c",
            "9ac9d6020970461d87d872a905a75d4c",
            "6c35e23ef9494c52a68be42ac43e46c4",
            "263632c745444fc6af0775d7d8ebfd6a",
            "adca24ba8be24c3fbfefe806061a5cd4",
            "dc443f064a88417fb5fd66d6cbf3a546",
            "a37661bda9154386a0b6111c3c95fbcb",
            "0a28f564787e426288621b38fb154304",
            "586c3cae52404c01b18fdc4eab5d1f36",
            "1249f2332deb46dca5ce44ec1c7183e1",
            "3fe00dfe101f4bd4bea550ac52c74e4d",
            "a3bb3b2fcb4443a18ed54019152e0f54",
            "abfe4498ef494ca2a9645cbf2481d2bd",
            "ae92a26a44a24ff09f9a71c6baecf6d2",
            "f6efe652f7c74bcc99c8ccd9778953c0",
            "d38d1425234949c48d0867ebaf5637e8",
            "bf2b68ef0d5549f29170b93c582ef544",
            "a422cd255b10456cac54850567edf68c",
            "6f6788a85a254605b9cb7c87ce7a37df",
            "07bbba14b9224f85b01a67c108629851",
            "f36a0af22a9c41a09df39b04fa0a496a",
            "150d366e53cd4977a26999d98ec37da9",
            "cfa2424ed0ee4eedad28a5eec7a6c2e4",
            "e595d228ccf74fc4af7ee4004c9f9e34",
            "f2b3efec1cdf43b3b99d0b74b4c2a39e",
            "ac563b22ba284e9c98b45fa6176f8a08",
            "5b449a096f844472babd4ff7ec29c19c",
            "c8954b25ce9f4d768ee6aaaa9ae51a21",
            "b698a9d0443a437ba24cf1a40ad257cb",
            "0e4917f2a1a8434489ae98721bc83454",
            "5141a7b8fee14f77aac6933db4942109",
            "df0c9f40d2dd46128ff3ea4771316bfb",
            "cccb62c7c42d466098ca61455de0ab71",
            "6a3184aee23641ad9206528272ab1b34",
            "bffa295a30194d61bbb41d514d53b4d2",
            "22e864802b734e6b9ff17ab1e8210ad6",
            "b37e851b47f645f5b07f6ec2030f7cd1",
            "6d94c9f558b84c7185a9aeee40343a9c",
            "8c5e00a918e74c56ae30b84557612908"
          ]
        },
        "outputId": "c07b9d8e-fe89-40ef-f31f-6dcd031f8a37"
      },
      "execution_count": 5,
      "outputs": [
        {
          "output_type": "display_data",
          "data": {
            "text/plain": [
              "Downloading (…)lve/main/config.json:   0%|          | 0.00/587 [00:00<?, ?B/s]"
            ],
            "application/vnd.jupyter.widget-view+json": {
              "version_major": 2,
              "version_minor": 0,
              "model_id": "bb80469e1bab4eab9ff2c6f309f4f3a6"
            }
          },
          "metadata": {}
        },
        {
          "output_type": "stream",
          "name": "stderr",
          "text": [
            "/usr/local/lib/python3.10/dist-packages/transformers/modeling_utils.py:2193: FutureWarning: The `use_auth_token` argument is deprecated and will be removed in v5 of Transformers.\n",
            "  warnings.warn(\n"
          ]
        },
        {
          "output_type": "display_data",
          "data": {
            "text/plain": [
              "Downloading (…)fetensors.index.json:   0%|          | 0.00/33.4k [00:00<?, ?B/s]"
            ],
            "application/vnd.jupyter.widget-view+json": {
              "version_major": 2,
              "version_minor": 0,
              "model_id": "2cb92f2b9db14e58836e861e9fd2f365"
            }
          },
          "metadata": {}
        },
        {
          "output_type": "display_data",
          "data": {
            "text/plain": [
              "Downloading shards:   0%|          | 0/3 [00:00<?, ?it/s]"
            ],
            "application/vnd.jupyter.widget-view+json": {
              "version_major": 2,
              "version_minor": 0,
              "model_id": "e6ad2d365c1945c38283d41889337c00"
            }
          },
          "metadata": {}
        },
        {
          "output_type": "display_data",
          "data": {
            "text/plain": [
              "Downloading (…)of-00003.safetensors:   0%|          | 0.00/9.95G [00:00<?, ?B/s]"
            ],
            "application/vnd.jupyter.widget-view+json": {
              "version_major": 2,
              "version_minor": 0,
              "model_id": "b6958e596db14cbc8783f1ff6d796f30"
            }
          },
          "metadata": {}
        },
        {
          "output_type": "display_data",
          "data": {
            "text/plain": [
              "Downloading (…)of-00003.safetensors:   0%|          | 0.00/9.90G [00:00<?, ?B/s]"
            ],
            "application/vnd.jupyter.widget-view+json": {
              "version_major": 2,
              "version_minor": 0,
              "model_id": "27076299ce824935a791a0d3511d2eb8"
            }
          },
          "metadata": {}
        },
        {
          "output_type": "display_data",
          "data": {
            "text/plain": [
              "Downloading (…)of-00003.safetensors:   0%|          | 0.00/6.18G [00:00<?, ?B/s]"
            ],
            "application/vnd.jupyter.widget-view+json": {
              "version_major": 2,
              "version_minor": 0,
              "model_id": "a37661bda9154386a0b6111c3c95fbcb"
            }
          },
          "metadata": {}
        },
        {
          "output_type": "display_data",
          "data": {
            "text/plain": [
              "Loading checkpoint shards:   0%|          | 0/3 [00:00<?, ?it/s]"
            ],
            "application/vnd.jupyter.widget-view+json": {
              "version_major": 2,
              "version_minor": 0,
              "model_id": "a422cd255b10456cac54850567edf68c"
            }
          },
          "metadata": {}
        },
        {
          "output_type": "display_data",
          "data": {
            "text/plain": [
              "Downloading (…)neration_config.json:   0%|          | 0.00/188 [00:00<?, ?B/s]"
            ],
            "application/vnd.jupyter.widget-view+json": {
              "version_major": 2,
              "version_minor": 0,
              "model_id": "b698a9d0443a437ba24cf1a40ad257cb"
            }
          },
          "metadata": {}
        },
        {
          "output_type": "stream",
          "name": "stdout",
          "text": [
            "CPU times: user 49.4 s, sys: 47.4 s, total: 1min 36s\n",
            "Wall time: 5min 44s\n"
          ]
        },
        {
          "output_type": "execute_result",
          "data": {
            "text/plain": [
              "LlamaForCausalLM(\n",
              "  (model): LlamaModel(\n",
              "    (embed_tokens): Embedding(32000, 5120, padding_idx=0)\n",
              "    (layers): ModuleList(\n",
              "      (0-39): 40 x LlamaDecoderLayer(\n",
              "        (self_attn): LlamaAttention(\n",
              "          (q_proj): Linear4bit(in_features=5120, out_features=5120, bias=False)\n",
              "          (k_proj): Linear4bit(in_features=5120, out_features=5120, bias=False)\n",
              "          (v_proj): Linear4bit(in_features=5120, out_features=5120, bias=False)\n",
              "          (o_proj): Linear4bit(in_features=5120, out_features=5120, bias=False)\n",
              "          (rotary_emb): LlamaRotaryEmbedding()\n",
              "        )\n",
              "        (mlp): LlamaMLP(\n",
              "          (gate_proj): Linear4bit(in_features=5120, out_features=13824, bias=False)\n",
              "          (up_proj): Linear4bit(in_features=5120, out_features=13824, bias=False)\n",
              "          (down_proj): Linear4bit(in_features=13824, out_features=5120, bias=False)\n",
              "          (act_fn): SiLUActivation()\n",
              "        )\n",
              "        (input_layernorm): LlamaRMSNorm()\n",
              "        (post_attention_layernorm): LlamaRMSNorm()\n",
              "      )\n",
              "    )\n",
              "    (norm): LlamaRMSNorm()\n",
              "  )\n",
              "  (lm_head): Linear(in_features=5120, out_features=32000, bias=False)\n",
              ")"
            ]
          },
          "metadata": {},
          "execution_count": 5
        }
      ]
    },
    {
      "cell_type": "code",
      "source": [
        "%%time\n",
        "import torch\n",
        "model_name = \"meta-llama/Llama-2-13b-chat-hf\"\n",
        "tokenizer = transformers.AutoTokenizer.from_pretrained(\n",
        "    model_name,\n",
        "    use_auth_token=hf_auth\n",
        ")\n",
        "\n",
        "\n",
        "generate_text = transformers.pipeline(\n",
        "    model=model, tokenizer=tokenizer,\n",
        "    return_full_text=True,  # langchain expects the full text\n",
        "    task='text-generation',\n",
        "    temperature=0.0,\n",
        "    max_new_tokens=256,  # number of tokens to generate in the output\n",
        "    repetition_penalty=1.1\n",
        ")\n",
        "\n",
        "filter_text = transformers.pipeline(\n",
        "    model=model, tokenizer=tokenizer,\n",
        "    task='text-generation',\n",
        "    temperature=0.0,\n",
        "    max_new_tokens=20,  # number of tokens to generate in the output\n",
        "    repetition_penalty=1.1\n",
        ")\n",
        ""
      ],
      "metadata": {
        "colab": {
          "base_uri": "https://localhost:8080/"
        },
        "id": "pWDkwOQmt41q",
        "outputId": "dc2eeab3-7a06-417a-91c8-5a27cf82d54f"
      },
      "execution_count": 108,
      "outputs": [
        {
          "output_type": "stream",
          "name": "stdout",
          "text": [
            "CPU times: user 80 ms, sys: 2.89 ms, total: 82.9 ms\n",
            "Wall time: 139 ms\n"
          ]
        },
        {
          "output_type": "stream",
          "name": "stderr",
          "text": [
            "/usr/local/lib/python3.10/dist-packages/transformers/tokenization_utils_base.py:1714: FutureWarning: The `use_auth_token` argument is deprecated and will be removed in v5 of Transformers.\n",
            "  warnings.warn(\n"
          ]
        }
      ]
    },
    {
      "cell_type": "code",
      "source": [
        "filter_text('Give Yes/No answer to the question. Is Albert Einstein still alive? Answer:')"
      ],
      "metadata": {
        "colab": {
          "base_uri": "https://localhost:8080/"
        },
        "id": "K5os2sq1Bc3n",
        "outputId": "f35f4695-c187-4d4a-94df-5910a1531297"
      },
      "execution_count": 111,
      "outputs": [
        {
          "output_type": "execute_result",
          "data": {
            "text/plain": [
              "[{'generated_text': 'Give Yes/No answer to the question. Is Albert Einstein still alive? Answer: No, Albert Einstein passed away in 1955.'}]"
            ]
          },
          "metadata": {},
          "execution_count": 111
        }
      ]
    },
    {
      "cell_type": "markdown",
      "source": [
        "###3.2 Flan-T5-base\n",
        "\n",
        "We download Flan-T5-base - a general purporse instruction following langugage model for the purpose of using it within filtering module of LangChain's retriever chain (see details in next sections)."
      ],
      "metadata": {
        "id": "LYRkcECw_RjG"
      }
    },
    {
      "cell_type": "code",
      "source": [
        "model_name='google/flan-t5-base'\n",
        "from transformers import AutoModelForSeq2SeqLM, AutoTokenizer\n",
        "\n",
        "original_model = AutoModelForSeq2SeqLM.from_pretrained(model_name, torch_dtype=torch.bfloat16)\n",
        "tokenizer = AutoTokenizer.from_pretrained(model_name)"
      ],
      "metadata": {
        "colab": {
          "base_uri": "https://localhost:8080/",
          "height": 241,
          "referenced_widgets": [
            "0722014e73f74694b387169309b369e7",
            "5430204df4e74b868a4ced6688bd2847",
            "8d38712f7e0446e48418c155681b7bc9",
            "630cdaea49974bc3a8cd1ffb69ed4d8b",
            "ec74a1d3071a4ca4b4d1f0bd61f74f7d",
            "6cfe8960d927412890db6822e4396908",
            "7df654f3f2e44ec382bdb7b58f967359",
            "a3bdba0587cc41aebbfecb2ee54c6563",
            "e72b1c6d3fae42488278743baada5d8e",
            "94f38ffe41c741549302cb88fcc8c084",
            "65834db24f1746f79dd24f28071b14b9",
            "e1fe2b39064b42b2847eec0184dd5956",
            "6beebbed328c4292a317d499ff02cfc3",
            "1f6b207b725749dd811def4df780abed",
            "271bde6313564fc8abadbec2d82cae40",
            "a48e20d5ad5d4e7889347cca3baff21a",
            "003f764a6eb34bbb95674b30d6d3db1c",
            "d698e92b17204dab9672664b4c4412dc",
            "9c015ef0262146af9b1b8b9b72c1df17",
            "1b10c2636eb94796b7b306e3f9c0a96e",
            "63e883f90edb4bd6847b0331bcccac2e",
            "53489fe85f1e437b8b3a31fcc5eef9f8",
            "168f1b0533c34b56bf721db55c9a2ce4",
            "89ff95c3f1ce4a1dbde53df2f641ec80",
            "a983ab87e0a74e889b5862935c4e1dfa",
            "8b76720132b647eb9055052766413b35",
            "f9c74de72f5c44649cb87b7dc66abcb2",
            "3230752bbc304fa487293b1aea15f2aa",
            "b7ade06dd05d4b93a3691c6ddbb7cfaa",
            "07e8bc62fb8d4bfd9527c825225d4748",
            "9fcce2c93d394c45b0148b96a8c6bb43",
            "701cdb7f15af4e18a4e4d2597bec3f08",
            "c7fa7baaa33a4a7e9ae302324d529b2a",
            "b02ad2c68b8246388bcefa800b21e2b6",
            "4f9e8afbd8fa45b0ba3c58304c33c070",
            "96ce6931512c4b7dbede743066c63194",
            "067ab565d523403ebeb69f89b727336d",
            "9ea1a371c282451dbac9970bc65b34be",
            "8105b9575f7c49d88ea85b9f032a0c75",
            "d14e48e6435c46c19a62ec0674b73c03",
            "6835649092764a21aba4ece9a8fa888e",
            "8583e9faddf946c7bd82b560fd75b85e",
            "06f66fe0278d4645aa90f2c9f0a35f95",
            "9bed0d4d6ffc4af39642245de3128c3d",
            "03c9cbf6104542dba6b4a33fb8abc253",
            "3b1e518adba84686ae9924c9d3376f99",
            "3ee8871acf674b7a9fb5364b49f5ad60",
            "23da000f1cc24565a8306460090a4722",
            "4065570709c0460ca3220759e5248941",
            "a700d0e4570e46eda56937d6c325133f",
            "47a80529a7e14e9b809a23a1e9dc350d",
            "05f1711a13a348b88841d159e79efbb7",
            "846286c084c94c2b90daefb603a30f03",
            "a94897c96afb4937a3103f634fa69ff4",
            "53a8896c8adb4f849604ce1cfed05b7e",
            "5e2ff94578b64620815fc56b2887441d",
            "5572e7d2a7d34c91a990b8369f5940f5",
            "87ec24d397684ec3b15f6804608dc995",
            "9973cf73e9ac4f29847e570b862b00ba",
            "7dc77f4855404af7976e0aa2bf08b8ff",
            "5237d2b09b3042019f7ba9e7f952e4e4",
            "163fd4c688cd46f4987f49c579f41203",
            "ef89022506864e09a3763da3506def7a",
            "dce873f004e845b286b5891baa40f790",
            "5b41b6963cc541219cd58cad0f8e6034",
            "eaa63c7469fd4ebea2653f2cb1b524d4",
            "bf6d866ab39d4e478c5cb43c3453b2a9",
            "88ee64ff912b44c99de0a06d89c4e22f",
            "fe0bb89b4dd242cfb0a5d9a392eca1b9",
            "46e259a9087d4864a1a4839c344e0098",
            "e50a7c8c833a497e915dd9ee40b33a3e",
            "e5665677c26e493895a99ff66f49ffb7",
            "15f99425e85a4f9395de6ea3955f3920",
            "a83bf783884842208333050a77cd4b77",
            "5be29687a69e40969148cc8f6a51d290",
            "ba9a2c6ca59443b39a14d5245c4f1ad4",
            "cbd6bb4728ed46d9bb0c57cec59f64f7"
          ]
        },
        "id": "QFeLjY9F_UtJ",
        "outputId": "18ea5def-191c-4381-e747-ddf297ce4822"
      },
      "execution_count": 87,
      "outputs": [
        {
          "output_type": "display_data",
          "data": {
            "text/plain": [
              "Downloading (…)lve/main/config.json:   0%|          | 0.00/1.40k [00:00<?, ?B/s]"
            ],
            "application/vnd.jupyter.widget-view+json": {
              "version_major": 2,
              "version_minor": 0,
              "model_id": "0722014e73f74694b387169309b369e7"
            }
          },
          "metadata": {}
        },
        {
          "output_type": "display_data",
          "data": {
            "text/plain": [
              "Downloading model.safetensors:   0%|          | 0.00/990M [00:00<?, ?B/s]"
            ],
            "application/vnd.jupyter.widget-view+json": {
              "version_major": 2,
              "version_minor": 0,
              "model_id": "e1fe2b39064b42b2847eec0184dd5956"
            }
          },
          "metadata": {}
        },
        {
          "output_type": "display_data",
          "data": {
            "text/plain": [
              "Downloading (…)neration_config.json:   0%|          | 0.00/147 [00:00<?, ?B/s]"
            ],
            "application/vnd.jupyter.widget-view+json": {
              "version_major": 2,
              "version_minor": 0,
              "model_id": "168f1b0533c34b56bf721db55c9a2ce4"
            }
          },
          "metadata": {}
        },
        {
          "output_type": "display_data",
          "data": {
            "text/plain": [
              "Downloading (…)okenizer_config.json:   0%|          | 0.00/2.54k [00:00<?, ?B/s]"
            ],
            "application/vnd.jupyter.widget-view+json": {
              "version_major": 2,
              "version_minor": 0,
              "model_id": "b02ad2c68b8246388bcefa800b21e2b6"
            }
          },
          "metadata": {}
        },
        {
          "output_type": "display_data",
          "data": {
            "text/plain": [
              "Downloading spiece.model:   0%|          | 0.00/792k [00:00<?, ?B/s]"
            ],
            "application/vnd.jupyter.widget-view+json": {
              "version_major": 2,
              "version_minor": 0,
              "model_id": "03c9cbf6104542dba6b4a33fb8abc253"
            }
          },
          "metadata": {}
        },
        {
          "output_type": "display_data",
          "data": {
            "text/plain": [
              "Downloading (…)/main/tokenizer.json:   0%|          | 0.00/2.42M [00:00<?, ?B/s]"
            ],
            "application/vnd.jupyter.widget-view+json": {
              "version_major": 2,
              "version_minor": 0,
              "model_id": "5e2ff94578b64620815fc56b2887441d"
            }
          },
          "metadata": {}
        },
        {
          "output_type": "display_data",
          "data": {
            "text/plain": [
              "Downloading (…)cial_tokens_map.json:   0%|          | 0.00/2.20k [00:00<?, ?B/s]"
            ],
            "application/vnd.jupyter.widget-view+json": {
              "version_major": 2,
              "version_minor": 0,
              "model_id": "bf6d866ab39d4e478c5cb43c3453b2a9"
            }
          },
          "metadata": {}
        }
      ]
    },
    {
      "cell_type": "code",
      "source": [
        "flan_generator = transformers.pipeline(\n",
        "    task=\"text2text-generation\",\n",
        "    model = original_model,  tokenizer=tokenizer,\n",
        "    temperature=0.0,\n",
        "    max_new_tokens=50,\n",
        "    repetition_penalty=1.1 )\n",
        "flan_generator('Answer question with Yes or No. Is Albert Einstein still alive? Answer:')\n"
      ],
      "metadata": {
        "colab": {
          "base_uri": "https://localhost:8080/"
        },
        "id": "lxd7E9zs_UrD",
        "outputId": "fa0db140-569e-4c86-ead3-3c3bcc1189dd"
      },
      "execution_count": 91,
      "outputs": [
        {
          "output_type": "stream",
          "name": "stderr",
          "text": [
            "Both `max_new_tokens` (=50) and `max_length`(=20) seem to have been set. `max_new_tokens` will take precedence. Please refer to the documentation for more information. (https://huggingface.co/docs/transformers/main/en/main_classes/text_generation)\n"
          ]
        },
        {
          "output_type": "execute_result",
          "data": {
            "text/plain": [
              "[{'generated_text': 'No'}]"
            ]
          },
          "metadata": {},
          "execution_count": 91
        }
      ]
    },
    {
      "cell_type": "markdown",
      "source": [
        "## 3.2. Get embeddings"
      ],
      "metadata": {
        "id": "D47L3QPSRrvY"
      }
    },
    {
      "cell_type": "markdown",
      "source": [
        "Let's select some small embeddings model based on [HF's leaderboard](https://huggingface.co/spaces/mteb/leaderboard)."
      ],
      "metadata": {
        "id": "3Xe1_aQTo3vG"
      }
    },
    {
      "cell_type": "code",
      "source": [
        "\n",
        "from torch import cuda\n",
        "from langchain.embeddings.huggingface import HuggingFaceEmbeddings\n",
        "\n",
        "embed_model_id = 'sentence-transformers/all-mpnet-base-v2' # all-MiniLM-L6-v2 and all-MiniLM-L12-v2 were also tried but were given worse results\n",
        "\n",
        "device = f'cuda:{cuda.current_device()}' if cuda.is_available() else 'cpu'\n",
        "\n",
        "embed_model = HuggingFaceEmbeddings(\n",
        "    model_name=embed_model_id,\n",
        "    model_kwargs={'device': device},\n",
        "    encode_kwargs={'device': device, 'batch_size': 32}\n",
        ")"
      ],
      "metadata": {
        "colab": {
          "base_uri": "https://localhost:8080/",
          "height": 465,
          "referenced_widgets": [
            "4ec4a476d0bb4d9faff08bcd7a8c6aff",
            "4521b96f61dc466cbaf8438d0cf878a7",
            "78f069dcbad84820bfa954683cbbf205",
            "ec5aa6460fb046bb96a91860565f2bfc",
            "5b177e99433d4654bcf0a8b4779fb848",
            "b13fba2f0acf4921b4d7c9d247797cf4",
            "8b2d8b2828714f25921567d151c50450",
            "92c64747e71d4e05b7655e70bbf4a0a5",
            "ac367cb3649e49aab7d2091b7786b9a1",
            "eb20e468b1fb43e99f0f52e7c140ed68",
            "4b4edc34492742c6a0134af8cabe2a0e",
            "bf64520649cf4eec9ab4078fbeb30b2a",
            "2c63ecf41ca94ad3947694052423f12f",
            "d52f2eaecb6c4f0089a72330640cc478",
            "8f7cde05360240f4b3d7ad25a3496d9f",
            "8cb905550a1148bd9ac2967c3efd473a",
            "c9f4d025615646b7b7fec01ca082a136",
            "21d80aa00bdc43469aaa16a626c3f2b0",
            "4783acc0dab444369b0c73045356098c",
            "224f094c337841e5abd9d120589e2f5f",
            "bc4d0b1877cd48828d623a58d5a06da2",
            "4e8c9230f2984fd9ba38e7ea4876a1be",
            "0cabbc5ca071427cb1f14080783e7f46",
            "78f80b9a19854c2caca895a92711db59",
            "435be8dd1847406897fca7829aff9a5c",
            "1c72cc042dc64b9b9534251ffebdf1b8",
            "3b6ced3da9ae4cfb86826a42e8b1a087",
            "efd617490b89485c973f80cfb9dbceb6",
            "4087347cb775423c9cb29ef361b6bc44",
            "68ef8c29ac5245e68149ae5c3b32c23b",
            "320168388074472aac8e0bcf90261151",
            "edfb5c5efeb740d9b9b9db6a15036992",
            "848dcf0a43694282a70ff92d5708e7ea",
            "8bf8160a1538467d929bf3dd32ae169a",
            "7716613d51644b9cb1618af911963a7d",
            "c1f15374603341ca9b0a8a6fa8bc119d",
            "64b797a71f034ce39906ba5721135486",
            "f2cc11ecafd745c080d74f0bdb802751",
            "d0ce67d4f1b94c7191330ab036949f8a",
            "0a234f1524e84eafa77223c252745b6e",
            "486e2dac18b6492f8c24eb76b5444577",
            "d5b1e43b96b546b19374b20a4914c03d",
            "f1d21d04e1564a4aaa14208d86f5b2ca",
            "40673ad8fe8947059b915df6233d52b3",
            "15941f6663b84af69aa6de33d9db3490",
            "0b949bc5f7a44d16a07ef50ef2e1aead",
            "7c6d4ff6b27f4900a18569660b469729",
            "f3b15f0b86e448e7ade038f9b70f7cde",
            "e26a578ba6a5480f8be79b2c5497c76d",
            "57cf2ba7e7614e8d896f9903f7419d60",
            "05bc9934a53a4c0d88d73f483f74b987",
            "9bdb4d83828a40d09e3789853d24d721",
            "8cbcfa24a9ad44a0851d0c8c367da046",
            "c59324603e7a429887602f5e48b62766",
            "d69156f94c5a45129fee40a2264dd09f",
            "db5b47b2c39c48f3a512444b165089bc",
            "996a70218ed24ad6a2c55b6f8eee5eef",
            "b4b5f09ab1c542d28d6d336151e59663",
            "f259a96ab61b46508e60e6e59171651d",
            "a3d2be8e95a74ec0b76ba0b7755d2c55",
            "bc6f319c8714469b837382fc111d180e",
            "f37f798ec324493bbaf38d66faf9e7d5",
            "f429b851d8fd4552afe208fdb7728803",
            "6503face46de47c4b1acd439595a6ca2",
            "afda936f40c34025a705340862712253",
            "82978a803d89438abfc8a0087ffeee32",
            "76334dbcd2924884b22063f00ecebe09",
            "933bad4c91ec44bcb8b3aaa917d44352",
            "a8f596c10341443d854f2d398a430153",
            "ae1b73cf99554e23a7cca78055918256",
            "8e155572bf67413eb4a2f49fb295e008",
            "5e3a74e71d104af689cb274e73088e61",
            "b45dedfa017440aca599f1bba1005630",
            "bed25c8e38ba4443bd8af5c2f70d3936",
            "7586c962ddc04439b8db3763491f8afa",
            "838f50f53fd34e5db691b1b4c99ddb8e",
            "789c5f9814c54a9db7f8ce826bba7168",
            "d1840fe6cbe4496c8f3c2aa77f3c9756",
            "d93ab6420e12462691a639b663f13840",
            "757e845e8256417da0a76e9427fb50d4",
            "61ed2b170880406d9e6d4d268dfdd8de",
            "7d4faebdc7cb404a976312dedc4cdedc",
            "5dbc16755b974dfda2a87b6c83c9f74f",
            "da983a1fb5cc45f5bb47762bd7d8b9dd",
            "2e1a3f9a0b964445a105feda2f9c2bd2",
            "31cecdb499e2438686bfcfc984bc36db",
            "32e2014801e54d08bad726f98720ef41",
            "5a9f5f7546bd415eaa4c5cdce5a8ce75",
            "72acb8f5d9f948f8b38786f6dd49aa50",
            "5ddea22a1222494d8f2d874def631db5",
            "11a9dc54708e458197768c9f7034ec85",
            "11290716a4f844be801a5096baba8c8f",
            "2790e68e1a994d409d95532902679a30",
            "3ddc2e21439f4cb781af2be6f9c85078",
            "1dd0bd34aee8467db92388c859375b59",
            "f6ff3d20ecc04fad81758d230d8e66ac",
            "197cc180fe1a46e69ec2de437b82dfd6",
            "a47074e1791c4bf1a3275eb3370bbf5b",
            "dea5e7629cef45c9b36ea9650fb03f1b",
            "3417cc76ff29408189fecca804a424e3",
            "c8fcad3c6a714290ba70dfa5d3e97864",
            "17d48dfd7f53446cb3319875c3a7658f",
            "855943a7dc664a5cb8c70276bbd8c7ea",
            "27f7e9174ae24335a978e284db44251f",
            "d1d1c7a04453400abe36e1f15c9b7796",
            "9e481dede9fa409b8d55159e8c81229f",
            "7ad458f3bc2144a094791137c320cb7b",
            "d48fcbae01224164a657ea23874e74d5",
            "81c02666f66e4a158d50ed348cde6c71",
            "3fc92ba48e2d4daaa1e41fe986889c01",
            "ce352d515eb7488b9737d9129cd0a0b4",
            "c4576bc932ed4d6ea9982c28ed5ee44a",
            "3ee5e92705814d5d8b00b3f7dcd376cd",
            "8b5cac852b5d49dd872b246281a8ddcc",
            "f07a604b802d490493fd65389c53635b",
            "4cfc3ff8a3e04e7d9b3f0d614ccc4ee5",
            "84507d0af560483f8b5f433249201274",
            "beb7897ba77c43a89776e64f640bdc1a",
            "84311c2ee5574fa38b122b115f1c69b7",
            "b645582620e749a1b3b4a5bd2787487c",
            "5f90035adad54cf28635ff93ad067c74",
            "2490d066081c4bb9921052d3014e0e58",
            "36c90a64bb1f4ef98874183780edc7ff",
            "9f5b8e19348f480abb86853393f77023",
            "bfc2c9eca528490cb2d8a0ef891c88a1",
            "b7879fb0fcd14d63aa2fe547bd234677",
            "93e68c36a7bb48c39ddeb5a42c1b3029",
            "18bd221c7916493b8763590d3ae39071",
            "02ceff2861ed43e398bbf9b9b8507c30",
            "d5ebd4e03ffa4eac90d4abff851aaea9",
            "3bcb6f25045b4bc79e2d965ade839d0b",
            "a8bc004ac1064110933464684e3ada32",
            "6ce8505fb2674f50919bfdc356464226",
            "bba0525182e94654b62d0d52603cfdf7",
            "7c6171d4f8de48dbbb7a770bb47fbb1f",
            "401227cd514045a4ab865770f132972b",
            "0c5e4ec21456484e80c492ae7a13933a",
            "964ff74762db4d418d1fe8ae76c85017",
            "25d99c6af06e4231b53ce01ac265e87a",
            "954ef38a4a474c63849c9fc92321c3e5",
            "04ea53bb4904427c9f58ad4d7ea9606e",
            "347738ed2a93436b8383ba87a8268b52",
            "613773660da94970b683f374b829573c",
            "6ca6e3c42f70496fa158505a3bb8880f",
            "bbfdf54436584a889ed3a3a8916383c9",
            "0fbc4d3bfd0c4f10ab6073ee2c73394f",
            "6b1438d0c6f34b6d9e9d9655fe723430",
            "b51ce0dd10c644bbb38f5a4ca143b326",
            "40ea787c0c16411d9c82d38836ec50b8",
            "c2293e10732f48fe8b4638b12e631d5d",
            "773243bdb6634ade9695cb58ad9e3ecf",
            "1341ea354d444742986c273342597839",
            "8d8c65b9573040e68781b1c435353b60",
            "f257c198f94f429e8d8ab81fee0d72d9"
          ]
        },
        "id": "cQk7z5vJmyt8",
        "outputId": "c5898c0b-a108-453d-833d-3132309b905c"
      },
      "execution_count": 7,
      "outputs": [
        {
          "output_type": "display_data",
          "data": {
            "text/plain": [
              "Downloading (…)a8e1d/.gitattributes:   0%|          | 0.00/1.18k [00:00<?, ?B/s]"
            ],
            "application/vnd.jupyter.widget-view+json": {
              "version_major": 2,
              "version_minor": 0,
              "model_id": "4ec4a476d0bb4d9faff08bcd7a8c6aff"
            }
          },
          "metadata": {}
        },
        {
          "output_type": "display_data",
          "data": {
            "text/plain": [
              "Downloading (…)_Pooling/config.json:   0%|          | 0.00/190 [00:00<?, ?B/s]"
            ],
            "application/vnd.jupyter.widget-view+json": {
              "version_major": 2,
              "version_minor": 0,
              "model_id": "bf64520649cf4eec9ab4078fbeb30b2a"
            }
          },
          "metadata": {}
        },
        {
          "output_type": "display_data",
          "data": {
            "text/plain": [
              "Downloading (…)b20bca8e1d/README.md:   0%|          | 0.00/10.6k [00:00<?, ?B/s]"
            ],
            "application/vnd.jupyter.widget-view+json": {
              "version_major": 2,
              "version_minor": 0,
              "model_id": "0cabbc5ca071427cb1f14080783e7f46"
            }
          },
          "metadata": {}
        },
        {
          "output_type": "display_data",
          "data": {
            "text/plain": [
              "Downloading (…)0bca8e1d/config.json:   0%|          | 0.00/571 [00:00<?, ?B/s]"
            ],
            "application/vnd.jupyter.widget-view+json": {
              "version_major": 2,
              "version_minor": 0,
              "model_id": "8bf8160a1538467d929bf3dd32ae169a"
            }
          },
          "metadata": {}
        },
        {
          "output_type": "display_data",
          "data": {
            "text/plain": [
              "Downloading (…)ce_transformers.json:   0%|          | 0.00/116 [00:00<?, ?B/s]"
            ],
            "application/vnd.jupyter.widget-view+json": {
              "version_major": 2,
              "version_minor": 0,
              "model_id": "15941f6663b84af69aa6de33d9db3490"
            }
          },
          "metadata": {}
        },
        {
          "output_type": "display_data",
          "data": {
            "text/plain": [
              "Downloading (…)e1d/data_config.json:   0%|          | 0.00/39.3k [00:00<?, ?B/s]"
            ],
            "application/vnd.jupyter.widget-view+json": {
              "version_major": 2,
              "version_minor": 0,
              "model_id": "db5b47b2c39c48f3a512444b165089bc"
            }
          },
          "metadata": {}
        },
        {
          "output_type": "display_data",
          "data": {
            "text/plain": [
              "Downloading pytorch_model.bin:   0%|          | 0.00/438M [00:00<?, ?B/s]"
            ],
            "application/vnd.jupyter.widget-view+json": {
              "version_major": 2,
              "version_minor": 0,
              "model_id": "76334dbcd2924884b22063f00ecebe09"
            }
          },
          "metadata": {}
        },
        {
          "output_type": "display_data",
          "data": {
            "text/plain": [
              "Downloading (…)nce_bert_config.json:   0%|          | 0.00/53.0 [00:00<?, ?B/s]"
            ],
            "application/vnd.jupyter.widget-view+json": {
              "version_major": 2,
              "version_minor": 0,
              "model_id": "d1840fe6cbe4496c8f3c2aa77f3c9756"
            }
          },
          "metadata": {}
        },
        {
          "output_type": "display_data",
          "data": {
            "text/plain": [
              "Downloading (…)cial_tokens_map.json:   0%|          | 0.00/239 [00:00<?, ?B/s]"
            ],
            "application/vnd.jupyter.widget-view+json": {
              "version_major": 2,
              "version_minor": 0,
              "model_id": "72acb8f5d9f948f8b38786f6dd49aa50"
            }
          },
          "metadata": {}
        },
        {
          "output_type": "display_data",
          "data": {
            "text/plain": [
              "Downloading (…)a8e1d/tokenizer.json:   0%|          | 0.00/466k [00:00<?, ?B/s]"
            ],
            "application/vnd.jupyter.widget-view+json": {
              "version_major": 2,
              "version_minor": 0,
              "model_id": "3417cc76ff29408189fecca804a424e3"
            }
          },
          "metadata": {}
        },
        {
          "output_type": "display_data",
          "data": {
            "text/plain": [
              "Downloading (…)okenizer_config.json:   0%|          | 0.00/363 [00:00<?, ?B/s]"
            ],
            "application/vnd.jupyter.widget-view+json": {
              "version_major": 2,
              "version_minor": 0,
              "model_id": "ce352d515eb7488b9737d9129cd0a0b4"
            }
          },
          "metadata": {}
        },
        {
          "output_type": "display_data",
          "data": {
            "text/plain": [
              "Downloading (…)8e1d/train_script.py:   0%|          | 0.00/13.1k [00:00<?, ?B/s]"
            ],
            "application/vnd.jupyter.widget-view+json": {
              "version_major": 2,
              "version_minor": 0,
              "model_id": "2490d066081c4bb9921052d3014e0e58"
            }
          },
          "metadata": {}
        },
        {
          "output_type": "display_data",
          "data": {
            "text/plain": [
              "Downloading (…)b20bca8e1d/vocab.txt:   0%|          | 0.00/232k [00:00<?, ?B/s]"
            ],
            "application/vnd.jupyter.widget-view+json": {
              "version_major": 2,
              "version_minor": 0,
              "model_id": "6ce8505fb2674f50919bfdc356464226"
            }
          },
          "metadata": {}
        },
        {
          "output_type": "display_data",
          "data": {
            "text/plain": [
              "Downloading (…)bca8e1d/modules.json:   0%|          | 0.00/349 [00:00<?, ?B/s]"
            ],
            "application/vnd.jupyter.widget-view+json": {
              "version_major": 2,
              "version_minor": 0,
              "model_id": "6ca6e3c42f70496fa158505a3bb8880f"
            }
          },
          "metadata": {}
        }
      ]
    },
    {
      "cell_type": "code",
      "source": [
        "\n",
        "docs = [\n",
        "    \"example document about two rabbits\"\n",
        "]\n",
        "\n",
        "embeddings = embed_model.embed_documents(docs)\n",
        "\n",
        "print(f\"Dimension of embeddings is {len(embeddings[0])}.\")"
      ],
      "metadata": {
        "colab": {
          "base_uri": "https://localhost:8080/"
        },
        "id": "8PHJh-bWRCHM",
        "outputId": "1cbb1a7e-0186-4693-8f2e-2c335c8055d6"
      },
      "execution_count": 8,
      "outputs": [
        {
          "output_type": "stream",
          "name": "stdout",
          "text": [
            "Dimension of embeddings is 768.\n"
          ]
        }
      ]
    },
    {
      "cell_type": "markdown",
      "source": [
        "#4. Vector database (Pinecone / FAISS)"
      ],
      "metadata": {
        "id": "NPhBCpi_R0B4"
      }
    },
    {
      "cell_type": "markdown",
      "source": [
        "Initializing the vector db index for Pinecone:"
      ],
      "metadata": {
        "id": "PdM49WcipHdn"
      }
    },
    {
      "cell_type": "code",
      "source": [
        "import os\n",
        "import pinecone\n",
        "\n",
        "# get API key from app.pinecone.io and environment from console\n",
        "pinecone.init(\n",
        "    api_key=os.environ.get('PINECONE_API_KEY'),\n",
        "    environment=os.environ.get('PINECONE_ENVIRONMENT')\n",
        ")"
      ],
      "metadata": {
        "id": "o4glyTHxmyhc"
      },
      "execution_count": 13,
      "outputs": []
    },
    {
      "cell_type": "code",
      "source": [
        "import time\n",
        "\n",
        "index_name = 'rag-llama-2'\n",
        "\n",
        "if index_name not in pinecone.list_indexes():\n",
        "    pinecone.create_index(\n",
        "        index_name,\n",
        "        dimension=len(embeddings[0]),\n",
        "        metric='cosine'\n",
        "    )\n",
        "    # wait for index to finish initialization\n",
        "    while not pinecone.describe_index(index_name).status['ready']:\n",
        "        time.sleep(1)"
      ],
      "metadata": {
        "id": "ITGJRhLHpSyI"
      },
      "execution_count": 14,
      "outputs": []
    },
    {
      "cell_type": "code",
      "source": [
        "# pinecone.delete_index(\"rag-llama-2\")"
      ],
      "metadata": {
        "id": "MwWWAnKcpoxz"
      },
      "execution_count": 20,
      "outputs": []
    },
    {
      "cell_type": "code",
      "source": [
        "index = pinecone.Index(index_name)\n",
        "index.describe_index_stats()"
      ],
      "metadata": {
        "colab": {
          "base_uri": "https://localhost:8080/"
        },
        "id": "kCyagVQ-crQQ",
        "outputId": "30a5ff7c-8810-4452-b743-35fc06d4edbb"
      },
      "execution_count": 15,
      "outputs": [
        {
          "output_type": "execute_result",
          "data": {
            "text/plain": [
              "{'dimension': 768,\n",
              " 'index_fullness': 0.0,\n",
              " 'namespaces': {},\n",
              " 'total_vector_count': 0}"
            ]
          },
          "metadata": {},
          "execution_count": 15
        }
      ]
    },
    {
      "cell_type": "code",
      "source": [
        "len(books_df)"
      ],
      "metadata": {
        "colab": {
          "base_uri": "https://localhost:8080/"
        },
        "id": "ETgaX1jL1_Es",
        "outputId": "4dda29d5-8ec9-430a-aed4-68486de4bd53"
      },
      "execution_count": 131,
      "outputs": [
        {
          "output_type": "execute_result",
          "data": {
            "text/plain": [
              "105"
            ]
          },
          "metadata": {},
          "execution_count": 131
        }
      ]
    },
    {
      "cell_type": "code",
      "source": [
        "books_df.head()"
      ],
      "metadata": {
        "colab": {
          "base_uri": "https://localhost:8080/",
          "height": 275
        },
        "id": "sfdV7Hu-GvuY",
        "outputId": "ce702bac-1010-4002-a4fb-1d7db3fb7748"
      },
      "execution_count": 133,
      "outputs": [
        {
          "output_type": "execute_result",
          "data": {
            "text/plain": [
              "                                             id                         title  \\\n",
              "0  kca://book/amzn1.gr.book.v3.CI518ofIFidEXILu         Things We Left Behind   \n",
              "1  kca://book/amzn1.gr.book.v3.laK_97rF9qQjQGbP                 The Long Game   \n",
              "2  kca://book/amzn1.gr.book.v3.AbK983RbgzqySZEv            Bright Young Women   \n",
              "3  kca://book/amzn1.gr.book.v3.WMf4mFalogDRVJoY  The Fragile Threads of Power   \n",
              "4  kca://book/amzn1.gr.book.v3.fDu8MXBOGcUfyd89                         Rouge   \n",
              "\n",
              "                                         description  \\\n",
              "0  There was only one woman who could set me free...   \n",
              "1  A disgraced soccer exec reluctantly enlists th...   \n",
              "2  An extraordinary novel inspired by the real-li...   \n",
              "3  From the #1 New York Times bestselling author ...   \n",
              "4  From the critically acclaimed author of Bunny ...   \n",
              "\n",
              "                                              webUrl         author  rank  \n",
              "0  https://www.goodreads.com/book/show/116536542-...     Lucy Score     1  \n",
              "1  https://www.goodreads.com/book/show/101144869-...   Elena  Armas     2  \n",
              "2  https://www.goodreads.com/book/show/101124639-...  Jessica Knoll     3  \n",
              "3  https://www.goodreads.com/book/show/111673828-...    V.E. Schwab     4  \n",
              "4  https://www.goodreads.com/book/show/101160689-...      Mona Awad     5  "
            ],
            "text/html": [
              "\n",
              "  <div id=\"df-aa3cf750-a5be-4f7c-8f7d-13b0b86abf8a\" class=\"colab-df-container\">\n",
              "    <div>\n",
              "<style scoped>\n",
              "    .dataframe tbody tr th:only-of-type {\n",
              "        vertical-align: middle;\n",
              "    }\n",
              "\n",
              "    .dataframe tbody tr th {\n",
              "        vertical-align: top;\n",
              "    }\n",
              "\n",
              "    .dataframe thead th {\n",
              "        text-align: right;\n",
              "    }\n",
              "</style>\n",
              "<table border=\"1\" class=\"dataframe\">\n",
              "  <thead>\n",
              "    <tr style=\"text-align: right;\">\n",
              "      <th></th>\n",
              "      <th>id</th>\n",
              "      <th>title</th>\n",
              "      <th>description</th>\n",
              "      <th>webUrl</th>\n",
              "      <th>author</th>\n",
              "      <th>rank</th>\n",
              "    </tr>\n",
              "  </thead>\n",
              "  <tbody>\n",
              "    <tr>\n",
              "      <th>0</th>\n",
              "      <td>kca://book/amzn1.gr.book.v3.CI518ofIFidEXILu</td>\n",
              "      <td>Things We Left Behind</td>\n",
              "      <td>There was only one woman who could set me free...</td>\n",
              "      <td>https://www.goodreads.com/book/show/116536542-...</td>\n",
              "      <td>Lucy Score</td>\n",
              "      <td>1</td>\n",
              "    </tr>\n",
              "    <tr>\n",
              "      <th>1</th>\n",
              "      <td>kca://book/amzn1.gr.book.v3.laK_97rF9qQjQGbP</td>\n",
              "      <td>The Long Game</td>\n",
              "      <td>A disgraced soccer exec reluctantly enlists th...</td>\n",
              "      <td>https://www.goodreads.com/book/show/101144869-...</td>\n",
              "      <td>Elena  Armas</td>\n",
              "      <td>2</td>\n",
              "    </tr>\n",
              "    <tr>\n",
              "      <th>2</th>\n",
              "      <td>kca://book/amzn1.gr.book.v3.AbK983RbgzqySZEv</td>\n",
              "      <td>Bright Young Women</td>\n",
              "      <td>An extraordinary novel inspired by the real-li...</td>\n",
              "      <td>https://www.goodreads.com/book/show/101124639-...</td>\n",
              "      <td>Jessica Knoll</td>\n",
              "      <td>3</td>\n",
              "    </tr>\n",
              "    <tr>\n",
              "      <th>3</th>\n",
              "      <td>kca://book/amzn1.gr.book.v3.WMf4mFalogDRVJoY</td>\n",
              "      <td>The Fragile Threads of Power</td>\n",
              "      <td>From the #1 New York Times bestselling author ...</td>\n",
              "      <td>https://www.goodreads.com/book/show/111673828-...</td>\n",
              "      <td>V.E. Schwab</td>\n",
              "      <td>4</td>\n",
              "    </tr>\n",
              "    <tr>\n",
              "      <th>4</th>\n",
              "      <td>kca://book/amzn1.gr.book.v3.fDu8MXBOGcUfyd89</td>\n",
              "      <td>Rouge</td>\n",
              "      <td>From the critically acclaimed author of Bunny ...</td>\n",
              "      <td>https://www.goodreads.com/book/show/101160689-...</td>\n",
              "      <td>Mona Awad</td>\n",
              "      <td>5</td>\n",
              "    </tr>\n",
              "  </tbody>\n",
              "</table>\n",
              "</div>\n",
              "    <div class=\"colab-df-buttons\">\n",
              "\n",
              "  <div class=\"colab-df-container\">\n",
              "    <button class=\"colab-df-convert\" onclick=\"convertToInteractive('df-aa3cf750-a5be-4f7c-8f7d-13b0b86abf8a')\"\n",
              "            title=\"Convert this dataframe to an interactive table.\"\n",
              "            style=\"display:none;\">\n",
              "\n",
              "  <svg xmlns=\"http://www.w3.org/2000/svg\" height=\"24px\" viewBox=\"0 -960 960 960\">\n",
              "    <path d=\"M120-120v-720h720v720H120Zm60-500h600v-160H180v160Zm220 220h160v-160H400v160Zm0 220h160v-160H400v160ZM180-400h160v-160H180v160Zm440 0h160v-160H620v160ZM180-180h160v-160H180v160Zm440 0h160v-160H620v160Z\"/>\n",
              "  </svg>\n",
              "    </button>\n",
              "\n",
              "  <style>\n",
              "    .colab-df-container {\n",
              "      display:flex;\n",
              "      gap: 12px;\n",
              "    }\n",
              "\n",
              "    .colab-df-convert {\n",
              "      background-color: #E8F0FE;\n",
              "      border: none;\n",
              "      border-radius: 50%;\n",
              "      cursor: pointer;\n",
              "      display: none;\n",
              "      fill: #1967D2;\n",
              "      height: 32px;\n",
              "      padding: 0 0 0 0;\n",
              "      width: 32px;\n",
              "    }\n",
              "\n",
              "    .colab-df-convert:hover {\n",
              "      background-color: #E2EBFA;\n",
              "      box-shadow: 0px 1px 2px rgba(60, 64, 67, 0.3), 0px 1px 3px 1px rgba(60, 64, 67, 0.15);\n",
              "      fill: #174EA6;\n",
              "    }\n",
              "\n",
              "    .colab-df-buttons div {\n",
              "      margin-bottom: 4px;\n",
              "    }\n",
              "\n",
              "    [theme=dark] .colab-df-convert {\n",
              "      background-color: #3B4455;\n",
              "      fill: #D2E3FC;\n",
              "    }\n",
              "\n",
              "    [theme=dark] .colab-df-convert:hover {\n",
              "      background-color: #434B5C;\n",
              "      box-shadow: 0px 1px 3px 1px rgba(0, 0, 0, 0.15);\n",
              "      filter: drop-shadow(0px 1px 2px rgba(0, 0, 0, 0.3));\n",
              "      fill: #FFFFFF;\n",
              "    }\n",
              "  </style>\n",
              "\n",
              "    <script>\n",
              "      const buttonEl =\n",
              "        document.querySelector('#df-aa3cf750-a5be-4f7c-8f7d-13b0b86abf8a button.colab-df-convert');\n",
              "      buttonEl.style.display =\n",
              "        google.colab.kernel.accessAllowed ? 'block' : 'none';\n",
              "\n",
              "      async function convertToInteractive(key) {\n",
              "        const element = document.querySelector('#df-aa3cf750-a5be-4f7c-8f7d-13b0b86abf8a');\n",
              "        const dataTable =\n",
              "          await google.colab.kernel.invokeFunction('convertToInteractive',\n",
              "                                                    [key], {});\n",
              "        if (!dataTable) return;\n",
              "\n",
              "        const docLinkHtml = 'Like what you see? Visit the ' +\n",
              "          '<a target=\"_blank\" href=https://colab.research.google.com/notebooks/data_table.ipynb>data table notebook</a>'\n",
              "          + ' to learn more about interactive tables.';\n",
              "        element.innerHTML = '';\n",
              "        dataTable['output_type'] = 'display_data';\n",
              "        await google.colab.output.renderOutput(dataTable, element);\n",
              "        const docLink = document.createElement('div');\n",
              "        docLink.innerHTML = docLinkHtml;\n",
              "        element.appendChild(docLink);\n",
              "      }\n",
              "    </script>\n",
              "  </div>\n",
              "\n",
              "\n",
              "<div id=\"df-a74f2c46-1a71-406c-bd15-336b5d265de7\">\n",
              "  <button class=\"colab-df-quickchart\" onclick=\"quickchart('df-a74f2c46-1a71-406c-bd15-336b5d265de7')\"\n",
              "            title=\"Suggest charts.\"\n",
              "            style=\"display:none;\">\n",
              "\n",
              "<svg xmlns=\"http://www.w3.org/2000/svg\" height=\"24px\"viewBox=\"0 0 24 24\"\n",
              "     width=\"24px\">\n",
              "    <g>\n",
              "        <path d=\"M19 3H5c-1.1 0-2 .9-2 2v14c0 1.1.9 2 2 2h14c1.1 0 2-.9 2-2V5c0-1.1-.9-2-2-2zM9 17H7v-7h2v7zm4 0h-2V7h2v10zm4 0h-2v-4h2v4z\"/>\n",
              "    </g>\n",
              "</svg>\n",
              "  </button>\n",
              "\n",
              "<style>\n",
              "  .colab-df-quickchart {\n",
              "      --bg-color: #E8F0FE;\n",
              "      --fill-color: #1967D2;\n",
              "      --hover-bg-color: #E2EBFA;\n",
              "      --hover-fill-color: #174EA6;\n",
              "      --disabled-fill-color: #AAA;\n",
              "      --disabled-bg-color: #DDD;\n",
              "  }\n",
              "\n",
              "  [theme=dark] .colab-df-quickchart {\n",
              "      --bg-color: #3B4455;\n",
              "      --fill-color: #D2E3FC;\n",
              "      --hover-bg-color: #434B5C;\n",
              "      --hover-fill-color: #FFFFFF;\n",
              "      --disabled-bg-color: #3B4455;\n",
              "      --disabled-fill-color: #666;\n",
              "  }\n",
              "\n",
              "  .colab-df-quickchart {\n",
              "    background-color: var(--bg-color);\n",
              "    border: none;\n",
              "    border-radius: 50%;\n",
              "    cursor: pointer;\n",
              "    display: none;\n",
              "    fill: var(--fill-color);\n",
              "    height: 32px;\n",
              "    padding: 0;\n",
              "    width: 32px;\n",
              "  }\n",
              "\n",
              "  .colab-df-quickchart:hover {\n",
              "    background-color: var(--hover-bg-color);\n",
              "    box-shadow: 0 1px 2px rgba(60, 64, 67, 0.3), 0 1px 3px 1px rgba(60, 64, 67, 0.15);\n",
              "    fill: var(--button-hover-fill-color);\n",
              "  }\n",
              "\n",
              "  .colab-df-quickchart-complete:disabled,\n",
              "  .colab-df-quickchart-complete:disabled:hover {\n",
              "    background-color: var(--disabled-bg-color);\n",
              "    fill: var(--disabled-fill-color);\n",
              "    box-shadow: none;\n",
              "  }\n",
              "\n",
              "  .colab-df-spinner {\n",
              "    border: 2px solid var(--fill-color);\n",
              "    border-color: transparent;\n",
              "    border-bottom-color: var(--fill-color);\n",
              "    animation:\n",
              "      spin 1s steps(1) infinite;\n",
              "  }\n",
              "\n",
              "  @keyframes spin {\n",
              "    0% {\n",
              "      border-color: transparent;\n",
              "      border-bottom-color: var(--fill-color);\n",
              "      border-left-color: var(--fill-color);\n",
              "    }\n",
              "    20% {\n",
              "      border-color: transparent;\n",
              "      border-left-color: var(--fill-color);\n",
              "      border-top-color: var(--fill-color);\n",
              "    }\n",
              "    30% {\n",
              "      border-color: transparent;\n",
              "      border-left-color: var(--fill-color);\n",
              "      border-top-color: var(--fill-color);\n",
              "      border-right-color: var(--fill-color);\n",
              "    }\n",
              "    40% {\n",
              "      border-color: transparent;\n",
              "      border-right-color: var(--fill-color);\n",
              "      border-top-color: var(--fill-color);\n",
              "    }\n",
              "    60% {\n",
              "      border-color: transparent;\n",
              "      border-right-color: var(--fill-color);\n",
              "    }\n",
              "    80% {\n",
              "      border-color: transparent;\n",
              "      border-right-color: var(--fill-color);\n",
              "      border-bottom-color: var(--fill-color);\n",
              "    }\n",
              "    90% {\n",
              "      border-color: transparent;\n",
              "      border-bottom-color: var(--fill-color);\n",
              "    }\n",
              "  }\n",
              "</style>\n",
              "\n",
              "  <script>\n",
              "    async function quickchart(key) {\n",
              "      const quickchartButtonEl =\n",
              "        document.querySelector('#' + key + ' button');\n",
              "      quickchartButtonEl.disabled = true;  // To prevent multiple clicks.\n",
              "      quickchartButtonEl.classList.add('colab-df-spinner');\n",
              "      try {\n",
              "        const charts = await google.colab.kernel.invokeFunction(\n",
              "            'suggestCharts', [key], {});\n",
              "      } catch (error) {\n",
              "        console.error('Error during call to suggestCharts:', error);\n",
              "      }\n",
              "      quickchartButtonEl.classList.remove('colab-df-spinner');\n",
              "      quickchartButtonEl.classList.add('colab-df-quickchart-complete');\n",
              "    }\n",
              "    (() => {\n",
              "      let quickchartButtonEl =\n",
              "        document.querySelector('#df-a74f2c46-1a71-406c-bd15-336b5d265de7 button');\n",
              "      quickchartButtonEl.style.display =\n",
              "        google.colab.kernel.accessAllowed ? 'block' : 'none';\n",
              "    })();\n",
              "  </script>\n",
              "</div>\n",
              "\n",
              "    </div>\n",
              "  </div>\n"
            ]
          },
          "metadata": {},
          "execution_count": 133
        }
      ]
    },
    {
      "cell_type": "code",
      "source": [
        "batch_size = 16\n",
        "\n",
        "# upsert book releases data:\n",
        "for i in range(0, len(books_df), batch_size):\n",
        "    batch = books_df.iloc[i: i + batch_size]\n",
        "    ids = [f\"{r['id']}\" for i, r in batch.iterrows()]\n",
        "    texts = [f\"Novel title: '{r['title']}' by {r['author']}. Description: {r['description']}\" for i, r in batch.iterrows()]\n",
        "    embeds = embed_model.embed_documents(texts)\n",
        "    # get metadata to store in Pinecone\n",
        "    metadata = [\n",
        "        {'text': f\"Novel title: '{r['title']}' by {r['author']}. Description: {r['description']}\",\n",
        "         'title': r['title'],\n",
        "         'source': r['webUrl'],\n",
        "         'author': r['author']} for i, r in batch.iterrows()\n",
        "    ]\n",
        "    # add to Pinecone\n",
        "    index.upsert(vectors=zip(ids, embeds, metadata))\n",
        "\n",
        "\n",
        "# upsert NASA ADS cosmology data:\n",
        "# for i in range(0, len(nasa_ads_df), batch_size):\n",
        "#     batch = nasa_ads_df.iloc[i: i + batch_size]\n",
        "#     ids = [f\"{r['Bibcode']}\" for i, r in batch.iterrows()]\n",
        "#     texts = [f\"{r['Abstract']}\" for i, r in batch.iterrows()]\n",
        "#     embeds = embed_model.embed_documents(texts)\n",
        "#     # get metadata to store in Pinecone\n",
        "#     metadata = [\n",
        "#         {'text': r['Abstract'],\n",
        "#          'title': r['Title']} for i, r in batch.iterrows()\n",
        "#     ]\n",
        "#     # add to Pinecone\n",
        "#     index.upsert(vectors=zip(ids, embeds, metadata))"
      ],
      "metadata": {
        "id": "SG-B14D7myrV"
      },
      "execution_count": 21,
      "outputs": []
    },
    {
      "cell_type": "code",
      "source": [
        "index.describe_index_stats()"
      ],
      "metadata": {
        "colab": {
          "base_uri": "https://localhost:8080/"
        },
        "id": "r8qfF9Vycx2W",
        "outputId": "c3e70471-063b-41c1-ac68-6daa8294a210"
      },
      "execution_count": 23,
      "outputs": [
        {
          "output_type": "execute_result",
          "data": {
            "text/plain": [
              "{'dimension': 768,\n",
              " 'index_fullness': 0.00105,\n",
              " 'namespaces': {'': {'vector_count': 105}},\n",
              " 'total_vector_count': 105}"
            ]
          },
          "metadata": {},
          "execution_count": 23
        }
      ]
    },
    {
      "cell_type": "markdown",
      "source": [
        "#5. LangChain\n",
        "\n",
        "We initialize two modules from Langchain: the Hugginface llm pipeline and the RetrievalQA chain and compare their outputs against a set of questions based on the book releases from September from goodreads.\n",
        "\n",
        "We will be using RetrievalQA in two setups:\n",
        "- basic RAG with Pinecone as vectore store\n",
        "- enhanced RAG with more preprocessing in the pipeline. Concretely the enhanced RAG will use LangChain compressor and filter features to to help extract only useful information from the documents selected by the datastore. As the datastore we will use either Pinecone or FAISS - in-memory memory data vector store based on Meta's optimized library Faiss for efficient similarity search. Details below."
      ],
      "metadata": {
        "id": "7Nugy3lwSaGV"
      }
    },
    {
      "cell_type": "code",
      "source": [
        "from langchain.llms import HuggingFacePipeline\n",
        "\n",
        "llm = HuggingFacePipeline(pipeline=generate_text)\n",
        "\n",
        "\n",
        "from langchain.vectorstores import Pinecone\n",
        "\n",
        "text_field = 'text'  # field in metadata that contains text content\n",
        "\n",
        "vectordb = Pinecone(\n",
        "    index, embed_model.embed_query, text_field\n",
        ")"
      ],
      "metadata": {
        "id": "n0XhEiChSbmg"
      },
      "execution_count": 24,
      "outputs": []
    },
    {
      "cell_type": "code",
      "source": [
        "from langchain.chains import RetrievalQA\n",
        "\n",
        "rag = RetrievalQA.from_chain_type(\n",
        "    llm=llm, chain_type='stuff', verbose=True,\n",
        "    retriever=vectordb.as_retriever() #search_type=\"similarity_score_threshold\", search_kwargs={'score_threshold': 0.7})\n",
        ")"
      ],
      "metadata": {
        "id": "hoPLkTlGTVaT"
      },
      "execution_count": 25,
      "outputs": []
    },
    {
      "cell_type": "code",
      "source": [
        "# !pip install faiss-cpu"
      ],
      "metadata": {
        "id": "Ugvu-8PQr06I"
      },
      "execution_count": null,
      "outputs": []
    },
    {
      "cell_type": "markdown",
      "source": [
        "Below are details of enhanced RAG:\n",
        "We try two setups:\n",
        "- one with compressor which compresses the retrieved documents\n",
        "- another one with filter which filters out irrelevant documents from the set of retrieved documents. Filter is initialized with a LLM pipeline, which is in turn being asked a yes/no question about the relevance of each document for the query. Llama-2 seemed not to work in this setup because it wouldn't yeild simple 'yes'/'no' answer for the quetion embeded in the filter and so the filter would raise exception. We also tried setup with Flan-T5-base and it would cooperate with the filter, so in the experiments below Flan-T5 is used to filter documents and Llama-2 to generate the final output from RAG.\n",
        "- FAISS is used as in memory vector store just to compare its results with Pinecone."
      ],
      "metadata": {
        "id": "oGSUtoJYT4qW"
      }
    },
    {
      "cell_type": "code",
      "source": [
        "from langchain.vectorstores import FAISS\n",
        "from langchain.text_splitter import CharacterTextSplitter\n",
        "from langchain.embeddings import HuggingFaceEmbeddings\n",
        "from langchain.document_loaders import CSVLoader\n",
        "\n",
        "loader = CSVLoader(\n",
        "    file_path=\"/content/drive/MyDrive/ML/data/book_releases_september.csv\",\n",
        "    csv_args={\n",
        "        \"delimiter\": \",\",\n",
        "        \"fieldnames\": [\"id\", \"title\", \"description\", \"webUrl\", \"author\", \"rank\"],\n",
        "    },\n",
        ")\n",
        "\n",
        "documents = loader.load()\n",
        "\n",
        "embeddings = HuggingFaceEmbeddings(model_name='sentence-transformers/all-mpnet-base-v2')\n",
        "text_splitter = CharacterTextSplitter(chunk_size=1000, chunk_overlap=0)\n",
        "texts = text_splitter.split_documents(documents)\n",
        "\n",
        "retrieverFaiss = FAISS.from_documents(texts, embeddings).as_retriever()"
      ],
      "metadata": {
        "id": "udoa2hOTlGyr"
      },
      "execution_count": 26,
      "outputs": []
    },
    {
      "cell_type": "code",
      "source": [
        "from langchain.retrievers import ContextualCompressionRetriever\n",
        "from langchain.retrievers.document_compressors import LLMChainExtractor\n",
        "\n",
        "compressor = LLMChainExtractor.from_llm(llm)\n",
        "retriever = vectordb.as_retriever()\n",
        "compression_retriever = ContextualCompressionRetriever(base_compressor=compressor, base_retriever=retriever)\n",
        "compression_retriever_faiss = ContextualCompressionRetriever(base_compressor=compressor, base_retriever=retrieverFaiss)\n",
        "\n",
        "def pretty_print_docs(docs):\n",
        "    print(f\"\\n{'-' * 100}\\n\".join([f\"Document {i+1}:\\n\\n\" + d.page_content for i, d in enumerate(docs)]))"
      ],
      "metadata": {
        "id": "Nr5QyNJqiT1r"
      },
      "execution_count": 27,
      "outputs": []
    },
    {
      "cell_type": "code",
      "source": [
        "from langchain.retrievers.document_compressors import LLMChainFilter\n",
        "\n",
        "llm_filter = HuggingFacePipeline(pipeline=flan_generator)\n",
        "_filter = LLMChainFilter.from_llm(llm_filter)\n",
        "compression_retriever_filter = ContextualCompressionRetriever(base_compressor=_filter, base_retriever=retriever)\n",
        "compression_retriever_filter_faiss = ContextualCompressionRetriever(base_compressor=_filter, base_retriever=retrieverFaiss)\n"
      ],
      "metadata": {
        "id": "OVFnWwR-zNX4"
      },
      "execution_count": 119,
      "outputs": []
    },
    {
      "cell_type": "markdown",
      "source": [
        "#6. Testing the two setups\n",
        "Compare pure LLM answers and RetrievalQA answers to following questions:\n",
        "\n",
        "##6.1. Book releases questions\n",
        "\n"
      ],
      "metadata": {
        "id": "DlDRmPIuThZ_"
      }
    },
    {
      "cell_type": "code",
      "source": [
        "llm(\"What is the story of Lucian and Sloane in 'Things We Left Behind'?\")"
      ],
      "metadata": {
        "colab": {
          "base_uri": "https://localhost:8080/",
          "height": 88
        },
        "id": "RxodJ9QJEkXQ",
        "outputId": "77383f7f-e540-4b2c-80b5-235e2d2b7bcd"
      },
      "execution_count": 188,
      "outputs": [
        {
          "output_type": "execute_result",
          "data": {
            "text/plain": [
              "'\\n\\nAnswer: In \"Things We Left Behind,\" Lucian and Sloane are a couple who have been together for several years. They have a comfortable life together, but they both feel like something is missing. They decide to take a trip to a remote island to try and find what they\\'re looking for. During their time on the island, they encounter various challenges and obstacles, including a mysterious illness that affects them both. As they work together to overcome these challenges, they begin to realize that what they\\'ve been searching for all along is each other. The story explores themes of love, loss, and the power of human connection.'"
            ],
            "application/vnd.google.colaboratory.intrinsic+json": {
              "type": "string"
            }
          },
          "metadata": {},
          "execution_count": 188
        }
      ]
    },
    {
      "cell_type": "code",
      "source": [
        "rag(\"What is the story of Lucian and Sloane in 'Things We Left Behind'?\")"
      ],
      "metadata": {
        "colab": {
          "base_uri": "https://localhost:8080/"
        },
        "id": "auEF5foQ4MqK",
        "outputId": "3d6a3c08-4fcf-44c6-8f2b-84697cf365f8"
      },
      "execution_count": 187,
      "outputs": [
        {
          "output_type": "stream",
          "name": "stdout",
          "text": [
            "\n",
            "\n",
            "\u001b[1m> Entering new RetrievalQA chain...\u001b[0m\n",
            "\n",
            "\u001b[1m> Finished chain.\u001b[0m\n"
          ]
        },
        {
          "output_type": "execute_result",
          "data": {
            "text/plain": [
              "{'query': \"What is the story of Lucian and Sloane in 'Things We Left Behind'?\",\n",
              " 'result': \" In 'Things We Left Behind,' Lucian Rollins and Sloane Walton are enemies-to-lovers who have a complicated history together. They were once close friends, but a dark secret from their past drove them apart. Now, they are both driven by their own desires and fears, and must navigate their complicated feelings for each other while also trying to protect themselves from the dangers of their past.\"}"
            ]
          },
          "metadata": {},
          "execution_count": 187
        }
      ]
    },
    {
      "cell_type": "code",
      "source": [
        "vectordb.similarity_search(\n",
        "    \"What is the story of Lucian and Sloane in 'Things We Left Behind'?\",  # the search query\n",
        "    k=2\n",
        ")"
      ],
      "metadata": {
        "colab": {
          "base_uri": "https://localhost:8080/"
        },
        "id": "CKP4ALpR9Dr9",
        "outputId": "20611fbb-9278-48ce-ebc0-a61278f6cbf3"
      },
      "execution_count": 186,
      "outputs": [
        {
          "output_type": "execute_result",
          "data": {
            "text/plain": [
              "[Document(page_content='There was only one woman who could set me free. But I would rather set myself on fire than ask Sloane Walton for anything.Lucian Rollins is a lean, mean vengeance-seeking mogul. On a quest to erase his father’s mark on the family name, he spends every waking minute pulling strings and building an indestructible empire. The more money and power he amasses, the safer he is from threats.Except when it comes to the feisty small-town librarian that keeps him up at night…Sloane Walton is a spitfire determined to carry on her father’s quest for justice. She’ll do that just as soon as she figures out exactly what the man she hates did to—or for—her family. Bonded by an old, dark secret from the past and the dislike they now share for each other, Sloane trusts Lucian about as far as she can throw his designer-suited body.When bickering accidentally turns to foreplay, these two find themselves not quite regretting their steamy one-night stand. Once those flames are fanned, it seems impossible to put them out again. But with Sloane ready to start a family and Lucian refusing to even consider the idea of marriage and kids, these enemies-to-lovers are stuck at an impasse.Broken men break women. It’s what Lucian believes, what he’s witnessed, and he’s not going to take that chance with Sloane. He’d rather live a life of solitude than put her in danger. But he learns the hard way that leaving her means leaving her unprotected from other threats.It’s the second time he’s ruthlessly cut her out of his life. There’s no way she’s going to give him a third chance. He’s just going to have to make one for himself.', metadata={'author': 'Lucy Score', 'source': 'https://www.goodreads.com/book/show/122493837-things-we-left-behind', 'title': 'Things We Left Behind'}),\n",
              " Document(page_content='There was only one woman who could set me free. But I would rather set myself on fire than ask Sloane Walton for anything.Lucian Rollins is a lean, mean vengeance-seeking mogul. On a quest to erase his father’s mark on the family name, he spends every waking minute pulling strings and building an indestructible empire. The more money and power he amasses, the safer he is from threats.Except when it comes to the feisty small-town librarian that keeps him up at night…Sloane Walton is a spitfire determined to carry on her father’s quest for justice. She’ll do that just as soon as she figures out exactly what the man she hates did to—or for—her family. Bonded by an old, dark secret from the past and the dislike they now share for each other, Sloane trusts Lucian about as far as she can throw his designer-suited body.When bickering accidentally turns to foreplay, these two find themselves not quite regretting their steamy one-night stand. Once those flames are fanned, it seems impossible to put them out again. But with Sloane ready to start a family and Lucian refusing to even consider the idea of marriage and kids, these enemies-to-lovers are stuck at an impasse.Broken men break women. It’s what Lucian believes, what he’s witnessed, and he’s not going to take that chance with Sloane. He’d rather live a life of solitude than put her in danger. But he learns the hard way that leaving her means leaving her unprotected from other threats.It’s the second time he’s ruthlessly cut her out of his life. There’s no way she’s going to give him a third chance. He’s just going to have to make one for himself.', metadata={'author': 'Lucy Score', 'source': 'https://www.goodreads.com/book/show/116536542-things-we-left-behind', 'title': 'Things We Left Behind'})]"
            ]
          },
          "metadata": {},
          "execution_count": 186
        }
      ]
    },
    {
      "cell_type": "markdown",
      "source": [
        "LLM's answer is completely made up and not true to facts.\n",
        "\n",
        "We can see that if the book was matched positively against the appropriate record the proper answer is returned by the retriever chain.\n",
        "\n",
        "However, if the question is slightly more general the right record isn't identified and no sensible answer is returned (see query below)"
      ],
      "metadata": {
        "id": "Jh9oxMqUYtIe"
      }
    },
    {
      "cell_type": "code",
      "source": [
        "vectordb.similarity_search(\n",
        "    \"What is the plot of 'Things We Left Behind'?\",\n",
        ")"
      ],
      "metadata": {
        "colab": {
          "base_uri": "https://localhost:8080/"
        },
        "id": "5-v-z2JCNL8e",
        "outputId": "569c5d70-a39a-4aff-f560-d40c38139877"
      },
      "execution_count": 189,
      "outputs": [
        {
          "output_type": "execute_result",
          "data": {
            "text/plain": [
              "[Document(page_content='Holly Gibner, één van Stephen Kings meest meeslepende en vindingrijke personages, keert in deze bloedstollende thriller terug om de gruwelijke waarheid achter een reeks verdwijningen in een klein stadje te achterhalen.Stephen Kings Holly betekent de triomfantelijke terugkeer van het geliefde personage Holly Gibner. Lezers hebben kunnen genieten van Holly’s ontwikkeling van verlegen (maar ook stoere en morele) einzelgänger in Mr. Mercedes, naar Bill Hodges’ partner in De eerlijke vinder, tot ervaren, intelligente, soms wat harde privédetective in De buitenstaander. In Kings nieuwste boek moet Holly het in haar eentje opnemen tegen een stel sluwe en wrede vijanden.Wanneer Penny Dahl het detectivebureau belt in de hoop dat ze haar vermiste dochter kunnen vinden, weet Holly niet zeker of ze de zaak moet aannemen. Haar partner Pete is besmet met corona. Haar (behoorlijk compliceerde) moeder is net overleden. Eigenlijk Holly zou met verlof moeten zijn. Maar iets in Penny Dahls wanhopige stem maakt het voor Holly onmogelijk om haar af te wijzen.Slechts een paar straten van waar Bonnie Dahl verdween, wonen professoren Rodney en Emily Harris. Ze leiden een perfect leven: gelukkig getrouwd en na een lang leven als academici bijna gepensioneerd. Maar ze bewaken een kwaadaardig geheim in de kelder van hun goed verzorgde huis, een geheim dat te maken heeft met Bonnies verdwijning. Het is haast onmogelijk om hen te ontmaskeren: ze zijn geslepen, geduldig en genadeloos.Holly moet al haar talenten inzetten om de gruwelijke professoren te verslaan in dit nieuwe meesterwerk van Stephen King.', metadata={'author': 'Stephen King', 'source': 'https://www.goodreads.com/book/show/81401804-holly', 'title': 'Holly'}),\n",
              " Document(page_content='A sweeping novel about a single house in the woods of New England, told through the lives of those who inhabit it across the centuries—a daring, moving tale of memory and fate from the Pulitzer Prize finalist and author of The Piano Tuner and The Winter Soldier.When a pair of young lovers abscond from a Puritan colony, little do they know that their humble cabin in the woods will become home to an extraordinary succession of inhabitants . An English soldier, destined for glory, abandons the battlefields of the New World to devote himself to apples. A pair of spinster twins survive war and famine, only to succumb to envy and desire.\\xa0A crime reporter unearths a mass grave, but finds the ancient trees refuse to give up their secrets. A lovelorn painter, a conman, a stalking panther, a lusty as each one confronts the mysteries of the north woods, they come to realize that the dark, raucous, beautiful past is very much alive.Traversing cycles of history, nature, and even literature, North Woods shows the myriad, magical ways in which we’re connected to our environment and to one another, across time, language and space. Written along with the seasons and divided into the twelve months of the year, it is an unforgettable novel about secrets and fates that asks the timeless how do we live on, even after we’re gone?', metadata={'author': 'Daniel       Mason', 'source': 'https://www.goodreads.com/book/show/71872930-north-woods', 'title': 'North Woods'})]"
            ]
          },
          "metadata": {},
          "execution_count": 189
        }
      ]
    },
    {
      "cell_type": "code",
      "source": [
        "docs = retriever.get_relevant_documents(\"What is the story of Lucian and Sloane in 'Things We Left Behind'?\")\n",
        "pretty_print_docs(docs)"
      ],
      "metadata": {
        "colab": {
          "base_uri": "https://localhost:8080/"
        },
        "id": "wqyZgdawwjjp",
        "outputId": "03924208-299a-42db-dcfd-90161c239731"
      },
      "execution_count": 28,
      "outputs": [
        {
          "output_type": "stream",
          "name": "stdout",
          "text": [
            "Document 1:\n",
            "\n",
            "Novel title: 'Things We Left Behind' by Lucy Score. Description: There was only one woman who could set me free. But I would rather set myself on fire than ask Sloane Walton for anything.Lucian Rollins is a lean, mean vengeance-seeking mogul. On a quest to erase his father’s mark on the family name, he spends every waking minute pulling strings and building an indestructible empire. The more money and power he amasses, the safer he is from threats.Except when it comes to the feisty small-town librarian that keeps him up at night…Sloane Walton is a spitfire determined to carry on her father’s quest for justice. She’ll do that just as soon as she figures out exactly what the man she hates did to—or for—her family. Bonded by an old, dark secret from the past and the dislike they now share for each other, Sloane trusts Lucian about as far as she can throw his designer-suited body.When bickering accidentally turns to foreplay, these two find themselves not quite regretting their steamy one-night stand. Once those flames are fanned, it seems impossible to put them out again. But with Sloane ready to start a family and Lucian refusing to even consider the idea of marriage and kids, these enemies-to-lovers are stuck at an impasse.Broken men break women. It’s what Lucian believes, what he’s witnessed, and he’s not going to take that chance with Sloane. He’d rather live a life of solitude than put her in danger. But he learns the hard way that leaving her means leaving her unprotected from other threats.It’s the second time he’s ruthlessly cut her out of his life. There’s no way she’s going to give him a third chance. He’s just going to have to make one for himself.\n",
            "----------------------------------------------------------------------------------------------------\n",
            "Document 2:\n",
            "\n",
            "Novel title: 'Things We Left Behind' by Lucy Score. Description: There was only one woman who could set me free. But I would rather set myself on fire than ask Sloane Walton for anything.Lucian Rollins is a lean, mean vengeance-seeking mogul. On a quest to erase his father’s mark on the family name, he spends every waking minute pulling strings and building an indestructible empire. The more money and power he amasses, the safer he is from threats.Except when it comes to the feisty small-town librarian that keeps him up at night…Sloane Walton is a spitfire determined to carry on her father’s quest for justice. She’ll do that just as soon as she figures out exactly what the man she hates did to—or for—her family. Bonded by an old, dark secret from the past and the dislike they now share for each other, Sloane trusts Lucian about as far as she can throw his designer-suited body.When bickering accidentally turns to foreplay, these two find themselves not quite regretting their steamy one-night stand. Once those flames are fanned, it seems impossible to put them out again. But with Sloane ready to start a family and Lucian refusing to even consider the idea of marriage and kids, these enemies-to-lovers are stuck at an impasse.Broken men break women. It’s what Lucian believes, what he’s witnessed, and he’s not going to take that chance with Sloane. He’d rather live a life of solitude than put her in danger. But he learns the hard way that leaving her means leaving her unprotected from other threats.It’s the second time he’s ruthlessly cut her out of his life. There’s no way she’s going to give him a third chance. He’s just going to have to make one for himself.\n",
            "----------------------------------------------------------------------------------------------------\n",
            "Document 3:\n",
            "\n",
            "Novel title: 'Sinners Atone' by Somme Sketcher. Description: ***GABE &amp; WREN'S STORY. RELEASE DATE TBA***\n",
            "----------------------------------------------------------------------------------------------------\n",
            "Document 4:\n",
            "\n",
            "Novel title: 'The Clementine Complex' by Bob Mortimer. Description: Bob Mortimer, beloved comedian and #1 Sunday Times (London) bestselling author of the memoir And Away…, returns with a delightfully quirky mystery in the vein of Richard Osman and Nita Prose.Unremarkable legal assistant Gary Thorn goes for a pint with his coworker Brendan, unaware his life is about to change. There, Gary meets a beautiful woman, but she leaves before he catches her name. All he has to remember her by is the title of the book she was reading: The Clementine Complex. And when Brendan goes missing, too, Gary needs to track down the girl he now calls Clementine to get some answers. And so begins Gary’s quest, through the estates and pie shops of South London, to find some answers and hopefully, some love and excitement in this page-turning, witty, and oddly sweet story with a cast of unforgettable characters.\n"
          ]
        }
      ]
    },
    {
      "cell_type": "code",
      "source": [
        "docs = retriever.get_relevant_documents(\"What is the plot of 'Things We Left Behind'?\")\n",
        "pretty_print_docs(docs)"
      ],
      "metadata": {
        "colab": {
          "base_uri": "https://localhost:8080/"
        },
        "id": "kNq-W3NawviE",
        "outputId": "31d3ce4d-4d2f-4602-fee0-deba631974a0"
      },
      "execution_count": 30,
      "outputs": [
        {
          "output_type": "stream",
          "name": "stdout",
          "text": [
            "Document 1:\n",
            "\n",
            "Novel title: 'Holly' by Stephen King. Description: Holly Gibner, één van Stephen Kings meest meeslepende en vindingrijke personages, keert in deze bloedstollende thriller terug om de gruwelijke waarheid achter een reeks verdwijningen in een klein stadje te achterhalen.Stephen Kings Holly betekent de triomfantelijke terugkeer van het geliefde personage Holly Gibner. Lezers hebben kunnen genieten van Holly’s ontwikkeling van verlegen (maar ook stoere en morele) einzelgänger in Mr. Mercedes, naar Bill Hodges’ partner in De eerlijke vinder, tot ervaren, intelligente, soms wat harde privédetective in De buitenstaander. In Kings nieuwste boek moet Holly het in haar eentje opnemen tegen een stel sluwe en wrede vijanden.Wanneer Penny Dahl het detectivebureau belt in de hoop dat ze haar vermiste dochter kunnen vinden, weet Holly niet zeker of ze de zaak moet aannemen. Haar partner Pete is besmet met corona. Haar (behoorlijk compliceerde) moeder is net overleden. Eigenlijk Holly zou met verlof moeten zijn. Maar iets in Penny Dahls wanhopige stem maakt het voor Holly onmogelijk om haar af te wijzen.Slechts een paar straten van waar Bonnie Dahl verdween, wonen professoren Rodney en Emily Harris. Ze leiden een perfect leven: gelukkig getrouwd en na een lang leven als academici bijna gepensioneerd. Maar ze bewaken een kwaadaardig geheim in de kelder van hun goed verzorgde huis, een geheim dat te maken heeft met Bonnies verdwijning. Het is haast onmogelijk om hen te ontmaskeren: ze zijn geslepen, geduldig en genadeloos.Holly moet al haar talenten inzetten om de gruwelijke professoren te verslaan in dit nieuwe meesterwerk van Stephen King.\n",
            "----------------------------------------------------------------------------------------------------\n",
            "Document 2:\n",
            "\n",
            "Novel title: 'North Woods' by Daniel       Mason. Description: A sweeping novel about a single house in the woods of New England, told through the lives of those who inhabit it across the centuries—a daring, moving tale of memory and fate from the Pulitzer Prize finalist and author of The Piano Tuner and The Winter Soldier.When a pair of young lovers abscond from a Puritan colony, little do they know that their humble cabin in the woods will become home to an extraordinary succession of inhabitants . An English soldier, destined for glory, abandons the battlefields of the New World to devote himself to apples. A pair of spinster twins survive war and famine, only to succumb to envy and desire. A crime reporter unearths a mass grave, but finds the ancient trees refuse to give up their secrets. A lovelorn painter, a conman, a stalking panther, a lusty as each one confronts the mysteries of the north woods, they come to realize that the dark, raucous, beautiful past is very much alive.Traversing cycles of history, nature, and even literature, North Woods shows the myriad, magical ways in which we’re connected to our environment and to one another, across time, language and space. Written along with the seasons and divided into the twelve months of the year, it is an unforgettable novel about secrets and fates that asks the timeless how do we live on, even after we’re gone?\n",
            "----------------------------------------------------------------------------------------------------\n",
            "Document 3:\n",
            "\n",
            "Novel title: 'While You Were Out: An Intimate Family Portrait of Mental Illness in an Era of Silence' by Meg Kissinger. Description: From award-winning journalist Meg Kissinger, a searing memoir of a family besieged by mental illness, as well as an incisive exploration of the systems that failed them and a testament to the love that sustained them.Growing up in the 1960s in the suburbs of Chicago, Meg Kissinger’s family seemed to live a charmed life. With eight kids and two loving parents, the Kissingers radiated a warm, boisterous energy. Whether they were spending summer days on the shores of Lake Michigan, barreling down the ski slopes, or navigating the trials of their Catholic school, the Kissingers always knew how to live large and play hard.But behind closed doors, a harsher reality was unfolding—a heavily medicated mother hospitalized for anxiety and depression, a manic father prone to violence, and children in the throes of bipolar disorder and depression, two of whom would take their own lives. Through it all, the Kissingers faced the world with their signature dark humor and the unspoken family rule: never talk about it.While You Were Out begins as the personal story of one family’s struggles then opens outward, as Kissinger details how childhood tragedy catalyzed a journalism career focused on exposing our country’s flawed mental health care. Combining the intimacy of memoir with the rigor of investigative reporting, the book explores the consequences of shame, the havoc of botched public policy, and the hope offered by new treatment strategies.Powerful, candid and filled with surprising humor, this is the story of one family’s love and resilience in face of great loss.\n",
            "----------------------------------------------------------------------------------------------------\n",
            "Document 4:\n",
            "\n",
            "Novel title: 'Not Forever, But For Now' by Chuck Palahniuk. Description: From the bestselling author of Fight Club comes a hilarious horror satire about a family of professional killers responsible for the most atrocious events in history and the young brothers that are destined to take over.Meet Otto and Cecil. Two brothers growing up privileged in the Welsh countryside. They enjoy watching nature shows, playing with their pet pony, impersonating their Grandfather...and killing the help. Murder is the family business after all. Downton Abbey, this is not.However, it’s not so easy to continue the family legacy with the constant stream of threats and distractions seemingly leaping from the hedgerow. First there is the matter of the veritable cavalcade of escaped convicts that keep showing up at their door. Not to mention the debaucherous new tutor who has a penchant for speaking in Greek and dismembering sex dolls. Then there’s Mummy’s burgeoning opioid addiction. And who knows where Daddy is. He just vanished one day after he and Mummy took a walk in the so called “Ghost Forest.”With Grandfather putting pressure on Otto to step up, it becomes clear that this will all end in only two a nuclear apocalypse or just another day among the creeping thistle and tree peonies. And in a novel written by Chuck Palahniuk, either are equally possible.\n"
          ]
        }
      ]
    },
    {
      "cell_type": "code",
      "source": [
        "docs = retrieverFaiss.get_relevant_documents(\"What is the plot of 'Things We Left Behind'?\")\n",
        "pretty_print_docs(docs)"
      ],
      "metadata": {
        "colab": {
          "base_uri": "https://localhost:8080/"
        },
        "id": "jr7WZHLDw8Ri",
        "outputId": "478a208d-e236-4fd5-b797-f7c7e315416d"
      },
      "execution_count": 31,
      "outputs": [
        {
          "output_type": "stream",
          "name": "stdout",
          "text": [
            "Document 1:\n",
            "\n",
            "id: kca://book/amzn1.gr.book.v3.uzHBgqjf0cRXilp8\n",
            "title: North Woods\n",
            "description: A sweeping novel about a single house in the woods of New England, told through the lives of those who inhabit it across the centuries—a daring, moving tale of memory and fate from the Pulitzer Prize finalist and author of The Piano Tuner and The Winter Soldier.When a pair of young lovers abscond from a Puritan colony, little do they know that their humble cabin in the woods will become home to an extraordinary succession of inhabitants . An English soldier, destined for glory, abandons the battlefields of the New World to devote himself to apples. A pair of spinster twins survive war and famine, only to succumb to envy and desire. A crime reporter unearths a mass grave, but finds the ancient trees refuse to give up their secrets. A lovelorn painter, a conman, a stalking panther, a lusty as each one confronts the mysteries of the north woods, they come to realize that the dark, raucous, beautiful past is very much alive.Traversing cycles of history, nature, and even literature, North Woods shows the myriad, magical ways in which we’re connected to our environment and to one another, across time, language and space. Written along with the seasons and divided into the twelve months of the year, it is an unforgettable novel about secrets and fates that asks the timeless how do we live on, even after we’re gone?\n",
            "webUrl: https://www.goodreads.com/book/show/71872930-north-woods\n",
            "author: Daniel       Mason\n",
            "rank: 68\n",
            "----------------------------------------------------------------------------------------------------\n",
            "Document 2:\n",
            "\n",
            "id: kca://book/amzn1.gr.book.v3.Xdyc7bcQBYUrWE8s\n",
            "title: Holly\n",
            "description: Holly Gibney, one of Stephen King’s most compelling and ingeniously resourceful characters, returns in this thrilling novel to solve the gruesome truth behind multiple disappearances in a midwestern town.“Sometimes the universe throws you a rope.” — BILL HODGESStephen King’s Holly marks the triumphant return of beloved King character Holly Gibney. Readers have witnessed Holly’s gradual transformation from a shy (but also brave and ethical) recluse in Mr. Mercedes to Bill Hodges’s partner in Finders Keepers to a full-fledged, smart, and occasionally tough private detective in The Outsider. In King’s new novel, Holly is on her own, and up against a pair of unimaginably depraved and brilliantly disguised adversaries.When Penny Dahl calls the Finders Keepers detective agency hoping for help locating her missing daughter, Holly is reluctant to accept the case. Her partner, Pete, has Covid. Her (very complicated) mother has just died. And Holly is meant to be on leave. But something in Penny Dahl’s desperate voice makes it impossible for Holly to turn her down.Mere blocks from where Bonnie Dahl disappeared live Professors Rodney and Emily Harris. They are the picture of bourgeois respectability: married octogenarians, devoted to each other, and semi-retired lifelong academics. But they are harboring an unholy secret in the basement of their well-kept, book-lined home, one that may be related to Bonnie’s disappearance. And it will prove nearly impossible to discover what they are up to: they are savvy, they are patient, and they are ruthless.Holly must summon all her formidable talents to outthink and outmaneuver the shockingly twisted professors in this chilling new masterwork from Stephen King.\n",
            "webUrl: https://www.goodreads.com/book/show/65916344-holly\n",
            "author: Stephen King\n",
            "rank: 7\n",
            "----------------------------------------------------------------------------------------------------\n",
            "Document 3:\n",
            "\n",
            "id: kca://book/amzn1.gr.book.v3.4L3Wh8Y0pH4cDLRT\n",
            "title: Scenes of the Crime\n",
            "description: An ambitious screenwriter tries to solve her friend's disappearance by recreating their fateful final girls’ trip in this riveting locked-room mystery from the author of All Dressed Up.A remote winery. A missing friend. And a bunch of sour grapes.It should have been the perfect spring break. Five girlfriends. A remote winery on the Oregon coast. An infinite supply of delicious wine at their manicured fingertips. But then their center—beautiful, magnetic Vanessa Morales—vanished without a trace.Emily Fischer was perhaps the last person to see her alive. But now, years later, Emily spots Vanessa’s doppelganger at a local café. At the end of her rope working a lucrative yet mind-numbing gig on a network sitcom, Emily is inspired to finally tell the story that’s been percolating inside her for so long: Vanessa’s story. But first, she needs to know what really happened on that fateful night. So she puts a brilliant scheme into motion.She gets the girls together for a reunion weekend at the scene of the crime under the guise of reconnecting. There's Brittany, Vanessa’s cousin and the inheritor of the winery; Paige, a former athlete, bullish yet easily manipulated; and Lydia, the wallflower of the group.One of them knows the truth. But what have they each been hiding? And how much can Emily trust anything she learns from them… or even her own memories of Vanessa’s last days?Suspenseful, propulsive, and interspersed with scenes from Emily’s blockbuster screenplay, Scenes of the Crime is an unforgettable mystery that examines culpability, the shiny rearview mirror of Hollywood storytelling, and the pitfalls of female friendship.\n",
            "webUrl: https://www.goodreads.com/book/show/64623354-scenes-of-the-crime\n",
            "author: Jilly Gagnon\n",
            "rank: 65\n",
            "----------------------------------------------------------------------------------------------------\n",
            "Document 4:\n",
            "\n",
            "id: kca://book/amzn1.gr.book.v3.AI6qIicnsxQbKDOk\n",
            "title: The Clementine Complex\n",
            "description: Bob Mortimer, beloved comedian and #1 Sunday Times (London) bestselling author of the memoir And Away…, returns with a delightfully quirky mystery in the vein of Richard Osman and Nita Prose.Unremarkable legal assistant Gary Thorn goes for a pint with his coworker Brendan, unaware his life is about to change. There, Gary meets a beautiful woman, but she leaves before he catches her name. All he has to remember her by is the title of the book she was reading: The Clementine Complex. And when Brendan goes missing, too, Gary needs to track down the girl he now calls Clementine to get some answers. And so begins Gary’s quest, through the estates and pie shops of South London, to find some answers and hopefully, some love and excitement in this page-turning, witty, and oddly sweet story with a cast of unforgettable characters.\n",
            "webUrl: https://www.goodreads.com/book/show/101145713-the-clementine-complex\n",
            "author: Bob Mortimer\n",
            "rank: 79\n"
          ]
        }
      ]
    },
    {
      "cell_type": "markdown",
      "source": [
        "Seems FAISS as well as pinecone both can't find the right document."
      ],
      "metadata": {
        "id": "3MeP-qCqFKfM"
      }
    },
    {
      "cell_type": "code",
      "source": [
        "rag_context(\"What is the plot of 'Things We Left Behind'?\")\n"
      ],
      "metadata": {
        "colab": {
          "base_uri": "https://localhost:8080/"
        },
        "id": "-Q0gSEvt26o-",
        "outputId": "37d5a75e-2226-4330-dbc2-83818b2d5144"
      },
      "execution_count": 130,
      "outputs": [
        {
          "output_type": "stream",
          "name": "stdout",
          "text": [
            "\n",
            "\n",
            "\u001b[1m> Entering new RetrievalQA chain...\u001b[0m\n"
          ]
        },
        {
          "output_type": "stream",
          "name": "stderr",
          "text": [
            "/usr/local/lib/python3.10/dist-packages/langchain/chains/llm.py:275: UserWarning: The predict_and_parse method is deprecated, instead pass an output parser directly to LLMChain.\n",
            "  warnings.warn(\n",
            "Both `max_new_tokens` (=50) and `max_length`(=20) seem to have been set. `max_new_tokens` will take precedence. Please refer to the documentation for more information. (https://huggingface.co/docs/transformers/main/en/main_classes/text_generation)\n",
            "Both `max_new_tokens` (=50) and `max_length`(=20) seem to have been set. `max_new_tokens` will take precedence. Please refer to the documentation for more information. (https://huggingface.co/docs/transformers/main/en/main_classes/text_generation)\n",
            "Both `max_new_tokens` (=50) and `max_length`(=20) seem to have been set. `max_new_tokens` will take precedence. Please refer to the documentation for more information. (https://huggingface.co/docs/transformers/main/en/main_classes/text_generation)\n",
            "Both `max_new_tokens` (=50) and `max_length`(=20) seem to have been set. `max_new_tokens` will take precedence. Please refer to the documentation for more information. (https://huggingface.co/docs/transformers/main/en/main_classes/text_generation)\n",
            "/usr/local/lib/python3.10/dist-packages/transformers/pipelines/base.py:1083: UserWarning: You seem to be using the pipelines sequentially on GPU. In order to maximize efficiency please use a dataset\n",
            "  warnings.warn(\n"
          ]
        },
        {
          "output_type": "stream",
          "name": "stdout",
          "text": [
            "\n",
            "\u001b[1m> Finished chain.\u001b[0m\n"
          ]
        },
        {
          "output_type": "execute_result",
          "data": {
            "text/plain": [
              "{'query': \"What is the plot of 'Things We Left Behind'?\",\n",
              " 'result': \" I can provide information about the plot of 'Things We Left Behind'. However, I cannot provide a definitive answer without more context. The three novels provided in the description are 'Holly' by Stephen King, 'North Woods' by Daniel Mason, and 'While You Were Out: An Intimate Family Portrait of Mental Illness in an Era of Silence' by Meg Kissinger. None of these novels have a title called 'Things We Left Behind'. Therefore, without additional information, I cannot provide a plot summary for this title.\"}"
            ]
          },
          "metadata": {},
          "execution_count": 130
        }
      ]
    },
    {
      "cell_type": "markdown",
      "source": [
        "...so the enhanced RAG is also helpless in this case but provides us with honest answer about it."
      ],
      "metadata": {
        "id": "ObylkvNyFarc"
      }
    },
    {
      "cell_type": "code",
      "source": [
        "llm( \"What are the latest adventures of Holly Gibney and what case is she solving in King's latest novel and what's it called?\")\n"
      ],
      "metadata": {
        "colab": {
          "base_uri": "https://localhost:8080/",
          "height": 70
        },
        "id": "z1oOb31gEkUJ",
        "outputId": "002fc989-19d0-43ac-f5ba-661dd7716c06"
      },
      "execution_count": 58,
      "outputs": [
        {
          "output_type": "execute_result",
          "data": {
            "text/plain": [
              "'\\n\\nAnswer: The latest adventures of Holly Gibney can be found in the novel \"The Outsider\" by Stephen King, which was published in 2018. In this book, Holly is a key player in solving a gruesome murder that takes place in a small town in Oklahoma. The case centers around the death of a young boy who is found dead in a cave, with no signs of any suspects or motives. Holly uses her unique abilities as an autistic savant to help unravel the mystery and bring the perpetrator to justice.'"
            ],
            "application/vnd.google.colaboratory.intrinsic+json": {
              "type": "string"
            }
          },
          "metadata": {},
          "execution_count": 58
        }
      ]
    },
    {
      "cell_type": "code",
      "source": [
        "rag( \"What are the latest adventures of Holly Gibney and what case is she solving in King's latest novel and what's it called?\")"
      ],
      "metadata": {
        "colab": {
          "base_uri": "https://localhost:8080/"
        },
        "id": "hKOpN9C44PTI",
        "outputId": "1dbd3a1c-1528-4eda-fa40-f6967ee8c268"
      },
      "execution_count": 175,
      "outputs": [
        {
          "output_type": "stream",
          "name": "stdout",
          "text": [
            "\n",
            "\n",
            "\u001b[1m> Entering new RetrievalQA chain...\u001b[0m\n",
            "\n",
            "\u001b[1m> Finished chain.\u001b[0m\n"
          ]
        },
        {
          "output_type": "execute_result",
          "data": {
            "text/plain": [
              "{'query': \"What are the latest adventures of Holly Gibney and what case is she solving in King's latest novel and what's it called?\",\n",
              " 'result': \" Holly Gibney, one of Stephen King's most compelling and ingeniously resourceful characters, returns in this thrilling novel to solve the gruesome truth behind multiple disappearances in a midwestern town. It's called Holly.\"}"
            ]
          },
          "metadata": {},
          "execution_count": 175
        }
      ]
    },
    {
      "cell_type": "markdown",
      "source": [
        "Pure LLM produced wrong answer because his parametric knowledge doesnt contain information about the latest S. King book \"Holly\".\n",
        "\n",
        " 2:0 for RAG.\n"
      ],
      "metadata": {
        "id": "_jfoXTpPaiZ5"
      }
    },
    {
      "cell_type": "code",
      "source": [
        "llm(\"What is the latest installment in the Serpent & Dove NYT series about and what's called and what happens to Célie?\")\n"
      ],
      "metadata": {
        "colab": {
          "base_uri": "https://localhost:8080/",
          "height": 123
        },
        "id": "0AOPYZkFEkQP",
        "outputId": "e606c518-0d08-4f09-8635-08b48b156059"
      },
      "execution_count": 132,
      "outputs": [
        {
          "output_type": "execute_result",
          "data": {
            "text/plain": [
              "'\\n\\nThe latest installment of the Serpent & Dove series by The New York Times is called \"Célie\\'s Journey\" and it follows the story of Célie, a young woman who was introduced in the previous installment as a new member of the group. In this installment, Célie embarks on a journey to discover her true identity and purpose, and she encounters many challenges and obstacles along the way.\\n\\nOne of the main plot points in \"Célie\\'s Journey\" is that Célie discovers that she has the ability to control the elements, specifically water. She learns how to harness her powers and use them for good, but she also faces the temptation of using her powers for personal gain. This internal conflict is a central theme of the installment and adds depth to Célie\\'s character.\\n\\nAnother important aspect of \"Célie\\'s Journey\" is the development of the relationships between the characters. Célie forms close bonds with some of the other members of the group, particularly with a character named Lysander, who becomes her mentor and confidant. Their relationship is complex and nu'"
            ],
            "application/vnd.google.colaboratory.intrinsic+json": {
              "type": "string"
            }
          },
          "metadata": {},
          "execution_count": 132
        }
      ]
    },
    {
      "cell_type": "code",
      "source": [
        "rag(\"What is the latest installment in the Serpent & Dove NYT series about and what happens to Célie?\")"
      ],
      "metadata": {
        "colab": {
          "base_uri": "https://localhost:8080/"
        },
        "id": "6nLAYRqp4tLg",
        "outputId": "2fa9640e-7764-47e6-c397-4b6b6d605879"
      },
      "execution_count": 191,
      "outputs": [
        {
          "output_type": "stream",
          "name": "stdout",
          "text": [
            "\n",
            "\n",
            "\u001b[1m> Entering new RetrievalQA chain...\u001b[0m\n",
            "\n",
            "\u001b[1m> Finished chain.\u001b[0m\n"
          ]
        },
        {
          "output_type": "execute_result",
          "data": {
            "text/plain": [
              "{'query': 'What is the latest installment in the Serpent & Dove NYT series about and what happens to Célie?',\n",
              " 'result': ' The latest installment in the Serpent & Dove NYT series is titled \"Six Months Have Passed\" and it follows Célie as she takes her sacred vows and joins the ranks of the Chasseurs as their first huntswoman. However, whispers from her past still haunt her, and a new evil is rising—one that Célie herself must vanquish, unless she falls prey to the darkness.'}"
            ]
          },
          "metadata": {},
          "execution_count": 191
        }
      ]
    },
    {
      "cell_type": "markdown",
      "source": [
        "Here both LLM and RAG gave wrong made up titles.  It's actually called 'The secret veil\". The rest of the answer is right in case of RAG.\n",
        "\n",
        "Below slightly more general question about the same resulted in query not being matched agaist the correct vectors in the db at all."
      ],
      "metadata": {
        "id": "hmpa3qoB7DyJ"
      }
    },
    {
      "cell_type": "code",
      "source": [
        "vectordb.similarity_search(\n",
        "    \"What is the latest installment in the Serpent & Dove NYT series about and what's it called?\",  # the search query\n",
        "    k=2\n",
        ")"
      ],
      "metadata": {
        "colab": {
          "base_uri": "https://localhost:8080/"
        },
        "id": "2GxNnz6-NZw8",
        "outputId": "8462ff1d-817c-4042-9d87-5a712908d80e"
      },
      "execution_count": 190,
      "outputs": [
        {
          "output_type": "execute_result",
          "data": {
            "text/plain": [
              "[Document(page_content=\"***GABE &amp; WREN'S STORY. RELEASE DATE TBA***\", metadata={'author': 'Somme Sketcher', 'source': 'https://www.goodreads.com/book/show/62368883-sinners-atone', 'title': 'Sinners Atone'}),\n",
              " Document(page_content='A new mystery is afoot in the fourth book in the Thursday Murder Club series from million-copy bestselling author Richard Osman. Coming September 2023!', metadata={'author': 'Richard Osman', 'source': 'https://www.goodreads.com/book/show/75293475-the-last-devil-to-die', 'title': 'The Last Devil to Die'})]"
            ]
          },
          "metadata": {},
          "execution_count": 190
        }
      ]
    },
    {
      "cell_type": "markdown",
      "source": [
        "We try that against the enhanced RAG and see it finds some documents that fit:"
      ],
      "metadata": {
        "id": "dE9br2bDMAno"
      }
    },
    {
      "cell_type": "code",
      "source": [
        "docs = retriever.get_relevant_documents(\"What is the latest installment in the Serpent & Dove NYT series and what's it called?\")\n",
        "pretty_print_docs(docs)"
      ],
      "metadata": {
        "colab": {
          "base_uri": "https://localhost:8080/"
        },
        "id": "XnzNzj7JyVoH",
        "outputId": "1e2dda11-e2e0-4ac8-e494-6738e442fc61"
      },
      "execution_count": 35,
      "outputs": [
        {
          "output_type": "stream",
          "name": "stdout",
          "text": [
            "Document 1:\n",
            "\n",
            "Novel title: 'The Last Devil to Die' by Richard Osman. Description: A new mystery is afoot in the fourth book in the Thursday Murder Club series from million-copy bestselling author Richard Osman. Coming September 2023!\n",
            "----------------------------------------------------------------------------------------------------\n",
            "Document 2:\n",
            "\n",
            "Novel title: 'Sinners Atone' by Somme Sketcher. Description: ***GABE &amp; WREN'S STORY. RELEASE DATE TBA***\n",
            "----------------------------------------------------------------------------------------------------\n",
            "Document 3:\n",
            "\n",
            "Novel title: 'The Scarlet Veil' by Shelby Mahurin. Description: A dark and thrilling vampire romance set in the world of the New York Times bestselling Serpent &amp; Dove series.Six months have passed since Célie took her sacred vows and joined the ranks of the Chasseurs as their first huntswoman. With her fiancé, Jean Luc, as captain, she is determined to find her foothold in her new role and help protect Belterra. But whispers from her past still haunt her, and a new evil is rising—one that Célie herself must vanquish, unless she falls prey to the darkness.\n",
            "----------------------------------------------------------------------------------------------------\n",
            "Document 4:\n",
            "\n",
            "Novel title: '23 1/2 Lies' by James Patterson. Description: Enjoy three heart-racing thrillers from the New York Times bestselling master of suspense. 23 1/2  Lindsay Boxer's estranged father is gunned down execution-style, and her investigation uncovers life-altering truths. (with Maxine Paetro)FALLEN   To Rory Yates, being a Texas Ranger means absolute loyalty to the badge. But he’s put through the ultimate test when an armored car robbery suspect might be an ex-Ranger gone rogue. (with Andrew Bourelle)WATCH YOUR When a starving artist is paid to expose his client's cheating wife, can he paint the picture that will save his own life? (with Loren D. Estleman) \n"
          ]
        }
      ]
    },
    {
      "cell_type": "markdown",
      "source": [
        "It looks like it did, below a version with filter which filtered out one irrelevant entry."
      ],
      "metadata": {
        "id": "Es-mW97JMJT7"
      }
    },
    {
      "cell_type": "code",
      "source": [
        "compressed_docs = compression_retriever_filter.get_relevant_documents(\"What is the latest installment in the Serpent & Dove NYT series and what's it called?\")\n",
        "pretty_print_docs(compressed_docs)"
      ],
      "metadata": {
        "colab": {
          "base_uri": "https://localhost:8080/"
        },
        "id": "uL-5MYbc3EH9",
        "outputId": "80d819a7-b572-4c70-a69d-7ccf2917e8f1"
      },
      "execution_count": 123,
      "outputs": [
        {
          "output_type": "stream",
          "name": "stderr",
          "text": [
            "Both `max_new_tokens` (=50) and `max_length`(=20) seem to have been set. `max_new_tokens` will take precedence. Please refer to the documentation for more information. (https://huggingface.co/docs/transformers/main/en/main_classes/text_generation)\n",
            "Both `max_new_tokens` (=50) and `max_length`(=20) seem to have been set. `max_new_tokens` will take precedence. Please refer to the documentation for more information. (https://huggingface.co/docs/transformers/main/en/main_classes/text_generation)\n",
            "Both `max_new_tokens` (=50) and `max_length`(=20) seem to have been set. `max_new_tokens` will take precedence. Please refer to the documentation for more information. (https://huggingface.co/docs/transformers/main/en/main_classes/text_generation)\n",
            "Both `max_new_tokens` (=50) and `max_length`(=20) seem to have been set. `max_new_tokens` will take precedence. Please refer to the documentation for more information. (https://huggingface.co/docs/transformers/main/en/main_classes/text_generation)\n"
          ]
        },
        {
          "output_type": "stream",
          "name": "stdout",
          "text": [
            "Document 1:\n",
            "\n",
            "Novel title: 'The Last Devil to Die' by Richard Osman. Description: A new mystery is afoot in the fourth book in the Thursday Murder Club series from million-copy bestselling author Richard Osman. Coming September 2023!\n",
            "----------------------------------------------------------------------------------------------------\n",
            "Document 2:\n",
            "\n",
            "Novel title: 'The Scarlet Veil' by Shelby Mahurin. Description: A dark and thrilling vampire romance set in the world of the New York Times bestselling Serpent &amp; Dove series.Six months have passed since Célie took her sacred vows and joined the ranks of the Chasseurs as their first huntswoman. With her fiancé, Jean Luc, as captain, she is determined to find her foothold in her new role and help protect Belterra. But whispers from her past still haunt her, and a new evil is rising—one that Célie herself must vanquish, unless she falls prey to the darkness.\n",
            "----------------------------------------------------------------------------------------------------\n",
            "Document 3:\n",
            "\n",
            "Novel title: '23 1/2 Lies' by James Patterson. Description: Enjoy three heart-racing thrillers from the New York Times bestselling master of suspense. 23 1/2  Lindsay Boxer's estranged father is gunned down execution-style, and her investigation uncovers life-altering truths. (with Maxine Paetro)FALLEN   To Rory Yates, being a Texas Ranger means absolute loyalty to the badge. But he’s put through the ultimate test when an armored car robbery suspect might be an ex-Ranger gone rogue. (with Andrew Bourelle)WATCH YOUR When a starving artist is paid to expose his client's cheating wife, can he paint the picture that will save his own life? (with Loren D. Estleman) \n"
          ]
        }
      ]
    },
    {
      "cell_type": "markdown",
      "source": [
        "Finally, let asked enhanced RAG if it knows the answer based on that filtered context:"
      ],
      "metadata": {
        "id": "Q5Adw7MFMRvV"
      }
    },
    {
      "cell_type": "code",
      "source": [
        "rag_context(\"What is the latest installment in the Serpent & Dove NYT series and what's it called?\")\n"
      ],
      "metadata": {
        "colab": {
          "base_uri": "https://localhost:8080/"
        },
        "id": "OuKXQHmJ3EFj",
        "outputId": "4ddc363c-f775-4997-fa27-58f9f56500f7"
      },
      "execution_count": 127,
      "outputs": [
        {
          "output_type": "stream",
          "name": "stdout",
          "text": [
            "\n",
            "\n",
            "\u001b[1m> Entering new RetrievalQA chain...\u001b[0m\n"
          ]
        },
        {
          "output_type": "stream",
          "name": "stderr",
          "text": [
            "Both `max_new_tokens` (=50) and `max_length`(=20) seem to have been set. `max_new_tokens` will take precedence. Please refer to the documentation for more information. (https://huggingface.co/docs/transformers/main/en/main_classes/text_generation)\n",
            "Both `max_new_tokens` (=50) and `max_length`(=20) seem to have been set. `max_new_tokens` will take precedence. Please refer to the documentation for more information. (https://huggingface.co/docs/transformers/main/en/main_classes/text_generation)\n",
            "Both `max_new_tokens` (=50) and `max_length`(=20) seem to have been set. `max_new_tokens` will take precedence. Please refer to the documentation for more information. (https://huggingface.co/docs/transformers/main/en/main_classes/text_generation)\n",
            "Both `max_new_tokens` (=50) and `max_length`(=20) seem to have been set. `max_new_tokens` will take precedence. Please refer to the documentation for more information. (https://huggingface.co/docs/transformers/main/en/main_classes/text_generation)\n"
          ]
        },
        {
          "output_type": "stream",
          "name": "stdout",
          "text": [
            "\n",
            "\u001b[1m> Finished chain.\u001b[0m\n"
          ]
        },
        {
          "output_type": "execute_result",
          "data": {
            "text/plain": [
              "{'query': \"What is the latest installment in the Serpent & Dove NYT series and what's it called?\",\n",
              " 'result': ' The latest installment in the Serpent & Dove NYT series is titled \"The Scarlet Veil\" and was written by Shelby Mahurin.'}"
            ]
          },
          "metadata": {},
          "execution_count": 127
        }
      ]
    },
    {
      "cell_type": "markdown",
      "source": [
        "Hurray! Finally we got the right answer with the enhanced RAG!"
      ],
      "metadata": {
        "id": "BJmBJaVOMlFM"
      }
    },
    {
      "cell_type": "code",
      "source": [
        "llm( \"What is the sequel to 'Foul Lady Fortune' and what is it about?\")\n"
      ],
      "metadata": {
        "colab": {
          "base_uri": "https://localhost:8080/",
          "height": 53
        },
        "id": "8N-LgSEnEy5f",
        "outputId": "ff5d16ee-86ae-4ad2-bab2-68f4e75b92e0"
      },
      "execution_count": 63,
      "outputs": [
        {
          "output_type": "execute_result",
          "data": {
            "text/plain": [
              "'\\n\\nAnswer: The sequel to \"Foul Lady Fortune\" is called \"The Sweetest Kind of Cruelty\". It continues the story of Arsinoe and her friends as they navigate the dangerous world of the game. The book explores themes of loyalty, power, and the cost of ambition as the characters face new challenges and obstacles in their quest for victory.'"
            ],
            "application/vnd.google.colaboratory.intrinsic+json": {
              "type": "string"
            }
          },
          "metadata": {},
          "execution_count": 63
        }
      ]
    },
    {
      "cell_type": "code",
      "source": [
        "rag( \"What is the sequel to 'Foul Lady Fortune' and what is it about?\")"
      ],
      "metadata": {
        "colab": {
          "base_uri": "https://localhost:8080/"
        },
        "id": "wpzBV15l6unF",
        "outputId": "44d24aff-a180-4dab-ad09-3efdbc596b23"
      },
      "execution_count": 192,
      "outputs": [
        {
          "output_type": "stream",
          "name": "stdout",
          "text": [
            "\n",
            "\n",
            "\u001b[1m> Entering new RetrievalQA chain...\u001b[0m\n",
            "\n",
            "\u001b[1m> Finished chain.\u001b[0m\n"
          ]
        },
        {
          "output_type": "execute_result",
          "data": {
            "text/plain": [
              "{'query': \"What is the sequel to 'Foul Lady Fortune' and what is it about?\",\n",
              " 'result': \" The sequel to 'Foul Lady Fortune' is titled 'Our Violent Ends' and it follows the story of Rosalind Lang, an immortal assassin in 1930s Shanghai, as she races to save her country and her love from a Japanese invasion.\"}"
            ]
          },
          "metadata": {},
          "execution_count": 192
        }
      ]
    },
    {
      "cell_type": "code",
      "source": [
        "vectordb.similarity_search(\n",
        "    \"What is the sequel to 'Foul Lady Fortune' and what is it about?\",  # the search query\n",
        "    k=2\n",
        ")"
      ],
      "metadata": {
        "colab": {
          "base_uri": "https://localhost:8080/"
        },
        "id": "U9nMqiZoOOqJ",
        "outputId": "07370f8e-9a3f-4d33-bef9-3ab1dbca76a5"
      },
      "execution_count": 18,
      "outputs": [
        {
          "output_type": "execute_result",
          "data": {
            "text/plain": [
              "[Document(page_content=\"Novel title: 'Holly' by Stephen King. Description: Holly Gibner, één van Stephen Kings meest meeslepende en vindingrijke personages, keert in deze bloedstollende thriller terug om de gruwelijke waarheid achter een reeks verdwijningen in een klein stadje te achterhalen.Stephen Kings Holly betekent de triomfantelijke terugkeer van het geliefde personage Holly Gibner. Lezers hebben kunnen genieten van Holly’s ontwikkeling van verlegen (maar ook stoere en morele) einzelgänger in Mr. Mercedes, naar Bill Hodges’ partner in De eerlijke vinder, tot ervaren, intelligente, soms wat harde privédetective in De buitenstaander. In Kings nieuwste boek moet Holly het in haar eentje opnemen tegen een stel sluwe en wrede vijanden.Wanneer Penny Dahl het detectivebureau belt in de hoop dat ze haar vermiste dochter kunnen vinden, weet Holly niet zeker of ze de zaak moet aannemen. Haar partner Pete is besmet met corona. Haar (behoorlijk compliceerde) moeder is net overleden. Eigenlijk Holly zou met verlof moeten zijn. Maar iets in Penny Dahls wanhopige stem maakt het voor Holly onmogelijk om haar af te wijzen.Slechts een paar straten van waar Bonnie Dahl verdween, wonen professoren Rodney en Emily Harris. Ze leiden een perfect leven: gelukkig getrouwd en na een lang leven als academici bijna gepensioneerd. Maar ze bewaken een kwaadaardig geheim in de kelder van hun goed verzorgde huis, een geheim dat te maken heeft met Bonnies verdwijning. Het is haast onmogelijk om hen te ontmaskeren: ze zijn geslepen, geduldig en genadeloos.Holly moet al haar talenten inzetten om de gruwelijke professoren te verslaan in dit nieuwe meesterwerk van Stephen King.\", metadata={'author': 'Stephen King', 'source': 'https://www.goodreads.com/book/show/81401804-holly', 'title': 'Holly'}),\n",
              " Document(page_content=\"Novel title: 'Foul Heart Huntsman' by Chloe Gong. Description: From the #1 New York Times bestselling author of These Violent Delights and Our Violent Ends comes the second book in the captivating Foul Lady Fortune duology following an immortal assassin in 1930s Shanghai as she races to save her country and her love.Winter is drawing thick in 1932 Shanghai, as is the ever-nearing threat of a Japanese invasion.Rosalind Lang has suffered the worst possible fate for a national spy: she’s been exposed. With the media storm camped outside her apartment for the infamous Lady Fortune, she’s barely left her bedroom in weeks, plotting her next course of action after Orion was taken and his memories of Rosalind wiped. Though their marriage might have been a sham, his absence hurts her more than any physical wound. She won’t rest until she gets him back.But with her identity in the open, the task is near impossible. The only way to leave the city and rescue Orion is under the guise of a national tour. It’s easy to convince her superiors that the countryside needs unity more than ever, and who better than an immortal girl to stir pride and strength into the people?When the tour goes wrong, however, everything Rosalind once knew is thrown up in the air. Taking refuge outside Shanghai, old ghosts come into the open and adversaries turn to allies. To save Orion, they must find a cure to his mother’s traitorous invention and take this dangerous chemical weapon away from impending foreign invasion—but the clock is ticking, and if Rosalind fails, it’s not only Orion she loses, but her nation itself.\", metadata={'author': 'Chloe Gong', 'source': 'https://www.goodreads.com/book/show/101138075-foul-heart-huntsman', 'title': 'Foul Heart Huntsman'})]"
            ]
          },
          "metadata": {},
          "execution_count": 18
        }
      ]
    },
    {
      "cell_type": "markdown",
      "source": [
        "LLM confabulated about the title and the plot of the story. RAG also mistaken title for the title for another book from that same author that it found in the description of the novel, but the rest of the plot is well summarized.\n",
        "\n",
        "Let's check how enhanced RAG does:"
      ],
      "metadata": {
        "id": "IIlK8oa9Mzzp"
      }
    },
    {
      "cell_type": "code",
      "source": [
        "compressed_docs = compression_retriever_filter.get_relevant_documents(\"What is the sequel to 'Foul Lady Fortune' and what is it about?\")\n",
        "pretty_print_docs(compressed_docs)"
      ],
      "metadata": {
        "colab": {
          "base_uri": "https://localhost:8080/"
        },
        "id": "fEIO9WEDH5BN",
        "outputId": "b96a9369-cf39-4897-9656-6fdf08439a16"
      },
      "execution_count": 126,
      "outputs": [
        {
          "output_type": "stream",
          "name": "stderr",
          "text": [
            "Both `max_new_tokens` (=50) and `max_length`(=20) seem to have been set. `max_new_tokens` will take precedence. Please refer to the documentation for more information. (https://huggingface.co/docs/transformers/main/en/main_classes/text_generation)\n",
            "Both `max_new_tokens` (=50) and `max_length`(=20) seem to have been set. `max_new_tokens` will take precedence. Please refer to the documentation for more information. (https://huggingface.co/docs/transformers/main/en/main_classes/text_generation)\n",
            "Both `max_new_tokens` (=50) and `max_length`(=20) seem to have been set. `max_new_tokens` will take precedence. Please refer to the documentation for more information. (https://huggingface.co/docs/transformers/main/en/main_classes/text_generation)\n",
            "Both `max_new_tokens` (=50) and `max_length`(=20) seem to have been set. `max_new_tokens` will take precedence. Please refer to the documentation for more information. (https://huggingface.co/docs/transformers/main/en/main_classes/text_generation)\n"
          ]
        },
        {
          "output_type": "stream",
          "name": "stdout",
          "text": [
            "Document 1:\n",
            "\n",
            "Novel title: 'Holly' by Stephen King. Description: Holly Gibner, één van Stephen Kings meest meeslepende en vindingrijke personages, keert in deze bloedstollende thriller terug om de gruwelijke waarheid achter een reeks verdwijningen in een klein stadje te achterhalen.Stephen Kings Holly betekent de triomfantelijke terugkeer van het geliefde personage Holly Gibner. Lezers hebben kunnen genieten van Holly’s ontwikkeling van verlegen (maar ook stoere en morele) einzelgänger in Mr. Mercedes, naar Bill Hodges’ partner in De eerlijke vinder, tot ervaren, intelligente, soms wat harde privédetective in De buitenstaander. In Kings nieuwste boek moet Holly het in haar eentje opnemen tegen een stel sluwe en wrede vijanden.Wanneer Penny Dahl het detectivebureau belt in de hoop dat ze haar vermiste dochter kunnen vinden, weet Holly niet zeker of ze de zaak moet aannemen. Haar partner Pete is besmet met corona. Haar (behoorlijk compliceerde) moeder is net overleden. Eigenlijk Holly zou met verlof moeten zijn. Maar iets in Penny Dahls wanhopige stem maakt het voor Holly onmogelijk om haar af te wijzen.Slechts een paar straten van waar Bonnie Dahl verdween, wonen professoren Rodney en Emily Harris. Ze leiden een perfect leven: gelukkig getrouwd en na een lang leven als academici bijna gepensioneerd. Maar ze bewaken een kwaadaardig geheim in de kelder van hun goed verzorgde huis, een geheim dat te maken heeft met Bonnies verdwijning. Het is haast onmogelijk om hen te ontmaskeren: ze zijn geslepen, geduldig en genadeloos.Holly moet al haar talenten inzetten om de gruwelijke professoren te verslaan in dit nieuwe meesterwerk van Stephen King.\n",
            "----------------------------------------------------------------------------------------------------\n",
            "Document 2:\n",
            "\n",
            "Novel title: 'Foul Heart Huntsman' by Chloe Gong. Description: From the #1 New York Times bestselling author of These Violent Delights and Our Violent Ends comes the second book in the captivating Foul Lady Fortune duology following an immortal assassin in 1930s Shanghai as she races to save her country and her love.Winter is drawing thick in 1932 Shanghai, as is the ever-nearing threat of a Japanese invasion.Rosalind Lang has suffered the worst possible fate for a national spy: she’s been exposed. With the media storm camped outside her apartment for the infamous Lady Fortune, she’s barely left her bedroom in weeks, plotting her next course of action after Orion was taken and his memories of Rosalind wiped. Though their marriage might have been a sham, his absence hurts her more than any physical wound. She won’t rest until she gets him back.But with her identity in the open, the task is near impossible. The only way to leave the city and rescue Orion is under the guise of a national tour. It’s easy to convince her superiors that the countryside needs unity more than ever, and who better than an immortal girl to stir pride and strength into the people?When the tour goes wrong, however, everything Rosalind once knew is thrown up in the air. Taking refuge outside Shanghai, old ghosts come into the open and adversaries turn to allies. To save Orion, they must find a cure to his mother’s traitorous invention and take this dangerous chemical weapon away from impending foreign invasion—but the clock is ticking, and if Rosalind fails, it’s not only Orion she loses, but her nation itself.\n",
            "----------------------------------------------------------------------------------------------------\n",
            "Document 3:\n",
            "\n",
            "Novel title: 'The Last Devil to Die' by Richard Osman. Description: A new mystery is afoot in the fourth book in the Thursday Murder Club series from million-copy bestselling author Richard Osman. Coming September 2023!\n"
          ]
        }
      ]
    },
    {
      "cell_type": "code",
      "source": [
        "rag_context(\"What is the sequel to 'Foul Lady Fortune' and what is it about?\")"
      ],
      "metadata": {
        "colab": {
          "base_uri": "https://localhost:8080/"
        },
        "id": "gN8wAOfPIBCG",
        "outputId": "4758aabc-7470-4fe3-ed2c-ec3bbb650073"
      },
      "execution_count": 125,
      "outputs": [
        {
          "output_type": "stream",
          "name": "stdout",
          "text": [
            "\n",
            "\n",
            "\u001b[1m> Entering new RetrievalQA chain...\u001b[0m\n"
          ]
        },
        {
          "output_type": "stream",
          "name": "stderr",
          "text": [
            "/usr/local/lib/python3.10/dist-packages/langchain/chains/llm.py:275: UserWarning: The predict_and_parse method is deprecated, instead pass an output parser directly to LLMChain.\n",
            "  warnings.warn(\n",
            "Both `max_new_tokens` (=50) and `max_length`(=20) seem to have been set. `max_new_tokens` will take precedence. Please refer to the documentation for more information. (https://huggingface.co/docs/transformers/main/en/main_classes/text_generation)\n",
            "Both `max_new_tokens` (=50) and `max_length`(=20) seem to have been set. `max_new_tokens` will take precedence. Please refer to the documentation for more information. (https://huggingface.co/docs/transformers/main/en/main_classes/text_generation)\n",
            "Both `max_new_tokens` (=50) and `max_length`(=20) seem to have been set. `max_new_tokens` will take precedence. Please refer to the documentation for more information. (https://huggingface.co/docs/transformers/main/en/main_classes/text_generation)\n",
            "Both `max_new_tokens` (=50) and `max_length`(=20) seem to have been set. `max_new_tokens` will take precedence. Please refer to the documentation for more information. (https://huggingface.co/docs/transformers/main/en/main_classes/text_generation)\n",
            "/usr/local/lib/python3.10/dist-packages/transformers/pipelines/base.py:1083: UserWarning: You seem to be using the pipelines sequentially on GPU. In order to maximize efficiency please use a dataset\n",
            "  warnings.warn(\n"
          ]
        },
        {
          "output_type": "stream",
          "name": "stdout",
          "text": [
            "\n",
            "\u001b[1m> Finished chain.\u001b[0m\n"
          ]
        },
        {
          "output_type": "execute_result",
          "data": {
            "text/plain": [
              "{'query': \"What is the sequel to 'Foul Lady Fortune' and what is it about?\",\n",
              " 'result': \" The sequel to 'Foul Lady Fortune' is called 'Foul Heart Huntsman'. It follows the same protagonist, Rosalind Lang, as she tries to save her country and her love from a Japanese invasion in 1930s Shanghai.\"}"
            ]
          },
          "metadata": {},
          "execution_count": 125
        }
      ]
    },
    {
      "cell_type": "markdown",
      "source": [
        "\n",
        "For enhanced RAG  the answer is *finally* very good!!"
      ],
      "metadata": {
        "id": "jT0wOCgsb0kv"
      }
    },
    {
      "cell_type": "code",
      "source": [
        "llm( \"Give me a short synopsis of events of 'The Unfortunate Side Effects of Heartbreak and Magic' novel by B.Randall\")\n"
      ],
      "metadata": {
        "colab": {
          "base_uri": "https://localhost:8080/",
          "height": 88
        },
        "id": "WPs75iQnEy2s",
        "outputId": "080a5cce-210b-4b12-fcfe-3978e7a2065a"
      },
      "execution_count": 65,
      "outputs": [
        {
          "output_type": "execute_result",
          "data": {
            "text/plain": [
              "'.\\n\\nSure! Here\\'s a short synopsis of the events in \"The Unfortunate Side Effects of Heartbreak and Magic\" by B. Randall:\\n\\nAfter her boyfriend dumps her, Ember finds solace in her magic abilities. However, she soon discovers that her heartbreak has unleashed a powerful and unpredictable magic within her. As she struggles to control her newfound powers, Ember must also navigate her complicated relationships with her best friend, her ex-boyfriend, and a mysterious new love interest. Along the way, she learns that the line between magic and heartbreak is thin, and that true love can be found in the most unexpected places.'"
            ],
            "application/vnd.google.colaboratory.intrinsic+json": {
              "type": "string"
            }
          },
          "metadata": {},
          "execution_count": 65
        }
      ]
    },
    {
      "cell_type": "code",
      "source": [
        "rag( \"Give me a short synopsis of events of 'The Unfortunate Side Effects of Heartbreak and Magic' novel by B.Randall\")"
      ],
      "metadata": {
        "colab": {
          "base_uri": "https://localhost:8080/"
        },
        "id": "p91qsIli6ydz",
        "outputId": "58b53fd7-b800-4b04-eced-cf91700adb5f"
      },
      "execution_count": 66,
      "outputs": [
        {
          "output_type": "execute_result",
          "data": {
            "text/plain": [
              "{'query': \"Give me a short synopsis of events of 'The Unfortunate Side Effects of Heartbreak and Magic' novel by B.Randall\",\n",
              " 'result': '\\n\\nThe novel \"The Unfortunate Side Effects of Heartbreak and Magic\" by B. Randall follows the story of Sadie Revelare, a young woman who inherits a magical ability from her grandmother, but also carries a curse of four heartbreaks that accompany her magic. When her grandmother is diagnosed with cancer and her first heartbreak returns to town, Sadie\\'s carefully structured life begins to unravel. As she faces the last of her heartbreaks, she must decide if love is more important than her magic.'}"
            ]
          },
          "metadata": {},
          "execution_count": 66
        }
      ]
    },
    {
      "cell_type": "markdown",
      "source": [
        "Here Llama hallucinates again, and retriever does good job. 3:0 to RAG."
      ],
      "metadata": {
        "id": "OQJAuGEglLeV"
      }
    },
    {
      "cell_type": "code",
      "source": [
        "llm( \"What's the latest novel by Mona Awad?\")\n"
      ],
      "metadata": {
        "colab": {
          "base_uri": "https://localhost:8080/",
          "height": 36
        },
        "id": "5hQbhuFbE30v",
        "outputId": "c5548053-b953-49a3-b735-c8d8db312835"
      },
      "execution_count": 67,
      "outputs": [
        {
          "output_type": "execute_result",
          "data": {
            "text/plain": [
              "'\\n\\nAnswer: The latest novel by Mona Awad is \"Bewilderness\".'"
            ],
            "application/vnd.google.colaboratory.intrinsic+json": {
              "type": "string"
            }
          },
          "metadata": {},
          "execution_count": 67
        }
      ]
    },
    {
      "cell_type": "code",
      "source": [
        "rag( \"What's the latest novel by Mona Awad?\")"
      ],
      "metadata": {
        "colab": {
          "base_uri": "https://localhost:8080/"
        },
        "id": "A4RXVc_o64OF",
        "outputId": "538d1dd0-37ca-4ac9-c64d-4faef245b74d"
      },
      "execution_count": 178,
      "outputs": [
        {
          "output_type": "stream",
          "name": "stdout",
          "text": [
            "\n",
            "\n",
            "\u001b[1m> Entering new RetrievalQA chain...\u001b[0m\n",
            "\n",
            "\u001b[1m> Finished chain.\u001b[0m\n"
          ]
        },
        {
          "output_type": "execute_result",
          "data": {
            "text/plain": [
              "{'query': \"What's the latest novel by Mona Awad?\",\n",
              " 'result': ' The latest novel by Mona Awad is called \"Baby, We Need to Talk\". It\\'s a darkly comedic exploration of the expectations placed upon Palestinian-American women and the meaning of a fulfilling life.'}"
            ]
          },
          "metadata": {},
          "execution_count": 178
        }
      ]
    },
    {
      "cell_type": "code",
      "source": [
        "vectordb.similarity_search(\n",
        "    \"What's the latest novel by Mona Awad?\",  # the search query\n",
        "\n",
        "    k=2  # returns top 3 most relevant articles\n",
        ")"
      ],
      "metadata": {
        "colab": {
          "base_uri": "https://localhost:8080/"
        },
        "id": "kWnaxPew-oFQ",
        "outputId": "13e12de3-c078-466f-d60c-a05317157ee3"
      },
      "execution_count": 19,
      "outputs": [
        {
          "output_type": "execute_result",
          "data": {
            "text/plain": [
              "[Document(page_content=\"Novel title: 'Nineteen Steps' by Millie Bobby Brown. Description: Emmy-nominated actress and producer MILLIE BOBBY BROWN's debut novel, Nineteen Steps, is a moving tale of love, longing, and loss, inspired by the true events of her family's experience during World War II.Love blooms in the darkest days…It’s 1942, and London remains under constant threat of enemy attack as the second world war rages on. In the Bethnal Green neighborhood, Nellie Morris counts every day lucky that she emerges from the underground shelters unharmed, her loving family still surrounding her.Three years into the war, she’s grateful to hold onto remnants of normalcy—her job as assisting the mayor and nights spent at the local pub with her best friend. But after a chance encounter with Ray, an American airman stationed nearby, Nellie becomes enchanted with the idea of a broader world.Just when Nellie begins to embrace an exciting new life with Ray, a terrible incident occurs during an air raid one evening, and the consequences are catastrophic. As the truth about that night is revealed, Nellie’s world is torn apart. When it seems all hope is lost, Nellie finds that, against all odds, love and happiness can triumph.Nineteen Steps is a deeply affecting, mesmerizing page-turner inspired by the author’s family history. An epic story of longing, loss, and secrets, Millie Bobby Brown’s propulsive debut introduces an unforgettable, brave young woman and boldly portrays the strength in the power of love.“Inspired by my Nanny Ruth, this book is very personal and close to my heart. I grew up listening to stories about her time living through the war. I’m honored to keep her story alive.”—Millie Bobby Brown\", metadata={'author': 'Millie Bobby Brown', 'source': 'https://www.goodreads.com/book/show/123199043-nineteen-steps', 'title': 'Nineteen Steps'}),\n",
              " Document(page_content=\"Novel title: 'Sinners Atone' by Somme Sketcher. Description: ***GABE &amp; WREN'S STORY. RELEASE DATE TBA***\", metadata={'author': 'Somme Sketcher', 'source': 'https://www.goodreads.com/book/show/62368883-sinners-atone', 'title': 'Sinners Atone'})]"
            ]
          },
          "metadata": {},
          "execution_count": 19
        }
      ]
    },
    {
      "cell_type": "markdown",
      "source": [
        "Here neither Llama nor retriever do well. RAG doesn't find the right records in the db just by the author's name.\n",
        "\n",
        "When we rephrase the question and give more details it finally finds the correct record and refers to it."
      ],
      "metadata": {
        "id": "ZxM56mUElbPs"
      }
    },
    {
      "cell_type": "code",
      "source": [
        "compressed_docs = compression_retriever_filter.get_relevant_documents(\"What's the latest novel by Mona Awad?\")\n",
        "pretty_print_docs(compressed_docs)"
      ],
      "metadata": {
        "colab": {
          "base_uri": "https://localhost:8080/"
        },
        "id": "Q4Fn6dPUIkRW",
        "outputId": "64929f25-bca9-459b-f4d8-02f87cabae2c"
      },
      "execution_count": 128,
      "outputs": [
        {
          "output_type": "stream",
          "name": "stderr",
          "text": [
            "Both `max_new_tokens` (=50) and `max_length`(=20) seem to have been set. `max_new_tokens` will take precedence. Please refer to the documentation for more information. (https://huggingface.co/docs/transformers/main/en/main_classes/text_generation)\n",
            "Both `max_new_tokens` (=50) and `max_length`(=20) seem to have been set. `max_new_tokens` will take precedence. Please refer to the documentation for more information. (https://huggingface.co/docs/transformers/main/en/main_classes/text_generation)\n",
            "Both `max_new_tokens` (=50) and `max_length`(=20) seem to have been set. `max_new_tokens` will take precedence. Please refer to the documentation for more information. (https://huggingface.co/docs/transformers/main/en/main_classes/text_generation)\n",
            "Both `max_new_tokens` (=50) and `max_length`(=20) seem to have been set. `max_new_tokens` will take precedence. Please refer to the documentation for more information. (https://huggingface.co/docs/transformers/main/en/main_classes/text_generation)\n"
          ]
        },
        {
          "output_type": "stream",
          "name": "stdout",
          "text": [
            "Document 1:\n",
            "\n",
            "Novel title: 'Sinners Atone' by Somme Sketcher. Description: ***GABE &amp; WREN'S STORY. RELEASE DATE TBA***\n",
            "----------------------------------------------------------------------------------------------------\n",
            "Document 2:\n",
            "\n",
            "Novel title: 'Evil Eye' by Etaf Rum. Description: The acclaimed New York Times bestselling author of A Woman Is No Man returns with a striking exploration of the expectations of Palestinian-American women, the meaning of a fulfilling life, and the ways our unresolved pasts affect our presents.Raised in a conservative and emotionally volatile Palestinian family in Brooklyn, Yara thought she would finally feel free when she married a charming entrepreneur who took her to the suburbs. She’s gotten to follow her dreams, completing an undergraduate degree in Art and landing a good job at the local college. As a traditional wife, she also raises their two school-aged daughters, takes care of the house, and has dinner ready when her husband gets home. With her family balanced with her professional ambitions, Yara knows that her life is infinitely more rewarding than her own mother’s. So why doesn’t it feel like enough?  After her dream of chaperoning a student trip to Europe evaporates and she responds to a colleague’s racist provocation, Yara is put on probation at work and must attend mandatory counseling to keep her position. Her mother blames a family curse for the trouble she’s facing, and while Yara doesn’t really believe in old superstitions, she still finds herself growing increasingly uneasy with her mother’s warning and the possibility of falling victim to the same mistakes.Shaken to the core by these indictments of her life, Yara finds her carefully constructed world beginning to implode. To save herself, Yara must reckon with the reality that the difficulties of the childhood she thought she left behind have very real—and damaging—implications not just on her own future but that of her daughters.\n"
          ]
        }
      ]
    },
    {
      "cell_type": "code",
      "source": [
        "rag_context(\"What's the latest novel by Mona Awad?\")"
      ],
      "metadata": {
        "colab": {
          "base_uri": "https://localhost:8080/"
        },
        "id": "YNjfS-s6IsNF",
        "outputId": "604988b3-f7af-4055-c67c-f2579cd9623d"
      },
      "execution_count": 133,
      "outputs": [
        {
          "output_type": "stream",
          "name": "stdout",
          "text": [
            "\n",
            "\n",
            "\u001b[1m> Entering new RetrievalQA chain...\u001b[0m\n"
          ]
        },
        {
          "output_type": "stream",
          "name": "stderr",
          "text": [
            "Both `max_new_tokens` (=50) and `max_length`(=20) seem to have been set. `max_new_tokens` will take precedence. Please refer to the documentation for more information. (https://huggingface.co/docs/transformers/main/en/main_classes/text_generation)\n",
            "Both `max_new_tokens` (=50) and `max_length`(=20) seem to have been set. `max_new_tokens` will take precedence. Please refer to the documentation for more information. (https://huggingface.co/docs/transformers/main/en/main_classes/text_generation)\n",
            "Both `max_new_tokens` (=50) and `max_length`(=20) seem to have been set. `max_new_tokens` will take precedence. Please refer to the documentation for more information. (https://huggingface.co/docs/transformers/main/en/main_classes/text_generation)\n",
            "Both `max_new_tokens` (=50) and `max_length`(=20) seem to have been set. `max_new_tokens` will take precedence. Please refer to the documentation for more information. (https://huggingface.co/docs/transformers/main/en/main_classes/text_generation)\n"
          ]
        },
        {
          "output_type": "stream",
          "name": "stdout",
          "text": [
            "\n",
            "\u001b[1m> Finished chain.\u001b[0m\n"
          ]
        },
        {
          "output_type": "execute_result",
          "data": {
            "text/plain": [
              "{'query': \"What's the latest novel by Mona Awad?\", 'result': \" I don't know.\"}"
            ]
          },
          "metadata": {},
          "execution_count": 133
        }
      ]
    },
    {
      "cell_type": "markdown",
      "source": [
        "Enhanced RAG also failed to find the correct answer but at least it recognized this fact, instead of confabulating some wrong answer."
      ],
      "metadata": {
        "id": "gBzgbS8vO7Qm"
      }
    },
    {
      "cell_type": "code",
      "source": [
        "llm(\"What does Mona Awad say about beauty industry in her latest book?\")"
      ],
      "metadata": {
        "colab": {
          "base_uri": "https://localhost:8080/",
          "height": 123
        },
        "id": "q1UnnOUoO2-r",
        "outputId": "522dd2a1-da87-43a5-b08d-4a2920bc8fb9"
      },
      "execution_count": 201,
      "outputs": [
        {
          "output_type": "execute_result",
          "data": {
            "text/plain": [
              "'\\nMona Awad\\'s latest book, \"All the Wild Hungers\", explores themes of beauty, identity, and power through the lens of a group of women who are struggling to find their place in society. In the book, Awad challenges traditional notions of beauty and femininity, arguing that these concepts are socially constructed and can be damaging to individuals and society as a whole.\\n\\nOne of the main characters in the book, Lily, is a young woman who is obsessed with her appearance and feels pressure to conform to societal beauty standards. Through Lily\\'s journey, Awad highlights the ways in which the beauty industry can be harmful and oppressive, perpetuating unrealistic beauty ideals and reinforcing damaging gender stereotypes.\\n\\nAt the same time, Awad also celebrates the beauty and strength of women in all their forms, suggesting that true beauty comes from within and cannot be reduced to physical appearances. Through her writing, Awad encourages readers to embrace their unique qualities and reject societal expectations of what it means to be beautiful or feminine.\\n\\nOverall, \"All the Wild Hungers\" is a thought'"
            ],
            "application/vnd.google.colaboratory.intrinsic+json": {
              "type": "string"
            }
          },
          "metadata": {},
          "execution_count": 201
        }
      ]
    },
    {
      "cell_type": "code",
      "source": [
        "rag(\"What does Mona Awad say about beauty industry in her latest book?\")"
      ],
      "metadata": {
        "colab": {
          "base_uri": "https://localhost:8080/"
        },
        "id": "Oz4whHeVO3Iz",
        "outputId": "99a9de7e-9208-4bc4-8a50-0459e996062b"
      },
      "execution_count": 200,
      "outputs": [
        {
          "output_type": "stream",
          "name": "stdout",
          "text": [
            "\n",
            "\n",
            "\u001b[1m> Entering new RetrievalQA chain...\u001b[0m\n",
            "\n",
            "\u001b[1m> Finished chain.\u001b[0m\n"
          ]
        },
        {
          "output_type": "execute_result",
          "data": {
            "text/plain": [
              "{'query': 'What does Mona Awad say about beauty industry in her latest book?',\n",
              " 'result': \" Based on the provided text, Mona Awad's latest book, Rouge, explores the cult-like nature of the beauty industry and the dangerous consequences of internalizing its pitiless gaze. The book delves into the dark side of beauty, envy, grief, and the complicated love between mothers and daughters.\"}"
            ]
          },
          "metadata": {},
          "execution_count": 200
        }
      ]
    },
    {
      "cell_type": "code",
      "source": [
        "vectordb.similarity_search(\n",
        "    \"What does Mona Awad say about beauty industry in her latest book?\",  # the search query\n",
        "    k=2\n",
        ")"
      ],
      "metadata": {
        "colab": {
          "base_uri": "https://localhost:8080/"
        },
        "id": "7V0a1wXgO3K5",
        "outputId": "cfabc4e2-4321-4d15-8117-a671b551e36b"
      },
      "execution_count": 199,
      "outputs": [
        {
          "output_type": "execute_result",
          "data": {
            "text/plain": [
              "[Document(page_content='From the critically acclaimed author of Bunny comes a horror-tinted, gothic fairy tale about a lonely dress shop clerk whose mother’s unexpected death sends her down a treacherous path in pursuit of youth and beauty. Can she escape her mother’s fate—and find a connection that is more than skin deep?For as long as she can remember, Belle has been insidiously obsessed with her skin and skincare videos. When her estranged mother Noelle mysteriously dies, Belle finds herself back in Southern California, dealing with her mother’s considerable debts and grappling with lingering questions about her death. The stakes escalate when a strange woman in red appears at the funeral, offering a tantalizing clue about her mother’s demise, followed by a cryptic video about a transformative spa experience. With the help of a pair of red shoes, Belle is lured into the barbed embrace of La Maison de Méduse, the same lavish, culty spa to which her mother was devoted. There, Belle discovers the frightening secret behind her (and her mother’s) obsession with the mirror—and the great shimmering depths (and demons) that lurk on the other side of the glass. Snow White meets Eyes Wide Shut in this surreal descent into the dark side of beauty, envy, grief, and the complicated love between mothers and daughters. With black humor and seductive horror, Rouge explores the cult-like nature of the beauty industry—as well as the danger of internalizing its pitiless gaze. Brimming with California sunshine and blood-red rose petals, Rouge holds up a warped mirror to our relationship with mortality, our collective fixation with the surface, and the wondrous, deep longing that might lie beneath.', metadata={'author': 'Mona Awad', 'source': 'https://www.goodreads.com/book/show/101160689-rouge', 'title': 'Rouge'}),\n",
              " Document(page_content='The acclaimed New York Times bestselling author of A Woman Is No Man returns with a striking exploration of the expectations of Palestinian-American women, the meaning of a fulfilling life, and the ways our unresolved pasts affect our presents.Raised in a conservative and emotionally volatile Palestinian family in Brooklyn, Yara thought she would finally feel free when she married a charming entrepreneur who took her to the suburbs. She’s gotten to follow her dreams, completing an undergraduate degree in Art and landing a good job at the local college. As a traditional wife, she also raises their two school-aged daughters, takes care of the house, and has dinner ready when her husband gets home. With her family balanced with her professional ambitions, Yara knows that her life is infinitely more rewarding than her own mother’s. So why doesn’t it feel like enough?  After her dream of chaperoning a student trip to Europe evaporates and she responds to a colleague’s racist provocation, Yara is put on probation at work and must attend mandatory counseling to keep her position. Her mother blames a family curse for the trouble she’s facing, and while Yara doesn’t really believe in old superstitions, she still finds herself growing increasingly uneasy with her mother’s warning and the possibility of falling victim to the same mistakes.Shaken to the core by these indictments of her life, Yara finds her carefully constructed world beginning to implode. To save herself, Yara must reckon with the reality that the difficulties of the childhood she thought she left behind have very real—and damaging—implications not just on her own future but that of her daughters.', metadata={'author': 'Etaf Rum', 'source': 'https://www.goodreads.com/book/show/59381516-evil-eye', 'title': 'Evil Eye'})]"
            ]
          },
          "metadata": {},
          "execution_count": 199
        }
      ]
    },
    {
      "cell_type": "markdown",
      "source": [
        "**Summary:**\n",
        "\n",
        "Overall Llama + vector store + embeddings setup does much better job of finding correct answers but the solution is not perfect. Some details are mistaken (not understood correctly) or still hallucinated. Errors were seen in situation where:\n",
        "- questions were short and contained small amounts of information - then the embeddings model would sometimes appoint wrong documents as the most similar ones\n",
        "- The question wasn't straightforward and so the answer required some analysis of the text. With a couple of documents loaded in the context it seems that Llama 13B (quantized) struggled with picking out the right piece of information.\n",
        "- Enhancing RAG gives the best result. Especially using the filter option, which filters irrelevant documents and effectively puts into context only relevant pieces of information makes the subsequent Llama model produce the right and coherent answers.\n",
        "- Because of the smaller context Llama is also able to recognize when it failed to find answer. Instead of hallucinating some response like vanilla Llama and even the basic RAG setup, it tell honestly it doesn't know the answer or isn't sure about it. Big improvement overall!"
      ],
      "metadata": {
        "id": "ykLDFHtzl4II"
      }
    },
    {
      "cell_type": "markdown",
      "source": [
        "##6.2 Cosmology questions\n",
        "\n",
        "Now we pick some test questions based on NASA cosmology corpus of articles from last month (August-September). This dataset contains much more intricate, jargon-packed langugae.\n",
        "\n",
        "Note: this part was only tested with vanilla Llama and basic RAG setup. But because it struggled so mach already on the retrieval step (the embeddings model play key role in that) enhanced RAG would also not be much more successful and so wasn't tested.\n",
        "\n"
      ],
      "metadata": {
        "id": "i1g6UDL0EILk"
      }
    },
    {
      "cell_type": "code",
      "source": [
        "llm('Why are young massive planets easier to study their atmospheres?')"
      ],
      "metadata": {
        "colab": {
          "base_uri": "https://localhost:8080/",
          "height": 88
        },
        "id": "do2fpUClUNwr",
        "outputId": "74821c80-dd4f-47e1-829b-ce3119a656c9"
      },
      "execution_count": 45,
      "outputs": [
        {
          "output_type": "execute_result",
          "data": {
            "text/plain": [
              "'\\n\\nYoung massive planets are easier to study their atmospheres because they are typically brighter and more massive than older, smaller planets. This makes them easier to detect and observe with telescopes, allowing scientists to gather more data about their atmospheres. Additionally, young massive planets are often still in the process of forming, which means that their atmospheres are still being shaped by ongoing planetary accretion and differentiation. This makes them a unique window into the early stages of planetary formation and evolution.\\n\\n\\n\\n'"
            ],
            "application/vnd.google.colaboratory.intrinsic+json": {
              "type": "string"
            }
          },
          "metadata": {},
          "execution_count": 45
        }
      ]
    },
    {
      "cell_type": "code",
      "source": [
        "rag('Why are young massive planets easier to study their atmospheres?')"
      ],
      "metadata": {
        "colab": {
          "base_uri": "https://localhost:8080/"
        },
        "id": "mUZ14igYUNtd",
        "outputId": "3f73cad0-01fc-4b59-febb-19bd8174ccf3"
      },
      "execution_count": 105,
      "outputs": [
        {
          "output_type": "execute_result",
          "data": {
            "text/plain": [
              "{'query': 'Why are young massive planets easier to study their atmospheres?',\n",
              " 'result': ' Young massive planets are easier to study because they are still hot enough to emit light that can be detected by telescopes, allowing for spectroscopy of their atmospheres. Additionally, they are typically brighter and closer to Earth, making them easier to observe.'}"
            ]
          },
          "metadata": {},
          "execution_count": 105
        }
      ]
    },
    {
      "cell_type": "code",
      "source": [
        "vectordb.similarity_search(\n",
        "    'Why are young massive planets easier to study their atmospheres?',  # the search query\n",
        "\n",
        "    k=2  # returns top 2 most relevant articles\n",
        ")"
      ],
      "metadata": {
        "colab": {
          "base_uri": "https://localhost:8080/"
        },
        "id": "EwzqSPjDfDJl",
        "outputId": "d26a39dc-8c4d-493a-ffe4-d4d7cdda39f0"
      },
      "execution_count": 33,
      "outputs": [
        {
          "output_type": "execute_result",
          "data": {
            "text/plain": [
              "[Document(page_content='Very young massive planets are sufficiently luminous by their internal heat of formation to permit detailed studies, including spectroscopy of their atmospheres with large telescopes at sufficient resolution ($\\\\lambda / \\\\Delta \\\\lambda \\\\gtrsim 1000$) to identify major constituents to inform models of planet formation and early evolution. We obtained 1-2.4$\\\\mu$m ($YJHK$) spectra of the planetary-mass \"b\" companion of 2MASS~J04372171+2651014, a 1-3 Myr-old M dwarf member of the Taurus star-forming region, and one of the youngest such objects discovered to date. These indicate the presence of CO and possibly H$_2$O and CH$_4$ in the atmosphere, all suggesting a $T_{\\\\rm eff}$ of around 1200K, characteristic of a L-T transition spectral type and consistent with previous estimates based on its luminosity and age. The absence or attenuation of spectral features at shorter wavelengths suggests the presence of micron-size dust, consistent with the object\\'s red color. The spectrum of 2M0437b resembles those of the HR 8799 planets, especially the innermost \"b\" planet, with the exception of a pronounced flux deficit in the $H$-band of uncertain origin.', metadata={'title': 'CO, H$_2$O, and CH$_4$ in the Dusty Atmosphere of a $\\\\le$5 Myr-old Exoplanet'}),\n",
              " Document(page_content='Atmospheric characterisation of exoplanets from the ground is an actively growing field of research. In this context we have created the ATMOSPHERIX consortium: a research project aimed at characterizing exoplanets atmospheres using ground-based high resolution spectroscopy. This paper presents the publicly-available data analysis pipeline and demonstrates the robustness of the recovered planetary parameters from synthetic data. Simulating planetary transits using synthetic transmission spectra of a hot Jupiter that were injected into real SPIRou observations of the non-transiting system Gl 15 A, we show that our pipeline is successful at recovering the planetary signal and input atmospheric parameters. We also introduce a deep learning algorithm to optimise data reduction which proves to be a reliable, alternative tool to the commonly used principal component analysis. We estimate the level of uncertainties and possible biases when retrieving parameters such as temperature and composition and hence the level of confidence in the case of retrieval from real data. Finally, we apply our pipeline onto two real transits of HD~189733 b observed with SPIRou and obtain similar results than in the literature. In summary, we have developed a publicly available and robust pipeline for the forthcoming studies of the targets to be observed in the framework of the ATMOSPHERIX consortium, which can easily be adapted to other high resolution instruments than SPIRou (e.g. VLT-CRIRES, MAROON-X, ELT-ANDES)', metadata={'title': 'ATMOSPHERIX: I- An open source high resolution transmission spectroscopy pipeline for exoplanets atmospheres with SPIRou'})]"
            ]
          },
          "metadata": {},
          "execution_count": 33
        }
      ]
    },
    {
      "cell_type": "markdown",
      "source": [
        "Here both models give correct answer but the pure Llama-2 elaborates on the topic in more comprehensible way.\n"
      ],
      "metadata": {
        "id": "V3mHp61noC6M"
      }
    },
    {
      "cell_type": "code",
      "source": [
        "llm('What are the latest TESS observations of magnetic hot stars?')"
      ],
      "metadata": {
        "colab": {
          "base_uri": "https://localhost:8080/",
          "height": 247
        },
        "id": "bXdBLivxUNVp",
        "outputId": "f002d744-61ae-4b00-d037-05ffe094551a"
      },
      "execution_count": 52,
      "outputs": [
        {
          "output_type": "stream",
          "name": "stderr",
          "text": [
            "/usr/local/lib/python3.10/dist-packages/transformers/pipelines/base.py:1101: UserWarning: You seem to be using the pipelines sequentially on GPU. In order to maximize efficiency please use a dataset\n",
            "  warnings.warn(\n",
            "/usr/local/lib/python3.10/dist-packages/transformers/generation/configuration_utils.py:362: UserWarning: `do_sample` is set to `False`. However, `temperature` is set to `0.0` -- this flag is only used in sample-based generation modes. You should set `do_sample=True` or unset `temperature`.\n",
            "  warnings.warn(\n",
            "/usr/local/lib/python3.10/dist-packages/transformers/generation/configuration_utils.py:367: UserWarning: `do_sample` is set to `False`. However, `top_p` is set to `0.9` -- this flag is only used in sample-based generation modes. You should set `do_sample=True` or unset `top_p`.\n",
            "  warnings.warn(\n"
          ]
        },
        {
          "output_type": "execute_result",
          "data": {
            "text/plain": [
              "'\\n\\nThe Transiting Exoplanet Survey Satellite (TESS) has made numerous observations of magnetic hot stars, providing valuable insights into their properties and behavior. Here are some of the latest TESS observations of magnetic hot stars:\\n\\n1. Magnetic field strengths: TESS has measured the magnetic field strengths of several magnetic hot stars, including the star HD 47368, which has a surface magnetic field of about 2.5 kG (Koch et al. 2020). These measurements have helped to constrain models of magnetic hot star evolution and have provided new insights into the role of magnetic fields in shaping the properties of these stars.\\n2. Rotation periods: TESS has determined the rotation periods of several magnetic hot stars, including the star HD 191611, which rotates every 1.3 days (Huber et al. 2020). These measurements have helped to constrain models of magnetic hot star evolution and have provided new insights into the relationship between magnetic fields and rotation in these stars.\\n3. Starspots: TESS has detected starspots on several magnetic hot stars, including the star HD 47368, which has a large spot that is visible in the TESS light curve (Koch et al. 2020). These observations have provided new insights into the distribution and evolution of starspots on magnetic hot stars.\\n4. Chromospheric activity: TESS has observed chromospheric activity on several magnetic hot stars, including the star HD 191611, which shows strong UV flares and other signs of chromospheric activity (Huber et al. 2020). These observations have provided new insights into the relationship between magnetic fields and chromospheric activity in these stars.\\n5. Coronal activity: TESS has observed coronal activity on several magnetic hot stars, including the star HD 47368, which shows strong X-ray and EUV emission (Koch et al. 2020). These observations have provided new insights into the relationship between magnetic fields and coronal activity in these stars.\\n\\nOverall, the latest TESS observations of magnetic hot stars have provided valuable new insights into the properties and behavior of these stars, and have highlighted the importance of magnetic fields in shaping their'"
            ],
            "application/vnd.google.colaboratory.intrinsic+json": {
              "type": "string"
            }
          },
          "metadata": {},
          "execution_count": 52
        }
      ]
    },
    {
      "cell_type": "code",
      "source": [
        "rag('What are the latest TESS observations of magnetic hot stars?')"
      ],
      "metadata": {
        "colab": {
          "base_uri": "https://localhost:8080/"
        },
        "id": "lS_oJII9UNPi",
        "outputId": "264e549c-89ac-4576-8ae0-fb0f6388b4b2"
      },
      "execution_count": 53,
      "outputs": [
        {
          "output_type": "execute_result",
          "data": {
            "text/plain": [
              "{'query': 'What are the latest TESS observations of magnetic hot stars?',\n",
              " 'result': ' The latest TESS observations of magnetic hot stars include the identification of 9 new rotating variable stars and the discovery of a significant negative correlation between the surface magnetic field strength and the characteristic frequency of the stars.'}"
            ]
          },
          "metadata": {},
          "execution_count": 53
        }
      ]
    },
    {
      "cell_type": "code",
      "source": [
        "vectordb.similarity_search(\n",
        "    'What are the latest TESS observations of magnetic hot stars?',  # the search query\n",
        "    k=2  # returns top 3 most relevant articles\n",
        ")"
      ],
      "metadata": {
        "colab": {
          "base_uri": "https://localhost:8080/"
        },
        "id": "KNj6K4_ohlZh",
        "outputId": "8fbc007e-df53-414f-cad8-9354005b30f7"
      },
      "execution_count": 55,
      "outputs": [
        {
          "output_type": "execute_result",
          "data": {
            "text/plain": [
              "[Document(page_content='Magnetic hot stars refer to the stars, which effective temperatures approximately in the range from 7,000 to 50,000 K, and with large-scale globally organized magnetic fields. These magnetic fields exhibit strengths ranging from tens of Gauss to tens of kilo-Gauss. They are key in understanding the effects caused by magnetic fields in the stellar evolution. However, there are only three magnetic hot stars studied via a combination of spectropolarimetric and asteroseismic modeling. Combined with $Transiting\\\\;Exoplanet\\\\;Survey\\\\;Satellite\\\\;(TESS)$ 1-56 sectors data sets, we provided a photometric variability and stochastic low frequency (SLF) variability study of 118 magnetic hot stars. 9 new rotating variable stars are identified. Using the Bayesian Markov Chain Monte Carlo (MCMC) framework, we fitted the morphologies of SLF variability for magnetic hot stars. Our analysis reveals that the magnetic hot stars in our sample have $\\\\gamma &lt; 5.5$ with the vast majority having $1 \\\\leq \\\\gamma \\\\leq 3$. The $\\\\nu_{\\\\rm char}$ is primarily in the ranges of $0\\\\;\\\\text{d}^{-1} &lt; \\\\nu_{\\\\rm char} &lt; 6.3\\\\;\\\\text{d}^{-1}$. The amplitude of SLF variability, log$\\\\alpha_{\\\\rm 0}$, shows a dominant distribution ranging from 0.8 to 3. No significant correlations are observed between the luminosity and fitting parameters, suggesting no clear dependence of SLF variability on stellar mass for our sample of magnetic hot stars with masses between approximately $1.5 M_{\\\\odot}&lt; M &lt; 20 M_{\\\\odot}$. We found a significant negative correlation between the $B_{\\\\rm p}$ and $\\\\nu_{char}$. This suppression effect of magnetic fields on $\\\\nu_{\\\\rm char}$ may be a result of their inhibition of macroturbulence.', metadata={'title': 'Variability of magnetic hot stars from the TESS observations'}),\n",
              " Document(page_content='During its 2 yr Prime Mission, TESS observed over 232,000 stars at a 2 minute cadence across ~70% of the sky. These data provide a record of photometric variability across a range of astrophysically interesting timescales, probing stellar rotation, stellar binarity, and pulsations. We have analyzed the TESS 2 minute light curves to identify periodic variability on timescales of 0.01-13 days, and explored the results across various stellar properties. We have identified over 46,000 periodic variables with high confidence, and another 38,000 with moderate confidence. These light curves show differences in variability type across the Hertzsprung-Russell diagram, with distinct groupings of rotational, eclipsing, and pulsational variables. We also see interesting patterns across period-luminosity space, with clear correlations between period and luminosity for high-mass pulsators, evolved stars, and contact binary systems, a discontinuity corresponding to the Kraft break, and a lower occurrence of periodic variability in main-sequence stars on timescales of 1.5-2 days. The variable stars identified in this work are cross-identified with several other variability catalogs, from which we find good agreement between the measured periods of variability. There are ~65,000 variable stars that are newly identified in this work, which includes the rotation rates of low-mass stars, high-frequency pulsation periods for high-mass stars, and a variety of giant star variability.', metadata={'title': 'Variability Catalog of Stars Observed during the TESS Prime Mission'})]"
            ]
          },
          "metadata": {},
          "execution_count": 55
        }
      ]
    },
    {
      "cell_type": "markdown",
      "source": [
        "This question was pretty general and both models answered differently (Llama based on its parametric knowledge only and retriever based on the paper it found relevant)."
      ],
      "metadata": {
        "id": "dl3jon9WUNB1"
      }
    },
    {
      "cell_type": "code",
      "source": [
        "llm('What is IMF function and what is it used for?')"
      ],
      "metadata": {
        "colab": {
          "base_uri": "https://localhost:8080/",
          "height": 123
        },
        "id": "gc5zthqJfqVc",
        "outputId": "6e34802f-51bb-4232-f656-89d78ccc0900"
      },
      "execution_count": 31,
      "outputs": [
        {
          "output_type": "execute_result",
          "data": {
            "text/plain": [
              "\"\\n\\nThe IMF (International Monetary Fund) is an international organization that provides financial assistance to countries in economic distress. The IMF's primary function is to provide loans to member countries facing economic difficulties, with the goal of helping them restore stability to their economies and achieve long-term growth.\\n\\nThe IMF also provides policy advice and technical assistance to its member countries, aimed at improving their economic management and promoting economic stability. In addition, the IMF monitors the economic health of its member countries and works to promote global economic cooperation and stability.\\n\\nThe IMF's functions include:\\n\\n1. Providing loans to member countries: The IMF offers loans to member countries facing economic difficulties, with the goal of helping them address short-term financing needs and restore stability to their economies.\\n2. Providing policy advice and technical assistance: The IMF offers advice and assistance on economic policies and institutional reforms to help member countries improve their economic management and achieve long-term growth.\\n3. Monitoring the economic health of member countries: The IMF monitors the economic health of its member countries and assesses their vulnerability to economic shocks, with the goal of identifying potential risks and promoting early intervention.\\n4. Promoting global economic cooperation and stability: The IMF works to promote global economic cooperation and stability by fostering dialogue among its member countries, sharing best practices, and coordinating policy efforts to address common economic challenges.\\n\\nOverall, the IMF plays a critical role in promoting global economic stability and supporting countries in need of economic assistance. Its functions are designed to help member countries address economic challenges, improve their economic management, and achieve long-term growth and development.\""
            ],
            "application/vnd.google.colaboratory.intrinsic+json": {
              "type": "string"
            }
          },
          "metadata": {},
          "execution_count": 31
        }
      ]
    },
    {
      "cell_type": "code",
      "source": [
        "rag('What is IMF function and what is it used for?')"
      ],
      "metadata": {
        "colab": {
          "base_uri": "https://localhost:8080/"
        },
        "id": "VQxG-XZSfxsL",
        "outputId": "37927b8f-4597-41b6-f39b-f6a7d9f64c11"
      },
      "execution_count": 30,
      "outputs": [
        {
          "output_type": "execute_result",
          "data": {
            "text/plain": [
              "{'query': 'What is IMF function and what is it used for?',\n",
              " 'result': ' IMF stands for \"Integrated Modal Function\". It is a mathematical representation of the dynamic behavior of a structure under external forces. In the context of the code you provided, the IMF function is used to calculate the response of the structure to different loading conditions, such as wind, waves, and earthquakes. The IMF function takes into account the modal properties of the structure, such as natural frequencies, damping ratios, and mode shapes, and provides a comprehensive representation of the structure\\'s behavior under different loading conditions.'}"
            ]
          },
          "metadata": {},
          "execution_count": 30
        }
      ]
    },
    {
      "cell_type": "code",
      "source": [
        "vectordb.similarity_search(\n",
        "    'What is IMF function and what is it used for',  # the search query\n",
        "    k=2  # returns top 3 most relevant articles\n",
        ")"
      ],
      "metadata": {
        "colab": {
          "base_uri": "https://localhost:8080/"
        },
        "id": "2nFI8KiNkVhh",
        "outputId": "b4e4bfe9-3502-48de-bbd3-4e29f8fde37f"
      },
      "execution_count": 29,
      "outputs": [
        {
          "output_type": "execute_result",
          "data": {
            "text/plain": [
              "[Document(page_content='This includes the following : Two ipynotebooks for performing PIV analysis to determine cardiac output and ejection fraction One ipynotebook for performing deformation mapping of ventricles', metadata={'title': \"SeasDBG/FRJS: Recreating the Heart's Helical Structure-Function Relationship with Focused Rotary Jet Spinning- Data Analysis\"}),\n",
              " Document(page_content='This is a matlab code for accurate and broadly applicable causal inference method for time-series data.', metadata={'title': 'Mathbiomed/GOBI: GOBI (General ODE-based causal inference)'})]"
            ]
          },
          "metadata": {},
          "execution_count": 29
        }
      ]
    },
    {
      "cell_type": "markdown",
      "source": [
        "Here IMF in question is actually Initial Mass Function. It's pretty obscure piece of information contained in one of the articles. Llama refered to more pupular IMF abbreviation in its answer while RAG hallucinated its answer because it didn't find the adequate document."
      ],
      "metadata": {
        "id": "7g_zNp6Mqr9T"
      }
    },
    {
      "cell_type": "code",
      "source": [
        "vectordb.similarity_search(\n",
        "    'What is SNCosmo for python?',  # the search query\n",
        "    k=2  # returns top 3 most relevant articles\n",
        ")"
      ],
      "metadata": {
        "colab": {
          "base_uri": "https://localhost:8080/"
        },
        "id": "YLLGtv0XIvfl",
        "outputId": "09619f75-bc0d-44bb-b24b-711d7a2af586"
      },
      "execution_count": 36,
      "outputs": [
        {
          "output_type": "execute_result",
          "data": {
            "text/plain": [
              "[Document(page_content='Python library for supernova cosmology', metadata={'title': 'SNCosmo'}),\n",
              " Document(page_content='New name, now installable with pip. Input files will need to be referenced according to the file structure in this repository, but paths and filenames can be passed as kwargs.', metadata={'title': 'itsmoosh/MoonMag: Repackaged for distribution with PyPI'})]"
            ]
          },
          "metadata": {},
          "execution_count": 36
        }
      ]
    },
    {
      "cell_type": "code",
      "source": [
        "vectordb.similarity_search(\n",
        "    'What is SNCosmo ?',  # the search query\n",
        "    k=3  # returns top 3 most relevant articles\n",
        ")"
      ],
      "metadata": {
        "colab": {
          "base_uri": "https://localhost:8080/"
        },
        "id": "R61H2bSJJCtW",
        "outputId": "615fb8cf-0a3a-45cc-a76f-bfc3ad6e3c2c"
      },
      "execution_count": 38,
      "outputs": [
        {
          "output_type": "execute_result",
          "data": {
            "text/plain": [
              "[Document(page_content='SONAR is a spatial transcriptomics deconvolution algorithm, if you have any questions, please contact us! Thanks for your support', metadata={'title': 'lzygenomics/SONAR: SONAR v1.0.0'}),\n",
              " Document(page_content='The eighteenth data release (DR18) of the Sloan Digital Sky Survey (SDSS) is the first one for SDSS-V, the fifth generation of the survey. SDSS-V comprises three primary scientific programs or \"Mappers\": the Milky Way Mapper (MWM), the Black Hole Mapper (BHM), and the Local Volume Mapper. This data release contains extensive targeting information for the two multiobject spectroscopy programs (MWM and BHM), including input catalogs and selection functions for their numerous scientific objectives. We describe the production of the targeting databases and their calibration and scientifically focused components. DR18 also includes ~25,000 new SDSS spectra and supplemental information for X-ray sources identified by eROSITA in its eFEDS field. We present updates to some of the SDSS software pipelines and preview changes anticipated for DR19. We also describe three value-added catalogs (VACs) based on SDSS-IV data that have been published since DR17, and one VAC based on the SDSS-V data in the eFEDS field.', metadata={'title': 'The Eighteenth Data Release of the Sloan Digital Sky Surveys: Targeting and First Spectra from SDSS-V'}),\n",
              " Document(page_content='First release, identical to the copy submitted to JASA with the manuscript.', metadata={'title': 'leewujung/echo-stats-tutorial: First release'})]"
            ]
          },
          "metadata": {},
          "execution_count": 38
        }
      ]
    },
    {
      "cell_type": "code",
      "source": [
        "llm('What is SNCosmo?')"
      ],
      "metadata": {
        "colab": {
          "base_uri": "https://localhost:8080/",
          "height": 227
        },
        "id": "kQlOsBvYJYJ5",
        "outputId": "aa193bc3-bdbc-4bc3-ad35-3e5fbc98baac"
      },
      "execution_count": 40,
      "outputs": [
        {
          "output_type": "execute_result",
          "data": {
            "text/plain": [
              "'\\n\\nSNCosmo is a software tool that helps astronomers and researchers analyze and visualize large datasets from telescopes and other sources. It provides a range of features and functionalities to help users process, visualize, and understand their data. Some of the key features of SNCosmo include:\\n\\n1. Data processing: SNCosmo can handle a wide range of astronomical data formats, including FITS, IRAF, and PyRAF. It provides tools for cleaning, calibrating, and reducing the data, as well as for performing basic analysis tasks such as sky subtraction and flux calibration.\\n2. Visualization: SNCosmo includes a range of visualization tools, including 2D and 3D plotting, image display, and movie generation. Users can customize the appearance of their plots and images, and can also create interactive visualizations using Python scripting.\\n3. Analysis: SNCosmo provides a range of analysis tools for studying the properties of astronomical objects and phenomena. These tools include spectroscopic analysis, photometry, and morphology analysis, among others.\\n4. Integration with other software: SNCosmo is designed to work seamlessly with other popular astronomy software packages, such as IRAF, PyRAF, and Astropy. This allows users to leverage the strengths of each package to perform a wide range of astronomical analyses.\\n5. User-friendly interface: SNCosmo has a user-friendly interface that makes it easy for researchers to use, even if they are not experts in programming or software development. The interface is based on the Python programming language, which is widely used in the scientific community.\\n\\nOverall, SNCosmo is a powerful and flexible tool that can be used for a wide range of astronomical analyses, from simple data reduction to complex simulations and modeling. Its ability to integrate with other software packages and its user-friendly interface make it an ideal choice for researchers who need to analyze and visualize large datasets from telescopes and other sources.'"
            ],
            "application/vnd.google.colaboratory.intrinsic+json": {
              "type": "string"
            }
          },
          "metadata": {},
          "execution_count": 40
        }
      ]
    },
    {
      "cell_type": "code",
      "source": [
        "rag('What is SNCosmo?')"
      ],
      "metadata": {
        "colab": {
          "base_uri": "https://localhost:8080/"
        },
        "id": "gJGvuzhCJn7e",
        "outputId": "01e0096a-486b-4191-afe7-e7ba1caa9b0b"
      },
      "execution_count": 43,
      "outputs": [
        {
          "output_type": "execute_result",
          "data": {
            "text/plain": [
              "{'query': 'What is SNCosmo?',\n",
              " 'result': ' SNCosmo is not mentioned in the text.'}"
            ]
          },
          "metadata": {},
          "execution_count": 43
        }
      ]
    },
    {
      "cell_type": "markdown",
      "source": [
        "General question: What is SNCosmo yields no results from vector db although it's mentioned in one of the articles. LLM by itself gives better answer to the question.\n",
        "When more details are added to the question: What is SNCosmo for python? - then the vector store finally retrieves answer but Llama by intself still manages to give more comprehensive answer to the question."
      ],
      "metadata": {
        "id": "WWEXacM8vqgC"
      }
    },
    {
      "cell_type": "code",
      "source": [
        "vectordb.similarity_search(\n",
        "    'How are solar winds connected to picoflares?',  # the search query\n",
        "    k=2  # returns top 3 most relevant articles\n",
        ")"
      ],
      "metadata": {
        "colab": {
          "base_uri": "https://localhost:8080/"
        },
        "id": "-jYIsbvutrFQ",
        "outputId": "8e7f7295-5337-4d1b-cf12-65217c05ef69"
      },
      "execution_count": 98,
      "outputs": [
        {
          "output_type": "execute_result",
          "data": {
            "text/plain": [
              "[Document(page_content='Coronal holes are areas on the Sun with open magnetic field lines. They are a source region of the solar wind, but how the wind emerges from coronal holes is not known. We observed a coronal hole using the Extreme Ultraviolet Imager on the Solar Orbiter spacecraft. We identified jets on scales of a few hundred kilometers, which last 20 to 100 seconds and reach speeds of ~100 kilometers per second. The jets are powered by magnetic reconnection and have kinetic energy in the picoflare range. They are intermittent but widespread within the observed coronal hole. We suggest that such picoflare jets could produce enough high-temperature plasma to sustain the solar wind and that the wind emerges from coronal holes as a highly intermittent outflow at small scales.', metadata={'title': 'Picoflare jets power the solar wind emerging from a coronal hole on the Sun'}),\n",
              " Document(page_content='Sunspots host various oscillations and wave phenomena like umbral flashes, umbral oscillations, running penumbral waves, and coronal waves. All fan loops rooted in sunspot umbra constantly show a 3-min period propagating slow magnetoacoustic waves in the corona. However, their origin in the lower atmosphere is still unclear. In this work, we studied these oscillations in detail along a clean fan loop system rooted in active region AR12553 for a duration of 4-hour on June 16, 2016 observed by Interface Region Imaging Spectrograph (IRIS) and Solar Dynamics Observatory (SDO). We traced foot-points of several fan loops by identifying their locations at different atmospheric heights from the corona to the photosphere. We found presence of 3-min oscillations at foot-points of all the loops and at all atmospheric heights. We further traced origin of these waves by utilising their amplitude modulation characteristics while propagating in the solar atmosphere. We found several amplitude modulation periods in the range of 9-14 min, 20-24 min, and 30-40 min of these 3-min waves at all heights. Based on our findings, we interpret that 3-min slow magnetoacoustic waves propagating in coronal fan loops are driven by 3-min oscillations observed at the photospheric foot-points of these fan loops in the umbral region. We also explored any connection between 3-min and 5-min oscillations observed at the photospheric foot-points of these loops and found them to be weakly coupled. Results provide clear evidence of magnetic coupling of the solar atmosphere through propagation of 3-min waves along fan loops at different atmospheric heights.', metadata={'title': 'Exploring source region of 3-min slow magnetoacoustic waves observed in coronal fan loops rooted in sunspot umbra'})]"
            ]
          },
          "metadata": {},
          "execution_count": 98
        }
      ]
    },
    {
      "cell_type": "code",
      "source": [
        "llm('How are solar winds connected to picoflare jets')"
      ],
      "metadata": {
        "colab": {
          "base_uri": "https://localhost:8080/",
          "height": 244
        },
        "id": "pjxPA4I2tq6s",
        "outputId": "a1443cb3-1507-4f06-c4e6-0df5269434a3"
      },
      "execution_count": 100,
      "outputs": [
        {
          "output_type": "execute_result",
          "data": {
            "text/plain": [
              "\"?\\n\\nSolar winds and picoflare jets are both high-energy phenomena that occur in the vicinity of the Sun. While they are distinct events, there is some evidence to suggest that they may be connected. Here are some possible ways in which solar winds and picoflare jets might be related:\\n\\n1. Magnetic reconnection: Both solar winds and picoflare jets involve the release of magnetic energy, which can be triggered by magnetic reconnection events. During a magnetic reconnection event, the magnetic field lines in the solar atmosphere break and reconnect, releasing a large amount of energy in the form of heat and radiation. This energy can then drive the acceleration of charged particles, such as electrons and ions, which can produce the observed effects of solar winds and picoflare jets.\\n2. Coronal heating: The corona, the outermost layer of the Sun's atmosphere, is heated to millions of degrees Celsius during a flare or other energetic event. This heating can cause the plasma in the corona to become unstable and break up into smaller, hotter fragments, which can then accelerate away from the Sun as solar winds. The energy released during a flare can also drive the formation of picoflare jets, which are small-scale versions of the larger flares.\\n3. Plasma instabilities: As mentioned above, the plasma in the corona can become unstable and break up into smaller fragments during a flare or other energetic event. These fragments can then accelerate away from the Sun as solar winds, while the remaining plasma can continue to glow in the X-ray and EUV bands, producing the observed effects of a picoflare jet.\\n4. Magnetic field structure: The magnetic field of the Sun is complex and dynamic, with many loops and arches that can store and release magnetic energy. During a flare or other energetic event, these magnetic fields can become distorted and broken, leading to the release of magnetic energy that can drive the acceleration of charged particles and the formation of solar winds and picoflare jets.\\n\\nIn summary, solar winds and picoflare jets are both high-energy phenomena that occur in the vicinity of the Sun, and they may be connected through various physical mechanisms, such as magnetic reconnection, coronal he\""
            ],
            "application/vnd.google.colaboratory.intrinsic+json": {
              "type": "string"
            }
          },
          "metadata": {},
          "execution_count": 100
        }
      ]
    },
    {
      "cell_type": "code",
      "source": [
        "rag('How are solar winds connected to picoflare jets?')"
      ],
      "metadata": {
        "colab": {
          "base_uri": "https://localhost:8080/"
        },
        "id": "ciIUNHVPtqmC",
        "outputId": "7f31bb40-794a-48c7-b538-bea36fada4da"
      },
      "execution_count": 101,
      "outputs": [
        {
          "output_type": "execute_result",
          "data": {
            "text/plain": [
              "{'query': 'How are solar winds connected to picoflare jets?',\n",
              " 'result': ' Picoflare jets are powered by magnetic reconnection and can produce high-temperature plasma, which could sustain the solar wind. The solar wind emerges from coronal holes as an intermittent outflow at small scales.'}"
            ]
          },
          "metadata": {},
          "execution_count": 101
        }
      ]
    },
    {
      "cell_type": "markdown",
      "source": [
        "RAG gives concrete answer based on recent paper whereas LLM mostly rambles on."
      ],
      "metadata": {
        "id": "chCzFPYM6BVT"
      }
    },
    {
      "cell_type": "markdown",
      "source": [
        "Summary:\n",
        "\n",
        "For a more intricate and technical dataset vector store seems to struggle to yield correct articles more often than with books dataset (which was also smaller). Perhaps embeddings of higher dimensionality (we tried 384 and 768 sentenceTransformers embeddings of general purpose) would be needed or a fine tuning procedure with a dataset that would contain matches between queries and correctly found articles."
      ],
      "metadata": {
        "id": "BBlo_fMyUMSE"
      }
    },
    {
      "cell_type": "code",
      "source": [],
      "metadata": {
        "id": "sW3JIaFWwqbn"
      },
      "execution_count": null,
      "outputs": []
    }
  ]
}