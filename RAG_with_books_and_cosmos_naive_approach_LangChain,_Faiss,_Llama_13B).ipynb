{
  "nbformat": 4,
  "nbformat_minor": 0,
  "metadata": {
    "colab": {
      "provenance": [],
      "machine_shape": "hm",
      "gpuType": "V100"
    },
    "kernelspec": {
      "name": "python3",
      "display_name": "Python 3"
    },
    "language_info": {
      "name": "python"
    },
    "widgets": {
      "application/vnd.jupyter.widget-state+json": {
        "5c3357d4adfa4b9ba9899da68b6a947a": {
          "model_module": "@jupyter-widgets/controls",
          "model_name": "HBoxModel",
          "model_module_version": "1.5.0",
          "state": {
            "_dom_classes": [],
            "_model_module": "@jupyter-widgets/controls",
            "_model_module_version": "1.5.0",
            "_model_name": "HBoxModel",
            "_view_count": null,
            "_view_module": "@jupyter-widgets/controls",
            "_view_module_version": "1.5.0",
            "_view_name": "HBoxView",
            "box_style": "",
            "children": [
              "IPY_MODEL_b4f30e3382394946a390074cdeccbba4",
              "IPY_MODEL_5d20e29df06e47078889ce0f5bb3b7b7",
              "IPY_MODEL_8bad1699ee02470fbd36af7ee5753031"
            ],
            "layout": "IPY_MODEL_26e72ad5b5b74e19a00e51ed1ddcad68"
          }
        },
        "b4f30e3382394946a390074cdeccbba4": {
          "model_module": "@jupyter-widgets/controls",
          "model_name": "HTMLModel",
          "model_module_version": "1.5.0",
          "state": {
            "_dom_classes": [],
            "_model_module": "@jupyter-widgets/controls",
            "_model_module_version": "1.5.0",
            "_model_name": "HTMLModel",
            "_view_count": null,
            "_view_module": "@jupyter-widgets/controls",
            "_view_module_version": "1.5.0",
            "_view_name": "HTMLView",
            "description": "",
            "description_tooltip": null,
            "layout": "IPY_MODEL_c0507c7d714647679b17e53f3907c362",
            "placeholder": "​",
            "style": "IPY_MODEL_68ac559629c343a8ab6142d1226ca0e0",
            "value": "config.json: 100%"
          }
        },
        "5d20e29df06e47078889ce0f5bb3b7b7": {
          "model_module": "@jupyter-widgets/controls",
          "model_name": "FloatProgressModel",
          "model_module_version": "1.5.0",
          "state": {
            "_dom_classes": [],
            "_model_module": "@jupyter-widgets/controls",
            "_model_module_version": "1.5.0",
            "_model_name": "FloatProgressModel",
            "_view_count": null,
            "_view_module": "@jupyter-widgets/controls",
            "_view_module_version": "1.5.0",
            "_view_name": "ProgressView",
            "bar_style": "success",
            "description": "",
            "description_tooltip": null,
            "layout": "IPY_MODEL_ba55120e6e2a4f52a2f37a6a131f2bdd",
            "max": 587,
            "min": 0,
            "orientation": "horizontal",
            "style": "IPY_MODEL_8d9e8dbce61341158af0ac3b690e44dd",
            "value": 587
          }
        },
        "8bad1699ee02470fbd36af7ee5753031": {
          "model_module": "@jupyter-widgets/controls",
          "model_name": "HTMLModel",
          "model_module_version": "1.5.0",
          "state": {
            "_dom_classes": [],
            "_model_module": "@jupyter-widgets/controls",
            "_model_module_version": "1.5.0",
            "_model_name": "HTMLModel",
            "_view_count": null,
            "_view_module": "@jupyter-widgets/controls",
            "_view_module_version": "1.5.0",
            "_view_name": "HTMLView",
            "description": "",
            "description_tooltip": null,
            "layout": "IPY_MODEL_349c40a0179f4c2dbc4d73fc37a72179",
            "placeholder": "​",
            "style": "IPY_MODEL_1436e5c1a2a3400ba8248c41000bbc82",
            "value": " 587/587 [00:00&lt;00:00, 39.6kB/s]"
          }
        },
        "26e72ad5b5b74e19a00e51ed1ddcad68": {
          "model_module": "@jupyter-widgets/base",
          "model_name": "LayoutModel",
          "model_module_version": "1.2.0",
          "state": {
            "_model_module": "@jupyter-widgets/base",
            "_model_module_version": "1.2.0",
            "_model_name": "LayoutModel",
            "_view_count": null,
            "_view_module": "@jupyter-widgets/base",
            "_view_module_version": "1.2.0",
            "_view_name": "LayoutView",
            "align_content": null,
            "align_items": null,
            "align_self": null,
            "border": null,
            "bottom": null,
            "display": null,
            "flex": null,
            "flex_flow": null,
            "grid_area": null,
            "grid_auto_columns": null,
            "grid_auto_flow": null,
            "grid_auto_rows": null,
            "grid_column": null,
            "grid_gap": null,
            "grid_row": null,
            "grid_template_areas": null,
            "grid_template_columns": null,
            "grid_template_rows": null,
            "height": null,
            "justify_content": null,
            "justify_items": null,
            "left": null,
            "margin": null,
            "max_height": null,
            "max_width": null,
            "min_height": null,
            "min_width": null,
            "object_fit": null,
            "object_position": null,
            "order": null,
            "overflow": null,
            "overflow_x": null,
            "overflow_y": null,
            "padding": null,
            "right": null,
            "top": null,
            "visibility": null,
            "width": null
          }
        },
        "c0507c7d714647679b17e53f3907c362": {
          "model_module": "@jupyter-widgets/base",
          "model_name": "LayoutModel",
          "model_module_version": "1.2.0",
          "state": {
            "_model_module": "@jupyter-widgets/base",
            "_model_module_version": "1.2.0",
            "_model_name": "LayoutModel",
            "_view_count": null,
            "_view_module": "@jupyter-widgets/base",
            "_view_module_version": "1.2.0",
            "_view_name": "LayoutView",
            "align_content": null,
            "align_items": null,
            "align_self": null,
            "border": null,
            "bottom": null,
            "display": null,
            "flex": null,
            "flex_flow": null,
            "grid_area": null,
            "grid_auto_columns": null,
            "grid_auto_flow": null,
            "grid_auto_rows": null,
            "grid_column": null,
            "grid_gap": null,
            "grid_row": null,
            "grid_template_areas": null,
            "grid_template_columns": null,
            "grid_template_rows": null,
            "height": null,
            "justify_content": null,
            "justify_items": null,
            "left": null,
            "margin": null,
            "max_height": null,
            "max_width": null,
            "min_height": null,
            "min_width": null,
            "object_fit": null,
            "object_position": null,
            "order": null,
            "overflow": null,
            "overflow_x": null,
            "overflow_y": null,
            "padding": null,
            "right": null,
            "top": null,
            "visibility": null,
            "width": null
          }
        },
        "68ac559629c343a8ab6142d1226ca0e0": {
          "model_module": "@jupyter-widgets/controls",
          "model_name": "DescriptionStyleModel",
          "model_module_version": "1.5.0",
          "state": {
            "_model_module": "@jupyter-widgets/controls",
            "_model_module_version": "1.5.0",
            "_model_name": "DescriptionStyleModel",
            "_view_count": null,
            "_view_module": "@jupyter-widgets/base",
            "_view_module_version": "1.2.0",
            "_view_name": "StyleView",
            "description_width": ""
          }
        },
        "ba55120e6e2a4f52a2f37a6a131f2bdd": {
          "model_module": "@jupyter-widgets/base",
          "model_name": "LayoutModel",
          "model_module_version": "1.2.0",
          "state": {
            "_model_module": "@jupyter-widgets/base",
            "_model_module_version": "1.2.0",
            "_model_name": "LayoutModel",
            "_view_count": null,
            "_view_module": "@jupyter-widgets/base",
            "_view_module_version": "1.2.0",
            "_view_name": "LayoutView",
            "align_content": null,
            "align_items": null,
            "align_self": null,
            "border": null,
            "bottom": null,
            "display": null,
            "flex": null,
            "flex_flow": null,
            "grid_area": null,
            "grid_auto_columns": null,
            "grid_auto_flow": null,
            "grid_auto_rows": null,
            "grid_column": null,
            "grid_gap": null,
            "grid_row": null,
            "grid_template_areas": null,
            "grid_template_columns": null,
            "grid_template_rows": null,
            "height": null,
            "justify_content": null,
            "justify_items": null,
            "left": null,
            "margin": null,
            "max_height": null,
            "max_width": null,
            "min_height": null,
            "min_width": null,
            "object_fit": null,
            "object_position": null,
            "order": null,
            "overflow": null,
            "overflow_x": null,
            "overflow_y": null,
            "padding": null,
            "right": null,
            "top": null,
            "visibility": null,
            "width": null
          }
        },
        "8d9e8dbce61341158af0ac3b690e44dd": {
          "model_module": "@jupyter-widgets/controls",
          "model_name": "ProgressStyleModel",
          "model_module_version": "1.5.0",
          "state": {
            "_model_module": "@jupyter-widgets/controls",
            "_model_module_version": "1.5.0",
            "_model_name": "ProgressStyleModel",
            "_view_count": null,
            "_view_module": "@jupyter-widgets/base",
            "_view_module_version": "1.2.0",
            "_view_name": "StyleView",
            "bar_color": null,
            "description_width": ""
          }
        },
        "349c40a0179f4c2dbc4d73fc37a72179": {
          "model_module": "@jupyter-widgets/base",
          "model_name": "LayoutModel",
          "model_module_version": "1.2.0",
          "state": {
            "_model_module": "@jupyter-widgets/base",
            "_model_module_version": "1.2.0",
            "_model_name": "LayoutModel",
            "_view_count": null,
            "_view_module": "@jupyter-widgets/base",
            "_view_module_version": "1.2.0",
            "_view_name": "LayoutView",
            "align_content": null,
            "align_items": null,
            "align_self": null,
            "border": null,
            "bottom": null,
            "display": null,
            "flex": null,
            "flex_flow": null,
            "grid_area": null,
            "grid_auto_columns": null,
            "grid_auto_flow": null,
            "grid_auto_rows": null,
            "grid_column": null,
            "grid_gap": null,
            "grid_row": null,
            "grid_template_areas": null,
            "grid_template_columns": null,
            "grid_template_rows": null,
            "height": null,
            "justify_content": null,
            "justify_items": null,
            "left": null,
            "margin": null,
            "max_height": null,
            "max_width": null,
            "min_height": null,
            "min_width": null,
            "object_fit": null,
            "object_position": null,
            "order": null,
            "overflow": null,
            "overflow_x": null,
            "overflow_y": null,
            "padding": null,
            "right": null,
            "top": null,
            "visibility": null,
            "width": null
          }
        },
        "1436e5c1a2a3400ba8248c41000bbc82": {
          "model_module": "@jupyter-widgets/controls",
          "model_name": "DescriptionStyleModel",
          "model_module_version": "1.5.0",
          "state": {
            "_model_module": "@jupyter-widgets/controls",
            "_model_module_version": "1.5.0",
            "_model_name": "DescriptionStyleModel",
            "_view_count": null,
            "_view_module": "@jupyter-widgets/base",
            "_view_module_version": "1.2.0",
            "_view_name": "StyleView",
            "description_width": ""
          }
        },
        "fdaa2beac4a140ca929ee526823c9ac9": {
          "model_module": "@jupyter-widgets/controls",
          "model_name": "HBoxModel",
          "model_module_version": "1.5.0",
          "state": {
            "_dom_classes": [],
            "_model_module": "@jupyter-widgets/controls",
            "_model_module_version": "1.5.0",
            "_model_name": "HBoxModel",
            "_view_count": null,
            "_view_module": "@jupyter-widgets/controls",
            "_view_module_version": "1.5.0",
            "_view_name": "HBoxView",
            "box_style": "",
            "children": [
              "IPY_MODEL_3bf2a9f7c55943d58c2e0404e3a1062e",
              "IPY_MODEL_1a5a8d7f0e3e4de197dc27ab883530aa",
              "IPY_MODEL_3f9834a16b3841a89e553193803c5c7c"
            ],
            "layout": "IPY_MODEL_11c833b125ec46bf941e2634db4454b1"
          }
        },
        "3bf2a9f7c55943d58c2e0404e3a1062e": {
          "model_module": "@jupyter-widgets/controls",
          "model_name": "HTMLModel",
          "model_module_version": "1.5.0",
          "state": {
            "_dom_classes": [],
            "_model_module": "@jupyter-widgets/controls",
            "_model_module_version": "1.5.0",
            "_model_name": "HTMLModel",
            "_view_count": null,
            "_view_module": "@jupyter-widgets/controls",
            "_view_module_version": "1.5.0",
            "_view_name": "HTMLView",
            "description": "",
            "description_tooltip": null,
            "layout": "IPY_MODEL_91f8396581bc4810be3803a73ecd3324",
            "placeholder": "​",
            "style": "IPY_MODEL_1ba308a3df7d44bd90a45570177eeade",
            "value": "model.safetensors.index.json: 100%"
          }
        },
        "1a5a8d7f0e3e4de197dc27ab883530aa": {
          "model_module": "@jupyter-widgets/controls",
          "model_name": "FloatProgressModel",
          "model_module_version": "1.5.0",
          "state": {
            "_dom_classes": [],
            "_model_module": "@jupyter-widgets/controls",
            "_model_module_version": "1.5.0",
            "_model_name": "FloatProgressModel",
            "_view_count": null,
            "_view_module": "@jupyter-widgets/controls",
            "_view_module_version": "1.5.0",
            "_view_name": "ProgressView",
            "bar_style": "success",
            "description": "",
            "description_tooltip": null,
            "layout": "IPY_MODEL_952e286ca6f943d3be5c75cf979157ae",
            "max": 33444,
            "min": 0,
            "orientation": "horizontal",
            "style": "IPY_MODEL_91454e5fdb2648a4b7137eda77e95578",
            "value": 33444
          }
        },
        "3f9834a16b3841a89e553193803c5c7c": {
          "model_module": "@jupyter-widgets/controls",
          "model_name": "HTMLModel",
          "model_module_version": "1.5.0",
          "state": {
            "_dom_classes": [],
            "_model_module": "@jupyter-widgets/controls",
            "_model_module_version": "1.5.0",
            "_model_name": "HTMLModel",
            "_view_count": null,
            "_view_module": "@jupyter-widgets/controls",
            "_view_module_version": "1.5.0",
            "_view_name": "HTMLView",
            "description": "",
            "description_tooltip": null,
            "layout": "IPY_MODEL_b77db3f22c684cf494d914d996a4bcf3",
            "placeholder": "​",
            "style": "IPY_MODEL_2d1cc936c110417ebb8a54e27f520a2a",
            "value": " 33.4k/33.4k [00:00&lt;00:00, 2.41MB/s]"
          }
        },
        "11c833b125ec46bf941e2634db4454b1": {
          "model_module": "@jupyter-widgets/base",
          "model_name": "LayoutModel",
          "model_module_version": "1.2.0",
          "state": {
            "_model_module": "@jupyter-widgets/base",
            "_model_module_version": "1.2.0",
            "_model_name": "LayoutModel",
            "_view_count": null,
            "_view_module": "@jupyter-widgets/base",
            "_view_module_version": "1.2.0",
            "_view_name": "LayoutView",
            "align_content": null,
            "align_items": null,
            "align_self": null,
            "border": null,
            "bottom": null,
            "display": null,
            "flex": null,
            "flex_flow": null,
            "grid_area": null,
            "grid_auto_columns": null,
            "grid_auto_flow": null,
            "grid_auto_rows": null,
            "grid_column": null,
            "grid_gap": null,
            "grid_row": null,
            "grid_template_areas": null,
            "grid_template_columns": null,
            "grid_template_rows": null,
            "height": null,
            "justify_content": null,
            "justify_items": null,
            "left": null,
            "margin": null,
            "max_height": null,
            "max_width": null,
            "min_height": null,
            "min_width": null,
            "object_fit": null,
            "object_position": null,
            "order": null,
            "overflow": null,
            "overflow_x": null,
            "overflow_y": null,
            "padding": null,
            "right": null,
            "top": null,
            "visibility": null,
            "width": null
          }
        },
        "91f8396581bc4810be3803a73ecd3324": {
          "model_module": "@jupyter-widgets/base",
          "model_name": "LayoutModel",
          "model_module_version": "1.2.0",
          "state": {
            "_model_module": "@jupyter-widgets/base",
            "_model_module_version": "1.2.0",
            "_model_name": "LayoutModel",
            "_view_count": null,
            "_view_module": "@jupyter-widgets/base",
            "_view_module_version": "1.2.0",
            "_view_name": "LayoutView",
            "align_content": null,
            "align_items": null,
            "align_self": null,
            "border": null,
            "bottom": null,
            "display": null,
            "flex": null,
            "flex_flow": null,
            "grid_area": null,
            "grid_auto_columns": null,
            "grid_auto_flow": null,
            "grid_auto_rows": null,
            "grid_column": null,
            "grid_gap": null,
            "grid_row": null,
            "grid_template_areas": null,
            "grid_template_columns": null,
            "grid_template_rows": null,
            "height": null,
            "justify_content": null,
            "justify_items": null,
            "left": null,
            "margin": null,
            "max_height": null,
            "max_width": null,
            "min_height": null,
            "min_width": null,
            "object_fit": null,
            "object_position": null,
            "order": null,
            "overflow": null,
            "overflow_x": null,
            "overflow_y": null,
            "padding": null,
            "right": null,
            "top": null,
            "visibility": null,
            "width": null
          }
        },
        "1ba308a3df7d44bd90a45570177eeade": {
          "model_module": "@jupyter-widgets/controls",
          "model_name": "DescriptionStyleModel",
          "model_module_version": "1.5.0",
          "state": {
            "_model_module": "@jupyter-widgets/controls",
            "_model_module_version": "1.5.0",
            "_model_name": "DescriptionStyleModel",
            "_view_count": null,
            "_view_module": "@jupyter-widgets/base",
            "_view_module_version": "1.2.0",
            "_view_name": "StyleView",
            "description_width": ""
          }
        },
        "952e286ca6f943d3be5c75cf979157ae": {
          "model_module": "@jupyter-widgets/base",
          "model_name": "LayoutModel",
          "model_module_version": "1.2.0",
          "state": {
            "_model_module": "@jupyter-widgets/base",
            "_model_module_version": "1.2.0",
            "_model_name": "LayoutModel",
            "_view_count": null,
            "_view_module": "@jupyter-widgets/base",
            "_view_module_version": "1.2.0",
            "_view_name": "LayoutView",
            "align_content": null,
            "align_items": null,
            "align_self": null,
            "border": null,
            "bottom": null,
            "display": null,
            "flex": null,
            "flex_flow": null,
            "grid_area": null,
            "grid_auto_columns": null,
            "grid_auto_flow": null,
            "grid_auto_rows": null,
            "grid_column": null,
            "grid_gap": null,
            "grid_row": null,
            "grid_template_areas": null,
            "grid_template_columns": null,
            "grid_template_rows": null,
            "height": null,
            "justify_content": null,
            "justify_items": null,
            "left": null,
            "margin": null,
            "max_height": null,
            "max_width": null,
            "min_height": null,
            "min_width": null,
            "object_fit": null,
            "object_position": null,
            "order": null,
            "overflow": null,
            "overflow_x": null,
            "overflow_y": null,
            "padding": null,
            "right": null,
            "top": null,
            "visibility": null,
            "width": null
          }
        },
        "91454e5fdb2648a4b7137eda77e95578": {
          "model_module": "@jupyter-widgets/controls",
          "model_name": "ProgressStyleModel",
          "model_module_version": "1.5.0",
          "state": {
            "_model_module": "@jupyter-widgets/controls",
            "_model_module_version": "1.5.0",
            "_model_name": "ProgressStyleModel",
            "_view_count": null,
            "_view_module": "@jupyter-widgets/base",
            "_view_module_version": "1.2.0",
            "_view_name": "StyleView",
            "bar_color": null,
            "description_width": ""
          }
        },
        "b77db3f22c684cf494d914d996a4bcf3": {
          "model_module": "@jupyter-widgets/base",
          "model_name": "LayoutModel",
          "model_module_version": "1.2.0",
          "state": {
            "_model_module": "@jupyter-widgets/base",
            "_model_module_version": "1.2.0",
            "_model_name": "LayoutModel",
            "_view_count": null,
            "_view_module": "@jupyter-widgets/base",
            "_view_module_version": "1.2.0",
            "_view_name": "LayoutView",
            "align_content": null,
            "align_items": null,
            "align_self": null,
            "border": null,
            "bottom": null,
            "display": null,
            "flex": null,
            "flex_flow": null,
            "grid_area": null,
            "grid_auto_columns": null,
            "grid_auto_flow": null,
            "grid_auto_rows": null,
            "grid_column": null,
            "grid_gap": null,
            "grid_row": null,
            "grid_template_areas": null,
            "grid_template_columns": null,
            "grid_template_rows": null,
            "height": null,
            "justify_content": null,
            "justify_items": null,
            "left": null,
            "margin": null,
            "max_height": null,
            "max_width": null,
            "min_height": null,
            "min_width": null,
            "object_fit": null,
            "object_position": null,
            "order": null,
            "overflow": null,
            "overflow_x": null,
            "overflow_y": null,
            "padding": null,
            "right": null,
            "top": null,
            "visibility": null,
            "width": null
          }
        },
        "2d1cc936c110417ebb8a54e27f520a2a": {
          "model_module": "@jupyter-widgets/controls",
          "model_name": "DescriptionStyleModel",
          "model_module_version": "1.5.0",
          "state": {
            "_model_module": "@jupyter-widgets/controls",
            "_model_module_version": "1.5.0",
            "_model_name": "DescriptionStyleModel",
            "_view_count": null,
            "_view_module": "@jupyter-widgets/base",
            "_view_module_version": "1.2.0",
            "_view_name": "StyleView",
            "description_width": ""
          }
        },
        "d5484808b3554c148b7d4dc4e9f1362f": {
          "model_module": "@jupyter-widgets/controls",
          "model_name": "HBoxModel",
          "model_module_version": "1.5.0",
          "state": {
            "_dom_classes": [],
            "_model_module": "@jupyter-widgets/controls",
            "_model_module_version": "1.5.0",
            "_model_name": "HBoxModel",
            "_view_count": null,
            "_view_module": "@jupyter-widgets/controls",
            "_view_module_version": "1.5.0",
            "_view_name": "HBoxView",
            "box_style": "",
            "children": [
              "IPY_MODEL_b607dab0e756469da914f735d1b56ced",
              "IPY_MODEL_b1e96ede848843c3a09bc829eb4f9885",
              "IPY_MODEL_e080900a0ec84efaa5a52720952b48cb"
            ],
            "layout": "IPY_MODEL_8164be26d231485b8e9e84cb5dd93a0f"
          }
        },
        "b607dab0e756469da914f735d1b56ced": {
          "model_module": "@jupyter-widgets/controls",
          "model_name": "HTMLModel",
          "model_module_version": "1.5.0",
          "state": {
            "_dom_classes": [],
            "_model_module": "@jupyter-widgets/controls",
            "_model_module_version": "1.5.0",
            "_model_name": "HTMLModel",
            "_view_count": null,
            "_view_module": "@jupyter-widgets/controls",
            "_view_module_version": "1.5.0",
            "_view_name": "HTMLView",
            "description": "",
            "description_tooltip": null,
            "layout": "IPY_MODEL_662620a91a3b4af9adf24a542dd6df13",
            "placeholder": "​",
            "style": "IPY_MODEL_8e8f1dcb999541bfbcd33af222b62ff2",
            "value": "Downloading shards: 100%"
          }
        },
        "b1e96ede848843c3a09bc829eb4f9885": {
          "model_module": "@jupyter-widgets/controls",
          "model_name": "FloatProgressModel",
          "model_module_version": "1.5.0",
          "state": {
            "_dom_classes": [],
            "_model_module": "@jupyter-widgets/controls",
            "_model_module_version": "1.5.0",
            "_model_name": "FloatProgressModel",
            "_view_count": null,
            "_view_module": "@jupyter-widgets/controls",
            "_view_module_version": "1.5.0",
            "_view_name": "ProgressView",
            "bar_style": "success",
            "description": "",
            "description_tooltip": null,
            "layout": "IPY_MODEL_0e934b22b1b4446c84fc771e751f4c5f",
            "max": 3,
            "min": 0,
            "orientation": "horizontal",
            "style": "IPY_MODEL_d1ea5e24923845bc8a0c89e583beeb4c",
            "value": 3
          }
        },
        "e080900a0ec84efaa5a52720952b48cb": {
          "model_module": "@jupyter-widgets/controls",
          "model_name": "HTMLModel",
          "model_module_version": "1.5.0",
          "state": {
            "_dom_classes": [],
            "_model_module": "@jupyter-widgets/controls",
            "_model_module_version": "1.5.0",
            "_model_name": "HTMLModel",
            "_view_count": null,
            "_view_module": "@jupyter-widgets/controls",
            "_view_module_version": "1.5.0",
            "_view_name": "HTMLView",
            "description": "",
            "description_tooltip": null,
            "layout": "IPY_MODEL_9385618cc6b142e1bd7658cf5fca46f8",
            "placeholder": "​",
            "style": "IPY_MODEL_f8326efc5f96491582ab83992a1cbd16",
            "value": " 3/3 [01:45&lt;00:00, 33.23s/it]"
          }
        },
        "8164be26d231485b8e9e84cb5dd93a0f": {
          "model_module": "@jupyter-widgets/base",
          "model_name": "LayoutModel",
          "model_module_version": "1.2.0",
          "state": {
            "_model_module": "@jupyter-widgets/base",
            "_model_module_version": "1.2.0",
            "_model_name": "LayoutModel",
            "_view_count": null,
            "_view_module": "@jupyter-widgets/base",
            "_view_module_version": "1.2.0",
            "_view_name": "LayoutView",
            "align_content": null,
            "align_items": null,
            "align_self": null,
            "border": null,
            "bottom": null,
            "display": null,
            "flex": null,
            "flex_flow": null,
            "grid_area": null,
            "grid_auto_columns": null,
            "grid_auto_flow": null,
            "grid_auto_rows": null,
            "grid_column": null,
            "grid_gap": null,
            "grid_row": null,
            "grid_template_areas": null,
            "grid_template_columns": null,
            "grid_template_rows": null,
            "height": null,
            "justify_content": null,
            "justify_items": null,
            "left": null,
            "margin": null,
            "max_height": null,
            "max_width": null,
            "min_height": null,
            "min_width": null,
            "object_fit": null,
            "object_position": null,
            "order": null,
            "overflow": null,
            "overflow_x": null,
            "overflow_y": null,
            "padding": null,
            "right": null,
            "top": null,
            "visibility": null,
            "width": null
          }
        },
        "662620a91a3b4af9adf24a542dd6df13": {
          "model_module": "@jupyter-widgets/base",
          "model_name": "LayoutModel",
          "model_module_version": "1.2.0",
          "state": {
            "_model_module": "@jupyter-widgets/base",
            "_model_module_version": "1.2.0",
            "_model_name": "LayoutModel",
            "_view_count": null,
            "_view_module": "@jupyter-widgets/base",
            "_view_module_version": "1.2.0",
            "_view_name": "LayoutView",
            "align_content": null,
            "align_items": null,
            "align_self": null,
            "border": null,
            "bottom": null,
            "display": null,
            "flex": null,
            "flex_flow": null,
            "grid_area": null,
            "grid_auto_columns": null,
            "grid_auto_flow": null,
            "grid_auto_rows": null,
            "grid_column": null,
            "grid_gap": null,
            "grid_row": null,
            "grid_template_areas": null,
            "grid_template_columns": null,
            "grid_template_rows": null,
            "height": null,
            "justify_content": null,
            "justify_items": null,
            "left": null,
            "margin": null,
            "max_height": null,
            "max_width": null,
            "min_height": null,
            "min_width": null,
            "object_fit": null,
            "object_position": null,
            "order": null,
            "overflow": null,
            "overflow_x": null,
            "overflow_y": null,
            "padding": null,
            "right": null,
            "top": null,
            "visibility": null,
            "width": null
          }
        },
        "8e8f1dcb999541bfbcd33af222b62ff2": {
          "model_module": "@jupyter-widgets/controls",
          "model_name": "DescriptionStyleModel",
          "model_module_version": "1.5.0",
          "state": {
            "_model_module": "@jupyter-widgets/controls",
            "_model_module_version": "1.5.0",
            "_model_name": "DescriptionStyleModel",
            "_view_count": null,
            "_view_module": "@jupyter-widgets/base",
            "_view_module_version": "1.2.0",
            "_view_name": "StyleView",
            "description_width": ""
          }
        },
        "0e934b22b1b4446c84fc771e751f4c5f": {
          "model_module": "@jupyter-widgets/base",
          "model_name": "LayoutModel",
          "model_module_version": "1.2.0",
          "state": {
            "_model_module": "@jupyter-widgets/base",
            "_model_module_version": "1.2.0",
            "_model_name": "LayoutModel",
            "_view_count": null,
            "_view_module": "@jupyter-widgets/base",
            "_view_module_version": "1.2.0",
            "_view_name": "LayoutView",
            "align_content": null,
            "align_items": null,
            "align_self": null,
            "border": null,
            "bottom": null,
            "display": null,
            "flex": null,
            "flex_flow": null,
            "grid_area": null,
            "grid_auto_columns": null,
            "grid_auto_flow": null,
            "grid_auto_rows": null,
            "grid_column": null,
            "grid_gap": null,
            "grid_row": null,
            "grid_template_areas": null,
            "grid_template_columns": null,
            "grid_template_rows": null,
            "height": null,
            "justify_content": null,
            "justify_items": null,
            "left": null,
            "margin": null,
            "max_height": null,
            "max_width": null,
            "min_height": null,
            "min_width": null,
            "object_fit": null,
            "object_position": null,
            "order": null,
            "overflow": null,
            "overflow_x": null,
            "overflow_y": null,
            "padding": null,
            "right": null,
            "top": null,
            "visibility": null,
            "width": null
          }
        },
        "d1ea5e24923845bc8a0c89e583beeb4c": {
          "model_module": "@jupyter-widgets/controls",
          "model_name": "ProgressStyleModel",
          "model_module_version": "1.5.0",
          "state": {
            "_model_module": "@jupyter-widgets/controls",
            "_model_module_version": "1.5.0",
            "_model_name": "ProgressStyleModel",
            "_view_count": null,
            "_view_module": "@jupyter-widgets/base",
            "_view_module_version": "1.2.0",
            "_view_name": "StyleView",
            "bar_color": null,
            "description_width": ""
          }
        },
        "9385618cc6b142e1bd7658cf5fca46f8": {
          "model_module": "@jupyter-widgets/base",
          "model_name": "LayoutModel",
          "model_module_version": "1.2.0",
          "state": {
            "_model_module": "@jupyter-widgets/base",
            "_model_module_version": "1.2.0",
            "_model_name": "LayoutModel",
            "_view_count": null,
            "_view_module": "@jupyter-widgets/base",
            "_view_module_version": "1.2.0",
            "_view_name": "LayoutView",
            "align_content": null,
            "align_items": null,
            "align_self": null,
            "border": null,
            "bottom": null,
            "display": null,
            "flex": null,
            "flex_flow": null,
            "grid_area": null,
            "grid_auto_columns": null,
            "grid_auto_flow": null,
            "grid_auto_rows": null,
            "grid_column": null,
            "grid_gap": null,
            "grid_row": null,
            "grid_template_areas": null,
            "grid_template_columns": null,
            "grid_template_rows": null,
            "height": null,
            "justify_content": null,
            "justify_items": null,
            "left": null,
            "margin": null,
            "max_height": null,
            "max_width": null,
            "min_height": null,
            "min_width": null,
            "object_fit": null,
            "object_position": null,
            "order": null,
            "overflow": null,
            "overflow_x": null,
            "overflow_y": null,
            "padding": null,
            "right": null,
            "top": null,
            "visibility": null,
            "width": null
          }
        },
        "f8326efc5f96491582ab83992a1cbd16": {
          "model_module": "@jupyter-widgets/controls",
          "model_name": "DescriptionStyleModel",
          "model_module_version": "1.5.0",
          "state": {
            "_model_module": "@jupyter-widgets/controls",
            "_model_module_version": "1.5.0",
            "_model_name": "DescriptionStyleModel",
            "_view_count": null,
            "_view_module": "@jupyter-widgets/base",
            "_view_module_version": "1.2.0",
            "_view_name": "StyleView",
            "description_width": ""
          }
        },
        "29c1fb182eed40d7baf98bfd64d27e74": {
          "model_module": "@jupyter-widgets/controls",
          "model_name": "HBoxModel",
          "model_module_version": "1.5.0",
          "state": {
            "_dom_classes": [],
            "_model_module": "@jupyter-widgets/controls",
            "_model_module_version": "1.5.0",
            "_model_name": "HBoxModel",
            "_view_count": null,
            "_view_module": "@jupyter-widgets/controls",
            "_view_module_version": "1.5.0",
            "_view_name": "HBoxView",
            "box_style": "",
            "children": [
              "IPY_MODEL_0506f6e26e65405d8002332b20a1ecfe",
              "IPY_MODEL_a50d821e4dd34d84a6a6dd1ce119a5a7",
              "IPY_MODEL_fcf6842323f942918e1767e4d3506324"
            ],
            "layout": "IPY_MODEL_027b94f76a404fcc9b0b1c7f827f91d7"
          }
        },
        "0506f6e26e65405d8002332b20a1ecfe": {
          "model_module": "@jupyter-widgets/controls",
          "model_name": "HTMLModel",
          "model_module_version": "1.5.0",
          "state": {
            "_dom_classes": [],
            "_model_module": "@jupyter-widgets/controls",
            "_model_module_version": "1.5.0",
            "_model_name": "HTMLModel",
            "_view_count": null,
            "_view_module": "@jupyter-widgets/controls",
            "_view_module_version": "1.5.0",
            "_view_name": "HTMLView",
            "description": "",
            "description_tooltip": null,
            "layout": "IPY_MODEL_df5ff46c575a4611962c0331ba395ecc",
            "placeholder": "​",
            "style": "IPY_MODEL_9ee632cbda4747ecbd09e2da19824717",
            "value": "model-00001-of-00003.safetensors: 100%"
          }
        },
        "a50d821e4dd34d84a6a6dd1ce119a5a7": {
          "model_module": "@jupyter-widgets/controls",
          "model_name": "FloatProgressModel",
          "model_module_version": "1.5.0",
          "state": {
            "_dom_classes": [],
            "_model_module": "@jupyter-widgets/controls",
            "_model_module_version": "1.5.0",
            "_model_name": "FloatProgressModel",
            "_view_count": null,
            "_view_module": "@jupyter-widgets/controls",
            "_view_module_version": "1.5.0",
            "_view_name": "ProgressView",
            "bar_style": "success",
            "description": "",
            "description_tooltip": null,
            "layout": "IPY_MODEL_1033540c488b471fbf861633f361885c",
            "max": 9948693272,
            "min": 0,
            "orientation": "horizontal",
            "style": "IPY_MODEL_ee785e11c03945b096ee762ce223293f",
            "value": 9948693272
          }
        },
        "fcf6842323f942918e1767e4d3506324": {
          "model_module": "@jupyter-widgets/controls",
          "model_name": "HTMLModel",
          "model_module_version": "1.5.0",
          "state": {
            "_dom_classes": [],
            "_model_module": "@jupyter-widgets/controls",
            "_model_module_version": "1.5.0",
            "_model_name": "HTMLModel",
            "_view_count": null,
            "_view_module": "@jupyter-widgets/controls",
            "_view_module_version": "1.5.0",
            "_view_name": "HTMLView",
            "description": "",
            "description_tooltip": null,
            "layout": "IPY_MODEL_e4e81d82178945438caee0216099568b",
            "placeholder": "​",
            "style": "IPY_MODEL_c3787d0b65bd4aac937b7ad7d16546f0",
            "value": " 9.95G/9.95G [00:40&lt;00:00, 257MB/s]"
          }
        },
        "027b94f76a404fcc9b0b1c7f827f91d7": {
          "model_module": "@jupyter-widgets/base",
          "model_name": "LayoutModel",
          "model_module_version": "1.2.0",
          "state": {
            "_model_module": "@jupyter-widgets/base",
            "_model_module_version": "1.2.0",
            "_model_name": "LayoutModel",
            "_view_count": null,
            "_view_module": "@jupyter-widgets/base",
            "_view_module_version": "1.2.0",
            "_view_name": "LayoutView",
            "align_content": null,
            "align_items": null,
            "align_self": null,
            "border": null,
            "bottom": null,
            "display": null,
            "flex": null,
            "flex_flow": null,
            "grid_area": null,
            "grid_auto_columns": null,
            "grid_auto_flow": null,
            "grid_auto_rows": null,
            "grid_column": null,
            "grid_gap": null,
            "grid_row": null,
            "grid_template_areas": null,
            "grid_template_columns": null,
            "grid_template_rows": null,
            "height": null,
            "justify_content": null,
            "justify_items": null,
            "left": null,
            "margin": null,
            "max_height": null,
            "max_width": null,
            "min_height": null,
            "min_width": null,
            "object_fit": null,
            "object_position": null,
            "order": null,
            "overflow": null,
            "overflow_x": null,
            "overflow_y": null,
            "padding": null,
            "right": null,
            "top": null,
            "visibility": null,
            "width": null
          }
        },
        "df5ff46c575a4611962c0331ba395ecc": {
          "model_module": "@jupyter-widgets/base",
          "model_name": "LayoutModel",
          "model_module_version": "1.2.0",
          "state": {
            "_model_module": "@jupyter-widgets/base",
            "_model_module_version": "1.2.0",
            "_model_name": "LayoutModel",
            "_view_count": null,
            "_view_module": "@jupyter-widgets/base",
            "_view_module_version": "1.2.0",
            "_view_name": "LayoutView",
            "align_content": null,
            "align_items": null,
            "align_self": null,
            "border": null,
            "bottom": null,
            "display": null,
            "flex": null,
            "flex_flow": null,
            "grid_area": null,
            "grid_auto_columns": null,
            "grid_auto_flow": null,
            "grid_auto_rows": null,
            "grid_column": null,
            "grid_gap": null,
            "grid_row": null,
            "grid_template_areas": null,
            "grid_template_columns": null,
            "grid_template_rows": null,
            "height": null,
            "justify_content": null,
            "justify_items": null,
            "left": null,
            "margin": null,
            "max_height": null,
            "max_width": null,
            "min_height": null,
            "min_width": null,
            "object_fit": null,
            "object_position": null,
            "order": null,
            "overflow": null,
            "overflow_x": null,
            "overflow_y": null,
            "padding": null,
            "right": null,
            "top": null,
            "visibility": null,
            "width": null
          }
        },
        "9ee632cbda4747ecbd09e2da19824717": {
          "model_module": "@jupyter-widgets/controls",
          "model_name": "DescriptionStyleModel",
          "model_module_version": "1.5.0",
          "state": {
            "_model_module": "@jupyter-widgets/controls",
            "_model_module_version": "1.5.0",
            "_model_name": "DescriptionStyleModel",
            "_view_count": null,
            "_view_module": "@jupyter-widgets/base",
            "_view_module_version": "1.2.0",
            "_view_name": "StyleView",
            "description_width": ""
          }
        },
        "1033540c488b471fbf861633f361885c": {
          "model_module": "@jupyter-widgets/base",
          "model_name": "LayoutModel",
          "model_module_version": "1.2.0",
          "state": {
            "_model_module": "@jupyter-widgets/base",
            "_model_module_version": "1.2.0",
            "_model_name": "LayoutModel",
            "_view_count": null,
            "_view_module": "@jupyter-widgets/base",
            "_view_module_version": "1.2.0",
            "_view_name": "LayoutView",
            "align_content": null,
            "align_items": null,
            "align_self": null,
            "border": null,
            "bottom": null,
            "display": null,
            "flex": null,
            "flex_flow": null,
            "grid_area": null,
            "grid_auto_columns": null,
            "grid_auto_flow": null,
            "grid_auto_rows": null,
            "grid_column": null,
            "grid_gap": null,
            "grid_row": null,
            "grid_template_areas": null,
            "grid_template_columns": null,
            "grid_template_rows": null,
            "height": null,
            "justify_content": null,
            "justify_items": null,
            "left": null,
            "margin": null,
            "max_height": null,
            "max_width": null,
            "min_height": null,
            "min_width": null,
            "object_fit": null,
            "object_position": null,
            "order": null,
            "overflow": null,
            "overflow_x": null,
            "overflow_y": null,
            "padding": null,
            "right": null,
            "top": null,
            "visibility": null,
            "width": null
          }
        },
        "ee785e11c03945b096ee762ce223293f": {
          "model_module": "@jupyter-widgets/controls",
          "model_name": "ProgressStyleModel",
          "model_module_version": "1.5.0",
          "state": {
            "_model_module": "@jupyter-widgets/controls",
            "_model_module_version": "1.5.0",
            "_model_name": "ProgressStyleModel",
            "_view_count": null,
            "_view_module": "@jupyter-widgets/base",
            "_view_module_version": "1.2.0",
            "_view_name": "StyleView",
            "bar_color": null,
            "description_width": ""
          }
        },
        "e4e81d82178945438caee0216099568b": {
          "model_module": "@jupyter-widgets/base",
          "model_name": "LayoutModel",
          "model_module_version": "1.2.0",
          "state": {
            "_model_module": "@jupyter-widgets/base",
            "_model_module_version": "1.2.0",
            "_model_name": "LayoutModel",
            "_view_count": null,
            "_view_module": "@jupyter-widgets/base",
            "_view_module_version": "1.2.0",
            "_view_name": "LayoutView",
            "align_content": null,
            "align_items": null,
            "align_self": null,
            "border": null,
            "bottom": null,
            "display": null,
            "flex": null,
            "flex_flow": null,
            "grid_area": null,
            "grid_auto_columns": null,
            "grid_auto_flow": null,
            "grid_auto_rows": null,
            "grid_column": null,
            "grid_gap": null,
            "grid_row": null,
            "grid_template_areas": null,
            "grid_template_columns": null,
            "grid_template_rows": null,
            "height": null,
            "justify_content": null,
            "justify_items": null,
            "left": null,
            "margin": null,
            "max_height": null,
            "max_width": null,
            "min_height": null,
            "min_width": null,
            "object_fit": null,
            "object_position": null,
            "order": null,
            "overflow": null,
            "overflow_x": null,
            "overflow_y": null,
            "padding": null,
            "right": null,
            "top": null,
            "visibility": null,
            "width": null
          }
        },
        "c3787d0b65bd4aac937b7ad7d16546f0": {
          "model_module": "@jupyter-widgets/controls",
          "model_name": "DescriptionStyleModel",
          "model_module_version": "1.5.0",
          "state": {
            "_model_module": "@jupyter-widgets/controls",
            "_model_module_version": "1.5.0",
            "_model_name": "DescriptionStyleModel",
            "_view_count": null,
            "_view_module": "@jupyter-widgets/base",
            "_view_module_version": "1.2.0",
            "_view_name": "StyleView",
            "description_width": ""
          }
        },
        "d35dbcaa7cc445d2bd1c3d38a5534c77": {
          "model_module": "@jupyter-widgets/controls",
          "model_name": "HBoxModel",
          "model_module_version": "1.5.0",
          "state": {
            "_dom_classes": [],
            "_model_module": "@jupyter-widgets/controls",
            "_model_module_version": "1.5.0",
            "_model_name": "HBoxModel",
            "_view_count": null,
            "_view_module": "@jupyter-widgets/controls",
            "_view_module_version": "1.5.0",
            "_view_name": "HBoxView",
            "box_style": "",
            "children": [
              "IPY_MODEL_c5fb16f74c6047a99fa520612f7d1825",
              "IPY_MODEL_5f2e1c1b666b4ff5accdcb1f989fa76f",
              "IPY_MODEL_503218a1a7be43c39798b8db7afbb7c5"
            ],
            "layout": "IPY_MODEL_5e98472e4be94267a36bfc0099f95dce"
          }
        },
        "c5fb16f74c6047a99fa520612f7d1825": {
          "model_module": "@jupyter-widgets/controls",
          "model_name": "HTMLModel",
          "model_module_version": "1.5.0",
          "state": {
            "_dom_classes": [],
            "_model_module": "@jupyter-widgets/controls",
            "_model_module_version": "1.5.0",
            "_model_name": "HTMLModel",
            "_view_count": null,
            "_view_module": "@jupyter-widgets/controls",
            "_view_module_version": "1.5.0",
            "_view_name": "HTMLView",
            "description": "",
            "description_tooltip": null,
            "layout": "IPY_MODEL_1c12e9146c0c4b54a449c7e105e335f9",
            "placeholder": "​",
            "style": "IPY_MODEL_c9b0b2498e934d34bf39e885541c6d36",
            "value": "model-00002-of-00003.safetensors: 100%"
          }
        },
        "5f2e1c1b666b4ff5accdcb1f989fa76f": {
          "model_module": "@jupyter-widgets/controls",
          "model_name": "FloatProgressModel",
          "model_module_version": "1.5.0",
          "state": {
            "_dom_classes": [],
            "_model_module": "@jupyter-widgets/controls",
            "_model_module_version": "1.5.0",
            "_model_name": "FloatProgressModel",
            "_view_count": null,
            "_view_module": "@jupyter-widgets/controls",
            "_view_module_version": "1.5.0",
            "_view_name": "ProgressView",
            "bar_style": "success",
            "description": "",
            "description_tooltip": null,
            "layout": "IPY_MODEL_aa0ca1a1ab7148cf89c866e577a1c8f2",
            "max": 9904129368,
            "min": 0,
            "orientation": "horizontal",
            "style": "IPY_MODEL_c06e93968b5749b79bc365ca0fdb5266",
            "value": 9904129368
          }
        },
        "503218a1a7be43c39798b8db7afbb7c5": {
          "model_module": "@jupyter-widgets/controls",
          "model_name": "HTMLModel",
          "model_module_version": "1.5.0",
          "state": {
            "_dom_classes": [],
            "_model_module": "@jupyter-widgets/controls",
            "_model_module_version": "1.5.0",
            "_model_name": "HTMLModel",
            "_view_count": null,
            "_view_module": "@jupyter-widgets/controls",
            "_view_module_version": "1.5.0",
            "_view_name": "HTMLView",
            "description": "",
            "description_tooltip": null,
            "layout": "IPY_MODEL_d93a892aad994f5395fe0adcc6582f3b",
            "placeholder": "​",
            "style": "IPY_MODEL_881d5cfe869b4a49bc7d7b8c7badffc9",
            "value": " 9.90G/9.90G [00:39&lt;00:00, 270MB/s]"
          }
        },
        "5e98472e4be94267a36bfc0099f95dce": {
          "model_module": "@jupyter-widgets/base",
          "model_name": "LayoutModel",
          "model_module_version": "1.2.0",
          "state": {
            "_model_module": "@jupyter-widgets/base",
            "_model_module_version": "1.2.0",
            "_model_name": "LayoutModel",
            "_view_count": null,
            "_view_module": "@jupyter-widgets/base",
            "_view_module_version": "1.2.0",
            "_view_name": "LayoutView",
            "align_content": null,
            "align_items": null,
            "align_self": null,
            "border": null,
            "bottom": null,
            "display": null,
            "flex": null,
            "flex_flow": null,
            "grid_area": null,
            "grid_auto_columns": null,
            "grid_auto_flow": null,
            "grid_auto_rows": null,
            "grid_column": null,
            "grid_gap": null,
            "grid_row": null,
            "grid_template_areas": null,
            "grid_template_columns": null,
            "grid_template_rows": null,
            "height": null,
            "justify_content": null,
            "justify_items": null,
            "left": null,
            "margin": null,
            "max_height": null,
            "max_width": null,
            "min_height": null,
            "min_width": null,
            "object_fit": null,
            "object_position": null,
            "order": null,
            "overflow": null,
            "overflow_x": null,
            "overflow_y": null,
            "padding": null,
            "right": null,
            "top": null,
            "visibility": null,
            "width": null
          }
        },
        "1c12e9146c0c4b54a449c7e105e335f9": {
          "model_module": "@jupyter-widgets/base",
          "model_name": "LayoutModel",
          "model_module_version": "1.2.0",
          "state": {
            "_model_module": "@jupyter-widgets/base",
            "_model_module_version": "1.2.0",
            "_model_name": "LayoutModel",
            "_view_count": null,
            "_view_module": "@jupyter-widgets/base",
            "_view_module_version": "1.2.0",
            "_view_name": "LayoutView",
            "align_content": null,
            "align_items": null,
            "align_self": null,
            "border": null,
            "bottom": null,
            "display": null,
            "flex": null,
            "flex_flow": null,
            "grid_area": null,
            "grid_auto_columns": null,
            "grid_auto_flow": null,
            "grid_auto_rows": null,
            "grid_column": null,
            "grid_gap": null,
            "grid_row": null,
            "grid_template_areas": null,
            "grid_template_columns": null,
            "grid_template_rows": null,
            "height": null,
            "justify_content": null,
            "justify_items": null,
            "left": null,
            "margin": null,
            "max_height": null,
            "max_width": null,
            "min_height": null,
            "min_width": null,
            "object_fit": null,
            "object_position": null,
            "order": null,
            "overflow": null,
            "overflow_x": null,
            "overflow_y": null,
            "padding": null,
            "right": null,
            "top": null,
            "visibility": null,
            "width": null
          }
        },
        "c9b0b2498e934d34bf39e885541c6d36": {
          "model_module": "@jupyter-widgets/controls",
          "model_name": "DescriptionStyleModel",
          "model_module_version": "1.5.0",
          "state": {
            "_model_module": "@jupyter-widgets/controls",
            "_model_module_version": "1.5.0",
            "_model_name": "DescriptionStyleModel",
            "_view_count": null,
            "_view_module": "@jupyter-widgets/base",
            "_view_module_version": "1.2.0",
            "_view_name": "StyleView",
            "description_width": ""
          }
        },
        "aa0ca1a1ab7148cf89c866e577a1c8f2": {
          "model_module": "@jupyter-widgets/base",
          "model_name": "LayoutModel",
          "model_module_version": "1.2.0",
          "state": {
            "_model_module": "@jupyter-widgets/base",
            "_model_module_version": "1.2.0",
            "_model_name": "LayoutModel",
            "_view_count": null,
            "_view_module": "@jupyter-widgets/base",
            "_view_module_version": "1.2.0",
            "_view_name": "LayoutView",
            "align_content": null,
            "align_items": null,
            "align_self": null,
            "border": null,
            "bottom": null,
            "display": null,
            "flex": null,
            "flex_flow": null,
            "grid_area": null,
            "grid_auto_columns": null,
            "grid_auto_flow": null,
            "grid_auto_rows": null,
            "grid_column": null,
            "grid_gap": null,
            "grid_row": null,
            "grid_template_areas": null,
            "grid_template_columns": null,
            "grid_template_rows": null,
            "height": null,
            "justify_content": null,
            "justify_items": null,
            "left": null,
            "margin": null,
            "max_height": null,
            "max_width": null,
            "min_height": null,
            "min_width": null,
            "object_fit": null,
            "object_position": null,
            "order": null,
            "overflow": null,
            "overflow_x": null,
            "overflow_y": null,
            "padding": null,
            "right": null,
            "top": null,
            "visibility": null,
            "width": null
          }
        },
        "c06e93968b5749b79bc365ca0fdb5266": {
          "model_module": "@jupyter-widgets/controls",
          "model_name": "ProgressStyleModel",
          "model_module_version": "1.5.0",
          "state": {
            "_model_module": "@jupyter-widgets/controls",
            "_model_module_version": "1.5.0",
            "_model_name": "ProgressStyleModel",
            "_view_count": null,
            "_view_module": "@jupyter-widgets/base",
            "_view_module_version": "1.2.0",
            "_view_name": "StyleView",
            "bar_color": null,
            "description_width": ""
          }
        },
        "d93a892aad994f5395fe0adcc6582f3b": {
          "model_module": "@jupyter-widgets/base",
          "model_name": "LayoutModel",
          "model_module_version": "1.2.0",
          "state": {
            "_model_module": "@jupyter-widgets/base",
            "_model_module_version": "1.2.0",
            "_model_name": "LayoutModel",
            "_view_count": null,
            "_view_module": "@jupyter-widgets/base",
            "_view_module_version": "1.2.0",
            "_view_name": "LayoutView",
            "align_content": null,
            "align_items": null,
            "align_self": null,
            "border": null,
            "bottom": null,
            "display": null,
            "flex": null,
            "flex_flow": null,
            "grid_area": null,
            "grid_auto_columns": null,
            "grid_auto_flow": null,
            "grid_auto_rows": null,
            "grid_column": null,
            "grid_gap": null,
            "grid_row": null,
            "grid_template_areas": null,
            "grid_template_columns": null,
            "grid_template_rows": null,
            "height": null,
            "justify_content": null,
            "justify_items": null,
            "left": null,
            "margin": null,
            "max_height": null,
            "max_width": null,
            "min_height": null,
            "min_width": null,
            "object_fit": null,
            "object_position": null,
            "order": null,
            "overflow": null,
            "overflow_x": null,
            "overflow_y": null,
            "padding": null,
            "right": null,
            "top": null,
            "visibility": null,
            "width": null
          }
        },
        "881d5cfe869b4a49bc7d7b8c7badffc9": {
          "model_module": "@jupyter-widgets/controls",
          "model_name": "DescriptionStyleModel",
          "model_module_version": "1.5.0",
          "state": {
            "_model_module": "@jupyter-widgets/controls",
            "_model_module_version": "1.5.0",
            "_model_name": "DescriptionStyleModel",
            "_view_count": null,
            "_view_module": "@jupyter-widgets/base",
            "_view_module_version": "1.2.0",
            "_view_name": "StyleView",
            "description_width": ""
          }
        },
        "c99c1d93a41d4d8c8f19a6874eca5890": {
          "model_module": "@jupyter-widgets/controls",
          "model_name": "HBoxModel",
          "model_module_version": "1.5.0",
          "state": {
            "_dom_classes": [],
            "_model_module": "@jupyter-widgets/controls",
            "_model_module_version": "1.5.0",
            "_model_name": "HBoxModel",
            "_view_count": null,
            "_view_module": "@jupyter-widgets/controls",
            "_view_module_version": "1.5.0",
            "_view_name": "HBoxView",
            "box_style": "",
            "children": [
              "IPY_MODEL_f8fe06bb2af4429fbfb547d4e0dcc6c0",
              "IPY_MODEL_15863feb629e4a8c85a6709a119d7f77",
              "IPY_MODEL_58340c5a2df94d8fb8d66a56414aafe7"
            ],
            "layout": "IPY_MODEL_66e7cb2f79624f878c29384de7a23c91"
          }
        },
        "f8fe06bb2af4429fbfb547d4e0dcc6c0": {
          "model_module": "@jupyter-widgets/controls",
          "model_name": "HTMLModel",
          "model_module_version": "1.5.0",
          "state": {
            "_dom_classes": [],
            "_model_module": "@jupyter-widgets/controls",
            "_model_module_version": "1.5.0",
            "_model_name": "HTMLModel",
            "_view_count": null,
            "_view_module": "@jupyter-widgets/controls",
            "_view_module_version": "1.5.0",
            "_view_name": "HTMLView",
            "description": "",
            "description_tooltip": null,
            "layout": "IPY_MODEL_54c249462d8f4b4f84ba1fe7aefcaa1b",
            "placeholder": "​",
            "style": "IPY_MODEL_477606b65c924db9b84c7e220aa3d5b1",
            "value": "model-00003-of-00003.safetensors: 100%"
          }
        },
        "15863feb629e4a8c85a6709a119d7f77": {
          "model_module": "@jupyter-widgets/controls",
          "model_name": "FloatProgressModel",
          "model_module_version": "1.5.0",
          "state": {
            "_dom_classes": [],
            "_model_module": "@jupyter-widgets/controls",
            "_model_module_version": "1.5.0",
            "_model_name": "FloatProgressModel",
            "_view_count": null,
            "_view_module": "@jupyter-widgets/controls",
            "_view_module_version": "1.5.0",
            "_view_name": "ProgressView",
            "bar_style": "success",
            "description": "",
            "description_tooltip": null,
            "layout": "IPY_MODEL_2a9b6b0db1834bb78263350a764a4df9",
            "max": 6178962272,
            "min": 0,
            "orientation": "horizontal",
            "style": "IPY_MODEL_d70b0a995d1849999ffc606135acabde",
            "value": 6178962272
          }
        },
        "58340c5a2df94d8fb8d66a56414aafe7": {
          "model_module": "@jupyter-widgets/controls",
          "model_name": "HTMLModel",
          "model_module_version": "1.5.0",
          "state": {
            "_dom_classes": [],
            "_model_module": "@jupyter-widgets/controls",
            "_model_module_version": "1.5.0",
            "_model_name": "HTMLModel",
            "_view_count": null,
            "_view_module": "@jupyter-widgets/controls",
            "_view_module_version": "1.5.0",
            "_view_name": "HTMLView",
            "description": "",
            "description_tooltip": null,
            "layout": "IPY_MODEL_4401c229a8a549c291e88e33bb6cc03e",
            "placeholder": "​",
            "style": "IPY_MODEL_6ad38ea3e5984ea882f68a7f6df2e200",
            "value": " 6.18G/6.18G [00:24&lt;00:00, 261MB/s]"
          }
        },
        "66e7cb2f79624f878c29384de7a23c91": {
          "model_module": "@jupyter-widgets/base",
          "model_name": "LayoutModel",
          "model_module_version": "1.2.0",
          "state": {
            "_model_module": "@jupyter-widgets/base",
            "_model_module_version": "1.2.0",
            "_model_name": "LayoutModel",
            "_view_count": null,
            "_view_module": "@jupyter-widgets/base",
            "_view_module_version": "1.2.0",
            "_view_name": "LayoutView",
            "align_content": null,
            "align_items": null,
            "align_self": null,
            "border": null,
            "bottom": null,
            "display": null,
            "flex": null,
            "flex_flow": null,
            "grid_area": null,
            "grid_auto_columns": null,
            "grid_auto_flow": null,
            "grid_auto_rows": null,
            "grid_column": null,
            "grid_gap": null,
            "grid_row": null,
            "grid_template_areas": null,
            "grid_template_columns": null,
            "grid_template_rows": null,
            "height": null,
            "justify_content": null,
            "justify_items": null,
            "left": null,
            "margin": null,
            "max_height": null,
            "max_width": null,
            "min_height": null,
            "min_width": null,
            "object_fit": null,
            "object_position": null,
            "order": null,
            "overflow": null,
            "overflow_x": null,
            "overflow_y": null,
            "padding": null,
            "right": null,
            "top": null,
            "visibility": null,
            "width": null
          }
        },
        "54c249462d8f4b4f84ba1fe7aefcaa1b": {
          "model_module": "@jupyter-widgets/base",
          "model_name": "LayoutModel",
          "model_module_version": "1.2.0",
          "state": {
            "_model_module": "@jupyter-widgets/base",
            "_model_module_version": "1.2.0",
            "_model_name": "LayoutModel",
            "_view_count": null,
            "_view_module": "@jupyter-widgets/base",
            "_view_module_version": "1.2.0",
            "_view_name": "LayoutView",
            "align_content": null,
            "align_items": null,
            "align_self": null,
            "border": null,
            "bottom": null,
            "display": null,
            "flex": null,
            "flex_flow": null,
            "grid_area": null,
            "grid_auto_columns": null,
            "grid_auto_flow": null,
            "grid_auto_rows": null,
            "grid_column": null,
            "grid_gap": null,
            "grid_row": null,
            "grid_template_areas": null,
            "grid_template_columns": null,
            "grid_template_rows": null,
            "height": null,
            "justify_content": null,
            "justify_items": null,
            "left": null,
            "margin": null,
            "max_height": null,
            "max_width": null,
            "min_height": null,
            "min_width": null,
            "object_fit": null,
            "object_position": null,
            "order": null,
            "overflow": null,
            "overflow_x": null,
            "overflow_y": null,
            "padding": null,
            "right": null,
            "top": null,
            "visibility": null,
            "width": null
          }
        },
        "477606b65c924db9b84c7e220aa3d5b1": {
          "model_module": "@jupyter-widgets/controls",
          "model_name": "DescriptionStyleModel",
          "model_module_version": "1.5.0",
          "state": {
            "_model_module": "@jupyter-widgets/controls",
            "_model_module_version": "1.5.0",
            "_model_name": "DescriptionStyleModel",
            "_view_count": null,
            "_view_module": "@jupyter-widgets/base",
            "_view_module_version": "1.2.0",
            "_view_name": "StyleView",
            "description_width": ""
          }
        },
        "2a9b6b0db1834bb78263350a764a4df9": {
          "model_module": "@jupyter-widgets/base",
          "model_name": "LayoutModel",
          "model_module_version": "1.2.0",
          "state": {
            "_model_module": "@jupyter-widgets/base",
            "_model_module_version": "1.2.0",
            "_model_name": "LayoutModel",
            "_view_count": null,
            "_view_module": "@jupyter-widgets/base",
            "_view_module_version": "1.2.0",
            "_view_name": "LayoutView",
            "align_content": null,
            "align_items": null,
            "align_self": null,
            "border": null,
            "bottom": null,
            "display": null,
            "flex": null,
            "flex_flow": null,
            "grid_area": null,
            "grid_auto_columns": null,
            "grid_auto_flow": null,
            "grid_auto_rows": null,
            "grid_column": null,
            "grid_gap": null,
            "grid_row": null,
            "grid_template_areas": null,
            "grid_template_columns": null,
            "grid_template_rows": null,
            "height": null,
            "justify_content": null,
            "justify_items": null,
            "left": null,
            "margin": null,
            "max_height": null,
            "max_width": null,
            "min_height": null,
            "min_width": null,
            "object_fit": null,
            "object_position": null,
            "order": null,
            "overflow": null,
            "overflow_x": null,
            "overflow_y": null,
            "padding": null,
            "right": null,
            "top": null,
            "visibility": null,
            "width": null
          }
        },
        "d70b0a995d1849999ffc606135acabde": {
          "model_module": "@jupyter-widgets/controls",
          "model_name": "ProgressStyleModel",
          "model_module_version": "1.5.0",
          "state": {
            "_model_module": "@jupyter-widgets/controls",
            "_model_module_version": "1.5.0",
            "_model_name": "ProgressStyleModel",
            "_view_count": null,
            "_view_module": "@jupyter-widgets/base",
            "_view_module_version": "1.2.0",
            "_view_name": "StyleView",
            "bar_color": null,
            "description_width": ""
          }
        },
        "4401c229a8a549c291e88e33bb6cc03e": {
          "model_module": "@jupyter-widgets/base",
          "model_name": "LayoutModel",
          "model_module_version": "1.2.0",
          "state": {
            "_model_module": "@jupyter-widgets/base",
            "_model_module_version": "1.2.0",
            "_model_name": "LayoutModel",
            "_view_count": null,
            "_view_module": "@jupyter-widgets/base",
            "_view_module_version": "1.2.0",
            "_view_name": "LayoutView",
            "align_content": null,
            "align_items": null,
            "align_self": null,
            "border": null,
            "bottom": null,
            "display": null,
            "flex": null,
            "flex_flow": null,
            "grid_area": null,
            "grid_auto_columns": null,
            "grid_auto_flow": null,
            "grid_auto_rows": null,
            "grid_column": null,
            "grid_gap": null,
            "grid_row": null,
            "grid_template_areas": null,
            "grid_template_columns": null,
            "grid_template_rows": null,
            "height": null,
            "justify_content": null,
            "justify_items": null,
            "left": null,
            "margin": null,
            "max_height": null,
            "max_width": null,
            "min_height": null,
            "min_width": null,
            "object_fit": null,
            "object_position": null,
            "order": null,
            "overflow": null,
            "overflow_x": null,
            "overflow_y": null,
            "padding": null,
            "right": null,
            "top": null,
            "visibility": null,
            "width": null
          }
        },
        "6ad38ea3e5984ea882f68a7f6df2e200": {
          "model_module": "@jupyter-widgets/controls",
          "model_name": "DescriptionStyleModel",
          "model_module_version": "1.5.0",
          "state": {
            "_model_module": "@jupyter-widgets/controls",
            "_model_module_version": "1.5.0",
            "_model_name": "DescriptionStyleModel",
            "_view_count": null,
            "_view_module": "@jupyter-widgets/base",
            "_view_module_version": "1.2.0",
            "_view_name": "StyleView",
            "description_width": ""
          }
        },
        "7c4e65a2d7994abbae4bbce326a565da": {
          "model_module": "@jupyter-widgets/controls",
          "model_name": "HBoxModel",
          "model_module_version": "1.5.0",
          "state": {
            "_dom_classes": [],
            "_model_module": "@jupyter-widgets/controls",
            "_model_module_version": "1.5.0",
            "_model_name": "HBoxModel",
            "_view_count": null,
            "_view_module": "@jupyter-widgets/controls",
            "_view_module_version": "1.5.0",
            "_view_name": "HBoxView",
            "box_style": "",
            "children": [
              "IPY_MODEL_8dd454549e034360940d54f7be07b928",
              "IPY_MODEL_a7b59d6186334142889c3060a225bc13",
              "IPY_MODEL_e79e9a3658c54ae798720d165431d29e"
            ],
            "layout": "IPY_MODEL_d55ef65bdc6a40ed816b246a86a38080"
          }
        },
        "8dd454549e034360940d54f7be07b928": {
          "model_module": "@jupyter-widgets/controls",
          "model_name": "HTMLModel",
          "model_module_version": "1.5.0",
          "state": {
            "_dom_classes": [],
            "_model_module": "@jupyter-widgets/controls",
            "_model_module_version": "1.5.0",
            "_model_name": "HTMLModel",
            "_view_count": null,
            "_view_module": "@jupyter-widgets/controls",
            "_view_module_version": "1.5.0",
            "_view_name": "HTMLView",
            "description": "",
            "description_tooltip": null,
            "layout": "IPY_MODEL_905e2b09bbbb4f089156a1733cfd07b3",
            "placeholder": "​",
            "style": "IPY_MODEL_bce4d88628084e54b38cfd033063dcd0",
            "value": "Loading checkpoint shards: 100%"
          }
        },
        "a7b59d6186334142889c3060a225bc13": {
          "model_module": "@jupyter-widgets/controls",
          "model_name": "FloatProgressModel",
          "model_module_version": "1.5.0",
          "state": {
            "_dom_classes": [],
            "_model_module": "@jupyter-widgets/controls",
            "_model_module_version": "1.5.0",
            "_model_name": "FloatProgressModel",
            "_view_count": null,
            "_view_module": "@jupyter-widgets/controls",
            "_view_module_version": "1.5.0",
            "_view_name": "ProgressView",
            "bar_style": "success",
            "description": "",
            "description_tooltip": null,
            "layout": "IPY_MODEL_b6118c4efabc41ee87329444974646e1",
            "max": 3,
            "min": 0,
            "orientation": "horizontal",
            "style": "IPY_MODEL_c496a7156829487e9273444624dbd43d",
            "value": 3
          }
        },
        "e79e9a3658c54ae798720d165431d29e": {
          "model_module": "@jupyter-widgets/controls",
          "model_name": "HTMLModel",
          "model_module_version": "1.5.0",
          "state": {
            "_dom_classes": [],
            "_model_module": "@jupyter-widgets/controls",
            "_model_module_version": "1.5.0",
            "_model_name": "HTMLModel",
            "_view_count": null,
            "_view_module": "@jupyter-widgets/controls",
            "_view_module_version": "1.5.0",
            "_view_name": "HTMLView",
            "description": "",
            "description_tooltip": null,
            "layout": "IPY_MODEL_b98a8a0f3dfb491e9fa5e071a4324dbb",
            "placeholder": "​",
            "style": "IPY_MODEL_5b61f07073c840028a69d62a2e8a02f4",
            "value": " 3/3 [02:02&lt;00:00, 38.75s/it]"
          }
        },
        "d55ef65bdc6a40ed816b246a86a38080": {
          "model_module": "@jupyter-widgets/base",
          "model_name": "LayoutModel",
          "model_module_version": "1.2.0",
          "state": {
            "_model_module": "@jupyter-widgets/base",
            "_model_module_version": "1.2.0",
            "_model_name": "LayoutModel",
            "_view_count": null,
            "_view_module": "@jupyter-widgets/base",
            "_view_module_version": "1.2.0",
            "_view_name": "LayoutView",
            "align_content": null,
            "align_items": null,
            "align_self": null,
            "border": null,
            "bottom": null,
            "display": null,
            "flex": null,
            "flex_flow": null,
            "grid_area": null,
            "grid_auto_columns": null,
            "grid_auto_flow": null,
            "grid_auto_rows": null,
            "grid_column": null,
            "grid_gap": null,
            "grid_row": null,
            "grid_template_areas": null,
            "grid_template_columns": null,
            "grid_template_rows": null,
            "height": null,
            "justify_content": null,
            "justify_items": null,
            "left": null,
            "margin": null,
            "max_height": null,
            "max_width": null,
            "min_height": null,
            "min_width": null,
            "object_fit": null,
            "object_position": null,
            "order": null,
            "overflow": null,
            "overflow_x": null,
            "overflow_y": null,
            "padding": null,
            "right": null,
            "top": null,
            "visibility": null,
            "width": null
          }
        },
        "905e2b09bbbb4f089156a1733cfd07b3": {
          "model_module": "@jupyter-widgets/base",
          "model_name": "LayoutModel",
          "model_module_version": "1.2.0",
          "state": {
            "_model_module": "@jupyter-widgets/base",
            "_model_module_version": "1.2.0",
            "_model_name": "LayoutModel",
            "_view_count": null,
            "_view_module": "@jupyter-widgets/base",
            "_view_module_version": "1.2.0",
            "_view_name": "LayoutView",
            "align_content": null,
            "align_items": null,
            "align_self": null,
            "border": null,
            "bottom": null,
            "display": null,
            "flex": null,
            "flex_flow": null,
            "grid_area": null,
            "grid_auto_columns": null,
            "grid_auto_flow": null,
            "grid_auto_rows": null,
            "grid_column": null,
            "grid_gap": null,
            "grid_row": null,
            "grid_template_areas": null,
            "grid_template_columns": null,
            "grid_template_rows": null,
            "height": null,
            "justify_content": null,
            "justify_items": null,
            "left": null,
            "margin": null,
            "max_height": null,
            "max_width": null,
            "min_height": null,
            "min_width": null,
            "object_fit": null,
            "object_position": null,
            "order": null,
            "overflow": null,
            "overflow_x": null,
            "overflow_y": null,
            "padding": null,
            "right": null,
            "top": null,
            "visibility": null,
            "width": null
          }
        },
        "bce4d88628084e54b38cfd033063dcd0": {
          "model_module": "@jupyter-widgets/controls",
          "model_name": "DescriptionStyleModel",
          "model_module_version": "1.5.0",
          "state": {
            "_model_module": "@jupyter-widgets/controls",
            "_model_module_version": "1.5.0",
            "_model_name": "DescriptionStyleModel",
            "_view_count": null,
            "_view_module": "@jupyter-widgets/base",
            "_view_module_version": "1.2.0",
            "_view_name": "StyleView",
            "description_width": ""
          }
        },
        "b6118c4efabc41ee87329444974646e1": {
          "model_module": "@jupyter-widgets/base",
          "model_name": "LayoutModel",
          "model_module_version": "1.2.0",
          "state": {
            "_model_module": "@jupyter-widgets/base",
            "_model_module_version": "1.2.0",
            "_model_name": "LayoutModel",
            "_view_count": null,
            "_view_module": "@jupyter-widgets/base",
            "_view_module_version": "1.2.0",
            "_view_name": "LayoutView",
            "align_content": null,
            "align_items": null,
            "align_self": null,
            "border": null,
            "bottom": null,
            "display": null,
            "flex": null,
            "flex_flow": null,
            "grid_area": null,
            "grid_auto_columns": null,
            "grid_auto_flow": null,
            "grid_auto_rows": null,
            "grid_column": null,
            "grid_gap": null,
            "grid_row": null,
            "grid_template_areas": null,
            "grid_template_columns": null,
            "grid_template_rows": null,
            "height": null,
            "justify_content": null,
            "justify_items": null,
            "left": null,
            "margin": null,
            "max_height": null,
            "max_width": null,
            "min_height": null,
            "min_width": null,
            "object_fit": null,
            "object_position": null,
            "order": null,
            "overflow": null,
            "overflow_x": null,
            "overflow_y": null,
            "padding": null,
            "right": null,
            "top": null,
            "visibility": null,
            "width": null
          }
        },
        "c496a7156829487e9273444624dbd43d": {
          "model_module": "@jupyter-widgets/controls",
          "model_name": "ProgressStyleModel",
          "model_module_version": "1.5.0",
          "state": {
            "_model_module": "@jupyter-widgets/controls",
            "_model_module_version": "1.5.0",
            "_model_name": "ProgressStyleModel",
            "_view_count": null,
            "_view_module": "@jupyter-widgets/base",
            "_view_module_version": "1.2.0",
            "_view_name": "StyleView",
            "bar_color": null,
            "description_width": ""
          }
        },
        "b98a8a0f3dfb491e9fa5e071a4324dbb": {
          "model_module": "@jupyter-widgets/base",
          "model_name": "LayoutModel",
          "model_module_version": "1.2.0",
          "state": {
            "_model_module": "@jupyter-widgets/base",
            "_model_module_version": "1.2.0",
            "_model_name": "LayoutModel",
            "_view_count": null,
            "_view_module": "@jupyter-widgets/base",
            "_view_module_version": "1.2.0",
            "_view_name": "LayoutView",
            "align_content": null,
            "align_items": null,
            "align_self": null,
            "border": null,
            "bottom": null,
            "display": null,
            "flex": null,
            "flex_flow": null,
            "grid_area": null,
            "grid_auto_columns": null,
            "grid_auto_flow": null,
            "grid_auto_rows": null,
            "grid_column": null,
            "grid_gap": null,
            "grid_row": null,
            "grid_template_areas": null,
            "grid_template_columns": null,
            "grid_template_rows": null,
            "height": null,
            "justify_content": null,
            "justify_items": null,
            "left": null,
            "margin": null,
            "max_height": null,
            "max_width": null,
            "min_height": null,
            "min_width": null,
            "object_fit": null,
            "object_position": null,
            "order": null,
            "overflow": null,
            "overflow_x": null,
            "overflow_y": null,
            "padding": null,
            "right": null,
            "top": null,
            "visibility": null,
            "width": null
          }
        },
        "5b61f07073c840028a69d62a2e8a02f4": {
          "model_module": "@jupyter-widgets/controls",
          "model_name": "DescriptionStyleModel",
          "model_module_version": "1.5.0",
          "state": {
            "_model_module": "@jupyter-widgets/controls",
            "_model_module_version": "1.5.0",
            "_model_name": "DescriptionStyleModel",
            "_view_count": null,
            "_view_module": "@jupyter-widgets/base",
            "_view_module_version": "1.2.0",
            "_view_name": "StyleView",
            "description_width": ""
          }
        },
        "ecbecb33d496462393a0dc2bc9b5fb75": {
          "model_module": "@jupyter-widgets/controls",
          "model_name": "HBoxModel",
          "model_module_version": "1.5.0",
          "state": {
            "_dom_classes": [],
            "_model_module": "@jupyter-widgets/controls",
            "_model_module_version": "1.5.0",
            "_model_name": "HBoxModel",
            "_view_count": null,
            "_view_module": "@jupyter-widgets/controls",
            "_view_module_version": "1.5.0",
            "_view_name": "HBoxView",
            "box_style": "",
            "children": [
              "IPY_MODEL_9cec9bf891fe417e96e69a70abfda24c",
              "IPY_MODEL_e292d6a02ecf415699900a40ef93338a",
              "IPY_MODEL_fcf38516036c4b79b5e8ab44a91de497"
            ],
            "layout": "IPY_MODEL_3c713d4ff7214c15aa82396c8c985dc8"
          }
        },
        "9cec9bf891fe417e96e69a70abfda24c": {
          "model_module": "@jupyter-widgets/controls",
          "model_name": "HTMLModel",
          "model_module_version": "1.5.0",
          "state": {
            "_dom_classes": [],
            "_model_module": "@jupyter-widgets/controls",
            "_model_module_version": "1.5.0",
            "_model_name": "HTMLModel",
            "_view_count": null,
            "_view_module": "@jupyter-widgets/controls",
            "_view_module_version": "1.5.0",
            "_view_name": "HTMLView",
            "description": "",
            "description_tooltip": null,
            "layout": "IPY_MODEL_435caaffb69b42d788ffc9cf75b8dbc9",
            "placeholder": "​",
            "style": "IPY_MODEL_7136cdbaf5ec4b679c56eed8d16554b2",
            "value": "generation_config.json: 100%"
          }
        },
        "e292d6a02ecf415699900a40ef93338a": {
          "model_module": "@jupyter-widgets/controls",
          "model_name": "FloatProgressModel",
          "model_module_version": "1.5.0",
          "state": {
            "_dom_classes": [],
            "_model_module": "@jupyter-widgets/controls",
            "_model_module_version": "1.5.0",
            "_model_name": "FloatProgressModel",
            "_view_count": null,
            "_view_module": "@jupyter-widgets/controls",
            "_view_module_version": "1.5.0",
            "_view_name": "ProgressView",
            "bar_style": "success",
            "description": "",
            "description_tooltip": null,
            "layout": "IPY_MODEL_bf775a83f3ca474ca6dbba59b39722f7",
            "max": 188,
            "min": 0,
            "orientation": "horizontal",
            "style": "IPY_MODEL_cf8fa120a14b4d6898e8b2af3ca5c9a9",
            "value": 188
          }
        },
        "fcf38516036c4b79b5e8ab44a91de497": {
          "model_module": "@jupyter-widgets/controls",
          "model_name": "HTMLModel",
          "model_module_version": "1.5.0",
          "state": {
            "_dom_classes": [],
            "_model_module": "@jupyter-widgets/controls",
            "_model_module_version": "1.5.0",
            "_model_name": "HTMLModel",
            "_view_count": null,
            "_view_module": "@jupyter-widgets/controls",
            "_view_module_version": "1.5.0",
            "_view_name": "HTMLView",
            "description": "",
            "description_tooltip": null,
            "layout": "IPY_MODEL_aa878e2e1a0d4a468a5a7e6da1b16357",
            "placeholder": "​",
            "style": "IPY_MODEL_13335a6266a2465c8c8f58606ba684e4",
            "value": " 188/188 [00:00&lt;00:00, 14.3kB/s]"
          }
        },
        "3c713d4ff7214c15aa82396c8c985dc8": {
          "model_module": "@jupyter-widgets/base",
          "model_name": "LayoutModel",
          "model_module_version": "1.2.0",
          "state": {
            "_model_module": "@jupyter-widgets/base",
            "_model_module_version": "1.2.0",
            "_model_name": "LayoutModel",
            "_view_count": null,
            "_view_module": "@jupyter-widgets/base",
            "_view_module_version": "1.2.0",
            "_view_name": "LayoutView",
            "align_content": null,
            "align_items": null,
            "align_self": null,
            "border": null,
            "bottom": null,
            "display": null,
            "flex": null,
            "flex_flow": null,
            "grid_area": null,
            "grid_auto_columns": null,
            "grid_auto_flow": null,
            "grid_auto_rows": null,
            "grid_column": null,
            "grid_gap": null,
            "grid_row": null,
            "grid_template_areas": null,
            "grid_template_columns": null,
            "grid_template_rows": null,
            "height": null,
            "justify_content": null,
            "justify_items": null,
            "left": null,
            "margin": null,
            "max_height": null,
            "max_width": null,
            "min_height": null,
            "min_width": null,
            "object_fit": null,
            "object_position": null,
            "order": null,
            "overflow": null,
            "overflow_x": null,
            "overflow_y": null,
            "padding": null,
            "right": null,
            "top": null,
            "visibility": null,
            "width": null
          }
        },
        "435caaffb69b42d788ffc9cf75b8dbc9": {
          "model_module": "@jupyter-widgets/base",
          "model_name": "LayoutModel",
          "model_module_version": "1.2.0",
          "state": {
            "_model_module": "@jupyter-widgets/base",
            "_model_module_version": "1.2.0",
            "_model_name": "LayoutModel",
            "_view_count": null,
            "_view_module": "@jupyter-widgets/base",
            "_view_module_version": "1.2.0",
            "_view_name": "LayoutView",
            "align_content": null,
            "align_items": null,
            "align_self": null,
            "border": null,
            "bottom": null,
            "display": null,
            "flex": null,
            "flex_flow": null,
            "grid_area": null,
            "grid_auto_columns": null,
            "grid_auto_flow": null,
            "grid_auto_rows": null,
            "grid_column": null,
            "grid_gap": null,
            "grid_row": null,
            "grid_template_areas": null,
            "grid_template_columns": null,
            "grid_template_rows": null,
            "height": null,
            "justify_content": null,
            "justify_items": null,
            "left": null,
            "margin": null,
            "max_height": null,
            "max_width": null,
            "min_height": null,
            "min_width": null,
            "object_fit": null,
            "object_position": null,
            "order": null,
            "overflow": null,
            "overflow_x": null,
            "overflow_y": null,
            "padding": null,
            "right": null,
            "top": null,
            "visibility": null,
            "width": null
          }
        },
        "7136cdbaf5ec4b679c56eed8d16554b2": {
          "model_module": "@jupyter-widgets/controls",
          "model_name": "DescriptionStyleModel",
          "model_module_version": "1.5.0",
          "state": {
            "_model_module": "@jupyter-widgets/controls",
            "_model_module_version": "1.5.0",
            "_model_name": "DescriptionStyleModel",
            "_view_count": null,
            "_view_module": "@jupyter-widgets/base",
            "_view_module_version": "1.2.0",
            "_view_name": "StyleView",
            "description_width": ""
          }
        },
        "bf775a83f3ca474ca6dbba59b39722f7": {
          "model_module": "@jupyter-widgets/base",
          "model_name": "LayoutModel",
          "model_module_version": "1.2.0",
          "state": {
            "_model_module": "@jupyter-widgets/base",
            "_model_module_version": "1.2.0",
            "_model_name": "LayoutModel",
            "_view_count": null,
            "_view_module": "@jupyter-widgets/base",
            "_view_module_version": "1.2.0",
            "_view_name": "LayoutView",
            "align_content": null,
            "align_items": null,
            "align_self": null,
            "border": null,
            "bottom": null,
            "display": null,
            "flex": null,
            "flex_flow": null,
            "grid_area": null,
            "grid_auto_columns": null,
            "grid_auto_flow": null,
            "grid_auto_rows": null,
            "grid_column": null,
            "grid_gap": null,
            "grid_row": null,
            "grid_template_areas": null,
            "grid_template_columns": null,
            "grid_template_rows": null,
            "height": null,
            "justify_content": null,
            "justify_items": null,
            "left": null,
            "margin": null,
            "max_height": null,
            "max_width": null,
            "min_height": null,
            "min_width": null,
            "object_fit": null,
            "object_position": null,
            "order": null,
            "overflow": null,
            "overflow_x": null,
            "overflow_y": null,
            "padding": null,
            "right": null,
            "top": null,
            "visibility": null,
            "width": null
          }
        },
        "cf8fa120a14b4d6898e8b2af3ca5c9a9": {
          "model_module": "@jupyter-widgets/controls",
          "model_name": "ProgressStyleModel",
          "model_module_version": "1.5.0",
          "state": {
            "_model_module": "@jupyter-widgets/controls",
            "_model_module_version": "1.5.0",
            "_model_name": "ProgressStyleModel",
            "_view_count": null,
            "_view_module": "@jupyter-widgets/base",
            "_view_module_version": "1.2.0",
            "_view_name": "StyleView",
            "bar_color": null,
            "description_width": ""
          }
        },
        "aa878e2e1a0d4a468a5a7e6da1b16357": {
          "model_module": "@jupyter-widgets/base",
          "model_name": "LayoutModel",
          "model_module_version": "1.2.0",
          "state": {
            "_model_module": "@jupyter-widgets/base",
            "_model_module_version": "1.2.0",
            "_model_name": "LayoutModel",
            "_view_count": null,
            "_view_module": "@jupyter-widgets/base",
            "_view_module_version": "1.2.0",
            "_view_name": "LayoutView",
            "align_content": null,
            "align_items": null,
            "align_self": null,
            "border": null,
            "bottom": null,
            "display": null,
            "flex": null,
            "flex_flow": null,
            "grid_area": null,
            "grid_auto_columns": null,
            "grid_auto_flow": null,
            "grid_auto_rows": null,
            "grid_column": null,
            "grid_gap": null,
            "grid_row": null,
            "grid_template_areas": null,
            "grid_template_columns": null,
            "grid_template_rows": null,
            "height": null,
            "justify_content": null,
            "justify_items": null,
            "left": null,
            "margin": null,
            "max_height": null,
            "max_width": null,
            "min_height": null,
            "min_width": null,
            "object_fit": null,
            "object_position": null,
            "order": null,
            "overflow": null,
            "overflow_x": null,
            "overflow_y": null,
            "padding": null,
            "right": null,
            "top": null,
            "visibility": null,
            "width": null
          }
        },
        "13335a6266a2465c8c8f58606ba684e4": {
          "model_module": "@jupyter-widgets/controls",
          "model_name": "DescriptionStyleModel",
          "model_module_version": "1.5.0",
          "state": {
            "_model_module": "@jupyter-widgets/controls",
            "_model_module_version": "1.5.0",
            "_model_name": "DescriptionStyleModel",
            "_view_count": null,
            "_view_module": "@jupyter-widgets/base",
            "_view_module_version": "1.2.0",
            "_view_name": "StyleView",
            "description_width": ""
          }
        },
        "73aa55b4558749d39698cb45d246d9f8": {
          "model_module": "@jupyter-widgets/controls",
          "model_name": "HBoxModel",
          "model_module_version": "1.5.0",
          "state": {
            "_dom_classes": [],
            "_model_module": "@jupyter-widgets/controls",
            "_model_module_version": "1.5.0",
            "_model_name": "HBoxModel",
            "_view_count": null,
            "_view_module": "@jupyter-widgets/controls",
            "_view_module_version": "1.5.0",
            "_view_name": "HBoxView",
            "box_style": "",
            "children": [
              "IPY_MODEL_a29b03f8820d431cb7e7e68a54556312",
              "IPY_MODEL_eb91f7929c33418a8a29d3623f1c3828",
              "IPY_MODEL_5cb5f78042604f0e80ec4227a25edb87"
            ],
            "layout": "IPY_MODEL_640f1c7771694ad180cc1aa084eb5138"
          }
        },
        "a29b03f8820d431cb7e7e68a54556312": {
          "model_module": "@jupyter-widgets/controls",
          "model_name": "HTMLModel",
          "model_module_version": "1.5.0",
          "state": {
            "_dom_classes": [],
            "_model_module": "@jupyter-widgets/controls",
            "_model_module_version": "1.5.0",
            "_model_name": "HTMLModel",
            "_view_count": null,
            "_view_module": "@jupyter-widgets/controls",
            "_view_module_version": "1.5.0",
            "_view_name": "HTMLView",
            "description": "",
            "description_tooltip": null,
            "layout": "IPY_MODEL_e469dbdf809844f4a60acaf2f1ae4718",
            "placeholder": "​",
            "style": "IPY_MODEL_c2744efc15454c03b8e9291367f6f4fd",
            "value": "tokenizer_config.json: 100%"
          }
        },
        "eb91f7929c33418a8a29d3623f1c3828": {
          "model_module": "@jupyter-widgets/controls",
          "model_name": "FloatProgressModel",
          "model_module_version": "1.5.0",
          "state": {
            "_dom_classes": [],
            "_model_module": "@jupyter-widgets/controls",
            "_model_module_version": "1.5.0",
            "_model_name": "FloatProgressModel",
            "_view_count": null,
            "_view_module": "@jupyter-widgets/controls",
            "_view_module_version": "1.5.0",
            "_view_name": "ProgressView",
            "bar_style": "success",
            "description": "",
            "description_tooltip": null,
            "layout": "IPY_MODEL_8f954f44b4c144faaf770439f59d0986",
            "max": 1618,
            "min": 0,
            "orientation": "horizontal",
            "style": "IPY_MODEL_6ae9e8943e274b7abc4505cec3a82078",
            "value": 1618
          }
        },
        "5cb5f78042604f0e80ec4227a25edb87": {
          "model_module": "@jupyter-widgets/controls",
          "model_name": "HTMLModel",
          "model_module_version": "1.5.0",
          "state": {
            "_dom_classes": [],
            "_model_module": "@jupyter-widgets/controls",
            "_model_module_version": "1.5.0",
            "_model_name": "HTMLModel",
            "_view_count": null,
            "_view_module": "@jupyter-widgets/controls",
            "_view_module_version": "1.5.0",
            "_view_name": "HTMLView",
            "description": "",
            "description_tooltip": null,
            "layout": "IPY_MODEL_e1695ef4352342efbac321f1c1199d05",
            "placeholder": "​",
            "style": "IPY_MODEL_87d83aab830c44d2b8348464b34d6c67",
            "value": " 1.62k/1.62k [00:00&lt;00:00, 122kB/s]"
          }
        },
        "640f1c7771694ad180cc1aa084eb5138": {
          "model_module": "@jupyter-widgets/base",
          "model_name": "LayoutModel",
          "model_module_version": "1.2.0",
          "state": {
            "_model_module": "@jupyter-widgets/base",
            "_model_module_version": "1.2.0",
            "_model_name": "LayoutModel",
            "_view_count": null,
            "_view_module": "@jupyter-widgets/base",
            "_view_module_version": "1.2.0",
            "_view_name": "LayoutView",
            "align_content": null,
            "align_items": null,
            "align_self": null,
            "border": null,
            "bottom": null,
            "display": null,
            "flex": null,
            "flex_flow": null,
            "grid_area": null,
            "grid_auto_columns": null,
            "grid_auto_flow": null,
            "grid_auto_rows": null,
            "grid_column": null,
            "grid_gap": null,
            "grid_row": null,
            "grid_template_areas": null,
            "grid_template_columns": null,
            "grid_template_rows": null,
            "height": null,
            "justify_content": null,
            "justify_items": null,
            "left": null,
            "margin": null,
            "max_height": null,
            "max_width": null,
            "min_height": null,
            "min_width": null,
            "object_fit": null,
            "object_position": null,
            "order": null,
            "overflow": null,
            "overflow_x": null,
            "overflow_y": null,
            "padding": null,
            "right": null,
            "top": null,
            "visibility": null,
            "width": null
          }
        },
        "e469dbdf809844f4a60acaf2f1ae4718": {
          "model_module": "@jupyter-widgets/base",
          "model_name": "LayoutModel",
          "model_module_version": "1.2.0",
          "state": {
            "_model_module": "@jupyter-widgets/base",
            "_model_module_version": "1.2.0",
            "_model_name": "LayoutModel",
            "_view_count": null,
            "_view_module": "@jupyter-widgets/base",
            "_view_module_version": "1.2.0",
            "_view_name": "LayoutView",
            "align_content": null,
            "align_items": null,
            "align_self": null,
            "border": null,
            "bottom": null,
            "display": null,
            "flex": null,
            "flex_flow": null,
            "grid_area": null,
            "grid_auto_columns": null,
            "grid_auto_flow": null,
            "grid_auto_rows": null,
            "grid_column": null,
            "grid_gap": null,
            "grid_row": null,
            "grid_template_areas": null,
            "grid_template_columns": null,
            "grid_template_rows": null,
            "height": null,
            "justify_content": null,
            "justify_items": null,
            "left": null,
            "margin": null,
            "max_height": null,
            "max_width": null,
            "min_height": null,
            "min_width": null,
            "object_fit": null,
            "object_position": null,
            "order": null,
            "overflow": null,
            "overflow_x": null,
            "overflow_y": null,
            "padding": null,
            "right": null,
            "top": null,
            "visibility": null,
            "width": null
          }
        },
        "c2744efc15454c03b8e9291367f6f4fd": {
          "model_module": "@jupyter-widgets/controls",
          "model_name": "DescriptionStyleModel",
          "model_module_version": "1.5.0",
          "state": {
            "_model_module": "@jupyter-widgets/controls",
            "_model_module_version": "1.5.0",
            "_model_name": "DescriptionStyleModel",
            "_view_count": null,
            "_view_module": "@jupyter-widgets/base",
            "_view_module_version": "1.2.0",
            "_view_name": "StyleView",
            "description_width": ""
          }
        },
        "8f954f44b4c144faaf770439f59d0986": {
          "model_module": "@jupyter-widgets/base",
          "model_name": "LayoutModel",
          "model_module_version": "1.2.0",
          "state": {
            "_model_module": "@jupyter-widgets/base",
            "_model_module_version": "1.2.0",
            "_model_name": "LayoutModel",
            "_view_count": null,
            "_view_module": "@jupyter-widgets/base",
            "_view_module_version": "1.2.0",
            "_view_name": "LayoutView",
            "align_content": null,
            "align_items": null,
            "align_self": null,
            "border": null,
            "bottom": null,
            "display": null,
            "flex": null,
            "flex_flow": null,
            "grid_area": null,
            "grid_auto_columns": null,
            "grid_auto_flow": null,
            "grid_auto_rows": null,
            "grid_column": null,
            "grid_gap": null,
            "grid_row": null,
            "grid_template_areas": null,
            "grid_template_columns": null,
            "grid_template_rows": null,
            "height": null,
            "justify_content": null,
            "justify_items": null,
            "left": null,
            "margin": null,
            "max_height": null,
            "max_width": null,
            "min_height": null,
            "min_width": null,
            "object_fit": null,
            "object_position": null,
            "order": null,
            "overflow": null,
            "overflow_x": null,
            "overflow_y": null,
            "padding": null,
            "right": null,
            "top": null,
            "visibility": null,
            "width": null
          }
        },
        "6ae9e8943e274b7abc4505cec3a82078": {
          "model_module": "@jupyter-widgets/controls",
          "model_name": "ProgressStyleModel",
          "model_module_version": "1.5.0",
          "state": {
            "_model_module": "@jupyter-widgets/controls",
            "_model_module_version": "1.5.0",
            "_model_name": "ProgressStyleModel",
            "_view_count": null,
            "_view_module": "@jupyter-widgets/base",
            "_view_module_version": "1.2.0",
            "_view_name": "StyleView",
            "bar_color": null,
            "description_width": ""
          }
        },
        "e1695ef4352342efbac321f1c1199d05": {
          "model_module": "@jupyter-widgets/base",
          "model_name": "LayoutModel",
          "model_module_version": "1.2.0",
          "state": {
            "_model_module": "@jupyter-widgets/base",
            "_model_module_version": "1.2.0",
            "_model_name": "LayoutModel",
            "_view_count": null,
            "_view_module": "@jupyter-widgets/base",
            "_view_module_version": "1.2.0",
            "_view_name": "LayoutView",
            "align_content": null,
            "align_items": null,
            "align_self": null,
            "border": null,
            "bottom": null,
            "display": null,
            "flex": null,
            "flex_flow": null,
            "grid_area": null,
            "grid_auto_columns": null,
            "grid_auto_flow": null,
            "grid_auto_rows": null,
            "grid_column": null,
            "grid_gap": null,
            "grid_row": null,
            "grid_template_areas": null,
            "grid_template_columns": null,
            "grid_template_rows": null,
            "height": null,
            "justify_content": null,
            "justify_items": null,
            "left": null,
            "margin": null,
            "max_height": null,
            "max_width": null,
            "min_height": null,
            "min_width": null,
            "object_fit": null,
            "object_position": null,
            "order": null,
            "overflow": null,
            "overflow_x": null,
            "overflow_y": null,
            "padding": null,
            "right": null,
            "top": null,
            "visibility": null,
            "width": null
          }
        },
        "87d83aab830c44d2b8348464b34d6c67": {
          "model_module": "@jupyter-widgets/controls",
          "model_name": "DescriptionStyleModel",
          "model_module_version": "1.5.0",
          "state": {
            "_model_module": "@jupyter-widgets/controls",
            "_model_module_version": "1.5.0",
            "_model_name": "DescriptionStyleModel",
            "_view_count": null,
            "_view_module": "@jupyter-widgets/base",
            "_view_module_version": "1.2.0",
            "_view_name": "StyleView",
            "description_width": ""
          }
        },
        "362312a5ff3441eeaba7f9a3af8aaa44": {
          "model_module": "@jupyter-widgets/controls",
          "model_name": "HBoxModel",
          "model_module_version": "1.5.0",
          "state": {
            "_dom_classes": [],
            "_model_module": "@jupyter-widgets/controls",
            "_model_module_version": "1.5.0",
            "_model_name": "HBoxModel",
            "_view_count": null,
            "_view_module": "@jupyter-widgets/controls",
            "_view_module_version": "1.5.0",
            "_view_name": "HBoxView",
            "box_style": "",
            "children": [
              "IPY_MODEL_ab8e918658124b86bf3e4f32ae33a68a",
              "IPY_MODEL_73528819fb524f9085e5a17a17c07618",
              "IPY_MODEL_e9e29c1f19ac4819963714aa09d59add"
            ],
            "layout": "IPY_MODEL_ee1d4b287bb44c38bc3f98ec4198ee69"
          }
        },
        "ab8e918658124b86bf3e4f32ae33a68a": {
          "model_module": "@jupyter-widgets/controls",
          "model_name": "HTMLModel",
          "model_module_version": "1.5.0",
          "state": {
            "_dom_classes": [],
            "_model_module": "@jupyter-widgets/controls",
            "_model_module_version": "1.5.0",
            "_model_name": "HTMLModel",
            "_view_count": null,
            "_view_module": "@jupyter-widgets/controls",
            "_view_module_version": "1.5.0",
            "_view_name": "HTMLView",
            "description": "",
            "description_tooltip": null,
            "layout": "IPY_MODEL_a3535311321b424bb5e227e9bc4316a3",
            "placeholder": "​",
            "style": "IPY_MODEL_e427abe8958b4a5fa881dcb107b55bbc",
            "value": "tokenizer.model: 100%"
          }
        },
        "73528819fb524f9085e5a17a17c07618": {
          "model_module": "@jupyter-widgets/controls",
          "model_name": "FloatProgressModel",
          "model_module_version": "1.5.0",
          "state": {
            "_dom_classes": [],
            "_model_module": "@jupyter-widgets/controls",
            "_model_module_version": "1.5.0",
            "_model_name": "FloatProgressModel",
            "_view_count": null,
            "_view_module": "@jupyter-widgets/controls",
            "_view_module_version": "1.5.0",
            "_view_name": "ProgressView",
            "bar_style": "success",
            "description": "",
            "description_tooltip": null,
            "layout": "IPY_MODEL_ac6b1d24f44747d7ae6290848d253ba1",
            "max": 499723,
            "min": 0,
            "orientation": "horizontal",
            "style": "IPY_MODEL_927275c7cd5949fca99dc6e407621e95",
            "value": 499723
          }
        },
        "e9e29c1f19ac4819963714aa09d59add": {
          "model_module": "@jupyter-widgets/controls",
          "model_name": "HTMLModel",
          "model_module_version": "1.5.0",
          "state": {
            "_dom_classes": [],
            "_model_module": "@jupyter-widgets/controls",
            "_model_module_version": "1.5.0",
            "_model_name": "HTMLModel",
            "_view_count": null,
            "_view_module": "@jupyter-widgets/controls",
            "_view_module_version": "1.5.0",
            "_view_name": "HTMLView",
            "description": "",
            "description_tooltip": null,
            "layout": "IPY_MODEL_38766a1c9a1c4a31aafaee5189a466a2",
            "placeholder": "​",
            "style": "IPY_MODEL_f0a51f0e0edb4cf6a57eb4e54e3b715f",
            "value": " 500k/500k [00:00&lt;00:00, 28.6MB/s]"
          }
        },
        "ee1d4b287bb44c38bc3f98ec4198ee69": {
          "model_module": "@jupyter-widgets/base",
          "model_name": "LayoutModel",
          "model_module_version": "1.2.0",
          "state": {
            "_model_module": "@jupyter-widgets/base",
            "_model_module_version": "1.2.0",
            "_model_name": "LayoutModel",
            "_view_count": null,
            "_view_module": "@jupyter-widgets/base",
            "_view_module_version": "1.2.0",
            "_view_name": "LayoutView",
            "align_content": null,
            "align_items": null,
            "align_self": null,
            "border": null,
            "bottom": null,
            "display": null,
            "flex": null,
            "flex_flow": null,
            "grid_area": null,
            "grid_auto_columns": null,
            "grid_auto_flow": null,
            "grid_auto_rows": null,
            "grid_column": null,
            "grid_gap": null,
            "grid_row": null,
            "grid_template_areas": null,
            "grid_template_columns": null,
            "grid_template_rows": null,
            "height": null,
            "justify_content": null,
            "justify_items": null,
            "left": null,
            "margin": null,
            "max_height": null,
            "max_width": null,
            "min_height": null,
            "min_width": null,
            "object_fit": null,
            "object_position": null,
            "order": null,
            "overflow": null,
            "overflow_x": null,
            "overflow_y": null,
            "padding": null,
            "right": null,
            "top": null,
            "visibility": null,
            "width": null
          }
        },
        "a3535311321b424bb5e227e9bc4316a3": {
          "model_module": "@jupyter-widgets/base",
          "model_name": "LayoutModel",
          "model_module_version": "1.2.0",
          "state": {
            "_model_module": "@jupyter-widgets/base",
            "_model_module_version": "1.2.0",
            "_model_name": "LayoutModel",
            "_view_count": null,
            "_view_module": "@jupyter-widgets/base",
            "_view_module_version": "1.2.0",
            "_view_name": "LayoutView",
            "align_content": null,
            "align_items": null,
            "align_self": null,
            "border": null,
            "bottom": null,
            "display": null,
            "flex": null,
            "flex_flow": null,
            "grid_area": null,
            "grid_auto_columns": null,
            "grid_auto_flow": null,
            "grid_auto_rows": null,
            "grid_column": null,
            "grid_gap": null,
            "grid_row": null,
            "grid_template_areas": null,
            "grid_template_columns": null,
            "grid_template_rows": null,
            "height": null,
            "justify_content": null,
            "justify_items": null,
            "left": null,
            "margin": null,
            "max_height": null,
            "max_width": null,
            "min_height": null,
            "min_width": null,
            "object_fit": null,
            "object_position": null,
            "order": null,
            "overflow": null,
            "overflow_x": null,
            "overflow_y": null,
            "padding": null,
            "right": null,
            "top": null,
            "visibility": null,
            "width": null
          }
        },
        "e427abe8958b4a5fa881dcb107b55bbc": {
          "model_module": "@jupyter-widgets/controls",
          "model_name": "DescriptionStyleModel",
          "model_module_version": "1.5.0",
          "state": {
            "_model_module": "@jupyter-widgets/controls",
            "_model_module_version": "1.5.0",
            "_model_name": "DescriptionStyleModel",
            "_view_count": null,
            "_view_module": "@jupyter-widgets/base",
            "_view_module_version": "1.2.0",
            "_view_name": "StyleView",
            "description_width": ""
          }
        },
        "ac6b1d24f44747d7ae6290848d253ba1": {
          "model_module": "@jupyter-widgets/base",
          "model_name": "LayoutModel",
          "model_module_version": "1.2.0",
          "state": {
            "_model_module": "@jupyter-widgets/base",
            "_model_module_version": "1.2.0",
            "_model_name": "LayoutModel",
            "_view_count": null,
            "_view_module": "@jupyter-widgets/base",
            "_view_module_version": "1.2.0",
            "_view_name": "LayoutView",
            "align_content": null,
            "align_items": null,
            "align_self": null,
            "border": null,
            "bottom": null,
            "display": null,
            "flex": null,
            "flex_flow": null,
            "grid_area": null,
            "grid_auto_columns": null,
            "grid_auto_flow": null,
            "grid_auto_rows": null,
            "grid_column": null,
            "grid_gap": null,
            "grid_row": null,
            "grid_template_areas": null,
            "grid_template_columns": null,
            "grid_template_rows": null,
            "height": null,
            "justify_content": null,
            "justify_items": null,
            "left": null,
            "margin": null,
            "max_height": null,
            "max_width": null,
            "min_height": null,
            "min_width": null,
            "object_fit": null,
            "object_position": null,
            "order": null,
            "overflow": null,
            "overflow_x": null,
            "overflow_y": null,
            "padding": null,
            "right": null,
            "top": null,
            "visibility": null,
            "width": null
          }
        },
        "927275c7cd5949fca99dc6e407621e95": {
          "model_module": "@jupyter-widgets/controls",
          "model_name": "ProgressStyleModel",
          "model_module_version": "1.5.0",
          "state": {
            "_model_module": "@jupyter-widgets/controls",
            "_model_module_version": "1.5.0",
            "_model_name": "ProgressStyleModel",
            "_view_count": null,
            "_view_module": "@jupyter-widgets/base",
            "_view_module_version": "1.2.0",
            "_view_name": "StyleView",
            "bar_color": null,
            "description_width": ""
          }
        },
        "38766a1c9a1c4a31aafaee5189a466a2": {
          "model_module": "@jupyter-widgets/base",
          "model_name": "LayoutModel",
          "model_module_version": "1.2.0",
          "state": {
            "_model_module": "@jupyter-widgets/base",
            "_model_module_version": "1.2.0",
            "_model_name": "LayoutModel",
            "_view_count": null,
            "_view_module": "@jupyter-widgets/base",
            "_view_module_version": "1.2.0",
            "_view_name": "LayoutView",
            "align_content": null,
            "align_items": null,
            "align_self": null,
            "border": null,
            "bottom": null,
            "display": null,
            "flex": null,
            "flex_flow": null,
            "grid_area": null,
            "grid_auto_columns": null,
            "grid_auto_flow": null,
            "grid_auto_rows": null,
            "grid_column": null,
            "grid_gap": null,
            "grid_row": null,
            "grid_template_areas": null,
            "grid_template_columns": null,
            "grid_template_rows": null,
            "height": null,
            "justify_content": null,
            "justify_items": null,
            "left": null,
            "margin": null,
            "max_height": null,
            "max_width": null,
            "min_height": null,
            "min_width": null,
            "object_fit": null,
            "object_position": null,
            "order": null,
            "overflow": null,
            "overflow_x": null,
            "overflow_y": null,
            "padding": null,
            "right": null,
            "top": null,
            "visibility": null,
            "width": null
          }
        },
        "f0a51f0e0edb4cf6a57eb4e54e3b715f": {
          "model_module": "@jupyter-widgets/controls",
          "model_name": "DescriptionStyleModel",
          "model_module_version": "1.5.0",
          "state": {
            "_model_module": "@jupyter-widgets/controls",
            "_model_module_version": "1.5.0",
            "_model_name": "DescriptionStyleModel",
            "_view_count": null,
            "_view_module": "@jupyter-widgets/base",
            "_view_module_version": "1.2.0",
            "_view_name": "StyleView",
            "description_width": ""
          }
        },
        "9c2283928a2a4bcf8dd0007c76c6bf80": {
          "model_module": "@jupyter-widgets/controls",
          "model_name": "HBoxModel",
          "model_module_version": "1.5.0",
          "state": {
            "_dom_classes": [],
            "_model_module": "@jupyter-widgets/controls",
            "_model_module_version": "1.5.0",
            "_model_name": "HBoxModel",
            "_view_count": null,
            "_view_module": "@jupyter-widgets/controls",
            "_view_module_version": "1.5.0",
            "_view_name": "HBoxView",
            "box_style": "",
            "children": [
              "IPY_MODEL_b1acb6130d9444bfa83c38b6a70f158d",
              "IPY_MODEL_80f61e32ee4b4cc4bdf0af46f4cd8394",
              "IPY_MODEL_f49daa286c374b249e87c0dc7cf915c4"
            ],
            "layout": "IPY_MODEL_511e76431a2544ca9c2942d4df37046a"
          }
        },
        "b1acb6130d9444bfa83c38b6a70f158d": {
          "model_module": "@jupyter-widgets/controls",
          "model_name": "HTMLModel",
          "model_module_version": "1.5.0",
          "state": {
            "_dom_classes": [],
            "_model_module": "@jupyter-widgets/controls",
            "_model_module_version": "1.5.0",
            "_model_name": "HTMLModel",
            "_view_count": null,
            "_view_module": "@jupyter-widgets/controls",
            "_view_module_version": "1.5.0",
            "_view_name": "HTMLView",
            "description": "",
            "description_tooltip": null,
            "layout": "IPY_MODEL_5eb7ecec012640a8b418a0accc0b4f79",
            "placeholder": "​",
            "style": "IPY_MODEL_a1598e30cc244519b3fb9fec5b03eb88",
            "value": "tokenizer.json: 100%"
          }
        },
        "80f61e32ee4b4cc4bdf0af46f4cd8394": {
          "model_module": "@jupyter-widgets/controls",
          "model_name": "FloatProgressModel",
          "model_module_version": "1.5.0",
          "state": {
            "_dom_classes": [],
            "_model_module": "@jupyter-widgets/controls",
            "_model_module_version": "1.5.0",
            "_model_name": "FloatProgressModel",
            "_view_count": null,
            "_view_module": "@jupyter-widgets/controls",
            "_view_module_version": "1.5.0",
            "_view_name": "ProgressView",
            "bar_style": "success",
            "description": "",
            "description_tooltip": null,
            "layout": "IPY_MODEL_f2413e1216974478990b5c00fc5bb12b",
            "max": 1842767,
            "min": 0,
            "orientation": "horizontal",
            "style": "IPY_MODEL_708bb4531ba44e0a985735e3a3e543f6",
            "value": 1842767
          }
        },
        "f49daa286c374b249e87c0dc7cf915c4": {
          "model_module": "@jupyter-widgets/controls",
          "model_name": "HTMLModel",
          "model_module_version": "1.5.0",
          "state": {
            "_dom_classes": [],
            "_model_module": "@jupyter-widgets/controls",
            "_model_module_version": "1.5.0",
            "_model_name": "HTMLModel",
            "_view_count": null,
            "_view_module": "@jupyter-widgets/controls",
            "_view_module_version": "1.5.0",
            "_view_name": "HTMLView",
            "description": "",
            "description_tooltip": null,
            "layout": "IPY_MODEL_55258036febc4241a64e42c04b7b67ff",
            "placeholder": "​",
            "style": "IPY_MODEL_2a6afe4afffa45efb91c48a1e2fc4c18",
            "value": " 1.84M/1.84M [00:00&lt;00:00, 6.07MB/s]"
          }
        },
        "511e76431a2544ca9c2942d4df37046a": {
          "model_module": "@jupyter-widgets/base",
          "model_name": "LayoutModel",
          "model_module_version": "1.2.0",
          "state": {
            "_model_module": "@jupyter-widgets/base",
            "_model_module_version": "1.2.0",
            "_model_name": "LayoutModel",
            "_view_count": null,
            "_view_module": "@jupyter-widgets/base",
            "_view_module_version": "1.2.0",
            "_view_name": "LayoutView",
            "align_content": null,
            "align_items": null,
            "align_self": null,
            "border": null,
            "bottom": null,
            "display": null,
            "flex": null,
            "flex_flow": null,
            "grid_area": null,
            "grid_auto_columns": null,
            "grid_auto_flow": null,
            "grid_auto_rows": null,
            "grid_column": null,
            "grid_gap": null,
            "grid_row": null,
            "grid_template_areas": null,
            "grid_template_columns": null,
            "grid_template_rows": null,
            "height": null,
            "justify_content": null,
            "justify_items": null,
            "left": null,
            "margin": null,
            "max_height": null,
            "max_width": null,
            "min_height": null,
            "min_width": null,
            "object_fit": null,
            "object_position": null,
            "order": null,
            "overflow": null,
            "overflow_x": null,
            "overflow_y": null,
            "padding": null,
            "right": null,
            "top": null,
            "visibility": null,
            "width": null
          }
        },
        "5eb7ecec012640a8b418a0accc0b4f79": {
          "model_module": "@jupyter-widgets/base",
          "model_name": "LayoutModel",
          "model_module_version": "1.2.0",
          "state": {
            "_model_module": "@jupyter-widgets/base",
            "_model_module_version": "1.2.0",
            "_model_name": "LayoutModel",
            "_view_count": null,
            "_view_module": "@jupyter-widgets/base",
            "_view_module_version": "1.2.0",
            "_view_name": "LayoutView",
            "align_content": null,
            "align_items": null,
            "align_self": null,
            "border": null,
            "bottom": null,
            "display": null,
            "flex": null,
            "flex_flow": null,
            "grid_area": null,
            "grid_auto_columns": null,
            "grid_auto_flow": null,
            "grid_auto_rows": null,
            "grid_column": null,
            "grid_gap": null,
            "grid_row": null,
            "grid_template_areas": null,
            "grid_template_columns": null,
            "grid_template_rows": null,
            "height": null,
            "justify_content": null,
            "justify_items": null,
            "left": null,
            "margin": null,
            "max_height": null,
            "max_width": null,
            "min_height": null,
            "min_width": null,
            "object_fit": null,
            "object_position": null,
            "order": null,
            "overflow": null,
            "overflow_x": null,
            "overflow_y": null,
            "padding": null,
            "right": null,
            "top": null,
            "visibility": null,
            "width": null
          }
        },
        "a1598e30cc244519b3fb9fec5b03eb88": {
          "model_module": "@jupyter-widgets/controls",
          "model_name": "DescriptionStyleModel",
          "model_module_version": "1.5.0",
          "state": {
            "_model_module": "@jupyter-widgets/controls",
            "_model_module_version": "1.5.0",
            "_model_name": "DescriptionStyleModel",
            "_view_count": null,
            "_view_module": "@jupyter-widgets/base",
            "_view_module_version": "1.2.0",
            "_view_name": "StyleView",
            "description_width": ""
          }
        },
        "f2413e1216974478990b5c00fc5bb12b": {
          "model_module": "@jupyter-widgets/base",
          "model_name": "LayoutModel",
          "model_module_version": "1.2.0",
          "state": {
            "_model_module": "@jupyter-widgets/base",
            "_model_module_version": "1.2.0",
            "_model_name": "LayoutModel",
            "_view_count": null,
            "_view_module": "@jupyter-widgets/base",
            "_view_module_version": "1.2.0",
            "_view_name": "LayoutView",
            "align_content": null,
            "align_items": null,
            "align_self": null,
            "border": null,
            "bottom": null,
            "display": null,
            "flex": null,
            "flex_flow": null,
            "grid_area": null,
            "grid_auto_columns": null,
            "grid_auto_flow": null,
            "grid_auto_rows": null,
            "grid_column": null,
            "grid_gap": null,
            "grid_row": null,
            "grid_template_areas": null,
            "grid_template_columns": null,
            "grid_template_rows": null,
            "height": null,
            "justify_content": null,
            "justify_items": null,
            "left": null,
            "margin": null,
            "max_height": null,
            "max_width": null,
            "min_height": null,
            "min_width": null,
            "object_fit": null,
            "object_position": null,
            "order": null,
            "overflow": null,
            "overflow_x": null,
            "overflow_y": null,
            "padding": null,
            "right": null,
            "top": null,
            "visibility": null,
            "width": null
          }
        },
        "708bb4531ba44e0a985735e3a3e543f6": {
          "model_module": "@jupyter-widgets/controls",
          "model_name": "ProgressStyleModel",
          "model_module_version": "1.5.0",
          "state": {
            "_model_module": "@jupyter-widgets/controls",
            "_model_module_version": "1.5.0",
            "_model_name": "ProgressStyleModel",
            "_view_count": null,
            "_view_module": "@jupyter-widgets/base",
            "_view_module_version": "1.2.0",
            "_view_name": "StyleView",
            "bar_color": null,
            "description_width": ""
          }
        },
        "55258036febc4241a64e42c04b7b67ff": {
          "model_module": "@jupyter-widgets/base",
          "model_name": "LayoutModel",
          "model_module_version": "1.2.0",
          "state": {
            "_model_module": "@jupyter-widgets/base",
            "_model_module_version": "1.2.0",
            "_model_name": "LayoutModel",
            "_view_count": null,
            "_view_module": "@jupyter-widgets/base",
            "_view_module_version": "1.2.0",
            "_view_name": "LayoutView",
            "align_content": null,
            "align_items": null,
            "align_self": null,
            "border": null,
            "bottom": null,
            "display": null,
            "flex": null,
            "flex_flow": null,
            "grid_area": null,
            "grid_auto_columns": null,
            "grid_auto_flow": null,
            "grid_auto_rows": null,
            "grid_column": null,
            "grid_gap": null,
            "grid_row": null,
            "grid_template_areas": null,
            "grid_template_columns": null,
            "grid_template_rows": null,
            "height": null,
            "justify_content": null,
            "justify_items": null,
            "left": null,
            "margin": null,
            "max_height": null,
            "max_width": null,
            "min_height": null,
            "min_width": null,
            "object_fit": null,
            "object_position": null,
            "order": null,
            "overflow": null,
            "overflow_x": null,
            "overflow_y": null,
            "padding": null,
            "right": null,
            "top": null,
            "visibility": null,
            "width": null
          }
        },
        "2a6afe4afffa45efb91c48a1e2fc4c18": {
          "model_module": "@jupyter-widgets/controls",
          "model_name": "DescriptionStyleModel",
          "model_module_version": "1.5.0",
          "state": {
            "_model_module": "@jupyter-widgets/controls",
            "_model_module_version": "1.5.0",
            "_model_name": "DescriptionStyleModel",
            "_view_count": null,
            "_view_module": "@jupyter-widgets/base",
            "_view_module_version": "1.2.0",
            "_view_name": "StyleView",
            "description_width": ""
          }
        },
        "52b36721abf941eebeebcd472f6e6d2d": {
          "model_module": "@jupyter-widgets/controls",
          "model_name": "HBoxModel",
          "model_module_version": "1.5.0",
          "state": {
            "_dom_classes": [],
            "_model_module": "@jupyter-widgets/controls",
            "_model_module_version": "1.5.0",
            "_model_name": "HBoxModel",
            "_view_count": null,
            "_view_module": "@jupyter-widgets/controls",
            "_view_module_version": "1.5.0",
            "_view_name": "HBoxView",
            "box_style": "",
            "children": [
              "IPY_MODEL_05376c82e3ce47af93d83cc2848b70fd",
              "IPY_MODEL_e502ddc4a1724c1d93699f798e369713",
              "IPY_MODEL_cd297f43e53a44e387d595d09f385d42"
            ],
            "layout": "IPY_MODEL_cc19afc0fedb4de39c2689c25109dcd8"
          }
        },
        "05376c82e3ce47af93d83cc2848b70fd": {
          "model_module": "@jupyter-widgets/controls",
          "model_name": "HTMLModel",
          "model_module_version": "1.5.0",
          "state": {
            "_dom_classes": [],
            "_model_module": "@jupyter-widgets/controls",
            "_model_module_version": "1.5.0",
            "_model_name": "HTMLModel",
            "_view_count": null,
            "_view_module": "@jupyter-widgets/controls",
            "_view_module_version": "1.5.0",
            "_view_name": "HTMLView",
            "description": "",
            "description_tooltip": null,
            "layout": "IPY_MODEL_c3445abf9f1f45a7ba48e04456f589cf",
            "placeholder": "​",
            "style": "IPY_MODEL_075b2d8aacd14be89e21bb231bb4b3e7",
            "value": "special_tokens_map.json: 100%"
          }
        },
        "e502ddc4a1724c1d93699f798e369713": {
          "model_module": "@jupyter-widgets/controls",
          "model_name": "FloatProgressModel",
          "model_module_version": "1.5.0",
          "state": {
            "_dom_classes": [],
            "_model_module": "@jupyter-widgets/controls",
            "_model_module_version": "1.5.0",
            "_model_name": "FloatProgressModel",
            "_view_count": null,
            "_view_module": "@jupyter-widgets/controls",
            "_view_module_version": "1.5.0",
            "_view_name": "ProgressView",
            "bar_style": "success",
            "description": "",
            "description_tooltip": null,
            "layout": "IPY_MODEL_9a3d733e5f60471abffc488c7195dd16",
            "max": 414,
            "min": 0,
            "orientation": "horizontal",
            "style": "IPY_MODEL_aab8408236004ec4a104fad3cff07816",
            "value": 414
          }
        },
        "cd297f43e53a44e387d595d09f385d42": {
          "model_module": "@jupyter-widgets/controls",
          "model_name": "HTMLModel",
          "model_module_version": "1.5.0",
          "state": {
            "_dom_classes": [],
            "_model_module": "@jupyter-widgets/controls",
            "_model_module_version": "1.5.0",
            "_model_name": "HTMLModel",
            "_view_count": null,
            "_view_module": "@jupyter-widgets/controls",
            "_view_module_version": "1.5.0",
            "_view_name": "HTMLView",
            "description": "",
            "description_tooltip": null,
            "layout": "IPY_MODEL_8fb34278b6834c1baed5e553be705a23",
            "placeholder": "​",
            "style": "IPY_MODEL_c964842f2b8441c8b6bb5b78ba1df49d",
            "value": " 414/414 [00:00&lt;00:00, 30.5kB/s]"
          }
        },
        "cc19afc0fedb4de39c2689c25109dcd8": {
          "model_module": "@jupyter-widgets/base",
          "model_name": "LayoutModel",
          "model_module_version": "1.2.0",
          "state": {
            "_model_module": "@jupyter-widgets/base",
            "_model_module_version": "1.2.0",
            "_model_name": "LayoutModel",
            "_view_count": null,
            "_view_module": "@jupyter-widgets/base",
            "_view_module_version": "1.2.0",
            "_view_name": "LayoutView",
            "align_content": null,
            "align_items": null,
            "align_self": null,
            "border": null,
            "bottom": null,
            "display": null,
            "flex": null,
            "flex_flow": null,
            "grid_area": null,
            "grid_auto_columns": null,
            "grid_auto_flow": null,
            "grid_auto_rows": null,
            "grid_column": null,
            "grid_gap": null,
            "grid_row": null,
            "grid_template_areas": null,
            "grid_template_columns": null,
            "grid_template_rows": null,
            "height": null,
            "justify_content": null,
            "justify_items": null,
            "left": null,
            "margin": null,
            "max_height": null,
            "max_width": null,
            "min_height": null,
            "min_width": null,
            "object_fit": null,
            "object_position": null,
            "order": null,
            "overflow": null,
            "overflow_x": null,
            "overflow_y": null,
            "padding": null,
            "right": null,
            "top": null,
            "visibility": null,
            "width": null
          }
        },
        "c3445abf9f1f45a7ba48e04456f589cf": {
          "model_module": "@jupyter-widgets/base",
          "model_name": "LayoutModel",
          "model_module_version": "1.2.0",
          "state": {
            "_model_module": "@jupyter-widgets/base",
            "_model_module_version": "1.2.0",
            "_model_name": "LayoutModel",
            "_view_count": null,
            "_view_module": "@jupyter-widgets/base",
            "_view_module_version": "1.2.0",
            "_view_name": "LayoutView",
            "align_content": null,
            "align_items": null,
            "align_self": null,
            "border": null,
            "bottom": null,
            "display": null,
            "flex": null,
            "flex_flow": null,
            "grid_area": null,
            "grid_auto_columns": null,
            "grid_auto_flow": null,
            "grid_auto_rows": null,
            "grid_column": null,
            "grid_gap": null,
            "grid_row": null,
            "grid_template_areas": null,
            "grid_template_columns": null,
            "grid_template_rows": null,
            "height": null,
            "justify_content": null,
            "justify_items": null,
            "left": null,
            "margin": null,
            "max_height": null,
            "max_width": null,
            "min_height": null,
            "min_width": null,
            "object_fit": null,
            "object_position": null,
            "order": null,
            "overflow": null,
            "overflow_x": null,
            "overflow_y": null,
            "padding": null,
            "right": null,
            "top": null,
            "visibility": null,
            "width": null
          }
        },
        "075b2d8aacd14be89e21bb231bb4b3e7": {
          "model_module": "@jupyter-widgets/controls",
          "model_name": "DescriptionStyleModel",
          "model_module_version": "1.5.0",
          "state": {
            "_model_module": "@jupyter-widgets/controls",
            "_model_module_version": "1.5.0",
            "_model_name": "DescriptionStyleModel",
            "_view_count": null,
            "_view_module": "@jupyter-widgets/base",
            "_view_module_version": "1.2.0",
            "_view_name": "StyleView",
            "description_width": ""
          }
        },
        "9a3d733e5f60471abffc488c7195dd16": {
          "model_module": "@jupyter-widgets/base",
          "model_name": "LayoutModel",
          "model_module_version": "1.2.0",
          "state": {
            "_model_module": "@jupyter-widgets/base",
            "_model_module_version": "1.2.0",
            "_model_name": "LayoutModel",
            "_view_count": null,
            "_view_module": "@jupyter-widgets/base",
            "_view_module_version": "1.2.0",
            "_view_name": "LayoutView",
            "align_content": null,
            "align_items": null,
            "align_self": null,
            "border": null,
            "bottom": null,
            "display": null,
            "flex": null,
            "flex_flow": null,
            "grid_area": null,
            "grid_auto_columns": null,
            "grid_auto_flow": null,
            "grid_auto_rows": null,
            "grid_column": null,
            "grid_gap": null,
            "grid_row": null,
            "grid_template_areas": null,
            "grid_template_columns": null,
            "grid_template_rows": null,
            "height": null,
            "justify_content": null,
            "justify_items": null,
            "left": null,
            "margin": null,
            "max_height": null,
            "max_width": null,
            "min_height": null,
            "min_width": null,
            "object_fit": null,
            "object_position": null,
            "order": null,
            "overflow": null,
            "overflow_x": null,
            "overflow_y": null,
            "padding": null,
            "right": null,
            "top": null,
            "visibility": null,
            "width": null
          }
        },
        "aab8408236004ec4a104fad3cff07816": {
          "model_module": "@jupyter-widgets/controls",
          "model_name": "ProgressStyleModel",
          "model_module_version": "1.5.0",
          "state": {
            "_model_module": "@jupyter-widgets/controls",
            "_model_module_version": "1.5.0",
            "_model_name": "ProgressStyleModel",
            "_view_count": null,
            "_view_module": "@jupyter-widgets/base",
            "_view_module_version": "1.2.0",
            "_view_name": "StyleView",
            "bar_color": null,
            "description_width": ""
          }
        },
        "8fb34278b6834c1baed5e553be705a23": {
          "model_module": "@jupyter-widgets/base",
          "model_name": "LayoutModel",
          "model_module_version": "1.2.0",
          "state": {
            "_model_module": "@jupyter-widgets/base",
            "_model_module_version": "1.2.0",
            "_model_name": "LayoutModel",
            "_view_count": null,
            "_view_module": "@jupyter-widgets/base",
            "_view_module_version": "1.2.0",
            "_view_name": "LayoutView",
            "align_content": null,
            "align_items": null,
            "align_self": null,
            "border": null,
            "bottom": null,
            "display": null,
            "flex": null,
            "flex_flow": null,
            "grid_area": null,
            "grid_auto_columns": null,
            "grid_auto_flow": null,
            "grid_auto_rows": null,
            "grid_column": null,
            "grid_gap": null,
            "grid_row": null,
            "grid_template_areas": null,
            "grid_template_columns": null,
            "grid_template_rows": null,
            "height": null,
            "justify_content": null,
            "justify_items": null,
            "left": null,
            "margin": null,
            "max_height": null,
            "max_width": null,
            "min_height": null,
            "min_width": null,
            "object_fit": null,
            "object_position": null,
            "order": null,
            "overflow": null,
            "overflow_x": null,
            "overflow_y": null,
            "padding": null,
            "right": null,
            "top": null,
            "visibility": null,
            "width": null
          }
        },
        "c964842f2b8441c8b6bb5b78ba1df49d": {
          "model_module": "@jupyter-widgets/controls",
          "model_name": "DescriptionStyleModel",
          "model_module_version": "1.5.0",
          "state": {
            "_model_module": "@jupyter-widgets/controls",
            "_model_module_version": "1.5.0",
            "_model_name": "DescriptionStyleModel",
            "_view_count": null,
            "_view_module": "@jupyter-widgets/base",
            "_view_module_version": "1.2.0",
            "_view_name": "StyleView",
            "description_width": ""
          }
        }
      }
    },
    "accelerator": "GPU"
  },
  "cells": [
    {
      "cell_type": "markdown",
      "source": [
        "#RetrievalQA - advanced techniques\n",
        "\n",
        "RAG - retrieval augmented generation - is an antidote for contemporary LLMs hallucinations. However, naive RAG is prone to making up facts and not leveraging the knowledge base it has access to. In this notebook we will present techniques for efficient managing available knowledge, advanced retrieval techniqes and reranking capabilities. We base our design on:\n",
        " - LangChain RetrievalQA along with Faiss vectore store\n",
        " - Llama2-13B as the LLM answer generator\n",
        " - Popular SentenceTransformers embeddings\n",
        "\n",
        "We are going to build solution for two datasets:\n",
        "1. relatively straightforward books releases dataset\n",
        "2. intricate cosmology articles dataset\n",
        "\n",
        "Both of these datasets were scraped from latest articles/data from September 2023 to test the LLM behaviour against data it didn't see."
      ],
      "metadata": {
        "id": "L1IHpoeItz4q"
      }
    },
    {
      "cell_type": "code",
      "execution_count": null,
      "metadata": {
        "colab": {
          "base_uri": "https://localhost:8080/"
        },
        "id": "mRlFI2lhtvU6",
        "outputId": "c8230ef5-386c-4d8c-e9d8-07458ba5dd56"
      },
      "outputs": [
        {
          "output_type": "stream",
          "name": "stdout",
          "text": [
            "\u001b[2K     \u001b[90m━━━━━━━━━━━━━━━━━━━━━━━━━━━━━━━━━━━━━━━━\u001b[0m \u001b[32m7.4/7.4 MB\u001b[0m \u001b[31m18.1 MB/s\u001b[0m eta \u001b[36m0:00:00\u001b[0m\n",
            "\u001b[2K     \u001b[90m━━━━━━━━━━━━━━━━━━━━━━━━━━━━━━━━━━━━━━━━\u001b[0m \u001b[32m86.0/86.0 kB\u001b[0m \u001b[31m10.3 MB/s\u001b[0m eta \u001b[36m0:00:00\u001b[0m\n",
            "\u001b[?25h  Preparing metadata (setup.py) ... \u001b[?25l\u001b[?25hdone\n",
            "\u001b[2K     \u001b[90m━━━━━━━━━━━━━━━━━━━━━━━━━━━━━━━━━━━━━━━━\u001b[0m \u001b[32m179.1/179.1 kB\u001b[0m \u001b[31m17.8 MB/s\u001b[0m eta \u001b[36m0:00:00\u001b[0m\n",
            "\u001b[2K     \u001b[90m━━━━━━━━━━━━━━━━━━━━━━━━━━━━━━━━━━━━━━━━\u001b[0m \u001b[32m492.2/492.2 kB\u001b[0m \u001b[31m26.7 MB/s\u001b[0m eta \u001b[36m0:00:00\u001b[0m\n",
            "\u001b[2K     \u001b[90m━━━━━━━━━━━━━━━━━━━━━━━━━━━━━━━━━━━━━━━━\u001b[0m \u001b[32m244.2/244.2 kB\u001b[0m \u001b[31m24.7 MB/s\u001b[0m eta \u001b[36m0:00:00\u001b[0m\n",
            "\u001b[2K     \u001b[90m━━━━━━━━━━━━━━━━━━━━━━━━━━━━━━━━━━━━━━━━\u001b[0m \u001b[32m42.2/42.2 kB\u001b[0m \u001b[31m4.7 MB/s\u001b[0m eta \u001b[36m0:00:00\u001b[0m\n",
            "\u001b[2K     \u001b[90m━━━━━━━━━━━━━━━━━━━━━━━━━━━━━━━━━━━━━━━━\u001b[0m \u001b[32m1.4/1.4 MB\u001b[0m \u001b[31m45.0 MB/s\u001b[0m eta \u001b[36m0:00:00\u001b[0m\n",
            "\u001b[2K     \u001b[90m━━━━━━━━━━━━━━━━━━━━━━━━━━━━━━━━━━━━━━━━\u001b[0m \u001b[32m109.1/109.1 MB\u001b[0m \u001b[31m14.7 MB/s\u001b[0m eta \u001b[36m0:00:00\u001b[0m\n",
            "\u001b[2K     \u001b[90m━━━━━━━━━━━━━━━━━━━━━━━━━━━━━━━━━━━━━━━━\u001b[0m \u001b[32m92.6/92.6 MB\u001b[0m \u001b[31m14.6 MB/s\u001b[0m eta \u001b[36m0:00:00\u001b[0m\n",
            "\u001b[2K     \u001b[90m━━━━━━━━━━━━━━━━━━━━━━━━━━━━━━━━━━━━━━━━\u001b[0m \u001b[32m85.5/85.5 MB\u001b[0m \u001b[31m18.5 MB/s\u001b[0m eta \u001b[36m0:00:00\u001b[0m\n",
            "\u001b[2K     \u001b[90m━━━━━━━━━━━━━━━━━━━━━━━━━━━━━━━━━━━━━━━━\u001b[0m \u001b[32m15.7/15.7 MB\u001b[0m \u001b[31m74.6 MB/s\u001b[0m eta \u001b[36m0:00:00\u001b[0m\n",
            "\u001b[2K     \u001b[90m━━━━━━━━━━━━━━━━━━━━━━━━━━━━━━━━━━━━━━━━\u001b[0m \u001b[32m7.8/7.8 MB\u001b[0m \u001b[31m91.0 MB/s\u001b[0m eta \u001b[36m0:00:00\u001b[0m\n",
            "\u001b[2K     \u001b[90m━━━━━━━━━━━━━━━━━━━━━━━━━━━━━━━━━━━━━━━━\u001b[0m \u001b[32m1.3/1.3 MB\u001b[0m \u001b[31m67.1 MB/s\u001b[0m eta \u001b[36m0:00:00\u001b[0m\n",
            "\u001b[2K     \u001b[90m━━━━━━━━━━━━━━━━━━━━━━━━━━━━━━━━━━━━━━━━\u001b[0m \u001b[32m62.5/62.5 kB\u001b[0m \u001b[31m7.3 MB/s\u001b[0m eta \u001b[36m0:00:00\u001b[0m\n",
            "\u001b[2K     \u001b[90m━━━━━━━━━━━━━━━━━━━━━━━━━━━━━━━━━━━━━━━━\u001b[0m \u001b[32m300.4/300.4 kB\u001b[0m \u001b[31m29.2 MB/s\u001b[0m eta \u001b[36m0:00:00\u001b[0m\n",
            "\u001b[2K     \u001b[90m━━━━━━━━━━━━━━━━━━━━━━━━━━━━━━━━━━━━━━━━\u001b[0m \u001b[32m115.3/115.3 kB\u001b[0m \u001b[31m13.3 MB/s\u001b[0m eta \u001b[36m0:00:00\u001b[0m\n",
            "\u001b[2K     \u001b[90m━━━━━━━━━━━━━━━━━━━━━━━━━━━━━━━━━━━━━━━━\u001b[0m \u001b[32m134.8/134.8 kB\u001b[0m \u001b[31m16.4 MB/s\u001b[0m eta \u001b[36m0:00:00\u001b[0m\n",
            "\u001b[2K     \u001b[90m━━━━━━━━━━━━━━━━━━━━━━━━━━━━━━━━━━━━━━━━\u001b[0m \u001b[32m46.3/46.3 kB\u001b[0m \u001b[31m5.3 MB/s\u001b[0m eta \u001b[36m0:00:00\u001b[0m\n",
            "\u001b[2K     \u001b[90m━━━━━━━━━━━━━━━━━━━━━━━━━━━━━━━━━━━━━━━━\u001b[0m \u001b[32m90.0/90.0 kB\u001b[0m \u001b[31m10.7 MB/s\u001b[0m eta \u001b[36m0:00:00\u001b[0m\n",
            "\u001b[2K     \u001b[90m━━━━━━━━━━━━━━━━━━━━━━━━━━━━━━━━━━━━━━━━\u001b[0m \u001b[32m619.9/619.9 MB\u001b[0m \u001b[31m2.3 MB/s\u001b[0m eta \u001b[36m0:00:00\u001b[0m\n",
            "\u001b[2K     \u001b[90m━━━━━━━━━━━━━━━━━━━━━━━━━━━━━━━━━━━━━━━━\u001b[0m \u001b[32m21.0/21.0 MB\u001b[0m \u001b[31m66.8 MB/s\u001b[0m eta \u001b[36m0:00:00\u001b[0m\n",
            "\u001b[2K     \u001b[90m━━━━━━━━━━━━━━━━━━━━━━━━━━━━━━━━━━━━━━━━\u001b[0m \u001b[32m849.3/849.3 kB\u001b[0m \u001b[31m58.7 MB/s\u001b[0m eta \u001b[36m0:00:00\u001b[0m\n",
            "\u001b[2K     \u001b[90m━━━━━━━━━━━━━━━━━━━━━━━━━━━━━━━━━━━━━━━━\u001b[0m \u001b[32m11.8/11.8 MB\u001b[0m \u001b[31m95.9 MB/s\u001b[0m eta \u001b[36m0:00:00\u001b[0m\n",
            "\u001b[2K     \u001b[90m━━━━━━━━━━━━━━━━━━━━━━━━━━━━━━━━━━━━━━━━\u001b[0m \u001b[32m557.1/557.1 MB\u001b[0m \u001b[31m2.6 MB/s\u001b[0m eta \u001b[36m0:00:00\u001b[0m\n",
            "\u001b[2K     \u001b[90m━━━━━━━━━━━━━━━━━━━━━━━━━━━━━━━━━━━━━━━━\u001b[0m \u001b[32m317.1/317.1 MB\u001b[0m \u001b[31m2.9 MB/s\u001b[0m eta \u001b[36m0:00:00\u001b[0m\n",
            "\u001b[2K     \u001b[90m━━━━━━━━━━━━━━━━━━━━━━━━━━━━━━━━━━━━━━━━\u001b[0m \u001b[32m168.4/168.4 MB\u001b[0m \u001b[31m9.2 MB/s\u001b[0m eta \u001b[36m0:00:00\u001b[0m\n",
            "\u001b[2K     \u001b[90m━━━━━━━━━━━━━━━━━━━━━━━━━━━━━━━━━━━━━━━━\u001b[0m \u001b[32m54.6/54.6 MB\u001b[0m \u001b[31m27.3 MB/s\u001b[0m eta \u001b[36m0:00:00\u001b[0m\n",
            "\u001b[2K     \u001b[90m━━━━━━━━━━━━━━━━━━━━━━━━━━━━━━━━━━━━━━━━\u001b[0m \u001b[32m102.6/102.6 MB\u001b[0m \u001b[31m8.8 MB/s\u001b[0m eta \u001b[36m0:00:00\u001b[0m\n",
            "\u001b[2K     \u001b[90m━━━━━━━━━━━━━━━━━━━━━━━━━━━━━━━━━━━━━━━━\u001b[0m \u001b[32m173.2/173.2 MB\u001b[0m \u001b[31m4.6 MB/s\u001b[0m eta \u001b[36m0:00:00\u001b[0m\n",
            "\u001b[2K     \u001b[90m━━━━━━━━━━━━━━━━━━━━━━━━━━━━━━━━━━━━━━━━\u001b[0m \u001b[32m177.1/177.1 MB\u001b[0m \u001b[31m5.3 MB/s\u001b[0m eta \u001b[36m0:00:00\u001b[0m\n",
            "\u001b[2K     \u001b[90m━━━━━━━━━━━━━━━━━━━━━━━━━━━━━━━━━━━━━━━━\u001b[0m \u001b[32m98.6/98.6 kB\u001b[0m \u001b[31m12.3 MB/s\u001b[0m eta \u001b[36m0:00:00\u001b[0m\n",
            "\u001b[2K     \u001b[90m━━━━━━━━━━━━━━━━━━━━━━━━━━━━━━━━━━━━━━━━\u001b[0m \u001b[32m63.3/63.3 MB\u001b[0m \u001b[31m24.3 MB/s\u001b[0m eta \u001b[36m0:00:00\u001b[0m\n",
            "\u001b[2K     \u001b[90m━━━━━━━━━━━━━━━━━━━━━━━━━━━━━━━━━━━━━━━━\u001b[0m \u001b[32m153.0/153.0 kB\u001b[0m \u001b[31m17.6 MB/s\u001b[0m eta \u001b[36m0:00:00\u001b[0m\n",
            "\u001b[?25h  Installing build dependencies ... \u001b[?25l\u001b[?25hdone\n",
            "  Getting requirements to build wheel ... \u001b[?25l\u001b[?25hdone\n",
            "  Installing backend dependencies ... \u001b[?25l\u001b[?25hdone\n",
            "  Preparing metadata (pyproject.toml) ... \u001b[?25l\u001b[?25hdone\n",
            "\u001b[2K     \u001b[90m━━━━━━━━━━━━━━━━━━━━━━━━━━━━━━━━━━━━━━━━\u001b[0m \u001b[32m143.0/143.0 kB\u001b[0m \u001b[31m16.6 MB/s\u001b[0m eta \u001b[36m0:00:00\u001b[0m\n",
            "\u001b[2K     \u001b[90m━━━━━━━━━━━━━━━━━━━━━━━━━━━━━━━━━━━━━━━━\u001b[0m \u001b[32m75.9/75.9 kB\u001b[0m \u001b[31m9.3 MB/s\u001b[0m eta \u001b[36m0:00:00\u001b[0m\n",
            "\u001b[2K     \u001b[90m━━━━━━━━━━━━━━━━━━━━━━━━━━━━━━━━━━━━━━━━\u001b[0m \u001b[32m225.4/225.4 kB\u001b[0m \u001b[31m25.0 MB/s\u001b[0m eta \u001b[36m0:00:00\u001b[0m\n",
            "\u001b[2K     \u001b[90m━━━━━━━━━━━━━━━━━━━━━━━━━━━━━━━━━━━━━━━━\u001b[0m \u001b[32m2.0/2.0 MB\u001b[0m \u001b[31m81.1 MB/s\u001b[0m eta \u001b[36m0:00:00\u001b[0m\n",
            "\u001b[2K     \u001b[90m━━━━━━━━━━━━━━━━━━━━━━━━━━━━━━━━━━━━━━━━\u001b[0m \u001b[32m49.4/49.4 kB\u001b[0m \u001b[31m5.5 MB/s\u001b[0m eta \u001b[36m0:00:00\u001b[0m\n",
            "\u001b[2K     \u001b[90m━━━━━━━━━━━━━━━━━━━━━━━━━━━━━━━━━━━━━━━━\u001b[0m \u001b[32m76.9/76.9 kB\u001b[0m \u001b[31m9.3 MB/s\u001b[0m eta \u001b[36m0:00:00\u001b[0m\n",
            "\u001b[2K     \u001b[90m━━━━━━━━━━━━━━━━━━━━━━━━━━━━━━━━━━━━━━━━\u001b[0m \u001b[32m58.3/58.3 kB\u001b[0m \u001b[31m7.5 MB/s\u001b[0m eta \u001b[36m0:00:00\u001b[0m\n",
            "\u001b[2K     \u001b[90m━━━━━━━━━━━━━━━━━━━━━━━━━━━━━━━━━━━━━━━━\u001b[0m \u001b[32m6.8/6.8 MB\u001b[0m \u001b[31m102.1 MB/s\u001b[0m eta \u001b[36m0:00:00\u001b[0m\n",
            "\u001b[2K     \u001b[90m━━━━━━━━━━━━━━━━━━━━━━━━━━━━━━━━━━━━━━━━\u001b[0m \u001b[32m6.8/6.8 MB\u001b[0m \u001b[31m90.3 MB/s\u001b[0m eta \u001b[36m0:00:00\u001b[0m\n",
            "\u001b[2K     \u001b[90m━━━━━━━━━━━━━━━━━━━━━━━━━━━━━━━━━━━━━━━━\u001b[0m \u001b[32m6.9/6.9 MB\u001b[0m \u001b[31m97.8 MB/s\u001b[0m eta \u001b[36m0:00:00\u001b[0m\n",
            "\u001b[2K     \u001b[90m━━━━━━━━━━━━━━━━━━━━━━━━━━━━━━━━━━━━━━━━\u001b[0m \u001b[32m6.0/6.0 MB\u001b[0m \u001b[31m97.7 MB/s\u001b[0m eta \u001b[36m0:00:00\u001b[0m\n",
            "\u001b[?25h  Building wheel for sentence-transformers (setup.py) ... \u001b[?25l\u001b[?25hdone\n",
            "  Building wheel for lit (pyproject.toml) ... \u001b[?25l\u001b[?25hdone\n",
            "\u001b[31mERROR: pip's dependency resolver does not currently take into account all the packages that are installed. This behaviour is the source of the following dependency conflicts.\n",
            "llmx 0.0.15a0 requires cohere, which is not installed.\n",
            "tensorflow-probability 0.22.0 requires typing-extensions<4.6.0, but you have typing-extensions 4.9.0 which is incompatible.\n",
            "torchaudio 2.1.0+cu121 requires torch==2.1.0, but you have torch 2.0.1 which is incompatible.\n",
            "torchdata 0.7.0 requires torch==2.1.0, but you have torch 2.0.1 which is incompatible.\n",
            "torchtext 0.16.0 requires torch==2.1.0, but you have torch 2.0.1 which is incompatible.\u001b[0m\u001b[31m\n",
            "\u001b[0m"
          ]
        }
      ],
      "source": [
        "!pip install -qU \\\n",
        "  transformers==4.31.0 \\\n",
        "  sentence-transformers==2.2.2 \\\n",
        "  pinecone-client==2.2.2 \\\n",
        "  datasets==2.14.0 \\\n",
        "  accelerate==0.21.0 \\\n",
        "  einops==0.6.1 \\\n",
        "  langchain==0.0.240 \\\n",
        "  xformers==0.0.20 \\\n",
        "  bitsandbytes==0.41.0 \\\n",
        "  faiss-gpu \\\n",
        "  llama_index"
      ]
    },
    {
      "cell_type": "code",
      "source": [
        "import os\n",
        "os.environ['HF_API_KEY'] = ''"
      ],
      "metadata": {
        "id": "3BnatySMERyc"
      },
      "execution_count": null,
      "outputs": []
    },
    {
      "cell_type": "markdown",
      "source": [
        "#1. Get data about latest books releases\n",
        "\n",
        "This is a small collections (105 samples) of September novel releases scraped from [goodreads.com](https://www.goodreads.com/book/popular_by_date/2023/9?ref=nav_brws_newrels)"
      ],
      "metadata": {
        "id": "KYLP-oaeAyhe"
      }
    },
    {
      "cell_type": "code",
      "source": [
        "# load csv data from drive to dataframe and then load it to Dataset dataset\n",
        "from datasets import Dataset\n",
        "import pandas as pd\n",
        "\n",
        "\n",
        "books_df = pd.read_csv(\"/content/drive/MyDrive/ML/data/book_releases_september.csv\")\n",
        "books_ds = Dataset.from_pandas(books_df)\n",
        "len(books_ds), books_ds[50]"
      ],
      "metadata": {
        "colab": {
          "base_uri": "https://localhost:8080/"
        },
        "id": "AjgHwDfuAxf2",
        "outputId": "7d48375c-99b9-4e65-cd58-37e3aae7511f"
      },
      "execution_count": null,
      "outputs": [
        {
          "output_type": "execute_result",
          "data": {
            "text/plain": [
              "(105,\n",
              " {'id': 'kca://book/amzn1.gr.book.v3.SfQ5kz2CwD7dIfuz',\n",
              "  'title': 'Witch of Wild Things',\n",
              "  'description': 'Legend goes that long ago a Flores woman offended the old gods, and their family was cursed as a result. Now, every woman born to the family has a touch of magic.\\xa0Sage Flores has been running from her family—and their “gifts”—ever since her younger sister Sky died. Eight years later, Sage reluctantly returns to her hometown. Like slipping into an old, comforting sweater, Sage takes back her job at Cranberry Rose Company and uses her ability to communicate with plants to discover unusual heritage specimens in the surrounding lands.What should be a simple task is complicated by her partner in botany sleuthing: Tennessee Reyes. He broke her heart in high school, and she never fully recovered. Working together is reminding her of all their past tender, genuine moments—and new feelings for this mature sexy man are starting to take root in her heart.With rare plants to find, a dead sister who keeps bringing her coffee, and another sister whose anger fills the sky with lightning, Sage doesn’t have time for romance. But being with Tenn is like standing in the middle of a field on the cusp of a summer thunderstorm—supercharged and inevitable.',\n",
              "  'webUrl': 'https://www.goodreads.com/book/show/71872920-witch-of-wild-things',\n",
              "  'author': 'Raquel Vasquez Gilliland',\n",
              "  'rank': 51})"
            ]
          },
          "metadata": {},
          "execution_count": 3
        }
      ]
    },
    {
      "cell_type": "code",
      "source": [
        "len(books_df[books_df['description'].isnull()]), len(books_df[books_df['title'].isnull()]), len(books_df[books_df['author'].isnull()])"
      ],
      "metadata": {
        "id": "EfAi4q7xwDGi",
        "colab": {
          "base_uri": "https://localhost:8080/"
        },
        "outputId": "6517fc9b-ae02-4c2a-df72-07d030d6ca93"
      },
      "execution_count": null,
      "outputs": [
        {
          "output_type": "execute_result",
          "data": {
            "text/plain": [
              "(2, 0, 0)"
            ]
          },
          "metadata": {},
          "execution_count": 31
        }
      ]
    },
    {
      "cell_type": "code",
      "source": [
        "# Replacing NaN values with an empty string\n",
        "books_df.fillna('', inplace=True)"
      ],
      "metadata": {
        "id": "2ADlUQQbCDzF"
      },
      "execution_count": null,
      "outputs": []
    },
    {
      "cell_type": "code",
      "source": [
        "len(books_df[books_df['description'].isnull()])"
      ],
      "metadata": {
        "colab": {
          "base_uri": "https://localhost:8080/"
        },
        "id": "9b41uL8iCDwW",
        "outputId": "2f471cc7-c353-47e4-b78e-972e71285e16"
      },
      "execution_count": null,
      "outputs": [
        {
          "output_type": "execute_result",
          "data": {
            "text/plain": [
              "0"
            ]
          },
          "metadata": {},
          "execution_count": 33
        }
      ]
    },
    {
      "cell_type": "markdown",
      "source": [
        "#2. Load dataset from NASA ADS\n",
        "\n",
        "Load a dataset of cosmology articles from last month using NASA ADS database."
      ],
      "metadata": {
        "id": "BNgDekFrJDnk"
      }
    },
    {
      "cell_type": "code",
      "source": [
        "# load csv data from drive to dataframe and then load it to Dataset dataset\n",
        "from datasets import Dataset\n",
        "import pandas as pd\n",
        "\n",
        "\n",
        "nasa_ads_df = pd.read_csv(\"/content/drive/MyDrive/ML/data/nasa_ads_cosmology_full.csv\")\n",
        "nasa_ads_ds = Dataset.from_pandas(nasa_ads_df)\n",
        "len(nasa_ads_ds), nasa_ads_ds[180]\n"
      ],
      "metadata": {
        "colab": {
          "base_uri": "https://localhost:8080/"
        },
        "id": "GKOe6nEopmv6",
        "outputId": "10fbcdd7-c725-4021-c0bf-a4b8c0c8f71e"
      },
      "execution_count": null,
      "outputs": [
        {
          "output_type": "execute_result",
          "data": {
            "text/plain": [
              "(1200,\n",
              " {'Unnamed: 0': 180,\n",
              "  'Title': 'The energy distribution of the first supernovae',\n",
              "  'Abstract': 'The nature of the first Pop III stars is still a mystery and the energy distribution of the first supernovae is completely unexplored. For the first time we account simultaneously for the unknown initial mass function (IMF), stellar mixing, and energy distribution function (EDF) of Pop III stars in the context of a cosmological model for the formation of a MW-analogue. Our data-calibrated semi-analytic model is based on a N-body simulation and follows the formation and evolution of both Pop III and Pop II/I stars in their proper time-scales. We discover degeneracies between the adopted Pop III unknowns, in the predicted metallicity and carbonicity distribution functions and the fraction of C-enhanced stars. None the less, we are able to provide the first available constraints on the EDF, $dN/dE_\\\\star \\\\propto E_{\\\\star }^{-\\\\alpha _e}$ with 1 ≤ α<SUB>e</SUB> ≤ 2.5. In addition, the characteristic mass of the Pop III IMF should be m<SUB>ch</SUB> &lt; 100 M<SUB>⊙</SUB>, assuming a mass range consistent with hydrodynamical simulations (0.1-1000 M<SUB>⊙</SUB>). Independent of the assumed Pop III properties, we find that all $\\\\rm [C/Fe]\\\\gt +0.7$ stars (with $\\\\rm [Fe/H]\\\\lt -2.8$) have been enriched by Pop III supernovae at a $\\\\gt 20~{{\\\\ \\\\rm per\\\\ cent}}$ level, and all $\\\\rm [C/Fe]\\\\gt +2$ stars at a $\\\\gt 95~{{\\\\ \\\\rm per\\\\ cent}}$ level. All very metal-poor stars with $\\\\rm [C/Fe]\\\\lt 0$ are predicted to be predominantly enriched by Pop III hypernovae and/or pair instability supernovae. To better constrain the primordial EDF, it is absolutely crucial to have a complete and accurate determination of the metallicity distribution function, and the properties of C-enhanced metal-poor stars (frequency and [C/Fe]) in the Galactic halo.',\n",
              "  'Bibcode': '2023MNRAS.525..190K',\n",
              "  'Publication Date': '2023-10-00',\n",
              "  'Full Text Content (first 10000 words)': None})"
            ]
          },
          "metadata": {},
          "execution_count": 4
        }
      ]
    },
    {
      "cell_type": "code",
      "source": [
        "nasa_ads_df.head()"
      ],
      "metadata": {
        "colab": {
          "base_uri": "https://localhost:8080/",
          "height": 206
        },
        "id": "h28NcvtYJvHt",
        "outputId": "40cc3715-61b6-46f7-c3e6-91030585cb55"
      },
      "execution_count": null,
      "outputs": [
        {
          "output_type": "execute_result",
          "data": {
            "text/plain": [
              "                                               Title  \\\n",
              "0  A CEERS Discovery of an Accreting Supermassive...   \n",
              "1  COSMOS-Web: An Overview of the JWST Cosmic Ori...   \n",
              "2  The Eighteenth Data Release of the Sloan Digit...   \n",
              "3  The FLAMINGO project: cosmological hydrodynami...   \n",
              "4  Hidden Little Monsters: Spectroscopic Identifi...   \n",
              "\n",
              "                                            Abstract              Bibcode  \\\n",
              "0  We report the discovery of an accreting superm...  2023ApJ...953L..29L   \n",
              "1  We present the survey design, implementation, ...  2023ApJ...954...31C   \n",
              "2  The eighteenth data release (DR18) of the Sloa...  2023ApJS..267...44A   \n",
              "3  We introduce the Virgo Consortium's FLAMINGO s...  2023MNRAS.tmp.2384S   \n",
              "4  We report on the discovery of two low-luminosi...  2023ApJ...954L...4K   \n",
              "\n",
              "  Publication Date Full Text Content (first 10000 words)  \n",
              "0       2023-08-00                                        \n",
              "1       2023-09-00                                        \n",
              "2       2023-08-00                                        \n",
              "3       2023-08-00                                        \n",
              "4       2023-09-00                                        "
            ],
            "text/html": [
              "\n",
              "  <div id=\"df-1acbaea3-9982-4116-a396-d9d1b983f1d3\" class=\"colab-df-container\">\n",
              "    <div>\n",
              "<style scoped>\n",
              "    .dataframe tbody tr th:only-of-type {\n",
              "        vertical-align: middle;\n",
              "    }\n",
              "\n",
              "    .dataframe tbody tr th {\n",
              "        vertical-align: top;\n",
              "    }\n",
              "\n",
              "    .dataframe thead th {\n",
              "        text-align: right;\n",
              "    }\n",
              "</style>\n",
              "<table border=\"1\" class=\"dataframe\">\n",
              "  <thead>\n",
              "    <tr style=\"text-align: right;\">\n",
              "      <th></th>\n",
              "      <th>Title</th>\n",
              "      <th>Abstract</th>\n",
              "      <th>Bibcode</th>\n",
              "      <th>Publication Date</th>\n",
              "      <th>Full Text Content (first 10000 words)</th>\n",
              "    </tr>\n",
              "  </thead>\n",
              "  <tbody>\n",
              "    <tr>\n",
              "      <th>0</th>\n",
              "      <td>A CEERS Discovery of an Accreting Supermassive...</td>\n",
              "      <td>We report the discovery of an accreting superm...</td>\n",
              "      <td>2023ApJ...953L..29L</td>\n",
              "      <td>2023-08-00</td>\n",
              "      <td></td>\n",
              "    </tr>\n",
              "    <tr>\n",
              "      <th>1</th>\n",
              "      <td>COSMOS-Web: An Overview of the JWST Cosmic Ori...</td>\n",
              "      <td>We present the survey design, implementation, ...</td>\n",
              "      <td>2023ApJ...954...31C</td>\n",
              "      <td>2023-09-00</td>\n",
              "      <td></td>\n",
              "    </tr>\n",
              "    <tr>\n",
              "      <th>2</th>\n",
              "      <td>The Eighteenth Data Release of the Sloan Digit...</td>\n",
              "      <td>The eighteenth data release (DR18) of the Sloa...</td>\n",
              "      <td>2023ApJS..267...44A</td>\n",
              "      <td>2023-08-00</td>\n",
              "      <td></td>\n",
              "    </tr>\n",
              "    <tr>\n",
              "      <th>3</th>\n",
              "      <td>The FLAMINGO project: cosmological hydrodynami...</td>\n",
              "      <td>We introduce the Virgo Consortium's FLAMINGO s...</td>\n",
              "      <td>2023MNRAS.tmp.2384S</td>\n",
              "      <td>2023-08-00</td>\n",
              "      <td></td>\n",
              "    </tr>\n",
              "    <tr>\n",
              "      <th>4</th>\n",
              "      <td>Hidden Little Monsters: Spectroscopic Identifi...</td>\n",
              "      <td>We report on the discovery of two low-luminosi...</td>\n",
              "      <td>2023ApJ...954L...4K</td>\n",
              "      <td>2023-09-00</td>\n",
              "      <td></td>\n",
              "    </tr>\n",
              "  </tbody>\n",
              "</table>\n",
              "</div>\n",
              "    <div class=\"colab-df-buttons\">\n",
              "\n",
              "  <div class=\"colab-df-container\">\n",
              "    <button class=\"colab-df-convert\" onclick=\"convertToInteractive('df-1acbaea3-9982-4116-a396-d9d1b983f1d3')\"\n",
              "            title=\"Convert this dataframe to an interactive table.\"\n",
              "            style=\"display:none;\">\n",
              "\n",
              "  <svg xmlns=\"http://www.w3.org/2000/svg\" height=\"24px\" viewBox=\"0 -960 960 960\">\n",
              "    <path d=\"M120-120v-720h720v720H120Zm60-500h600v-160H180v160Zm220 220h160v-160H400v160Zm0 220h160v-160H400v160ZM180-400h160v-160H180v160Zm440 0h160v-160H620v160ZM180-180h160v-160H180v160Zm440 0h160v-160H620v160Z\"/>\n",
              "  </svg>\n",
              "    </button>\n",
              "\n",
              "  <style>\n",
              "    .colab-df-container {\n",
              "      display:flex;\n",
              "      gap: 12px;\n",
              "    }\n",
              "\n",
              "    .colab-df-convert {\n",
              "      background-color: #E8F0FE;\n",
              "      border: none;\n",
              "      border-radius: 50%;\n",
              "      cursor: pointer;\n",
              "      display: none;\n",
              "      fill: #1967D2;\n",
              "      height: 32px;\n",
              "      padding: 0 0 0 0;\n",
              "      width: 32px;\n",
              "    }\n",
              "\n",
              "    .colab-df-convert:hover {\n",
              "      background-color: #E2EBFA;\n",
              "      box-shadow: 0px 1px 2px rgba(60, 64, 67, 0.3), 0px 1px 3px 1px rgba(60, 64, 67, 0.15);\n",
              "      fill: #174EA6;\n",
              "    }\n",
              "\n",
              "    .colab-df-buttons div {\n",
              "      margin-bottom: 4px;\n",
              "    }\n",
              "\n",
              "    [theme=dark] .colab-df-convert {\n",
              "      background-color: #3B4455;\n",
              "      fill: #D2E3FC;\n",
              "    }\n",
              "\n",
              "    [theme=dark] .colab-df-convert:hover {\n",
              "      background-color: #434B5C;\n",
              "      box-shadow: 0px 1px 3px 1px rgba(0, 0, 0, 0.15);\n",
              "      filter: drop-shadow(0px 1px 2px rgba(0, 0, 0, 0.3));\n",
              "      fill: #FFFFFF;\n",
              "    }\n",
              "  </style>\n",
              "\n",
              "    <script>\n",
              "      const buttonEl =\n",
              "        document.querySelector('#df-1acbaea3-9982-4116-a396-d9d1b983f1d3 button.colab-df-convert');\n",
              "      buttonEl.style.display =\n",
              "        google.colab.kernel.accessAllowed ? 'block' : 'none';\n",
              "\n",
              "      async function convertToInteractive(key) {\n",
              "        const element = document.querySelector('#df-1acbaea3-9982-4116-a396-d9d1b983f1d3');\n",
              "        const dataTable =\n",
              "          await google.colab.kernel.invokeFunction('convertToInteractive',\n",
              "                                                    [key], {});\n",
              "        if (!dataTable) return;\n",
              "\n",
              "        const docLinkHtml = 'Like what you see? Visit the ' +\n",
              "          '<a target=\"_blank\" href=https://colab.research.google.com/notebooks/data_table.ipynb>data table notebook</a>'\n",
              "          + ' to learn more about interactive tables.';\n",
              "        element.innerHTML = '';\n",
              "        dataTable['output_type'] = 'display_data';\n",
              "        await google.colab.output.renderOutput(dataTable, element);\n",
              "        const docLink = document.createElement('div');\n",
              "        docLink.innerHTML = docLinkHtml;\n",
              "        element.appendChild(docLink);\n",
              "      }\n",
              "    </script>\n",
              "  </div>\n",
              "\n",
              "\n",
              "<div id=\"df-94752979-3cb1-4edb-ac58-26baa7da6a33\">\n",
              "  <button class=\"colab-df-quickchart\" onclick=\"quickchart('df-94752979-3cb1-4edb-ac58-26baa7da6a33')\"\n",
              "            title=\"Suggest charts.\"\n",
              "            style=\"display:none;\">\n",
              "\n",
              "<svg xmlns=\"http://www.w3.org/2000/svg\" height=\"24px\"viewBox=\"0 0 24 24\"\n",
              "     width=\"24px\">\n",
              "    <g>\n",
              "        <path d=\"M19 3H5c-1.1 0-2 .9-2 2v14c0 1.1.9 2 2 2h14c1.1 0 2-.9 2-2V5c0-1.1-.9-2-2-2zM9 17H7v-7h2v7zm4 0h-2V7h2v10zm4 0h-2v-4h2v4z\"/>\n",
              "    </g>\n",
              "</svg>\n",
              "  </button>\n",
              "\n",
              "<style>\n",
              "  .colab-df-quickchart {\n",
              "      --bg-color: #E8F0FE;\n",
              "      --fill-color: #1967D2;\n",
              "      --hover-bg-color: #E2EBFA;\n",
              "      --hover-fill-color: #174EA6;\n",
              "      --disabled-fill-color: #AAA;\n",
              "      --disabled-bg-color: #DDD;\n",
              "  }\n",
              "\n",
              "  [theme=dark] .colab-df-quickchart {\n",
              "      --bg-color: #3B4455;\n",
              "      --fill-color: #D2E3FC;\n",
              "      --hover-bg-color: #434B5C;\n",
              "      --hover-fill-color: #FFFFFF;\n",
              "      --disabled-bg-color: #3B4455;\n",
              "      --disabled-fill-color: #666;\n",
              "  }\n",
              "\n",
              "  .colab-df-quickchart {\n",
              "    background-color: var(--bg-color);\n",
              "    border: none;\n",
              "    border-radius: 50%;\n",
              "    cursor: pointer;\n",
              "    display: none;\n",
              "    fill: var(--fill-color);\n",
              "    height: 32px;\n",
              "    padding: 0;\n",
              "    width: 32px;\n",
              "  }\n",
              "\n",
              "  .colab-df-quickchart:hover {\n",
              "    background-color: var(--hover-bg-color);\n",
              "    box-shadow: 0 1px 2px rgba(60, 64, 67, 0.3), 0 1px 3px 1px rgba(60, 64, 67, 0.15);\n",
              "    fill: var(--button-hover-fill-color);\n",
              "  }\n",
              "\n",
              "  .colab-df-quickchart-complete:disabled,\n",
              "  .colab-df-quickchart-complete:disabled:hover {\n",
              "    background-color: var(--disabled-bg-color);\n",
              "    fill: var(--disabled-fill-color);\n",
              "    box-shadow: none;\n",
              "  }\n",
              "\n",
              "  .colab-df-spinner {\n",
              "    border: 2px solid var(--fill-color);\n",
              "    border-color: transparent;\n",
              "    border-bottom-color: var(--fill-color);\n",
              "    animation:\n",
              "      spin 1s steps(1) infinite;\n",
              "  }\n",
              "\n",
              "  @keyframes spin {\n",
              "    0% {\n",
              "      border-color: transparent;\n",
              "      border-bottom-color: var(--fill-color);\n",
              "      border-left-color: var(--fill-color);\n",
              "    }\n",
              "    20% {\n",
              "      border-color: transparent;\n",
              "      border-left-color: var(--fill-color);\n",
              "      border-top-color: var(--fill-color);\n",
              "    }\n",
              "    30% {\n",
              "      border-color: transparent;\n",
              "      border-left-color: var(--fill-color);\n",
              "      border-top-color: var(--fill-color);\n",
              "      border-right-color: var(--fill-color);\n",
              "    }\n",
              "    40% {\n",
              "      border-color: transparent;\n",
              "      border-right-color: var(--fill-color);\n",
              "      border-top-color: var(--fill-color);\n",
              "    }\n",
              "    60% {\n",
              "      border-color: transparent;\n",
              "      border-right-color: var(--fill-color);\n",
              "    }\n",
              "    80% {\n",
              "      border-color: transparent;\n",
              "      border-right-color: var(--fill-color);\n",
              "      border-bottom-color: var(--fill-color);\n",
              "    }\n",
              "    90% {\n",
              "      border-color: transparent;\n",
              "      border-bottom-color: var(--fill-color);\n",
              "    }\n",
              "  }\n",
              "</style>\n",
              "\n",
              "  <script>\n",
              "    async function quickchart(key) {\n",
              "      const quickchartButtonEl =\n",
              "        document.querySelector('#' + key + ' button');\n",
              "      quickchartButtonEl.disabled = true;  // To prevent multiple clicks.\n",
              "      quickchartButtonEl.classList.add('colab-df-spinner');\n",
              "      try {\n",
              "        const charts = await google.colab.kernel.invokeFunction(\n",
              "            'suggestCharts', [key], {});\n",
              "      } catch (error) {\n",
              "        console.error('Error during call to suggestCharts:', error);\n",
              "      }\n",
              "      quickchartButtonEl.classList.remove('colab-df-spinner');\n",
              "      quickchartButtonEl.classList.add('colab-df-quickchart-complete');\n",
              "    }\n",
              "    (() => {\n",
              "      let quickchartButtonEl =\n",
              "        document.querySelector('#df-94752979-3cb1-4edb-ac58-26baa7da6a33 button');\n",
              "      quickchartButtonEl.style.display =\n",
              "        google.colab.kernel.accessAllowed ? 'block' : 'none';\n",
              "    })();\n",
              "  </script>\n",
              "</div>\n",
              "\n",
              "    </div>\n",
              "  </div>\n"
            ]
          },
          "metadata": {},
          "execution_count": 25
        }
      ]
    },
    {
      "cell_type": "markdown",
      "source": [
        "All recores have bibcode and each is unique:"
      ],
      "metadata": {
        "id": "MC-hyUgePEWU"
      }
    },
    {
      "cell_type": "code",
      "source": [
        "len(nasa_ads_df[nasa_ads_df['Bibcode'].isnull()]), nasa_ads_df['Bibcode'].nunique()"
      ],
      "metadata": {
        "colab": {
          "base_uri": "https://localhost:8080/"
        },
        "id": "MvMPLucOOihm",
        "outputId": "43686619-188f-4820-f087-1b6e8db3447c"
      },
      "execution_count": null,
      "outputs": [
        {
          "output_type": "execute_result",
          "data": {
            "text/plain": [
              "(0, 1200)"
            ]
          },
          "metadata": {},
          "execution_count": 22
        }
      ]
    },
    {
      "cell_type": "markdown",
      "source": [
        "#3. Get LLama2-13B and Embeddings"
      ],
      "metadata": {
        "id": "Q8EBCrz7mrYf"
      }
    },
    {
      "cell_type": "markdown",
      "source": [
        "##3.1. Llama2-13B\n",
        "\n",
        "We load Llama2-13B, fitting it on a single 15GB RAM with the help of bitsandbytes quantization."
      ],
      "metadata": {
        "id": "ItMPmRq-Ckwy"
      }
    },
    {
      "cell_type": "code",
      "source": [
        "%%time\n",
        "from torch import cuda, bfloat16\n",
        "import transformers\n",
        "\n",
        "model_name = \"meta-llama/Llama-2-13b-chat-hf\"\n",
        "# set quantization configuration using bitsandbytes lib\n",
        "bnb_config = transformers.BitsAndBytesConfig(\n",
        "    load_in_4bit=True,\n",
        "    bnb_4bit_quant_type='nf4',\n",
        "    bnb_4bit_use_double_quant=True,\n",
        "    bnb_4bit_compute_dtype=bfloat16\n",
        ")\n",
        "\n",
        "\n",
        "hf_auth = os.environ.get('HF_API_KEY')\n",
        "model_config = transformers.AutoConfig.from_pretrained(\n",
        "    model_name,\n",
        "    use_auth_token=hf_auth\n",
        ")\n",
        "\n",
        "model = transformers.AutoModelForCausalLM.from_pretrained(\n",
        "    model_name,\n",
        "    trust_remote_code=True,\n",
        "    config=model_config,\n",
        "    quantization_config=bnb_config,\n",
        "    device_map='auto',\n",
        "    use_auth_token=hf_auth\n",
        ")\n",
        "model.eval()\n"
      ],
      "metadata": {
        "id": "NujH6zwduxby",
        "colab": {
          "base_uri": "https://localhost:8080/",
          "height": 826,
          "referenced_widgets": [
            "5c3357d4adfa4b9ba9899da68b6a947a",
            "b4f30e3382394946a390074cdeccbba4",
            "5d20e29df06e47078889ce0f5bb3b7b7",
            "8bad1699ee02470fbd36af7ee5753031",
            "26e72ad5b5b74e19a00e51ed1ddcad68",
            "c0507c7d714647679b17e53f3907c362",
            "68ac559629c343a8ab6142d1226ca0e0",
            "ba55120e6e2a4f52a2f37a6a131f2bdd",
            "8d9e8dbce61341158af0ac3b690e44dd",
            "349c40a0179f4c2dbc4d73fc37a72179",
            "1436e5c1a2a3400ba8248c41000bbc82",
            "fdaa2beac4a140ca929ee526823c9ac9",
            "3bf2a9f7c55943d58c2e0404e3a1062e",
            "1a5a8d7f0e3e4de197dc27ab883530aa",
            "3f9834a16b3841a89e553193803c5c7c",
            "11c833b125ec46bf941e2634db4454b1",
            "91f8396581bc4810be3803a73ecd3324",
            "1ba308a3df7d44bd90a45570177eeade",
            "952e286ca6f943d3be5c75cf979157ae",
            "91454e5fdb2648a4b7137eda77e95578",
            "b77db3f22c684cf494d914d996a4bcf3",
            "2d1cc936c110417ebb8a54e27f520a2a",
            "d5484808b3554c148b7d4dc4e9f1362f",
            "b607dab0e756469da914f735d1b56ced",
            "b1e96ede848843c3a09bc829eb4f9885",
            "e080900a0ec84efaa5a52720952b48cb",
            "8164be26d231485b8e9e84cb5dd93a0f",
            "662620a91a3b4af9adf24a542dd6df13",
            "8e8f1dcb999541bfbcd33af222b62ff2",
            "0e934b22b1b4446c84fc771e751f4c5f",
            "d1ea5e24923845bc8a0c89e583beeb4c",
            "9385618cc6b142e1bd7658cf5fca46f8",
            "f8326efc5f96491582ab83992a1cbd16",
            "29c1fb182eed40d7baf98bfd64d27e74",
            "0506f6e26e65405d8002332b20a1ecfe",
            "a50d821e4dd34d84a6a6dd1ce119a5a7",
            "fcf6842323f942918e1767e4d3506324",
            "027b94f76a404fcc9b0b1c7f827f91d7",
            "df5ff46c575a4611962c0331ba395ecc",
            "9ee632cbda4747ecbd09e2da19824717",
            "1033540c488b471fbf861633f361885c",
            "ee785e11c03945b096ee762ce223293f",
            "e4e81d82178945438caee0216099568b",
            "c3787d0b65bd4aac937b7ad7d16546f0",
            "d35dbcaa7cc445d2bd1c3d38a5534c77",
            "c5fb16f74c6047a99fa520612f7d1825",
            "5f2e1c1b666b4ff5accdcb1f989fa76f",
            "503218a1a7be43c39798b8db7afbb7c5",
            "5e98472e4be94267a36bfc0099f95dce",
            "1c12e9146c0c4b54a449c7e105e335f9",
            "c9b0b2498e934d34bf39e885541c6d36",
            "aa0ca1a1ab7148cf89c866e577a1c8f2",
            "c06e93968b5749b79bc365ca0fdb5266",
            "d93a892aad994f5395fe0adcc6582f3b",
            "881d5cfe869b4a49bc7d7b8c7badffc9",
            "c99c1d93a41d4d8c8f19a6874eca5890",
            "f8fe06bb2af4429fbfb547d4e0dcc6c0",
            "15863feb629e4a8c85a6709a119d7f77",
            "58340c5a2df94d8fb8d66a56414aafe7",
            "66e7cb2f79624f878c29384de7a23c91",
            "54c249462d8f4b4f84ba1fe7aefcaa1b",
            "477606b65c924db9b84c7e220aa3d5b1",
            "2a9b6b0db1834bb78263350a764a4df9",
            "d70b0a995d1849999ffc606135acabde",
            "4401c229a8a549c291e88e33bb6cc03e",
            "6ad38ea3e5984ea882f68a7f6df2e200",
            "7c4e65a2d7994abbae4bbce326a565da",
            "8dd454549e034360940d54f7be07b928",
            "a7b59d6186334142889c3060a225bc13",
            "e79e9a3658c54ae798720d165431d29e",
            "d55ef65bdc6a40ed816b246a86a38080",
            "905e2b09bbbb4f089156a1733cfd07b3",
            "bce4d88628084e54b38cfd033063dcd0",
            "b6118c4efabc41ee87329444974646e1",
            "c496a7156829487e9273444624dbd43d",
            "b98a8a0f3dfb491e9fa5e071a4324dbb",
            "5b61f07073c840028a69d62a2e8a02f4",
            "ecbecb33d496462393a0dc2bc9b5fb75",
            "9cec9bf891fe417e96e69a70abfda24c",
            "e292d6a02ecf415699900a40ef93338a",
            "fcf38516036c4b79b5e8ab44a91de497",
            "3c713d4ff7214c15aa82396c8c985dc8",
            "435caaffb69b42d788ffc9cf75b8dbc9",
            "7136cdbaf5ec4b679c56eed8d16554b2",
            "bf775a83f3ca474ca6dbba59b39722f7",
            "cf8fa120a14b4d6898e8b2af3ca5c9a9",
            "aa878e2e1a0d4a468a5a7e6da1b16357",
            "13335a6266a2465c8c8f58606ba684e4"
          ]
        },
        "outputId": "50e6599e-efd2-439b-ff99-7601e9994180"
      },
      "execution_count": null,
      "outputs": [
        {
          "output_type": "display_data",
          "data": {
            "text/plain": [
              "config.json:   0%|          | 0.00/587 [00:00<?, ?B/s]"
            ],
            "application/vnd.jupyter.widget-view+json": {
              "version_major": 2,
              "version_minor": 0,
              "model_id": "5c3357d4adfa4b9ba9899da68b6a947a"
            }
          },
          "metadata": {}
        },
        {
          "output_type": "stream",
          "name": "stderr",
          "text": [
            "/usr/local/lib/python3.10/dist-packages/transformers/modeling_utils.py:2193: FutureWarning: The `use_auth_token` argument is deprecated and will be removed in v5 of Transformers.\n",
            "  warnings.warn(\n"
          ]
        },
        {
          "output_type": "display_data",
          "data": {
            "text/plain": [
              "model.safetensors.index.json:   0%|          | 0.00/33.4k [00:00<?, ?B/s]"
            ],
            "application/vnd.jupyter.widget-view+json": {
              "version_major": 2,
              "version_minor": 0,
              "model_id": "fdaa2beac4a140ca929ee526823c9ac9"
            }
          },
          "metadata": {}
        },
        {
          "output_type": "display_data",
          "data": {
            "text/plain": [
              "Downloading shards:   0%|          | 0/3 [00:00<?, ?it/s]"
            ],
            "application/vnd.jupyter.widget-view+json": {
              "version_major": 2,
              "version_minor": 0,
              "model_id": "d5484808b3554c148b7d4dc4e9f1362f"
            }
          },
          "metadata": {}
        },
        {
          "output_type": "display_data",
          "data": {
            "text/plain": [
              "model-00001-of-00003.safetensors:   0%|          | 0.00/9.95G [00:00<?, ?B/s]"
            ],
            "application/vnd.jupyter.widget-view+json": {
              "version_major": 2,
              "version_minor": 0,
              "model_id": "29c1fb182eed40d7baf98bfd64d27e74"
            }
          },
          "metadata": {}
        },
        {
          "output_type": "display_data",
          "data": {
            "text/plain": [
              "model-00002-of-00003.safetensors:   0%|          | 0.00/9.90G [00:00<?, ?B/s]"
            ],
            "application/vnd.jupyter.widget-view+json": {
              "version_major": 2,
              "version_minor": 0,
              "model_id": "d35dbcaa7cc445d2bd1c3d38a5534c77"
            }
          },
          "metadata": {}
        },
        {
          "output_type": "display_data",
          "data": {
            "text/plain": [
              "model-00003-of-00003.safetensors:   0%|          | 0.00/6.18G [00:00<?, ?B/s]"
            ],
            "application/vnd.jupyter.widget-view+json": {
              "version_major": 2,
              "version_minor": 0,
              "model_id": "c99c1d93a41d4d8c8f19a6874eca5890"
            }
          },
          "metadata": {}
        },
        {
          "output_type": "display_data",
          "data": {
            "text/plain": [
              "Loading checkpoint shards:   0%|          | 0/3 [00:00<?, ?it/s]"
            ],
            "application/vnd.jupyter.widget-view+json": {
              "version_major": 2,
              "version_minor": 0,
              "model_id": "7c4e65a2d7994abbae4bbce326a565da"
            }
          },
          "metadata": {}
        },
        {
          "output_type": "display_data",
          "data": {
            "text/plain": [
              "generation_config.json:   0%|          | 0.00/188 [00:00<?, ?B/s]"
            ],
            "application/vnd.jupyter.widget-view+json": {
              "version_major": 2,
              "version_minor": 0,
              "model_id": "ecbecb33d496462393a0dc2bc9b5fb75"
            }
          },
          "metadata": {}
        },
        {
          "output_type": "stream",
          "name": "stdout",
          "text": [
            "CPU times: user 43.9 s, sys: 52.5 s, total: 1min 36s\n",
            "Wall time: 4min 1s\n"
          ]
        },
        {
          "output_type": "execute_result",
          "data": {
            "text/plain": [
              "LlamaForCausalLM(\n",
              "  (model): LlamaModel(\n",
              "    (embed_tokens): Embedding(32000, 5120, padding_idx=0)\n",
              "    (layers): ModuleList(\n",
              "      (0-39): 40 x LlamaDecoderLayer(\n",
              "        (self_attn): LlamaAttention(\n",
              "          (q_proj): Linear4bit(in_features=5120, out_features=5120, bias=False)\n",
              "          (k_proj): Linear4bit(in_features=5120, out_features=5120, bias=False)\n",
              "          (v_proj): Linear4bit(in_features=5120, out_features=5120, bias=False)\n",
              "          (o_proj): Linear4bit(in_features=5120, out_features=5120, bias=False)\n",
              "          (rotary_emb): LlamaRotaryEmbedding()\n",
              "        )\n",
              "        (mlp): LlamaMLP(\n",
              "          (gate_proj): Linear4bit(in_features=5120, out_features=13824, bias=False)\n",
              "          (up_proj): Linear4bit(in_features=5120, out_features=13824, bias=False)\n",
              "          (down_proj): Linear4bit(in_features=13824, out_features=5120, bias=False)\n",
              "          (act_fn): SiLUActivation()\n",
              "        )\n",
              "        (input_layernorm): LlamaRMSNorm()\n",
              "        (post_attention_layernorm): LlamaRMSNorm()\n",
              "      )\n",
              "    )\n",
              "    (norm): LlamaRMSNorm()\n",
              "  )\n",
              "  (lm_head): Linear(in_features=5120, out_features=32000, bias=False)\n",
              ")"
            ]
          },
          "metadata": {},
          "execution_count": 5
        }
      ]
    },
    {
      "cell_type": "code",
      "source": [
        "%%time\n",
        "import torch\n",
        "model_name = \"meta-llama/Llama-2-13b-chat-hf\"\n",
        "tokenizer = transformers.AutoTokenizer.from_pretrained(\n",
        "    model_name,\n",
        "    use_auth_token=hf_auth\n",
        ")\n",
        "\n",
        "\n",
        "generate_text = transformers.pipeline(\n",
        "    model=model, tokenizer=tokenizer,\n",
        "    return_full_text=True,  # langchain expects the full text\n",
        "    task='text-generation',\n",
        "    temperature=0.0,\n",
        "    max_new_tokens=256,  # number of tokens to generate in the output\n",
        "    repetition_penalty=1.1\n",
        ")\n",
        "\n"
      ],
      "metadata": {
        "colab": {
          "base_uri": "https://localhost:8080/",
          "height": 236,
          "referenced_widgets": [
            "73aa55b4558749d39698cb45d246d9f8",
            "a29b03f8820d431cb7e7e68a54556312",
            "eb91f7929c33418a8a29d3623f1c3828",
            "5cb5f78042604f0e80ec4227a25edb87",
            "640f1c7771694ad180cc1aa084eb5138",
            "e469dbdf809844f4a60acaf2f1ae4718",
            "c2744efc15454c03b8e9291367f6f4fd",
            "8f954f44b4c144faaf770439f59d0986",
            "6ae9e8943e274b7abc4505cec3a82078",
            "e1695ef4352342efbac321f1c1199d05",
            "87d83aab830c44d2b8348464b34d6c67",
            "362312a5ff3441eeaba7f9a3af8aaa44",
            "ab8e918658124b86bf3e4f32ae33a68a",
            "73528819fb524f9085e5a17a17c07618",
            "e9e29c1f19ac4819963714aa09d59add",
            "ee1d4b287bb44c38bc3f98ec4198ee69",
            "a3535311321b424bb5e227e9bc4316a3",
            "e427abe8958b4a5fa881dcb107b55bbc",
            "ac6b1d24f44747d7ae6290848d253ba1",
            "927275c7cd5949fca99dc6e407621e95",
            "38766a1c9a1c4a31aafaee5189a466a2",
            "f0a51f0e0edb4cf6a57eb4e54e3b715f",
            "9c2283928a2a4bcf8dd0007c76c6bf80",
            "b1acb6130d9444bfa83c38b6a70f158d",
            "80f61e32ee4b4cc4bdf0af46f4cd8394",
            "f49daa286c374b249e87c0dc7cf915c4",
            "511e76431a2544ca9c2942d4df37046a",
            "5eb7ecec012640a8b418a0accc0b4f79",
            "a1598e30cc244519b3fb9fec5b03eb88",
            "f2413e1216974478990b5c00fc5bb12b",
            "708bb4531ba44e0a985735e3a3e543f6",
            "55258036febc4241a64e42c04b7b67ff",
            "2a6afe4afffa45efb91c48a1e2fc4c18",
            "52b36721abf941eebeebcd472f6e6d2d",
            "05376c82e3ce47af93d83cc2848b70fd",
            "e502ddc4a1724c1d93699f798e369713",
            "cd297f43e53a44e387d595d09f385d42",
            "cc19afc0fedb4de39c2689c25109dcd8",
            "c3445abf9f1f45a7ba48e04456f589cf",
            "075b2d8aacd14be89e21bb231bb4b3e7",
            "9a3d733e5f60471abffc488c7195dd16",
            "aab8408236004ec4a104fad3cff07816",
            "8fb34278b6834c1baed5e553be705a23",
            "c964842f2b8441c8b6bb5b78ba1df49d"
          ]
        },
        "id": "pWDkwOQmt41q",
        "outputId": "f3993b39-82ea-4f7b-acb1-eebed9c52390"
      },
      "execution_count": null,
      "outputs": [
        {
          "output_type": "display_data",
          "data": {
            "text/plain": [
              "tokenizer_config.json:   0%|          | 0.00/1.62k [00:00<?, ?B/s]"
            ],
            "application/vnd.jupyter.widget-view+json": {
              "version_major": 2,
              "version_minor": 0,
              "model_id": "73aa55b4558749d39698cb45d246d9f8"
            }
          },
          "metadata": {}
        },
        {
          "output_type": "stream",
          "name": "stderr",
          "text": [
            "/usr/local/lib/python3.10/dist-packages/transformers/tokenization_utils_base.py:1714: FutureWarning: The `use_auth_token` argument is deprecated and will be removed in v5 of Transformers.\n",
            "  warnings.warn(\n"
          ]
        },
        {
          "output_type": "display_data",
          "data": {
            "text/plain": [
              "tokenizer.model:   0%|          | 0.00/500k [00:00<?, ?B/s]"
            ],
            "application/vnd.jupyter.widget-view+json": {
              "version_major": 2,
              "version_minor": 0,
              "model_id": "362312a5ff3441eeaba7f9a3af8aaa44"
            }
          },
          "metadata": {}
        },
        {
          "output_type": "display_data",
          "data": {
            "text/plain": [
              "tokenizer.json:   0%|          | 0.00/1.84M [00:00<?, ?B/s]"
            ],
            "application/vnd.jupyter.widget-view+json": {
              "version_major": 2,
              "version_minor": 0,
              "model_id": "9c2283928a2a4bcf8dd0007c76c6bf80"
            }
          },
          "metadata": {}
        },
        {
          "output_type": "display_data",
          "data": {
            "text/plain": [
              "special_tokens_map.json:   0%|          | 0.00/414 [00:00<?, ?B/s]"
            ],
            "application/vnd.jupyter.widget-view+json": {
              "version_major": 2,
              "version_minor": 0,
              "model_id": "52b36721abf941eebeebcd472f6e6d2d"
            }
          },
          "metadata": {}
        },
        {
          "output_type": "stream",
          "name": "stdout",
          "text": [
            "CPU times: user 947 ms, sys: 129 ms, total: 1.08 s\n",
            "Wall time: 2.95 s\n"
          ]
        }
      ]
    },
    {
      "cell_type": "markdown",
      "source": [
        "## 3.2. Get embeddings"
      ],
      "metadata": {
        "id": "D47L3QPSRrvY"
      }
    },
    {
      "cell_type": "markdown",
      "source": [
        "Let's select some decent embeddings model based on [HF's leaderboard](https://huggingface.co/spaces/mteb/leaderboard)."
      ],
      "metadata": {
        "id": "3Xe1_aQTo3vG"
      }
    },
    {
      "cell_type": "code",
      "source": [
        "\n",
        "from torch import cuda\n",
        "from langchain.embeddings.huggingface import HuggingFaceEmbeddings\n",
        "\n",
        "embed_model_id = 'intfloat/e5-base-v2' # at the time #14 on HF's MTEB leaderboard, dim=768\n",
        "\n",
        "device = f'cuda:{cuda.current_device()}' if cuda.is_available() else 'cpu'\n",
        "\n",
        "embed_model = HuggingFaceEmbeddings(\n",
        "    model_name=embed_model_id,\n",
        "    model_kwargs={'device': device},\n",
        "    encode_kwargs={'device': device, 'batch_size': 32}\n",
        ")"
      ],
      "metadata": {
        "id": "cQk7z5vJmyt8"
      },
      "execution_count": null,
      "outputs": []
    },
    {
      "cell_type": "code",
      "source": [
        "books_df.head()"
      ],
      "metadata": {
        "colab": {
          "base_uri": "https://localhost:8080/",
          "height": 275
        },
        "id": "sfdV7Hu-GvuY",
        "outputId": "ce702bac-1010-4002-a4fb-1d7db3fb7748"
      },
      "execution_count": null,
      "outputs": [
        {
          "output_type": "execute_result",
          "data": {
            "text/plain": [
              "                                             id                         title  \\\n",
              "0  kca://book/amzn1.gr.book.v3.CI518ofIFidEXILu         Things We Left Behind   \n",
              "1  kca://book/amzn1.gr.book.v3.laK_97rF9qQjQGbP                 The Long Game   \n",
              "2  kca://book/amzn1.gr.book.v3.AbK983RbgzqySZEv            Bright Young Women   \n",
              "3  kca://book/amzn1.gr.book.v3.WMf4mFalogDRVJoY  The Fragile Threads of Power   \n",
              "4  kca://book/amzn1.gr.book.v3.fDu8MXBOGcUfyd89                         Rouge   \n",
              "\n",
              "                                         description  \\\n",
              "0  There was only one woman who could set me free...   \n",
              "1  A disgraced soccer exec reluctantly enlists th...   \n",
              "2  An extraordinary novel inspired by the real-li...   \n",
              "3  From the #1 New York Times bestselling author ...   \n",
              "4  From the critically acclaimed author of Bunny ...   \n",
              "\n",
              "                                              webUrl         author  rank  \n",
              "0  https://www.goodreads.com/book/show/116536542-...     Lucy Score     1  \n",
              "1  https://www.goodreads.com/book/show/101144869-...   Elena  Armas     2  \n",
              "2  https://www.goodreads.com/book/show/101124639-...  Jessica Knoll     3  \n",
              "3  https://www.goodreads.com/book/show/111673828-...    V.E. Schwab     4  \n",
              "4  https://www.goodreads.com/book/show/101160689-...      Mona Awad     5  "
            ],
            "text/html": [
              "\n",
              "  <div id=\"df-aa3cf750-a5be-4f7c-8f7d-13b0b86abf8a\" class=\"colab-df-container\">\n",
              "    <div>\n",
              "<style scoped>\n",
              "    .dataframe tbody tr th:only-of-type {\n",
              "        vertical-align: middle;\n",
              "    }\n",
              "\n",
              "    .dataframe tbody tr th {\n",
              "        vertical-align: top;\n",
              "    }\n",
              "\n",
              "    .dataframe thead th {\n",
              "        text-align: right;\n",
              "    }\n",
              "</style>\n",
              "<table border=\"1\" class=\"dataframe\">\n",
              "  <thead>\n",
              "    <tr style=\"text-align: right;\">\n",
              "      <th></th>\n",
              "      <th>id</th>\n",
              "      <th>title</th>\n",
              "      <th>description</th>\n",
              "      <th>webUrl</th>\n",
              "      <th>author</th>\n",
              "      <th>rank</th>\n",
              "    </tr>\n",
              "  </thead>\n",
              "  <tbody>\n",
              "    <tr>\n",
              "      <th>0</th>\n",
              "      <td>kca://book/amzn1.gr.book.v3.CI518ofIFidEXILu</td>\n",
              "      <td>Things We Left Behind</td>\n",
              "      <td>There was only one woman who could set me free...</td>\n",
              "      <td>https://www.goodreads.com/book/show/116536542-...</td>\n",
              "      <td>Lucy Score</td>\n",
              "      <td>1</td>\n",
              "    </tr>\n",
              "    <tr>\n",
              "      <th>1</th>\n",
              "      <td>kca://book/amzn1.gr.book.v3.laK_97rF9qQjQGbP</td>\n",
              "      <td>The Long Game</td>\n",
              "      <td>A disgraced soccer exec reluctantly enlists th...</td>\n",
              "      <td>https://www.goodreads.com/book/show/101144869-...</td>\n",
              "      <td>Elena  Armas</td>\n",
              "      <td>2</td>\n",
              "    </tr>\n",
              "    <tr>\n",
              "      <th>2</th>\n",
              "      <td>kca://book/amzn1.gr.book.v3.AbK983RbgzqySZEv</td>\n",
              "      <td>Bright Young Women</td>\n",
              "      <td>An extraordinary novel inspired by the real-li...</td>\n",
              "      <td>https://www.goodreads.com/book/show/101124639-...</td>\n",
              "      <td>Jessica Knoll</td>\n",
              "      <td>3</td>\n",
              "    </tr>\n",
              "    <tr>\n",
              "      <th>3</th>\n",
              "      <td>kca://book/amzn1.gr.book.v3.WMf4mFalogDRVJoY</td>\n",
              "      <td>The Fragile Threads of Power</td>\n",
              "      <td>From the #1 New York Times bestselling author ...</td>\n",
              "      <td>https://www.goodreads.com/book/show/111673828-...</td>\n",
              "      <td>V.E. Schwab</td>\n",
              "      <td>4</td>\n",
              "    </tr>\n",
              "    <tr>\n",
              "      <th>4</th>\n",
              "      <td>kca://book/amzn1.gr.book.v3.fDu8MXBOGcUfyd89</td>\n",
              "      <td>Rouge</td>\n",
              "      <td>From the critically acclaimed author of Bunny ...</td>\n",
              "      <td>https://www.goodreads.com/book/show/101160689-...</td>\n",
              "      <td>Mona Awad</td>\n",
              "      <td>5</td>\n",
              "    </tr>\n",
              "  </tbody>\n",
              "</table>\n",
              "</div>\n",
              "    <div class=\"colab-df-buttons\">\n",
              "\n",
              "  <div class=\"colab-df-container\">\n",
              "    <button class=\"colab-df-convert\" onclick=\"convertToInteractive('df-aa3cf750-a5be-4f7c-8f7d-13b0b86abf8a')\"\n",
              "            title=\"Convert this dataframe to an interactive table.\"\n",
              "            style=\"display:none;\">\n",
              "\n",
              "  <svg xmlns=\"http://www.w3.org/2000/svg\" height=\"24px\" viewBox=\"0 -960 960 960\">\n",
              "    <path d=\"M120-120v-720h720v720H120Zm60-500h600v-160H180v160Zm220 220h160v-160H400v160Zm0 220h160v-160H400v160ZM180-400h160v-160H180v160Zm440 0h160v-160H620v160ZM180-180h160v-160H180v160Zm440 0h160v-160H620v160Z\"/>\n",
              "  </svg>\n",
              "    </button>\n",
              "\n",
              "  <style>\n",
              "    .colab-df-container {\n",
              "      display:flex;\n",
              "      gap: 12px;\n",
              "    }\n",
              "\n",
              "    .colab-df-convert {\n",
              "      background-color: #E8F0FE;\n",
              "      border: none;\n",
              "      border-radius: 50%;\n",
              "      cursor: pointer;\n",
              "      display: none;\n",
              "      fill: #1967D2;\n",
              "      height: 32px;\n",
              "      padding: 0 0 0 0;\n",
              "      width: 32px;\n",
              "    }\n",
              "\n",
              "    .colab-df-convert:hover {\n",
              "      background-color: #E2EBFA;\n",
              "      box-shadow: 0px 1px 2px rgba(60, 64, 67, 0.3), 0px 1px 3px 1px rgba(60, 64, 67, 0.15);\n",
              "      fill: #174EA6;\n",
              "    }\n",
              "\n",
              "    .colab-df-buttons div {\n",
              "      margin-bottom: 4px;\n",
              "    }\n",
              "\n",
              "    [theme=dark] .colab-df-convert {\n",
              "      background-color: #3B4455;\n",
              "      fill: #D2E3FC;\n",
              "    }\n",
              "\n",
              "    [theme=dark] .colab-df-convert:hover {\n",
              "      background-color: #434B5C;\n",
              "      box-shadow: 0px 1px 3px 1px rgba(0, 0, 0, 0.15);\n",
              "      filter: drop-shadow(0px 1px 2px rgba(0, 0, 0, 0.3));\n",
              "      fill: #FFFFFF;\n",
              "    }\n",
              "  </style>\n",
              "\n",
              "    <script>\n",
              "      const buttonEl =\n",
              "        document.querySelector('#df-aa3cf750-a5be-4f7c-8f7d-13b0b86abf8a button.colab-df-convert');\n",
              "      buttonEl.style.display =\n",
              "        google.colab.kernel.accessAllowed ? 'block' : 'none';\n",
              "\n",
              "      async function convertToInteractive(key) {\n",
              "        const element = document.querySelector('#df-aa3cf750-a5be-4f7c-8f7d-13b0b86abf8a');\n",
              "        const dataTable =\n",
              "          await google.colab.kernel.invokeFunction('convertToInteractive',\n",
              "                                                    [key], {});\n",
              "        if (!dataTable) return;\n",
              "\n",
              "        const docLinkHtml = 'Like what you see? Visit the ' +\n",
              "          '<a target=\"_blank\" href=https://colab.research.google.com/notebooks/data_table.ipynb>data table notebook</a>'\n",
              "          + ' to learn more about interactive tables.';\n",
              "        element.innerHTML = '';\n",
              "        dataTable['output_type'] = 'display_data';\n",
              "        await google.colab.output.renderOutput(dataTable, element);\n",
              "        const docLink = document.createElement('div');\n",
              "        docLink.innerHTML = docLinkHtml;\n",
              "        element.appendChild(docLink);\n",
              "      }\n",
              "    </script>\n",
              "  </div>\n",
              "\n",
              "\n",
              "<div id=\"df-a74f2c46-1a71-406c-bd15-336b5d265de7\">\n",
              "  <button class=\"colab-df-quickchart\" onclick=\"quickchart('df-a74f2c46-1a71-406c-bd15-336b5d265de7')\"\n",
              "            title=\"Suggest charts.\"\n",
              "            style=\"display:none;\">\n",
              "\n",
              "<svg xmlns=\"http://www.w3.org/2000/svg\" height=\"24px\"viewBox=\"0 0 24 24\"\n",
              "     width=\"24px\">\n",
              "    <g>\n",
              "        <path d=\"M19 3H5c-1.1 0-2 .9-2 2v14c0 1.1.9 2 2 2h14c1.1 0 2-.9 2-2V5c0-1.1-.9-2-2-2zM9 17H7v-7h2v7zm4 0h-2V7h2v10zm4 0h-2v-4h2v4z\"/>\n",
              "    </g>\n",
              "</svg>\n",
              "  </button>\n",
              "\n",
              "<style>\n",
              "  .colab-df-quickchart {\n",
              "      --bg-color: #E8F0FE;\n",
              "      --fill-color: #1967D2;\n",
              "      --hover-bg-color: #E2EBFA;\n",
              "      --hover-fill-color: #174EA6;\n",
              "      --disabled-fill-color: #AAA;\n",
              "      --disabled-bg-color: #DDD;\n",
              "  }\n",
              "\n",
              "  [theme=dark] .colab-df-quickchart {\n",
              "      --bg-color: #3B4455;\n",
              "      --fill-color: #D2E3FC;\n",
              "      --hover-bg-color: #434B5C;\n",
              "      --hover-fill-color: #FFFFFF;\n",
              "      --disabled-bg-color: #3B4455;\n",
              "      --disabled-fill-color: #666;\n",
              "  }\n",
              "\n",
              "  .colab-df-quickchart {\n",
              "    background-color: var(--bg-color);\n",
              "    border: none;\n",
              "    border-radius: 50%;\n",
              "    cursor: pointer;\n",
              "    display: none;\n",
              "    fill: var(--fill-color);\n",
              "    height: 32px;\n",
              "    padding: 0;\n",
              "    width: 32px;\n",
              "  }\n",
              "\n",
              "  .colab-df-quickchart:hover {\n",
              "    background-color: var(--hover-bg-color);\n",
              "    box-shadow: 0 1px 2px rgba(60, 64, 67, 0.3), 0 1px 3px 1px rgba(60, 64, 67, 0.15);\n",
              "    fill: var(--button-hover-fill-color);\n",
              "  }\n",
              "\n",
              "  .colab-df-quickchart-complete:disabled,\n",
              "  .colab-df-quickchart-complete:disabled:hover {\n",
              "    background-color: var(--disabled-bg-color);\n",
              "    fill: var(--disabled-fill-color);\n",
              "    box-shadow: none;\n",
              "  }\n",
              "\n",
              "  .colab-df-spinner {\n",
              "    border: 2px solid var(--fill-color);\n",
              "    border-color: transparent;\n",
              "    border-bottom-color: var(--fill-color);\n",
              "    animation:\n",
              "      spin 1s steps(1) infinite;\n",
              "  }\n",
              "\n",
              "  @keyframes spin {\n",
              "    0% {\n",
              "      border-color: transparent;\n",
              "      border-bottom-color: var(--fill-color);\n",
              "      border-left-color: var(--fill-color);\n",
              "    }\n",
              "    20% {\n",
              "      border-color: transparent;\n",
              "      border-left-color: var(--fill-color);\n",
              "      border-top-color: var(--fill-color);\n",
              "    }\n",
              "    30% {\n",
              "      border-color: transparent;\n",
              "      border-left-color: var(--fill-color);\n",
              "      border-top-color: var(--fill-color);\n",
              "      border-right-color: var(--fill-color);\n",
              "    }\n",
              "    40% {\n",
              "      border-color: transparent;\n",
              "      border-right-color: var(--fill-color);\n",
              "      border-top-color: var(--fill-color);\n",
              "    }\n",
              "    60% {\n",
              "      border-color: transparent;\n",
              "      border-right-color: var(--fill-color);\n",
              "    }\n",
              "    80% {\n",
              "      border-color: transparent;\n",
              "      border-right-color: var(--fill-color);\n",
              "      border-bottom-color: var(--fill-color);\n",
              "    }\n",
              "    90% {\n",
              "      border-color: transparent;\n",
              "      border-bottom-color: var(--fill-color);\n",
              "    }\n",
              "  }\n",
              "</style>\n",
              "\n",
              "  <script>\n",
              "    async function quickchart(key) {\n",
              "      const quickchartButtonEl =\n",
              "        document.querySelector('#' + key + ' button');\n",
              "      quickchartButtonEl.disabled = true;  // To prevent multiple clicks.\n",
              "      quickchartButtonEl.classList.add('colab-df-spinner');\n",
              "      try {\n",
              "        const charts = await google.colab.kernel.invokeFunction(\n",
              "            'suggestCharts', [key], {});\n",
              "      } catch (error) {\n",
              "        console.error('Error during call to suggestCharts:', error);\n",
              "      }\n",
              "      quickchartButtonEl.classList.remove('colab-df-spinner');\n",
              "      quickchartButtonEl.classList.add('colab-df-quickchart-complete');\n",
              "    }\n",
              "    (() => {\n",
              "      let quickchartButtonEl =\n",
              "        document.querySelector('#df-a74f2c46-1a71-406c-bd15-336b5d265de7 button');\n",
              "      quickchartButtonEl.style.display =\n",
              "        google.colab.kernel.accessAllowed ? 'block' : 'none';\n",
              "    })();\n",
              "  </script>\n",
              "</div>\n",
              "\n",
              "    </div>\n",
              "  </div>\n"
            ]
          },
          "metadata": {},
          "execution_count": 133
        }
      ]
    },
    {
      "cell_type": "markdown",
      "source": [
        "#4. Basic LangChain setup\n",
        "\n",
        "We initialize two modules from Langchain: the Hugginface llm pipeline and the RetrievalQA chain and compare their outputs against a set of questions based on the book releases from September from goodreads.\n",
        "\n",
        "We will be using RetrievalQA in the following setup:\n",
        "- text split with LC's recursive text splitter, chunk sizes of around 500 tokens,  overlap of 70 tokens\n",
        "- FAISS as vector database - in-memory memory data vector store based on Meta's optimized library Faiss for efficient similarity search\n",
        "- Llama-2 13B to generate the final output from RAG"
      ],
      "metadata": {
        "id": "7Nugy3lwSaGV"
      }
    },
    {
      "cell_type": "code",
      "source": [
        "from langchain.vectorstores import FAISS\n",
        "from langchain.text_splitter import RecursiveCharacterTextSplitter\n",
        "from langchain.embeddings import HuggingFaceEmbeddings\n",
        "from langchain.document_loaders import CSVLoader, DataFrameLoader\n",
        "from langchain.llms import HuggingFacePipeline\n",
        "from langchain.chains import RetrievalQA\n",
        "\n",
        "llm = HuggingFacePipeline(pipeline=generate_text)\n",
        "\n",
        "def combineBooks(row):\n",
        "    return f\"Author: {row['author']}, Title: '{row['title']}', Description: {row['description']}\"\n",
        "\n",
        "def combineCosmo(row):\n",
        "    return f\"Title: '{row['Title']}', Abstract: {row['Abstract']}\"\n",
        "\n",
        "\n",
        "# books_df['combined'] =  \"Author: \" + books_df['author'] + \", Title: \" + books_df['title'] + \", Description: \" + books_df['description']  + \" Id: \" + books_df['id']\n",
        "books_df['combined'] = books_df.apply(lambda x: combineBooks(x), axis=1)\n",
        "booksLoader = DataFrameLoader(books_df[[\"combined\", \"id\"]], page_content_column=\"combined\")\n",
        "books_documents = booksLoader.load()\n",
        "\n",
        "nasa_ads_df['combined'] = nasa_ads_df.apply(lambda x: combineCosmo(x), axis=1)\n",
        "cosmoLoader = DataFrameLoader(nasa_ads_df[[\"combined\"]], page_content_column=\"combined\")\n",
        "cosmo_documents = cosmoLoader.load()\n",
        "\n",
        "def splitTexts(documents, chunk_size, chunk_overlap, length_function = len):\n",
        "    text_splitter = RecursiveCharacterTextSplitter(\n",
        "        separators=[\"\\n\\n\", \"\\n\", \" \", \"\"],\n",
        "        chunk_size=chunk_size,\n",
        "        chunk_overlap=chunk_overlap,\n",
        "        length_function=length_function,\n",
        "    )\n",
        "\n",
        "    texts = text_splitter.split_documents(documents)\n",
        "    return texts\n",
        "\n",
        "# Text splitting\n",
        "books_texts = splitTexts(books_documents, chunk_size=500, chunk_overlap=70)\n",
        "cosmo_texts = splitTexts(cosmo_documents, chunk_size=400, chunk_overlap=70)\n",
        "\n",
        "def pretty_print_docs(docs):\n",
        "    print(f\"\\n{'-' * 100}\\n\".join([f\"Document {i+1}:\\n\\n\" + d.page_content for i, d in enumerate(docs)]))"
      ],
      "metadata": {
        "id": "udoa2hOTlGyr"
      },
      "execution_count": null,
      "outputs": []
    },
    {
      "cell_type": "code",
      "source": [
        "texts = cosmo_texts\n",
        "\n",
        "dbFaiss = FAISS.from_documents(texts, embed_model)\n",
        "retrieverFaiss = FAISS.from_documents(texts, embed_model).as_retriever()\n",
        "\n",
        "rag = RetrievalQA.from_chain_type(\n",
        "    llm=llm, chain_type='stuff', verbose=True,\n",
        "    retriever=retrieverFaiss\n",
        ")\n"
      ],
      "metadata": {
        "id": "uk4ckDEw0VPk"
      },
      "execution_count": null,
      "outputs": []
    },
    {
      "cell_type": "code",
      "source": [
        "books_texts[:5]"
      ],
      "metadata": {
        "colab": {
          "base_uri": "https://localhost:8080/"
        },
        "id": "UcXvNQP5R2G1",
        "outputId": "a789d1b7-33b1-4cc4-e4e6-8410df096473"
      },
      "execution_count": null,
      "outputs": [
        {
          "output_type": "execute_result",
          "data": {
            "text/plain": [
              "[Document(page_content=\"Author: Lucy Score, Title: 'Things We Left Behind', Description: There was only one woman who could set me free. But I would rather set myself on fire than ask Sloane Walton for anything.Lucian Rollins is a lean, mean vengeance-seeking mogul. On a quest to erase his father’s mark on the family name, he spends every waking minute pulling strings and building an indestructible empire. The more money and power he amasses, the safer he is from threats.Except when it comes to the feisty small-town\", metadata={'id': 'kca://book/amzn1.gr.book.v3.CI518ofIFidEXILu'}),\n",
              " Document(page_content='he is from threats.Except when it comes to the feisty small-town librarian that keeps him up at night…Sloane Walton is a spitfire determined to carry on her father’s quest for justice. She’ll do that just as soon as she figures out exactly what the man she hates did to—or for—her family. Bonded by an old, dark secret from the past and the dislike they now share for each other, Sloane trusts Lucian about as far as she can throw his designer-suited body.When bickering accidentally turns to', metadata={'id': 'kca://book/amzn1.gr.book.v3.CI518ofIFidEXILu'}),\n",
              " Document(page_content='throw his designer-suited body.When bickering accidentally turns to foreplay, these two find themselves not quite regretting their steamy one-night stand. Once those flames are fanned, it seems impossible to put them out again. But with Sloane ready to start a family and Lucian refusing to even consider the idea of marriage and kids, these enemies-to-lovers are stuck at an impasse.Broken men break women. It’s what Lucian believes, what he’s witnessed, and he’s not going to take that chance with', metadata={'id': 'kca://book/amzn1.gr.book.v3.CI518ofIFidEXILu'}),\n",
              " Document(page_content='what he’s witnessed, and he’s not going to take that chance with Sloane. He’d rather live a life of solitude than put her in danger. But he learns the hard way that leaving her means leaving her unprotected from other threats.It’s the second time he’s ruthlessly cut her out of his life. There’s no way she’s going to give him a third chance. He’s just going to have to make one for himself.', metadata={'id': 'kca://book/amzn1.gr.book.v3.CI518ofIFidEXILu'}),\n",
              " Document(page_content=\"Author: Elena  Armas, Title: 'The Long Game', Description: A disgraced soccer exec reluctantly enlists the help of a retired soccer star in coaching a children’s team in this smalltown love story in the vein of Ted Lasso and It Happened One Summer —from the New York Times bestselling author of The Spanish Love Deception.Adalyn Reyes has spent years perfecting her daily routine: wake up at dawn, drive to the Miami Flames FC offices, try her hardest to leave a mark, go home, and repeat.But her\", metadata={'id': 'kca://book/amzn1.gr.book.v3.laK_97rF9qQjQGbP'})]"
            ]
          },
          "metadata": {},
          "execution_count": 17
        }
      ]
    },
    {
      "cell_type": "code",
      "source": [
        "cosmo_texts[:5]"
      ],
      "metadata": {
        "colab": {
          "base_uri": "https://localhost:8080/"
        },
        "id": "1QvxUsOC7mOw",
        "outputId": "67b7fe78-7c07-4947-ba96-bd3c5eeefc72"
      },
      "execution_count": null,
      "outputs": [
        {
          "output_type": "execute_result",
          "data": {
            "text/plain": [
              "[Document(page_content=\"Title: 'A CEERS Discovery of an Accreting Supermassive Black Hole 570 Myr after the Big Bang: Identifying a Progenitor of Massive z &gt; 6 Quasars', Abstract: We report the discovery of an accreting supermassive black hole at z = 8.679. This galaxy, denoted here as CEERS_1019, was previously discovered as a Lyα-break galaxy by Hubble with a Lyα redshift from Keck. As part of the Cosmic Evolution\", metadata={}),\n",
              " Document(page_content='Hubble with a Lyα redshift from Keck. As part of the Cosmic Evolution Early Release Science (CEERS) survey, we have observed this source with JWST/NIRSpec, MIRI, NIRCam, and NIRCam/WFSS and uncovered a plethora of emission lines. The Hβ line is best fit by a narrow plus a broad component, where the latter is measured at 2.5σ with an FWHM ~1200 km s<SUP>-1</SUP>. We conclude this originates in the', metadata={}),\n",
              " Document(page_content='an FWHM ~1200 km s<SUP>-1</SUP>. We conclude this originates in the broadline region of an active galactic nucleus (AGN). This is supported by the presence of weak high-ionization lines (N V, N IV], and C III]), as well as a spatial point-source component. The implied mass of the black hole (BH) is log (M <SUB>BH</SUB>/M <SUB>⊙</SUB>) = 6.95 ± 0.37, and we estimate that it is accreting at 1.2 ±', metadata={}),\n",
              " Document(page_content='= 6.95 ± 0.37, and we estimate that it is accreting at 1.2 ± 0.5 times the Eddington limit. The 1-8 μm photometric spectral energy distribution shows a continuum dominated by starlight and constrains the host galaxy to be massive (log M/M<SUB>⊙</SUB> ~9.5) and highly star-forming (star formation rate, or SFR ~ 30 M<SUB>⊙</SUB> yr<SUP>-1</SUP>; log sSFR ~ - 7.9 yr<SUP>-1</SUP>). The line ratios', metadata={}),\n",
              " Document(page_content='yr<SUP>-1</SUP>; log sSFR ~ - 7.9 yr<SUP>-1</SUP>). The line ratios show that the gas is metal-poor (Z/Z <SUB>⊙</SUB> ~ 0.1), dense (n <SUB> e </SUB> ~ 10<SUP>3</SUP> cm<SUP>-3</SUP>), and highly ionized (log U ~ - 2.1). We use this present highest-redshift AGN discovery to place constraints on BH seeding models and find that a combination of either super-Eddington accretion from stellar seeds or', metadata={})]"
            ]
          },
          "metadata": {},
          "execution_count": 18
        }
      ]
    },
    {
      "cell_type": "markdown",
      "source": [
        "#6. Testing the basic setup\n",
        "Compare pure LLM answers and RetrievalQA answers to following questions:\n",
        "\n",
        "##6.1. Book releases questions\n",
        "\n"
      ],
      "metadata": {
        "id": "DlDRmPIuThZ_"
      }
    },
    {
      "cell_type": "code",
      "source": [
        "llm(\"What is the story of Lucian and Sloane in 'Things We Left Behind'?\")"
      ],
      "metadata": {
        "colab": {
          "base_uri": "https://localhost:8080/",
          "height": 106
        },
        "id": "RxodJ9QJEkXQ",
        "outputId": "716f92d9-0ec8-4f2d-ccb8-f020b4744ddc"
      },
      "execution_count": null,
      "outputs": [
        {
          "output_type": "execute_result",
          "data": {
            "text/plain": [
              "'\\n\\nAnswer: In \"Things We Left Behind,\" Lucian and Sloane are a couple who have been together for several years. They have a comfortable life together, but they both feel like something is missing. They decide to take a trip to a remote island to try and find what they\\'re looking for. During their time on the island, they encounter various challenges and obstacles, including a mysterious illness that affects them both. As they work together to overcome these challenges, they begin to realize that what they\\'ve been searching for all along is each other. The story explores themes of love, loss, and the power of human connection.'"
            ],
            "application/vnd.google.colaboratory.intrinsic+json": {
              "type": "string"
            }
          },
          "metadata": {},
          "execution_count": 24
        }
      ]
    },
    {
      "cell_type": "code",
      "source": [
        "rag(\"What is the story of Lucian and Sloane in 'Things We Left Behind'?\")"
      ],
      "metadata": {
        "colab": {
          "base_uri": "https://localhost:8080/"
        },
        "id": "auEF5foQ4MqK",
        "outputId": "3352b39b-b84e-45f8-d786-6dcfdfab5219"
      },
      "execution_count": null,
      "outputs": [
        {
          "output_type": "stream",
          "name": "stdout",
          "text": [
            "\n",
            "\n",
            "\u001b[1m> Entering new RetrievalQA chain...\u001b[0m\n",
            "\n",
            "\u001b[1m> Finished chain.\u001b[0m\n"
          ]
        },
        {
          "output_type": "execute_result",
          "data": {
            "text/plain": [
              "{'query': \"What is the story of Lucian and Sloane in 'Things We Left Behind'?\",\n",
              " 'result': \" Based on the provided text, there is no mention of a specific story about Lucian and Sloane in 'Things We Left Behind'. The text only describes the character of Lucian Rollins as a lean, mean vengeance-seeking mogul who is on a quest to erase his father's mark on the family name, and mentions that he has cut Sloane Walton out of his life twice before. It does not provide any information about their relationship or interactions. Therefore, I cannot answer the question based on the given context.\"}"
            ]
          },
          "metadata": {},
          "execution_count": 28
        }
      ]
    },
    {
      "cell_type": "markdown",
      "source": [
        "Let's check similarity search results for Faiss (returned with scores. Score is  L2 distance, therfore, a lower score is higher similarity)."
      ],
      "metadata": {
        "id": "ETKldhg6s8fA"
      }
    },
    {
      "cell_type": "code",
      "source": [
        "dbFaiss.similarity_search_with_score(\n",
        "    \"What is the story of Lucian and Sloane in 'Things We Left Behind'?\",  # the search query\n",
        "    k=4\n",
        ")"
      ],
      "metadata": {
        "colab": {
          "base_uri": "https://localhost:8080/"
        },
        "id": "CKP4ALpR9Dr9",
        "outputId": "98d4dfcb-6496-4538-d13a-8c520ccb34b3"
      },
      "execution_count": null,
      "outputs": [
        {
          "output_type": "execute_result",
          "data": {
            "text/plain": [
              "[(Document(page_content=\"Author: Lucy Score, Title: 'Things We Left Behind', Description: There was only one woman who could set me free. But I would rather set myself on fire than ask Sloane Walton for anything.Lucian Rollins is a lean, mean vengeance-seeking mogul. On a quest to erase his father’s mark on the family name, he spends every waking minute pulling strings and building an indestructible empire. The more money and power he amasses, the safer he is from threats.Except when it comes to the feisty small-town\", metadata={'id': 'kca://book/amzn1.gr.book.v3.xbX1ZuO1jHnpidIr'}),\n",
              "  0.26563796),\n",
              " (Document(page_content=\"Author: Lucy Score, Title: 'Things We Left Behind', Description: There was only one woman who could set me free. But I would rather set myself on fire than ask Sloane Walton for anything.Lucian Rollins is a lean, mean vengeance-seeking mogul. On a quest to erase his father’s mark on the family name, he spends every waking minute pulling strings and building an indestructible empire. The more money and power he amasses, the safer he is from threats.Except when it comes to the feisty small-town\", metadata={'id': 'kca://book/amzn1.gr.book.v3.CI518ofIFidEXILu'}),\n",
              "  0.26563796),\n",
              " (Document(page_content='what he’s witnessed, and he’s not going to take that chance with Sloane. He’d rather live a life of solitude than put her in danger. But he learns the hard way that leaving her means leaving her unprotected from other threats.It’s the second time he’s ruthlessly cut her out of his life. There’s no way she’s going to give him a third chance. He’s just going to have to make one for himself.', metadata={'id': 'kca://book/amzn1.gr.book.v3.xbX1ZuO1jHnpidIr'}),\n",
              "  0.36762798),\n",
              " (Document(page_content='what he’s witnessed, and he’s not going to take that chance with Sloane. He’d rather live a life of solitude than put her in danger. But he learns the hard way that leaving her means leaving her unprotected from other threats.It’s the second time he’s ruthlessly cut her out of his life. There’s no way she’s going to give him a third chance. He’s just going to have to make one for himself.', metadata={'id': 'kca://book/amzn1.gr.book.v3.CI518ofIFidEXILu'}),\n",
              "  0.36762798)]"
            ]
          },
          "metadata": {},
          "execution_count": 21
        }
      ]
    },
    {
      "cell_type": "code",
      "source": [
        "rag( \"What is the plot of Lucy Score's novel?\")"
      ],
      "metadata": {
        "colab": {
          "base_uri": "https://localhost:8080/"
        },
        "id": "Ovpe9Hcadk7H",
        "outputId": "98a0dac3-724b-4d03-941a-096d0ebf529f"
      },
      "execution_count": null,
      "outputs": [
        {
          "output_type": "stream",
          "name": "stdout",
          "text": [
            "\n",
            "\n",
            "\u001b[1m> Entering new RetrievalQA chain...\u001b[0m\n",
            "\n",
            "\u001b[1m> Finished chain.\u001b[0m\n"
          ]
        },
        {
          "output_type": "execute_result",
          "data": {
            "text/plain": [
              "{'query': \"What is the plot of Lucy Score's novel?\",\n",
              " 'result': ' Based on the provided descriptions, the plot of Lucy Score\\'s novel \"Things We Left Behind\" appears to revolve around the main character, Lucian Rollins, and his quest for revenge against his father\\'s legacy, as well as his complicated relationship with the feisty small-town woman, Sloane Walton.'}"
            ]
          },
          "metadata": {},
          "execution_count": 30
        }
      ]
    },
    {
      "cell_type": "code",
      "source": [
        "dbFaiss.similarity_search_with_score(\n",
        "    \"What is the plot of Lucy Score's novel?\",  # the search query\n",
        "    k=3\n",
        ")"
      ],
      "metadata": {
        "colab": {
          "base_uri": "https://localhost:8080/"
        },
        "id": "TCmD0eKMZ770",
        "outputId": "ef769f02-3487-4db3-9df7-9e5f55c23a5c"
      },
      "execution_count": null,
      "outputs": [
        {
          "output_type": "execute_result",
          "data": {
            "text/plain": [
              "[(Document(page_content=\"Author: Lucy Score, Title: 'Things We Left Behind', Description: There was only one woman who could set me free. But I would rather set myself on fire than ask Sloane Walton for anything.Lucian Rollins is a lean, mean vengeance-seeking mogul. On a quest to erase his father’s mark on the family name, he spends every waking minute pulling strings and building an indestructible empire. The more money and power he amasses, the safer he is from threats.Except when it comes to the feisty small-town\", metadata={'id': 'kca://book/amzn1.gr.book.v3.xbX1ZuO1jHnpidIr'}),\n",
              "  0.37934643),\n",
              " (Document(page_content=\"Author: Lucy Score, Title: 'Things We Left Behind', Description: There was only one woman who could set me free. But I would rather set myself on fire than ask Sloane Walton for anything.Lucian Rollins is a lean, mean vengeance-seeking mogul. On a quest to erase his father’s mark on the family name, he spends every waking minute pulling strings and building an indestructible empire. The more money and power he amasses, the safer he is from threats.Except when it comes to the feisty small-town\", metadata={'id': 'kca://book/amzn1.gr.book.v3.CI518ofIFidEXILu'}),\n",
              "  0.37934643),\n",
              " (Document(page_content='an unforgettable novel about secrets and fates that asks the timeless how do we live on, even after we’re gone?', metadata={'id': 'kca://book/amzn1.gr.book.v3.uzHBgqjf0cRXilp8'}),\n",
              "  0.42541665)]"
            ]
          },
          "metadata": {},
          "execution_count": 22
        }
      ]
    },
    {
      "cell_type": "code",
      "source": [
        "rag( \"What is the plot of 'Things We Left Behind'?\")"
      ],
      "metadata": {
        "colab": {
          "base_uri": "https://localhost:8080/"
        },
        "id": "gtHKfzyyd5TC",
        "outputId": "8021e73c-6b8e-4c9b-fc49-0369815038e7"
      },
      "execution_count": null,
      "outputs": [
        {
          "output_type": "stream",
          "name": "stdout",
          "text": [
            "\n",
            "\n",
            "\u001b[1m> Entering new RetrievalQA chain...\u001b[0m\n",
            "\n",
            "\u001b[1m> Finished chain.\u001b[0m\n"
          ]
        },
        {
          "output_type": "execute_result",
          "data": {
            "text/plain": [
              "{'query': \"What is the plot of 'Things We Left Behind'?\",\n",
              " 'result': \" Based on the description provided, 'Things We Left Behind' appears to be a romantic mystery novel that revolves around the story of Lucian Rollins, a wealthy businessman seeking revenge against his father's legacy, and his complicated relationship with Sloane Walton, the woman who can set him free. The book seems to explore themes of deception, power, and the consequences of one's actions.\"}"
            ]
          },
          "metadata": {},
          "execution_count": 31
        }
      ]
    },
    {
      "cell_type": "code",
      "source": [
        "dbFaiss.similarity_search_with_score(\n",
        "    \"What is the plot of 'Things We Left Behind'?\",\n",
        "    k=3\n",
        ")"
      ],
      "metadata": {
        "colab": {
          "base_uri": "https://localhost:8080/"
        },
        "id": "RGAcs-QxeBlS",
        "outputId": "ded1d5e3-517d-4b21-c117-edccefd235c4"
      },
      "execution_count": null,
      "outputs": [
        {
          "output_type": "execute_result",
          "data": {
            "text/plain": [
              "[(Document(page_content=\"Author: Lucy Score, Title: 'Things We Left Behind', Description: There was only one woman who could set me free. But I would rather set myself on fire than ask Sloane Walton for anything.Lucian Rollins is a lean, mean vengeance-seeking mogul. On a quest to erase his father’s mark on the family name, he spends every waking minute pulling strings and building an indestructible empire. The more money and power he amasses, the safer he is from threats.Except when it comes to the feisty small-town\", metadata={'id': 'kca://book/amzn1.gr.book.v3.xbX1ZuO1jHnpidIr'}),\n",
              "  0.3818617),\n",
              " (Document(page_content=\"Author: Lucy Score, Title: 'Things We Left Behind', Description: There was only one woman who could set me free. But I would rather set myself on fire than ask Sloane Walton for anything.Lucian Rollins is a lean, mean vengeance-seeking mogul. On a quest to erase his father’s mark on the family name, he spends every waking minute pulling strings and building an indestructible empire. The more money and power he amasses, the safer he is from threats.Except when it comes to the feisty small-town\", metadata={'id': 'kca://book/amzn1.gr.book.v3.CI518ofIFidEXILu'}),\n",
              "  0.3818617),\n",
              " (Document(page_content='an unforgettable novel about secrets and fates that asks the timeless how do we live on, even after we’re gone?', metadata={'id': 'kca://book/amzn1.gr.book.v3.uzHBgqjf0cRXilp8'}),\n",
              "  0.39077148)]"
            ]
          },
          "metadata": {},
          "execution_count": 23
        }
      ]
    },
    {
      "cell_type": "markdown",
      "source": [
        "LLM's answer is completely made up and not true to facts.\n",
        "\n",
        "We can see that if the book was matched positively against the appropriate record the proper answer is returned by the retriever chain.\n"
      ],
      "metadata": {
        "id": "Jh9oxMqUYtIe"
      }
    },
    {
      "cell_type": "code",
      "source": [
        "rag(\"What is the plot of 'Things We Left Behind'?\")\n"
      ],
      "metadata": {
        "colab": {
          "base_uri": "https://localhost:8080/"
        },
        "id": "-Q0gSEvt26o-",
        "outputId": "725e455b-8e15-471b-fb9c-3d1683dc12f5"
      },
      "execution_count": null,
      "outputs": [
        {
          "output_type": "stream",
          "name": "stdout",
          "text": [
            "\n",
            "\n",
            "\u001b[1m> Entering new RetrievalQA chain...\u001b[0m\n",
            "\n",
            "\u001b[1m> Finished chain.\u001b[0m\n"
          ]
        },
        {
          "output_type": "execute_result",
          "data": {
            "text/plain": [
              "{'query': \"What is the plot of 'Things We Left Behind'?\",\n",
              " 'result': \" Based on the description provided, 'Things We Left Behind' appears to be a romantic mystery novel that revolves around the story of Lucian Rollins, a wealthy businessman seeking revenge against his father's legacy, and his complicated relationship with Sloane Walton, the woman who can set him free. The book seems to explore themes of deception, power, and the consequences of one's actions.\"}"
            ]
          },
          "metadata": {},
          "execution_count": 34
        }
      ]
    },
    {
      "cell_type": "code",
      "source": [
        "llm( \"What are the latest adventures of Holly Gibney and what case is she solving in King's latest novel and what's it called?\")\n"
      ],
      "metadata": {
        "colab": {
          "base_uri": "https://localhost:8080/",
          "height": 70
        },
        "id": "z1oOb31gEkUJ",
        "outputId": "002fc989-19d0-43ac-f5ba-661dd7716c06"
      },
      "execution_count": null,
      "outputs": [
        {
          "output_type": "execute_result",
          "data": {
            "text/plain": [
              "'\\n\\nAnswer: The latest adventures of Holly Gibney can be found in the novel \"The Outsider\" by Stephen King, which was published in 2018. In this book, Holly is a key player in solving a gruesome murder that takes place in a small town in Oklahoma. The case centers around the death of a young boy who is found dead in a cave, with no signs of any suspects or motives. Holly uses her unique abilities as an autistic savant to help unravel the mystery and bring the perpetrator to justice.'"
            ],
            "application/vnd.google.colaboratory.intrinsic+json": {
              "type": "string"
            }
          },
          "metadata": {},
          "execution_count": 58
        }
      ]
    },
    {
      "cell_type": "code",
      "source": [
        "rag( \"What are the latest adventures of Holly Gibney and what case is she solving in King's latest novel and what's it called?\")"
      ],
      "metadata": {
        "colab": {
          "base_uri": "https://localhost:8080/"
        },
        "id": "hKOpN9C44PTI",
        "outputId": "75476ada-eace-4d52-8072-4c166cc1f89a"
      },
      "execution_count": null,
      "outputs": [
        {
          "output_type": "stream",
          "name": "stdout",
          "text": [
            "\n",
            "\n",
            "\u001b[1m> Entering new RetrievalQA chain...\u001b[0m\n",
            "\n",
            "\u001b[1m> Finished chain.\u001b[0m\n"
          ]
        },
        {
          "output_type": "execute_result",
          "data": {
            "text/plain": [
              "{'query': \"What are the latest adventures of Holly Gibney and what case is she solving in King's latest novel and what's it called?\",\n",
              " 'result': \" Holly Gibney, the protagonist of King's latest novel, is on her own and up against a pair of unimaginably depraved and brilliantly disguised adversaries as she tries to solve the gruesome truth behind multiple disappearances in a midwestern town.\"}"
            ]
          },
          "metadata": {},
          "execution_count": 24
        }
      ]
    },
    {
      "cell_type": "code",
      "source": [
        "dbFaiss.similarity_search_with_score(\n",
        "    \"What are the latest adventures of Holly Gibney and what case is she solving in King's latest novel and what's it called?\",\n",
        "    k=3\n",
        ")"
      ],
      "metadata": {
        "colab": {
          "base_uri": "https://localhost:8080/"
        },
        "id": "_r72s5kTwtKy",
        "outputId": "b4660884-a090-47cc-8ed9-918105877c07"
      },
      "execution_count": null,
      "outputs": [
        {
          "output_type": "execute_result",
          "data": {
            "text/plain": [
              "[(Document(page_content=\"Author: Stephen King, Title: 'Holly', Description: Holly Gibney, one of Stephen King’s most compelling and ingeniously resourceful characters, returns in this thrilling novel to solve the gruesome truth behind multiple disappearances in a midwestern town.“Sometimes the universe throws you a rope.” — BILL HODGESStephen King’s Holly marks the triumphant return of beloved King character Holly Gibney. Readers have witnessed Holly’s gradual transformation from a shy (but also brave and ethical)\", metadata={'id': 'kca://book/amzn1.gr.book.v3.Xdyc7bcQBYUrWE8s'}),\n",
              "  0.2978371),\n",
              " (Document(page_content=\"Author: Stephen King, Title: 'Holly', Description: Holly Gibner, één van Stephen Kings meest meeslepende en vindingrijke personages, keert in deze bloedstollende thriller terug om de gruwelijke waarheid achter een reeks verdwijningen in een klein stadje te achterhalen.Stephen Kings Holly betekent de triomfantelijke terugkeer van het geliefde personage Holly Gibner. Lezers hebben kunnen genieten van Holly’s ontwikkeling van verlegen (maar ook stoere en morele) einzelgänger in Mr. Mercedes, naar\", metadata={'id': 'kca://book/amzn1.gr.book.v3.-fzlhv8grMhoOUwN'}),\n",
              "  0.36960083),\n",
              " (Document(page_content='to each other, and semi-retired lifelong academics. But they are harboring an unholy secret in the basement of their well-kept, book-lined home, one that may be related to Bonnie’s disappearance. And it will prove nearly impossible to discover what they are up to: they are savvy, they are patient, and they are ruthless.Holly must summon all her formidable talents to outthink and outmaneuver the shockingly twisted professors in this chilling new masterwork from Stephen King.', metadata={'id': 'kca://book/amzn1.gr.book.v3.Xdyc7bcQBYUrWE8s'}),\n",
              "  0.37046924)]"
            ]
          },
          "metadata": {},
          "execution_count": 25
        }
      ]
    },
    {
      "cell_type": "markdown",
      "source": [
        "Pure LLM produced wrong answer because his parametric knowledge doesnt contain information about the latest S. King book \"Holly\".\n",
        "\n",
        " RAG finds the right answer but LLM doesn't mention the title in its answer.\n"
      ],
      "metadata": {
        "id": "_jfoXTpPaiZ5"
      }
    },
    {
      "cell_type": "code",
      "source": [
        "llm(\"What is the latest installment in the Serpent & Dove NYT series about and what's called and what happens to Célie?\")\n"
      ],
      "metadata": {
        "colab": {
          "base_uri": "https://localhost:8080/",
          "height": 123
        },
        "id": "0AOPYZkFEkQP",
        "outputId": "e606c518-0d08-4f09-8635-08b48b156059"
      },
      "execution_count": null,
      "outputs": [
        {
          "output_type": "execute_result",
          "data": {
            "text/plain": [
              "'\\n\\nThe latest installment of the Serpent & Dove series by The New York Times is called \"Célie\\'s Journey\" and it follows the story of Célie, a young woman who was introduced in the previous installment as a new member of the group. In this installment, Célie embarks on a journey to discover her true identity and purpose, and she encounters many challenges and obstacles along the way.\\n\\nOne of the main plot points in \"Célie\\'s Journey\" is that Célie discovers that she has the ability to control the elements, specifically water. She learns how to harness her powers and use them for good, but she also faces the temptation of using her powers for personal gain. This internal conflict is a central theme of the installment and adds depth to Célie\\'s character.\\n\\nAnother important aspect of \"Célie\\'s Journey\" is the development of the relationships between the characters. Célie forms close bonds with some of the other members of the group, particularly with a character named Lysander, who becomes her mentor and confidant. Their relationship is complex and nu'"
            ],
            "application/vnd.google.colaboratory.intrinsic+json": {
              "type": "string"
            }
          },
          "metadata": {},
          "execution_count": 132
        }
      ]
    },
    {
      "cell_type": "code",
      "source": [
        "rag(\"What is the latest installment in the Serpent & Dove NYT series about and what happens to Célie?\")"
      ],
      "metadata": {
        "colab": {
          "base_uri": "https://localhost:8080/"
        },
        "id": "6nLAYRqp4tLg",
        "outputId": "0eea1251-0dfe-4a0e-90c1-a686e88f3543"
      },
      "execution_count": null,
      "outputs": [
        {
          "output_type": "stream",
          "name": "stdout",
          "text": [
            "\n",
            "\n",
            "\u001b[1m> Entering new RetrievalQA chain...\u001b[0m\n",
            "\n",
            "\u001b[1m> Finished chain.\u001b[0m\n"
          ]
        },
        {
          "output_type": "execute_result",
          "data": {
            "text/plain": [
              "{'query': 'What is the latest installment in the Serpent & Dove NYT series about and what happens to Célie?',\n",
              " 'result': ' The latest installment is called \"The Scarlet Veil\" and it follows Célie as she takes her sacred vows and joins the ranks of the Chasseurs as their first huntswoman. She faces new challenges and old demons from her past while trying to protect Belterra from a new evil rising.'}"
            ]
          },
          "metadata": {},
          "execution_count": 27
        }
      ]
    },
    {
      "cell_type": "markdown",
      "source": [
        "Here both LLM and RAG gave wrong made up titles.  It's actually called 'The secret veil\". The rest of the answer is right in case of RAG.\n",
        "\n",
        "Below slightly more general question about the same resulted in query not being matched agaist the correct vectors in the db at all."
      ],
      "metadata": {
        "id": "hmpa3qoB7DyJ"
      }
    },
    {
      "cell_type": "code",
      "source": [
        "dbFaiss.similarity_search_with_score(\n",
        "    \"What is the latest installment in the Serpent & Dove NYT series about and what's it called?\",  # the search query\n",
        "    k=3\n",
        ")"
      ],
      "metadata": {
        "colab": {
          "base_uri": "https://localhost:8080/"
        },
        "id": "2GxNnz6-NZw8",
        "outputId": "59cff7cb-9516-481c-9ba9-ac2ee0ebe7a1"
      },
      "execution_count": null,
      "outputs": [
        {
          "output_type": "execute_result",
          "data": {
            "text/plain": [
              "[(Document(page_content=\"Author: Shelby Mahurin, Title: 'The Scarlet Veil', Description: A dark and thrilling vampire romance set in the world of the New York Times bestselling Serpent &amp; Dove series.Six months have passed since Célie took her sacred vows and joined the ranks of the Chasseurs as their first huntswoman. With her fiancé, Jean Luc, as captain, she is determined to find her foothold in her new role and help protect Belterra. But whispers from her past still haunt her, and a new evil is rising—one that\", metadata={'id': 'kca://book/amzn1.gr.book.v3.SLNfI1TaGG52CXO1'}),\n",
              "  0.39994842),\n",
              " (Document(page_content='firmly on their tail, has their luck finally run out? And who will be the last devil to die?', metadata={'id': 'kca://book/amzn1.gr.book.v3.28cOdXrYaG19ApBY'}),\n",
              "  0.40393052),\n",
              " (Document(page_content='an unforgettable novel about secrets and fates that asks the timeless how do we live on, even after we’re gone?', metadata={'id': 'kca://book/amzn1.gr.book.v3.uzHBgqjf0cRXilp8'}),\n",
              "  0.4169304)]"
            ]
          },
          "metadata": {},
          "execution_count": 26
        }
      ]
    },
    {
      "cell_type": "code",
      "source": [
        "llm( \"What is the sequel to 'Foul Lady Fortune' and what is it about?\")\n"
      ],
      "metadata": {
        "colab": {
          "base_uri": "https://localhost:8080/",
          "height": 53
        },
        "id": "8N-LgSEnEy5f",
        "outputId": "ff5d16ee-86ae-4ad2-bab2-68f4e75b92e0"
      },
      "execution_count": null,
      "outputs": [
        {
          "output_type": "execute_result",
          "data": {
            "text/plain": [
              "'\\n\\nAnswer: The sequel to \"Foul Lady Fortune\" is called \"The Sweetest Kind of Cruelty\". It continues the story of Arsinoe and her friends as they navigate the dangerous world of the game. The book explores themes of loyalty, power, and the cost of ambition as the characters face new challenges and obstacles in their quest for victory.'"
            ],
            "application/vnd.google.colaboratory.intrinsic+json": {
              "type": "string"
            }
          },
          "metadata": {},
          "execution_count": 63
        }
      ]
    },
    {
      "cell_type": "code",
      "source": [
        "rag( \"What is the sequel to 'Foul Lady Fortune' and what is it about?\")"
      ],
      "metadata": {
        "colab": {
          "base_uri": "https://localhost:8080/"
        },
        "id": "wpzBV15l6unF",
        "outputId": "a5db8e6c-775d-4512-ea35-a9169f65d38a"
      },
      "execution_count": null,
      "outputs": [
        {
          "output_type": "stream",
          "name": "stdout",
          "text": [
            "\n",
            "\n",
            "\u001b[1m> Entering new RetrievalQA chain...\u001b[0m\n",
            "\n",
            "\u001b[1m> Finished chain.\u001b[0m\n"
          ]
        },
        {
          "output_type": "execute_result",
          "data": {
            "text/plain": [
              "{'query': \"What is the sequel to 'Foul Lady Fortune' and what is it about?\",\n",
              " 'result': \" The sequel to 'Foul Lady Fortune' is titled 'Our Violent Ends'. It continues the story of Rosalind Lang, an immortal assassin in 1930s Shanghai, as she races to save her country and her love while facing the ever-nearing threat of a Japanese invasion.\"}"
            ]
          },
          "metadata": {},
          "execution_count": 30
        }
      ]
    },
    {
      "cell_type": "code",
      "source": [
        "dbFaiss.similarity_search_with_score(\n",
        "    \"What is the sequel to 'Foul Lady Fortune' and what is it about?\",  # the search query\n",
        "    k=3\n",
        ")"
      ],
      "metadata": {
        "colab": {
          "base_uri": "https://localhost:8080/"
        },
        "id": "U9nMqiZoOOqJ",
        "outputId": "e8cfd4a8-2de4-4f73-af18-ea2eb4818b22"
      },
      "execution_count": null,
      "outputs": [
        {
          "output_type": "execute_result",
          "data": {
            "text/plain": [
              "[(Document(page_content=\"Author: Chloe Gong, Title: 'Foul Heart Huntsman', Description: From the #1 New York Times bestselling author of These Violent Delights and Our Violent Ends comes the second book in the captivating Foul Lady Fortune duology following an immortal assassin in 1930s Shanghai as she races to save her country and her love.Winter is drawing thick in 1932 Shanghai, as is the ever-nearing threat of a Japanese invasion.Rosalind Lang has suffered the worst possible fate for a national spy: she’s been\", metadata={'id': 'kca://book/amzn1.gr.book.v3.cmX8HeCZaDYgA_Vk'}),\n",
              "  0.39501286),\n",
              " (Document(page_content='an unforgettable novel about secrets and fates that asks the timeless how do we live on, even after we’re gone?', metadata={'id': 'kca://book/amzn1.gr.book.v3.uzHBgqjf0cRXilp8'}),\n",
              "  0.42079186),\n",
              " (Document(page_content='Author: Kathryn Purdie, Title: \\'The Forest Grimm\\', Description: Where fairy tales come to life with dark, deadly twists...\"Tell me again, Grandmère, the story of how I die.\"The Midnight Forest. The Fanged Creature. Two fortune-telling cards that spell an untimely death for 17-year-old Clara. Despite the ever-present warning from her fortune-teller grandmother, Clara embarks on a dangerous journey into the deadly Forest Grimm to procure a magical book - Sortes Fortunae , the Book of Fortunes -', metadata={'id': 'kca://book/amzn1.gr.book.v3.d4tn6y-73id5cUj0'}),\n",
              "  0.4314576)]"
            ]
          },
          "metadata": {},
          "execution_count": 29
        }
      ]
    },
    {
      "cell_type": "markdown",
      "source": [
        "LLM confabulated about the title and the plot of the story. RAG also mistaken title for the title for another book from that same author that it found in the description of the novel, but the rest of the plot is well summarized.\n",
        "\n"
      ],
      "metadata": {
        "id": "IIlK8oa9Mzzp"
      }
    },
    {
      "cell_type": "code",
      "source": [
        "llm( \"Give me a short synopsis of events of 'The Unfortunate Side Effects of Heartbreak and Magic' novel by B.Randall\")\n"
      ],
      "metadata": {
        "colab": {
          "base_uri": "https://localhost:8080/",
          "height": 88
        },
        "id": "WPs75iQnEy2s",
        "outputId": "080a5cce-210b-4b12-fcfe-3978e7a2065a"
      },
      "execution_count": null,
      "outputs": [
        {
          "output_type": "execute_result",
          "data": {
            "text/plain": [
              "'.\\n\\nSure! Here\\'s a short synopsis of the events in \"The Unfortunate Side Effects of Heartbreak and Magic\" by B. Randall:\\n\\nAfter her boyfriend dumps her, Ember finds solace in her magic abilities. However, she soon discovers that her heartbreak has unleashed a powerful and unpredictable magic within her. As she struggles to control her newfound powers, Ember must also navigate her complicated relationships with her best friend, her ex-boyfriend, and a mysterious new love interest. Along the way, she learns that the line between magic and heartbreak is thin, and that true love can be found in the most unexpected places.'"
            ],
            "application/vnd.google.colaboratory.intrinsic+json": {
              "type": "string"
            }
          },
          "metadata": {},
          "execution_count": 65
        }
      ]
    },
    {
      "cell_type": "code",
      "source": [
        "rag( \"Give me a short synopsis of events of 'The Unfortunate Side Effects of Heartbreak and Magic' novel by B.Randall\")"
      ],
      "metadata": {
        "colab": {
          "base_uri": "https://localhost:8080/"
        },
        "id": "p91qsIli6ydz",
        "outputId": "113e9101-f310-4809-c43e-605dda6dd79a"
      },
      "execution_count": null,
      "outputs": [
        {
          "output_type": "stream",
          "name": "stdout",
          "text": [
            "\n",
            "\n",
            "\u001b[1m> Entering new RetrievalQA chain...\u001b[0m\n",
            "\n",
            "\u001b[1m> Finished chain.\u001b[0m\n"
          ]
        },
        {
          "output_type": "execute_result",
          "data": {
            "text/plain": [
              "{'query': \"Give me a short synopsis of events of 'The Unfortunate Side Effects of Heartbreak and Magic' novel by B.Randall\",\n",
              " 'result': \" Sure! Here's a brief summary of the plot of 'The Unfortunate Side Effects of Heartbreak and Magic':\\n\\nSadie Revelare, a young woman with magical abilities, must navigate her family's history of heartbreak and the consequences it brings. As her grandmother's health declines and her own relationships falter, Sadie must confront the last of her heartbreaks and decide whether love is more important than her magic. Along the way, she must also contend with a mysterious force threatening her town and learn to trust those around her in order to save everything she holds dear.\"}"
            ]
          },
          "metadata": {},
          "execution_count": 31
        }
      ]
    },
    {
      "cell_type": "markdown",
      "source": [
        "Here Llama hallucinates again, and retriever does good job. 3:0 to RAG."
      ],
      "metadata": {
        "id": "OQJAuGEglLeV"
      }
    },
    {
      "cell_type": "code",
      "source": [
        "llm( \"What's the latest novel by Mona Awad?\")\n"
      ],
      "metadata": {
        "colab": {
          "base_uri": "https://localhost:8080/",
          "height": 36
        },
        "id": "5hQbhuFbE30v",
        "outputId": "c5548053-b953-49a3-b735-c8d8db312835"
      },
      "execution_count": null,
      "outputs": [
        {
          "output_type": "execute_result",
          "data": {
            "text/plain": [
              "'\\n\\nAnswer: The latest novel by Mona Awad is \"Bewilderness\".'"
            ],
            "application/vnd.google.colaboratory.intrinsic+json": {
              "type": "string"
            }
          },
          "metadata": {},
          "execution_count": 67
        }
      ]
    },
    {
      "cell_type": "code",
      "source": [
        "rag( \"What's the latest novel by Mona Awad?\")"
      ],
      "metadata": {
        "colab": {
          "base_uri": "https://localhost:8080/"
        },
        "id": "A4RXVc_o64OF",
        "outputId": "59811a47-5c7b-4029-a8fc-9530c5d87075"
      },
      "execution_count": null,
      "outputs": [
        {
          "output_type": "stream",
          "name": "stdout",
          "text": [
            "\n",
            "\n",
            "\u001b[1m> Entering new RetrievalQA chain...\u001b[0m\n",
            "\n",
            "\u001b[1m> Finished chain.\u001b[0m\n"
          ]
        },
        {
          "output_type": "execute_result",
          "data": {
            "text/plain": [
              "{'query': \"What's the latest novel by Mona Awad?\",\n",
              " 'result': ' Based on the information provided, the latest novel by Mona Awad is \"Rouge\".'}"
            ]
          },
          "metadata": {},
          "execution_count": 33
        }
      ]
    },
    {
      "cell_type": "code",
      "source": [
        "dbFaiss.similarity_search_with_score(\n",
        "    \"What's the latest novel by Mona Awad?\",  # the search query\n",
        "\n",
        "    k=3  # returns top 3 most relevant articles\n",
        ")"
      ],
      "metadata": {
        "colab": {
          "base_uri": "https://localhost:8080/"
        },
        "id": "kWnaxPew-oFQ",
        "outputId": "43b0d2ba-93f1-4fcf-d210-45c27bbd6b2c"
      },
      "execution_count": null,
      "outputs": [
        {
          "output_type": "execute_result",
          "data": {
            "text/plain": [
              "[(Document(page_content=\"Author: Mona Awad, Title: 'Rouge', Description: From the critically acclaimed author of Bunny comes a horror-tinted, gothic fairy tale about a lonely dress shop clerk whose mother’s unexpected death sends her down a treacherous path in pursuit of youth and beauty. Can she escape her mother’s fate—and find a connection that is more than skin deep?For as long as she can remember, Belle has been insidiously obsessed with her skin and skincare videos. When her estranged mother Noelle mysteriously\", metadata={'id': 'kca://book/amzn1.gr.book.v3.fDu8MXBOGcUfyd89'}),\n",
              "  0.32441324),\n",
              " (Document(page_content='an unforgettable novel about secrets and fates that asks the timeless how do we live on, even after we’re gone?', metadata={'id': 'kca://book/amzn1.gr.book.v3.uzHBgqjf0cRXilp8'}),\n",
              "  0.42721808),\n",
              " (Document(page_content=\"Author: Etaf Rum, Title: 'Evil Eye', Description: The acclaimed New York Times bestselling author of A Woman Is No Man returns with a striking exploration of the expectations of Palestinian-American women, the meaning of a fulfilling life, and the ways our unresolved pasts affect our presents.Raised in a conservative and emotionally volatile Palestinian family in Brooklyn, Yara thought she would finally feel free when she married a charming entrepreneur who took her to the suburbs. She’s gotten\", metadata={'id': 'kca://book/amzn1.gr.book.v3.w0w2GUYCy0vwaayq'}),\n",
              "  0.44578853)]"
            ]
          },
          "metadata": {},
          "execution_count": 32
        }
      ]
    },
    {
      "cell_type": "markdown",
      "source": [
        "Here pure LLM was wrong while RAGs answer while correct is pretty brief.\n",
        "\n"
      ],
      "metadata": {
        "id": "ZxM56mUElbPs"
      }
    },
    {
      "cell_type": "code",
      "source": [
        "llm(\"What does Mona Awad say about beauty industry in her latest book?\")"
      ],
      "metadata": {
        "colab": {
          "base_uri": "https://localhost:8080/",
          "height": 123
        },
        "id": "q1UnnOUoO2-r",
        "outputId": "522dd2a1-da87-43a5-b08d-4a2920bc8fb9"
      },
      "execution_count": null,
      "outputs": [
        {
          "output_type": "execute_result",
          "data": {
            "text/plain": [
              "'\\nMona Awad\\'s latest book, \"All the Wild Hungers\", explores themes of beauty, identity, and power through the lens of a group of women who are struggling to find their place in society. In the book, Awad challenges traditional notions of beauty and femininity, arguing that these concepts are socially constructed and can be damaging to individuals and society as a whole.\\n\\nOne of the main characters in the book, Lily, is a young woman who is obsessed with her appearance and feels pressure to conform to societal beauty standards. Through Lily\\'s journey, Awad highlights the ways in which the beauty industry can be harmful and oppressive, perpetuating unrealistic beauty ideals and reinforcing damaging gender stereotypes.\\n\\nAt the same time, Awad also celebrates the beauty and strength of women in all their forms, suggesting that true beauty comes from within and cannot be reduced to physical appearances. Through her writing, Awad encourages readers to embrace their unique qualities and reject societal expectations of what it means to be beautiful or feminine.\\n\\nOverall, \"All the Wild Hungers\" is a thought'"
            ],
            "application/vnd.google.colaboratory.intrinsic+json": {
              "type": "string"
            }
          },
          "metadata": {},
          "execution_count": 201
        }
      ]
    },
    {
      "cell_type": "code",
      "source": [
        "rag(\"What does Mona Awad say about beauty industry in her latest book?\")"
      ],
      "metadata": {
        "colab": {
          "base_uri": "https://localhost:8080/"
        },
        "id": "Oz4whHeVO3Iz",
        "outputId": "04c92910-dfbc-47bf-b046-972e5181adf6"
      },
      "execution_count": null,
      "outputs": [
        {
          "output_type": "stream",
          "name": "stdout",
          "text": [
            "\n",
            "\n",
            "\u001b[1m> Entering new RetrievalQA chain...\u001b[0m\n",
            "\n",
            "\u001b[1m> Finished chain.\u001b[0m\n"
          ]
        },
        {
          "output_type": "execute_result",
          "data": {
            "text/plain": [
              "{'query': 'What does Mona Awad say about beauty industry in her latest book?',\n",
              " 'result': ' Based on the description provided, it appears that Mona Awad\\'s latest book, \"Rouge,\" explores the darker aspects of the beauty industry and the impact it can have on individuals, particularly women. The book touches on themes such as obsession, grief, and the complex relationships between mothers and daughters. It also uses elements of horror and black humor to examine the cult-like nature of the beauty industry and the dangers of internalizing its pitiless gaze.'}"
            ]
          },
          "metadata": {},
          "execution_count": 34
        }
      ]
    },
    {
      "cell_type": "code",
      "source": [
        "dbFaiss.similarity_search_with_score(\n",
        "    \"What does Mona Awad say about beauty industry in her latest book?\",  # the search query\n",
        "    k=2\n",
        ")"
      ],
      "metadata": {
        "colab": {
          "base_uri": "https://localhost:8080/"
        },
        "id": "7V0a1wXgO3K5",
        "outputId": "a67df6fe-7aeb-46f3-c57f-3ce69deeb1c9"
      },
      "execution_count": null,
      "outputs": [
        {
          "output_type": "execute_result",
          "data": {
            "text/plain": [
              "[(Document(page_content=\"Author: Mona Awad, Title: 'Rouge', Description: From the critically acclaimed author of Bunny comes a horror-tinted, gothic fairy tale about a lonely dress shop clerk whose mother’s unexpected death sends her down a treacherous path in pursuit of youth and beauty. Can she escape her mother’s fate—and find a connection that is more than skin deep?For as long as she can remember, Belle has been insidiously obsessed with her skin and skincare videos. When her estranged mother Noelle mysteriously\", metadata={'id': 'kca://book/amzn1.gr.book.v3.fDu8MXBOGcUfyd89'}),\n",
              "  0.32243598),\n",
              " (Document(page_content=\"an industry that seems determined to keep pushing them together, can Blake hold on to her grudge? Or will she finally warm up to Gabriel's charm?\", metadata={'id': 'kca://book/amzn1.gr.book.v3.1kpTSeXV5Lim2cs1'}),\n",
              "  0.42276725)]"
            ]
          },
          "metadata": {},
          "execution_count": 36
        }
      ]
    },
    {
      "cell_type": "markdown",
      "source": [
        "**Summary:**\n",
        "\n",
        "Overall, even the naive RAG setup: Llama + vector store + embeddings setup does much better job of finding correct answers. Vector store component seems to work very well, and the LLM sometimes gets confused about titles, but otherwise produce true information.\n",
        "\n",
        "Big improvement overall!"
      ],
      "metadata": {
        "id": "ykLDFHtzl4II"
      }
    },
    {
      "cell_type": "markdown",
      "source": [
        "##6.2 Cosmology questions\n",
        "\n",
        "Now we pick some test questions based on NASA cosmology corpus of articles from last month (August-September). This dataset contains much more intricate, jargon-packed langugae.\n",
        "\n",
        "\n"
      ],
      "metadata": {
        "id": "i1g6UDL0EILk"
      }
    },
    {
      "cell_type": "code",
      "source": [
        "llm('Why are young massive planets easier to study their atmospheres?')"
      ],
      "metadata": {
        "colab": {
          "base_uri": "https://localhost:8080/",
          "height": 88
        },
        "id": "do2fpUClUNwr",
        "outputId": "74821c80-dd4f-47e1-829b-ce3119a656c9"
      },
      "execution_count": null,
      "outputs": [
        {
          "output_type": "execute_result",
          "data": {
            "text/plain": [
              "'\\n\\nYoung massive planets are easier to study their atmospheres because they are typically brighter and more massive than older, smaller planets. This makes them easier to detect and observe with telescopes, allowing scientists to gather more data about their atmospheres. Additionally, young massive planets are often still in the process of forming, which means that their atmospheres are still being shaped by ongoing planetary accretion and differentiation. This makes them a unique window into the early stages of planetary formation and evolution.\\n\\n\\n\\n'"
            ],
            "application/vnd.google.colaboratory.intrinsic+json": {
              "type": "string"
            }
          },
          "metadata": {},
          "execution_count": 45
        }
      ]
    },
    {
      "cell_type": "code",
      "source": [
        "rag('Why are young massive planets easier to study their atmospheres?')"
      ],
      "metadata": {
        "colab": {
          "base_uri": "https://localhost:8080/"
        },
        "id": "mUZ14igYUNtd",
        "outputId": "d55eee49-ada4-4912-8227-cba44b9ca6d9"
      },
      "execution_count": null,
      "outputs": [
        {
          "output_type": "stream",
          "name": "stdout",
          "text": [
            "\n",
            "\n",
            "\u001b[1m> Entering new RetrievalQA chain...\u001b[0m\n",
            "\n",
            "\u001b[1m> Finished chain.\u001b[0m\n"
          ]
        },
        {
          "output_type": "execute_result",
          "data": {
            "text/plain": [
              "{'query': 'Why are young massive planets easier to study their atmospheres?',\n",
              " 'result': ' Young massive planets are easier to study because they are more luminous, allowing for better detection and analysis of their atmospheres through spectroscopy. Additionally, their close proximity to the host star means that their atmospheres are more extended and easier to observe.'}"
            ]
          },
          "metadata": {},
          "execution_count": 39
        }
      ]
    },
    {
      "cell_type": "code",
      "source": [
        "dbFaiss.similarity_search_with_score(\n",
        "    'Why are young massive planets easier to study their atmospheres?',  # the search query\n",
        "\n",
        "    k=3  # returns top 2 most relevant articles\n",
        ")"
      ],
      "metadata": {
        "colab": {
          "base_uri": "https://localhost:8080/"
        },
        "id": "EwzqSPjDfDJl",
        "outputId": "e542c47a-9a76-44ba-e0b4-83fa4a82e52f"
      },
      "execution_count": null,
      "outputs": [
        {
          "output_type": "execute_result",
          "data": {
            "text/plain": [
              "[(Document(page_content=\"Title: 'CO, H$_2$O, and CH$_4$ in the Dusty Atmosphere of a $\\\\le$5 Myr-old Exoplanet', Abstract: Very young massive planets are sufficiently luminous by their internal heat of formation to permit detailed studies, including spectroscopy of their atmospheres with large telescopes at sufficient resolution ($\\\\lambda / \\\\Delta \\\\lambda \\\\gtrsim 1000$) to identify major constituents to inform models of\", metadata={}),\n",
              "  0.26380932),\n",
              " (Document(page_content=\"Title: 'Searching for Novel Chemistry in Exoplanetary Atmospheres using Machine Learning for Anomaly Detection', Abstract: The next generation of telescopes will yield a substantial increase in the availability of high-resolution spectroscopic data for thousands of exoplanets. The sheer volume of data and number of planets to be analyzed greatly motivate the development of new, fast and efficient\", metadata={}),\n",
              "  0.29606882),\n",
              " (Document(page_content=\"Title: 'Interior-atmosphere modelling to assess the observability of rocky planets with JWST', Abstract: Context. Super-Earths present compositions dominated by refractory materials. However, there is a degeneracy in their interior structure between a planet that has no atmosphere and a small Fe content, and a planet that has a thin atmosphere and a higher core mass fraction. To break this\", metadata={}),\n",
              "  0.3022144)]"
            ]
          },
          "metadata": {},
          "execution_count": 40
        }
      ]
    },
    {
      "cell_type": "markdown",
      "source": [
        "Here both models give correct answer but the pure Llama-2 elaborates on the topic in more comprehensible way.\n"
      ],
      "metadata": {
        "id": "V3mHp61noC6M"
      }
    },
    {
      "cell_type": "code",
      "source": [
        "llm('What are the latest TESS observations of magnetic hot stars?')"
      ],
      "metadata": {
        "colab": {
          "base_uri": "https://localhost:8080/",
          "height": 247
        },
        "id": "bXdBLivxUNVp",
        "outputId": "f002d744-61ae-4b00-d037-05ffe094551a"
      },
      "execution_count": null,
      "outputs": [
        {
          "output_type": "stream",
          "name": "stderr",
          "text": [
            "/usr/local/lib/python3.10/dist-packages/transformers/pipelines/base.py:1101: UserWarning: You seem to be using the pipelines sequentially on GPU. In order to maximize efficiency please use a dataset\n",
            "  warnings.warn(\n",
            "/usr/local/lib/python3.10/dist-packages/transformers/generation/configuration_utils.py:362: UserWarning: `do_sample` is set to `False`. However, `temperature` is set to `0.0` -- this flag is only used in sample-based generation modes. You should set `do_sample=True` or unset `temperature`.\n",
            "  warnings.warn(\n",
            "/usr/local/lib/python3.10/dist-packages/transformers/generation/configuration_utils.py:367: UserWarning: `do_sample` is set to `False`. However, `top_p` is set to `0.9` -- this flag is only used in sample-based generation modes. You should set `do_sample=True` or unset `top_p`.\n",
            "  warnings.warn(\n"
          ]
        },
        {
          "output_type": "execute_result",
          "data": {
            "text/plain": [
              "'\\n\\nThe Transiting Exoplanet Survey Satellite (TESS) has made numerous observations of magnetic hot stars, providing valuable insights into their properties and behavior. Here are some of the latest TESS observations of magnetic hot stars:\\n\\n1. Magnetic field strengths: TESS has measured the magnetic field strengths of several magnetic hot stars, including the star HD 47368, which has a surface magnetic field of about 2.5 kG (Koch et al. 2020). These measurements have helped to constrain models of magnetic hot star evolution and have provided new insights into the role of magnetic fields in shaping the properties of these stars.\\n2. Rotation periods: TESS has determined the rotation periods of several magnetic hot stars, including the star HD 191611, which rotates every 1.3 days (Huber et al. 2020). These measurements have helped to constrain models of magnetic hot star evolution and have provided new insights into the relationship between magnetic fields and rotation in these stars.\\n3. Starspots: TESS has detected starspots on several magnetic hot stars, including the star HD 47368, which has a large spot that is visible in the TESS light curve (Koch et al. 2020). These observations have provided new insights into the distribution and evolution of starspots on magnetic hot stars.\\n4. Chromospheric activity: TESS has observed chromospheric activity on several magnetic hot stars, including the star HD 191611, which shows strong UV flares and other signs of chromospheric activity (Huber et al. 2020). These observations have provided new insights into the relationship between magnetic fields and chromospheric activity in these stars.\\n5. Coronal activity: TESS has observed coronal activity on several magnetic hot stars, including the star HD 47368, which shows strong X-ray and EUV emission (Koch et al. 2020). These observations have provided new insights into the relationship between magnetic fields and coronal activity in these stars.\\n\\nOverall, the latest TESS observations of magnetic hot stars have provided valuable new insights into the properties and behavior of these stars, and have highlighted the importance of magnetic fields in shaping their'"
            ],
            "application/vnd.google.colaboratory.intrinsic+json": {
              "type": "string"
            }
          },
          "metadata": {},
          "execution_count": 52
        }
      ]
    },
    {
      "cell_type": "code",
      "source": [
        "rag('What are the latest TESS observations of magnetic hot stars?')"
      ],
      "metadata": {
        "colab": {
          "base_uri": "https://localhost:8080/"
        },
        "id": "lS_oJII9UNPi",
        "outputId": "986d2af9-c73d-425a-c5a4-ee86fd30e987"
      },
      "execution_count": null,
      "outputs": [
        {
          "output_type": "stream",
          "name": "stdout",
          "text": [
            "\n",
            "\n",
            "\u001b[1m> Entering new RetrievalQA chain...\u001b[0m\n",
            "\n",
            "\u001b[1m> Finished chain.\u001b[0m\n"
          ]
        },
        {
          "output_type": "execute_result",
          "data": {
            "text/plain": [
              "{'query': 'What are the latest TESS observations of magnetic hot stars?',\n",
              " 'result': ' The latest TESS observations of magnetic hot stars include the photometric variability and stochastic low frequency (SLF) analysis of the LAMOST sample of magnetic chemically peculiar stars, as well as the variability catalog of stars observed during the TESS Prime Mission. These observations provide valuable information about the internal effects of surface magnetic fields in these stars and offer insights into their rotational and pulsational properties.'}"
            ]
          },
          "metadata": {},
          "execution_count": 41
        }
      ]
    },
    {
      "cell_type": "code",
      "source": [
        "dbFaiss.similarity_search_with_score(\n",
        "    'What are the latest TESS observations of magnetic hot stars?',  # the search query\n",
        "    k=4\n",
        ")"
      ],
      "metadata": {
        "colab": {
          "base_uri": "https://localhost:8080/"
        },
        "id": "KNj6K4_ohlZh",
        "outputId": "26247bae-f0df-41fd-e951-e514a858f27e"
      },
      "execution_count": null,
      "outputs": [
        {
          "output_type": "execute_result",
          "data": {
            "text/plain": [
              "[(Document(page_content=\"Title: 'Variability of magnetic hot stars from the TESS observations', Abstract: Magnetic hot stars refer to the stars, which effective temperatures approximately in the range from 7,000 to 50,000 K, and with large-scale globally organized magnetic fields. These magnetic fields exhibit strengths ranging from tens of Gauss to tens of kilo-Gauss. They are key in understanding the effects caused by\", metadata={}),\n",
              "  0.24958429),\n",
              " (Document(page_content='of kilo-Gauss. They are key in understanding the effects caused by magnetic fields in the stellar evolution. However, there are only three magnetic hot stars studied via a combination of spectropolarimetric and asteroseismic modeling. Combined with $Transiting\\\\;Exoplanet\\\\;Survey\\\\;Satellite\\\\;(TESS)$ 1-56 sectors data sets, we provided a photometric variability and stochastic low frequency (SLF)', metadata={}),\n",
              "  0.2839116),\n",
              " (Document(page_content=\"Title: 'Photometric variability of the LAMOST sample of magnetic chemically peculiar stars as seen by TESS', Abstract: Context. High-quality light curves from space-based missions have opened up a new window on the rotational and pulsational properties of magnetic chemically peculiar (mCP) stars and have fuelled asteroseismic studies. They allow the internal effects of surface magnetic fields to\", metadata={}),\n",
              "  0.29505983),\n",
              " (Document(page_content=\"Title: 'Variability Catalog of Stars Observed during the TESS Prime Mission', Abstract: During its 2 yr Prime Mission, TESS observed over 232,000 stars at a 2 minute cadence across ~70% of the sky. These data provide a record of photometric variability across a range of astrophysically interesting timescales, probing stellar rotation, stellar binarity, and pulsations. We have analyzed the TESS 2\", metadata={}),\n",
              "  0.30124125)]"
            ]
          },
          "metadata": {},
          "execution_count": 44
        }
      ]
    },
    {
      "cell_type": "markdown",
      "source": [
        "This question was pretty general and both models answered differently (Llama based on its parametric knowledge only and retriever based on the paper it found relevant)."
      ],
      "metadata": {
        "id": "dl3jon9WUNB1"
      }
    },
    {
      "cell_type": "code",
      "source": [
        "llm('What is IMF function and what is it used for?')"
      ],
      "metadata": {
        "colab": {
          "base_uri": "https://localhost:8080/",
          "height": 123
        },
        "id": "gc5zthqJfqVc",
        "outputId": "6e34802f-51bb-4232-f656-89d78ccc0900"
      },
      "execution_count": null,
      "outputs": [
        {
          "output_type": "execute_result",
          "data": {
            "text/plain": [
              "\"\\n\\nThe IMF (International Monetary Fund) is an international organization that provides financial assistance to countries in economic distress. The IMF's primary function is to provide loans to member countries facing economic difficulties, with the goal of helping them restore stability to their economies and achieve long-term growth.\\n\\nThe IMF also provides policy advice and technical assistance to its member countries, aimed at improving their economic management and promoting economic stability. In addition, the IMF monitors the economic health of its member countries and works to promote global economic cooperation and stability.\\n\\nThe IMF's functions include:\\n\\n1. Providing loans to member countries: The IMF offers loans to member countries facing economic difficulties, with the goal of helping them address short-term financing needs and restore stability to their economies.\\n2. Providing policy advice and technical assistance: The IMF offers advice and assistance on economic policies and institutional reforms to help member countries improve their economic management and achieve long-term growth.\\n3. Monitoring the economic health of member countries: The IMF monitors the economic health of its member countries and assesses their vulnerability to economic shocks, with the goal of identifying potential risks and promoting early intervention.\\n4. Promoting global economic cooperation and stability: The IMF works to promote global economic cooperation and stability by fostering dialogue among its member countries, sharing best practices, and coordinating policy efforts to address common economic challenges.\\n\\nOverall, the IMF plays a critical role in promoting global economic stability and supporting countries in need of economic assistance. Its functions are designed to help member countries address economic challenges, improve their economic management, and achieve long-term growth and development.\""
            ],
            "application/vnd.google.colaboratory.intrinsic+json": {
              "type": "string"
            }
          },
          "metadata": {},
          "execution_count": 31
        }
      ]
    },
    {
      "cell_type": "code",
      "source": [
        "rag('What is IMF function and what is it used for?')"
      ],
      "metadata": {
        "colab": {
          "base_uri": "https://localhost:8080/"
        },
        "id": "VQxG-XZSfxsL",
        "outputId": "466047eb-eca7-4fc1-cf87-251de92dcd89"
      },
      "execution_count": null,
      "outputs": [
        {
          "output_type": "stream",
          "name": "stdout",
          "text": [
            "\n",
            "\n",
            "\u001b[1m> Entering new RetrievalQA chain...\u001b[0m\n",
            "\n",
            "\u001b[1m> Finished chain.\u001b[0m\n"
          ]
        },
        {
          "output_type": "execute_result",
          "data": {
            "text/plain": [
              "{'query': 'What is IMF function and what is it used for?',\n",
              " 'result': ' The IMF stands for Initial Mass Function, which describes how many stars form with different masses when a cloud of gas collapses to form stars. The IMF is typically expressed as a power law relationship between the number of stars and their masses, with more massive stars being less common. The IMF is used to predict the number of stars that will form in a given region of space based on the amount of gas available and other factors such as the strength of the radiation field and the presence of dust.\\n\\nContext: The text discusses the use of the IMF to predict the number of stars that will form in a given region of space, and how the IMF can be affected by factors such as the strength of the radiation field and the presence of dust. The text also mentions that the IMF should be sensitive to dust properties/abundance in weak radiation fields, but not in strong radiation fields.'}"
            ]
          },
          "metadata": {},
          "execution_count": 45
        }
      ]
    },
    {
      "cell_type": "code",
      "source": [
        "dbFaiss.similarity_search_with_score(\n",
        "    'What is IMF function and what is it used for',  # the search query\n",
        "    k=3  # returns top 3 most relevant articles\n",
        ")"
      ],
      "metadata": {
        "colab": {
          "base_uri": "https://localhost:8080/"
        },
        "id": "2nFI8KiNkVhh",
        "outputId": "0ac1da84-24d1-4019-891f-2676a0388de7"
      },
      "execution_count": null,
      "outputs": [
        {
          "output_type": "execute_result",
          "data": {
            "text/plain": [
              "[(Document(page_content='If the radiation field is weak or dust opacity is small, $M_{\\\\rm J}^{\\\\rm min}$ is insensitive to dust properties/abundance ($\\\\sim A_{\\\\rm d}^{-\\\\frac{1}{11}}-A_{\\\\rm d}^{-\\\\frac{1}{15}}$), but if the radiation field is strong and dust is abundant it scales $\\\\propto A_{\\\\rm d}^{1/3}$. This could make the IMF less bottom-heavy in dust-rich and/or radiation-dense environments, e.g. galactic centers,', metadata={}),\n",
              "  0.3419421),\n",
              " (Document(page_content='technique, spectral energy distributions are modeled assuming a stellar initial mass function (IMF) that depends on the temperature of gas in star-forming regions. The method is applied to the largest current sample of high-quality panchromatic photometry, the COSMOS2020 catalog, that allows for testing this assumption. It is found that the galaxies exhibit a continuum of IMF and gas', metadata={}),\n",
              "  0.3549576),\n",
              " (Document(page_content=\"by other means. 2. Update of mama/src/libs/gf2/foldingy.f New SuN excitation response functions for beta+ decay. The beta+ response functions are created with the command 'ry' with option (3). New interpolation between Ex response functions takes into account the two 511 keV photons in beta+ decay. 3. Minor corrections of cosmetic nature.\", metadata={}),\n",
              "  0.39397165)]"
            ]
          },
          "metadata": {},
          "execution_count": 46
        }
      ]
    },
    {
      "cell_type": "markdown",
      "source": [
        "Here IMF in question is actually Initial Mass Function, based on the articles set provided. It's pretty obscure piece of information contained in one of the articles, but RAG finds it without problems. Llama refered to more pupular IMF abbreviation in its answer."
      ],
      "metadata": {
        "id": "7g_zNp6Mqr9T"
      }
    },
    {
      "cell_type": "code",
      "source": [
        "dbFaiss.similarity_search_with_score(\n",
        "    'What is SNCosmo for python?',  # the search query\n",
        "    k=2\n",
        ")"
      ],
      "metadata": {
        "colab": {
          "base_uri": "https://localhost:8080/"
        },
        "id": "YLLGtv0XIvfl",
        "outputId": "d31317c5-2f4c-4d9a-c4ac-90822d67e777"
      },
      "execution_count": null,
      "outputs": [
        {
          "output_type": "execute_result",
          "data": {
            "text/plain": [
              "[(Document(page_content=\"Title: 'SNCosmo', Abstract: Python library for supernova cosmology\", metadata={}),\n",
              "  0.22639911),\n",
              " (Document(page_content=\"Title: 'Python script for stochastic floodplain modeling information system (SFMIS) framework', Abstract: Python script co-built with the GPT-3 tool from scratch for the SFMIS framework. The script handles and treats all the necessary data for: the creation of stochastic samples for 2D flood models by Latin hypercube sampling (LHS); the automated execution and modification of all the hydraulic\", metadata={}),\n",
              "  0.37035748)]"
            ]
          },
          "metadata": {},
          "execution_count": 47
        }
      ]
    },
    {
      "cell_type": "code",
      "source": [
        "dbFaiss.similarity_search_with_score(\n",
        "    'What is SNCosmo ?',  # the search query\n",
        "    k=3\n",
        ")"
      ],
      "metadata": {
        "colab": {
          "base_uri": "https://localhost:8080/"
        },
        "id": "R61H2bSJJCtW",
        "outputId": "f237d90d-2e53-4e56-aacc-da9d71dcc0dc"
      },
      "execution_count": null,
      "outputs": [
        {
          "output_type": "execute_result",
          "data": {
            "text/plain": [
              "[(Document(page_content=\"Title: 'SNCosmo', Abstract: Python library for supernova cosmology\", metadata={}),\n",
              "  0.29331285),\n",
              " (Document(page_content=\"Title: 'A detailed look at the thermal and nonthermal X-ray emission from the Vela supernova remnant with SRG/eROSITA', Abstract: Context. The Vela supernova remnant (SNR) is one of the most nearby and extended objects in the X-ray sky. It constitutes a unique laboratory for studying the thermal and nonthermal X-ray emission from an evolved SNR and its central plerion at an unprecedented level of\", metadata={}),\n",
              "  0.39998147),\n",
              " (Document(page_content=\"Title: 'SN 2020bio: A Double-peaked, H-poor Type IIb Supernova with Evidence of Circumstellar Interaction', Abstract: We present photometric and spectroscopic observations of SN 2020bio, a double-peaked Type IIb supernova (SN) discovered within a day of explosion, primarily obtained by Las Cumbres Observatory and Swift. SN 2020bio displays a rapid and long-lasting initial decline throughout the\", metadata={}),\n",
              "  0.42418817)]"
            ]
          },
          "metadata": {},
          "execution_count": 48
        }
      ]
    },
    {
      "cell_type": "code",
      "source": [
        "llm('What is SNCosmo?')"
      ],
      "metadata": {
        "colab": {
          "base_uri": "https://localhost:8080/",
          "height": 227
        },
        "id": "kQlOsBvYJYJ5",
        "outputId": "aa193bc3-bdbc-4bc3-ad35-3e5fbc98baac"
      },
      "execution_count": null,
      "outputs": [
        {
          "output_type": "execute_result",
          "data": {
            "text/plain": [
              "'\\n\\nSNCosmo is a software tool that helps astronomers and researchers analyze and visualize large datasets from telescopes and other sources. It provides a range of features and functionalities to help users process, visualize, and understand their data. Some of the key features of SNCosmo include:\\n\\n1. Data processing: SNCosmo can handle a wide range of astronomical data formats, including FITS, IRAF, and PyRAF. It provides tools for cleaning, calibrating, and reducing the data, as well as for performing basic analysis tasks such as sky subtraction and flux calibration.\\n2. Visualization: SNCosmo includes a range of visualization tools, including 2D and 3D plotting, image display, and movie generation. Users can customize the appearance of their plots and images, and can also create interactive visualizations using Python scripting.\\n3. Analysis: SNCosmo provides a range of analysis tools for studying the properties of astronomical objects and phenomena. These tools include spectroscopic analysis, photometry, and morphology analysis, among others.\\n4. Integration with other software: SNCosmo is designed to work seamlessly with other popular astronomy software packages, such as IRAF, PyRAF, and Astropy. This allows users to leverage the strengths of each package to perform a wide range of astronomical analyses.\\n5. User-friendly interface: SNCosmo has a user-friendly interface that makes it easy for researchers to use, even if they are not experts in programming or software development. The interface is based on the Python programming language, which is widely used in the scientific community.\\n\\nOverall, SNCosmo is a powerful and flexible tool that can be used for a wide range of astronomical analyses, from simple data reduction to complex simulations and modeling. Its ability to integrate with other software packages and its user-friendly interface make it an ideal choice for researchers who need to analyze and visualize large datasets from telescopes and other sources.'"
            ],
            "application/vnd.google.colaboratory.intrinsic+json": {
              "type": "string"
            }
          },
          "metadata": {},
          "execution_count": 40
        }
      ]
    },
    {
      "cell_type": "code",
      "source": [
        "rag('What is SNCosmo?')"
      ],
      "metadata": {
        "colab": {
          "base_uri": "https://localhost:8080/"
        },
        "id": "gJGvuzhCJn7e",
        "outputId": "d5382c08-f770-4954-b675-3fa2ae071d5d"
      },
      "execution_count": null,
      "outputs": [
        {
          "output_type": "stream",
          "name": "stdout",
          "text": [
            "\n",
            "\n",
            "\u001b[1m> Entering new RetrievalQA chain...\u001b[0m\n"
          ]
        },
        {
          "output_type": "stream",
          "name": "stderr",
          "text": [
            "/usr/local/lib/python3.10/dist-packages/transformers/pipelines/base.py:1083: UserWarning: You seem to be using the pipelines sequentially on GPU. In order to maximize efficiency please use a dataset\n",
            "  warnings.warn(\n"
          ]
        },
        {
          "output_type": "stream",
          "name": "stdout",
          "text": [
            "\n",
            "\u001b[1m> Finished chain.\u001b[0m\n"
          ]
        },
        {
          "output_type": "execute_result",
          "data": {
            "text/plain": [
              "{'query': 'What is SNCosmo?',\n",
              " 'result': ' SNCosmo is a Python library for supernova cosmology.'}"
            ]
          },
          "metadata": {},
          "execution_count": 49
        }
      ]
    },
    {
      "cell_type": "markdown",
      "source": [
        "General question: What is SNCosmo yields just brief information from the article base. LLM by itself gives better answer to the question, while RAG keeps it very close to information retrieved.\n"
      ],
      "metadata": {
        "id": "WWEXacM8vqgC"
      }
    },
    {
      "cell_type": "code",
      "source": [
        "dbFaiss.similarity_search_with_score(\n",
        "    'How are solar winds connected to picoflares?',  # the search query\n",
        "    k=2  # returns top 3 most relevant articles\n",
        ")"
      ],
      "metadata": {
        "colab": {
          "base_uri": "https://localhost:8080/"
        },
        "id": "-jYIsbvutrFQ",
        "outputId": "0d3d5f57-5a23-4fcb-f13c-876eb46fbcb5"
      },
      "execution_count": null,
      "outputs": [
        {
          "output_type": "execute_result",
          "data": {
            "text/plain": [
              "[(Document(page_content=\"Title: 'Picoflare jets power the solar wind emerging from a coronal hole on the Sun', Abstract: Coronal holes are areas on the Sun with open magnetic field lines. They are a source region of the solar wind, but how the wind emerges from coronal holes is not known. We observed a coronal hole using the Extreme Ultraviolet Imager on the Solar Orbiter spacecraft. We identified jets on scales of a few\", metadata={}),\n",
              "  0.25404146),\n",
              " (Document(page_content='hole. We suggest that such picoflare jets could produce enough high-temperature plasma to sustain the solar wind and that the wind emerges from coronal holes as a highly intermittent outflow at small scales.', metadata={}),\n",
              "  0.25763255)]"
            ]
          },
          "metadata": {},
          "execution_count": 50
        }
      ]
    },
    {
      "cell_type": "code",
      "source": [
        "llm('How are solar winds connected to picoflare jets')"
      ],
      "metadata": {
        "colab": {
          "base_uri": "https://localhost:8080/",
          "height": 244
        },
        "id": "pjxPA4I2tq6s",
        "outputId": "a1443cb3-1507-4f06-c4e6-0df5269434a3"
      },
      "execution_count": null,
      "outputs": [
        {
          "output_type": "execute_result",
          "data": {
            "text/plain": [
              "\"?\\n\\nSolar winds and picoflare jets are both high-energy phenomena that occur in the vicinity of the Sun. While they are distinct events, there is some evidence to suggest that they may be connected. Here are some possible ways in which solar winds and picoflare jets might be related:\\n\\n1. Magnetic reconnection: Both solar winds and picoflare jets involve the release of magnetic energy, which can be triggered by magnetic reconnection events. During a magnetic reconnection event, the magnetic field lines in the solar atmosphere break and reconnect, releasing a large amount of energy in the form of heat and radiation. This energy can then drive the acceleration of charged particles, such as electrons and ions, which can produce the observed effects of solar winds and picoflare jets.\\n2. Coronal heating: The corona, the outermost layer of the Sun's atmosphere, is heated to millions of degrees Celsius during a flare or other energetic event. This heating can cause the plasma in the corona to become unstable and break up into smaller, hotter fragments, which can then accelerate away from the Sun as solar winds. The energy released during a flare can also drive the formation of picoflare jets, which are small-scale versions of the larger flares.\\n3. Plasma instabilities: As mentioned above, the plasma in the corona can become unstable and break up into smaller fragments during a flare or other energetic event. These fragments can then accelerate away from the Sun as solar winds, while the remaining plasma can continue to glow in the X-ray and EUV bands, producing the observed effects of a picoflare jet.\\n4. Magnetic field structure: The magnetic field of the Sun is complex and dynamic, with many loops and arches that can store and release magnetic energy. During a flare or other energetic event, these magnetic fields can become distorted and broken, leading to the release of magnetic energy that can drive the acceleration of charged particles and the formation of solar winds and picoflare jets.\\n\\nIn summary, solar winds and picoflare jets are both high-energy phenomena that occur in the vicinity of the Sun, and they may be connected through various physical mechanisms, such as magnetic reconnection, coronal he\""
            ],
            "application/vnd.google.colaboratory.intrinsic+json": {
              "type": "string"
            }
          },
          "metadata": {},
          "execution_count": 100
        }
      ]
    },
    {
      "cell_type": "code",
      "source": [
        "rag('How are solar winds connected to picoflare jets?')"
      ],
      "metadata": {
        "colab": {
          "base_uri": "https://localhost:8080/"
        },
        "id": "ciIUNHVPtqmC",
        "outputId": "2497544e-7609-4648-fcee-6b45baccb308"
      },
      "execution_count": null,
      "outputs": [
        {
          "output_type": "stream",
          "name": "stdout",
          "text": [
            "\n",
            "\n",
            "\u001b[1m> Entering new RetrievalQA chain...\u001b[0m\n",
            "\n",
            "\u001b[1m> Finished chain.\u001b[0m\n"
          ]
        },
        {
          "output_type": "execute_result",
          "data": {
            "text/plain": [
              "{'query': 'How are solar winds connected to picoflare jets?',\n",
              " 'result': ' Picoflare jets are powered by magnetic reconnection and have kinetic energy in the picoflare range. They are intermittent but widespread within the observed coronal hole.'}"
            ]
          },
          "metadata": {},
          "execution_count": 51
        }
      ]
    },
    {
      "cell_type": "markdown",
      "source": [
        "RAG gives concrete answer based on recent paper whereas LLM mostly rambles on."
      ],
      "metadata": {
        "id": "chCzFPYM6BVT"
      }
    },
    {
      "cell_type": "markdown",
      "source": [
        "Summary:\n",
        "\n",
        "Vector store component of RAG system seems to perform well, especially when chunks of text are not too big (400 tokens). The answers produced by RAG seem slightly more succinct than with pure Llama which uses its parametric knowledge to enrich the answer."
      ],
      "metadata": {
        "id": "BBlo_fMyUMSE"
      }
    },
    {
      "cell_type": "code",
      "source": [],
      "metadata": {
        "id": "sW3JIaFWwqbn"
      },
      "execution_count": null,
      "outputs": []
    }
  ]
}